{
 "cells": [
  {
   "cell_type": "markdown",
   "id": "056758cb",
   "metadata": {},
   "source": [
    "# STM Transit Delay Data Preparation"
   ]
  },
  {
   "cell_type": "markdown",
   "id": "e8706868",
   "metadata": {},
   "source": [
    "## Overview"
   ]
  },
  {
   "cell_type": "markdown",
   "id": "3d911d34",
   "metadata": {},
   "source": [
    "This notebook merges data from multiple sources and prepares it for data analysis and/or preprocessing."
   ]
  },
  {
   "cell_type": "markdown",
   "id": "a6bc184d",
   "metadata": {},
   "source": [
    "## Data description"
   ]
  },
  {
   "cell_type": "markdown",
   "id": "b7358fab",
   "metadata": {},
   "source": [
    "### Real-time Trip Updates"
   ]
  },
  {
   "cell_type": "markdown",
   "id": "d5c2ee8a",
   "metadata": {},
   "source": [
    "`current_time`: Timestamp when the data was fetched from the GTFS, in microseconds.<br>\n",
    "`trip_id`: Unique identifier for the transit trip.<br>\n",
    "`route_id`: Unique identifier for a bus or metro line.<br>\n",
    "`start_date`: Start date of the transit trip.<br>\n",
    "`stop_id`: Unique identifier of a stop.<br>\n",
    "`arrival_time`, `departure_time`: Realtime arrival and departure time, in microseconds<br>\n",
    "`schedule_relationship`: State of the trip, 0 meaning \"scheduled\", 1 meaning \"skipped\" and 2 meaning \"no data\"."
   ]
  },
  {
   "cell_type": "markdown",
   "id": "d28e04ef",
   "metadata": {},
   "source": [
    "### Scheduled STM Trips"
   ]
  },
  {
   "cell_type": "markdown",
   "id": "bb31f7ab",
   "metadata": {},
   "source": [
    "`trip_id`: Unique identifier for the transit trip.<br>\n",
    "`arrival_time`, `departure_time`: Scheduled arrival and departure time.<br>\n",
    "`stop_id`: Unique identifier of a stop.<br>\n",
    "`stop_sequence`: Sequence of a stop, for ordering."
   ]
  },
  {
   "cell_type": "markdown",
   "id": "bc749154",
   "metadata": {},
   "source": [
    "### STM Stops"
   ]
  },
  {
   "cell_type": "markdown",
   "id": "a40b660a",
   "metadata": {},
   "source": [
    "`stop_id`: Unique identifier of a stop.<br>\n",
    "`stop_code`: Bus stop or metro station number.<br>\n",
    "`stop_name`: Bus stop or metro station name<br>\n",
    "`stop_lat`, `stop_lon`: Stop coordinates.<br>\n",
    "`stop_url`: Stop web page.<br>\n",
    "`location_type`: Stop type.<br>\n",
    "`parent_station`: Parent station (metro station with multiple exits).<br>\n",
    "`wheelchair_boarding`: Indicates if the stop is accessible for people in wheelchair, 1 being true and 2 being false."
   ]
  },
  {
   "cell_type": "markdown",
   "id": "4608bc4a",
   "metadata": {},
   "source": [
    "### Real-time Vehicle Positions"
   ]
  },
  {
   "cell_type": "markdown",
   "id": "c11c6a01",
   "metadata": {},
   "source": [
    "`current_time`: Timestamp when the data was fetched from the GTFS, in microseconds.<br>\n",
    "`vehicle_id`: Unique identifier for a vehicle.<br>\n",
    "`trip_id`: Unique identifier for the transit trip.<br>\n",
    "`route_id`: Unique identifier for a bus or metro line.<br>\n",
    "`start_date`: Start date of a transit trip.<br>\n",
    "`start_time`: Start time of a transit trip.<br>\n",
    "`latitude`, `longitude`: Vehicle current position.<br>\n",
    "`bearing`: Direction that the vehicle is facing, from 0 to 360 degrees.<br>\n",
    "`speed`: Momentary speed measured by the vehicle, in meters per second.<br>\n",
    "`stop_sequence`: Sequence of a stop, for ordering.<br>\n",
    "`status`: Vehicle stop status in relation with a stop that it's currently approaching or is at, 1 being \"stopped at\" and 2 being \"in transit to\".<br>\n",
    "`timestamp`: Timestamp when STM updated the data, in milliseconds.<br>\n",
    "`occupancy_status`: Degree of passenger occupancy, ranging from 1 (empty) to 7 (not accepting passengers)."
   ]
  },
  {
   "cell_type": "markdown",
   "id": "cbdfe609",
   "metadata": {},
   "source": [
    "### Service Alerts"
   ]
  },
  {
   "cell_type": "markdown",
   "id": "fa2a8460",
   "metadata": {},
   "source": [
    "`start_time`: Start time of the alert, in microseconds.<br>\n",
    "`end_time`: End time of the alert, in microseconds.<br>\n",
    "`route_id`: Unique identifier for a bus or metro line.<br>\n",
    "`stop_id`: Unique identifier of a stop."
   ]
  },
  {
   "cell_type": "markdown",
   "id": "042db663",
   "metadata": {},
   "source": [
    "### Weather Archive and Forecast"
   ]
  },
  {
   "cell_type": "markdown",
   "id": "3ccfdc47",
   "metadata": {},
   "source": [
    "`time`: Date and hour or the weather.<br>\n",
    "`temperature`: Air temperature at 2 meters above ground, in Celsius.<br>\n",
    "`precipitation`: Total precipitation (rain, showers, snow) sum of the preceding hour, in millimeters.<br>\n",
    "`windspeed`: Wind speed at 10 meters above ground, in kilometers per hour.<br>\n",
    "`weathercode`: World Meteorological Organization (WMO) code, see [Open-Meteo API documentation](https://open-meteo.com/en/docs#weather_variable_documentation) for the list."
   ]
  },
  {
   "cell_type": "markdown",
   "id": "268c0ac0",
   "metadata": {},
   "source": [
    "### Traffic Incidents"
   ]
  },
  {
   "cell_type": "markdown",
   "id": "72e73a05",
   "metadata": {},
   "source": [
    "`category`: Category of the incident.<br>\n",
    "`start_time`: Start time of the incident, in ISO8601 format.<br>\n",
    "`end_time`: End time of the incident, in ISO8601 format.<br>\n",
    "`length`: Length of the incident in meters.<br>\n",
    "`delay`: Delay in seconds caused by the incident (except road closures).<br>\n",
    "`magnitude_of_delay`: Severity of the delay, ranging from 0 to 4 (minor to major).<br>\n",
    "`last_report_time`: Date when the last time the incident was reported,in ISO8601 format.<br>\n",
    "`latitude`, `longitude`: Coordinates of the incident."
   ]
  },
  {
   "cell_type": "markdown",
   "id": "3ca39527",
   "metadata": {},
   "source": [
    "## Imports"
   ]
  },
  {
   "cell_type": "code",
   "execution_count": 1,
   "id": "a0a7cafd",
   "metadata": {},
   "outputs": [],
   "source": [
    "from datetime import datetime, timedelta, timezone\n",
    "from haversine import haversine, Unit\n",
    "import numpy as np\n",
    "import pandas as pd\n",
    "import sys"
   ]
  },
  {
   "cell_type": "code",
   "execution_count": 2,
   "id": "faad2700",
   "metadata": {},
   "outputs": [],
   "source": [
    "# Import custom code\n",
    "sys.path.insert(0, '..')\n",
    "from scripts.custom_functions import fetch_weather, LOCAL_TIMEZONE, OCCUPANCY_STATUS, SCHEDULE_RELATIONSHIP, WEATHER_CODES"
   ]
  },
  {
   "cell_type": "code",
   "execution_count": null,
   "id": "786cc667",
   "metadata": {},
   "outputs": [],
   "source": [
    "# Import data\n",
    "trips_df = pd.read_csv('../data/api/fetched_stm_trip_updates.csv', low_memory=False)\n",
    "schedules_df = pd.read_csv('../data/download/stop_times_2025-04-30.txt')\n",
    "stops_df = pd.read_csv('../data/download/stops_2025-04-30.txt')\n",
    "positions_df =  pd.read_csv('../data/api/fetched_stm_vehicle_positions.csv', low_memory=False)\n",
    "alerts_df = pd.read_csv('../data/api/fetched_stm_service_alerts.csv')\n",
    "weather_df = pd.read_csv('../data/api/fetched_historical_weather.csv')\n",
    "traffic_df = pd.read_csv('../data/api/fetched_traffic.csv')"
   ]
  },
  {
   "cell_type": "markdown",
   "id": "b3864f9b",
   "metadata": {},
   "source": [
    "## Merge Data"
   ]
  },
  {
   "cell_type": "markdown",
   "id": "026d79ac",
   "metadata": {},
   "source": [
    "### Schedules and stops"
   ]
  },
  {
   "cell_type": "code",
   "execution_count": 4,
   "id": "4434500e",
   "metadata": {},
   "outputs": [],
   "source": [
    "# Sort values by stop sequence\n",
    "schedules_df = schedules_df.sort_values(by=['trip_id', 'stop_sequence'])"
   ]
  },
  {
   "cell_type": "code",
   "execution_count": 6,
   "id": "c7baabb0",
   "metadata": {},
   "outputs": [],
   "source": [
    "# Reset stop sequences (some stops might be missing)\n",
    "schedules_df['stop_sequence'] = schedules_df.groupby('trip_id').cumcount() + 1"
   ]
  },
  {
   "cell_type": "code",
   "execution_count": 7,
   "id": "176567e5",
   "metadata": {},
   "outputs": [],
   "source": [
    "# Add trip progress (vehicles further along the trip are more likely to be delayed)\n",
    "total_stops = schedules_df.groupby('trip_id')['stop_id'].transform('count')\n",
    "schedules_df['trip_progress'] = schedules_df['stop_sequence'] / total_stops"
   ]
  },
  {
   "cell_type": "code",
   "execution_count": 8,
   "id": "e8adfad6",
   "metadata": {},
   "outputs": [
    {
     "data": {
      "text/plain": [
       "count    6.629625e+06\n",
       "mean     5.139220e-01\n",
       "std      2.887289e-01\n",
       "min      8.547009e-03\n",
       "25%      2.631579e-01\n",
       "50%      5.142857e-01\n",
       "75%      7.647059e-01\n",
       "max      1.000000e+00\n",
       "Name: trip_progress, dtype: float64"
      ]
     },
     "execution_count": 8,
     "metadata": {},
     "output_type": "execute_result"
    }
   ],
   "source": [
    "# Get distribution of trip progress\n",
    "schedules_df['trip_progress'].describe()"
   ]
  },
  {
   "cell_type": "code",
   "execution_count": 9,
   "id": "f856eb46",
   "metadata": {},
   "outputs": [],
   "source": [
    "# Merge schedules and stops\n",
    "schedules_stops_df = pd.merge(left=schedules_df, right=stops_df, how='inner', left_on='stop_id', right_on='stop_code')"
   ]
  },
  {
   "cell_type": "code",
   "execution_count": 10,
   "id": "a827a8b9",
   "metadata": {},
   "outputs": [
    {
     "data": {
      "text/plain": [
       "Index(['trip_id', 'arrival_time', 'departure_time', 'stop_id_x',\n",
       "       'stop_sequence', 'trip_progress', 'stop_id_y', 'stop_code', 'stop_name',\n",
       "       'stop_lat', 'stop_lon', 'stop_url', 'location_type', 'parent_station',\n",
       "       'wheelchair_boarding'],\n",
       "      dtype='object')"
      ]
     },
     "execution_count": 10,
     "metadata": {},
     "output_type": "execute_result"
    }
   ],
   "source": [
    "schedules_stops_df.columns"
   ]
  },
  {
   "cell_type": "code",
   "execution_count": 11,
   "id": "ba369991",
   "metadata": {},
   "outputs": [],
   "source": [
    "# Rename stop id and drop other stop id columns\n",
    "schedules_stops_df = schedules_stops_df.rename(columns={'stop_id_x': 'stop_id'})\n",
    "schedules_stops_df = schedules_stops_df.drop(['stop_id_y', 'stop_code'], axis=1)"
   ]
  },
  {
   "cell_type": "code",
   "execution_count": 12,
   "id": "bf47cb3c",
   "metadata": {},
   "outputs": [],
   "source": [
    "# Get coordinates of previous stop\n",
    "schedules_stops_df = schedules_stops_df.sort_values(by=['trip_id', 'stop_sequence'])\n",
    "schedules_stops_df['prev_lat'] = schedules_stops_df.groupby('trip_id')['stop_lat'].shift(1)\n",
    "schedules_stops_df['prev_lon'] = schedules_stops_df.groupby('trip_id')['stop_lon'].shift(1)"
   ]
  },
  {
   "cell_type": "code",
   "execution_count": 13,
   "id": "c44a7ef8",
   "metadata": {},
   "outputs": [],
   "source": [
    "# Make sure the null values are from first stops\n",
    "prev_null_mask = (schedules_stops_df['prev_lat'].isna()) | (schedules_stops_df['prev_lon'].isna())\n",
    "first_stop_mask = schedules_stops_df['stop_sequence'] == 1\n",
    "assert prev_null_mask.sum() == first_stop_mask.sum()"
   ]
  },
  {
   "cell_type": "code",
   "execution_count": 14,
   "id": "f9b0b6d7",
   "metadata": {},
   "outputs": [],
   "source": [
    "# Get distance from previous stop\n",
    "schedules_stops_df['stop_distance'] = schedules_stops_df.apply(\n",
    "  lambda row: haversine((row['prev_lat'], row['prev_lon']), (row['stop_lat'], row['stop_lon']), unit=Unit.METERS),\n",
    "  axis=1\n",
    ")"
   ]
  },
  {
   "cell_type": "code",
   "execution_count": 15,
   "id": "81aac6e6",
   "metadata": {},
   "outputs": [],
   "source": [
    "# Drop previous coordinates\n",
    "schedules_stops_df = schedules_stops_df.drop(['prev_lat', 'prev_lon'], axis=1)"
   ]
  },
  {
   "cell_type": "code",
   "execution_count": 16,
   "id": "ecd75d21",
   "metadata": {},
   "outputs": [],
   "source": [
    "# Replace null distances by zero (first stop of the trip)\n",
    "schedules_stops_df['stop_distance'] = schedules_stops_df['stop_distance'].fillna(0)"
   ]
  },
  {
   "cell_type": "code",
   "execution_count": 17,
   "id": "f7c9b09d",
   "metadata": {},
   "outputs": [
    {
     "data": {
      "text/plain": [
       "count    6.388741e+06\n",
       "mean     2.737270e+02\n",
       "std      4.968967e+02\n",
       "min      0.000000e+00\n",
       "25%      1.699571e+02\n",
       "50%      2.269746e+02\n",
       "75%      2.988377e+02\n",
       "max      1.376798e+04\n",
       "Name: stop_distance, dtype: float64"
      ]
     },
     "execution_count": 17,
     "metadata": {},
     "output_type": "execute_result"
    }
   ],
   "source": [
    "schedules_stops_df['stop_distance'].describe()"
   ]
  },
  {
   "cell_type": "code",
   "execution_count": 18,
   "id": "2069b73c",
   "metadata": {},
   "outputs": [
    {
     "data": {
      "text/plain": [
       "trip_id                                                  281377832\n",
       "arrival_time                                              05:33:00\n",
       "departure_time                                            05:33:00\n",
       "stop_id                                                      61261\n",
       "stop_sequence                                                   13\n",
       "trip_progress                                                  1.0\n",
       "stop_name                            YUL Aéroport Montréal-Trudeau\n",
       "stop_lat                                                 45.456622\n",
       "stop_lon                                                -73.751615\n",
       "stop_url               https://www.stm.info/fr/recherche#stq=61261\n",
       "location_type                                                    0\n",
       "parent_station                                                 NaN\n",
       "wheelchair_boarding                                              1\n",
       "stop_distance                                          13767.98028\n",
       "Name: 124692, dtype: object"
      ]
     },
     "execution_count": 18,
     "metadata": {},
     "output_type": "execute_result"
    }
   ],
   "source": [
    "# Get stop with largest distance\n",
    "schedules_stops_df.iloc[schedules_stops_df['stop_distance'].idxmax()]"
   ]
  },
  {
   "cell_type": "markdown",
   "id": "0f5e5b5a",
   "metadata": {},
   "source": [
    "After checking in the STM website, the large distance make sense because the bus stops before or after the airport are far away."
   ]
  },
  {
   "cell_type": "markdown",
   "id": "2ab97d0d",
   "metadata": {},
   "source": [
    "### Realtime and Scheduled Trips"
   ]
  },
  {
   "cell_type": "code",
   "execution_count": 19,
   "id": "344ab184",
   "metadata": {},
   "outputs": [],
   "source": [
    "# Convert route_id to integer\n",
    "trips_df['route_id'] = trips_df['route_id'].str.extract(r'(\\d+)')\n",
    "trips_df['route_id'] = trips_df['route_id'].astype('int64')"
   ]
  },
  {
   "cell_type": "code",
   "execution_count": 22,
   "id": "737976cb",
   "metadata": {},
   "outputs": [
    {
     "name": "stdout",
     "output_type": "stream",
     "text": [
      "10.15%\n"
     ]
    }
   ],
   "source": [
    "# Get proportion of duplicates\n",
    "subset = trips_df.drop('current_time', axis=1).columns\n",
    "duplicate_mask = trips_df.duplicated(subset=subset)\n",
    "print(f'{duplicate_mask.mean():.2%}')"
   ]
  },
  {
   "cell_type": "code",
   "execution_count": 23,
   "id": "7805dc80",
   "metadata": {},
   "outputs": [],
   "source": [
    "# Remove duplicates\n",
    "trips_df = trips_df.drop_duplicates(subset=subset)"
   ]
  },
  {
   "cell_type": "code",
   "execution_count": 24,
   "id": "81c783bd",
   "metadata": {},
   "outputs": [],
   "source": [
    "# Rename arrival and departure time\n",
    "trips_df = trips_df.rename(columns={'arrival_time': 'rt_arrival_time','departure_time': 'rt_departure_time'})"
   ]
  },
  {
   "cell_type": "code",
   "execution_count": 25,
   "id": "38b0d876",
   "metadata": {},
   "outputs": [],
   "source": [
    "# Merge trip updates with schedule\n",
    "stm_trips_df = pd.merge(left=trips_df, right=schedules_stops_df, how='inner', on=['trip_id', 'stop_id'])"
   ]
  },
  {
   "cell_type": "code",
   "execution_count": 26,
   "id": "6b3231d1",
   "metadata": {},
   "outputs": [
    {
     "data": {
      "text/plain": [
       "Index(['current_time', 'trip_id', 'route_id', 'start_date', 'stop_id',\n",
       "       'rt_arrival_time', 'rt_departure_time', 'schedule_relationship',\n",
       "       'arrival_time', 'departure_time', 'stop_sequence', 'trip_progress',\n",
       "       'stop_name', 'stop_lat', 'stop_lon', 'stop_url', 'location_type',\n",
       "       'parent_station', 'wheelchair_boarding', 'stop_distance'],\n",
       "      dtype='object')"
      ]
     },
     "execution_count": 26,
     "metadata": {},
     "output_type": "execute_result"
    }
   ],
   "source": [
    "stm_trips_df.columns"
   ]
  },
  {
   "cell_type": "code",
   "execution_count": 27,
   "id": "7e78e8ff",
   "metadata": {},
   "outputs": [],
   "source": [
    "# Convert start_date to datetime\n",
    "stm_trips_df['start_date_dt'] = pd.to_datetime(stm_trips_df['start_date'], format='%Y%m%d')"
   ]
  },
  {
   "cell_type": "code",
   "execution_count": 28,
   "id": "0cda96f4",
   "metadata": {},
   "outputs": [],
   "source": [
    "def parse_gtfs_time(start_date:pd.Timestamp, stop_time:str) -> pd.Timestamp:\n",
    "\t'''\n",
    "\tConverts GTFS time string (e.g., '25:30:00') to datetime\n",
    "\tbased on the arrival time.\n",
    "\t'''\n",
    "\thours, minutes, seconds = map(int, stop_time.split(':'))\n",
    "\ttotal_seconds = hours * 3600 + minutes * 60 + seconds\n",
    "\n",
    "\tparsed_time = start_date + timedelta(seconds=total_seconds)\n",
    "\treturn parsed_time"
   ]
  },
  {
   "cell_type": "code",
   "execution_count": 29,
   "id": "69cd48ca",
   "metadata": {},
   "outputs": [],
   "source": [
    "# Parse GTFS scheduled arrival and departure time\n",
    "parsed_arrival_time = stm_trips_df.apply(lambda row: parse_gtfs_time(row['start_date_dt'], row['arrival_time']), axis=1)\n",
    "parsed_departure_time = stm_trips_df.apply(lambda row: parse_gtfs_time(row['start_date_dt'], row['departure_time']), axis=1)"
   ]
  },
  {
   "cell_type": "code",
   "execution_count": 30,
   "id": "c4a0c55e",
   "metadata": {},
   "outputs": [],
   "source": [
    "# Convert scheduled arrival and departure time to UTC datetime\n",
    "sch_arrival_time_local = parsed_arrival_time.dt.tz_localize(LOCAL_TIMEZONE)\n",
    "sch_departure_time_local = parsed_departure_time.dt.tz_localize(LOCAL_TIMEZONE)\n",
    "\n",
    "stm_trips_df['sch_arrival_time'] = sch_arrival_time_local.dt.tz_convert(timezone.utc)\n",
    "stm_trips_df['sch_departure_time'] = sch_departure_time_local.dt.tz_convert(timezone.utc)"
   ]
  },
  {
   "cell_type": "code",
   "execution_count": 31,
   "id": "5a9960bc",
   "metadata": {},
   "outputs": [],
   "source": [
    "# Convert realtime arrival and departure time to UTC datetime\n",
    "stm_trips_df['rt_arrival_time'] = pd.to_datetime(stm_trips_df['rt_arrival_time'] * 1000, origin='unix', unit='ms', utc=True)\n",
    "stm_trips_df['rt_departure_time'] = pd.to_datetime(stm_trips_df['rt_departure_time'] * 1000, origin='unix', unit='ms', utc=True)"
   ]
  },
  {
   "cell_type": "code",
   "execution_count": 32,
   "id": "52efbb53",
   "metadata": {},
   "outputs": [
    {
     "data": {
      "application/vnd.microsoft.datawrangler.viewer.v0+json": {
       "columns": [
        {
         "name": "index",
         "rawType": "object",
         "type": "string"
        },
        {
         "name": "rt_arrival_time",
         "rawType": "object",
         "type": "unknown"
        },
        {
         "name": "rt_departure_time",
         "rawType": "object",
         "type": "unknown"
        }
       ],
       "conversionMethod": "pd.DataFrame",
       "ref": "f3322f07-5183-436f-9c55-051892b8962f",
       "rows": [
        [
         "count",
         "4231901",
         "4231901"
        ],
        [
         "mean",
         "2022-09-22 04:16:03.703160832+00:00",
         "2022-04-01 10:11:16.473557760+00:00"
        ],
        [
         "min",
         "1970-01-01 00:00:00+00:00",
         "1970-01-01 00:00:00+00:00"
        ],
        [
         "25%",
         "2025-04-29 10:30:41+00:00",
         "2025-04-29 08:40:26+00:00"
        ],
        [
         "50%",
         "2025-04-30 19:53:00+00:00",
         "2025-04-30 19:21:00+00:00"
        ],
        [
         "75%",
         "2025-05-02 11:50:49+00:00",
         "2025-05-02 11:35:19+00:00"
        ],
        [
         "max",
         "2025-05-04 03:00:00+00:00",
         "2025-05-04 02:56:00+00:00"
        ]
       ],
       "shape": {
        "columns": 2,
        "rows": 7
       }
      },
      "text/html": [
       "<div>\n",
       "<style scoped>\n",
       "    .dataframe tbody tr th:only-of-type {\n",
       "        vertical-align: middle;\n",
       "    }\n",
       "\n",
       "    .dataframe tbody tr th {\n",
       "        vertical-align: top;\n",
       "    }\n",
       "\n",
       "    .dataframe thead th {\n",
       "        text-align: right;\n",
       "    }\n",
       "</style>\n",
       "<table border=\"1\" class=\"dataframe\">\n",
       "  <thead>\n",
       "    <tr style=\"text-align: right;\">\n",
       "      <th></th>\n",
       "      <th>rt_arrival_time</th>\n",
       "      <th>rt_departure_time</th>\n",
       "    </tr>\n",
       "  </thead>\n",
       "  <tbody>\n",
       "    <tr>\n",
       "      <th>count</th>\n",
       "      <td>4231901</td>\n",
       "      <td>4231901</td>\n",
       "    </tr>\n",
       "    <tr>\n",
       "      <th>mean</th>\n",
       "      <td>2022-09-22 04:16:03.703160832+00:00</td>\n",
       "      <td>2022-04-01 10:11:16.473557760+00:00</td>\n",
       "    </tr>\n",
       "    <tr>\n",
       "      <th>min</th>\n",
       "      <td>1970-01-01 00:00:00+00:00</td>\n",
       "      <td>1970-01-01 00:00:00+00:00</td>\n",
       "    </tr>\n",
       "    <tr>\n",
       "      <th>25%</th>\n",
       "      <td>2025-04-29 10:30:41+00:00</td>\n",
       "      <td>2025-04-29 08:40:26+00:00</td>\n",
       "    </tr>\n",
       "    <tr>\n",
       "      <th>50%</th>\n",
       "      <td>2025-04-30 19:53:00+00:00</td>\n",
       "      <td>2025-04-30 19:21:00+00:00</td>\n",
       "    </tr>\n",
       "    <tr>\n",
       "      <th>75%</th>\n",
       "      <td>2025-05-02 11:50:49+00:00</td>\n",
       "      <td>2025-05-02 11:35:19+00:00</td>\n",
       "    </tr>\n",
       "    <tr>\n",
       "      <th>max</th>\n",
       "      <td>2025-05-04 03:00:00+00:00</td>\n",
       "      <td>2025-05-04 02:56:00+00:00</td>\n",
       "    </tr>\n",
       "  </tbody>\n",
       "</table>\n",
       "</div>"
      ],
      "text/plain": [
       "                           rt_arrival_time  \\\n",
       "count                              4231901   \n",
       "mean   2022-09-22 04:16:03.703160832+00:00   \n",
       "min              1970-01-01 00:00:00+00:00   \n",
       "25%              2025-04-29 10:30:41+00:00   \n",
       "50%              2025-04-30 19:53:00+00:00   \n",
       "75%              2025-05-02 11:50:49+00:00   \n",
       "max              2025-05-04 03:00:00+00:00   \n",
       "\n",
       "                         rt_departure_time  \n",
       "count                              4231901  \n",
       "mean   2022-04-01 10:11:16.473557760+00:00  \n",
       "min              1970-01-01 00:00:00+00:00  \n",
       "25%              2025-04-29 08:40:26+00:00  \n",
       "50%              2025-04-30 19:21:00+00:00  \n",
       "75%              2025-05-02 11:35:19+00:00  \n",
       "max              2025-05-04 02:56:00+00:00  "
      ]
     },
     "execution_count": 32,
     "metadata": {},
     "output_type": "execute_result"
    }
   ],
   "source": [
    "# Get distribution of realtime timestamps\n",
    "stm_trips_df[['rt_arrival_time', 'rt_departure_time']].describe()"
   ]
  },
  {
   "cell_type": "code",
   "execution_count": 33,
   "id": "18fa2574",
   "metadata": {},
   "outputs": [],
   "source": [
    "# The 0 timestamps have been replaced with 1970-01-01 \n",
    "zero_arrival_time = stm_trips_df['rt_arrival_time'].dt.year == 1970\n",
    "zero_departure_time = stm_trips_df['rt_departure_time'].dt.year == 1970\n",
    "first_stop = stm_trips_df['stop_sequence'] == 1\n",
    "last_stop = stm_trips_df['trip_progress'] == 1"
   ]
  },
  {
   "cell_type": "code",
   "execution_count": 34,
   "id": "65e33e64",
   "metadata": {},
   "outputs": [],
   "source": [
    "# For first stops, replace 0 departure time with scheduled time\n",
    "stm_trips_df.loc[(first_stop & zero_departure_time), 'rt_departure_time'] = stm_trips_df.loc[(first_stop & zero_departure_time), 'sch_departure_time']"
   ]
  },
  {
   "cell_type": "code",
   "execution_count": 35,
   "id": "3ae7c7de",
   "metadata": {},
   "outputs": [],
   "source": [
    "# For last stops, replace 0 arrival time with scheduled time\n",
    "stm_trips_df.loc[(last_stop & zero_arrival_time), 'rt_arrival_time'] = stm_trips_df.loc[(last_stop & zero_arrival_time), 'sch_arrival_time']"
   ]
  },
  {
   "cell_type": "code",
   "execution_count": 36,
   "id": "14a29d41",
   "metadata": {},
   "outputs": [],
   "source": [
    "# For other stops, replace 0 arrival time with scheduled time\n",
    "stm_trips_df.loc[(~first_stop & ~last_stop & zero_arrival_time), 'rt_arrival_time'] = \\\n",
    "\tstm_trips_df.loc[(~first_stop & ~last_stop & zero_arrival_time), 'sch_arrival_time']"
   ]
  },
  {
   "cell_type": "code",
   "execution_count": 37,
   "id": "f432ebf2",
   "metadata": {},
   "outputs": [
    {
     "data": {
      "application/vnd.microsoft.datawrangler.viewer.v0+json": {
       "columns": [
        {
         "name": "index",
         "rawType": "object",
         "type": "string"
        },
        {
         "name": "rt_arrival_time",
         "rawType": "object",
         "type": "unknown"
        },
        {
         "name": "rt_departure_time",
         "rawType": "object",
         "type": "unknown"
        }
       ],
       "conversionMethod": "pd.DataFrame",
       "ref": "8c4266ba-b5f3-4aeb-bb77-a177d500f747",
       "rows": [
        [
         "count",
         "4231901",
         "4231901"
        ],
        [
         "mean",
         "2024-01-15 18:19:01.991859200+00:00",
         "2022-05-17 06:45:26.211661568+00:00"
        ],
        [
         "min",
         "1970-01-01 00:00:00+00:00",
         "1970-01-01 00:00:00+00:00"
        ],
        [
         "25%",
         "2025-04-29 12:17:34+00:00",
         "2025-04-29 09:23:58+00:00"
        ],
        [
         "50%",
         "2025-04-30 20:53:30+00:00",
         "2025-04-30 19:26:32+00:00"
        ],
        [
         "75%",
         "2025-05-02 12:18:45+00:00",
         "2025-05-02 11:37:51+00:00"
        ],
        [
         "max",
         "2025-05-04 03:00:00+00:00",
         "2025-05-04 02:56:00+00:00"
        ]
       ],
       "shape": {
        "columns": 2,
        "rows": 7
       }
      },
      "text/html": [
       "<div>\n",
       "<style scoped>\n",
       "    .dataframe tbody tr th:only-of-type {\n",
       "        vertical-align: middle;\n",
       "    }\n",
       "\n",
       "    .dataframe tbody tr th {\n",
       "        vertical-align: top;\n",
       "    }\n",
       "\n",
       "    .dataframe thead th {\n",
       "        text-align: right;\n",
       "    }\n",
       "</style>\n",
       "<table border=\"1\" class=\"dataframe\">\n",
       "  <thead>\n",
       "    <tr style=\"text-align: right;\">\n",
       "      <th></th>\n",
       "      <th>rt_arrival_time</th>\n",
       "      <th>rt_departure_time</th>\n",
       "    </tr>\n",
       "  </thead>\n",
       "  <tbody>\n",
       "    <tr>\n",
       "      <th>count</th>\n",
       "      <td>4231901</td>\n",
       "      <td>4231901</td>\n",
       "    </tr>\n",
       "    <tr>\n",
       "      <th>mean</th>\n",
       "      <td>2024-01-15 18:19:01.991859200+00:00</td>\n",
       "      <td>2022-05-17 06:45:26.211661568+00:00</td>\n",
       "    </tr>\n",
       "    <tr>\n",
       "      <th>min</th>\n",
       "      <td>1970-01-01 00:00:00+00:00</td>\n",
       "      <td>1970-01-01 00:00:00+00:00</td>\n",
       "    </tr>\n",
       "    <tr>\n",
       "      <th>25%</th>\n",
       "      <td>2025-04-29 12:17:34+00:00</td>\n",
       "      <td>2025-04-29 09:23:58+00:00</td>\n",
       "    </tr>\n",
       "    <tr>\n",
       "      <th>50%</th>\n",
       "      <td>2025-04-30 20:53:30+00:00</td>\n",
       "      <td>2025-04-30 19:26:32+00:00</td>\n",
       "    </tr>\n",
       "    <tr>\n",
       "      <th>75%</th>\n",
       "      <td>2025-05-02 12:18:45+00:00</td>\n",
       "      <td>2025-05-02 11:37:51+00:00</td>\n",
       "    </tr>\n",
       "    <tr>\n",
       "      <th>max</th>\n",
       "      <td>2025-05-04 03:00:00+00:00</td>\n",
       "      <td>2025-05-04 02:56:00+00:00</td>\n",
       "    </tr>\n",
       "  </tbody>\n",
       "</table>\n",
       "</div>"
      ],
      "text/plain": [
       "                           rt_arrival_time  \\\n",
       "count                              4231901   \n",
       "mean   2024-01-15 18:19:01.991859200+00:00   \n",
       "min              1970-01-01 00:00:00+00:00   \n",
       "25%              2025-04-29 12:17:34+00:00   \n",
       "50%              2025-04-30 20:53:30+00:00   \n",
       "75%              2025-05-02 12:18:45+00:00   \n",
       "max              2025-05-04 03:00:00+00:00   \n",
       "\n",
       "                         rt_departure_time  \n",
       "count                              4231901  \n",
       "mean   2022-05-17 06:45:26.211661568+00:00  \n",
       "min              1970-01-01 00:00:00+00:00  \n",
       "25%              2025-04-29 09:23:58+00:00  \n",
       "50%              2025-04-30 19:26:32+00:00  \n",
       "75%              2025-05-02 11:37:51+00:00  \n",
       "max              2025-05-04 02:56:00+00:00  "
      ]
     },
     "execution_count": 37,
     "metadata": {},
     "output_type": "execute_result"
    }
   ],
   "source": [
    "# Check distribution of dates again\n",
    "stm_trips_df[['rt_arrival_time', 'rt_departure_time']].describe()"
   ]
  },
  {
   "cell_type": "code",
   "execution_count": 38,
   "id": "e6239dc0",
   "metadata": {},
   "outputs": [],
   "source": [
    "# Replace 1970 dates by null\n",
    "zero_arrival_time = stm_trips_df['rt_arrival_time'].dt.year == 1970\n",
    "zero_departure_time = stm_trips_df['rt_departure_time'].dt.year == 1970\n",
    "stm_trips_df.loc[zero_arrival_time, 'rt_arrival_time'] = None\n",
    "stm_trips_df.loc[zero_departure_time, 'rt_departure_time'] = None"
   ]
  },
  {
   "cell_type": "code",
   "execution_count": 39,
   "id": "8149d1d1",
   "metadata": {},
   "outputs": [
    {
     "data": {
      "application/vnd.microsoft.datawrangler.viewer.v0+json": {
       "columns": [
        {
         "name": "index",
         "rawType": "object",
         "type": "string"
        },
        {
         "name": "rt_arrival_time",
         "rawType": "object",
         "type": "unknown"
        },
        {
         "name": "rt_departure_time",
         "rawType": "object",
         "type": "unknown"
        }
       ],
       "conversionMethod": "pd.DataFrame",
       "ref": "cd19d9b9-d95e-41ed-9cc6-3ec3c3193229",
       "rows": [
        [
         "count",
         "4133218",
         "4005798"
        ],
        [
         "mean",
         "2025-05-01 00:19:58.538594048+00:00",
         "2025-05-01 00:19:23.698283520+00:00"
        ],
        [
         "min",
         "2025-04-27 20:44:51+00:00",
         "2025-04-27 20:44:51+00:00"
        ],
        [
         "25%",
         "2025-04-29 14:00:44+00:00",
         "2025-04-29 13:57:49+00:00"
        ],
        [
         "50%",
         "2025-04-30 21:47:55.500000+00:00",
         "2025-04-30 21:46:48+00:00"
        ],
        [
         "75%",
         "2025-05-02 12:51:46+00:00",
         "2025-05-02 12:52:14+00:00"
        ],
        [
         "max",
         "2025-05-04 03:00:00+00:00",
         "2025-05-04 02:56:00+00:00"
        ]
       ],
       "shape": {
        "columns": 2,
        "rows": 7
       }
      },
      "text/html": [
       "<div>\n",
       "<style scoped>\n",
       "    .dataframe tbody tr th:only-of-type {\n",
       "        vertical-align: middle;\n",
       "    }\n",
       "\n",
       "    .dataframe tbody tr th {\n",
       "        vertical-align: top;\n",
       "    }\n",
       "\n",
       "    .dataframe thead th {\n",
       "        text-align: right;\n",
       "    }\n",
       "</style>\n",
       "<table border=\"1\" class=\"dataframe\">\n",
       "  <thead>\n",
       "    <tr style=\"text-align: right;\">\n",
       "      <th></th>\n",
       "      <th>rt_arrival_time</th>\n",
       "      <th>rt_departure_time</th>\n",
       "    </tr>\n",
       "  </thead>\n",
       "  <tbody>\n",
       "    <tr>\n",
       "      <th>count</th>\n",
       "      <td>4133218</td>\n",
       "      <td>4005798</td>\n",
       "    </tr>\n",
       "    <tr>\n",
       "      <th>mean</th>\n",
       "      <td>2025-05-01 00:19:58.538594048+00:00</td>\n",
       "      <td>2025-05-01 00:19:23.698283520+00:00</td>\n",
       "    </tr>\n",
       "    <tr>\n",
       "      <th>min</th>\n",
       "      <td>2025-04-27 20:44:51+00:00</td>\n",
       "      <td>2025-04-27 20:44:51+00:00</td>\n",
       "    </tr>\n",
       "    <tr>\n",
       "      <th>25%</th>\n",
       "      <td>2025-04-29 14:00:44+00:00</td>\n",
       "      <td>2025-04-29 13:57:49+00:00</td>\n",
       "    </tr>\n",
       "    <tr>\n",
       "      <th>50%</th>\n",
       "      <td>2025-04-30 21:47:55.500000+00:00</td>\n",
       "      <td>2025-04-30 21:46:48+00:00</td>\n",
       "    </tr>\n",
       "    <tr>\n",
       "      <th>75%</th>\n",
       "      <td>2025-05-02 12:51:46+00:00</td>\n",
       "      <td>2025-05-02 12:52:14+00:00</td>\n",
       "    </tr>\n",
       "    <tr>\n",
       "      <th>max</th>\n",
       "      <td>2025-05-04 03:00:00+00:00</td>\n",
       "      <td>2025-05-04 02:56:00+00:00</td>\n",
       "    </tr>\n",
       "  </tbody>\n",
       "</table>\n",
       "</div>"
      ],
      "text/plain": [
       "                           rt_arrival_time  \\\n",
       "count                              4133218   \n",
       "mean   2025-05-01 00:19:58.538594048+00:00   \n",
       "min              2025-04-27 20:44:51+00:00   \n",
       "25%              2025-04-29 14:00:44+00:00   \n",
       "50%       2025-04-30 21:47:55.500000+00:00   \n",
       "75%              2025-05-02 12:51:46+00:00   \n",
       "max              2025-05-04 03:00:00+00:00   \n",
       "\n",
       "                         rt_departure_time  \n",
       "count                              4005798  \n",
       "mean   2025-05-01 00:19:23.698283520+00:00  \n",
       "min              2025-04-27 20:44:51+00:00  \n",
       "25%              2025-04-29 13:57:49+00:00  \n",
       "50%              2025-04-30 21:46:48+00:00  \n",
       "75%              2025-05-02 12:52:14+00:00  \n",
       "max              2025-05-04 02:56:00+00:00  "
      ]
     },
     "execution_count": 39,
     "metadata": {},
     "output_type": "execute_result"
    }
   ],
   "source": [
    "stm_trips_df[['rt_arrival_time', 'rt_departure_time']].describe()"
   ]
  },
  {
   "cell_type": "code",
   "execution_count": 40,
   "id": "019218a5",
   "metadata": {},
   "outputs": [],
   "source": [
    "# Calculate delay (realtime - scheduled)\n",
    "# For first stops, calculate with departure time\n",
    "# For the rest, calculate with arrival time\n",
    "stm_trips_df['delay'] = np.where(\n",
    "  \tstm_trips_df['stop_sequence'] == 1,\n",
    "\t(stm_trips_df['rt_departure_time'] - stm_trips_df['sch_departure_time']) / pd.Timedelta(seconds=1),\n",
    "  \t(stm_trips_df['rt_arrival_time'] - stm_trips_df['sch_arrival_time']) / pd.Timedelta(seconds=1)\n",
    ")"
   ]
  },
  {
   "cell_type": "code",
   "execution_count": 41,
   "id": "c4b5a7b8",
   "metadata": {},
   "outputs": [
    {
     "data": {
      "text/plain": [
       "count    4.231901e+06\n",
       "mean     7.006612e+01\n",
       "std      4.807224e+02\n",
       "min     -1.359200e+04\n",
       "25%      0.000000e+00\n",
       "50%      0.000000e+00\n",
       "75%      0.000000e+00\n",
       "max      5.458500e+04\n",
       "Name: delay, dtype: float64"
      ]
     },
     "execution_count": 41,
     "metadata": {},
     "output_type": "execute_result"
    }
   ],
   "source": [
    "# Get distribution\n",
    "stm_trips_df['delay'].describe()"
   ]
  },
  {
   "cell_type": "code",
   "execution_count": 42,
   "id": "3e3e1b30",
   "metadata": {},
   "outputs": [
    {
     "data": {
      "text/plain": [
       "Index(['current_time', 'trip_id', 'route_id', 'start_date', 'stop_id',\n",
       "       'rt_arrival_time', 'rt_departure_time', 'schedule_relationship',\n",
       "       'arrival_time', 'departure_time', 'stop_sequence', 'trip_progress',\n",
       "       'stop_name', 'stop_lat', 'stop_lon', 'stop_url', 'location_type',\n",
       "       'parent_station', 'wheelchair_boarding', 'stop_distance',\n",
       "       'start_date_dt', 'sch_arrival_time', 'sch_departure_time', 'delay'],\n",
       "      dtype='object')"
      ]
     },
     "execution_count": 42,
     "metadata": {},
     "output_type": "execute_result"
    }
   ],
   "source": [
    "stm_trips_df.columns"
   ]
  },
  {
   "cell_type": "code",
   "execution_count": 43,
   "id": "749afa71",
   "metadata": {},
   "outputs": [],
   "source": [
    "# Remove extra datetime columns\n",
    "stm_trips_df = stm_trips_df.drop(['arrival_time', 'departure_time', 'start_date_dt'], axis=1)"
   ]
  },
  {
   "cell_type": "markdown",
   "id": "f4ff72f0",
   "metadata": {},
   "source": [
    "### Vehicle Positions"
   ]
  },
  {
   "cell_type": "code",
   "execution_count": 46,
   "id": "4d2d3524",
   "metadata": {},
   "outputs": [
    {
     "name": "stdout",
     "output_type": "stream",
     "text": [
      "0.01%\n"
     ]
    }
   ],
   "source": [
    "# Get proportion of duplicates\n",
    "subset = positions_df.drop('current_time', axis=1).columns\n",
    "duplicate_mask = positions_df.duplicated(subset=subset)\n",
    "print(f'{duplicate_mask.mean():.2%}')"
   ]
  },
  {
   "cell_type": "code",
   "execution_count": 47,
   "id": "5367c313",
   "metadata": {},
   "outputs": [],
   "source": [
    "# Drop duplicates\n",
    "positions_df = positions_df.drop_duplicates(subset=subset)"
   ]
  },
  {
   "cell_type": "code",
   "execution_count": 44,
   "id": "066dbe06",
   "metadata": {},
   "outputs": [],
   "source": [
    "# Rename latitude and longitude\n",
    "positions_df = positions_df.rename(columns={\n",
    "  'latitude': 'vehicle_lat',\n",
    "  'longitude': 'vehicle_lon',\n",
    "  'status': 'vehicle_status',\n",
    "  'bearing': 'vehicle_bearing',\n",
    "  'speed': 'vehicle_speed',\n",
    "  'timestamp': 'vehicle_dt'\n",
    "})"
   ]
  },
  {
   "cell_type": "code",
   "execution_count": 48,
   "id": "d236afc3",
   "metadata": {},
   "outputs": [],
   "source": [
    "# Merge positions\n",
    "stm_trips_positions_df = pd.merge(left=stm_trips_df, right=positions_df, how='inner', on=['trip_id', 'route_id', 'start_date', 'stop_sequence'])"
   ]
  },
  {
   "cell_type": "code",
   "execution_count": 49,
   "id": "bde04d79",
   "metadata": {},
   "outputs": [
    {
     "data": {
      "text/plain": [
       "Index(['current_time_x', 'trip_id', 'route_id', 'start_date', 'stop_id',\n",
       "       'rt_arrival_time', 'rt_departure_time', 'schedule_relationship',\n",
       "       'stop_sequence', 'trip_progress', 'stop_name', 'stop_lat', 'stop_lon',\n",
       "       'stop_url', 'location_type', 'parent_station', 'wheelchair_boarding',\n",
       "       'stop_distance', 'sch_arrival_time', 'sch_departure_time', 'delay',\n",
       "       'current_time_y', 'vehicle_id', 'start_time', 'vehicle_lat',\n",
       "       'vehicle_lon', 'vehicle_bearing', 'vehicle_speed', 'vehicle_status',\n",
       "       'vehicle_dt', 'occupancy_status'],\n",
       "      dtype='object')"
      ]
     },
     "execution_count": 49,
     "metadata": {},
     "output_type": "execute_result"
    }
   ],
   "source": [
    "stm_trips_positions_df.columns"
   ]
  },
  {
   "cell_type": "code",
   "execution_count": 50,
   "id": "7bff4723",
   "metadata": {},
   "outputs": [],
   "source": [
    "# Drop current timestamps and start_date\n",
    "stm_trips_positions_df = stm_trips_positions_df.drop(['current_time_x', 'current_time_y', 'start_date'], axis=1)"
   ]
  },
  {
   "cell_type": "code",
   "execution_count": 51,
   "id": "b8aa0884",
   "metadata": {},
   "outputs": [],
   "source": [
    "# Calculate distance between the vehicle and the current stop\n",
    "stm_trips_positions_df['vehicle_distance'] = stm_trips_positions_df.apply(\n",
    "  \tlambda row: haversine((row['vehicle_lat'], row['vehicle_lon']), (row['stop_lat'], row['stop_lon']), unit=Unit.METERS),\n",
    "  \taxis=1)"
   ]
  },
  {
   "cell_type": "code",
   "execution_count": 52,
   "id": "20c9a94b",
   "metadata": {},
   "outputs": [
    {
     "data": {
      "text/plain": [
       "count    3.447580e+05\n",
       "mean     5.019009e+02\n",
       "std      3.330059e+04\n",
       "min      2.102731e-02\n",
       "25%      7.932472e+00\n",
       "50%      1.124396e+02\n",
       "75%      2.420350e+02\n",
       "max      8.742123e+06\n",
       "Name: vehicle_distance, dtype: float64"
      ]
     },
     "execution_count": 52,
     "metadata": {},
     "output_type": "execute_result"
    }
   ],
   "source": [
    "stm_trips_positions_df['vehicle_distance'].describe()"
   ]
  },
  {
   "cell_type": "code",
   "execution_count": 53,
   "id": "1dc49113",
   "metadata": {},
   "outputs": [
    {
     "data": {
      "application/vnd.microsoft.datawrangler.viewer.v0+json": {
       "columns": [
        {
         "name": "index",
         "rawType": "int64",
         "type": "integer"
        },
        {
         "name": "trip_id",
         "rawType": "int64",
         "type": "integer"
        },
        {
         "name": "route_id",
         "rawType": "int64",
         "type": "integer"
        },
        {
         "name": "stop_id",
         "rawType": "int64",
         "type": "integer"
        },
        {
         "name": "rt_arrival_time",
         "rawType": "datetime64[ns, UTC]",
         "type": "unknown"
        },
        {
         "name": "rt_departure_time",
         "rawType": "datetime64[ns, UTC]",
         "type": "unknown"
        },
        {
         "name": "schedule_relationship",
         "rawType": "int64",
         "type": "integer"
        },
        {
         "name": "stop_sequence",
         "rawType": "int64",
         "type": "integer"
        },
        {
         "name": "trip_progress",
         "rawType": "float64",
         "type": "float"
        },
        {
         "name": "stop_name",
         "rawType": "object",
         "type": "string"
        },
        {
         "name": "stop_lat",
         "rawType": "float64",
         "type": "float"
        },
        {
         "name": "stop_lon",
         "rawType": "float64",
         "type": "float"
        },
        {
         "name": "stop_url",
         "rawType": "object",
         "type": "string"
        },
        {
         "name": "location_type",
         "rawType": "int64",
         "type": "integer"
        },
        {
         "name": "parent_station",
         "rawType": "object",
         "type": "unknown"
        },
        {
         "name": "wheelchair_boarding",
         "rawType": "int64",
         "type": "integer"
        },
        {
         "name": "stop_distance",
         "rawType": "float64",
         "type": "float"
        },
        {
         "name": "sch_arrival_time",
         "rawType": "datetime64[ns, UTC]",
         "type": "unknown"
        },
        {
         "name": "sch_departure_time",
         "rawType": "datetime64[ns, UTC]",
         "type": "unknown"
        },
        {
         "name": "delay",
         "rawType": "float64",
         "type": "float"
        },
        {
         "name": "vehicle_id",
         "rawType": "int64",
         "type": "integer"
        },
        {
         "name": "start_time",
         "rawType": "object",
         "type": "string"
        },
        {
         "name": "vehicle_lat",
         "rawType": "float64",
         "type": "float"
        },
        {
         "name": "vehicle_lon",
         "rawType": "float64",
         "type": "float"
        },
        {
         "name": "vehicle_bearing",
         "rawType": "float64",
         "type": "float"
        },
        {
         "name": "vehicle_speed",
         "rawType": "float64",
         "type": "float"
        },
        {
         "name": "vehicle_status",
         "rawType": "int64",
         "type": "integer"
        },
        {
         "name": "vehicle_dt",
         "rawType": "int64",
         "type": "integer"
        },
        {
         "name": "occupancy_status",
         "rawType": "int64",
         "type": "integer"
        },
        {
         "name": "vehicle_distance",
         "rawType": "float64",
         "type": "float"
        }
       ],
       "conversionMethod": "pd.DataFrame",
       "ref": "80e8a5fa-1f91-41e8-93e2-ab7c82ad1edc",
       "rows": [
        [
         "4",
         "283213434",
         "968",
         "60296",
         null,
         "2025-04-27 23:00:00+00:00",
         "0",
         "1",
         "0.3333333333333333",
         "Station Côte-Vertu",
         "45.514212",
         "-73.684175",
         "https://www.stm.info/fr/recherche#stq=60296",
         "0",
         null,
         "1",
         "0.0",
         "2025-04-27 23:00:00+00:00",
         "2025-04-27 23:00:00+00:00",
         "0.0",
         "40187",
         "19:00:00",
         "45.51423263549805",
         "-73.68409729003906",
         "0.0",
         "0.0",
         "1",
         "1745793882",
         "1",
         "6.475190276046002"
        ],
        [
         "53",
         "283855195",
         "33",
         "54923",
         "2025-04-27 22:15:02+00:00",
         "2025-04-27 22:15:02+00:00",
         "0",
         "35",
         "0.5833333333333334",
         "Langelier / Robert",
         "45.597087",
         "-73.587924",
         "https://www.stm.info/fr/recherche#stq=54923",
         "0",
         null,
         "1",
         "224.60839001101198",
         "2025-04-27 22:15:02+00:00",
         "2025-04-27 22:15:02+00:00",
         "0.0",
         "39109",
         "17:49:00",
         "45.600528717041016",
         "-73.59545135498047",
         "120.0",
         "2.5000200271606445",
         "2",
         "1745792095",
         "1",
         "699.5913504460207"
        ],
        [
         "76",
         "284752224",
         "55",
         "52947",
         "2025-04-27 22:18:23+00:00",
         null,
         "0",
         "47",
         "1.0",
         "Saint-Laurent / Saint-Jacques",
         "45.506482",
         "-73.55618",
         "https://www.stm.info/fr/recherche#stq=52947",
         "0",
         null,
         "1",
         "130.9748162184691",
         "2025-04-27 22:22:00+00:00",
         "2025-04-27 22:22:00+00:00",
         "-217.0",
         "42015",
         "17:25:00",
         "45.50337219238281",
         "-73.56077575683594",
         "0.0",
         "0.0",
         "2",
         "1745792078",
         "2",
         "497.8420176492378"
        ],
        [
         "93",
         "283553131",
         "51",
         "50110",
         "2025-04-27 22:55:00+00:00",
         null,
         "0",
         "53",
         "1.0",
         "Gare Montréal-Ouest (Elmhurst / Sherbrooke)",
         "45.454203",
         "-73.641481",
         "https://www.stm.info/fr/recherche#stq=50110",
         "0",
         null,
         "1",
         "134.51412071540426",
         "2025-04-27 22:55:00+00:00",
         "2025-04-27 22:55:00+00:00",
         "0.0",
         "41007",
         "18:04:00",
         "45.4692497253418",
         "-73.60253143310547",
         "0.0",
         "0.0",
         "2",
         "1745795448",
         "1",
         "3467.991306168406"
        ],
        [
         "94",
         "283553304",
         "51",
         "50110",
         "2025-04-27 22:12:37+00:00",
         null,
         "0",
         "53",
         "1.0",
         "Gare Montréal-Ouest (Elmhurst / Sherbrooke)",
         "45.454203",
         "-73.641481",
         "https://www.stm.info/fr/recherche#stq=50110",
         "0",
         null,
         "1",
         "134.51412071540426",
         "2025-04-27 22:06:00+00:00",
         "2025-04-27 22:06:00+00:00",
         "397.0",
         "40089",
         "17:13:00",
         "45.45738220214844",
         "-73.63932037353516",
         "39.0",
         "7.500060081481934",
         "2",
         "1745792086",
         "2",
         "391.6268698941272"
        ],
        [
         "106",
         "283552799",
         "11",
         "53745",
         "2025-04-27 22:21:00+00:00",
         "2025-04-27 22:21:00+00:00",
         "0",
         "15",
         "0.6",
         "Remembrance / du Chalet (Belvédère Kondiaronk)",
         "45.503406",
         "-73.594106",
         "https://www.stm.info/fr/recherche#stq=53745",
         "0",
         null,
         "1",
         "800.7935023039197",
         "2025-04-27 22:21:00+00:00",
         "2025-04-27 22:21:00+00:00",
         "0.0",
         "41006",
         "17:59:00",
         "45.51545333862305",
         "-73.59056091308594",
         "216.0",
         "0.0",
         "2",
         "1745792093",
         "3",
         "1367.791931973815"
        ],
        [
         "118",
         "286594790",
         "114",
         "57072",
         "2025-04-27 22:09:36+00:00",
         null,
         "0",
         "38",
         "1.0",
         "George / Albert-Couture",
         "45.424074",
         "-73.610178",
         "https://www.stm.info/fr/recherche#stq=57072",
         "0",
         null,
         "1",
         "359.7508789221428",
         "2025-04-27 22:06:00+00:00",
         "2025-04-27 22:06:00+00:00",
         "216.0",
         "40018",
         "17:23:00",
         "45.44039916992188",
         "-73.63822937011719",
         "41.0",
         "10.000080108642578",
         "2",
         "1745792095",
         "1",
         "2843.6712642391617"
        ],
        [
         "149",
         "286581248",
         "185",
         "61881",
         "2025-04-27 22:17:00+00:00",
         null,
         "0",
         "49",
         "1.0",
         "Bellerive / Mercier",
         "45.595312",
         "-73.509709",
         "https://www.stm.info/fr/recherche#stq=61881",
         "0",
         null,
         "1",
         "92.0950182192041",
         "2025-04-27 22:17:00+00:00",
         "2025-04-27 22:17:00+00:00",
         "0.0",
         "31225",
         "17:32:00",
         "45.59611129760742",
         "-73.51004791259766",
         "103.0",
         "3.333359956741333",
         "2",
         "1745792042",
         "1",
         "92.70718640559791"
        ],
        [
         "151",
         "286581173",
         "185",
         "54164",
         "2025-04-27 22:11:19+00:00",
         "2025-04-27 22:11:19+00:00",
         "0",
         "37",
         "0.7551020408163265",
         "Sherbrooke / Valois",
         "45.550723",
         "-73.555067",
         "https://www.stm.info/fr/recherche#stq=54164",
         "0",
         null,
         "1",
         "135.5687044574589",
         "2025-04-27 22:09:49+00:00",
         "2025-04-27 22:09:49+00:00",
         "90.0",
         "31232",
         "17:41:00",
         "45.55193328857422",
         "-73.55482482910156",
         "186.0",
         "0.0",
         "2",
         "1745792093",
         "2",
         "135.8928314951003"
        ],
        [
         "156",
         "286593620",
         "110",
         "57315",
         "2025-04-27 22:16:21+00:00",
         "2025-04-27 22:16:21+00:00",
         "0",
         "20",
         "0.273972602739726",
         "6e Avenue / Saint-Louis",
         "45.433732",
         "-73.669391",
         "https://www.stm.info/fr/recherche#stq=57315",
         "0",
         null,
         "1",
         "124.34524057682604",
         "2025-04-27 22:15:32+00:00",
         "2025-04-27 22:15:32+00:00",
         "49.0",
         "40036",
         "17:59:00",
         "45.43490982055664",
         "-73.66932678222656",
         "173.0",
         "8.333399772644043",
         "2",
         "1745792081",
         "1",
         "131.06367296719304"
        ],
        [
         "166",
         "283212242",
         "209",
         "61985",
         "2025-04-27 22:14:56+00:00",
         null,
         "0",
         "39",
         "1.0",
         "Gare Roxboro-Pierrefonds",
         "45.510669",
         "-73.812666",
         "https://www.stm.info/fr/recherche#stq=61985",
         "0",
         null,
         "1",
         "121.24659033814083",
         "2025-04-27 22:13:00+00:00",
         "2025-04-27 22:13:00+00:00",
         "116.0",
         "40196",
         "17:32:00",
         "45.51139831542969",
         "-73.81420135498047",
         "0.0",
         "0.0",
         "2",
         "1745792088",
         "1",
         "144.53368014388846"
        ],
        [
         "175",
         "286593589",
         "110",
         "57233",
         "2025-04-27 22:15:06+00:00",
         "2025-04-27 22:15:06+00:00",
         "0",
         "58",
         "0.8656716417910447",
         "Duff Court / Roy",
         "45.445994",
         "-73.677974",
         "https://www.stm.info/fr/recherche#stq=57233",
         "0",
         null,
         "1",
         "147.3708498781111",
         "2025-04-27 22:11:58+00:00",
         "2025-04-27 22:11:58+00:00",
         "188.0",
         "29095",
         "17:25:00",
         "45.444950103759766",
         "-73.67680358886719",
         "16.0",
         "3.055579900741577",
         "2",
         "1745792091",
         "1",
         "147.68449349251233"
        ],
        [
         "212",
         "283553152",
         "51",
         "50110",
         "2025-04-27 22:24:32+00:00",
         null,
         "0",
         "53",
         "1.0",
         "Gare Montréal-Ouest (Elmhurst / Sherbrooke)",
         "45.454203",
         "-73.641481",
         "https://www.stm.info/fr/recherche#stq=50110",
         "0",
         null,
         "1",
         "134.51412071540426",
         "2025-04-27 22:23:00+00:00",
         "2025-04-27 22:23:00+00:00",
         "92.0",
         "41002",
         "17:30:00",
         "45.535865783691406",
         "-73.5594482421875",
         "301.0",
         "12.222319602966309",
         "2",
         "1745793895",
         "3",
         "11105.797876516332"
        ],
        [
         "213",
         "283553152",
         "51",
         "50110",
         "2025-04-27 22:24:32+00:00",
         null,
         "0",
         "53",
         "1.0",
         "Gare Montréal-Ouest (Elmhurst / Sherbrooke)",
         "45.454203",
         "-73.641481",
         "https://www.stm.info/fr/recherche#stq=50110",
         "0",
         null,
         "1",
         "134.51412071540426",
         "2025-04-27 22:23:00+00:00",
         "2025-04-27 22:23:00+00:00",
         "92.0",
         "41002",
         "17:30:00",
         "45.53818130493164",
         "-73.57078552246094",
         "0.0",
         "0.0",
         "2",
         "1745795692",
         "3",
         "10842.51752732035"
        ],
        [
         "218",
         "283213304",
         "70",
         "60593",
         "2025-04-27 22:14:35+00:00",
         null,
         "0",
         "19",
         "1.0",
         "Raymond-Lasnier / Beaulac",
         "45.503578",
         "-73.719144",
         "https://www.stm.info/fr/recherche#stq=60593",
         "0",
         null,
         "2",
         "222.22086710062385",
         "2025-04-27 22:13:00+00:00",
         "2025-04-27 22:13:00+00:00",
         "95.0",
         "40136",
         "17:54:00",
         "45.502437591552734",
         "-73.72159576416016",
         "312.0",
         "5.000040054321289",
         "2",
         "1745792000",
         "1",
         "229.32445814250732"
        ],
        [
         "234",
         "284753545",
         "439",
         "53190",
         "2025-04-27 22:43:02+00:00",
         "2025-04-27 22:43:02+00:00",
         "0",
         "34",
         "0.918918918918919",
         "Pie-IX / Ontario",
         "45.550249",
         "-73.541435",
         "https://www.stm.info/fr/recherche#stq=53190",
         "0",
         null,
         "1",
         "126.27839651845167",
         "2025-04-27 22:41:31+00:00",
         "2025-04-27 22:41:31+00:00",
         "91.0",
         "29830",
         "17:49:00",
         "45.55141830444336",
         "-73.54491424560547",
         "117.0",
         "9.444519996643066",
         "2",
         "1745793886",
         "2",
         "300.50411933018074"
        ],
        [
         "236",
         "283854289",
         "189",
         "53754",
         null,
         "2025-04-27 22:28:10+00:00",
         "0",
         "1",
         "0.015625",
         "Station Honoré-Beaugrand / Terminus Nord",
         "45.596932",
         "-73.535748",
         "https://www.stm.info/fr/recherche#stq=53754",
         "0",
         null,
         "1",
         "0.0",
         "2025-04-27 22:14:00+00:00",
         "2025-04-27 22:14:00+00:00",
         "850.0",
         "30256",
         "18:14:00",
         "45.59695816040039",
         "-73.53572845458984",
         "113.0",
         "0.0",
         "1",
         "1745792090",
         "1",
         "3.282418120121367"
        ],
        [
         "240",
         "283211646",
         "208",
         "61984",
         "2025-04-27 22:03:48+00:00",
         null,
         "0",
         "51",
         "1.0",
         "Gare Roxboro-Pierrefonds",
         "45.510675",
         "-73.812905",
         "https://www.stm.info/fr/recherche#stq=61984",
         "0",
         null,
         "1",
         "102.66764585484067",
         "2025-04-27 22:01:00+00:00",
         "2025-04-27 22:01:00+00:00",
         "168.0",
         "40169",
         "17:20:00",
         "45.51285171508789",
         "-73.81641387939453",
         "0.0",
         "0.0",
         "2",
         "1745792093",
         "1",
         "365.15759026738476"
        ],
        [
         "258",
         "283211673",
         "209",
         "61985",
         "2025-04-27 22:45:00+00:00",
         null,
         "0",
         "39",
         "1.0",
         "Gare Roxboro-Pierrefonds",
         "45.510669",
         "-73.812666",
         "https://www.stm.info/fr/recherche#stq=61985",
         "0",
         null,
         "1",
         "121.24659033814083",
         "2025-04-27 22:45:00+00:00",
         "2025-04-27 22:45:00+00:00",
         "0.0",
         "40135",
         "18:04:00",
         "45.51161575317383",
         "-73.81501770019531",
         "0.0",
         "0.0",
         "2",
         "1745793882",
         "2",
         "211.3365664797128"
        ],
        [
         "261",
         "283855345",
         "28",
         "53398",
         "2025-04-27 22:17:40+00:00",
         "2025-04-27 22:17:40+00:00",
         "0",
         "38",
         "0.926829268292683",
         "Honoré-Beaugrand / Tellier",
         "45.5916",
         "-73.519239",
         "https://www.stm.info/fr/recherche#stq=53398",
         "0",
         null,
         "1",
         "474.4784753193398",
         "2025-04-27 22:14:20+00:00",
         "2025-04-27 22:14:20+00:00",
         "200.0",
         "39113",
         "17:45:00",
         "45.59929656982422",
         "-73.52112579345703",
         "98.0",
         "5.000040054321289",
         "2",
         "1745792092",
         "3",
         "868.3202896210711"
        ],
        [
         "263",
         "284753498",
         "439",
         "62104",
         "2025-04-27 22:21:21+00:00",
         "2025-04-27 22:21:21+00:00",
         "0",
         "19",
         "0.5428571428571428",
         "SRB Pie-IX / Fleury",
         "45.586762",
         "-73.632937",
         "https://www.stm.info/fr/recherche#stq=62104",
         "0",
         null,
         "1",
         "523.9626668670566",
         "2025-04-27 22:21:21+00:00",
         "2025-04-27 22:21:21+00:00",
         "0.0",
         "30808",
         "17:45:00",
         "45.58271408081055",
         "-73.62785339355469",
         "301.0",
         "2.2222399711608887",
         "2",
         "1745792082",
         "1",
         "599.2522651279041"
        ],
        [
         "277",
         "286593978",
         "113",
         "54106",
         "2025-04-27 22:11:31+00:00",
         null,
         "0",
         "31",
         "1.0",
         "Station Angrignon",
         "45.446694",
         "-73.603261",
         "https://www.stm.info/fr/recherche#stq=54106",
         "0",
         null,
         "1",
         "87.63460841456248",
         "2025-04-27 22:10:00+00:00",
         "2025-04-27 22:10:00+00:00",
         "91.0",
         "29097",
         "17:42:00",
         "45.44691848754883",
         "-73.6044921875",
         "137.0",
         "6.38893985748291",
         "2",
         "1745792007",
         "2",
         "99.23721539406309"
        ],
        [
         "282",
         "284752700",
         "69",
         "54223",
         "2025-04-27 23:22:35+00:00",
         null,
         "0",
         "73",
         "1.0",
         "Cégep Marie-Victorin (Marie-Victorin / No 7000)",
         "45.617516",
         "-73.606562",
         "https://www.stm.info/fr/recherche#stq=54223",
         "0",
         null,
         "1",
         "358.5754955902107",
         "2025-04-27 23:21:00+00:00",
         "2025-04-27 23:21:00+00:00",
         "95.0",
         "29801",
         "18:21:00",
         "45.5480842590332",
         "-73.55084991455078",
         "212.0",
         "0.0",
         "2",
         "1745797484",
         "1",
         "8854.588370941743"
        ],
        [
         "283",
         "284752700",
         "69",
         "54223",
         "2025-04-27 23:22:35+00:00",
         null,
         "0",
         "73",
         "1.0",
         "Cégep Marie-Victorin (Marie-Victorin / No 7000)",
         "45.617516",
         "-73.606562",
         "https://www.stm.info/fr/recherche#stq=54223",
         "0",
         null,
         "1",
         "358.5754955902107",
         "2025-04-27 23:21:00+00:00",
         "2025-04-27 23:21:00+00:00",
         "95.0",
         "29801",
         "18:21:00",
         "45.548866271972656",
         "-73.5550537109375",
         "301.0",
         "3.055579900741577",
         "2",
         "1745799295",
         "1",
         "8621.981741615973"
        ],
        [
         "298",
         "283212926",
         "207",
         "57821",
         null,
         "2025-04-27 22:59:00+00:00",
         "0",
         "1",
         "0.023809523809523808",
         "Terminus Fairview",
         "45.465173",
         "-73.831089",
         "https://www.stm.info/fr/recherche#stq=57821",
         "0",
         null,
         "1",
         "0.0",
         "2025-04-27 22:59:00+00:00",
         "2025-04-27 22:59:00+00:00",
         "0.0",
         "40164",
         "18:59:00",
         "45.46512985229492",
         "-73.83118438720703",
         "146.0",
         "7.500060081481934",
         "1",
         "1745793885",
         "1",
         "8.851868775000376"
        ],
        [
         "307",
         "286580770",
         "29",
         "53035",
         null,
         "2025-04-27 22:59:00+00:00",
         "0",
         "1",
         "0.038461538461538464",
         "Station Joliette (Joliette / Hochelaga)",
         "45.546799",
         "-73.5512",
         "https://www.stm.info/fr/recherche#stq=53035",
         "0",
         null,
         "1",
         "0.0",
         "2025-04-27 22:59:00+00:00",
         "2025-04-27 22:59:00+00:00",
         "0.0",
         "38031",
         "18:59:00",
         "45.54676055908203",
         "-73.55122375488281",
         "0.0",
         "0.0",
         "1",
         "1745793890",
         "1",
         "4.657556435151395"
        ],
        [
         "309",
         "283212651",
         "201",
         "60889",
         null,
         "2025-04-27 22:59:00+00:00",
         "0",
         "1",
         "0.014705882352941176",
         "Brunswick / Terminus Fairview",
         "45.466413",
         "-73.831252",
         "https://www.stm.info/fr/recherche#stq=60889",
         "0",
         null,
         "1",
         "0.0",
         "2025-04-27 22:59:00+00:00",
         "2025-04-27 22:59:00+00:00",
         "0.0",
         "40188",
         "18:59:00",
         "45.46641159057617",
         "-73.83125305175781",
         "0.0",
         "0.0",
         "1",
         "1745793896",
         "1",
         "0.1768864648876133"
        ],
        [
         "329",
         "284753609",
         "439",
         "62090",
         "2025-04-27 22:17:47+00:00",
         null,
         "1",
         "12",
         "0.5217391304347826",
         "SRB Pie-IX / Bélanger",
         "45.565172",
         "-73.587958",
         "https://www.stm.info/fr/recherche#stq=62090",
         "0",
         null,
         "1",
         "649.5464474332732",
         "2025-04-27 22:17:47+00:00",
         "2025-04-27 22:17:47+00:00",
         "0.0",
         "30812",
         "17:55:00",
         "45.56285858154297",
         "-73.58029174804688",
         "294.0",
         "0.0",
         "1",
         "1745792093",
         "3",
         "649.8884949231366"
        ],
        [
         "338",
         "283212321",
         "208",
         "61984",
         "2025-04-27 22:31:00+00:00",
         null,
         "0",
         "51",
         "1.0",
         "Gare Roxboro-Pierrefonds",
         "45.510675",
         "-73.812905",
         "https://www.stm.info/fr/recherche#stq=61984",
         "0",
         null,
         "1",
         "102.66764585484067",
         "2025-04-27 22:31:00+00:00",
         "2025-04-27 22:31:00+00:00",
         "0.0",
         "40155",
         "17:51:00",
         "45.51241683959961",
         "-73.81613159179688",
         "0.0",
         "0.0",
         "2",
         "1745793880",
         "2",
         "317.37396535358727"
        ],
        [
         "344",
         "284215027",
         "124",
         "54104",
         null,
         "2025-04-27 23:04:27+00:00",
         "0",
         "1",
         "0.022727272727272728",
         "Station Vendôme",
         "45.473772",
         "-73.60362",
         "https://www.stm.info/fr/recherche#stq=54104",
         "0",
         null,
         "1",
         "0.0",
         "2025-04-27 22:52:00+00:00",
         "2025-04-27 22:52:00+00:00",
         "747.0",
         "37067",
         "18:52:00",
         "45.4737434387207",
         "-73.60358428955078",
         "0.0",
         "0.0",
         "1",
         "1745793896",
         "1",
         "4.223687400414008"
        ],
        [
         "345",
         "284215027",
         "124",
         "54104",
         null,
         "2025-04-27 23:04:27+00:00",
         "0",
         "1",
         "0.022727272727272728",
         "Station Vendôme",
         "45.473772",
         "-73.60362",
         "https://www.stm.info/fr/recherche#stq=54104",
         "0",
         null,
         "1",
         "0.0",
         "2025-04-27 22:52:00+00:00",
         "2025-04-27 22:52:00+00:00",
         "747.0",
         "37067",
         "18:52:00",
         "45.4737434387207",
         "-73.60358428955078",
         "0.0",
         "0.0",
         "1",
         "1745795697",
         "1",
         "4.223687400414008"
        ],
        [
         "347",
         "283552790",
         "11",
         "53834",
         "2025-04-27 22:15:09+00:00",
         "2025-04-27 22:15:09+00:00",
         "0",
         "24",
         "0.96",
         "Ridgewood / No 3600",
         "45.492525",
         "-73.612424",
         "https://www.stm.info/fr/recherche#stq=53834",
         "0",
         null,
         "1",
         "103.51474768764751",
         "2025-04-27 22:15:00+00:00",
         "2025-04-27 22:15:00+00:00",
         "9.0",
         "41011",
         "17:46:00",
         "45.4937744140625",
         "-73.6124496459961",
         "167.0",
         "3.333359956741333",
         "2",
         "1745792088",
         "2",
         "138.9430781241271"
        ],
        [
         "363",
         "284215601",
         "165",
         "52330",
         "2025-04-27 22:18:20+00:00",
         "2025-04-27 22:18:20+00:00",
         "0",
         "34",
         "0.9714285714285714",
         "Guy / René-Lévesque",
         "45.494345",
         "-73.576023",
         "https://www.stm.info/fr/recherche#stq=52330",
         "0",
         null,
         "1",
         "218.88089518621925",
         "2025-04-27 22:18:20+00:00",
         "2025-04-27 22:18:20+00:00",
         "0.0",
         "31808",
         "17:44:00",
         "45.49221420288086",
         "-73.57647705078125",
         "54.0",
         "2.5000200271606445",
         "2",
         "1745792093",
         "1",
         "239.56289306342447"
        ],
        [
         "364",
         "284752167",
         "48",
         "60311",
         "2025-04-27 22:15:59+00:00",
         "2025-04-27 22:15:59+00:00",
         "0",
         "10",
         "0.2",
         "Rodolphe-Forget / Louis-Dessaulles",
         "45.646091",
         "-73.575341",
         "https://www.stm.info/fr/recherche#stq=60311",
         "0",
         null,
         "1",
         "281.74603028901805",
         "2025-04-27 22:15:59+00:00",
         "2025-04-27 22:15:59+00:00",
         "0.0",
         "41090",
         "18:07:00",
         "45.64405059814453",
         "-73.57305145263672",
         "270.0",
         "1.6666799783706665",
         "2",
         "1745792087",
         "1",
         "288.36296171337534"
        ],
        [
         "369",
         "283854584",
         "192",
         "51530",
         "2025-04-27 22:13:12+00:00",
         "2025-04-27 22:13:12+00:00",
         "0",
         "31",
         "0.6326530612244898",
         "Jarry / Pie-IX",
         "45.571702",
         "-73.60256",
         "https://www.stm.info/fr/recherche#stq=51530",
         "0",
         null,
         "1",
         "236.04990382281787",
         "2025-04-27 22:09:37+00:00",
         "2025-04-27 22:09:37+00:00",
         "215.0",
         "30062",
         "17:47:00",
         "45.57363128662109",
         "-73.60108947753906",
         "112.0",
         "4.1666998863220215",
         "2",
         "1745792084",
         "1",
         "243.15272771718867"
        ],
        [
         "372",
         "286593608",
         "496",
         "61331",
         null,
         "2025-04-27 22:58:00+00:00",
         "0",
         "1",
         "0.045454545454545456",
         "Station Lionel-Groulx / Saint-Jacques",
         "45.483291",
         "-73.580278",
         "https://www.stm.info/fr/recherche#stq=61331",
         "0",
         null,
         "1",
         "0.0",
         "2025-04-27 22:58:00+00:00",
         "2025-04-27 22:58:00+00:00",
         "0.0",
         "29094",
         "18:58:00",
         "45.48334884643555",
         "-73.5803451538086",
         "50.0",
         "0.0",
         "1",
         "1745793890",
         "1",
         "8.293533931378732"
        ],
        [
         "383",
         "284216311",
         "747",
         "61332",
         "2025-04-27 22:01:10+00:00",
         "2025-04-27 22:01:10+00:00",
         "0",
         "2",
         "0.14285714285714285",
         "Station Lionel-Groulx",
         "45.483413",
         "-73.580068",
         "https://www.stm.info/fr/recherche#stq=61332",
         "0",
         null,
         "1",
         "13706.347604350098",
         "2025-04-27 21:55:00+00:00",
         "2025-04-27 21:55:00+00:00",
         "370.0",
         "31003",
         "17:37:00",
         "45.45589447021485",
         "-73.75151824951172",
         "179.0",
         "7.500060081481934",
         "2",
         "1745790294",
         "1",
         "13715.323898100045"
        ],
        [
         "404",
         "283854623",
         "86",
         "53736",
         null,
         "2025-04-27 22:57:00+00:00",
         "0",
         "1",
         "0.01",
         "100e Avenue / Bureau",
         "45.701116",
         "-73.480581",
         "https://www.stm.info/fr/recherche#stq=53736",
         "0",
         null,
         "1",
         "0.0",
         "2025-04-27 22:57:00+00:00",
         "2025-04-27 22:57:00+00:00",
         "0.0",
         "39123",
         "18:57:00",
         "45.7010383605957",
         "-73.48059844970703",
         "0.0",
         "0.0",
         "1",
         "1745793893",
         "1",
         "8.738828224632524"
        ],
        [
         "407",
         "286592415",
         "38",
         "56688",
         null,
         "2025-04-27 22:57:00+00:00",
         "0",
         "1",
         "0.038461538461538464",
         "Station LaSalle",
         "45.470738",
         "-73.567195",
         "https://www.stm.info/fr/recherche#stq=56688",
         "0",
         null,
         "1",
         "0.0",
         "2025-04-27 22:57:00+00:00",
         "2025-04-27 22:57:00+00:00",
         "0.0",
         "29089",
         "18:57:00",
         "45.4706916809082",
         "-73.56719970703125",
         "278.0",
         "0.0",
         "1",
         "1745793884",
         "1",
         "5.163517273429454"
        ],
        [
         "409",
         "286580985",
         "168",
         "62163",
         null,
         "2025-04-27 22:57:00+00:00",
         "0",
         "1",
         "0.041666666666666664",
         "André-Prévost / Serge-Garant",
         "45.448476",
         "-73.561077",
         "https://www.stm.info/fr/recherche#stq=62163",
         "0",
         null,
         "1",
         "0.0",
         "2025-04-27 22:57:00+00:00",
         "2025-04-27 22:57:00+00:00",
         "0.0",
         "38100",
         "18:57:00",
         "45.44841384887695",
         "-73.56104278564453",
         "0.0",
         "0.0",
         "1",
         "1745793886",
         "1",
         "7.4083894384462745"
        ],
        [
         "415",
         "286580573",
         "24",
         "51241",
         null,
         "2025-04-27 22:27:00+00:00",
         "0",
         "1",
         "0.02127659574468085",
         "Station Villa-Maria",
         "45.479704",
         "-73.619643",
         "https://www.stm.info/fr/recherche#stq=51241",
         "0",
         null,
         "1",
         "0.0",
         "2025-04-27 22:27:00+00:00",
         "2025-04-27 22:27:00+00:00",
         "0.0",
         "30223",
         "18:27:00",
         "45.47975158691406",
         "-73.61959838867188",
         "0.0",
         "0.0",
         "1",
         "1745792086",
         "1",
         "6.332203094729886"
        ],
        [
         "418",
         "286593389",
         "107",
         "52786",
         null,
         "2025-04-27 22:13:00+00:00",
         "0",
         "1",
         "0.02",
         "du Square-Victoria / Saint-Antoine",
         "45.501435",
         "-73.562133",
         "https://www.stm.info/fr/recherche#stq=52786",
         "0",
         null,
         "1",
         "0.0",
         "2025-04-27 22:13:00+00:00",
         "2025-04-27 22:13:00+00:00",
         "0.0",
         "28061",
         "18:13:00",
         "45.50144958496094",
         "-73.56211853027344",
         "119.0",
         "0.0",
         "1",
         "1745792088",
         "1",
         "1.975318173324341"
        ],
        [
         "419",
         "286593389",
         "107",
         "56576",
         "2025-04-27 22:39:23+00:00",
         "2025-04-27 22:39:23+00:00",
         "0",
         "28",
         "0.56",
         "de Verdun / Beatty",
         "45.450847",
         "-73.572523",
         "https://www.stm.info/fr/recherche#stq=56576",
         "0",
         null,
         "1",
         "197.34156997942006",
         "2025-04-27 22:39:23+00:00",
         "2025-04-27 22:39:23+00:00",
         "0.0",
         "28061",
         "18:13:00",
         "45.45505142211914",
         "-73.56771850585938",
         "184.0",
         "1.3889000415802002",
         "2",
         "1745793891",
         "2",
         "599.1781952286816"
        ],
        [
         "429",
         "283855065",
         "49",
         "60367",
         null,
         "2025-04-27 22:20:51+00:00",
         "0",
         "1",
         "0.016129032258064516",
         "Station Henri-Bourassa",
         "45.555843",
         "-73.667217",
         "https://www.stm.info/fr/recherche#stq=60367",
         "0",
         null,
         "1",
         "0.0",
         "2025-04-27 22:15:00+00:00",
         "2025-04-27 22:15:00+00:00",
         "351.0",
         "39051",
         "18:15:00",
         "45.55586242675781",
         "-73.66728973388672",
         "0.0",
         "0.0",
         "1",
         "1745792097",
         "1",
         "6.061089133124942"
        ],
        [
         "434",
         "283212110",
         "202",
         "57462",
         "2025-04-27 23:13:30+00:00",
         "2025-04-27 23:13:30+00:00",
         "0",
         "35",
         "0.5072463768115942",
         "Dorval / Carson",
         "45.444196",
         "-73.740978",
         "https://www.stm.info/fr/recherche#stq=57462",
         "0",
         null,
         "1",
         "529.6854720155908",
         "2025-04-27 23:11:15+00:00",
         "2025-04-27 23:11:15+00:00",
         "135.0",
         "40215",
         "18:47:00",
         "45.44863510131836",
         "-73.7435302734375",
         "88.0",
         "6.666719913482666",
         "2",
         "1745795684",
         "2",
         "532.2507703867946"
        ],
        [
         "441",
         "283212407",
         "170",
         "61681",
         null,
         "2025-04-27 22:56:00+00:00",
         "0",
         "1",
         "0.03571428571428571",
         "Jean-Bourdon / Louis-Jadon",
         "45.525238",
         "-73.730101",
         "https://www.stm.info/fr/recherche#stq=61681",
         "0",
         null,
         "1",
         "0.0",
         "2025-04-27 22:56:00+00:00",
         "2025-04-27 22:56:00+00:00",
         "0.0",
         "40214",
         "18:56:00",
         "45.52521133422852",
         "-73.73007202148438",
         "0.0",
         "0.0",
         "1",
         "1745793887",
         "1",
         "3.7266829002873356"
        ],
        [
         "443",
         "283855525",
         "44",
         "59034",
         null,
         "2025-04-27 22:56:00+00:00",
         "0",
         "1",
         "0.029411764705882353",
         "Station Radisson",
         "45.589666",
         "-73.540216",
         "https://www.stm.info/fr/recherche#stq=59034",
         "0",
         null,
         "1",
         "0.0",
         "2025-04-27 22:56:00+00:00",
         "2025-04-27 22:56:00+00:00",
         "0.0",
         "36036",
         "18:56:00",
         "45.589622497558594",
         "-73.54024505615234",
         "111.0",
         "0.0",
         "1",
         "1745793887",
         "1",
         "5.339569389363411"
        ],
        [
         "451",
         "284214159",
         "80",
         "54225",
         "2025-04-27 23:03:35+00:00",
         "2025-04-27 23:03:35+00:00",
         "0",
         "28",
         "0.9655172413793104",
         "Aréna Howie-Morenz",
         "45.534367",
         "-73.642827",
         "https://www.stm.info/fr/recherche#stq=54225",
         "0",
         null,
         "1",
         "300.19159122718395",
         "2025-04-27 23:01:54+00:00",
         "2025-04-27 23:01:54+00:00",
         "101.0",
         "33824",
         "18:27:00",
         "45.53309631347656",
         "-73.64641571044922",
         "271.0",
         "0.0",
         "2",
         "1745795682",
         "1",
         "313.20915112368505"
        ],
        [
         "459",
         "284214811",
         "105",
         "50741",
         "2025-04-27 22:43:00+00:00",
         null,
         "0",
         "19",
         "1.0",
         "Gare Montréal-Ouest (Elmhurst / Sherbrooke)",
         "45.454553",
         "-73.641462",
         "https://www.stm.info/fr/recherche#stq=50741",
         "0",
         null,
         "1",
         "95.8151187601177",
         "2025-04-27 22:43:00+00:00",
         "2025-04-27 22:43:00+00:00",
         "0.0",
         "37072",
         "18:23:00",
         "45.45841598510742",
         "-73.6456298828125",
         "31.0",
         "2.5000200271606445",
         "2",
         "1745793885",
         "1",
         "538.6926414148406"
        ],
        [
         "463",
         "283553306",
         "51",
         "50110",
         "2025-04-27 23:46:00+00:00",
         null,
         "0",
         "53",
         "1.0",
         "Gare Montréal-Ouest (Elmhurst / Sherbrooke)",
         "45.454203",
         "-73.641481",
         "https://www.stm.info/fr/recherche#stq=50110",
         "0",
         null,
         "1",
         "134.51412071540426",
         "2025-04-27 23:46:00+00:00",
         "2025-04-27 23:46:00+00:00",
         "0.0",
         "40089",
         "18:55:00",
         "45.53725051879883",
         "-73.56269836425781",
         "0.0",
         "0.0",
         "2",
         "1745799294",
         "2",
         "11089.74667925924"
        ]
       ],
       "shape": {
        "columns": 29,
        "rows": 59988
       }
      },
      "text/html": [
       "<div>\n",
       "<style scoped>\n",
       "    .dataframe tbody tr th:only-of-type {\n",
       "        vertical-align: middle;\n",
       "    }\n",
       "\n",
       "    .dataframe tbody tr th {\n",
       "        vertical-align: top;\n",
       "    }\n",
       "\n",
       "    .dataframe thead th {\n",
       "        text-align: right;\n",
       "    }\n",
       "</style>\n",
       "<table border=\"1\" class=\"dataframe\">\n",
       "  <thead>\n",
       "    <tr style=\"text-align: right;\">\n",
       "      <th></th>\n",
       "      <th>trip_id</th>\n",
       "      <th>route_id</th>\n",
       "      <th>stop_id</th>\n",
       "      <th>rt_arrival_time</th>\n",
       "      <th>rt_departure_time</th>\n",
       "      <th>schedule_relationship</th>\n",
       "      <th>stop_sequence</th>\n",
       "      <th>trip_progress</th>\n",
       "      <th>stop_name</th>\n",
       "      <th>stop_lat</th>\n",
       "      <th>...</th>\n",
       "      <th>vehicle_id</th>\n",
       "      <th>start_time</th>\n",
       "      <th>vehicle_lat</th>\n",
       "      <th>vehicle_lon</th>\n",
       "      <th>vehicle_bearing</th>\n",
       "      <th>vehicle_speed</th>\n",
       "      <th>vehicle_status</th>\n",
       "      <th>vehicle_dt</th>\n",
       "      <th>occupancy_status</th>\n",
       "      <th>vehicle_distance</th>\n",
       "    </tr>\n",
       "  </thead>\n",
       "  <tbody>\n",
       "    <tr>\n",
       "      <th>4</th>\n",
       "      <td>283213434</td>\n",
       "      <td>968</td>\n",
       "      <td>60296</td>\n",
       "      <td>NaT</td>\n",
       "      <td>2025-04-27 23:00:00+00:00</td>\n",
       "      <td>0</td>\n",
       "      <td>1</td>\n",
       "      <td>0.333333</td>\n",
       "      <td>Station Côte-Vertu</td>\n",
       "      <td>45.514212</td>\n",
       "      <td>...</td>\n",
       "      <td>40187</td>\n",
       "      <td>19:00:00</td>\n",
       "      <td>45.514233</td>\n",
       "      <td>-73.684097</td>\n",
       "      <td>0.0</td>\n",
       "      <td>0.00000</td>\n",
       "      <td>1</td>\n",
       "      <td>1745793882</td>\n",
       "      <td>1</td>\n",
       "      <td>6.475190</td>\n",
       "    </tr>\n",
       "    <tr>\n",
       "      <th>53</th>\n",
       "      <td>283855195</td>\n",
       "      <td>33</td>\n",
       "      <td>54923</td>\n",
       "      <td>2025-04-27 22:15:02+00:00</td>\n",
       "      <td>2025-04-27 22:15:02+00:00</td>\n",
       "      <td>0</td>\n",
       "      <td>35</td>\n",
       "      <td>0.583333</td>\n",
       "      <td>Langelier / Robert</td>\n",
       "      <td>45.597087</td>\n",
       "      <td>...</td>\n",
       "      <td>39109</td>\n",
       "      <td>17:49:00</td>\n",
       "      <td>45.600529</td>\n",
       "      <td>-73.595451</td>\n",
       "      <td>120.0</td>\n",
       "      <td>2.50002</td>\n",
       "      <td>2</td>\n",
       "      <td>1745792095</td>\n",
       "      <td>1</td>\n",
       "      <td>699.591350</td>\n",
       "    </tr>\n",
       "    <tr>\n",
       "      <th>76</th>\n",
       "      <td>284752224</td>\n",
       "      <td>55</td>\n",
       "      <td>52947</td>\n",
       "      <td>2025-04-27 22:18:23+00:00</td>\n",
       "      <td>NaT</td>\n",
       "      <td>0</td>\n",
       "      <td>47</td>\n",
       "      <td>1.000000</td>\n",
       "      <td>Saint-Laurent / Saint-Jacques</td>\n",
       "      <td>45.506482</td>\n",
       "      <td>...</td>\n",
       "      <td>42015</td>\n",
       "      <td>17:25:00</td>\n",
       "      <td>45.503372</td>\n",
       "      <td>-73.560776</td>\n",
       "      <td>0.0</td>\n",
       "      <td>0.00000</td>\n",
       "      <td>2</td>\n",
       "      <td>1745792078</td>\n",
       "      <td>2</td>\n",
       "      <td>497.842018</td>\n",
       "    </tr>\n",
       "    <tr>\n",
       "      <th>93</th>\n",
       "      <td>283553131</td>\n",
       "      <td>51</td>\n",
       "      <td>50110</td>\n",
       "      <td>2025-04-27 22:55:00+00:00</td>\n",
       "      <td>NaT</td>\n",
       "      <td>0</td>\n",
       "      <td>53</td>\n",
       "      <td>1.000000</td>\n",
       "      <td>Gare Montréal-Ouest (Elmhurst / Sherbrooke)</td>\n",
       "      <td>45.454203</td>\n",
       "      <td>...</td>\n",
       "      <td>41007</td>\n",
       "      <td>18:04:00</td>\n",
       "      <td>45.469250</td>\n",
       "      <td>-73.602531</td>\n",
       "      <td>0.0</td>\n",
       "      <td>0.00000</td>\n",
       "      <td>2</td>\n",
       "      <td>1745795448</td>\n",
       "      <td>1</td>\n",
       "      <td>3467.991306</td>\n",
       "    </tr>\n",
       "    <tr>\n",
       "      <th>94</th>\n",
       "      <td>283553304</td>\n",
       "      <td>51</td>\n",
       "      <td>50110</td>\n",
       "      <td>2025-04-27 22:12:37+00:00</td>\n",
       "      <td>NaT</td>\n",
       "      <td>0</td>\n",
       "      <td>53</td>\n",
       "      <td>1.000000</td>\n",
       "      <td>Gare Montréal-Ouest (Elmhurst / Sherbrooke)</td>\n",
       "      <td>45.454203</td>\n",
       "      <td>...</td>\n",
       "      <td>40089</td>\n",
       "      <td>17:13:00</td>\n",
       "      <td>45.457382</td>\n",
       "      <td>-73.639320</td>\n",
       "      <td>39.0</td>\n",
       "      <td>7.50006</td>\n",
       "      <td>2</td>\n",
       "      <td>1745792086</td>\n",
       "      <td>2</td>\n",
       "      <td>391.626870</td>\n",
       "    </tr>\n",
       "    <tr>\n",
       "      <th>...</th>\n",
       "      <td>...</td>\n",
       "      <td>...</td>\n",
       "      <td>...</td>\n",
       "      <td>...</td>\n",
       "      <td>...</td>\n",
       "      <td>...</td>\n",
       "      <td>...</td>\n",
       "      <td>...</td>\n",
       "      <td>...</td>\n",
       "      <td>...</td>\n",
       "      <td>...</td>\n",
       "      <td>...</td>\n",
       "      <td>...</td>\n",
       "      <td>...</td>\n",
       "      <td>...</td>\n",
       "      <td>...</td>\n",
       "      <td>...</td>\n",
       "      <td>...</td>\n",
       "      <td>...</td>\n",
       "      <td>...</td>\n",
       "      <td>...</td>\n",
       "    </tr>\n",
       "    <tr>\n",
       "      <th>344736</th>\n",
       "      <td>286591884</td>\n",
       "      <td>61</td>\n",
       "      <td>52898</td>\n",
       "      <td>2025-05-04 01:15:22+00:00</td>\n",
       "      <td>2025-05-04 01:15:22+00:00</td>\n",
       "      <td>0</td>\n",
       "      <td>7</td>\n",
       "      <td>0.137255</td>\n",
       "      <td>Wellington / Murray</td>\n",
       "      <td>45.492384</td>\n",
       "      <td>...</td>\n",
       "      <td>29064</td>\n",
       "      <td>21:09:00</td>\n",
       "      <td>45.493366</td>\n",
       "      <td>-73.557610</td>\n",
       "      <td>121.0</td>\n",
       "      <td>2.77780</td>\n",
       "      <td>2</td>\n",
       "      <td>1746321339</td>\n",
       "      <td>1</td>\n",
       "      <td>118.280391</td>\n",
       "    </tr>\n",
       "    <tr>\n",
       "      <th>344739</th>\n",
       "      <td>284302838</td>\n",
       "      <td>103</td>\n",
       "      <td>53799</td>\n",
       "      <td>NaT</td>\n",
       "      <td>2025-05-04 01:09:00+00:00</td>\n",
       "      <td>0</td>\n",
       "      <td>1</td>\n",
       "      <td>0.035714</td>\n",
       "      <td>Station Villa-Maria</td>\n",
       "      <td>45.479498</td>\n",
       "      <td>...</td>\n",
       "      <td>37074</td>\n",
       "      <td>21:09:00</td>\n",
       "      <td>45.479473</td>\n",
       "      <td>-73.619514</td>\n",
       "      <td>0.0</td>\n",
       "      <td>0.00000</td>\n",
       "      <td>1</td>\n",
       "      <td>1746320446</td>\n",
       "      <td>1</td>\n",
       "      <td>5.810695</td>\n",
       "    </tr>\n",
       "    <tr>\n",
       "      <th>344740</th>\n",
       "      <td>284302838</td>\n",
       "      <td>103</td>\n",
       "      <td>50962</td>\n",
       "      <td>2025-05-04 01:15:53+00:00</td>\n",
       "      <td>2025-05-04 01:15:53+00:00</td>\n",
       "      <td>0</td>\n",
       "      <td>9</td>\n",
       "      <td>0.321429</td>\n",
       "      <td>Grand Boulevard / de Terrebonne</td>\n",
       "      <td>45.470548</td>\n",
       "      <td>...</td>\n",
       "      <td>37074</td>\n",
       "      <td>21:09:00</td>\n",
       "      <td>45.469296</td>\n",
       "      <td>-73.628548</td>\n",
       "      <td>0.0</td>\n",
       "      <td>0.00000</td>\n",
       "      <td>2</td>\n",
       "      <td>1746321358</td>\n",
       "      <td>1</td>\n",
       "      <td>274.358528</td>\n",
       "    </tr>\n",
       "    <tr>\n",
       "      <th>344754</th>\n",
       "      <td>286589756</td>\n",
       "      <td>71</td>\n",
       "      <td>52148</td>\n",
       "      <td>NaT</td>\n",
       "      <td>2025-05-04 01:03:00+00:00</td>\n",
       "      <td>0</td>\n",
       "      <td>1</td>\n",
       "      <td>0.035714</td>\n",
       "      <td>Station Guy-Concordia (De Maisonneuve/St-Mathieu)</td>\n",
       "      <td>45.494350</td>\n",
       "      <td>...</td>\n",
       "      <td>40001</td>\n",
       "      <td>21:03:00</td>\n",
       "      <td>45.494312</td>\n",
       "      <td>-73.580826</td>\n",
       "      <td>0.0</td>\n",
       "      <td>0.00000</td>\n",
       "      <td>1</td>\n",
       "      <td>1746320457</td>\n",
       "      <td>1</td>\n",
       "      <td>6.469056</td>\n",
       "    </tr>\n",
       "    <tr>\n",
       "      <th>344756</th>\n",
       "      <td>286589383</td>\n",
       "      <td>38</td>\n",
       "      <td>51908</td>\n",
       "      <td>2025-05-04 01:14:34+00:00</td>\n",
       "      <td>2025-05-04 01:14:34+00:00</td>\n",
       "      <td>0</td>\n",
       "      <td>13</td>\n",
       "      <td>0.500000</td>\n",
       "      <td>de l'Église / Eadie</td>\n",
       "      <td>45.463825</td>\n",
       "      <td>...</td>\n",
       "      <td>40068</td>\n",
       "      <td>21:02:00</td>\n",
       "      <td>45.463623</td>\n",
       "      <td>-73.586418</td>\n",
       "      <td>0.0</td>\n",
       "      <td>0.00000</td>\n",
       "      <td>2</td>\n",
       "      <td>1746321356</td>\n",
       "      <td>1</td>\n",
       "      <td>264.308850</td>\n",
       "    </tr>\n",
       "  </tbody>\n",
       "</table>\n",
       "<p>59988 rows × 29 columns</p>\n",
       "</div>"
      ],
      "text/plain": [
       "          trip_id  route_id  stop_id           rt_arrival_time  \\\n",
       "4       283213434       968    60296                       NaT   \n",
       "53      283855195        33    54923 2025-04-27 22:15:02+00:00   \n",
       "76      284752224        55    52947 2025-04-27 22:18:23+00:00   \n",
       "93      283553131        51    50110 2025-04-27 22:55:00+00:00   \n",
       "94      283553304        51    50110 2025-04-27 22:12:37+00:00   \n",
       "...           ...       ...      ...                       ...   \n",
       "344736  286591884        61    52898 2025-05-04 01:15:22+00:00   \n",
       "344739  284302838       103    53799                       NaT   \n",
       "344740  284302838       103    50962 2025-05-04 01:15:53+00:00   \n",
       "344754  286589756        71    52148                       NaT   \n",
       "344756  286589383        38    51908 2025-05-04 01:14:34+00:00   \n",
       "\n",
       "               rt_departure_time  schedule_relationship  stop_sequence  \\\n",
       "4      2025-04-27 23:00:00+00:00                      0              1   \n",
       "53     2025-04-27 22:15:02+00:00                      0             35   \n",
       "76                           NaT                      0             47   \n",
       "93                           NaT                      0             53   \n",
       "94                           NaT                      0             53   \n",
       "...                          ...                    ...            ...   \n",
       "344736 2025-05-04 01:15:22+00:00                      0              7   \n",
       "344739 2025-05-04 01:09:00+00:00                      0              1   \n",
       "344740 2025-05-04 01:15:53+00:00                      0              9   \n",
       "344754 2025-05-04 01:03:00+00:00                      0              1   \n",
       "344756 2025-05-04 01:14:34+00:00                      0             13   \n",
       "\n",
       "        trip_progress                                          stop_name  \\\n",
       "4            0.333333                                 Station Côte-Vertu   \n",
       "53           0.583333                                 Langelier / Robert   \n",
       "76           1.000000                      Saint-Laurent / Saint-Jacques   \n",
       "93           1.000000        Gare Montréal-Ouest (Elmhurst / Sherbrooke)   \n",
       "94           1.000000        Gare Montréal-Ouest (Elmhurst / Sherbrooke)   \n",
       "...               ...                                                ...   \n",
       "344736       0.137255                                Wellington / Murray   \n",
       "344739       0.035714                                Station Villa-Maria   \n",
       "344740       0.321429                    Grand Boulevard / de Terrebonne   \n",
       "344754       0.035714  Station Guy-Concordia (De Maisonneuve/St-Mathieu)   \n",
       "344756       0.500000                                de l'Église / Eadie   \n",
       "\n",
       "         stop_lat  ...  vehicle_id start_time  vehicle_lat vehicle_lon  \\\n",
       "4       45.514212  ...       40187   19:00:00    45.514233  -73.684097   \n",
       "53      45.597087  ...       39109   17:49:00    45.600529  -73.595451   \n",
       "76      45.506482  ...       42015   17:25:00    45.503372  -73.560776   \n",
       "93      45.454203  ...       41007   18:04:00    45.469250  -73.602531   \n",
       "94      45.454203  ...       40089   17:13:00    45.457382  -73.639320   \n",
       "...           ...  ...         ...        ...          ...         ...   \n",
       "344736  45.492384  ...       29064   21:09:00    45.493366  -73.557610   \n",
       "344739  45.479498  ...       37074   21:09:00    45.479473  -73.619514   \n",
       "344740  45.470548  ...       37074   21:09:00    45.469296  -73.628548   \n",
       "344754  45.494350  ...       40001   21:03:00    45.494312  -73.580826   \n",
       "344756  45.463825  ...       40068   21:02:00    45.463623  -73.586418   \n",
       "\n",
       "        vehicle_bearing  vehicle_speed vehicle_status  vehicle_dt  \\\n",
       "4                   0.0        0.00000              1  1745793882   \n",
       "53                120.0        2.50002              2  1745792095   \n",
       "76                  0.0        0.00000              2  1745792078   \n",
       "93                  0.0        0.00000              2  1745795448   \n",
       "94                 39.0        7.50006              2  1745792086   \n",
       "...                 ...            ...            ...         ...   \n",
       "344736            121.0        2.77780              2  1746321339   \n",
       "344739              0.0        0.00000              1  1746320446   \n",
       "344740              0.0        0.00000              2  1746321358   \n",
       "344754              0.0        0.00000              1  1746320457   \n",
       "344756              0.0        0.00000              2  1746321356   \n",
       "\n",
       "        occupancy_status  vehicle_distance  \n",
       "4                      1          6.475190  \n",
       "53                     1        699.591350  \n",
       "76                     2        497.842018  \n",
       "93                     1       3467.991306  \n",
       "94                     2        391.626870  \n",
       "...                  ...               ...  \n",
       "344736                 1        118.280391  \n",
       "344739                 1          5.810695  \n",
       "344740                 1        274.358528  \n",
       "344754                 1          6.469056  \n",
       "344756                 1        264.308850  \n",
       "\n",
       "[59988 rows x 29 columns]"
      ]
     },
     "execution_count": 53,
     "metadata": {},
     "output_type": "execute_result"
    }
   ],
   "source": [
    "further_than_previous_stop = stm_trips_positions_df['vehicle_distance'] > stm_trips_positions_df['stop_distance']\n",
    "stm_trips_positions_df[further_than_previous_stop]"
   ]
  },
  {
   "cell_type": "markdown",
   "id": "ff234bce",
   "metadata": {},
   "source": [
    "The large vehicle distances don't make sense with the delays. It will confuse the model so the coordinates and the distance won't be used."
   ]
  },
  {
   "cell_type": "code",
   "execution_count": 54,
   "id": "4ec0d9e9",
   "metadata": {},
   "outputs": [],
   "source": [
    "# Drop unneeded columns\n",
    "stm_trips_positions_df = stm_trips_positions_df.drop(['vehicle_lat', 'vehicle_lon', 'vehicle_dt', 'vehicle_distance', 'start_time'], axis=1)"
   ]
  },
  {
   "cell_type": "markdown",
   "id": "d280b098",
   "metadata": {},
   "source": [
    "### Service Alerts"
   ]
  },
  {
   "cell_type": "code",
   "execution_count": 67,
   "id": "6ef3365d",
   "metadata": {},
   "outputs": [
    {
     "name": "stdout",
     "output_type": "stream",
     "text": [
      "62.65%\n"
     ]
    }
   ],
   "source": [
    "# Get proportion of duplicates\n",
    "duplicate_mask = alerts_df.duplicated()\n",
    "print(f'{duplicate_mask.mean():.2%}')"
   ]
  },
  {
   "cell_type": "code",
   "execution_count": 68,
   "id": "a5ba7ac7",
   "metadata": {},
   "outputs": [],
   "source": [
    "# Remove duplicates\n",
    "alerts_df = alerts_df.drop_duplicates().reset_index(drop=True)"
   ]
  },
  {
   "cell_type": "code",
   "execution_count": 69,
   "id": "e8a67d6c",
   "metadata": {},
   "outputs": [],
   "source": [
    "# Convert timestamps to datetime\n",
    "alerts_df['start_time'] = pd.to_datetime(alerts_df['start_time'] * 1000, origin='unix', unit='ms', utc=True)\n",
    "alerts_df['end_time'] = pd.to_datetime(alerts_df['end_time'] * 1000, origin='unix', unit='ms', utc=True)"
   ]
  },
  {
   "cell_type": "code",
   "execution_count": 70,
   "id": "3bed7a8a",
   "metadata": {},
   "outputs": [],
   "source": [
    "# Fill null end time with current date (assuming the alert is still active)\n",
    "alerts_df['end_time'] = alerts_df['end_time'].fillna(datetime.now(timezone.utc).replace(microsecond=0))"
   ]
  },
  {
   "cell_type": "code",
   "execution_count": 71,
   "id": "bce83fcb",
   "metadata": {},
   "outputs": [],
   "source": [
    "# Sort values by date\n",
    "alerts_df = alerts_df.sort_values('start_time').reset_index()"
   ]
  },
  {
   "cell_type": "code",
   "execution_count": 72,
   "id": "81a3bb50",
   "metadata": {},
   "outputs": [],
   "source": [
    "stm_df = pd.merge(left=stm_trips_positions_df, right=alerts_df, how='left', on=['route_id', 'stop_id'])"
   ]
  },
  {
   "cell_type": "code",
   "execution_count": 73,
   "id": "d3bab171",
   "metadata": {},
   "outputs": [
    {
     "data": {
      "text/plain": [
       "Index(['trip_id', 'route_id', 'stop_id', 'rt_arrival_time',\n",
       "       'rt_departure_time', 'schedule_relationship', 'stop_sequence',\n",
       "       'trip_progress', 'stop_name', 'stop_lat', 'stop_lon', 'stop_url',\n",
       "       'location_type', 'parent_station', 'wheelchair_boarding',\n",
       "       'stop_distance', 'sch_arrival_time', 'sch_departure_time', 'delay',\n",
       "       'vehicle_id', 'vehicle_bearing', 'vehicle_speed', 'vehicle_status',\n",
       "       'occupancy_status', 'index', 'start_time', 'end_time'],\n",
       "      dtype='object')"
      ]
     },
     "execution_count": 73,
     "metadata": {},
     "output_type": "execute_result"
    }
   ],
   "source": [
    "stm_df.columns"
   ]
  },
  {
   "cell_type": "code",
   "execution_count": 74,
   "id": "a03ed87d",
   "metadata": {},
   "outputs": [],
   "source": [
    "# Add column has_alert\n",
    "has_alert_mask = (stm_df['start_time'].notna()) & \\\n",
    "\t(stm_df['rt_arrival_time'] >= stm_df['start_time']) & \\\n",
    "\t(stm_df['rt_arrival_time'] <= stm_df['end_time'])\n",
    "stm_df['stop_has_alert'] = has_alert_mask.astype('int64')"
   ]
  },
  {
   "cell_type": "code",
   "execution_count": 75,
   "id": "770db1a8",
   "metadata": {},
   "outputs": [
    {
     "data": {
      "text/plain": [
       "stop_has_alert\n",
       "0    335460\n",
       "1     19741\n",
       "Name: count, dtype: int64"
      ]
     },
     "execution_count": 75,
     "metadata": {},
     "output_type": "execute_result"
    }
   ],
   "source": [
    "stm_df['stop_has_alert'].value_counts()"
   ]
  },
  {
   "cell_type": "code",
   "execution_count": 76,
   "id": "4ecf18eb",
   "metadata": {},
   "outputs": [],
   "source": [
    "# Drop unneeded datetime columns and index\n",
    "stm_df = stm_df.drop(['start_time', 'end_time', 'index'], axis=1)"
   ]
  },
  {
   "cell_type": "markdown",
   "id": "7b431a68",
   "metadata": {},
   "source": [
    "### STM and Weather"
   ]
  },
  {
   "cell_type": "code",
   "execution_count": 77,
   "id": "ad7f9e32",
   "metadata": {},
   "outputs": [],
   "source": [
    "# Convert time string to datetime\n",
    "time_dt = pd.to_datetime(weather_df['time'], utc=True)"
   ]
  },
  {
   "cell_type": "code",
   "execution_count": 78,
   "id": "54317d78",
   "metadata": {},
   "outputs": [],
   "source": [
    "# Calculate dates for weather forecast\n",
    "last_day_weather = time_dt.max()\n",
    "start_date = last_day_weather + timedelta(days=1)\n",
    "end_date = stm_df['rt_arrival_time'].max()"
   ]
  },
  {
   "cell_type": "code",
   "execution_count": 79,
   "id": "705c3caa",
   "metadata": {},
   "outputs": [],
   "source": [
    "# Fetch forecast weather\n",
    "start_date_str = start_date.strftime('%Y-%m-%d')\n",
    "end_date_str = end_date.strftime('%Y-%m-%d')\n",
    "\n",
    "forecast_list = fetch_weather(start_date=start_date_str, end_date=end_date_str, forecast=True)\n",
    "forecast_df = pd.DataFrame(forecast_list)"
   ]
  },
  {
   "cell_type": "code",
   "execution_count": 80,
   "id": "a8a5858f",
   "metadata": {},
   "outputs": [],
   "source": [
    "# Merge archive and forecast weather\n",
    "weather_df = pd.concat([weather_df, forecast_df], ignore_index=True)"
   ]
  },
  {
   "cell_type": "code",
   "execution_count": 81,
   "id": "c139f560",
   "metadata": {},
   "outputs": [],
   "source": [
    "# Round arrival time to the nearest hour\n",
    "rounded_arrival_dt = stm_df['rt_arrival_time'].dt.round('h')"
   ]
  },
  {
   "cell_type": "code",
   "execution_count": 82,
   "id": "5d4d8333",
   "metadata": {},
   "outputs": [],
   "source": [
    "# Format time to match weather data\n",
    "stm_df['time'] = rounded_arrival_dt.dt.strftime('%Y-%m-%dT%H:%M')"
   ]
  },
  {
   "cell_type": "code",
   "execution_count": 83,
   "id": "f2552f97",
   "metadata": {},
   "outputs": [],
   "source": [
    "# Merge STM with weather\n",
    "stm_weather_df = pd.merge(left=stm_df, right=weather_df, how='inner', on='time').drop('time', axis=1)"
   ]
  },
  {
   "cell_type": "markdown",
   "id": "fe11c074",
   "metadata": {},
   "source": [
    "### Traffic Data"
   ]
  },
  {
   "cell_type": "code",
   "execution_count": 84,
   "id": "3ced7c04",
   "metadata": {},
   "outputs": [
    {
     "name": "stdout",
     "output_type": "stream",
     "text": [
      "36.18%\n"
     ]
    }
   ],
   "source": [
    "# Get proportion of duplicates\n",
    "duplicate_mask = traffic_df.duplicated()\n",
    "print(f'{duplicate_mask.mean():.2%}')"
   ]
  },
  {
   "cell_type": "code",
   "execution_count": 85,
   "id": "4e69a875",
   "metadata": {},
   "outputs": [],
   "source": [
    "# Remove duplicates\n",
    "traffic_df = traffic_df.drop_duplicates(keep='last').reset_index()"
   ]
  },
  {
   "cell_type": "code",
   "execution_count": 86,
   "id": "ede164f5",
   "metadata": {},
   "outputs": [],
   "source": [
    "# Convert traffic start_time and end_time to datetime\n",
    "traffic_df['start_time'] = pd.to_datetime(traffic_df['start_time'], utc=True)\n",
    "traffic_df['end_time'] = pd.to_datetime(traffic_df['end_time'], utc=True)"
   ]
  },
  {
   "cell_type": "code",
   "execution_count": 87,
   "id": "d1c79ec6",
   "metadata": {},
   "outputs": [],
   "source": [
    "# Sort by date\n",
    "traffic_df = traffic_df.sort_values(by='start_time').reset_index()"
   ]
  },
  {
   "cell_type": "code",
   "execution_count": 88,
   "id": "c2a61030",
   "metadata": {},
   "outputs": [],
   "source": [
    "# Fill null end times with current time (assuming the incident is still ongoing)\n",
    "traffic_df['end_time'] = traffic_df['end_time'].fillna(datetime.now(timezone.utc).replace(microsecond=0))\n",
    "assert traffic_df['end_time'].isna().sum() == 0"
   ]
  },
  {
   "cell_type": "code",
   "execution_count": 89,
   "id": "a2f51d97",
   "metadata": {},
   "outputs": [],
   "source": [
    "# Build traffic cache (for every 15 min interval)\n",
    "def build_traffic_cache(traffic_df:pd.DataFrame) -> dict:\n",
    "\ttraffic_cache = {}\n",
    "\ttraffic_df['quarter_hour'] = traffic_df['start_time'].dt.floor('15min')\n",
    "\n",
    "\tfor (hour, group) in traffic_df.groupby('quarter_hour'):\n",
    "\t\ttraffic_cache[hour] = group.copy()\n",
    "\n",
    "\treturn traffic_cache"
   ]
  },
  {
   "cell_type": "markdown",
   "id": "f3850f2b",
   "metadata": {},
   "source": [
    "Since there are many trip updates on the same day (even the same hour), there's a risk of repeating the filtering of active traffic incidents for each trip individually, which takes a lot of time for a large dataset. Traffic incidents are stable over minutes or hours. This is why the incidents will be cached by 15 minute intervals."
   ]
  },
  {
   "cell_type": "code",
   "execution_count": 90,
   "id": "e84143f7",
   "metadata": {},
   "outputs": [],
   "source": [
    "def calculate_nearby_incidents(trip_update:pd.Series, traffic_cache:dict, max_distance:int=500) -> pd.Series:\n",
    "\ttrip_datetime = trip_update['rt_arrival_time']\n",
    "\tstop_coords = (trip_update['stop_lat'], trip_update['stop_lon'])\n",
    "\n",
    "\ttrip_quarter_hour = trip_datetime.floor('15min')\n",
    "\n",
    "\t# Get cached incidents\n",
    "\tquarter_hour_incidents = traffic_cache.get(trip_quarter_hour)\n",
    "\n",
    "\t# Stop if there are no incidents for that hour\n",
    "\tif quarter_hour_incidents is None or quarter_hour_incidents.empty:\n",
    "\t\treturn pd.Series({\n",
    "\t\t\t'incident_nearby': 0,\n",
    "\t\t\t'nearest_incident_distance': None,\n",
    "\t\t\t'incident_category': None,\n",
    "\t\t\t'incident_delay': None,\n",
    "\t\t\t'incident_delay_magnitude': None\n",
    "\t\t})\n",
    "\n",
    "\t# Filter for active incidents at that trip hour\n",
    "\tactive_incidents = quarter_hour_incidents[\n",
    "\t\t(quarter_hour_incidents['start_time'] <= trip_datetime) &\n",
    "\t\t(quarter_hour_incidents['end_time'] >= trip_datetime)\n",
    "\t].copy()\n",
    "\n",
    "\tif active_incidents.empty:\n",
    "\t\treturn pd.Series({\n",
    "\t\t\t'incident_nearby': 0,\n",
    "\t\t\t'nearest_incident_distance': None,\n",
    "\t\t\t'incident_category': None,\n",
    "\t\t\t'incident_delay': None,\n",
    "\t\t\t'incident_delay_magnitude': None\n",
    "\t\t})\n",
    "\n",
    "\t# Calculate distance     \n",
    "\tactive_incidents['distance'] = active_incidents.apply(\n",
    "\t\tlambda row: haversine(stop_coords, (row['latitude'], row['longitude']), unit=Unit.METERS),\n",
    "\t\taxis=1\n",
    "\t)\n",
    "\n",
    "\t# Filter nearby\n",
    "\tnearby_incidents = active_incidents[active_incidents['distance'] <= max_distance]\n",
    "\n",
    "\tif nearby_incidents.empty:\n",
    "\t\treturn pd.Series({\n",
    "\t\t\t'incident_nearby': 0,\n",
    "\t\t\t'nearest_incident_distance': None,\n",
    "\t\t\t'incident_category': None,\n",
    "\t\t\t'incident_delay': None,\n",
    "\t\t\t'incident_delay_magnitude': None\n",
    "\t\t})\n",
    "\telse:\n",
    "\t\tnearest = nearby_incidents.loc[nearby_incidents['distance'].idxmin()]\n",
    "\t\treturn pd.Series({\n",
    "\t\t\t'incident_nearby': 1,\n",
    "\t\t\t'nearest_incident_distance': nearest['distance'],\n",
    "\t\t\t'incident_category': nearest['category'],\n",
    "\t\t\t'incident_delay': nearest['delay'],\n",
    "\t\t\t'incident_delay_magnitude': nearest['magnitude_of_delay']\n",
    "\t\t})"
   ]
  },
  {
   "cell_type": "code",
   "execution_count": 91,
   "id": "fa13cf97",
   "metadata": {},
   "outputs": [],
   "source": [
    "# Get traffic columns (get incidents within 2 km)\n",
    "traffic_cache = build_traffic_cache(traffic_df)\n",
    "traffic_cols = stm_weather_df.apply(lambda row: calculate_nearby_incidents(row, traffic_cache, 2000), axis=1)"
   ]
  },
  {
   "cell_type": "markdown",
   "id": "70659ae4",
   "metadata": {},
   "source": [
    "General area traffic (within 1-2 km) could affect delays, even if it's not directly at the stop. This is why incidents within 2 km are calculated."
   ]
  },
  {
   "cell_type": "code",
   "execution_count": 92,
   "id": "84f574b4",
   "metadata": {},
   "outputs": [],
   "source": [
    "# Merge the traffic\n",
    "df = pd.concat([stm_weather_df, traffic_cols], axis=1)"
   ]
  },
  {
   "cell_type": "markdown",
   "id": "54983bb1",
   "metadata": {},
   "source": [
    "## Clean Data"
   ]
  },
  {
   "cell_type": "markdown",
   "id": "429d203b",
   "metadata": {},
   "source": [
    "### Convert columns"
   ]
  },
  {
   "cell_type": "code",
   "execution_count": 93,
   "id": "7b1ed74d",
   "metadata": {},
   "outputs": [
    {
     "data": {
      "text/plain": [
       "Index(['wheelchair_boarding', 'vehicle_status', 'stop_has_alert',\n",
       "       'incident_nearby'],\n",
       "      dtype='object')"
      ]
     },
     "execution_count": 93,
     "metadata": {},
     "output_type": "execute_result"
    }
   ],
   "source": [
    "# Get columns with two values\n",
    "two_values = df.loc[:, df.nunique() == 2]\n",
    "two_values.columns"
   ]
  },
  {
   "cell_type": "code",
   "execution_count": 94,
   "id": "fa29aec8",
   "metadata": {},
   "outputs": [
    {
     "name": "stdout",
     "output_type": "stream",
     "text": [
      "wheelchair_boarding\n",
      "1    305388\n",
      "2     16820\n",
      "Name: count, dtype: int64\n",
      "vehicle_status\n",
      "2    251528\n",
      "1     70680\n",
      "Name: count, dtype: int64\n",
      "incident_nearby\n",
      "0.0    268662\n",
      "1.0     53546\n",
      "Name: count, dtype: int64\n",
      "stop_has_alert\n",
      "0    302467\n",
      "1     19741\n",
      "Name: count, dtype: int64\n"
     ]
    }
   ],
   "source": [
    "print(df['wheelchair_boarding'].value_counts())\n",
    "print(df['vehicle_status'].value_counts())\n",
    "print(df['incident_nearby'].value_counts())\n",
    "print(df['stop_has_alert'].value_counts())"
   ]
  },
  {
   "cell_type": "code",
   "execution_count": 95,
   "id": "48fe1ce6",
   "metadata": {},
   "outputs": [],
   "source": [
    "# Convert columns with 2 unique values to integer\n",
    "df['wheelchair_boarding'] = (df['wheelchair_boarding'] == 1).astype('int64')\n",
    "df['vehicle_in_transit'] = (df['vehicle_status'] == 2).astype('int64')\n",
    "df['incident_nearby'] = df['incident_nearby'].astype('int64')"
   ]
  },
  {
   "cell_type": "markdown",
   "id": "576f7240",
   "metadata": {},
   "source": [
    "### Drop columns"
   ]
  },
  {
   "cell_type": "code",
   "execution_count": 96,
   "id": "08f47649",
   "metadata": {},
   "outputs": [
    {
     "data": {
      "text/plain": [
       "Index(['trip_id', 'route_id', 'stop_id', 'rt_arrival_time',\n",
       "       'rt_departure_time', 'schedule_relationship', 'stop_sequence',\n",
       "       'trip_progress', 'stop_name', 'stop_lat', 'stop_lon', 'stop_url',\n",
       "       'wheelchair_boarding', 'stop_distance', 'sch_arrival_time',\n",
       "       'sch_departure_time', 'delay', 'vehicle_id', 'vehicle_bearing',\n",
       "       'vehicle_speed', 'vehicle_status', 'occupancy_status', 'stop_has_alert',\n",
       "       'temperature', 'precipitation', 'windspeed', 'weathercode',\n",
       "       'incident_nearby', 'vehicle_in_transit'],\n",
       "      dtype='object')"
      ]
     },
     "execution_count": 96,
     "metadata": {},
     "output_type": "execute_result"
    }
   ],
   "source": [
    "# Remove columns with constant values or with more than 50% missing values\n",
    "df = df.loc[:, (df.nunique() > 1) & (df.isna().mean() < 0.5)]\n",
    "df.columns"
   ]
  },
  {
   "cell_type": "markdown",
   "id": "a0efe3d1",
   "metadata": {},
   "source": [
    "**Other columns to drop**\n",
    "\n",
    "`stop_url`: An url is not useful for data analysis.<br>\n",
    "`vehicle_status`: It has been converted to vehicle_in_transit.<br>"
   ]
  },
  {
   "cell_type": "markdown",
   "id": "02f945fb",
   "metadata": {},
   "source": [
    "### Create Delay Categories"
   ]
  },
  {
   "cell_type": "code",
   "execution_count": 104,
   "id": "d493de76",
   "metadata": {},
   "outputs": [
    {
     "data": {
      "text/plain": [
       "count    322208.000000\n",
       "mean         58.600575\n",
       "std         308.803202\n",
       "min      -13592.000000\n",
       "25%           0.000000\n",
       "50%           0.000000\n",
       "75%          40.000000\n",
       "max       31108.000000\n",
       "Name: delay, dtype: float64"
      ]
     },
     "execution_count": 104,
     "metadata": {},
     "output_type": "execute_result"
    }
   ],
   "source": [
    "df['delay'].describe()"
   ]
  },
  {
   "cell_type": "code",
   "execution_count": 105,
   "id": "6c53d4cd",
   "metadata": {},
   "outputs": [],
   "source": [
    "# Create ranges and labels based on distribution\n",
    "labels = ['Very Early', 'Early', 'On Time', 'Late', 'Very Late']\n",
    "ranges = [-np.inf, -60, 0, 60, 300, np.inf]"
   ]
  },
  {
   "cell_type": "code",
   "execution_count": 106,
   "id": "4d58c0b2",
   "metadata": {},
   "outputs": [
    {
     "data": {
      "text/plain": [
       "delay_class\n",
       "On Time       0.716010\n",
       "Late          0.173354\n",
       "Very Late     0.066584\n",
       "Very Early    0.027662\n",
       "Early         0.016390\n",
       "Name: proportion, dtype: float64"
      ]
     },
     "execution_count": 106,
     "metadata": {},
     "output_type": "execute_result"
    }
   ],
   "source": [
    "# Add delay category column\n",
    "df['delay_class'] = pd.cut(df['delay'], bins=ranges, labels=labels, include_lowest=True, right=False)\n",
    "df['delay_class'].value_counts(normalize=True)"
   ]
  },
  {
   "cell_type": "markdown",
   "id": "f6f020a7",
   "metadata": {},
   "source": [
    "### Create Weather Categories"
   ]
  },
  {
   "cell_type": "code",
   "execution_count": 107,
   "id": "accd96b8",
   "metadata": {},
   "outputs": [],
   "source": [
    "# Create weather code mapping\n",
    "weathercodes = df['weathercode'].sort_values().unique()\n",
    "condition_list = []\n",
    "label_list = []\n",
    "\n",
    "for code in weathercodes:\n",
    "  condition_list.append(df['weathercode'] == code)\n",
    "  label_list.append(WEATHER_CODES[code])"
   ]
  },
  {
   "cell_type": "code",
   "execution_count": 108,
   "id": "51e5ebf9",
   "metadata": {},
   "outputs": [
    {
     "data": {
      "text/plain": [
       "weather\n",
       "Overcast            144665\n",
       "Clear sky            92861\n",
       "Mainly clear         30047\n",
       "Partly cloudy        20265\n",
       "Light drizzle        20118\n",
       "Slight rain          10281\n",
       "Dense drizzle         2967\n",
       "Moderate drizzle      1004\n",
       "Name: count, dtype: int64"
      ]
     },
     "execution_count": 108,
     "metadata": {},
     "output_type": "execute_result"
    }
   ],
   "source": [
    "# Create categories\n",
    "df['weather'] = np.select(condition_list, label_list, default='Unknown')\n",
    "df['weather'].value_counts()"
   ]
  },
  {
   "cell_type": "markdown",
   "id": "6b6f1aca",
   "metadata": {},
   "source": [
    "### Convert Schedule Relationship to Categories"
   ]
  },
  {
   "cell_type": "code",
   "execution_count": 109,
   "id": "b1ed6286",
   "metadata": {},
   "outputs": [],
   "source": [
    "# Create schedule relationship mapping\n",
    "sch_codes = df['schedule_relationship'].sort_values().unique()\n",
    "condition_list = []\n",
    "label_list = []\n",
    "\n",
    "for code in sch_codes:\n",
    "  condition_list.append(df['schedule_relationship'] == code)\n",
    "  label_list.append(SCHEDULE_RELATIONSHIP[code])"
   ]
  },
  {
   "cell_type": "code",
   "execution_count": 110,
   "id": "b792bcf5",
   "metadata": {},
   "outputs": [
    {
     "data": {
      "text/plain": [
       "schedule_relationship\n",
       "Scheduled    321824\n",
       "Skipped         370\n",
       "No Data          14\n",
       "Name: count, dtype: int64"
      ]
     },
     "execution_count": 110,
     "metadata": {},
     "output_type": "execute_result"
    }
   ],
   "source": [
    "# Create categories\n",
    "df['schedule_relationship'] = np.select(condition_list, label_list, default='Unknown')\n",
    "df['schedule_relationship'].value_counts()"
   ]
  },
  {
   "cell_type": "markdown",
   "id": "5394b58e",
   "metadata": {},
   "source": [
    "### Convert Occupancy Status to Categories"
   ]
  },
  {
   "cell_type": "code",
   "execution_count": 111,
   "id": "53084d77",
   "metadata": {},
   "outputs": [],
   "source": [
    "# Create occupancy status mapping\n",
    "occ_codes = df['occupancy_status'].sort_values().unique()\n",
    "condition_list = []\n",
    "label_list = []\n",
    "\n",
    "for code in occ_codes:\n",
    "  condition_list.append(df['occupancy_status'] == code)\n",
    "  label_list.append(OCCUPANCY_STATUS[code])"
   ]
  },
  {
   "cell_type": "code",
   "execution_count": 112,
   "id": "c40775e6",
   "metadata": {},
   "outputs": [
    {
     "data": {
      "text/plain": [
       "occupancy_status\n",
       "Empty                         136521\n",
       "Many seats available          106648\n",
       "Few seats available            73563\n",
       "Crushed standing room only      5282\n",
       "Unknown                          194\n",
       "Name: count, dtype: int64"
      ]
     },
     "execution_count": 112,
     "metadata": {},
     "output_type": "execute_result"
    }
   ],
   "source": [
    "# Create categories\n",
    "df['occupancy_status'] = np.select(condition_list, label_list, default='Unknown')\n",
    "df['occupancy_status'].value_counts()"
   ]
  },
  {
   "cell_type": "markdown",
   "id": "baf5b062",
   "metadata": {},
   "source": [
    "## Export Data"
   ]
  },
  {
   "cell_type": "code",
   "execution_count": 113,
   "id": "51879280",
   "metadata": {},
   "outputs": [],
   "source": [
    "# Drop and reorder columns\n",
    "df = df[[\n",
    "\t'trip_id',\n",
    "  \t'vehicle_id',\n",
    "    'vehicle_in_transit', # converted\n",
    "    'vehicle_bearing',\n",
    "    'vehicle_speed',\n",
    "\t'occupancy_status',\n",
    "  \t'route_id',\n",
    "  \t'stop_id',\n",
    "    'stop_name',\n",
    "  \t'stop_lat',\n",
    "  \t'stop_lon',\n",
    "    'stop_distance', # engineered\n",
    "    'stop_sequence',\n",
    "  \t'trip_progress', # engineered\n",
    "    'stop_has_alert', # engineered\n",
    "  \t'wheelchair_boarding', # engineered\n",
    "    'schedule_relationship',\n",
    "  \t'rt_arrival_time', # parsed\n",
    "    'sch_arrival_time', # parsed\n",
    "    'rt_departure_time', # parsed\n",
    "    'sch_departure_time', # parsed\n",
    "    'delay', # engineered\n",
    "    'delay_class', # engineered\n",
    "  \t'temperature',\n",
    "  \t'precipitation',\n",
    "  \t'windspeed', \n",
    "\t'weather',\n",
    "  \t'incident_nearby', # engineered\n",
    "]]"
   ]
  },
  {
   "cell_type": "code",
   "execution_count": 114,
   "id": "8eb537d7",
   "metadata": {},
   "outputs": [],
   "source": [
    "# Export data to CSV\n",
    "df.to_csv('../data/stm_weather_traffic_merged.csv', index=False)"
   ]
  },
  {
   "cell_type": "markdown",
   "id": "a3b33a1a",
   "metadata": {},
   "source": [
    "## End"
   ]
  }
 ],
 "metadata": {
  "kernelspec": {
   "display_name": "venv",
   "language": "python",
   "name": "python3"
  },
  "language_info": {
   "codemirror_mode": {
    "name": "ipython",
    "version": 3
   },
   "file_extension": ".py",
   "mimetype": "text/x-python",
   "name": "python",
   "nbconvert_exporter": "python",
   "pygments_lexer": "ipython3",
   "version": "3.13.3"
  }
 },
 "nbformat": 4,
 "nbformat_minor": 5
}
