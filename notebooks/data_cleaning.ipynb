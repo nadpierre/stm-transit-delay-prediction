{
 "cells": [
  {
   "cell_type": "markdown",
   "id": "056758cb",
   "metadata": {},
   "source": [
    "# STM Transit Delay Data Preparation"
   ]
  },
  {
   "cell_type": "markdown",
   "id": "e8706868",
   "metadata": {},
   "source": [
    "## Overview"
   ]
  },
  {
   "cell_type": "markdown",
   "id": "3d911d34",
   "metadata": {},
   "source": [
    "This notebook merges data from different sources and prepares it for data analysis and preprocessing."
   ]
  },
  {
   "cell_type": "markdown",
   "id": "a6bc184d",
   "metadata": {},
   "source": [
    "## Data description"
   ]
  },
  {
   "cell_type": "markdown",
   "id": "b7358fab",
   "metadata": {},
   "source": [
    "### Real-time Trip Updates"
   ]
  },
  {
   "cell_type": "markdown",
   "id": "d5c2ee8a",
   "metadata": {},
   "source": [
    "`current_time`: Timestamp when the data was fetched from the GTFS, in microseconds.<br>\n",
    "`trip_id`: Unique identifier for the transit trip.<br>\n",
    "`route_id`: Unique identifier for a bus or metro line.<br>\n",
    "`start_date`: Start date of the transit trip.<br>\n",
    "`stop_id`: Unique identifier of a stop.<br>\n",
    "`arrival_time`, `departure_time`: Realtime arrival and departure time, in microseconds<br>\n",
    "`schedule_relationship`: State of the trip, 0 meaning \"scheduled\" and 1 meaning \"skipped\"."
   ]
  },
  {
   "cell_type": "markdown",
   "id": "d28e04ef",
   "metadata": {},
   "source": [
    "### Scheduled STM Trips"
   ]
  },
  {
   "cell_type": "markdown",
   "id": "bb31f7ab",
   "metadata": {},
   "source": [
    "`trip_id`: Unique identifier for the transit trip.<br>\n",
    "`arrival_time`, `departure_time`: Scheduled arrival and departure time.<br>\n",
    "`stop_id`: Unique identifier of a stop.<br>\n",
    "`stop_sequence`: Sequence of a stop, for ordering."
   ]
  },
  {
   "cell_type": "markdown",
   "id": "bc749154",
   "metadata": {},
   "source": [
    "### STM Stops"
   ]
  },
  {
   "cell_type": "markdown",
   "id": "a40b660a",
   "metadata": {},
   "source": [
    "`stop_id`: Unique identifier of a stop.<br>\n",
    "`stop_code`: Bus stop or metro station number.<br>\n",
    "`stop_name`: Bus stop or metro station name<br>\n",
    "`stop_lat`, `stop_lon`: Stop coordinates.<br>\n",
    "`stop_url`: Stop web page.<br>\n",
    "`location_type`: Stop type.<br>\n",
    "`parent_station`: Parent station (metro station with multiple exits).<br>\n",
    "`wheelchair_boarding`: Indicates if the stop is accessible for people in wheelchair, 1 being true and 2 being false."
   ]
  },
  {
   "cell_type": "markdown",
   "id": "4608bc4a",
   "metadata": {},
   "source": [
    "### Real-time Vehicle Positions"
   ]
  },
  {
   "cell_type": "markdown",
   "id": "c11c6a01",
   "metadata": {},
   "source": [
    "`current_time`: Timestamp when the data was fetched from the GTFS, in microseconds.<br>\n",
    "`vehicle_id`: Unique identifier for a vehicle.<br>\n",
    "`trip_id`: Unique identifier for the transit trip.<br>\n",
    "`route_id`: Unique identifier for a bus or metro line.<br>\n",
    "`start_date`: Start date of a transit trip.<br>\n",
    "`start_time`: Start time of a transit trip.<br>\n",
    "`latitude`, `longitude`: Vehicle current position.<br>\n",
    "`bearing`: Direction that the vehicle is facing, from 0 to 360 degrees.<br>\n",
    "`speed`: Momentary speed measured by the vehicle, in meters per second.<br>\n",
    "`stop_sequence`: Sequence of a stop, for ordering.<br>\n",
    "`status`: Vehicle stop status in relation with a stop that it's currently approaching or is at, 1 being \"stopped at\" and 2 being \"in transit to\".<br>\n",
    "`timestamp`: Timestamp when STM updated the data, in milliseconds.<br>\n",
    "`occupancy_status`: Degree of passenger occupancy, ranging from 1 (empty) to 7 (not accepting passengers)."
   ]
  },
  {
   "cell_type": "markdown",
   "id": "042db663",
   "metadata": {},
   "source": [
    "### Weather Archive and Forecast"
   ]
  },
  {
   "cell_type": "markdown",
   "id": "3ccfdc47",
   "metadata": {},
   "source": [
    "`time`: Date and hour or the weather.<br>\n",
    "`temperature`: Air temperature at 2 meters above ground, in Celsius.<br>\n",
    "`precipitation`: Total precipitation (rain, showers, snow) sum of the preceding hour, in millimeters.<br>\n",
    "`windspeed`: Wind speed at 10 meters above ground, in kilometers per hour.<br>\n",
    "`weathercode`: World Meteorological Organization (WMO) code, see [Open-Meteo API documentation](https://open-meteo.com/en/docs#weather_variable_documentation) for the list."
   ]
  },
  {
   "cell_type": "markdown",
   "id": "268c0ac0",
   "metadata": {},
   "source": [
    "### Traffic Incidents"
   ]
  },
  {
   "cell_type": "markdown",
   "id": "72e73a05",
   "metadata": {},
   "source": [
    "`category`: Category of the incident.<br>\n",
    "`start_time`: Start time of the incident, in ISO8601 format.<br>\n",
    "`end_time`: End time of the incident, in ISO8601 format.<br>\n",
    "`length`: Length of the incident in meters.<br>\n",
    "`delay`: Delay in seconds caused by the incident (except road closures).<br>\n",
    "`magnitude_of_delay`: Severity of the delay, ranging from 0 to 4 (minor to major).<br>\n",
    "`last_report_time`: Date when the last time the incident was reported,in ISO8601 format.<br>\n",
    "`latitude`, `longitude`: Coordinates of the incident."
   ]
  },
  {
   "cell_type": "markdown",
   "id": "3ca39527",
   "metadata": {},
   "source": [
    "## Imports"
   ]
  },
  {
   "cell_type": "code",
   "execution_count": 1,
   "id": "a0a7cafd",
   "metadata": {},
   "outputs": [],
   "source": [
    "from datetime import datetime, timedelta, timezone\n",
    "from haversine import haversine, Unit\n",
    "import pandas as pd\n",
    "import sys"
   ]
  },
  {
   "cell_type": "code",
   "execution_count": 2,
   "id": "faad2700",
   "metadata": {},
   "outputs": [],
   "source": [
    "# Import custom code\n",
    "sys.path.insert(0, '..')\n",
    "from scripts.custom_functions import fetch_weather, LOCAL_TIMEZONE"
   ]
  },
  {
   "cell_type": "code",
   "execution_count": 3,
   "id": "786cc667",
   "metadata": {},
   "outputs": [],
   "source": [
    "# Import data\n",
    "trips_df = pd.read_csv('../data/api/fetched_stm_trip_updates.csv', low_memory=False)\n",
    "schedules_df = pd.read_csv('../data/download/stop_times_2025-04-30.txt')\n",
    "stops_df = pd.read_csv('../data/download/stops_2025-04-30.txt')\n",
    "positions_df =  pd.read_csv('../data/api/fetched_stm_vehicle_positions.csv', low_memory=False)\n",
    "weather_df = pd.read_csv('../data/api/fetched_historical_weather.csv')\n",
    "traffic_df = pd.read_csv('../data/api/fetched_traffic.csv')"
   ]
  },
  {
   "cell_type": "markdown",
   "id": "84535ca9",
   "metadata": {},
   "source": [
    "## Clean Trip Updates"
   ]
  },
  {
   "cell_type": "code",
   "execution_count": 4,
   "id": "f03d62d1",
   "metadata": {},
   "outputs": [],
   "source": [
    "# Convert route_id to integer\n",
    "trips_df['route_id'] = trips_df['route_id'].str.extract(r'(\\d+)')\n",
    "trips_df['route_id'] = trips_df['route_id'].astype('int64')"
   ]
  },
  {
   "cell_type": "code",
   "execution_count": 5,
   "id": "884ca519",
   "metadata": {},
   "outputs": [],
   "source": [
    "# Sort trips\n",
    "trips_df = trips_df.sort_values(by=['current_time', 'trip_id', 'route_id', 'arrival_time'])"
   ]
  },
  {
   "cell_type": "code",
   "execution_count": 6,
   "id": "57223fe6",
   "metadata": {},
   "outputs": [
    {
     "name": "stdout",
     "output_type": "stream",
     "text": [
      "26.02%\n"
     ]
    }
   ],
   "source": [
    "# Get proportion of duplicates\n",
    "subset = ['start_date', 'trip_id', 'route_id', 'stop_id']\n",
    "duplicate_mask = trips_df.duplicated(subset=subset)\n",
    "print(f'{duplicate_mask.mean():.2%}')"
   ]
  },
  {
   "cell_type": "code",
   "execution_count": 7,
   "id": "c8f0d0b8",
   "metadata": {},
   "outputs": [],
   "source": [
    "# Remove duplicates\n",
    "trips_df = trips_df.drop_duplicates(subset=subset, keep='last') # keep latest update"
   ]
  },
  {
   "cell_type": "code",
   "execution_count": 8,
   "id": "9d87091a",
   "metadata": {},
   "outputs": [],
   "source": [
    "# Convert realtime arrival and departure time to microseconds\n",
    "trips_df['arrival_time'] = trips_df['arrival_time'] * 1000\n",
    "trips_df['departure_time'] = trips_df['departure_time'] * 1000"
   ]
  },
  {
   "cell_type": "code",
   "execution_count": 9,
   "id": "f204b0d0",
   "metadata": {},
   "outputs": [],
   "source": [
    "# Rename arrival and departure time\n",
    "trips_df = trips_df.rename(columns={'arrival_time': 'rt_arrival_time','departure_time': 'rt_departure_time'})"
   ]
  },
  {
   "cell_type": "markdown",
   "id": "b3864f9b",
   "metadata": {},
   "source": [
    "## Merge Data"
   ]
  },
  {
   "cell_type": "markdown",
   "id": "026d79ac",
   "metadata": {},
   "source": [
    "### Schedules and stops"
   ]
  },
  {
   "cell_type": "code",
   "execution_count": 10,
   "id": "4434500e",
   "metadata": {},
   "outputs": [],
   "source": [
    "# Sort values by stop sequence\n",
    "schedules_df = schedules_df.sort_values(by=['trip_id', 'stop_sequence'])"
   ]
  },
  {
   "cell_type": "code",
   "execution_count": 11,
   "id": "c7baabb0",
   "metadata": {},
   "outputs": [],
   "source": [
    "# Reset stop sequences (some stops might be missing)\n",
    "schedules_df['stop_sequence'] = schedules_df.groupby('trip_id').cumcount() + 1"
   ]
  },
  {
   "cell_type": "code",
   "execution_count": 12,
   "id": "176567e5",
   "metadata": {},
   "outputs": [],
   "source": [
    "# Add trip progress (vehicles further along the trip are more likely to be delayed)\n",
    "total_stops = schedules_df.groupby('trip_id')['stop_id'].transform('count')\n",
    "schedules_df['trip_progress'] = schedules_df['stop_sequence'] / total_stops"
   ]
  },
  {
   "cell_type": "code",
   "execution_count": 13,
   "id": "e8adfad6",
   "metadata": {},
   "outputs": [
    {
     "data": {
      "text/plain": [
       "count    6.629625e+06\n",
       "mean     5.139220e-01\n",
       "std      2.887289e-01\n",
       "min      8.547009e-03\n",
       "25%      2.631579e-01\n",
       "50%      5.142857e-01\n",
       "75%      7.647059e-01\n",
       "max      1.000000e+00\n",
       "Name: trip_progress, dtype: float64"
      ]
     },
     "execution_count": 13,
     "metadata": {},
     "output_type": "execute_result"
    }
   ],
   "source": [
    "# Get distribution of trip progress\n",
    "schedules_df['trip_progress'].describe()"
   ]
  },
  {
   "cell_type": "code",
   "execution_count": 14,
   "id": "f856eb46",
   "metadata": {},
   "outputs": [],
   "source": [
    "# Merge schedules and stops\n",
    "schedules_stops_df = pd.merge(left=schedules_df, right=stops_df, how='inner', left_on='stop_id', right_on='stop_code')"
   ]
  },
  {
   "cell_type": "code",
   "execution_count": 15,
   "id": "bf47cb3c",
   "metadata": {},
   "outputs": [],
   "source": [
    "# Get coordinates of previous stop\n",
    "schedules_stops_df = schedules_stops_df.sort_values(by=['trip_id', 'stop_sequence'])\n",
    "schedules_stops_df['prev_lat'] = schedules_stops_df.groupby('trip_id')['stop_lat'].shift(1)\n",
    "schedules_stops_df['prev_lon'] = schedules_stops_df.groupby('trip_id')['stop_lon'].shift(1)"
   ]
  },
  {
   "cell_type": "code",
   "execution_count": 16,
   "id": "c44a7ef8",
   "metadata": {},
   "outputs": [],
   "source": [
    "# Make sure the null values are from first stops\n",
    "prev_null_mask = (schedules_stops_df['prev_lat'].isna()) | (schedules_stops_df['prev_lon'].isna())\n",
    "first_stop_mask = schedules_stops_df['stop_sequence'] == 1\n",
    "assert prev_null_mask.sum() == first_stop_mask.sum()"
   ]
  },
  {
   "cell_type": "code",
   "execution_count": 17,
   "id": "f9b0b6d7",
   "metadata": {},
   "outputs": [],
   "source": [
    "# Get distance from previous stop\n",
    "schedules_stops_df['stop_distance'] = schedules_stops_df.apply(\n",
    "  lambda row: haversine((row['prev_lat'], row['prev_lon']), (row['stop_lat'], row['stop_lon']), unit=Unit.METERS),\n",
    "  axis=1\n",
    ")"
   ]
  },
  {
   "cell_type": "code",
   "execution_count": null,
   "id": "ecd75d21",
   "metadata": {},
   "outputs": [],
   "source": [
    "# Replace null distances by zero \n",
    "schedules_stops_df['stop_distance'] = schedules_stops_df['stop_distance'].fillna(0)"
   ]
  },
  {
   "cell_type": "code",
   "execution_count": null,
   "id": "157de757",
   "metadata": {},
   "outputs": [],
   "source": [
    "schedules_stops_df.columns"
   ]
  },
  {
   "cell_type": "code",
   "execution_count": null,
   "id": "81c47408",
   "metadata": {},
   "outputs": [],
   "source": [
    "# Rename stop id and drop other stop id columns\n",
    "schedules_stops_df = schedules_stops_df.rename(columns={'stop_id_x': 'stop_id'})\n",
    "schedules_stops_df = schedules_stops_df.drop(['stop_id_y', 'stop_code'], axis=1)"
   ]
  },
  {
   "cell_type": "markdown",
   "id": "2ab97d0d",
   "metadata": {},
   "source": [
    "### Realtime and Scheduled Trips"
   ]
  },
  {
   "cell_type": "code",
   "execution_count": null,
   "id": "38b0d876",
   "metadata": {},
   "outputs": [],
   "source": [
    "# Merge trip updates with schedule\n",
    "stm_trips_df = pd.merge(left=trips_df, right=schedules_stops_df, how='inner', on=['trip_id', 'stop_id'])"
   ]
  },
  {
   "cell_type": "code",
   "execution_count": null,
   "id": "7e78e8ff",
   "metadata": {},
   "outputs": [],
   "source": [
    "# Convert start_date to datetime\n",
    "stm_trips_df['start_date_dt'] = pd.to_datetime(stm_trips_df['start_date'], format='%Y%m%d')"
   ]
  },
  {
   "cell_type": "code",
   "execution_count": null,
   "id": "0cda96f4",
   "metadata": {},
   "outputs": [],
   "source": [
    "def parse_gtfs_time(row) -> pd.Timestamp:\n",
    "\t'''\n",
    "\tConverts GTFS time string (e.g., '25:30:00') to datetime\n",
    "\tbased on the arrival time.\n",
    "\t'''\n",
    "\thours, minutes, seconds = map(int, row['arrival_time'].split(':'))\n",
    "\ttotal_seconds = hours * 3600 + minutes * 60 + seconds\n",
    "\n",
    "\tparsed_time = row['start_date_dt'] + timedelta(seconds=total_seconds)\n",
    "\treturn parsed_time"
   ]
  },
  {
   "cell_type": "code",
   "execution_count": null,
   "id": "69cd48ca",
   "metadata": {},
   "outputs": [],
   "source": [
    "# Convert planned arrival time to datetime\n",
    "parsed_time = stm_trips_df.apply(parse_gtfs_time, axis=1)\n",
    "sch_arrival_time_local = parsed_time.dt.tz_localize(LOCAL_TIMEZONE)"
   ]
  },
  {
   "cell_type": "code",
   "execution_count": null,
   "id": "2ba0d99a",
   "metadata": {},
   "outputs": [],
   "source": [
    "# Convert realtime and arrival time to UTC datetime\n",
    "stm_trips_df['realtime_arrival_time'] = pd.to_datetime(stm_trips_df['realtime_arrival_time'], origin='unix', unit='ms', utc=True)\n",
    "stm_trips_df['scheduled_arrival_time'] = sch_arrival_time_local.dt.tz_convert(timezone.utc)"
   ]
  },
  {
   "cell_type": "code",
   "execution_count": null,
   "id": "ea095883",
   "metadata": {},
   "outputs": [],
   "source": [
    "# Calculate delay in seconds (real - scheduled)\n",
    "stm_trips_df['delay'] = (stm_trips_df['realtime_arrival_time'] - stm_trips_df['scheduled_arrival_time']) / pd.Timedelta(seconds=1)"
   ]
  },
  {
   "cell_type": "code",
   "execution_count": null,
   "id": "c4b5a7b8",
   "metadata": {},
   "outputs": [],
   "source": [
    "# Get distribution\n",
    "stm_trips_df['delay'].describe()"
   ]
  },
  {
   "cell_type": "markdown",
   "id": "10cab540",
   "metadata": {},
   "source": [
    "There are some extreme delays (~2h15min early to ~5h15min late), which could greatly affect the performance of a predictive model."
   ]
  },
  {
   "cell_type": "code",
   "execution_count": null,
   "id": "0033d6cc",
   "metadata": {},
   "outputs": [],
   "source": [
    "# Get proportion of trips that are on time\n",
    "on_time_mask = (stm_trips_df['delay'] >= -60) & (stm_trips_df['delay'] <= 180)\n",
    "print(f'{on_time_mask.mean():.2%}')"
   ]
  },
  {
   "cell_type": "markdown",
   "id": "8321bf7e",
   "metadata": {},
   "source": [
    "According to [STM](https://www.stm.info/en/info/networks/bus-network-and-schedules-enlightened), a vehicle is considered on time if it arrives at the stop up to 1 minute before and 3 minutes after the planned schedule."
   ]
  },
  {
   "cell_type": "markdown",
   "id": "f4ff72f0",
   "metadata": {},
   "source": [
    "### Vehicle Positions"
   ]
  },
  {
   "cell_type": "code",
   "execution_count": null,
   "id": "066dbe06",
   "metadata": {},
   "outputs": [],
   "source": [
    "# Rename latitude and longitude\n",
    "positions_df = positions_df.rename(columns={\n",
    "  'latitude': 'vehicle_lat',\n",
    "  'longitude': 'vehicle_lon',\n",
    "  'status': 'vehicle_status',\n",
    "  'bearing': 'vehicle_bearing',\n",
    "  'speed': 'vehicle_speed'\n",
    "})"
   ]
  },
  {
   "cell_type": "code",
   "execution_count": null,
   "id": "31b34252",
   "metadata": {},
   "outputs": [],
   "source": [
    "# Convert vehicle timestamp to datetime\n",
    "positions_df['vehicle_dt'] = pd.to_datetime(positions_df['timestamp'] * 1000, origin='unix', unit='ms', utc=True)"
   ]
  },
  {
   "cell_type": "code",
   "execution_count": null,
   "id": "5c7fc87e",
   "metadata": {},
   "outputs": [],
   "source": [
    "# Sort values\n",
    "subset = ['trip_id', 'route_id', 'start_date', 'stop_sequence']\n",
    "positions_df = positions_df.sort_values(by=subset)"
   ]
  },
  {
   "cell_type": "code",
   "execution_count": null,
   "id": "2d6c4ee4",
   "metadata": {},
   "outputs": [],
   "source": [
    "# Get duplicates\n",
    "duplicate_mask = positions_df.duplicated(subset=subset)\n",
    "positions_df[duplicate_mask]"
   ]
  },
  {
   "cell_type": "code",
   "execution_count": null,
   "id": "ff90a39f",
   "metadata": {},
   "outputs": [],
   "source": [
    "# Get proportion of duplicates\n",
    "print(f'{duplicate_mask.mean():.2%}')"
   ]
  },
  {
   "cell_type": "code",
   "execution_count": null,
   "id": "b2e259b1",
   "metadata": {},
   "outputs": [],
   "source": [
    "# Remove duplicates\n",
    "positions_df = positions_df.drop_duplicates(subset=subset)"
   ]
  },
  {
   "cell_type": "code",
   "execution_count": null,
   "id": "d236afc3",
   "metadata": {},
   "outputs": [],
   "source": [
    "# Merge with other STM data\n",
    "stm_df = pd.merge(left=stm_trips_df, right=positions_df, how='inner', on=['trip_id', 'route_id', 'start_date', 'stop_sequence'])"
   ]
  },
  {
   "cell_type": "code",
   "execution_count": null,
   "id": "b8aa0884",
   "metadata": {},
   "outputs": [],
   "source": [
    "# Calculate distance between the vehicle and the previous stop\n",
    "stm_df['vehicle_distance'] = stm_df.apply(\n",
    "  lambda row: haversine((row['prev_lat'], row['prev_lon']), (row['vehicle_lat'], row['vehicle_lon']), unit=Unit.METERS),\n",
    "  axis=1)"
   ]
  },
  {
   "cell_type": "code",
   "execution_count": null,
   "id": "b322eba5",
   "metadata": {},
   "outputs": [],
   "source": [
    "# Calculate relative distance\n",
    "stm_df['vehicle_rel_distance'] = stm_df['vehicle_distance'] / stm_df['stop_distance']"
   ]
  },
  {
   "cell_type": "code",
   "execution_count": null,
   "id": "c80d40f3",
   "metadata": {},
   "outputs": [],
   "source": [
    "# Get distribution of relative distance\n",
    "stm_df['vehicle_rel_distance'].describe()"
   ]
  },
  {
   "cell_type": "code",
   "execution_count": null,
   "id": "479cd7de",
   "metadata": {},
   "outputs": [],
   "source": [
    "# Get null values\n",
    "null_rel_dist_mask = stm_df['vehicle_rel_distance'].isna()\n",
    "stm_df[null_rel_dist_mask]"
   ]
  },
  {
   "cell_type": "code",
   "execution_count": null,
   "id": "f4be406e",
   "metadata": {},
   "outputs": [],
   "source": [
    "stm_df[null_rel_dist_mask]['stop_sequence'].value_counts()"
   ]
  },
  {
   "cell_type": "code",
   "execution_count": null,
   "id": "0fceb3de",
   "metadata": {},
   "outputs": [],
   "source": [
    "# Replace the null relative distance by 1, because it's the first stop\n",
    "stm_df['vehicle_rel_distance'] = stm_df['vehicle_rel_distance'].fillna(1)"
   ]
  },
  {
   "cell_type": "code",
   "execution_count": null,
   "id": "ee7c5288",
   "metadata": {},
   "outputs": [],
   "source": [
    "# Get trips where the relative distance is above 100%\n",
    "above_one_mask = stm_df['vehicle_rel_distance'] > 1\n",
    "stm_df.loc[above_one_mask, ['vehicle_status', 'vehicle_speed', 'vehicle_rel_distance']]"
   ]
  },
  {
   "cell_type": "code",
   "execution_count": null,
   "id": "9a3d1187",
   "metadata": {},
   "outputs": [],
   "source": [
    "# Get proportion of trips with relative distance above 100%\n",
    "print(f'{above_one_mask.mean():.2%}')"
   ]
  },
  {
   "cell_type": "code",
   "execution_count": null,
   "id": "e3974902",
   "metadata": {},
   "outputs": [],
   "source": [
    "# Clip the relative distance to 100% if the vehicle status is 1 (stopped at)\n",
    "stopped_mask = stm_df['vehicle_status'] == 1\n",
    "stm_df.loc[above_one_mask & stopped_mask, 'vehicle_rel_distance'] = 1"
   ]
  },
  {
   "cell_type": "code",
   "execution_count": null,
   "id": "5f41c953",
   "metadata": {},
   "outputs": [],
   "source": [
    "# Impute the other values to 0.5 (between the previous and current stop)\n",
    "stm_df.loc[above_one_mask & (stopped_mask == False), 'vehicle_rel_distance'] = 0.5"
   ]
  },
  {
   "cell_type": "code",
   "execution_count": null,
   "id": "4acc6571",
   "metadata": {},
   "outputs": [],
   "source": [
    "# Fill in other null values with 0.5\n",
    "stm_df['vehicle_rel_distance'] = stm_df['vehicle_rel_distance'].fillna(0.5)"
   ]
  },
  {
   "cell_type": "code",
   "execution_count": null,
   "id": "1c45d580",
   "metadata": {},
   "outputs": [],
   "source": [
    "# Replace the vehicle speed to 0 if the vehicle is stopped\n",
    "stm_df.loc[above_one_mask & stopped_mask, 'vehicle_speed'] = 0"
   ]
  },
  {
   "cell_type": "code",
   "execution_count": null,
   "id": "f544e39d",
   "metadata": {},
   "outputs": [],
   "source": [
    "# Get new distribution of relative distance\n",
    "stm_df['vehicle_rel_distance'].describe()"
   ]
  },
  {
   "cell_type": "markdown",
   "id": "7b431a68",
   "metadata": {},
   "source": [
    "### STM and Weather"
   ]
  },
  {
   "cell_type": "code",
   "execution_count": null,
   "id": "ad7f9e32",
   "metadata": {},
   "outputs": [],
   "source": [
    "# Convert time string to datetime\n",
    "time_dt = pd.to_datetime(weather_df['time'], utc=True)"
   ]
  },
  {
   "cell_type": "code",
   "execution_count": null,
   "id": "54317d78",
   "metadata": {},
   "outputs": [],
   "source": [
    "# Calculate dates for weather forecast\n",
    "last_day_weather = time_dt.max()\n",
    "start_date = last_day_weather + timedelta(days=1)\n",
    "end_date = stm_df['realtime_arrival_time'].max()"
   ]
  },
  {
   "cell_type": "code",
   "execution_count": null,
   "id": "705c3caa",
   "metadata": {},
   "outputs": [],
   "source": [
    "# Fetch forecast weather\n",
    "start_date_str = start_date.strftime('%Y-%m-%d')\n",
    "end_date_str = end_date.strftime('%Y-%m-%d')\n",
    "\n",
    "forecast_list = fetch_weather(start_date=start_date_str, end_date=end_date_str, forecast=True)\n",
    "forecast_df = pd.DataFrame(forecast_list)"
   ]
  },
  {
   "cell_type": "code",
   "execution_count": null,
   "id": "a8a5858f",
   "metadata": {},
   "outputs": [],
   "source": [
    "# Merge archive and forecast weather\n",
    "weather_df = pd.concat([weather_df, forecast_df], ignore_index=True)"
   ]
  },
  {
   "cell_type": "code",
   "execution_count": null,
   "id": "c139f560",
   "metadata": {},
   "outputs": [],
   "source": [
    "# Round arrival time to the nearest hour\n",
    "rounded_arrival_dt = stm_df['realtime_arrival_time'].dt.round('h')"
   ]
  },
  {
   "cell_type": "code",
   "execution_count": null,
   "id": "5d4d8333",
   "metadata": {},
   "outputs": [],
   "source": [
    "# Format time to match weather data\n",
    "stm_df['time'] = rounded_arrival_dt.dt.strftime('%Y-%m-%dT%H:%M')"
   ]
  },
  {
   "cell_type": "code",
   "execution_count": null,
   "id": "f2552f97",
   "metadata": {},
   "outputs": [],
   "source": [
    "# Merge STM with weather\n",
    "stm_weather_df = pd.merge(left=stm_df, right=weather_df, how='inner', on='time')"
   ]
  },
  {
   "cell_type": "markdown",
   "id": "fe11c074",
   "metadata": {},
   "source": [
    "### Traffic Data"
   ]
  },
  {
   "cell_type": "code",
   "execution_count": null,
   "id": "3ced7c04",
   "metadata": {},
   "outputs": [],
   "source": [
    "# Get proportion of duplicates\n",
    "duplicate_mask = traffic_df.duplicated()\n",
    "print(f'{duplicate_mask.mean():.2%}')"
   ]
  },
  {
   "cell_type": "code",
   "execution_count": null,
   "id": "4e69a875",
   "metadata": {},
   "outputs": [],
   "source": [
    "# Remove duplicates\n",
    "traffic_df = traffic_df.drop_duplicates(keep='last').reset_index()"
   ]
  },
  {
   "cell_type": "code",
   "execution_count": null,
   "id": "ede164f5",
   "metadata": {},
   "outputs": [],
   "source": [
    "# Convert traffic start_time and end_time to datetime\n",
    "traffic_df['start_time'] = pd.to_datetime(traffic_df['start_time'], utc=True)\n",
    "traffic_df['end_time'] = pd.to_datetime(traffic_df['end_time'], utc=True)"
   ]
  },
  {
   "cell_type": "code",
   "execution_count": null,
   "id": "d1c79ec6",
   "metadata": {},
   "outputs": [],
   "source": [
    "# Sort by date\n",
    "traffic_df = traffic_df.sort_values(by='start_time').reset_index()"
   ]
  },
  {
   "cell_type": "code",
   "execution_count": null,
   "id": "c2a61030",
   "metadata": {},
   "outputs": [],
   "source": [
    "# Fill null end times with current time (assuming the incident is still ongoing)\n",
    "traffic_df['end_time'] = traffic_df['end_time'].fillna(datetime.now(timezone.utc).replace(microsecond=0))\n",
    "assert traffic_df['end_time'].isna().sum() == 0"
   ]
  },
  {
   "cell_type": "code",
   "execution_count": null,
   "id": "a2f51d97",
   "metadata": {},
   "outputs": [],
   "source": [
    "# Build traffic cache (for every 15 min interval)\n",
    "def build_traffic_cache(traffic_df:pd.DataFrame) -> dict:\n",
    "\ttraffic_cache = {}\n",
    "\ttraffic_df['half_hour'] = traffic_df['start_time'].dt.floor('15min')\n",
    "\n",
    "\tfor (hour, group) in traffic_df.groupby('half_hour'):\n",
    "\t\ttraffic_cache[hour] = group.copy()\n",
    "\n",
    "\treturn traffic_cache"
   ]
  },
  {
   "cell_type": "markdown",
   "id": "f3850f2b",
   "metadata": {},
   "source": [
    "Since there are many trip updates on the same day (even the same hour), there's a risk of repeating the filtering of active traffic incidents for each trip individually, which takes a lot of time for a large dataset. Traffic incidents are stable over minutes or hours. This is why the incidents will be cached by 15 minute intervals."
   ]
  },
  {
   "cell_type": "code",
   "execution_count": null,
   "id": "e84143f7",
   "metadata": {},
   "outputs": [],
   "source": [
    "def calculate_nearby_incidents(trip_update:pd.Series, traffic_cache:dict, max_distance:int=500) -> pd.Series:\n",
    "\ttrip_datetime = trip_update['vehicle_dt']\n",
    "\tstop_coords = (trip_update['vehicle_lat'], trip_update['vehicle_lon'])\n",
    "\n",
    "\ttrip_quarter_hour = trip_datetime.floor('15min')\n",
    "\n",
    "\t# Get cached incidents\n",
    "\tquarter_hour_incidents = traffic_cache.get(trip_quarter_hour)\n",
    "\n",
    "\t# Stop if there are no incidents for that hour\n",
    "\tif quarter_hour_incidents is None or quarter_hour_incidents.empty:\n",
    "\t\treturn pd.Series({\n",
    "\t\t\t'incident_nearby': 0,\n",
    "\t\t\t'nearest_incident_distance': None,\n",
    "\t\t\t'incident_category': None,\n",
    "\t\t\t'incident_delay': None,\n",
    "\t\t\t'incident_delay_magnitude': None\n",
    "\t\t})\n",
    "\n",
    "\t# Filter for active incidents at that trip hour\n",
    "\tactive_incidents = quarter_hour_incidents[\n",
    "\t\t(quarter_hour_incidents['start_time'] <= trip_datetime) &\n",
    "\t\t(quarter_hour_incidents['end_time'] >= trip_datetime)\n",
    "\t].copy()\n",
    "\n",
    "\tif active_incidents.empty:\n",
    "\t\treturn pd.Series({\n",
    "\t\t\t'incident_nearby': 0,\n",
    "\t\t\t'nearest_incident_distance': None,\n",
    "\t\t\t'incident_category': None,\n",
    "\t\t\t'incident_delay': None,\n",
    "\t\t\t'incident_delay_magnitude': None\n",
    "\t\t})\n",
    "\n",
    "\t# Calculate distance     \n",
    "\tactive_incidents['distance'] = active_incidents.apply(\n",
    "\t\tlambda row: haversine(stop_coords, (row['latitude'], row['longitude']), unit=Unit.METERS),\n",
    "\t\taxis=1\n",
    "\t)\n",
    "\n",
    "\t# Filter nearby\n",
    "\tnearby_incidents = active_incidents[active_incidents['distance'] <= max_distance]\n",
    "\n",
    "\tif nearby_incidents.empty:\n",
    "\t\treturn pd.Series({\n",
    "\t\t\t'incident_nearby': 0,\n",
    "\t\t\t'nearest_incident_distance': None,\n",
    "\t\t\t'incident_category': None,\n",
    "\t\t\t'incident_delay': None,\n",
    "\t\t\t'incident_delay_magnitude': None\n",
    "\t\t})\n",
    "\telse:\n",
    "\t\tnearest = nearby_incidents.loc[nearby_incidents['distance'].idxmin()]\n",
    "\t\treturn pd.Series({\n",
    "\t\t\t'incident_nearby': 1,\n",
    "\t\t\t'nearest_incident_distance': nearest['distance'],\n",
    "\t\t\t'incident_category': nearest['category'],\n",
    "\t\t\t'incident_delay': nearest['delay'],\n",
    "\t\t\t'incident_delay_magnitude': nearest['magnitude_of_delay']\n",
    "\t\t})"
   ]
  },
  {
   "cell_type": "code",
   "execution_count": null,
   "id": "fa13cf97",
   "metadata": {},
   "outputs": [],
   "source": [
    "# Get traffic columns (get incidents within 1.5 km)\n",
    "traffic_cache = build_traffic_cache(traffic_df)\n",
    "traffic_cols = stm_weather_df.apply(lambda row: calculate_nearby_incidents(row, traffic_cache, 1500), axis=1)"
   ]
  },
  {
   "cell_type": "markdown",
   "id": "70659ae4",
   "metadata": {},
   "source": [
    "General area traffic (within 1-2 km) could affect delays, even if it's not directly at the stop. This is why incidents within 1.5 km are calculated."
   ]
  },
  {
   "cell_type": "code",
   "execution_count": null,
   "id": "84f574b4",
   "metadata": {},
   "outputs": [],
   "source": [
    "# Merge the traffic\n",
    "df = pd.concat([stm_weather_df, traffic_cols], axis=1)"
   ]
  },
  {
   "cell_type": "markdown",
   "id": "54983bb1",
   "metadata": {},
   "source": [
    "## Export Data"
   ]
  },
  {
   "cell_type": "code",
   "execution_count": null,
   "id": "7b1ed74d",
   "metadata": {},
   "outputs": [],
   "source": [
    "# Get columns with two values\n",
    "two_values = df.loc[:, df.nunique() == 2]\n",
    "two_values.columns"
   ]
  },
  {
   "cell_type": "code",
   "execution_count": null,
   "id": "fa29aec8",
   "metadata": {},
   "outputs": [],
   "source": [
    "print(df['wheelchair_boarding'].value_counts())\n",
    "print(df['vehicle_status'].value_counts())\n",
    "print(df['incident_nearby'].value_counts())"
   ]
  },
  {
   "cell_type": "code",
   "execution_count": null,
   "id": "48fe1ce6",
   "metadata": {},
   "outputs": [],
   "source": [
    "# Convert columns with 2 unique values to boolean\n",
    "df['wheelchair_boarding'] = (df['wheelchair_boarding'] == 1).astype('int64')\n",
    "df['vehicle_in_transit'] = (df['vehicle_status'] == 2).astype('int64')\n",
    "df['incident_nearby'] = df['incident_nearby'].astype('int64')"
   ]
  },
  {
   "cell_type": "code",
   "execution_count": null,
   "id": "08f47649",
   "metadata": {},
   "outputs": [],
   "source": [
    "# Remove columns with constant values or with more than 50% missing values\n",
    "df = df.loc[:, (df.nunique() > 1) & (df.isna().mean() < 0.5)]\n",
    "df.columns"
   ]
  },
  {
   "cell_type": "markdown",
   "id": "a0efe3d1",
   "metadata": {},
   "source": [
    "**Columns to drop**\n",
    "\n",
    "`current_time_x`, `current_time_y`: It's only the time when the data was collected.<br>\n",
    "`start_date`, `departure_time_x`, `departure_time_y`, `arrival_time`, `start_date_dt`, `start_time`: Realtime and scheduled time have been calculated.<br>\n",
    "`stop_sequence`: The trip progress has been calculated.<br>\n",
    "`stop_name`: There is already the stop id.<br>\n",
    "`stop_url`: An url is not useful for data analysis.<br>\n",
    "`prev_lat`, `prev_lon`, `stop_distance`, `vehicle_lat`, `vehicle_lon`, `vehicle_distance`: The relative vehicle distance from the previous stop, along with the incidents near the vehicle position, have been calculated.<br>\n",
    "`vehicle_status`: The column vehicle_in_transit has been added.<br>\n",
    "`timestamp`, `vehicle_dt`: The incidents at the time when the vehicle was nearby have been added.<br>\n",
    "`time`: It was to merge the weather data.\n"
   ]
  },
  {
   "cell_type": "code",
   "execution_count": null,
   "id": "ab1f6db7",
   "metadata": {},
   "outputs": [],
   "source": [
    "# Keep relevant columns\n",
    "df = df[[\n",
    "\t'trip_id'\n",
    "  \t'vehicle_id',\n",
    "    'vehicle_in_transit', # engineered\n",
    "    'vehicle_rel_distance', # engineered\n",
    "    'vehicle_bearing',\n",
    "    'vehicle_speed',\n",
    "\t'occupancy_status',\n",
    "  \t'route_id',\n",
    "  \t'stop_id',\n",
    "  \t'stop_lat',\n",
    "  \t'stop_lon',\n",
    "  \t'trip_progress', # engineered\n",
    "  \t'wheelchair_boarding', # engineered\n",
    "  \t'realtime_arrival_time', # parsed\n",
    "    'scheduled_arrival_time', # parsed\n",
    "    'delay', # engineered\n",
    "  \t'temperature',\n",
    "  \t'precipitation',\n",
    "  \t'windspeed', \n",
    "\t'weathercode',\n",
    "  \t'incident_nearby', # engineered\n",
    "]]"
   ]
  },
  {
   "cell_type": "code",
   "execution_count": null,
   "id": "71576b8c",
   "metadata": {},
   "outputs": [],
   "source": [
    "df.info()"
   ]
  },
  {
   "cell_type": "code",
   "execution_count": null,
   "id": "8eb537d7",
   "metadata": {},
   "outputs": [],
   "source": [
    "# Export data to CSV\n",
    "df.to_csv('../data/stm_weather_traffic_merged.csv', index=False)"
   ]
  },
  {
   "cell_type": "markdown",
   "id": "a3b33a1a",
   "metadata": {},
   "source": [
    "## End"
   ]
  }
 ],
 "metadata": {
  "kernelspec": {
   "display_name": "venv",
   "language": "python",
   "name": "python3"
  },
  "language_info": {
   "codemirror_mode": {
    "name": "ipython",
    "version": 3
   },
   "file_extension": ".py",
   "mimetype": "text/x-python",
   "name": "python",
   "nbconvert_exporter": "python",
   "pygments_lexer": "ipython3",
   "version": "3.13.3"
  }
 },
 "nbformat": 4,
 "nbformat_minor": 5
}
