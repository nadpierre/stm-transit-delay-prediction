{
 "cells": [
  {
   "cell_type": "markdown",
   "id": "056758cb",
   "metadata": {},
   "source": [
    "# STM Transit Delay Data Preparation"
   ]
  },
  {
   "cell_type": "markdown",
   "id": "a6bc184d",
   "metadata": {},
   "source": [
    "## Data description"
   ]
  },
  {
   "cell_type": "markdown",
   "id": "b7358fab",
   "metadata": {},
   "source": [
    "### Real-time Trip Updates"
   ]
  },
  {
   "cell_type": "markdown",
   "id": "d5c2ee8a",
   "metadata": {},
   "source": [
    "`current_time` timestamp when the data was collected<br>\n",
    "`trip_id` unique identifier of a trip<br>\n",
    "`route_id` bus line<br>\n",
    "`start_date` start date of the trip<br>\n",
    "`stop_id` stop number<br>\n",
    "`arrival_time` actual arrival time, in milliseconds<br>\n",
    "`departure_time` actual departure time, in milliseconds<br>\n",
    "`schedule_relationship` state of the trip, 0 means scheduled and 1 means skipped"
   ]
  },
  {
   "cell_type": "markdown",
   "id": "d28e04ef",
   "metadata": {},
   "source": [
    "### Scheduled STM Trips"
   ]
  },
  {
   "cell_type": "markdown",
   "id": "bb31f7ab",
   "metadata": {},
   "source": [
    "`trip_id` unique identifier of a trip<br>\n",
    "`arrival_time` scheduled arrival time, in milliseconds<br>\n",
    "`departure_time` scheduled departure time, in milliseconds<br>\n",
    "`stop_id` stop number<br>\n",
    "`stop_sequence` sequence of the stop, for ordering"
   ]
  },
  {
   "cell_type": "markdown",
   "id": "bc749154",
   "metadata": {},
   "source": [
    "### STM Stops"
   ]
  },
  {
   "cell_type": "markdown",
   "id": "a40b660a",
   "metadata": {},
   "source": [
    "`stop_id` unique identifier of a stop<br>\n",
    "`stop_code` bus stop or metro station number<br>\n",
    "`stop_name` bus stop or metro station name<br>\n",
    "`stop_lat` stop latitude<br>\n",
    "`stop_lon` stop longitude<br>\n",
    "`stop_url` stop web page<br>\n",
    "`location_type` stop type<br>\n",
    "`parent_station` parent station (metro station with multiple exits)<br>\n",
    "`wheelchair_boarding` indicates if the stop is accessible for people in wheelchair, 1 being true and 2 being false"
   ]
  },
  {
   "cell_type": "markdown",
   "id": "4608bc4a",
   "metadata": {},
   "source": [
    "### Real-time Vehicle Positions"
   ]
  },
  {
   "cell_type": "markdown",
   "id": "c11c6a01",
   "metadata": {},
   "source": [
    "`current_time` timestamp when the data was collected<br>\n",
    "`vehicle_id` unique identifuer of a vehicle<br>\n",
    "`trip_id` unique identifier of a trip<br>\n",
    "`route_id` bus or metro line<br>\n",
    "`start_date` start date of a trip<br>\n",
    "`start_time` start time of a trip<br>\n",
    "`latitude` vehicle current latitude<br>\n",
    "`longitude` vehicle current longityde<br>\n",
    "`bearing` direction that the vehicle is facing<br>\n",
    "`speed` momentary speed measured by the vehicle, in meters per second<br>\n",
    "`stop_sequence` sequence of the stop, for ordering<br>\n",
    "`status` vehicle stop status in relation with a stop that it's currently approaching or is at<br>\n",
    "`timestamp` timestamp when STM updated the data<br>\n",
    "`occupancy_status` degree of passenger occupancy"
   ]
  },
  {
   "cell_type": "markdown",
   "id": "042db663",
   "metadata": {},
   "source": [
    "### Weather Archive and Forecast"
   ]
  },
  {
   "cell_type": "markdown",
   "id": "3ccfdc47",
   "metadata": {},
   "source": [
    "`time` date and hour or the archived weather<br>\n",
    "`temperature` air temperature at 2 meters above ground, in Celsius<br>\n",
    "`precipitation` total precipitation (rain, showers, snow) sum of the preceding hour, in millimeters<br>\n",
    "`windspeed` wind speed at 10 meters above ground, in km/h<br>\n",
    "`weathercode` World Meteorological Organization (WMO) code"
   ]
  },
  {
   "cell_type": "markdown",
   "id": "268c0ac0",
   "metadata": {},
   "source": [
    "### Traffic Incidents"
   ]
  },
  {
   "cell_type": "markdown",
   "id": "72e73a05",
   "metadata": {},
   "source": [
    "`category` category of the incident<br>\n",
    "`start_time` start time of the incident in ISO8601 format<br>\n",
    "`end_time` end time of the incident in ISO8601 format<br>\n",
    "`length` length of the incident in meters<br>\n",
    "`delay` delay in seconds caused by the incident (except road closures)<br>\n",
    "`magnitude_of_delay` severity of the delay<br>\n",
    "`last_report_time` date in ISO8601 format, when the last time the incident was reported<br>\n",
    "`latitude` latitude of the incident<br>\n",
    "`longitude` longitude of the incident"
   ]
  },
  {
   "cell_type": "markdown",
   "id": "3ca39527",
   "metadata": {},
   "source": [
    "## Imports"
   ]
  },
  {
   "cell_type": "code",
   "execution_count": 1,
   "id": "a0a7cafd",
   "metadata": {},
   "outputs": [],
   "source": [
    "from datetime import datetime, timedelta, UTC\n",
    "from haversine import haversine, Unit\n",
    "import pandas as pd\n",
    "import sys"
   ]
  },
  {
   "cell_type": "code",
   "execution_count": 2,
   "id": "faad2700",
   "metadata": {},
   "outputs": [],
   "source": [
    "# Import custom code\n",
    "sys.path.insert(0, '..')\n",
    "from scripts.custom_functions import fetch_weather, LOCAL_TIMEZONE"
   ]
  },
  {
   "cell_type": "code",
   "execution_count": 3,
   "id": "786cc667",
   "metadata": {},
   "outputs": [],
   "source": [
    "trips_df = pd.read_csv('../data/fetched_stm_trip_updates.csv', low_memory=False)"
   ]
  },
  {
   "cell_type": "code",
   "execution_count": 4,
   "id": "1d5b56d3",
   "metadata": {},
   "outputs": [],
   "source": [
    "schedules_df = pd.read_csv('../data/stop_times_2025-04-23.txt')"
   ]
  },
  {
   "cell_type": "code",
   "execution_count": 5,
   "id": "8e40feaa",
   "metadata": {},
   "outputs": [],
   "source": [
    "stops_df = pd.read_csv('../data/stops_2025-04-23.txt')"
   ]
  },
  {
   "cell_type": "code",
   "execution_count": 10,
   "id": "e4a05eab",
   "metadata": {},
   "outputs": [],
   "source": [
    "positions_df =  pd.read_csv('../data/fetched_stm_vehicle_positions.csv', low_memory=False)"
   ]
  },
  {
   "cell_type": "code",
   "execution_count": 6,
   "id": "f605f13f",
   "metadata": {},
   "outputs": [],
   "source": [
    "weather_df = pd.read_csv('../data/fetched_historical_weather.csv')"
   ]
  },
  {
   "cell_type": "code",
   "execution_count": 7,
   "id": "696a4633",
   "metadata": {},
   "outputs": [],
   "source": [
    "traffic_df = pd.read_csv('../data/fetched_traffic.csv')"
   ]
  },
  {
   "cell_type": "markdown",
   "id": "84535ca9",
   "metadata": {},
   "source": [
    "## Clean Data"
   ]
  },
  {
   "cell_type": "code",
   "execution_count": 8,
   "id": "f03d62d1",
   "metadata": {},
   "outputs": [],
   "source": [
    "# Convert route_id to integer\n",
    "trips_df['route_id'] = trips_df['route_id'].str.extract(r'(\\d+)')\n",
    "trips_df['route_id'] = trips_df['route_id'].astype('int64')"
   ]
  },
  {
   "cell_type": "code",
   "execution_count": 9,
   "id": "884ca519",
   "metadata": {},
   "outputs": [],
   "source": [
    "# Sort trips\n",
    "trips_df = trips_df.sort_values(by=['current_time', 'trip_id', 'route_id', 'arrival_time'])"
   ]
  },
  {
   "cell_type": "code",
   "execution_count": 11,
   "id": "57223fe6",
   "metadata": {},
   "outputs": [
    {
     "name": "stdout",
     "output_type": "stream",
     "text": [
      "23.20%\n"
     ]
    }
   ],
   "source": [
    "# Get proportion of duplicates\n",
    "subset = ['start_date', 'trip_id', 'route_id', 'stop_id']\n",
    "duplicate_mask = trips_df.duplicated(subset=subset)\n",
    "print(f'{(duplicate_mask.sum() / len(trips_df)):.2%}')"
   ]
  },
  {
   "cell_type": "code",
   "execution_count": 12,
   "id": "c8f0d0b8",
   "metadata": {},
   "outputs": [],
   "source": [
    "# Remove duplicates\n",
    "trips_df = trips_df.drop_duplicates(subset=subset, keep='last') # keep latest update"
   ]
  },
  {
   "cell_type": "code",
   "execution_count": 13,
   "id": "9d87091a",
   "metadata": {},
   "outputs": [],
   "source": [
    "# Convert realtime arrival and departure time to milliseconds\n",
    "trips_df['arrival_time'] = trips_df['arrival_time'] * 1000\n",
    "trips_df['departure_time'] = trips_df['departure_time'] * 1000"
   ]
  },
  {
   "cell_type": "code",
   "execution_count": 14,
   "id": "d147f1fe",
   "metadata": {},
   "outputs": [
    {
     "data": {
      "application/vnd.microsoft.datawrangler.viewer.v0+json": {
       "columns": [
        {
         "name": "index",
         "rawType": "object",
         "type": "string"
        },
        {
         "name": "arrival_time",
         "rawType": "float64",
         "type": "float"
        },
        {
         "name": "departure_time",
         "rawType": "float64",
         "type": "float"
        }
       ],
       "conversionMethod": "pd.DataFrame",
       "ref": "10e17385-d549-4cc1-89e4-2651f0104104",
       "rows": [
        [
         "count",
         "481426.0",
         "481426.0"
        ],
        [
         "mean",
         "1645165072294.286",
         "1640617544008.4287"
        ],
        [
         "std",
         "406967612144.10175",
         "415482286163.4309"
        ],
        [
         "min",
         "0.0",
         "0.0"
        ],
        [
         "25%",
         "1745809324000.0",
         "1745808984250.0"
        ],
        [
         "50%",
         "1745840848000.0",
         "1745840728000.0"
        ],
        [
         "75%",
         "1745856330000.0",
         "1745856240000.0"
        ],
        [
         "max",
         "1745875020000.0",
         "1745874974000.0"
        ]
       ],
       "shape": {
        "columns": 2,
        "rows": 8
       }
      },
      "text/html": [
       "<div>\n",
       "<style scoped>\n",
       "    .dataframe tbody tr th:only-of-type {\n",
       "        vertical-align: middle;\n",
       "    }\n",
       "\n",
       "    .dataframe tbody tr th {\n",
       "        vertical-align: top;\n",
       "    }\n",
       "\n",
       "    .dataframe thead th {\n",
       "        text-align: right;\n",
       "    }\n",
       "</style>\n",
       "<table border=\"1\" class=\"dataframe\">\n",
       "  <thead>\n",
       "    <tr style=\"text-align: right;\">\n",
       "      <th></th>\n",
       "      <th>arrival_time</th>\n",
       "      <th>departure_time</th>\n",
       "    </tr>\n",
       "  </thead>\n",
       "  <tbody>\n",
       "    <tr>\n",
       "      <th>count</th>\n",
       "      <td>4.814260e+05</td>\n",
       "      <td>4.814260e+05</td>\n",
       "    </tr>\n",
       "    <tr>\n",
       "      <th>mean</th>\n",
       "      <td>1.645165e+12</td>\n",
       "      <td>1.640618e+12</td>\n",
       "    </tr>\n",
       "    <tr>\n",
       "      <th>std</th>\n",
       "      <td>4.069676e+11</td>\n",
       "      <td>4.154823e+11</td>\n",
       "    </tr>\n",
       "    <tr>\n",
       "      <th>min</th>\n",
       "      <td>0.000000e+00</td>\n",
       "      <td>0.000000e+00</td>\n",
       "    </tr>\n",
       "    <tr>\n",
       "      <th>25%</th>\n",
       "      <td>1.745809e+12</td>\n",
       "      <td>1.745809e+12</td>\n",
       "    </tr>\n",
       "    <tr>\n",
       "      <th>50%</th>\n",
       "      <td>1.745841e+12</td>\n",
       "      <td>1.745841e+12</td>\n",
       "    </tr>\n",
       "    <tr>\n",
       "      <th>75%</th>\n",
       "      <td>1.745856e+12</td>\n",
       "      <td>1.745856e+12</td>\n",
       "    </tr>\n",
       "    <tr>\n",
       "      <th>max</th>\n",
       "      <td>1.745875e+12</td>\n",
       "      <td>1.745875e+12</td>\n",
       "    </tr>\n",
       "  </tbody>\n",
       "</table>\n",
       "</div>"
      ],
      "text/plain": [
       "       arrival_time  departure_time\n",
       "count  4.814260e+05    4.814260e+05\n",
       "mean   1.645165e+12    1.640618e+12\n",
       "std    4.069676e+11    4.154823e+11\n",
       "min    0.000000e+00    0.000000e+00\n",
       "25%    1.745809e+12    1.745809e+12\n",
       "50%    1.745841e+12    1.745841e+12\n",
       "75%    1.745856e+12    1.745856e+12\n",
       "max    1.745875e+12    1.745875e+12"
      ]
     },
     "execution_count": 14,
     "metadata": {},
     "output_type": "execute_result"
    }
   ],
   "source": [
    "# Get distribution of realtime arrival times\n",
    "trips_df[['arrival_time', 'departure_time']].describe()"
   ]
  },
  {
   "cell_type": "code",
   "execution_count": 15,
   "id": "761c1904",
   "metadata": {},
   "outputs": [
    {
     "name": "stdout",
     "output_type": "stream",
     "text": [
      "5.77%\n"
     ]
    }
   ],
   "source": [
    "# Get proportion of rows with zero arrival times\n",
    "zero_mask = trips_df['arrival_time'] == 0\n",
    "print(f'{(zero_mask.sum() / len(trips_df)):.2%}')"
   ]
  },
  {
   "cell_type": "code",
   "execution_count": 16,
   "id": "74a79934",
   "metadata": {},
   "outputs": [
    {
     "name": "stdout",
     "output_type": "stream",
     "text": [
      "5.90%\n"
     ]
    }
   ],
   "source": [
    "# Get proportion of rows where the arrival and departure times are different\n",
    "diff_date_mask = trips_df['arrival_time'] != trips_df['departure_time']\n",
    "print(f'{(diff_date_mask.sum() / len(trips_df)):.2%}')"
   ]
  },
  {
   "cell_type": "code",
   "execution_count": 17,
   "id": "ff951fe2",
   "metadata": {},
   "outputs": [
    {
     "data": {
      "application/vnd.microsoft.datawrangler.viewer.v0+json": {
       "columns": [
        {
         "name": "index",
         "rawType": "int64",
         "type": "integer"
        },
        {
         "name": "current_time",
         "rawType": "float64",
         "type": "float"
        },
        {
         "name": "trip_id",
         "rawType": "int64",
         "type": "integer"
        },
        {
         "name": "route_id",
         "rawType": "int64",
         "type": "integer"
        },
        {
         "name": "start_date",
         "rawType": "int64",
         "type": "integer"
        },
        {
         "name": "stop_id",
         "rawType": "int64",
         "type": "integer"
        },
        {
         "name": "arrival_time",
         "rawType": "int64",
         "type": "integer"
        },
        {
         "name": "departure_time",
         "rawType": "int64",
         "type": "integer"
        },
        {
         "name": "schedule_relationship",
         "rawType": "int64",
         "type": "integer"
        }
       ],
       "conversionMethod": "pd.DataFrame",
       "ref": "aaa1919e-9028-44d8-96a5-e4ce5b01ab1c",
       "rows": [
        [
         "260892",
         "1745838004.301194",
         "284738812",
         "121",
         "20250428",
         "55934",
         "1745840820000",
         "0",
         "0"
        ],
        [
         "498428",
         "1745856012.317696",
         "285283944",
         "185",
         "20250428",
         "54039",
         "0",
         "1745856660000",
         "0"
        ],
        [
         "295074",
         "1745838007.318642",
         "284739056",
         "193",
         "20250428",
         "54571",
         "0",
         "1745838900000",
         "0"
        ],
        [
         "251330",
         "1745834407.190969",
         "284738273",
         "146",
         "20250428",
         "54093",
         "1745836980000",
         "0",
         "0"
        ],
        [
         "512071",
         "1745859610.422403",
         "284777857",
         "105",
         "20250428",
         "53936",
         "1745861280000",
         "0",
         "0"
        ],
        [
         "89445",
         "1745802007.420841",
         "283553440",
         "97",
         "20250427",
         "54010",
         "1745804460000",
         "0",
         "0"
        ],
        [
         "231946",
         "1745834405.074156",
         "285009631",
         "215",
         "20250428",
         "60383",
         "0",
         "1745837640000",
         "0"
        ],
        [
         "179406",
         "1745816403.422422",
         "283854959",
         "186",
         "20250427",
         "53725",
         "0",
         "1745817600000",
         "0"
        ],
        [
         "268448",
         "1745838005.101203",
         "285002354",
         "129",
         "20250428",
         "50898",
         "1745839977000",
         "0",
         "0"
        ],
        [
         "392579",
         "1745845207.693493",
         "285010134",
         "419",
         "20250428",
         "57822",
         "0",
         "1745846160000",
         "0"
        ]
       ],
       "shape": {
        "columns": 8,
        "rows": 10
       }
      },
      "text/html": [
       "<div>\n",
       "<style scoped>\n",
       "    .dataframe tbody tr th:only-of-type {\n",
       "        vertical-align: middle;\n",
       "    }\n",
       "\n",
       "    .dataframe tbody tr th {\n",
       "        vertical-align: top;\n",
       "    }\n",
       "\n",
       "    .dataframe thead th {\n",
       "        text-align: right;\n",
       "    }\n",
       "</style>\n",
       "<table border=\"1\" class=\"dataframe\">\n",
       "  <thead>\n",
       "    <tr style=\"text-align: right;\">\n",
       "      <th></th>\n",
       "      <th>current_time</th>\n",
       "      <th>trip_id</th>\n",
       "      <th>route_id</th>\n",
       "      <th>start_date</th>\n",
       "      <th>stop_id</th>\n",
       "      <th>arrival_time</th>\n",
       "      <th>departure_time</th>\n",
       "      <th>schedule_relationship</th>\n",
       "    </tr>\n",
       "  </thead>\n",
       "  <tbody>\n",
       "    <tr>\n",
       "      <th>260892</th>\n",
       "      <td>1.745838e+09</td>\n",
       "      <td>284738812</td>\n",
       "      <td>121</td>\n",
       "      <td>20250428</td>\n",
       "      <td>55934</td>\n",
       "      <td>1745840820000</td>\n",
       "      <td>0</td>\n",
       "      <td>0</td>\n",
       "    </tr>\n",
       "    <tr>\n",
       "      <th>498428</th>\n",
       "      <td>1.745856e+09</td>\n",
       "      <td>285283944</td>\n",
       "      <td>185</td>\n",
       "      <td>20250428</td>\n",
       "      <td>54039</td>\n",
       "      <td>0</td>\n",
       "      <td>1745856660000</td>\n",
       "      <td>0</td>\n",
       "    </tr>\n",
       "    <tr>\n",
       "      <th>295074</th>\n",
       "      <td>1.745838e+09</td>\n",
       "      <td>284739056</td>\n",
       "      <td>193</td>\n",
       "      <td>20250428</td>\n",
       "      <td>54571</td>\n",
       "      <td>0</td>\n",
       "      <td>1745838900000</td>\n",
       "      <td>0</td>\n",
       "    </tr>\n",
       "    <tr>\n",
       "      <th>251330</th>\n",
       "      <td>1.745834e+09</td>\n",
       "      <td>284738273</td>\n",
       "      <td>146</td>\n",
       "      <td>20250428</td>\n",
       "      <td>54093</td>\n",
       "      <td>1745836980000</td>\n",
       "      <td>0</td>\n",
       "      <td>0</td>\n",
       "    </tr>\n",
       "    <tr>\n",
       "      <th>512071</th>\n",
       "      <td>1.745860e+09</td>\n",
       "      <td>284777857</td>\n",
       "      <td>105</td>\n",
       "      <td>20250428</td>\n",
       "      <td>53936</td>\n",
       "      <td>1745861280000</td>\n",
       "      <td>0</td>\n",
       "      <td>0</td>\n",
       "    </tr>\n",
       "    <tr>\n",
       "      <th>89445</th>\n",
       "      <td>1.745802e+09</td>\n",
       "      <td>283553440</td>\n",
       "      <td>97</td>\n",
       "      <td>20250427</td>\n",
       "      <td>54010</td>\n",
       "      <td>1745804460000</td>\n",
       "      <td>0</td>\n",
       "      <td>0</td>\n",
       "    </tr>\n",
       "    <tr>\n",
       "      <th>231946</th>\n",
       "      <td>1.745834e+09</td>\n",
       "      <td>285009631</td>\n",
       "      <td>215</td>\n",
       "      <td>20250428</td>\n",
       "      <td>60383</td>\n",
       "      <td>0</td>\n",
       "      <td>1745837640000</td>\n",
       "      <td>0</td>\n",
       "    </tr>\n",
       "    <tr>\n",
       "      <th>179406</th>\n",
       "      <td>1.745816e+09</td>\n",
       "      <td>283854959</td>\n",
       "      <td>186</td>\n",
       "      <td>20250427</td>\n",
       "      <td>53725</td>\n",
       "      <td>0</td>\n",
       "      <td>1745817600000</td>\n",
       "      <td>0</td>\n",
       "    </tr>\n",
       "    <tr>\n",
       "      <th>268448</th>\n",
       "      <td>1.745838e+09</td>\n",
       "      <td>285002354</td>\n",
       "      <td>129</td>\n",
       "      <td>20250428</td>\n",
       "      <td>50898</td>\n",
       "      <td>1745839977000</td>\n",
       "      <td>0</td>\n",
       "      <td>0</td>\n",
       "    </tr>\n",
       "    <tr>\n",
       "      <th>392579</th>\n",
       "      <td>1.745845e+09</td>\n",
       "      <td>285010134</td>\n",
       "      <td>419</td>\n",
       "      <td>20250428</td>\n",
       "      <td>57822</td>\n",
       "      <td>0</td>\n",
       "      <td>1745846160000</td>\n",
       "      <td>0</td>\n",
       "    </tr>\n",
       "  </tbody>\n",
       "</table>\n",
       "</div>"
      ],
      "text/plain": [
       "        current_time    trip_id  route_id  start_date  stop_id   arrival_time  \\\n",
       "260892  1.745838e+09  284738812       121    20250428    55934  1745840820000   \n",
       "498428  1.745856e+09  285283944       185    20250428    54039              0   \n",
       "295074  1.745838e+09  284739056       193    20250428    54571              0   \n",
       "251330  1.745834e+09  284738273       146    20250428    54093  1745836980000   \n",
       "512071  1.745860e+09  284777857       105    20250428    53936  1745861280000   \n",
       "89445   1.745802e+09  283553440        97    20250427    54010  1745804460000   \n",
       "231946  1.745834e+09  285009631       215    20250428    60383              0   \n",
       "179406  1.745816e+09  283854959       186    20250427    53725              0   \n",
       "268448  1.745838e+09  285002354       129    20250428    50898  1745839977000   \n",
       "392579  1.745845e+09  285010134       419    20250428    57822              0   \n",
       "\n",
       "        departure_time  schedule_relationship  \n",
       "260892               0                      0  \n",
       "498428   1745856660000                      0  \n",
       "295074   1745838900000                      0  \n",
       "251330               0                      0  \n",
       "512071               0                      0  \n",
       "89445                0                      0  \n",
       "231946   1745837640000                      0  \n",
       "179406   1745817600000                      0  \n",
       "268448               0                      0  \n",
       "392579   1745846160000                      0  "
      ]
     },
     "execution_count": 17,
     "metadata": {},
     "output_type": "execute_result"
    }
   ],
   "source": [
    "# Display rows\n",
    "trips_df[diff_date_mask].sample(10)"
   ]
  },
  {
   "cell_type": "code",
   "execution_count": 18,
   "id": "30ac514f",
   "metadata": {},
   "outputs": [],
   "source": [
    "# Replace zero arrival times by departure times, as they are usually the same\n",
    "trips_df.loc[zero_mask, 'arrival_time'] = trips_df.loc[zero_mask, 'departure_time']"
   ]
  },
  {
   "cell_type": "code",
   "execution_count": 19,
   "id": "943aae1e",
   "metadata": {},
   "outputs": [
    {
     "name": "stdout",
     "output_type": "stream",
     "text": [
      "3.30%\n"
     ]
    }
   ],
   "source": [
    "# Get proportion of rows with zero arrival times again\n",
    "zero_mask = trips_df['arrival_time'] == 0\n",
    "print(f'{(zero_mask.sum() / len(trips_df)):.2%}')"
   ]
  },
  {
   "cell_type": "code",
   "execution_count": 20,
   "id": "7a1196df",
   "metadata": {},
   "outputs": [],
   "source": [
    "# Delete the rows with 0 arrival times\n",
    "trips_df = trips_df[~zero_mask]\n",
    "zero_mask = trips_df['arrival_time'] == 0\n",
    "assert zero_mask.sum() == 0"
   ]
  },
  {
   "cell_type": "code",
   "execution_count": 21,
   "id": "f204b0d0",
   "metadata": {},
   "outputs": [],
   "source": [
    "# Rename arrival time\n",
    "trips_df = trips_df.rename(columns={'arrival_time': 'realtime_arrival_time'})"
   ]
  },
  {
   "cell_type": "code",
   "execution_count": 22,
   "id": "abc2c9eb",
   "metadata": {},
   "outputs": [],
   "source": [
    "# Drop departure time\n",
    "trips_df = trips_df.drop('departure_time', axis=1)"
   ]
  },
  {
   "cell_type": "markdown",
   "id": "b3864f9b",
   "metadata": {},
   "source": [
    "## Merge Data"
   ]
  },
  {
   "cell_type": "markdown",
   "id": "2ab97d0d",
   "metadata": {},
   "source": [
    "### Realtime and Scheduled Trips"
   ]
  },
  {
   "cell_type": "code",
   "execution_count": 23,
   "id": "38b0d876",
   "metadata": {},
   "outputs": [],
   "source": [
    "# Sort values by stop sequence\n",
    "schedules_df = schedules_df.sort_values(by=['trip_id', 'stop_sequence'])"
   ]
  },
  {
   "cell_type": "code",
   "execution_count": 24,
   "id": "04f63ad2",
   "metadata": {},
   "outputs": [],
   "source": [
    "# Reset stop sequences (some stops might be missing)\n",
    "schedules_df['stop_sequence'] = schedules_df.groupby('trip_id').cumcount() + 1"
   ]
  },
  {
   "cell_type": "code",
   "execution_count": 25,
   "id": "f1ecead8",
   "metadata": {},
   "outputs": [],
   "source": [
    "# Add trip progress\n",
    "total_stops = schedules_df.groupby('trip_id')['stop_id'].transform('count')\n",
    "schedules_df['trip_progress'] = schedules_df['stop_sequence'] / total_stops"
   ]
  },
  {
   "cell_type": "code",
   "execution_count": 26,
   "id": "614b3ee0",
   "metadata": {},
   "outputs": [],
   "source": [
    "# Merge realtime and scheduled trips\n",
    "stm_trips_df = pd.merge(left=trips_df, right=schedules_df, how='inner', on=['trip_id', 'stop_id'])"
   ]
  },
  {
   "cell_type": "code",
   "execution_count": 27,
   "id": "7e78e8ff",
   "metadata": {},
   "outputs": [],
   "source": [
    "# Convert start_date to datetime\n",
    "stm_trips_df['start_date_dt'] = pd.to_datetime(stm_trips_df['start_date'], format='%Y%m%d')"
   ]
  },
  {
   "cell_type": "code",
   "execution_count": 28,
   "id": "0cda96f4",
   "metadata": {},
   "outputs": [],
   "source": [
    "def parse_gtfs_time(row) -> pd.Timestamp:\n",
    "\t'''\n",
    "\tConverts GTFS time string (e.g., '25:30:00') to datetime\n",
    "\tbased on the arrival time.\n",
    "\t'''\n",
    "\thours, minutes, seconds = map(int, row['arrival_time'].split(':'))\n",
    "\ttotal_seconds = hours * 3600 + minutes * 60 + seconds\n",
    "\n",
    "\tparsed_time = row['start_date_dt'] + timedelta(seconds=total_seconds)\n",
    "\treturn parsed_time"
   ]
  },
  {
   "cell_type": "code",
   "execution_count": 29,
   "id": "69cd48ca",
   "metadata": {},
   "outputs": [],
   "source": [
    "# Convert planned arrival time to localized datetime\n",
    "stm_trips_df['scheduled_arrival_time'] = stm_trips_df.apply(parse_gtfs_time, axis=1)\n",
    "stm_trips_df['scheduled_arrival_time'] = stm_trips_df['scheduled_arrival_time'].dt.tz_localize(LOCAL_TIMEZONE)"
   ]
  },
  {
   "cell_type": "code",
   "execution_count": 30,
   "id": "910b6d67",
   "metadata": {},
   "outputs": [],
   "source": [
    "# Convert planned time to timestamp in milliseconds since epoch\n",
    "stm_trips_df['scheduled_arrival_time'] = stm_trips_df['scheduled_arrival_time'].astype('int64') // 10**6"
   ]
  },
  {
   "cell_type": "markdown",
   "id": "5a8d3cb3",
   "metadata": {},
   "source": [
    "### Trips and Stops"
   ]
  },
  {
   "cell_type": "code",
   "execution_count": 31,
   "id": "1ae92990",
   "metadata": {},
   "outputs": [],
   "source": [
    "trips_stops_df = pd.merge(left=stm_trips_df, right=stops_df, how='inner', left_on='stop_id', right_on='stop_code')"
   ]
  },
  {
   "cell_type": "code",
   "execution_count": 32,
   "id": "ace19a36",
   "metadata": {},
   "outputs": [
    {
     "data": {
      "text/plain": [
       "Index(['current_time', 'trip_id', 'route_id', 'start_date', 'stop_id_x',\n",
       "       'realtime_arrival_time', 'schedule_relationship', 'arrival_time',\n",
       "       'departure_time', 'stop_sequence', 'trip_progress', 'start_date_dt',\n",
       "       'scheduled_arrival_time', 'stop_id_y', 'stop_code', 'stop_name',\n",
       "       'stop_lat', 'stop_lon', 'stop_url', 'location_type', 'parent_station',\n",
       "       'wheelchair_boarding'],\n",
       "      dtype='object')"
      ]
     },
     "execution_count": 32,
     "metadata": {},
     "output_type": "execute_result"
    }
   ],
   "source": [
    "trips_stops_df.columns"
   ]
  },
  {
   "cell_type": "code",
   "execution_count": 33,
   "id": "dbb7870b",
   "metadata": {},
   "outputs": [],
   "source": [
    "# Rename stop id\n",
    "trips_stops_df = trips_stops_df.rename(columns={'stop_id_x': 'stop_id'})"
   ]
  },
  {
   "cell_type": "code",
   "execution_count": 34,
   "id": "3e49f23e",
   "metadata": {},
   "outputs": [],
   "source": [
    "# Convert wheelchair_boarding to boolean\n",
    "trips_stops_df['wheelchair_boarding'] = (trips_stops_df['wheelchair_boarding'] == 1).astype('int64')"
   ]
  },
  {
   "cell_type": "markdown",
   "id": "f4ff72f0",
   "metadata": {},
   "source": [
    "### Vehicle Positions"
   ]
  },
  {
   "cell_type": "code",
   "execution_count": 36,
   "id": "5c7fc87e",
   "metadata": {},
   "outputs": [],
   "source": [
    "subset = ['trip_id', 'route_id', 'start_date', 'stop_sequence']\n",
    "positions_df = positions_df.sort_values(by=subset)"
   ]
  },
  {
   "cell_type": "code",
   "execution_count": 37,
   "id": "2d6c4ee4",
   "metadata": {},
   "outputs": [
    {
     "data": {
      "application/vnd.microsoft.datawrangler.viewer.v0+json": {
       "columns": [
        {
         "name": "index",
         "rawType": "int64",
         "type": "integer"
        },
        {
         "name": "current_time",
         "rawType": "float64",
         "type": "float"
        },
        {
         "name": "vehicle_id",
         "rawType": "int64",
         "type": "integer"
        },
        {
         "name": "trip_id",
         "rawType": "int64",
         "type": "integer"
        },
        {
         "name": "route_id",
         "rawType": "int64",
         "type": "integer"
        },
        {
         "name": "start_date",
         "rawType": "int64",
         "type": "integer"
        },
        {
         "name": "start_time",
         "rawType": "object",
         "type": "string"
        },
        {
         "name": "latitude",
         "rawType": "float64",
         "type": "float"
        },
        {
         "name": "longitude",
         "rawType": "float64",
         "type": "float"
        },
        {
         "name": "bearing",
         "rawType": "float64",
         "type": "float"
        },
        {
         "name": "speed",
         "rawType": "float64",
         "type": "float"
        },
        {
         "name": "stop_sequence",
         "rawType": "int64",
         "type": "integer"
        },
        {
         "name": "status",
         "rawType": "int64",
         "type": "integer"
        },
        {
         "name": "timestamp",
         "rawType": "int64",
         "type": "integer"
        },
        {
         "name": "occupancy_status",
         "rawType": "int64",
         "type": "integer"
        }
       ],
       "conversionMethod": "pd.DataFrame",
       "ref": "363c06e3-cc26-496a-b1a2-a623b439dad0",
       "rows": [
        [
         "15261",
         "1745852464.135788",
         "32802",
         "914104",
         "470",
         "20250428",
         "10:24:00",
         "45.45975875854492",
         "-73.89192962646484",
         "144.0",
         "0.0",
         "3",
         "1",
         "1745852444",
         "1"
        ],
        [
         "15784",
         "1745853364.196311",
         "32802",
         "914104",
         "470",
         "20250428",
         "10:24:00",
         "45.45975875854492",
         "-73.89192962646484",
         "94.0",
         "0.0",
         "3",
         "1",
         "1745853345",
         "1"
        ],
        [
         "16322",
         "1745854265.077375",
         "32802",
         "914104",
         "470",
         "20250428",
         "10:24:00",
         "45.45975875854492",
         "-73.89192962646484",
         "0.0",
         "0.0",
         "3",
         "1",
         "1745854247",
         "1"
        ],
        [
         "16857",
         "1745855166.697272",
         "32802",
         "914104",
         "470",
         "20250428",
         "10:24:00",
         "45.45975875854492",
         "-73.89192962646484",
         "115.0",
         "0.0",
         "3",
         "1",
         "1745855147",
         "1"
        ],
        [
         "17378",
         "1745856065.680461",
         "32802",
         "914104",
         "470",
         "20250428",
         "10:24:00",
         "45.45975875854492",
         "-73.89192962646484",
         "0.0",
         "0.0",
         "3",
         "1",
         "1745856049",
         "1"
        ],
        [
         "4023",
         "1745806506.406956",
         "30234",
         "283211514",
         "68",
         "20250427",
         "21:27:00",
         "45.51533508300781",
         "-73.74624633789062",
         "59.0",
         "0.0",
         "13",
         "1",
         "1745806478",
         "1"
        ],
        [
         "4625",
         "1745810106.53693",
         "30234",
         "283211515",
         "68",
         "20250427",
         "22:31:00",
         "45.47574615478516",
         "-73.87123107910156",
         "0.0",
         "0.0",
         "5",
         "1",
         "1745810082",
         "1"
        ],
        [
         "5745",
         "1745816462.081131",
         "40126",
         "283211892",
         "201",
         "20250427",
         "23:30:00",
         "45.502349853515625",
         "-73.73307037353516",
         "0.0",
         "0.0",
         "69",
         "2",
         "1745816443",
         "1"
        ],
        [
         "882",
         "1745790307.333954",
         "38052",
         "283211920",
         "204",
         "20250427",
         "17:46:00",
         "45.465328216552734",
         "-73.83090209960938",
         "0.0",
         "0.0",
         "1",
         "1",
         "1745790292",
         "1"
        ],
        [
         "608",
         "1745790307.303497",
         "40188",
         "283212650",
         "201",
         "20250427",
         "17:47:00",
         "45.46623992919922",
         "-73.83261108398438",
         "0.0",
         "0.0",
         "1",
         "1",
         "1745790289",
         "1"
        ],
        [
         "549",
         "1745790307.302135",
         "31195",
         "283212664",
         "202",
         "20250427",
         "17:45:00",
         "45.50879287719727",
         "-73.67280578613281",
         "41.0",
         "0.0",
         "1",
         "1",
         "1745790294",
         "1"
        ],
        [
         "5911",
         "1745818262.449585",
         "40154",
         "283212707",
         "207",
         "20250428",
         "00:28:00",
         "45.46593475341797",
         "-73.87958526611328",
         "0.0",
         "0.0",
         "42",
         "2",
         "1745818257",
         "1"
        ],
        [
         "6252",
         "1745823661.452132",
         "40154",
         "283212709",
         "376",
         "20250428",
         "01:30:00",
         "45.489688873291016",
         "-73.58290100097656",
         "0.0",
         "0.0",
         "43",
         "2",
         "1745823625",
         "1"
        ],
        [
         "6476",
         "1745829062.659154",
         "40190",
         "283212901",
         "382",
         "20250428",
         "03:15:00",
         "45.53196716308594",
         "-73.7197494506836",
         "43.0",
         "0.0",
         "29",
         "1",
         "1745829051",
         "1"
        ],
        [
         "834",
         "1745790307.30776",
         "40202",
         "283212976",
         "204",
         "20250427",
         "17:59:00",
         "45.449462890625",
         "-73.74323272705078",
         "0.0",
         "0.0",
         "1",
         "1",
         "1745790279",
         "1"
        ],
        [
         "581",
         "1745790307.302971",
         "31148",
         "283213018",
         "64",
         "20250427",
         "17:50:00",
         "45.51460266113281",
         "-73.68383026123047",
         "0.0",
         "0.0",
         "1",
         "1",
         "1745790288",
         "1"
        ],
        [
         "6358",
         "1745825463.727454",
         "40128",
         "283213126",
         "376",
         "20250428",
         "02:15:00",
         "45.48922348022461",
         "-73.58429718017578",
         "0.0",
         "0.0",
         "42",
         "1",
         "1745825447",
         "1"
        ],
        [
         "632",
         "1745790307.303893",
         "40152",
         "283213201",
         "70",
         "20250427",
         "18:08:00",
         "45.50362014770508",
         "-73.71919250488281",
         "0.0",
         "0.0",
         "1",
         "1",
         "1745790283",
         "1"
        ],
        [
         "6249",
         "1745823661.452025",
         "40152",
         "283213217",
         "376",
         "20250428",
         "01:30:00",
         "45.46687316894531",
         "-73.87840270996094",
         "0.0",
         "0.0",
         "50",
         "2",
         "1745823638",
         "1"
        ],
        [
         "606",
         "1745790307.303457",
         "40186",
         "283213382",
         "17",
         "20250427",
         "17:06:00",
         "45.47493743896485",
         "-73.5947265625",
         "75.0",
         "0.0",
         "32",
         "2",
         "1745790282",
         "1"
        ],
        [
         "974",
         "1745790307.336005",
         "38064",
         "283213416",
         "968",
         "20250427",
         "17:10:00",
         "45.5136947631836",
         "-73.68388366699219",
         "0.0",
         "0.0",
         "3",
         "2",
         "1745789817",
         "1"
        ],
        [
         "615",
         "1745790307.303608",
         "40178",
         "283213421",
         "968",
         "20250427",
         "17:00:00",
         "45.4945182800293",
         "-73.74931335449219",
         "222.0",
         "7.500060081481934",
         "3",
         "2",
         "1745790278",
         "1"
        ],
        [
         "1096",
         "1745792106.392151",
         "40178",
         "283213421",
         "968",
         "20250427",
         "17:00:00",
         "45.50266647338867",
         "-73.73338317871094",
         "0.0",
         "0.0",
         "3",
         "2",
         "1745792094",
         "1"
        ],
        [
         "2218",
         "1745795706.004653",
         "30171",
         "283213425",
         "968",
         "20250427",
         "19:10:00",
         "45.50724029541016",
         "-73.79621887207031",
         "116.0",
         "15.000120162963867",
         "2",
         "2",
         "1745795681",
         "1"
        ],
        [
         "3316",
         "1745801105.877985",
         "30171",
         "283213426",
         "968",
         "20250427",
         "20:00:00",
         "45.51286697387695",
         "-73.81639862060547",
         "0.0",
         "0.0",
         "3",
         "2",
         "1745801086",
         "1"
        ],
        [
         "4566",
         "1745808307.056494",
         "30171",
         "283213428",
         "968",
         "20250427",
         "22:05:00",
         "45.51286697387695",
         "-73.81641387939453",
         "0.0",
         "0.0",
         "3",
         "2",
         "1745808282",
         "1"
        ],
        [
         "5401",
         "1745812992.455955",
         "30171",
         "283213430",
         "968",
         "20250428",
         "00:15:00",
         "45.51423263549805",
         "-73.68409729003906",
         "0.0",
         "0.0",
         "1",
         "1",
         "1745812968",
         "1"
        ],
        [
         "2374",
         "1745797505.91625",
         "40187",
         "283213434",
         "968",
         "20250427",
         "19:00:00",
         "45.51178359985352",
         "-73.81414794921875",
         "0.0",
         "0.0",
         "3",
         "2",
         "1745797493",
         "1"
        ],
        [
         "5247",
         "1745812992.453817",
         "40187",
         "283213439",
         "968",
         "20250428",
         "00:15:00",
         "45.510353088378906",
         "-73.81182098388672",
         "0.0",
         "0.0",
         "1",
         "1",
         "1745812963",
         "1"
        ],
        [
         "624",
         "1745790307.303759",
         "41011",
         "283552790",
         "11",
         "20250427",
         "17:46:00",
         "45.52596664428711",
         "-73.57465362548828",
         "0.0",
         "0.0",
         "1",
         "1",
         "1745790289",
         "1"
        ],
        [
         "1997",
         "1745795705.998737",
         "41002",
         "283553152",
         "51",
         "20250427",
         "17:30:00",
         "45.53818130493164",
         "-73.57078552246094",
         "0.0",
         "0.0",
         "53",
         "2",
         "1745795692",
         "3"
        ],
        [
         "6205",
         "1745821861.943895",
         "40097",
         "283553237",
         "51",
         "20250428",
         "01:20:00",
         "45.526851654052734",
         "-73.55461883544922",
         "303.0",
         "12.500100135803224",
         "53",
         "2",
         "1745821853",
         "1"
        ],
        [
         "6279",
         "1745823661.453159",
         "40097",
         "283553237",
         "51",
         "20250428",
         "01:20:00",
         "45.53861618041992",
         "-73.5719985961914",
         "0.0",
         "0.0",
         "53",
         "2",
         "1745823622",
         "1"
        ],
        [
         "2758",
         "1745799305.247085",
         "41034",
         "283553336",
         "51",
         "20250427",
         "18:23:00",
         "45.53826522827149",
         "-73.57125091552734",
         "0.0",
         "0.0",
         "53",
         "2",
         "1745799287",
         "1"
        ],
        [
         "668",
         "1745790307.304498",
         "40116",
         "283553340",
         "51",
         "20250427",
         "16:46:00",
         "45.45662689208984",
         "-73.64044952392578",
         "0.0",
         "0.0",
         "51",
         "1",
         "1745790285",
         "2"
        ],
        [
         "6117",
         "1745820065.04052",
         "40116",
         "283553352",
         "51",
         "20250428",
         "00:48:00",
         "45.51431655883789",
         "-73.68392944335938",
         "0.0",
         "0.0",
         "53",
         "2",
         "1745820012",
         "1"
        ],
        [
         "5779",
         "1745816462.081794",
         "30093",
         "283553373",
         "97",
         "20250427",
         "04:57:00",
         "45.55153274536133",
         "-73.54492950439453",
         "113.0",
         "9.166739463806152",
         "29",
         "1",
         "1745816457",
         "1"
        ],
        [
         "5966",
         "1745818262.450516",
         "30093",
         "283553373",
         "97",
         "20250427",
         "04:57:00",
         "45.53900146484375",
         "-73.56745147705078",
         "286.0",
         "11.111200332641602",
         "29",
         "1",
         "1745818253",
         "1"
        ],
        [
         "2967",
         "1745799305.252602",
         "31051",
         "283584424",
         "31",
         "20250427",
         "19:15:00",
         "45.54244613647461",
         "-73.6286849975586",
         "0.0",
         "0.0",
         "16",
         "1",
         "1745799280",
         "1"
        ],
        [
         "6438",
         "1745827263.079471",
         "31037",
         "283584640",
         "361",
         "20250428",
         "02:57:00",
         "45.53983688354492",
         "-73.61968231201172",
         "304.0",
         "0.0",
         "18",
         "1",
         "1745827246",
         "1"
        ],
        [
         "6604",
         "1745830863.162232",
         "31037",
         "283584640",
         "361",
         "20250428",
         "02:57:00",
         "45.5323371887207",
         "-73.60136413574219",
         "200.0",
         "0.0",
         "24",
         "1",
         "1745830848",
         "1"
        ],
        [
         "4856",
         "1745810106.542215",
         "31017",
         "283584686",
         "179",
         "20250427",
         "22:32:00",
         "45.52299118041992",
         "-73.62377166748047",
         "112.0",
         "0.0",
         "1",
         "1",
         "1745810092",
         "1"
        ],
        [
         "5403",
         "1745812992.455977",
         "31017",
         "283584686",
         "179",
         "20250427",
         "22:32:00",
         "45.52732849121094",
         "-73.62611389160156",
         "0.0",
         "0.0",
         "9",
         "1",
         "1745812963",
         "1"
        ],
        [
         "5634",
         "1745814994.832567",
         "31017",
         "283584686",
         "179",
         "20250427",
         "22:32:00",
         "45.52732849121094",
         "-73.62611389160156",
         "0.0",
         "0.0",
         "9",
         "1",
         "1745814977",
         "1"
        ],
        [
         "5847",
         "1745816462.082984",
         "31017",
         "283584686",
         "179",
         "20250427",
         "22:32:00",
         "45.52732849121094",
         "-73.62611389160156",
         "0.0",
         "0.0",
         "9",
         "1",
         "1745816443",
         "1"
        ],
        [
         "604",
         "1745790307.303425",
         "31089",
         "283584709",
         "161",
         "20250427",
         "17:50:00",
         "45.46261978149414",
         "-73.67112731933594",
         "0.0",
         "0.0",
         "1",
         "1",
         "1745790293",
         "1"
        ],
        [
         "4243",
         "1745806506.414035",
         "30133",
         "283853680",
         "86",
         "20250427",
         "21:27:00",
         "45.65029525756836",
         "-73.5611343383789",
         "14.0",
         "0.0",
         "6",
         "1",
         "1745806480",
         "1"
        ],
        [
         "5376",
         "1745812992.455588",
         "30133",
         "283853683",
         "43",
         "20250427",
         "23:45:00",
         "45.65937423706055",
         "-73.57044219970703",
         "205.0",
         "0.0",
         "1",
         "1",
         "1745812970",
         "1"
        ],
        [
         "5396",
         "1745812992.455866",
         "31069",
         "283853749",
         "49",
         "20250428",
         "00:16:00",
         "45.55586242675781",
         "-73.66728973388672",
         "0.0",
         "0.0",
         "1",
         "1",
         "1745812970",
         "1"
        ],
        [
         "4389",
         "1745808307.051271",
         "31098",
         "283853885",
         "186",
         "20250427",
         "21:42:00",
         "45.5970573425293",
         "-73.53606414794922",
         "0.0",
         "0.0",
         "1",
         "1",
         "1745808288",
         "1"
        ]
       ],
       "shape": {
        "columns": 14,
        "rows": 558
       }
      },
      "text/html": [
       "<div>\n",
       "<style scoped>\n",
       "    .dataframe tbody tr th:only-of-type {\n",
       "        vertical-align: middle;\n",
       "    }\n",
       "\n",
       "    .dataframe tbody tr th {\n",
       "        vertical-align: top;\n",
       "    }\n",
       "\n",
       "    .dataframe thead th {\n",
       "        text-align: right;\n",
       "    }\n",
       "</style>\n",
       "<table border=\"1\" class=\"dataframe\">\n",
       "  <thead>\n",
       "    <tr style=\"text-align: right;\">\n",
       "      <th></th>\n",
       "      <th>current_time</th>\n",
       "      <th>vehicle_id</th>\n",
       "      <th>trip_id</th>\n",
       "      <th>route_id</th>\n",
       "      <th>start_date</th>\n",
       "      <th>start_time</th>\n",
       "      <th>latitude</th>\n",
       "      <th>longitude</th>\n",
       "      <th>bearing</th>\n",
       "      <th>speed</th>\n",
       "      <th>stop_sequence</th>\n",
       "      <th>status</th>\n",
       "      <th>timestamp</th>\n",
       "      <th>occupancy_status</th>\n",
       "    </tr>\n",
       "  </thead>\n",
       "  <tbody>\n",
       "    <tr>\n",
       "      <th>15261</th>\n",
       "      <td>1.745852e+09</td>\n",
       "      <td>32802</td>\n",
       "      <td>914104</td>\n",
       "      <td>470</td>\n",
       "      <td>20250428</td>\n",
       "      <td>10:24:00</td>\n",
       "      <td>45.459759</td>\n",
       "      <td>-73.891930</td>\n",
       "      <td>144.0</td>\n",
       "      <td>0.00000</td>\n",
       "      <td>3</td>\n",
       "      <td>1</td>\n",
       "      <td>1745852444</td>\n",
       "      <td>1</td>\n",
       "    </tr>\n",
       "    <tr>\n",
       "      <th>15784</th>\n",
       "      <td>1.745853e+09</td>\n",
       "      <td>32802</td>\n",
       "      <td>914104</td>\n",
       "      <td>470</td>\n",
       "      <td>20250428</td>\n",
       "      <td>10:24:00</td>\n",
       "      <td>45.459759</td>\n",
       "      <td>-73.891930</td>\n",
       "      <td>94.0</td>\n",
       "      <td>0.00000</td>\n",
       "      <td>3</td>\n",
       "      <td>1</td>\n",
       "      <td>1745853345</td>\n",
       "      <td>1</td>\n",
       "    </tr>\n",
       "    <tr>\n",
       "      <th>16322</th>\n",
       "      <td>1.745854e+09</td>\n",
       "      <td>32802</td>\n",
       "      <td>914104</td>\n",
       "      <td>470</td>\n",
       "      <td>20250428</td>\n",
       "      <td>10:24:00</td>\n",
       "      <td>45.459759</td>\n",
       "      <td>-73.891930</td>\n",
       "      <td>0.0</td>\n",
       "      <td>0.00000</td>\n",
       "      <td>3</td>\n",
       "      <td>1</td>\n",
       "      <td>1745854247</td>\n",
       "      <td>1</td>\n",
       "    </tr>\n",
       "    <tr>\n",
       "      <th>16857</th>\n",
       "      <td>1.745855e+09</td>\n",
       "      <td>32802</td>\n",
       "      <td>914104</td>\n",
       "      <td>470</td>\n",
       "      <td>20250428</td>\n",
       "      <td>10:24:00</td>\n",
       "      <td>45.459759</td>\n",
       "      <td>-73.891930</td>\n",
       "      <td>115.0</td>\n",
       "      <td>0.00000</td>\n",
       "      <td>3</td>\n",
       "      <td>1</td>\n",
       "      <td>1745855147</td>\n",
       "      <td>1</td>\n",
       "    </tr>\n",
       "    <tr>\n",
       "      <th>17378</th>\n",
       "      <td>1.745856e+09</td>\n",
       "      <td>32802</td>\n",
       "      <td>914104</td>\n",
       "      <td>470</td>\n",
       "      <td>20250428</td>\n",
       "      <td>10:24:00</td>\n",
       "      <td>45.459759</td>\n",
       "      <td>-73.891930</td>\n",
       "      <td>0.0</td>\n",
       "      <td>0.00000</td>\n",
       "      <td>3</td>\n",
       "      <td>1</td>\n",
       "      <td>1745856049</td>\n",
       "      <td>1</td>\n",
       "    </tr>\n",
       "    <tr>\n",
       "      <th>...</th>\n",
       "      <td>...</td>\n",
       "      <td>...</td>\n",
       "      <td>...</td>\n",
       "      <td>...</td>\n",
       "      <td>...</td>\n",
       "      <td>...</td>\n",
       "      <td>...</td>\n",
       "      <td>...</td>\n",
       "      <td>...</td>\n",
       "      <td>...</td>\n",
       "      <td>...</td>\n",
       "      <td>...</td>\n",
       "      <td>...</td>\n",
       "      <td>...</td>\n",
       "    </tr>\n",
       "    <tr>\n",
       "      <th>827</th>\n",
       "      <td>1.745790e+09</td>\n",
       "      <td>28101</td>\n",
       "      <td>286594525</td>\n",
       "      <td>211</td>\n",
       "      <td>20250427</td>\n",
       "      <td>16:55:00</td>\n",
       "      <td>45.457355</td>\n",
       "      <td>-73.622627</td>\n",
       "      <td>46.0</td>\n",
       "      <td>23.05574</td>\n",
       "      <td>47</td>\n",
       "      <td>2</td>\n",
       "      <td>1745790294</td>\n",
       "      <td>3</td>\n",
       "    </tr>\n",
       "    <tr>\n",
       "      <th>6131</th>\n",
       "      <td>1.745820e+09</td>\n",
       "      <td>40082</td>\n",
       "      <td>286594572</td>\n",
       "      <td>195</td>\n",
       "      <td>20250428</td>\n",
       "      <td>00:48:00</td>\n",
       "      <td>45.507149</td>\n",
       "      <td>-73.772400</td>\n",
       "      <td>244.0</td>\n",
       "      <td>10.00008</td>\n",
       "      <td>53</td>\n",
       "      <td>2</td>\n",
       "      <td>1745820012</td>\n",
       "      <td>1</td>\n",
       "    </tr>\n",
       "    <tr>\n",
       "      <th>499</th>\n",
       "      <td>1.745790e+09</td>\n",
       "      <td>40042</td>\n",
       "      <td>286594779</td>\n",
       "      <td>114</td>\n",
       "      <td>20250427</td>\n",
       "      <td>18:03:00</td>\n",
       "      <td>45.424129</td>\n",
       "      <td>-73.610214</td>\n",
       "      <td>0.0</td>\n",
       "      <td>0.00000</td>\n",
       "      <td>1</td>\n",
       "      <td>1</td>\n",
       "      <td>1745790283</td>\n",
       "      <td>1</td>\n",
       "    </tr>\n",
       "    <tr>\n",
       "      <th>13704</th>\n",
       "      <td>1.745850e+09</td>\n",
       "      <td>40115</td>\n",
       "      <td>286598477</td>\n",
       "      <td>721</td>\n",
       "      <td>20250428</td>\n",
       "      <td>09:45:00</td>\n",
       "      <td>45.448807</td>\n",
       "      <td>-73.442589</td>\n",
       "      <td>0.0</td>\n",
       "      <td>0.00000</td>\n",
       "      <td>2</td>\n",
       "      <td>2</td>\n",
       "      <td>1745849756</td>\n",
       "      <td>1</td>\n",
       "    </tr>\n",
       "    <tr>\n",
       "      <th>12429</th>\n",
       "      <td>1.745847e+09</td>\n",
       "      <td>40115</td>\n",
       "      <td>286598481</td>\n",
       "      <td>721</td>\n",
       "      <td>20250428</td>\n",
       "      <td>08:45:00</td>\n",
       "      <td>45.497158</td>\n",
       "      <td>-73.562149</td>\n",
       "      <td>0.0</td>\n",
       "      <td>0.00000</td>\n",
       "      <td>4</td>\n",
       "      <td>2</td>\n",
       "      <td>1745847045</td>\n",
       "      <td>1</td>\n",
       "    </tr>\n",
       "  </tbody>\n",
       "</table>\n",
       "<p>558 rows × 14 columns</p>\n",
       "</div>"
      ],
      "text/plain": [
       "       current_time  vehicle_id    trip_id  route_id  start_date start_time  \\\n",
       "15261  1.745852e+09       32802     914104       470    20250428   10:24:00   \n",
       "15784  1.745853e+09       32802     914104       470    20250428   10:24:00   \n",
       "16322  1.745854e+09       32802     914104       470    20250428   10:24:00   \n",
       "16857  1.745855e+09       32802     914104       470    20250428   10:24:00   \n",
       "17378  1.745856e+09       32802     914104       470    20250428   10:24:00   \n",
       "...             ...         ...        ...       ...         ...        ...   \n",
       "827    1.745790e+09       28101  286594525       211    20250427   16:55:00   \n",
       "6131   1.745820e+09       40082  286594572       195    20250428   00:48:00   \n",
       "499    1.745790e+09       40042  286594779       114    20250427   18:03:00   \n",
       "13704  1.745850e+09       40115  286598477       721    20250428   09:45:00   \n",
       "12429  1.745847e+09       40115  286598481       721    20250428   08:45:00   \n",
       "\n",
       "        latitude  longitude  bearing     speed  stop_sequence  status  \\\n",
       "15261  45.459759 -73.891930    144.0   0.00000              3       1   \n",
       "15784  45.459759 -73.891930     94.0   0.00000              3       1   \n",
       "16322  45.459759 -73.891930      0.0   0.00000              3       1   \n",
       "16857  45.459759 -73.891930    115.0   0.00000              3       1   \n",
       "17378  45.459759 -73.891930      0.0   0.00000              3       1   \n",
       "...          ...        ...      ...       ...            ...     ...   \n",
       "827    45.457355 -73.622627     46.0  23.05574             47       2   \n",
       "6131   45.507149 -73.772400    244.0  10.00008             53       2   \n",
       "499    45.424129 -73.610214      0.0   0.00000              1       1   \n",
       "13704  45.448807 -73.442589      0.0   0.00000              2       2   \n",
       "12429  45.497158 -73.562149      0.0   0.00000              4       2   \n",
       "\n",
       "        timestamp  occupancy_status  \n",
       "15261  1745852444                 1  \n",
       "15784  1745853345                 1  \n",
       "16322  1745854247                 1  \n",
       "16857  1745855147                 1  \n",
       "17378  1745856049                 1  \n",
       "...           ...               ...  \n",
       "827    1745790294                 3  \n",
       "6131   1745820012                 1  \n",
       "499    1745790283                 1  \n",
       "13704  1745849756                 1  \n",
       "12429  1745847045                 1  \n",
       "\n",
       "[558 rows x 14 columns]"
      ]
     },
     "execution_count": 37,
     "metadata": {},
     "output_type": "execute_result"
    }
   ],
   "source": [
    "duplicate_mask = positions_df.duplicated(subset=subset)\n",
    "positions_df[duplicate_mask]"
   ]
  },
  {
   "cell_type": "code",
   "execution_count": 38,
   "id": "ff90a39f",
   "metadata": {},
   "outputs": [
    {
     "name": "stdout",
     "output_type": "stream",
     "text": [
      "2.14%\n"
     ]
    }
   ],
   "source": [
    "# Get proportion of duplicates\n",
    "print(f'{(duplicate_mask.sum() / len(positions_df)):.2%}')"
   ]
  },
  {
   "cell_type": "code",
   "execution_count": 39,
   "id": "b2e259b1",
   "metadata": {},
   "outputs": [],
   "source": [
    "# Remove duplicates\n",
    "positions_df = positions_df.drop_duplicates(subset=subset)"
   ]
  },
  {
   "cell_type": "code",
   "execution_count": 40,
   "id": "d236afc3",
   "metadata": {},
   "outputs": [],
   "source": [
    "# Merge with other STM data\n",
    "stm_df = pd.merge(left=trips_stops_df, right=positions_df, how='inner', on=['trip_id', 'route_id', 'start_date', 'stop_sequence'])"
   ]
  },
  {
   "cell_type": "code",
   "execution_count": 41,
   "id": "b0672eb6",
   "metadata": {},
   "outputs": [
    {
     "name": "stdout",
     "output_type": "stream",
     "text": [
      "<class 'pandas.core.frame.DataFrame'>\n",
      "RangeIndex: 22607 entries, 0 to 22606\n",
      "Data columns (total 32 columns):\n",
      " #   Column                  Non-Null Count  Dtype         \n",
      "---  ------                  --------------  -----         \n",
      " 0   current_time_x          22607 non-null  float64       \n",
      " 1   trip_id                 22607 non-null  int64         \n",
      " 2   route_id                22607 non-null  int64         \n",
      " 3   start_date              22607 non-null  int64         \n",
      " 4   stop_id                 22607 non-null  int64         \n",
      " 5   realtime_arrival_time   22607 non-null  int64         \n",
      " 6   schedule_relationship   22607 non-null  int64         \n",
      " 7   arrival_time            22607 non-null  object        \n",
      " 8   departure_time          22607 non-null  object        \n",
      " 9   stop_sequence           22607 non-null  int64         \n",
      " 10  trip_progress           22607 non-null  float64       \n",
      " 11  start_date_dt           22607 non-null  datetime64[ns]\n",
      " 12  scheduled_arrival_time  22607 non-null  int64         \n",
      " 13  stop_id_y               22607 non-null  object        \n",
      " 14  stop_code               22607 non-null  int64         \n",
      " 15  stop_name               22607 non-null  object        \n",
      " 16  stop_lat                22607 non-null  float64       \n",
      " 17  stop_lon                22607 non-null  float64       \n",
      " 18  stop_url                22607 non-null  object        \n",
      " 19  location_type           22607 non-null  int64         \n",
      " 20  parent_station          0 non-null      object        \n",
      " 21  wheelchair_boarding     22607 non-null  int64         \n",
      " 22  current_time_y          22607 non-null  float64       \n",
      " 23  vehicle_id              22607 non-null  int64         \n",
      " 24  start_time              22607 non-null  object        \n",
      " 25  latitude                22607 non-null  float64       \n",
      " 26  longitude               22607 non-null  float64       \n",
      " 27  bearing                 22607 non-null  float64       \n",
      " 28  speed                   22607 non-null  float64       \n",
      " 29  status                  22607 non-null  int64         \n",
      " 30  timestamp               22607 non-null  int64         \n",
      " 31  occupancy_status        22607 non-null  int64         \n",
      "dtypes: datetime64[ns](1), float64(9), int64(15), object(7)\n",
      "memory usage: 5.5+ MB\n"
     ]
    }
   ],
   "source": [
    "stm_df.info()"
   ]
  },
  {
   "cell_type": "markdown",
   "id": "7b431a68",
   "metadata": {},
   "source": [
    "### STM and Weather"
   ]
  },
  {
   "cell_type": "code",
   "execution_count": 42,
   "id": "463973c4",
   "metadata": {},
   "outputs": [],
   "source": [
    "# Convert arrival timestamp to datetime\n",
    "rt_arrival_dt = pd.to_datetime(stm_df['realtime_arrival_time'], origin='unix', unit='ms', utc=True)"
   ]
  },
  {
   "cell_type": "code",
   "execution_count": 43,
   "id": "c139f560",
   "metadata": {},
   "outputs": [],
   "source": [
    "# Round arrival time to the nearest hour\n",
    "stm_df['rounded_arrival_dt'] = rt_arrival_dt.dt.round('h')"
   ]
  },
  {
   "cell_type": "code",
   "execution_count": 44,
   "id": "5d4d8333",
   "metadata": {},
   "outputs": [],
   "source": [
    "# Format time to match weather data\n",
    "stm_df['time'] = stm_df['rounded_arrival_dt'].dt.strftime('%Y-%m-%dT%H:%M')"
   ]
  },
  {
   "cell_type": "code",
   "execution_count": 45,
   "id": "f2552f97",
   "metadata": {},
   "outputs": [],
   "source": [
    "# Merge STM data with historical weather\n",
    "stm_weather_df = pd.merge(left=stm_df, right=weather_df, how='left', on='time')"
   ]
  },
  {
   "cell_type": "code",
   "execution_count": 46,
   "id": "5d6f3ba0",
   "metadata": {},
   "outputs": [],
   "source": [
    "# Filter rows with null weather\n",
    "null_weather_mask = stm_weather_df.isna().any(axis=1)"
   ]
  },
  {
   "cell_type": "code",
   "execution_count": 47,
   "id": "7b5f8471",
   "metadata": {},
   "outputs": [
    {
     "name": "stdout",
     "output_type": "stream",
     "text": [
      "100.00%\n"
     ]
    }
   ],
   "source": [
    "# Get proportion of rows with null weather\n",
    "print(f'{(null_weather_mask.sum() / len(stm_weather_df)):.2%}')"
   ]
  },
  {
   "cell_type": "code",
   "execution_count": 48,
   "id": "86b4c346",
   "metadata": {},
   "outputs": [],
   "source": [
    "# Separate null and non null rows\n",
    "not_null_df = stm_weather_df[~null_weather_mask]\n",
    "null_df = stm_weather_df[null_weather_mask]"
   ]
  },
  {
   "cell_type": "code",
   "execution_count": 49,
   "id": "e6accfdd",
   "metadata": {},
   "outputs": [],
   "source": [
    "# Fetch forecast weather\n",
    "start_date = null_df['rounded_arrival_dt'].min().strftime('%Y-%m-%d')\n",
    "end_date = null_df['rounded_arrival_dt'].max().strftime('%Y-%m-%d')\n",
    "\n",
    "weather_list = fetch_weather(start_date=start_date, end_date=end_date, forecast=True)\n",
    "weather_df = pd.DataFrame(weather_list)"
   ]
  },
  {
   "cell_type": "code",
   "execution_count": 50,
   "id": "13160035",
   "metadata": {},
   "outputs": [],
   "source": [
    "# Merge null weather dataframe with forecast\n",
    "null_df = null_df.drop(['temperature', 'precipitation', 'windspeed', 'weathercode'], axis=1)\n",
    "null_df = pd.merge(left=null_df, right=weather_df, how='inner', on='time')"
   ]
  },
  {
   "cell_type": "code",
   "execution_count": 51,
   "id": "43f1fcf8",
   "metadata": {},
   "outputs": [],
   "source": [
    "# Merge null and non null weather dataframes\n",
    "stm_weather_df = pd.concat([not_null_df, null_df]).reset_index()"
   ]
  },
  {
   "cell_type": "markdown",
   "id": "fe11c074",
   "metadata": {},
   "source": [
    "### Traffic Data"
   ]
  },
  {
   "cell_type": "code",
   "execution_count": 52,
   "id": "3ced7c04",
   "metadata": {},
   "outputs": [
    {
     "name": "stdout",
     "output_type": "stream",
     "text": [
      "39.89%\n"
     ]
    }
   ],
   "source": [
    "# Get proportion of duplicates\n",
    "duplicate_mask = traffic_df.duplicated()\n",
    "print(f'{(duplicate_mask.sum() / len(traffic_df)):.2%}')"
   ]
  },
  {
   "cell_type": "code",
   "execution_count": 53,
   "id": "4e69a875",
   "metadata": {},
   "outputs": [],
   "source": [
    "# Remove duplicates\n",
    "traffic_df = traffic_df.drop_duplicates(keep='last').reset_index()"
   ]
  },
  {
   "cell_type": "code",
   "execution_count": 54,
   "id": "c2b15f16",
   "metadata": {},
   "outputs": [],
   "source": [
    "# Convert STM arrival timestamp to datetime \n",
    "stm_weather_df['arrival_time_dt'] = pd.to_datetime(stm_weather_df['realtime_arrival_time'], origin='unix', unit='ms', utc=True)"
   ]
  },
  {
   "cell_type": "code",
   "execution_count": 55,
   "id": "ede164f5",
   "metadata": {},
   "outputs": [],
   "source": [
    "# Convert traffic start_time and end_time to datetime\n",
    "traffic_df['start_time_dt'] = pd.to_datetime(traffic_df['start_time'], utc=True)\n",
    "traffic_df['end_time_dt'] = pd.to_datetime(traffic_df['end_time'], utc=True)"
   ]
  },
  {
   "cell_type": "code",
   "execution_count": 56,
   "id": "d1c79ec6",
   "metadata": {},
   "outputs": [],
   "source": [
    "# Sort by date\n",
    "traffic_df = traffic_df.sort_values(by='start_time_dt').reset_index()"
   ]
  },
  {
   "cell_type": "code",
   "execution_count": 57,
   "id": "c2a61030",
   "metadata": {},
   "outputs": [],
   "source": [
    "# Fill null end times with current time (assuming the incident is still ongoing)\n",
    "traffic_df['end_time_dt'] = traffic_df['end_time_dt'].fillna(datetime.now(UTC).replace(microsecond=0))\n",
    "assert traffic_df['end_time_dt'].isna().sum() == 0"
   ]
  },
  {
   "cell_type": "code",
   "execution_count": 58,
   "id": "a2f51d97",
   "metadata": {},
   "outputs": [],
   "source": [
    "# Build traffic cache\n",
    "def build_traffic_cache(traffic_df:pd.DataFrame) -> dict:\n",
    "\ttraffic_cache = {}\n",
    "\ttraffic_df['hour'] = traffic_df['start_time_dt'].dt.floor('h')\n",
    "\n",
    "\tfor (hour, group) in traffic_df.groupby('hour'):\n",
    "\t\ttraffic_cache[hour] = group.copy()\n",
    "\n",
    "\treturn traffic_cache"
   ]
  },
  {
   "cell_type": "markdown",
   "id": "f3850f2b",
   "metadata": {},
   "source": [
    "Since there are many trip updates on the same day (even the same hour), there's a risk of repeating the filtering of active traffic incidents for each trip individually, which takes a lot of time for a large dataset. Traffic incidents are stable over minutes or hours. This is why the incidents are cached by hour."
   ]
  },
  {
   "cell_type": "code",
   "execution_count": 59,
   "id": "e84143f7",
   "metadata": {},
   "outputs": [],
   "source": [
    "def calculate_nearby_incidents(trip_update:pd.Series, traffic_cache:dict, max_distance:int=500) -> pd.Series:\n",
    "\ttrip_datetime = trip_update['arrival_time_dt']\n",
    "\tstop_coords = (trip_update['stop_lat'], trip_update['stop_lon'])\n",
    "\n",
    "\ttrip_hour = trip_datetime.floor('h')\n",
    "\n",
    "\t# Get cached incidents\n",
    "\thour_incidents = traffic_cache.get(trip_hour)\n",
    "\n",
    "\t# Stop if there are no incidents for that hour\n",
    "\tif hour_incidents is None or hour_incidents.empty:\n",
    "\t\treturn pd.Series({\n",
    "\t\t\t'incident_nearby': 0,\n",
    "\t\t\t'nearest_incident_distance': None,\n",
    "\t\t\t'incident_category': None,\n",
    "\t\t\t'incident_delay': None,\n",
    "\t\t\t'incident_delay_magnitude': None\n",
    "\t\t})\n",
    "\n",
    "\t# Filter for active incidents at that trip hour\n",
    "\tactive_incidents = hour_incidents[\n",
    "\t\t(hour_incidents['start_time_dt'] <= trip_datetime) &\n",
    "\t\t(hour_incidents['end_time_dt'] >= trip_datetime)\n",
    "\t].copy()\n",
    "\n",
    "\tif active_incidents.empty:\n",
    "\t\treturn pd.Series({\n",
    "\t\t\t'incident_nearby': 0,\n",
    "\t\t\t'nearest_incident_distance': None,\n",
    "\t\t\t'incident_category': None,\n",
    "\t\t\t'incident_delay': None,\n",
    "\t\t\t'incident_delay_magnitude': None\n",
    "\t\t})\n",
    "\n",
    "\t# Calculate distance     \n",
    "\tactive_incidents['distance'] = active_incidents.apply(\n",
    "\t\tlambda row: haversine(stop_coords, (row['latitude'], row['longitude']), unit=Unit.METERS),\n",
    "\t\taxis=1\n",
    "\t)\n",
    "\n",
    "\t# Filter nearby\n",
    "\tnearby_incidents = active_incidents[active_incidents['distance'] <= max_distance]\n",
    "\n",
    "\tif nearby_incidents.empty:\n",
    "\t\treturn pd.Series({\n",
    "\t\t\t'incident_nearby': 0,\n",
    "\t\t\t'nearest_incident_distance': None,\n",
    "\t\t\t'incident_category': None,\n",
    "\t\t\t'incident_delay': None,\n",
    "\t\t\t'incident_delay_magnitude': None\n",
    "\t\t})\n",
    "\telse:\n",
    "\t\tnearest = nearby_incidents.loc[nearby_incidents['distance'].idxmin()]\n",
    "\t\treturn pd.Series({\n",
    "\t\t\t'incident_nearby': 1,\n",
    "\t\t\t'nearest_incident_distance': nearest['distance'],\n",
    "\t\t\t'incident_category': nearest['category'],\n",
    "\t\t\t'incident_delay': nearest['delay'],\n",
    "\t\t\t'incident_delay_magnitude': nearest['magnitude_of_delay']\n",
    "\t\t})"
   ]
  },
  {
   "cell_type": "code",
   "execution_count": 60,
   "id": "fa13cf97",
   "metadata": {},
   "outputs": [],
   "source": [
    "# Get traffic columns (get incidents within 500 meters)\n",
    "traffic_cache = build_traffic_cache(traffic_df)\n",
    "traffic_cols = stm_weather_df.apply(lambda row: calculate_nearby_incidents(row, traffic_cache), axis=1)"
   ]
  },
  {
   "cell_type": "code",
   "execution_count": 61,
   "id": "84f574b4",
   "metadata": {},
   "outputs": [],
   "source": [
    "# Merge the traffic\n",
    "df = pd.concat([stm_weather_df, traffic_cols], axis=1)"
   ]
  },
  {
   "cell_type": "markdown",
   "id": "54983bb1",
   "metadata": {},
   "source": [
    "## Export Data"
   ]
  },
  {
   "cell_type": "code",
   "execution_count": 62,
   "id": "08f47649",
   "metadata": {},
   "outputs": [
    {
     "data": {
      "text/plain": [
       "Index(['index', 'current_time_x', 'trip_id', 'route_id', 'start_date',\n",
       "       'stop_id', 'realtime_arrival_time', 'arrival_time', 'departure_time',\n",
       "       'stop_sequence', 'trip_progress', 'start_date_dt',\n",
       "       'scheduled_arrival_time', 'stop_id_y', 'stop_code', 'stop_name',\n",
       "       'stop_lat', 'stop_lon', 'stop_url', 'wheelchair_boarding',\n",
       "       'current_time_y', 'vehicle_id', 'start_time', 'latitude', 'longitude',\n",
       "       'bearing', 'speed', 'status', 'timestamp', 'occupancy_status',\n",
       "       'rounded_arrival_dt', 'time', 'temperature', 'windspeed', 'weathercode',\n",
       "       'arrival_time_dt', 'incident_nearby', 'nearest_incident_distance',\n",
       "       'incident_category', 'incident_delay', 'incident_delay_magnitude'],\n",
       "      dtype='object')"
      ]
     },
     "execution_count": 62,
     "metadata": {},
     "output_type": "execute_result"
    }
   ],
   "source": [
    "# Remove columns with constant values\n",
    "nunique = df.nunique()\n",
    "no_constant = nunique[nunique > 1]\n",
    "no_constant_cols = no_constant.index\n",
    "df = df[no_constant_cols]\n",
    "df.columns"
   ]
  },
  {
   "cell_type": "code",
   "execution_count": 64,
   "id": "ab1f6db7",
   "metadata": {},
   "outputs": [],
   "source": [
    "# Keep relevant columns #TODO: Add more incident features if needed\n",
    "df = df[[\n",
    "  \t'trip_id',\n",
    "  \t'vehicle_id', \n",
    "\t'occupancy_status',\n",
    "  \t'route_id',\n",
    "  \t'stop_id',\n",
    "  \t'stop_lat',\n",
    "  \t'stop_lon',\n",
    "\t'stop_sequence',\n",
    "  \t'trip_progress',\n",
    "  \t'wheelchair_boarding',\n",
    "  \t'realtime_arrival_time',\n",
    "    'scheduled_arrival_time',\n",
    "  \t'temperature',\n",
    "  \t#'precipitation',\n",
    "  \t'windspeed', \n",
    "\t'weathercode',\n",
    "  \t'incident_nearby', \n",
    "\t#'incident_category',\n",
    "\t#'nearest_incident_distance',\n",
    "\t#'incident_delay',\n",
    "\t#'incident_delay_magnitude'\n",
    "]]"
   ]
  },
  {
   "cell_type": "code",
   "execution_count": 65,
   "id": "db6c9f82",
   "metadata": {},
   "outputs": [],
   "source": [
    "# Assert all values are not null\n",
    "assert df.isna().sum().sum() == 0"
   ]
  },
  {
   "cell_type": "code",
   "execution_count": 66,
   "id": "71576b8c",
   "metadata": {},
   "outputs": [
    {
     "name": "stdout",
     "output_type": "stream",
     "text": [
      "<class 'pandas.core.frame.DataFrame'>\n",
      "RangeIndex: 22607 entries, 0 to 22606\n",
      "Data columns (total 16 columns):\n",
      " #   Column                  Non-Null Count  Dtype  \n",
      "---  ------                  --------------  -----  \n",
      " 0   trip_id                 22607 non-null  int64  \n",
      " 1   vehicle_id              22607 non-null  int64  \n",
      " 2   occupancy_status        22607 non-null  int64  \n",
      " 3   route_id                22607 non-null  int64  \n",
      " 4   stop_id                 22607 non-null  int64  \n",
      " 5   stop_lat                22607 non-null  float64\n",
      " 6   stop_lon                22607 non-null  float64\n",
      " 7   stop_sequence           22607 non-null  int64  \n",
      " 8   trip_progress           22607 non-null  float64\n",
      " 9   wheelchair_boarding     22607 non-null  int64  \n",
      " 10  realtime_arrival_time   22607 non-null  int64  \n",
      " 11  scheduled_arrival_time  22607 non-null  int64  \n",
      " 12  temperature             22607 non-null  float64\n",
      " 13  windspeed               22607 non-null  float64\n",
      " 14  weathercode             22607 non-null  float64\n",
      " 15  incident_nearby         22607 non-null  float64\n",
      "dtypes: float64(7), int64(9)\n",
      "memory usage: 2.8 MB\n"
     ]
    }
   ],
   "source": [
    "df.info()"
   ]
  },
  {
   "cell_type": "code",
   "execution_count": 67,
   "id": "8eb537d7",
   "metadata": {},
   "outputs": [],
   "source": [
    "# Export data to CSV\n",
    "df.to_csv('../data/stm_weather_traffic_merged.csv', index=False)"
   ]
  },
  {
   "cell_type": "markdown",
   "id": "a3b33a1a",
   "metadata": {},
   "source": [
    "## End"
   ]
  }
 ],
 "metadata": {
  "kernelspec": {
   "display_name": "base",
   "language": "python",
   "name": "python3"
  },
  "language_info": {
   "codemirror_mode": {
    "name": "ipython",
    "version": 3
   },
   "file_extension": ".py",
   "mimetype": "text/x-python",
   "name": "python",
   "nbconvert_exporter": "python",
   "pygments_lexer": "ipython3",
   "version": "3.12.4"
  }
 },
 "nbformat": 4,
 "nbformat_minor": 5
}
