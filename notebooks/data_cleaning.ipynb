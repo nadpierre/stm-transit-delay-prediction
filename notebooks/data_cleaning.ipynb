{
 "cells": [
  {
   "cell_type": "markdown",
   "id": "056758cb",
   "metadata": {},
   "source": [
    "# STM Transit Delay Data Preparation"
   ]
  },
  {
   "cell_type": "markdown",
   "id": "e8706868",
   "metadata": {},
   "source": [
    "## Overview"
   ]
  },
  {
   "cell_type": "markdown",
   "id": "3d911d34",
   "metadata": {},
   "source": [
    "This notebook merges data from different sources and prepares it for data analysis."
   ]
  },
  {
   "cell_type": "markdown",
   "id": "a6bc184d",
   "metadata": {},
   "source": [
    "## Data description"
   ]
  },
  {
   "cell_type": "markdown",
   "id": "b7358fab",
   "metadata": {},
   "source": [
    "### Real-time Trip Updates"
   ]
  },
  {
   "cell_type": "markdown",
   "id": "d5c2ee8a",
   "metadata": {},
   "source": [
    "`current_time` timestamp when the data was collected<br>\n",
    "`trip_id` unique identifier of a trip<br>\n",
    "`route_id` bus line<br>\n",
    "`start_date` start date of the trip<br>\n",
    "`stop_id` stop number<br>\n",
    "`arrival_time` actual arrival time, in milliseconds<br>\n",
    "`departure_time` actual departure time, in milliseconds<br>\n",
    "`schedule_relationship` state of the trip, 0 means scheduled and 1 means skipped"
   ]
  },
  {
   "cell_type": "markdown",
   "id": "d28e04ef",
   "metadata": {},
   "source": [
    "### Scheduled STM Trips"
   ]
  },
  {
   "cell_type": "markdown",
   "id": "bb31f7ab",
   "metadata": {},
   "source": [
    "`trip_id` unique identifier of a trip<br>\n",
    "`arrival_time` scheduled arrival time, in milliseconds<br>\n",
    "`departure_time` scheduled departure time, in milliseconds<br>\n",
    "`stop_id` stop number<br>\n",
    "`stop_sequence` sequence of the stop, for ordering"
   ]
  },
  {
   "cell_type": "markdown",
   "id": "bc749154",
   "metadata": {},
   "source": [
    "### STM Stops"
   ]
  },
  {
   "cell_type": "markdown",
   "id": "a40b660a",
   "metadata": {},
   "source": [
    "`stop_id` unique identifier of a stop<br>\n",
    "`stop_code` bus stop or metro station number<br>\n",
    "`stop_name` bus stop or metro station name<br>\n",
    "`stop_lat` stop latitude<br>\n",
    "`stop_lon` stop longitude<br>\n",
    "`stop_url` stop web page<br>\n",
    "`location_type` stop type<br>\n",
    "`parent_station` parent station (metro station with multiple exits)<br>\n",
    "`wheelchair_boarding` indicates if the stop is accessible for people in wheelchair, 1 being true and 2 being false"
   ]
  },
  {
   "cell_type": "markdown",
   "id": "4608bc4a",
   "metadata": {},
   "source": [
    "### Real-time Vehicle Positions"
   ]
  },
  {
   "cell_type": "markdown",
   "id": "c11c6a01",
   "metadata": {},
   "source": [
    "`current_time` timestamp when the data was collected<br>\n",
    "`vehicle_id` unique identifuer of a vehicle<br>\n",
    "`trip_id` unique identifier of a trip<br>\n",
    "`route_id` bus or metro line<br>\n",
    "`start_date` start date of a trip<br>\n",
    "`start_time` start time of a trip<br>\n",
    "`latitude` vehicle current latitude<br>\n",
    "`longitude` vehicle current longityde<br>\n",
    "`bearing` direction that the vehicle is facing<br>\n",
    "`speed` momentary speed measured by the vehicle, in meters per second<br>\n",
    "`stop_sequence` sequence of the stop, for ordering<br>\n",
    "`status` vehicle stop status in relation with a stop that it's currently approaching or is at, 1 being stopped at and 2 being in transit to<br>\n",
    "`timestamp` timestamp when STM updated the data<br>\n",
    "`occupancy_status` degree of passenger occupancy"
   ]
  },
  {
   "cell_type": "markdown",
   "id": "042db663",
   "metadata": {},
   "source": [
    "### Weather Archive and Forecast"
   ]
  },
  {
   "cell_type": "markdown",
   "id": "3ccfdc47",
   "metadata": {},
   "source": [
    "`time` date and hour or the weather<br>\n",
    "`temperature` air temperature at 2 meters above ground, in Celsius<br>\n",
    "`precipitation` total precipitation (rain, showers, snow) sum of the preceding hour, in millimeters<br>\n",
    "`windspeed` wind speed at 10 meters above ground, in km/h<br>\n",
    "`weathercode` World Meteorological Organization (WMO) code"
   ]
  },
  {
   "cell_type": "markdown",
   "id": "268c0ac0",
   "metadata": {},
   "source": [
    "### Traffic Incidents"
   ]
  },
  {
   "cell_type": "markdown",
   "id": "72e73a05",
   "metadata": {},
   "source": [
    "`category` category of the incident<br>\n",
    "`start_time` start time of the incident in ISO8601 format<br>\n",
    "`end_time` end time of the incident in ISO8601 format<br>\n",
    "`length` length of the incident in meters<br>\n",
    "`delay` delay in seconds caused by the incident (except road closures)<br>\n",
    "`magnitude_of_delay` severity of the delay<br>\n",
    "`last_report_time` date in ISO8601 format, when the last time the incident was reported<br>\n",
    "`latitude` latitude of the incident<br>\n",
    "`longitude` longitude of the incident"
   ]
  },
  {
   "cell_type": "markdown",
   "id": "3ca39527",
   "metadata": {},
   "source": [
    "## Imports"
   ]
  },
  {
   "cell_type": "code",
   "execution_count": 1,
   "id": "a0a7cafd",
   "metadata": {},
   "outputs": [],
   "source": [
    "from datetime import datetime, timedelta, timezone\n",
    "from haversine import haversine, Unit\n",
    "import matplotlib.pyplot as plt\n",
    "import pandas as pd\n",
    "import sys"
   ]
  },
  {
   "cell_type": "code",
   "execution_count": 2,
   "id": "faad2700",
   "metadata": {},
   "outputs": [],
   "source": [
    "# Import custom code\n",
    "sys.path.insert(0, '..')\n",
    "from scripts.custom_functions import fetch_weather, LOCAL_TIMEZONE"
   ]
  },
  {
   "cell_type": "code",
   "execution_count": 3,
   "id": "786cc667",
   "metadata": {},
   "outputs": [],
   "source": [
    "# Import data\n",
    "trips_df = pd.read_csv('../data/api/fetched_stm_trip_updates.csv', low_memory=False)\n",
    "schedules_df = pd.read_csv('../data/download/stop_times_2025-04-30.txt')\n",
    "stops_df = pd.read_csv('../data/download/stops_2025-04-30.txt')\n",
    "positions_df =  pd.read_csv('../data/api/fetched_stm_vehicle_positions.csv', low_memory=False)\n",
    "weather_df = pd.read_csv('../data/api/fetched_historical_weather.csv')\n",
    "traffic_df = pd.read_csv('../data/api/fetched_traffic.csv')\n"
   ]
  },
  {
   "cell_type": "markdown",
   "id": "84535ca9",
   "metadata": {},
   "source": [
    "## Clean Data"
   ]
  },
  {
   "cell_type": "code",
   "execution_count": 4,
   "id": "f03d62d1",
   "metadata": {},
   "outputs": [],
   "source": [
    "# Convert route_id to integer\n",
    "trips_df['route_id'] = trips_df['route_id'].str.extract(r'(\\d+)')\n",
    "trips_df['route_id'] = trips_df['route_id'].astype('int64')"
   ]
  },
  {
   "cell_type": "code",
   "execution_count": 5,
   "id": "884ca519",
   "metadata": {},
   "outputs": [],
   "source": [
    "# Sort trips\n",
    "trips_df = trips_df.sort_values(by=['current_time', 'trip_id', 'route_id', 'arrival_time'])"
   ]
  },
  {
   "cell_type": "code",
   "execution_count": 6,
   "id": "57223fe6",
   "metadata": {},
   "outputs": [
    {
     "name": "stdout",
     "output_type": "stream",
     "text": [
      "25.89%\n"
     ]
    }
   ],
   "source": [
    "# Get proportion of duplicates\n",
    "subset = ['start_date', 'trip_id', 'route_id', 'stop_id']\n",
    "duplicate_mask = trips_df.duplicated(subset=subset)\n",
    "print(f'{duplicate_mask.mean():.2%}')"
   ]
  },
  {
   "cell_type": "code",
   "execution_count": 7,
   "id": "c8f0d0b8",
   "metadata": {},
   "outputs": [],
   "source": [
    "# Remove duplicates\n",
    "trips_df = trips_df.drop_duplicates(subset=subset, keep='last') # keep latest update"
   ]
  },
  {
   "cell_type": "code",
   "execution_count": 8,
   "id": "9d87091a",
   "metadata": {},
   "outputs": [],
   "source": [
    "# Convert realtime arrival and departure time to milliseconds\n",
    "trips_df['arrival_time'] = trips_df['arrival_time'] * 1000\n",
    "trips_df['departure_time'] = trips_df['departure_time'] * 1000"
   ]
  },
  {
   "cell_type": "code",
   "execution_count": 9,
   "id": "d147f1fe",
   "metadata": {},
   "outputs": [
    {
     "data": {
      "application/vnd.microsoft.datawrangler.viewer.v0+json": {
       "columns": [
        {
         "name": "index",
         "rawType": "object",
         "type": "string"
        },
        {
         "name": "arrival_time",
         "rawType": "float64",
         "type": "float"
        },
        {
         "name": "departure_time",
         "rawType": "float64",
         "type": "float"
        }
       ],
       "conversionMethod": "pd.DataFrame",
       "ref": "5cf5203a-1d16-46b8-8675-d912cb2559ae",
       "rows": [
        [
         "count",
         "2099136.0",
         "2099136.0"
        ],
        [
         "mean",
         "1645629860031.1135",
         "1641908550533.6816"
        ],
        [
         "std",
         "406320122487.22797",
         "413319058104.31024"
        ],
        [
         "min",
         "0.0",
         "0.0"
        ],
        [
         "25%",
         "1745866200000.0",
         "1745865704000.0"
        ],
        [
         "50%",
         "1745946893000.0",
         "1745946540000.0"
        ],
        [
         "75%",
         "1746025980000.0",
         "1746025744000.0"
        ],
        [
         "max",
         "1746115500000.0",
         "1746115349000.0"
        ]
       ],
       "shape": {
        "columns": 2,
        "rows": 8
       }
      },
      "text/html": [
       "<div>\n",
       "<style scoped>\n",
       "    .dataframe tbody tr th:only-of-type {\n",
       "        vertical-align: middle;\n",
       "    }\n",
       "\n",
       "    .dataframe tbody tr th {\n",
       "        vertical-align: top;\n",
       "    }\n",
       "\n",
       "    .dataframe thead th {\n",
       "        text-align: right;\n",
       "    }\n",
       "</style>\n",
       "<table border=\"1\" class=\"dataframe\">\n",
       "  <thead>\n",
       "    <tr style=\"text-align: right;\">\n",
       "      <th></th>\n",
       "      <th>arrival_time</th>\n",
       "      <th>departure_time</th>\n",
       "    </tr>\n",
       "  </thead>\n",
       "  <tbody>\n",
       "    <tr>\n",
       "      <th>count</th>\n",
       "      <td>2.099136e+06</td>\n",
       "      <td>2.099136e+06</td>\n",
       "    </tr>\n",
       "    <tr>\n",
       "      <th>mean</th>\n",
       "      <td>1.645630e+12</td>\n",
       "      <td>1.641909e+12</td>\n",
       "    </tr>\n",
       "    <tr>\n",
       "      <th>std</th>\n",
       "      <td>4.063201e+11</td>\n",
       "      <td>4.133191e+11</td>\n",
       "    </tr>\n",
       "    <tr>\n",
       "      <th>min</th>\n",
       "      <td>0.000000e+00</td>\n",
       "      <td>0.000000e+00</td>\n",
       "    </tr>\n",
       "    <tr>\n",
       "      <th>25%</th>\n",
       "      <td>1.745866e+12</td>\n",
       "      <td>1.745866e+12</td>\n",
       "    </tr>\n",
       "    <tr>\n",
       "      <th>50%</th>\n",
       "      <td>1.745947e+12</td>\n",
       "      <td>1.745947e+12</td>\n",
       "    </tr>\n",
       "    <tr>\n",
       "      <th>75%</th>\n",
       "      <td>1.746026e+12</td>\n",
       "      <td>1.746026e+12</td>\n",
       "    </tr>\n",
       "    <tr>\n",
       "      <th>max</th>\n",
       "      <td>1.746116e+12</td>\n",
       "      <td>1.746115e+12</td>\n",
       "    </tr>\n",
       "  </tbody>\n",
       "</table>\n",
       "</div>"
      ],
      "text/plain": [
       "       arrival_time  departure_time\n",
       "count  2.099136e+06    2.099136e+06\n",
       "mean   1.645630e+12    1.641909e+12\n",
       "std    4.063201e+11    4.133191e+11\n",
       "min    0.000000e+00    0.000000e+00\n",
       "25%    1.745866e+12    1.745866e+12\n",
       "50%    1.745947e+12    1.745947e+12\n",
       "75%    1.746026e+12    1.746026e+12\n",
       "max    1.746116e+12    1.746115e+12"
      ]
     },
     "execution_count": 9,
     "metadata": {},
     "output_type": "execute_result"
    }
   ],
   "source": [
    "# Get distribution of realtime arrival times\n",
    "trips_df[['arrival_time', 'departure_time']].describe()"
   ]
  },
  {
   "cell_type": "code",
   "execution_count": 10,
   "id": "761c1904",
   "metadata": {},
   "outputs": [
    {
     "name": "stdout",
     "output_type": "stream",
     "text": [
      "5.75%\n"
     ]
    }
   ],
   "source": [
    "# Get proportion of rows with zero arrival times\n",
    "zero_mask = trips_df['arrival_time'] == 0\n",
    "print(f'{zero_mask.mean():.2%}')"
   ]
  },
  {
   "cell_type": "code",
   "execution_count": 11,
   "id": "74a79934",
   "metadata": {},
   "outputs": [
    {
     "name": "stdout",
     "output_type": "stream",
     "text": [
      "6.08%\n"
     ]
    }
   ],
   "source": [
    "# Get proportion of rows where the arrival and departure times are different\n",
    "diff_date_mask = trips_df['arrival_time'] != trips_df['departure_time']\n",
    "print(f'{diff_date_mask.mean():.2%}')"
   ]
  },
  {
   "cell_type": "code",
   "execution_count": 12,
   "id": "ff951fe2",
   "metadata": {},
   "outputs": [
    {
     "data": {
      "application/vnd.microsoft.datawrangler.viewer.v0+json": {
       "columns": [
        {
         "name": "index",
         "rawType": "int64",
         "type": "integer"
        },
        {
         "name": "current_time",
         "rawType": "float64",
         "type": "float"
        },
        {
         "name": "trip_id",
         "rawType": "int64",
         "type": "integer"
        },
        {
         "name": "route_id",
         "rawType": "int64",
         "type": "integer"
        },
        {
         "name": "start_date",
         "rawType": "int64",
         "type": "integer"
        },
        {
         "name": "stop_id",
         "rawType": "int64",
         "type": "integer"
        },
        {
         "name": "arrival_time",
         "rawType": "int64",
         "type": "integer"
        },
        {
         "name": "departure_time",
         "rawType": "int64",
         "type": "integer"
        },
        {
         "name": "schedule_relationship",
         "rawType": "int64",
         "type": "integer"
        }
       ],
       "conversionMethod": "pd.DataFrame",
       "ref": "8d770ab8-bc3c-4048-800e-4c703cd21834",
       "rows": [
        [
         "475136",
         "1745856008.864406",
         "286570827",
         "57",
         "20250428",
         "53869",
         "1745857080000",
         "0",
         "0"
        ],
        [
         "1806960",
         "1745985607.408688",
         "284778594",
         "160",
         "20250429",
         "54141",
         "1745987940000",
         "0",
         "0"
        ],
        [
         "191736",
         "1745823601.884362",
         "286580925",
         "358",
         "20250427",
         "52069",
         "1745825040000",
         "0",
         "0"
        ],
        [
         "1916006",
         "1746010804.976524",
         "284727959",
         "161",
         "20250430",
         "50820",
         "1746012300000",
         "1746012420000",
         "0"
        ],
        [
         "251377",
         "1745834407.195509",
         "285009579",
         "204",
         "20250428",
         "57568",
         "0",
         "1745835660000",
         "0"
        ],
        [
         "2727256",
         "1746100807.609247",
         "284777841",
         "105",
         "20250501",
         "50741",
         "1746103140000",
         "0",
         "0"
        ],
        [
         "866647",
         "1745888419.698454",
         "284728706",
         "95",
         "20250428",
         "54212",
         "0",
         "1745888400000",
         "0"
        ],
        [
         "325689",
         "1745841607.073758",
         "284727804",
         "51",
         "20250428",
         "54074",
         "0",
         "1745842488000",
         "0"
        ],
        [
         "1913506",
         "1746010804.680661",
         "286573786",
         "101",
         "20250430",
         "62300",
         "1746011985000",
         "0",
         "0"
        ],
        [
         "1793671",
         "1745985606.160465",
         "284780954",
         "747",
         "20250429",
         "62136",
         "1745986680000",
         "0",
         "0"
        ]
       ],
       "shape": {
        "columns": 8,
        "rows": 10
       }
      },
      "text/html": [
       "<div>\n",
       "<style scoped>\n",
       "    .dataframe tbody tr th:only-of-type {\n",
       "        vertical-align: middle;\n",
       "    }\n",
       "\n",
       "    .dataframe tbody tr th {\n",
       "        vertical-align: top;\n",
       "    }\n",
       "\n",
       "    .dataframe thead th {\n",
       "        text-align: right;\n",
       "    }\n",
       "</style>\n",
       "<table border=\"1\" class=\"dataframe\">\n",
       "  <thead>\n",
       "    <tr style=\"text-align: right;\">\n",
       "      <th></th>\n",
       "      <th>current_time</th>\n",
       "      <th>trip_id</th>\n",
       "      <th>route_id</th>\n",
       "      <th>start_date</th>\n",
       "      <th>stop_id</th>\n",
       "      <th>arrival_time</th>\n",
       "      <th>departure_time</th>\n",
       "      <th>schedule_relationship</th>\n",
       "    </tr>\n",
       "  </thead>\n",
       "  <tbody>\n",
       "    <tr>\n",
       "      <th>475136</th>\n",
       "      <td>1.745856e+09</td>\n",
       "      <td>286570827</td>\n",
       "      <td>57</td>\n",
       "      <td>20250428</td>\n",
       "      <td>53869</td>\n",
       "      <td>1745857080000</td>\n",
       "      <td>0</td>\n",
       "      <td>0</td>\n",
       "    </tr>\n",
       "    <tr>\n",
       "      <th>1806960</th>\n",
       "      <td>1.745986e+09</td>\n",
       "      <td>284778594</td>\n",
       "      <td>160</td>\n",
       "      <td>20250429</td>\n",
       "      <td>54141</td>\n",
       "      <td>1745987940000</td>\n",
       "      <td>0</td>\n",
       "      <td>0</td>\n",
       "    </tr>\n",
       "    <tr>\n",
       "      <th>191736</th>\n",
       "      <td>1.745824e+09</td>\n",
       "      <td>286580925</td>\n",
       "      <td>358</td>\n",
       "      <td>20250427</td>\n",
       "      <td>52069</td>\n",
       "      <td>1745825040000</td>\n",
       "      <td>0</td>\n",
       "      <td>0</td>\n",
       "    </tr>\n",
       "    <tr>\n",
       "      <th>1916006</th>\n",
       "      <td>1.746011e+09</td>\n",
       "      <td>284727959</td>\n",
       "      <td>161</td>\n",
       "      <td>20250430</td>\n",
       "      <td>50820</td>\n",
       "      <td>1746012300000</td>\n",
       "      <td>1746012420000</td>\n",
       "      <td>0</td>\n",
       "    </tr>\n",
       "    <tr>\n",
       "      <th>251377</th>\n",
       "      <td>1.745834e+09</td>\n",
       "      <td>285009579</td>\n",
       "      <td>204</td>\n",
       "      <td>20250428</td>\n",
       "      <td>57568</td>\n",
       "      <td>0</td>\n",
       "      <td>1745835660000</td>\n",
       "      <td>0</td>\n",
       "    </tr>\n",
       "    <tr>\n",
       "      <th>2727256</th>\n",
       "      <td>1.746101e+09</td>\n",
       "      <td>284777841</td>\n",
       "      <td>105</td>\n",
       "      <td>20250501</td>\n",
       "      <td>50741</td>\n",
       "      <td>1746103140000</td>\n",
       "      <td>0</td>\n",
       "      <td>0</td>\n",
       "    </tr>\n",
       "    <tr>\n",
       "      <th>866647</th>\n",
       "      <td>1.745888e+09</td>\n",
       "      <td>284728706</td>\n",
       "      <td>95</td>\n",
       "      <td>20250428</td>\n",
       "      <td>54212</td>\n",
       "      <td>0</td>\n",
       "      <td>1745888400000</td>\n",
       "      <td>0</td>\n",
       "    </tr>\n",
       "    <tr>\n",
       "      <th>325689</th>\n",
       "      <td>1.745842e+09</td>\n",
       "      <td>284727804</td>\n",
       "      <td>51</td>\n",
       "      <td>20250428</td>\n",
       "      <td>54074</td>\n",
       "      <td>0</td>\n",
       "      <td>1745842488000</td>\n",
       "      <td>0</td>\n",
       "    </tr>\n",
       "    <tr>\n",
       "      <th>1913506</th>\n",
       "      <td>1.746011e+09</td>\n",
       "      <td>286573786</td>\n",
       "      <td>101</td>\n",
       "      <td>20250430</td>\n",
       "      <td>62300</td>\n",
       "      <td>1746011985000</td>\n",
       "      <td>0</td>\n",
       "      <td>0</td>\n",
       "    </tr>\n",
       "    <tr>\n",
       "      <th>1793671</th>\n",
       "      <td>1.745986e+09</td>\n",
       "      <td>284780954</td>\n",
       "      <td>747</td>\n",
       "      <td>20250429</td>\n",
       "      <td>62136</td>\n",
       "      <td>1745986680000</td>\n",
       "      <td>0</td>\n",
       "      <td>0</td>\n",
       "    </tr>\n",
       "  </tbody>\n",
       "</table>\n",
       "</div>"
      ],
      "text/plain": [
       "         current_time    trip_id  route_id  start_date  stop_id  \\\n",
       "475136   1.745856e+09  286570827        57    20250428    53869   \n",
       "1806960  1.745986e+09  284778594       160    20250429    54141   \n",
       "191736   1.745824e+09  286580925       358    20250427    52069   \n",
       "1916006  1.746011e+09  284727959       161    20250430    50820   \n",
       "251377   1.745834e+09  285009579       204    20250428    57568   \n",
       "2727256  1.746101e+09  284777841       105    20250501    50741   \n",
       "866647   1.745888e+09  284728706        95    20250428    54212   \n",
       "325689   1.745842e+09  284727804        51    20250428    54074   \n",
       "1913506  1.746011e+09  286573786       101    20250430    62300   \n",
       "1793671  1.745986e+09  284780954       747    20250429    62136   \n",
       "\n",
       "          arrival_time  departure_time  schedule_relationship  \n",
       "475136   1745857080000               0                      0  \n",
       "1806960  1745987940000               0                      0  \n",
       "191736   1745825040000               0                      0  \n",
       "1916006  1746012300000   1746012420000                      0  \n",
       "251377               0   1745835660000                      0  \n",
       "2727256  1746103140000               0                      0  \n",
       "866647               0   1745888400000                      0  \n",
       "325689               0   1745842488000                      0  \n",
       "1913506  1746011985000               0                      0  \n",
       "1793671  1745986680000               0                      0  "
      ]
     },
     "execution_count": 12,
     "metadata": {},
     "output_type": "execute_result"
    }
   ],
   "source": [
    "# Display rows\n",
    "trips_df[diff_date_mask].sample(10)"
   ]
  },
  {
   "cell_type": "code",
   "execution_count": 13,
   "id": "30ac514f",
   "metadata": {},
   "outputs": [],
   "source": [
    "# Replace zero arrival times by departure times, as they are usually the same\n",
    "trips_df.loc[zero_mask, 'arrival_time'] = trips_df.loc[zero_mask, 'departure_time']"
   ]
  },
  {
   "cell_type": "code",
   "execution_count": 14,
   "id": "943aae1e",
   "metadata": {},
   "outputs": [
    {
     "name": "stdout",
     "output_type": "stream",
     "text": [
      "3.20%\n"
     ]
    }
   ],
   "source": [
    "# Get proportion of rows with zero arrival times again\n",
    "zero_mask = trips_df['arrival_time'] == 0\n",
    "print(f'{zero_mask.mean():.2%}')"
   ]
  },
  {
   "cell_type": "code",
   "execution_count": 16,
   "id": "7a1196df",
   "metadata": {},
   "outputs": [],
   "source": [
    "# Delete the rows with 0 arrival times\n",
    "trips_df = trips_df[~zero_mask]\n",
    "zero_mask = trips_df['arrival_time'] == 0\n",
    "assert zero_mask.sum() == 0"
   ]
  },
  {
   "cell_type": "code",
   "execution_count": 17,
   "id": "f204b0d0",
   "metadata": {},
   "outputs": [],
   "source": [
    "# Rename arrival time\n",
    "trips_df = trips_df.rename(columns={'arrival_time': 'realtime_arrival_time'})"
   ]
  },
  {
   "cell_type": "markdown",
   "id": "b3864f9b",
   "metadata": {},
   "source": [
    "## Merge Data"
   ]
  },
  {
   "cell_type": "markdown",
   "id": "2ab97d0d",
   "metadata": {},
   "source": [
    "### Realtime and Scheduled Trips"
   ]
  },
  {
   "cell_type": "code",
   "execution_count": 18,
   "id": "38b0d876",
   "metadata": {},
   "outputs": [],
   "source": [
    "# Sort values by stop sequence\n",
    "schedules_df = schedules_df.sort_values(by=['trip_id', 'stop_sequence'])"
   ]
  },
  {
   "cell_type": "code",
   "execution_count": 19,
   "id": "04f63ad2",
   "metadata": {},
   "outputs": [],
   "source": [
    "# Reset stop sequences (some stops might be missing)\n",
    "schedules_df['stop_sequence'] = schedules_df.groupby('trip_id').cumcount() + 1"
   ]
  },
  {
   "cell_type": "code",
   "execution_count": 20,
   "id": "f1ecead8",
   "metadata": {},
   "outputs": [],
   "source": [
    "# Add trip progress (vehicles further along the trip are more likely to be delayed)\n",
    "total_stops = schedules_df.groupby('trip_id')['stop_id'].transform('count')\n",
    "schedules_df['trip_progress'] = schedules_df['stop_sequence'] / total_stops"
   ]
  },
  {
   "cell_type": "code",
   "execution_count": 21,
   "id": "614b3ee0",
   "metadata": {},
   "outputs": [],
   "source": [
    "# Merge realtime and scheduled trips\n",
    "stm_trips_df = pd.merge(left=trips_df, right=schedules_df, how='inner', on=['trip_id', 'stop_id'])"
   ]
  },
  {
   "cell_type": "code",
   "execution_count": 23,
   "id": "7e78e8ff",
   "metadata": {},
   "outputs": [],
   "source": [
    "# Convert start_date to datetime\n",
    "stm_trips_df['start_date_dt'] = pd.to_datetime(stm_trips_df['start_date'], format='%Y%m%d')"
   ]
  },
  {
   "cell_type": "code",
   "execution_count": 24,
   "id": "0cda96f4",
   "metadata": {},
   "outputs": [],
   "source": [
    "def parse_gtfs_time(row) -> pd.Timestamp:\n",
    "\t'''\n",
    "\tConverts GTFS time string (e.g., '25:30:00') to datetime\n",
    "\tbased on the arrival time.\n",
    "\t'''\n",
    "\thours, minutes, seconds = map(int, row['arrival_time'].split(':'))\n",
    "\ttotal_seconds = hours * 3600 + minutes * 60 + seconds\n",
    "\n",
    "\tparsed_time = row['start_date_dt'] + timedelta(seconds=total_seconds)\n",
    "\treturn parsed_time"
   ]
  },
  {
   "cell_type": "code",
   "execution_count": 25,
   "id": "69cd48ca",
   "metadata": {},
   "outputs": [],
   "source": [
    "# Convert planned arrival time to datetime\n",
    "parsed_time = stm_trips_df.apply(parse_gtfs_time, axis=1)\n",
    "sch_arrival_time_local = parsed_time.dt.tz_localize(LOCAL_TIMEZONE)"
   ]
  },
  {
   "cell_type": "code",
   "execution_count": 26,
   "id": "2ba0d99a",
   "metadata": {},
   "outputs": [],
   "source": [
    "# Convert realtime and arrival time to UTC datetime\n",
    "stm_trips_df['realtime_arrival_time'] = pd.to_datetime(stm_trips_df['realtime_arrival_time'], origin='unix', unit='ms', utc=True)\n",
    "stm_trips_df['scheduled_arrival_time'] = sch_arrival_time_local.dt.tz_convert(timezone.utc)"
   ]
  },
  {
   "cell_type": "code",
   "execution_count": 27,
   "id": "ea095883",
   "metadata": {},
   "outputs": [],
   "source": [
    "# Calculate delay in seconds (real - scheduled)\n",
    "stm_trips_df['delay'] = (stm_trips_df['realtime_arrival_time'] - stm_trips_df['scheduled_arrival_time']) / pd.Timedelta(seconds=1)"
   ]
  },
  {
   "cell_type": "code",
   "execution_count": 28,
   "id": "c4b5a7b8",
   "metadata": {},
   "outputs": [
    {
     "data": {
      "text/plain": [
       "count    2.014176e+06\n",
       "mean     7.153413e+01\n",
       "std      4.378895e+02\n",
       "min     -1.359200e+04\n",
       "25%      0.000000e+00\n",
       "50%      0.000000e+00\n",
       "75%      3.100000e+01\n",
       "max      5.458500e+04\n",
       "Name: delay, dtype: float64"
      ]
     },
     "execution_count": 28,
     "metadata": {},
     "output_type": "execute_result"
    }
   ],
   "source": [
    "# Get distribution\n",
    "stm_trips_df['delay'].describe()"
   ]
  },
  {
   "cell_type": "markdown",
   "id": "10cab540",
   "metadata": {},
   "source": [
    "There are some extreme delays (~2h15min early to ~5h15min late), which could greatly affect the performance of a predictive model."
   ]
  },
  {
   "cell_type": "markdown",
   "id": "5a8d3cb3",
   "metadata": {},
   "source": [
    "### Trips and Stops"
   ]
  },
  {
   "cell_type": "code",
   "execution_count": 29,
   "id": "1ae92990",
   "metadata": {},
   "outputs": [],
   "source": [
    "trips_stops_df = pd.merge(left=stm_trips_df, right=stops_df, how='inner', left_on='stop_id', right_on='stop_code')"
   ]
  },
  {
   "cell_type": "code",
   "execution_count": 30,
   "id": "ace19a36",
   "metadata": {},
   "outputs": [
    {
     "data": {
      "text/plain": [
       "Index(['current_time', 'trip_id', 'route_id', 'start_date', 'stop_id_x',\n",
       "       'realtime_arrival_time', 'departure_time_x', 'schedule_relationship',\n",
       "       'arrival_time', 'departure_time_y', 'stop_sequence', 'trip_progress',\n",
       "       'start_date_dt', 'scheduled_arrival_time', 'delay', 'stop_id_y',\n",
       "       'stop_code', 'stop_name', 'stop_lat', 'stop_lon', 'stop_url',\n",
       "       'location_type', 'parent_station', 'wheelchair_boarding'],\n",
       "      dtype='object')"
      ]
     },
     "execution_count": 30,
     "metadata": {},
     "output_type": "execute_result"
    }
   ],
   "source": [
    "trips_stops_df.columns"
   ]
  },
  {
   "cell_type": "code",
   "execution_count": 31,
   "id": "dbb7870b",
   "metadata": {},
   "outputs": [],
   "source": [
    "# Rename stop id\n",
    "trips_stops_df = trips_stops_df.rename(columns={'stop_id_x': 'stop_id'})"
   ]
  },
  {
   "cell_type": "code",
   "execution_count": 32,
   "id": "3e49f23e",
   "metadata": {},
   "outputs": [],
   "source": [
    "# Convert wheelchair_boarding to boolean\n",
    "trips_stops_df['wheelchair_boarding'] = (trips_stops_df['wheelchair_boarding'] == 1).astype('int64')"
   ]
  },
  {
   "cell_type": "markdown",
   "id": "f4ff72f0",
   "metadata": {},
   "source": [
    "### Vehicle Positions"
   ]
  },
  {
   "cell_type": "code",
   "execution_count": 33,
   "id": "066dbe06",
   "metadata": {},
   "outputs": [],
   "source": [
    "# Rename latitude and longitude\n",
    "positions_df = positions_df.rename(columns={\n",
    "  'latitude': 'vehicle_lat',\n",
    "  'longitude': 'vehicle_lon',\n",
    "  'status': 'vehicle_status',\n",
    "  'bearing': 'vehicle_bearing',\n",
    "  'speed': 'vehicle_speed'\n",
    "})"
   ]
  },
  {
   "cell_type": "code",
   "execution_count": 34,
   "id": "31b34252",
   "metadata": {},
   "outputs": [],
   "source": [
    "# Convert vehicle timestamp to datetime\n",
    "positions_df['vehicle_dt'] = pd.to_datetime(positions_df['timestamp'] * 1000, origin='unix', unit='ms', utc=True)"
   ]
  },
  {
   "cell_type": "code",
   "execution_count": 35,
   "id": "5c7fc87e",
   "metadata": {},
   "outputs": [],
   "source": [
    "# Sort values\n",
    "subset = ['trip_id', 'route_id', 'start_date', 'stop_sequence']\n",
    "positions_df = positions_df.sort_values(by=subset)"
   ]
  },
  {
   "cell_type": "code",
   "execution_count": 36,
   "id": "2d6c4ee4",
   "metadata": {},
   "outputs": [
    {
     "data": {
      "application/vnd.microsoft.datawrangler.viewer.v0+json": {
       "columns": [
        {
         "name": "index",
         "rawType": "int64",
         "type": "integer"
        },
        {
         "name": "current_time",
         "rawType": "float64",
         "type": "float"
        },
        {
         "name": "vehicle_id",
         "rawType": "int64",
         "type": "integer"
        },
        {
         "name": "trip_id",
         "rawType": "int64",
         "type": "integer"
        },
        {
         "name": "route_id",
         "rawType": "int64",
         "type": "integer"
        },
        {
         "name": "start_date",
         "rawType": "float64",
         "type": "float"
        },
        {
         "name": "start_time",
         "rawType": "object",
         "type": "string"
        },
        {
         "name": "vehicle_lat",
         "rawType": "float64",
         "type": "float"
        },
        {
         "name": "vehicle_lon",
         "rawType": "float64",
         "type": "float"
        },
        {
         "name": "vehicle_bearing",
         "rawType": "float64",
         "type": "float"
        },
        {
         "name": "vehicle_speed",
         "rawType": "float64",
         "type": "float"
        },
        {
         "name": "stop_sequence",
         "rawType": "int64",
         "type": "integer"
        },
        {
         "name": "vehicle_status",
         "rawType": "int64",
         "type": "integer"
        },
        {
         "name": "timestamp",
         "rawType": "int64",
         "type": "integer"
        },
        {
         "name": "occupancy_status",
         "rawType": "int64",
         "type": "integer"
        },
        {
         "name": "vehicle_dt",
         "rawType": "datetime64[ns, UTC]",
         "type": "unknown"
        }
       ],
       "conversionMethod": "pd.DataFrame",
       "ref": "1dbc7e48-0966-457d-915a-964af6556820",
       "rows": [
        [
         "136494",
         "1746045065.527493",
         "31001",
         "904429",
         "470",
         "20250430.0",
         "16:03:00",
         "45.48999786376953",
         "-73.72976684570312",
         "284.0",
         "14.444560050964355",
         "2",
         "2",
         "1746045054",
         "3",
         "2025-04-30 20:30:54+00:00"
        ],
        [
         "104926",
         "1746009062.769918",
         "41042",
         "905002",
         "41",
         "20250430.0",
         "05:30:00",
         "45.55593490600586",
         "-73.6673355102539",
         "0.0",
         "0.0",
         "35",
         "2",
         "1746009039",
         "1",
         "2025-04-30 10:30:39+00:00"
        ],
        [
         "56821",
         "1745928961.991337",
         "33829",
         "908894",
         "470",
         "20250429.0",
         "07:15:00",
         "45.49693298339844",
         "-73.70429992675781",
         "41.0",
         "3.8889198303222656",
         "24",
         "2",
         "1745928932",
         "3",
         "2025-04-29 12:15:32+00:00"
        ],
        [
         "15261",
         "1745852464.135788",
         "32802",
         "914104",
         "470",
         "20250428.0",
         "10:24:00",
         "45.45975875854492",
         "-73.89192962646484",
         "144.0",
         "0.0",
         "3",
         "1",
         "1745852444",
         "1",
         "2025-04-28 15:00:44+00:00"
        ],
        [
         "15784",
         "1745853364.196311",
         "32802",
         "914104",
         "470",
         "20250428.0",
         "10:24:00",
         "45.45975875854492",
         "-73.89192962646484",
         "94.0",
         "0.0",
         "3",
         "1",
         "1745853345",
         "1",
         "2025-04-28 15:15:45+00:00"
        ],
        [
         "16322",
         "1745854265.077375",
         "32802",
         "914104",
         "470",
         "20250428.0",
         "10:24:00",
         "45.45975875854492",
         "-73.89192962646484",
         "0.0",
         "0.0",
         "3",
         "1",
         "1745854247",
         "1",
         "2025-04-28 15:30:47+00:00"
        ],
        [
         "16857",
         "1745855166.697272",
         "32802",
         "914104",
         "470",
         "20250428.0",
         "10:24:00",
         "45.45975875854492",
         "-73.89192962646484",
         "115.0",
         "0.0",
         "3",
         "1",
         "1745855147",
         "1",
         "2025-04-28 15:45:47+00:00"
        ],
        [
         "17378",
         "1745856065.680461",
         "32802",
         "914104",
         "470",
         "20250428.0",
         "10:24:00",
         "45.45975875854492",
         "-73.89192962646484",
         "0.0",
         "0.0",
         "3",
         "1",
         "1745856049",
         "1",
         "2025-04-28 16:00:49+00:00"
        ],
        [
         "154495",
         "1746095461.603895",
         "41008",
         "919916",
         "125",
         "20250501.0",
         "05:47:00",
         "45.5186653137207",
         "-73.5688705444336",
         "0.0",
         "0.0",
         "22",
         "2",
         "1746095426",
         "1",
         "2025-05-01 10:30:26+00:00"
        ],
        [
         "155205",
         "1746096361.512516",
         "41008",
         "919916",
         "125",
         "20250501.0",
         "05:47:00",
         "45.5186653137207",
         "-73.56891632080078",
         "0.0",
         "0.0",
         "22",
         "2",
         "1746096327",
         "1",
         "2025-05-01 10:45:27+00:00"
        ],
        [
         "114411",
         "1746018068.079921",
         "28052",
         "922039",
         "491",
         "20250430.0",
         "08:52:00",
         "45.451168060302734",
         "-73.63286590576172",
         "230.0",
         "2.2222399711608887",
         "2",
         "2",
         "1746018043",
         "3",
         "2025-04-30 13:00:43+00:00"
        ],
        [
         "142423",
         "1746050463.06717",
         "33808",
         "925640",
         "470",
         "20250430.0",
         "16:25:00",
         "45.48916244506836",
         "-73.71952819824219",
         "0.0",
         "7.500060081481934",
         "22",
         "2",
         "1746050431",
         "1",
         "2025-04-30 22:00:31+00:00"
        ],
        [
         "134400",
         "1746043262.881634",
         "33808",
         "931162",
         "470",
         "20250430.0",
         "15:25:00",
         "45.48052215576172",
         "-73.7924575805664",
         "0.0",
         "12.500100135803224",
         "2",
         "2",
         "1746043221",
         "1",
         "2025-04-30 20:00:21+00:00"
        ],
        [
         "135446",
         "1746044163.47436",
         "33808",
         "931162",
         "470",
         "20250430.0",
         "15:25:00",
         "45.46364212036133",
         "-73.82707977294922",
         "0.0",
         "7.500060081481934",
         "2",
         "2",
         "1746044126",
         "1",
         "2025-04-30 20:15:26+00:00"
        ],
        [
         "162799",
         "1746102664.7252",
         "31842",
         "932378",
         "121",
         "20250501.0",
         "07:10:00",
         "45.57641220092773",
         "-73.63884735107422",
         "0.0",
         "0.0",
         "48",
         "2",
         "1746102650",
         "2",
         "2025-05-01 12:30:50+00:00"
        ],
        [
         "106455",
         "1746010861.68244",
         "41081",
         "947082",
         "54",
         "20250430.0",
         "07:03:00",
         "45.5748176574707",
         "-73.6402359008789",
         "211.0",
         "7.500060081481934",
         "1",
         "1",
         "1746010834",
         "1",
         "2025-04-30 11:00:34+00:00"
        ],
        [
         "107363",
         "1746011762.53211",
         "41081",
         "947082",
         "54",
         "20250430.0",
         "07:03:00",
         "45.58169937133789",
         "-73.6511001586914",
         "16.0",
         "7.500060081481934",
         "1",
         "1",
         "1746011758",
         "1",
         "2025-04-30 11:15:58+00:00"
        ],
        [
         "108339",
         "1746012662.894256",
         "41081",
         "947082",
         "54",
         "20250430.0",
         "07:03:00",
         "45.59445190429688",
         "-73.64350128173828",
         "0.0",
         "0.0",
         "1",
         "1",
         "1746012639",
         "1",
         "2025-04-30 11:30:39+00:00"
        ],
        [
         "109386",
         "1746013564.015566",
         "41081",
         "947082",
         "54",
         "20250430.0",
         "07:03:00",
         "45.59318161010742",
         "-73.64495086669922",
         "0.0",
         "0.0",
         "1",
         "1",
         "1746013541",
         "1",
         "2025-04-30 11:45:41+00:00"
        ],
        [
         "111104",
         "1746014463.161155",
         "41081",
         "947082",
         "54",
         "20250430.0",
         "07:03:00",
         "45.56145095825195",
         "-73.66508483886719",
         "206.0",
         "12.500100135803224",
         "1",
         "1",
         "1746014401",
         "1",
         "2025-04-30 12:00:01+00:00"
        ],
        [
         "81622",
         "1745958665.762319",
         "29010",
         "948923",
         "80",
         "20250429.0",
         "15:36:00",
         "45.53473663330078",
         "-73.64466857910156",
         "105.0",
         "0.0",
         "28",
         "2",
         "1745958646",
         "1",
         "2025-04-29 20:30:46+00:00"
        ],
        [
         "63636",
         "1745936162.827238",
         "33829",
         "956430",
         "470",
         "20250429.0",
         "08:57:00",
         "45.50670623779297",
         "-73.69208526611328",
         "0.0",
         "0.0",
         "24",
         "2",
         "1745936158",
         "2",
         "2025-04-29 14:15:58+00:00"
        ],
        [
         "116183",
         "1746019864.49722",
         "41074",
         "957184",
         "460",
         "20250430.0",
         "07:53:00",
         "45.45499038696289",
         "-73.74645233154297",
         "0.0",
         "0.0",
         "31",
         "2",
         "1746019841",
         "1",
         "2025-04-30 13:30:41+00:00"
        ],
        [
         "35688",
         "1745877666.275494",
         "29836",
         "961188",
         "69",
         "20250428.0",
         "16:12:00",
         "45.61962127685547",
         "-73.60869598388672",
         "146.0",
         "0.0",
         "73",
         "2",
         "1745877656",
         "1",
         "2025-04-28 22:00:56+00:00"
        ],
        [
         "36561",
         "1745878566.509853",
         "29836",
         "961188",
         "69",
         "20250428.0",
         "16:12:00",
         "45.61962127685547",
         "-73.60869598388672",
         "146.0",
         "0.0",
         "73",
         "2",
         "1745878537",
         "1",
         "2025-04-28 22:15:37+00:00"
        ],
        [
         "82041",
         "1745958665.771749",
         "31002",
         "963718",
         "747",
         "20250429.0",
         "15:30:00",
         "45.44460678100586",
         "-73.66385650634766",
         "295.0",
         "15.000120162963867",
         "12",
         "2",
         "1745958651",
         "2",
         "2025-04-29 20:30:51+00:00"
        ],
        [
         "83134",
         "1745959564.724665",
         "31002",
         "963718",
         "747",
         "20250429.0",
         "15:30:00",
         "45.45758438110352",
         "-73.75007629394531",
         "262.0",
         "7.500060081481934",
         "12",
         "2",
         "1745959546",
         "2",
         "2025-04-29 20:45:46+00:00"
        ],
        [
         "119796",
         "1746024362.70375",
         "33833",
         "970689",
         "80",
         "20250430.0",
         "09:49:00",
         "45.526615142822266",
         "-73.6536636352539",
         "155.0",
         "5.000040054321289",
         "10",
         "2",
         "1746024338",
         "1",
         "2025-04-30 14:45:38+00:00"
        ],
        [
         "120248",
         "1746025264.836621",
         "33833",
         "970689",
         "80",
         "20250430.0",
         "09:49:00",
         "45.521583557128906",
         "-73.66643524169922",
         "0.0",
         "0.0",
         "10",
         "2",
         "1746025239",
         "1",
         "2025-04-30 15:00:39+00:00"
        ],
        [
         "120835",
         "1746026162.442652",
         "33833",
         "970689",
         "80",
         "20250430.0",
         "09:49:00",
         "45.52163314819336",
         "-73.6664810180664",
         "0.0",
         "0.0",
         "10",
         "2",
         "1746026120",
         "1",
         "2025-04-30 15:15:20+00:00"
        ],
        [
         "121429",
         "1746027062.570792",
         "33833",
         "970689",
         "80",
         "20250430.0",
         "09:49:00",
         "45.52141571044922",
         "-73.66633605957031",
         "0.0",
         "0.0",
         "10",
         "2",
         "1746027052",
         "1",
         "2025-04-30 15:30:52+00:00"
        ],
        [
         "122019",
         "1746027962.751735",
         "33833",
         "970689",
         "80",
         "20250430.0",
         "09:49:00",
         "45.52106857299805",
         "-73.66705322265625",
         "0.0",
         "0.0",
         "10",
         "2",
         "1746027939",
         "1",
         "2025-04-30 15:45:39+00:00"
        ],
        [
         "122725",
         "1746028862.49579",
         "33833",
         "970689",
         "80",
         "20250430.0",
         "09:49:00",
         "45.52099990844727",
         "-73.66706848144531",
         "0.0",
         "0.0",
         "10",
         "2",
         "1746028831",
         "1",
         "2025-04-30 16:00:31+00:00"
        ],
        [
         "123244",
         "1746029762.706129",
         "33833",
         "970689",
         "80",
         "20250430.0",
         "09:49:00",
         "45.52168273925781",
         "-73.66656494140625",
         "0.0",
         "0.0",
         "10",
         "2",
         "1746029741",
         "1",
         "2025-04-30 16:15:41+00:00"
        ],
        [
         "67002",
         "1745940664.852069",
         "31820",
         "977163",
         "165",
         "20250429.0",
         "10:41:00",
         "45.49026870727539",
         "-73.6002197265625",
         "34.0",
         "0.0",
         "18",
         "2",
         "1745940643",
         "1",
         "2025-04-29 15:30:43+00:00"
        ],
        [
         "117598",
         "1746021662.415725",
         "33833",
         "980261",
         "80",
         "20250430.0",
         "08:55:00",
         "45.53474044799805",
         "-73.64469146728516",
         "0.0",
         "0.0",
         "28",
         "2",
         "1746021653",
         "1",
         "2025-04-30 14:00:53+00:00"
        ],
        [
         "83604",
         "1745960465.650391",
         "31205",
         "984160",
         "405",
         "20250429.0",
         "16:11:00",
         "45.442176818847656",
         "-73.6548080444336",
         "96.0",
         "17.500139236450195",
         "31",
         "2",
         "1745960441",
         "1",
         "2025-04-29 21:00:41+00:00"
        ],
        [
         "85015",
         "1745961365.750768",
         "31205",
         "984160",
         "405",
         "20250429.0",
         "16:11:00",
         "45.48248672485352",
         "-73.58171081542969",
         "0.0",
         "0.0",
         "31",
         "2",
         "1745961342",
         "1",
         "2025-04-29 21:15:42+00:00"
        ],
        [
         "86054",
         "1745962265.190695",
         "31205",
         "984160",
         "405",
         "20250429.0",
         "16:11:00",
         "45.45671844482422",
         "-73.61817932128906",
         "232.0",
         "17.500139236450195",
         "31",
         "2",
         "1745962236",
         "3",
         "2025-04-29 21:30:36+00:00"
        ],
        [
         "94830",
         "1745973067.549074",
         "33838",
         "991980",
         "80",
         "20250429.0",
         "19:13:00",
         "45.534366607666016",
         "-73.64282989501953",
         "0.0",
         "0.0",
         "28",
         "1",
         "1745973039",
         "2",
         "2025-04-30 00:30:39+00:00"
        ],
        [
         "4023",
         "1745806506.406956",
         "30234",
         "283211514",
         "68",
         "20250427.0",
         "21:27:00",
         "45.51533508300781",
         "-73.74624633789062",
         "59.0",
         "0.0",
         "13",
         "1",
         "1745806478",
         "1",
         "2025-04-28 02:14:38+00:00"
        ],
        [
         "4625",
         "1745810106.53693",
         "30234",
         "283211515",
         "68",
         "20250427.0",
         "22:31:00",
         "45.47574615478516",
         "-73.87123107910156",
         "0.0",
         "0.0",
         "5",
         "1",
         "1745810082",
         "1",
         "2025-04-28 03:14:42+00:00"
        ],
        [
         "5745",
         "1745816462.081131",
         "40126",
         "283211892",
         "201",
         "20250427.0",
         "23:30:00",
         "45.502349853515625",
         "-73.73307037353516",
         "0.0",
         "0.0",
         "69",
         "2",
         "1745816443",
         "1",
         "2025-04-28 05:00:43+00:00"
        ],
        [
         "882",
         "1745790307.333954",
         "38052",
         "283211920",
         "204",
         "20250427.0",
         "17:46:00",
         "45.465328216552734",
         "-73.83090209960938",
         "0.0",
         "0.0",
         "1",
         "1",
         "1745790292",
         "1",
         "2025-04-27 21:44:52+00:00"
        ],
        [
         "608",
         "1745790307.303497",
         "40188",
         "283212650",
         "201",
         "20250427.0",
         "17:47:00",
         "45.46623992919922",
         "-73.83261108398438",
         "0.0",
         "0.0",
         "1",
         "1",
         "1745790289",
         "1",
         "2025-04-27 21:44:49+00:00"
        ],
        [
         "549",
         "1745790307.302135",
         "31195",
         "283212664",
         "202",
         "20250427.0",
         "17:45:00",
         "45.50879287719727",
         "-73.67280578613281",
         "41.0",
         "0.0",
         "1",
         "1",
         "1745790294",
         "1",
         "2025-04-27 21:44:54+00:00"
        ],
        [
         "5911",
         "1745818262.449585",
         "40154",
         "283212707",
         "207",
         "20250428.0",
         "00:28:00",
         "45.46593475341797",
         "-73.87958526611328",
         "0.0",
         "0.0",
         "42",
         "2",
         "1745818257",
         "1",
         "2025-04-28 05:30:57+00:00"
        ],
        [
         "6252",
         "1745823661.452132",
         "40154",
         "283212709",
         "376",
         "20250428.0",
         "01:30:00",
         "45.489688873291016",
         "-73.58290100097656",
         "0.0",
         "0.0",
         "43",
         "2",
         "1745823625",
         "1",
         "2025-04-28 07:00:25+00:00"
        ],
        [
         "6476",
         "1745829062.659154",
         "40190",
         "283212901",
         "382",
         "20250428.0",
         "03:15:00",
         "45.53196716308594",
         "-73.7197494506836",
         "43.0",
         "0.0",
         "29",
         "1",
         "1745829051",
         "1",
         "2025-04-28 08:30:51+00:00"
        ],
        [
         "834",
         "1745790307.30776",
         "40202",
         "283212976",
         "204",
         "20250427.0",
         "17:59:00",
         "45.449462890625",
         "-73.74323272705078",
         "0.0",
         "0.0",
         "1",
         "1",
         "1745790279",
         "1",
         "2025-04-27 21:44:39+00:00"
        ]
       ],
       "shape": {
        "columns": 15,
        "rows": 5735
       }
      },
      "text/html": [
       "<div>\n",
       "<style scoped>\n",
       "    .dataframe tbody tr th:only-of-type {\n",
       "        vertical-align: middle;\n",
       "    }\n",
       "\n",
       "    .dataframe tbody tr th {\n",
       "        vertical-align: top;\n",
       "    }\n",
       "\n",
       "    .dataframe thead th {\n",
       "        text-align: right;\n",
       "    }\n",
       "</style>\n",
       "<table border=\"1\" class=\"dataframe\">\n",
       "  <thead>\n",
       "    <tr style=\"text-align: right;\">\n",
       "      <th></th>\n",
       "      <th>current_time</th>\n",
       "      <th>vehicle_id</th>\n",
       "      <th>trip_id</th>\n",
       "      <th>route_id</th>\n",
       "      <th>start_date</th>\n",
       "      <th>start_time</th>\n",
       "      <th>vehicle_lat</th>\n",
       "      <th>vehicle_lon</th>\n",
       "      <th>vehicle_bearing</th>\n",
       "      <th>vehicle_speed</th>\n",
       "      <th>stop_sequence</th>\n",
       "      <th>vehicle_status</th>\n",
       "      <th>timestamp</th>\n",
       "      <th>occupancy_status</th>\n",
       "      <th>vehicle_dt</th>\n",
       "    </tr>\n",
       "  </thead>\n",
       "  <tbody>\n",
       "    <tr>\n",
       "      <th>136494</th>\n",
       "      <td>1.746045e+09</td>\n",
       "      <td>31001</td>\n",
       "      <td>904429</td>\n",
       "      <td>470</td>\n",
       "      <td>20250430.0</td>\n",
       "      <td>16:03:00</td>\n",
       "      <td>45.489998</td>\n",
       "      <td>-73.729767</td>\n",
       "      <td>284.0</td>\n",
       "      <td>14.44456</td>\n",
       "      <td>2</td>\n",
       "      <td>2</td>\n",
       "      <td>1746045054</td>\n",
       "      <td>3</td>\n",
       "      <td>2025-04-30 20:30:54+00:00</td>\n",
       "    </tr>\n",
       "    <tr>\n",
       "      <th>104926</th>\n",
       "      <td>1.746009e+09</td>\n",
       "      <td>41042</td>\n",
       "      <td>905002</td>\n",
       "      <td>41</td>\n",
       "      <td>20250430.0</td>\n",
       "      <td>05:30:00</td>\n",
       "      <td>45.555935</td>\n",
       "      <td>-73.667336</td>\n",
       "      <td>0.0</td>\n",
       "      <td>0.00000</td>\n",
       "      <td>35</td>\n",
       "      <td>2</td>\n",
       "      <td>1746009039</td>\n",
       "      <td>1</td>\n",
       "      <td>2025-04-30 10:30:39+00:00</td>\n",
       "    </tr>\n",
       "    <tr>\n",
       "      <th>56821</th>\n",
       "      <td>1.745929e+09</td>\n",
       "      <td>33829</td>\n",
       "      <td>908894</td>\n",
       "      <td>470</td>\n",
       "      <td>20250429.0</td>\n",
       "      <td>07:15:00</td>\n",
       "      <td>45.496933</td>\n",
       "      <td>-73.704300</td>\n",
       "      <td>41.0</td>\n",
       "      <td>3.88892</td>\n",
       "      <td>24</td>\n",
       "      <td>2</td>\n",
       "      <td>1745928932</td>\n",
       "      <td>3</td>\n",
       "      <td>2025-04-29 12:15:32+00:00</td>\n",
       "    </tr>\n",
       "    <tr>\n",
       "      <th>15261</th>\n",
       "      <td>1.745852e+09</td>\n",
       "      <td>32802</td>\n",
       "      <td>914104</td>\n",
       "      <td>470</td>\n",
       "      <td>20250428.0</td>\n",
       "      <td>10:24:00</td>\n",
       "      <td>45.459759</td>\n",
       "      <td>-73.891930</td>\n",
       "      <td>144.0</td>\n",
       "      <td>0.00000</td>\n",
       "      <td>3</td>\n",
       "      <td>1</td>\n",
       "      <td>1745852444</td>\n",
       "      <td>1</td>\n",
       "      <td>2025-04-28 15:00:44+00:00</td>\n",
       "    </tr>\n",
       "    <tr>\n",
       "      <th>15784</th>\n",
       "      <td>1.745853e+09</td>\n",
       "      <td>32802</td>\n",
       "      <td>914104</td>\n",
       "      <td>470</td>\n",
       "      <td>20250428.0</td>\n",
       "      <td>10:24:00</td>\n",
       "      <td>45.459759</td>\n",
       "      <td>-73.891930</td>\n",
       "      <td>94.0</td>\n",
       "      <td>0.00000</td>\n",
       "      <td>3</td>\n",
       "      <td>1</td>\n",
       "      <td>1745853345</td>\n",
       "      <td>1</td>\n",
       "      <td>2025-04-28 15:15:45+00:00</td>\n",
       "    </tr>\n",
       "    <tr>\n",
       "      <th>...</th>\n",
       "      <td>...</td>\n",
       "      <td>...</td>\n",
       "      <td>...</td>\n",
       "      <td>...</td>\n",
       "      <td>...</td>\n",
       "      <td>...</td>\n",
       "      <td>...</td>\n",
       "      <td>...</td>\n",
       "      <td>...</td>\n",
       "      <td>...</td>\n",
       "      <td>...</td>\n",
       "      <td>...</td>\n",
       "      <td>...</td>\n",
       "      <td>...</td>\n",
       "      <td>...</td>\n",
       "    </tr>\n",
       "    <tr>\n",
       "      <th>110747</th>\n",
       "      <td>1.746014e+09</td>\n",
       "      <td>42026</td>\n",
       "      <td>286749881</td>\n",
       "      <td>69</td>\n",
       "      <td>20250430.0</td>\n",
       "      <td>07:58:00</td>\n",
       "      <td>45.568249</td>\n",
       "      <td>-73.659622</td>\n",
       "      <td>0.0</td>\n",
       "      <td>0.00000</td>\n",
       "      <td>5</td>\n",
       "      <td>2</td>\n",
       "      <td>1746014441</td>\n",
       "      <td>1</td>\n",
       "      <td>2025-04-30 12:00:41+00:00</td>\n",
       "    </tr>\n",
       "    <tr>\n",
       "      <th>55689</th>\n",
       "      <td>1.745928e+09</td>\n",
       "      <td>39136</td>\n",
       "      <td>287230574</td>\n",
       "      <td>56</td>\n",
       "      <td>20250429.0</td>\n",
       "      <td>07:29:00</td>\n",
       "      <td>45.618084</td>\n",
       "      <td>-73.581253</td>\n",
       "      <td>0.0</td>\n",
       "      <td>0.00000</td>\n",
       "      <td>16</td>\n",
       "      <td>2</td>\n",
       "      <td>1745928023</td>\n",
       "      <td>1</td>\n",
       "      <td>2025-04-29 12:00:23+00:00</td>\n",
       "    </tr>\n",
       "    <tr>\n",
       "      <th>56793</th>\n",
       "      <td>1.745929e+09</td>\n",
       "      <td>39136</td>\n",
       "      <td>287230574</td>\n",
       "      <td>56</td>\n",
       "      <td>20250429.0</td>\n",
       "      <td>07:29:00</td>\n",
       "      <td>45.618450</td>\n",
       "      <td>-73.580353</td>\n",
       "      <td>0.0</td>\n",
       "      <td>0.00000</td>\n",
       "      <td>16</td>\n",
       "      <td>2</td>\n",
       "      <td>1745928937</td>\n",
       "      <td>1</td>\n",
       "      <td>2025-04-29 12:15:37+00:00</td>\n",
       "    </tr>\n",
       "    <tr>\n",
       "      <th>57850</th>\n",
       "      <td>1.745930e+09</td>\n",
       "      <td>39136</td>\n",
       "      <td>287230574</td>\n",
       "      <td>56</td>\n",
       "      <td>20250429.0</td>\n",
       "      <td>07:29:00</td>\n",
       "      <td>45.617733</td>\n",
       "      <td>-73.580452</td>\n",
       "      <td>0.0</td>\n",
       "      <td>0.00000</td>\n",
       "      <td>16</td>\n",
       "      <td>2</td>\n",
       "      <td>1745929818</td>\n",
       "      <td>1</td>\n",
       "      <td>2025-04-29 12:30:18+00:00</td>\n",
       "    </tr>\n",
       "    <tr>\n",
       "      <th>110223</th>\n",
       "      <td>1.746014e+09</td>\n",
       "      <td>32021</td>\n",
       "      <td>287230574</td>\n",
       "      <td>56</td>\n",
       "      <td>20250430.0</td>\n",
       "      <td>07:29:00</td>\n",
       "      <td>45.617802</td>\n",
       "      <td>-73.581253</td>\n",
       "      <td>199.0</td>\n",
       "      <td>3.05558</td>\n",
       "      <td>12</td>\n",
       "      <td>2</td>\n",
       "      <td>1746014458</td>\n",
       "      <td>1</td>\n",
       "      <td>2025-04-30 12:00:58+00:00</td>\n",
       "    </tr>\n",
       "  </tbody>\n",
       "</table>\n",
       "<p>5735 rows × 15 columns</p>\n",
       "</div>"
      ],
      "text/plain": [
       "        current_time  vehicle_id    trip_id  route_id  start_date start_time  \\\n",
       "136494  1.746045e+09       31001     904429       470  20250430.0   16:03:00   \n",
       "104926  1.746009e+09       41042     905002        41  20250430.0   05:30:00   \n",
       "56821   1.745929e+09       33829     908894       470  20250429.0   07:15:00   \n",
       "15261   1.745852e+09       32802     914104       470  20250428.0   10:24:00   \n",
       "15784   1.745853e+09       32802     914104       470  20250428.0   10:24:00   \n",
       "...              ...         ...        ...       ...         ...        ...   \n",
       "110747  1.746014e+09       42026  286749881        69  20250430.0   07:58:00   \n",
       "55689   1.745928e+09       39136  287230574        56  20250429.0   07:29:00   \n",
       "56793   1.745929e+09       39136  287230574        56  20250429.0   07:29:00   \n",
       "57850   1.745930e+09       39136  287230574        56  20250429.0   07:29:00   \n",
       "110223  1.746014e+09       32021  287230574        56  20250430.0   07:29:00   \n",
       "\n",
       "        vehicle_lat  vehicle_lon  vehicle_bearing  vehicle_speed  \\\n",
       "136494    45.489998   -73.729767            284.0       14.44456   \n",
       "104926    45.555935   -73.667336              0.0        0.00000   \n",
       "56821     45.496933   -73.704300             41.0        3.88892   \n",
       "15261     45.459759   -73.891930            144.0        0.00000   \n",
       "15784     45.459759   -73.891930             94.0        0.00000   \n",
       "...             ...          ...              ...            ...   \n",
       "110747    45.568249   -73.659622              0.0        0.00000   \n",
       "55689     45.618084   -73.581253              0.0        0.00000   \n",
       "56793     45.618450   -73.580353              0.0        0.00000   \n",
       "57850     45.617733   -73.580452              0.0        0.00000   \n",
       "110223    45.617802   -73.581253            199.0        3.05558   \n",
       "\n",
       "        stop_sequence  vehicle_status   timestamp  occupancy_status  \\\n",
       "136494              2               2  1746045054                 3   \n",
       "104926             35               2  1746009039                 1   \n",
       "56821              24               2  1745928932                 3   \n",
       "15261               3               1  1745852444                 1   \n",
       "15784               3               1  1745853345                 1   \n",
       "...               ...             ...         ...               ...   \n",
       "110747              5               2  1746014441                 1   \n",
       "55689              16               2  1745928023                 1   \n",
       "56793              16               2  1745928937                 1   \n",
       "57850              16               2  1745929818                 1   \n",
       "110223             12               2  1746014458                 1   \n",
       "\n",
       "                      vehicle_dt  \n",
       "136494 2025-04-30 20:30:54+00:00  \n",
       "104926 2025-04-30 10:30:39+00:00  \n",
       "56821  2025-04-29 12:15:32+00:00  \n",
       "15261  2025-04-28 15:00:44+00:00  \n",
       "15784  2025-04-28 15:15:45+00:00  \n",
       "...                          ...  \n",
       "110747 2025-04-30 12:00:41+00:00  \n",
       "55689  2025-04-29 12:00:23+00:00  \n",
       "56793  2025-04-29 12:15:37+00:00  \n",
       "57850  2025-04-29 12:30:18+00:00  \n",
       "110223 2025-04-30 12:00:58+00:00  \n",
       "\n",
       "[5735 rows x 15 columns]"
      ]
     },
     "execution_count": 36,
     "metadata": {},
     "output_type": "execute_result"
    }
   ],
   "source": [
    "# Get duplicates\n",
    "duplicate_mask = positions_df.duplicated(subset=subset)\n",
    "positions_df[duplicate_mask]"
   ]
  },
  {
   "cell_type": "code",
   "execution_count": 37,
   "id": "ff90a39f",
   "metadata": {},
   "outputs": [
    {
     "name": "stdout",
     "output_type": "stream",
     "text": [
      "3.38%\n"
     ]
    }
   ],
   "source": [
    "# Get proportion of duplicates\n",
    "print(f'{duplicate_mask.mean():.2%}')"
   ]
  },
  {
   "cell_type": "code",
   "execution_count": 38,
   "id": "b2e259b1",
   "metadata": {},
   "outputs": [],
   "source": [
    "# Remove duplicates\n",
    "positions_df = positions_df.drop_duplicates(subset=subset)"
   ]
  },
  {
   "cell_type": "code",
   "execution_count": 39,
   "id": "d236afc3",
   "metadata": {},
   "outputs": [],
   "source": [
    "# Merge with other STM data\n",
    "stm_df = pd.merge(left=trips_stops_df, right=positions_df, how='inner', on=['trip_id', 'route_id', 'start_date', 'stop_sequence'])"
   ]
  },
  {
   "cell_type": "code",
   "execution_count": 40,
   "id": "b8aa0884",
   "metadata": {},
   "outputs": [],
   "source": [
    "# Calculate distance between the vehicle and the stop\n",
    "stm_df['vehicle_distance'] = stm_df.apply(\n",
    "  lambda row: haversine((row['vehicle_lat'], row['vehicle_lon']), (row['stop_lat'], row['stop_lon']), unit=Unit.METERS),\n",
    "  axis=1)"
   ]
  },
  {
   "cell_type": "markdown",
   "id": "7b431a68",
   "metadata": {},
   "source": [
    "### STM and Weather"
   ]
  },
  {
   "cell_type": "code",
   "execution_count": 41,
   "id": "ad7f9e32",
   "metadata": {},
   "outputs": [],
   "source": [
    "# Convert time string to datetime\n",
    "time_dt = pd.to_datetime(weather_df['time'], utc=True)"
   ]
  },
  {
   "cell_type": "code",
   "execution_count": 42,
   "id": "54317d78",
   "metadata": {},
   "outputs": [],
   "source": [
    "# Calculate dates for weather forecast\n",
    "last_day_weather = time_dt.max()\n",
    "start_date = last_day_weather + timedelta(days=1)\n",
    "end_date = stm_df['realtime_arrival_time'].max()"
   ]
  },
  {
   "cell_type": "code",
   "execution_count": 43,
   "id": "705c3caa",
   "metadata": {},
   "outputs": [],
   "source": [
    "# Fetch forecast weather\n",
    "start_date_str = start_date.strftime('%Y-%m-%d')\n",
    "end_date_str = end_date.strftime('%Y-%m-%d')\n",
    "\n",
    "forecast_list = fetch_weather(start_date=start_date_str, end_date=end_date_str, forecast=True)\n",
    "forecast_df = pd.DataFrame(forecast_list)"
   ]
  },
  {
   "cell_type": "code",
   "execution_count": 44,
   "id": "a8a5858f",
   "metadata": {},
   "outputs": [],
   "source": [
    "# Merge archive and forecast weather\n",
    "weather_df = pd.concat([weather_df, forecast_df], ignore_index=True)"
   ]
  },
  {
   "cell_type": "code",
   "execution_count": 45,
   "id": "c139f560",
   "metadata": {},
   "outputs": [],
   "source": [
    "# Round arrival time to the nearest hour\n",
    "rounded_arrival_dt = stm_df['realtime_arrival_time'].dt.round('h')"
   ]
  },
  {
   "cell_type": "code",
   "execution_count": 46,
   "id": "5d4d8333",
   "metadata": {},
   "outputs": [],
   "source": [
    "# Format time to match weather data\n",
    "stm_df['time'] = rounded_arrival_dt.dt.strftime('%Y-%m-%dT%H:%M')"
   ]
  },
  {
   "cell_type": "code",
   "execution_count": 47,
   "id": "f2552f97",
   "metadata": {},
   "outputs": [],
   "source": [
    "# Merge STM with weather\n",
    "stm_weather_df = pd.merge(left=stm_df, right=weather_df, how='inner', on='time')"
   ]
  },
  {
   "cell_type": "markdown",
   "id": "fe11c074",
   "metadata": {},
   "source": [
    "### Traffic Data"
   ]
  },
  {
   "cell_type": "code",
   "execution_count": 48,
   "id": "3ced7c04",
   "metadata": {},
   "outputs": [
    {
     "name": "stdout",
     "output_type": "stream",
     "text": [
      "33.44%\n"
     ]
    }
   ],
   "source": [
    "# Get proportion of duplicates\n",
    "duplicate_mask = traffic_df.duplicated()\n",
    "print(f'{duplicate_mask.mean():.2%}')"
   ]
  },
  {
   "cell_type": "code",
   "execution_count": 49,
   "id": "4e69a875",
   "metadata": {},
   "outputs": [],
   "source": [
    "# Remove duplicates\n",
    "traffic_df = traffic_df.drop_duplicates(keep='last').reset_index()"
   ]
  },
  {
   "cell_type": "code",
   "execution_count": 50,
   "id": "ede164f5",
   "metadata": {},
   "outputs": [],
   "source": [
    "# Convert traffic start_time and end_time to datetime\n",
    "traffic_df['start_time'] = pd.to_datetime(traffic_df['start_time'], utc=True)\n",
    "traffic_df['end_time'] = pd.to_datetime(traffic_df['end_time'], utc=True)"
   ]
  },
  {
   "cell_type": "code",
   "execution_count": 51,
   "id": "d1c79ec6",
   "metadata": {},
   "outputs": [],
   "source": [
    "# Sort by date\n",
    "traffic_df = traffic_df.sort_values(by='start_time').reset_index()"
   ]
  },
  {
   "cell_type": "code",
   "execution_count": 52,
   "id": "c2a61030",
   "metadata": {},
   "outputs": [],
   "source": [
    "# Fill null end times with current time (assuming the incident is still ongoing)\n",
    "traffic_df['end_time'] = traffic_df['end_time'].fillna(datetime.now(timezone.utc).replace(microsecond=0))\n",
    "assert traffic_df['end_time'].isna().sum() == 0"
   ]
  },
  {
   "cell_type": "code",
   "execution_count": null,
   "id": "a2f51d97",
   "metadata": {},
   "outputs": [],
   "source": [
    "# Build traffic cache (for every 30 min interval)\n",
    "def build_traffic_cache(traffic_df:pd.DataFrame) -> dict:\n",
    "\ttraffic_cache = {}\n",
    "\ttraffic_df['half_hour'] = traffic_df['start_time'].dt.floor('15min')\n",
    "\n",
    "\tfor (hour, group) in traffic_df.groupby('half_hour'):\n",
    "\t\ttraffic_cache[hour] = group.copy()\n",
    "\n",
    "\treturn traffic_cache"
   ]
  },
  {
   "cell_type": "markdown",
   "id": "f3850f2b",
   "metadata": {},
   "source": [
    "Since there are many trip updates on the same day (even the same hour), there's a risk of repeating the filtering of active traffic incidents for each trip individually, which takes a lot of time for a large dataset. Traffic incidents are stable over minutes or hours. This is why the incidents will be cached by 15 minute intervals."
   ]
  },
  {
   "cell_type": "code",
   "execution_count": 54,
   "id": "e84143f7",
   "metadata": {},
   "outputs": [],
   "source": [
    "def calculate_nearby_incidents(trip_update:pd.Series, traffic_cache:dict, max_distance:int=500) -> pd.Series:\n",
    "\ttrip_datetime = trip_update['vehicle_dt']\n",
    "\tstop_coords = (trip_update['vehicle_lat'], trip_update['vehicle_lon'])\n",
    "\n",
    "\ttrip_half_hour = trip_datetime.floor('30min')\n",
    "\n",
    "\t# Get cached incidents\n",
    "\thour_incidents = traffic_cache.get(trip_half_hour)\n",
    "\n",
    "\t# Stop if there are no incidents for that hour\n",
    "\tif hour_incidents is None or hour_incidents.empty:\n",
    "\t\treturn pd.Series({\n",
    "\t\t\t'incident_nearby': 0,\n",
    "\t\t\t'nearest_incident_distance': None,\n",
    "\t\t\t'incident_category': None,\n",
    "\t\t\t'incident_delay': None,\n",
    "\t\t\t'incident_delay_magnitude': None\n",
    "\t\t})\n",
    "\n",
    "\t# Filter for active incidents at that trip hour\n",
    "\tactive_incidents = hour_incidents[\n",
    "\t\t(hour_incidents['start_time'] <= trip_datetime) &\n",
    "\t\t(hour_incidents['end_time'] >= trip_datetime)\n",
    "\t].copy()\n",
    "\n",
    "\tif active_incidents.empty:\n",
    "\t\treturn pd.Series({\n",
    "\t\t\t'incident_nearby': 0,\n",
    "\t\t\t'nearest_incident_distance': None,\n",
    "\t\t\t'incident_category': None,\n",
    "\t\t\t'incident_delay': None,\n",
    "\t\t\t'incident_delay_magnitude': None\n",
    "\t\t})\n",
    "\n",
    "\t# Calculate distance     \n",
    "\tactive_incidents['distance'] = active_incidents.apply(\n",
    "\t\tlambda row: haversine(stop_coords, (row['latitude'], row['longitude']), unit=Unit.METERS),\n",
    "\t\taxis=1\n",
    "\t)\n",
    "\n",
    "\t# Filter nearby\n",
    "\tnearby_incidents = active_incidents[active_incidents['distance'] <= max_distance]\n",
    "\n",
    "\tif nearby_incidents.empty:\n",
    "\t\treturn pd.Series({\n",
    "\t\t\t'incident_nearby': 0,\n",
    "\t\t\t'nearest_incident_distance': None,\n",
    "\t\t\t'incident_category': None,\n",
    "\t\t\t'incident_delay': None,\n",
    "\t\t\t'incident_delay_magnitude': None\n",
    "\t\t})\n",
    "\telse:\n",
    "\t\tnearest = nearby_incidents.loc[nearby_incidents['distance'].idxmin()]\n",
    "\t\treturn pd.Series({\n",
    "\t\t\t'incident_nearby': 1,\n",
    "\t\t\t'nearest_incident_distance': nearest['distance'],\n",
    "\t\t\t'incident_category': nearest['category'],\n",
    "\t\t\t'incident_delay': nearest['delay'],\n",
    "\t\t\t'incident_delay_magnitude': nearest['magnitude_of_delay']\n",
    "\t\t})"
   ]
  },
  {
   "cell_type": "code",
   "execution_count": null,
   "id": "fa13cf97",
   "metadata": {},
   "outputs": [],
   "source": [
    "# Get traffic columns (get incidents within 500 meters)\n",
    "traffic_cache = build_traffic_cache(traffic_df)\n",
    "traffic_cols = stm_weather_df.apply(lambda row: calculate_nearby_incidents(row, traffic_cache), axis=1)"
   ]
  },
  {
   "cell_type": "code",
   "execution_count": null,
   "id": "84f574b4",
   "metadata": {},
   "outputs": [],
   "source": [
    "# Merge the traffic\n",
    "df = pd.concat([stm_weather_df, traffic_cols], axis=1)"
   ]
  },
  {
   "cell_type": "markdown",
   "id": "8ca8aca1",
   "metadata": {},
   "source": [
    "## Small EDA"
   ]
  },
  {
   "cell_type": "code",
   "execution_count": null,
   "id": "9c5f25be",
   "metadata": {},
   "outputs": [],
   "source": [
    "# Get most correlated features with delay\n",
    "correlations = df.drop(['current_time_x', 'current_time_y', 'departure_time_x', 'timestamp'], axis=1).corr(numeric_only=True)['delay']\n",
    "correlations.sort_values(key=abs, ascending=False).head(11)[1:]"
   ]
  },
  {
   "cell_type": "code",
   "execution_count": null,
   "id": "2320c0c9",
   "metadata": {},
   "outputs": [],
   "source": [
    "# Get proportion of trips that are on time\n",
    "on_time_mask = df['delay'] == 0\n",
    "print(f'{(on_time_mask.sum() / len(df)):.2%}')"
   ]
  },
  {
   "cell_type": "code",
   "execution_count": null,
   "id": "b36f8451",
   "metadata": {},
   "outputs": [],
   "source": [
    "# Plot trip progress vs. delay\n",
    "plt.scatter(x=df['trip_progress'], y=df['delay'])\n",
    "plt.title('Trip Progress vs. Delay')\n",
    "plt.xlabel('Trip Progress')\n",
    "plt.ylabel('Delay (seconds)')\n",
    "plt.savefig('../images/trip_progress_vs_delay.png', bbox_inches='tight')\n",
    "plt.show()"
   ]
  },
  {
   "cell_type": "markdown",
   "id": "61121b68",
   "metadata": {},
   "source": [
    "From the plot, it looks like the delay is relatively stable across the trip progress. There are many data points that appear scattered around the x-axis, indicating that delays do not change significantly throughout the trip in many cases. The wide range of delays suggests that delays are highly variable, but there is not clear relationship between trip progress and delay. This could imply that other factors like traffic, accidents, mechanical issues or weather may have more impact on the delays."
   ]
  },
  {
   "cell_type": "markdown",
   "id": "54983bb1",
   "metadata": {},
   "source": [
    "## Export Data"
   ]
  },
  {
   "cell_type": "code",
   "execution_count": null,
   "id": "08f47649",
   "metadata": {},
   "outputs": [],
   "source": [
    "# Remove columns with constant values or with more than 50% missing values\n",
    "df = df.loc[:, (df.nunique() > 1) & (df.isna().mean() < 0.5)]\n",
    "df.columns"
   ]
  },
  {
   "cell_type": "code",
   "execution_count": null,
   "id": "ab1f6db7",
   "metadata": {},
   "outputs": [],
   "source": [
    "# Keep relevant columns\n",
    "df = df[[\n",
    "  \t'trip_id',\n",
    "  \t'vehicle_id', \n",
    "    'vehicle_lat',\n",
    "    'vehicle_lon',\n",
    "    'vehicle_distance', # engineered\n",
    "    'vehicle_status',\n",
    "    'vehicle_bearing',\n",
    "    'vehicle_speed',\n",
    "\t'occupancy_status',\n",
    "  \t'route_id',\n",
    "  \t'stop_id',\n",
    "  \t'stop_lat',\n",
    "  \t'stop_lon',\n",
    "\t'stop_sequence',\n",
    "  \t'trip_progress', # engineered\n",
    "  \t'wheelchair_boarding',\n",
    "  \t'realtime_arrival_time',\n",
    "    'scheduled_arrival_time',\n",
    "    'delay', # engineered\n",
    "  \t'temperature',\n",
    "  \t'precipitation',\n",
    "  \t'windspeed', \n",
    "\t'weathercode',\n",
    "  \t'incident_nearby', # engineered\n",
    "\t#'incident_category',\n",
    "\t#'nearest_incident_distance',\n",
    "\t#'incident_delay',\n",
    "\t#'incident_delay_magnitude'\n",
    "]]"
   ]
  },
  {
   "cell_type": "code",
   "execution_count": null,
   "id": "71576b8c",
   "metadata": {},
   "outputs": [],
   "source": [
    "df.info()"
   ]
  },
  {
   "cell_type": "code",
   "execution_count": null,
   "id": "8eb537d7",
   "metadata": {},
   "outputs": [],
   "source": [
    "# Export data to CSV\n",
    "df.to_csv('../data/stm_weather_traffic_merged.csv', index=False)"
   ]
  },
  {
   "cell_type": "markdown",
   "id": "a3b33a1a",
   "metadata": {},
   "source": [
    "## End"
   ]
  }
 ],
 "metadata": {
  "kernelspec": {
   "display_name": "venv",
   "language": "python",
   "name": "python3"
  },
  "language_info": {
   "codemirror_mode": {
    "name": "ipython",
    "version": 3
   },
   "file_extension": ".py",
   "mimetype": "text/x-python",
   "name": "python",
   "nbconvert_exporter": "python",
   "pygments_lexer": "ipython3",
   "version": "3.13.3"
  }
 },
 "nbformat": 4,
 "nbformat_minor": 5
}
