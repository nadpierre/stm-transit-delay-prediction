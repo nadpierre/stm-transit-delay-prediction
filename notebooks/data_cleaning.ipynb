{
 "cells": [
  {
   "cell_type": "markdown",
   "id": "056758cb",
   "metadata": {},
   "source": [
    "# STM Transit Delay Data Preparation"
   ]
  },
  {
   "cell_type": "markdown",
   "id": "e8706868",
   "metadata": {},
   "source": [
    "## Overview"
   ]
  },
  {
   "cell_type": "markdown",
   "id": "3d911d34",
   "metadata": {},
   "source": [
    "This notebook merges data from multiple sources and prepares it for data analysis and/or preprocessing."
   ]
  },
  {
   "cell_type": "markdown",
   "id": "a6bc184d",
   "metadata": {},
   "source": [
    "## Data description"
   ]
  },
  {
   "cell_type": "markdown",
   "id": "b7358fab",
   "metadata": {},
   "source": [
    "### Real-time Trip Updates"
   ]
  },
  {
   "cell_type": "markdown",
   "id": "d5c2ee8a",
   "metadata": {},
   "source": [
    "`current_time`: Timestamp when the data was fetched from the GTFS, in microseconds.<br>\n",
    "`trip_id`: Unique identifier for the transit trip.<br>\n",
    "`route_id`: Unique identifier for a bus or metro line.<br>\n",
    "`start_date`: Start date of the transit trip.<br>\n",
    "`stop_id`: Unique identifier of a stop.<br>\n",
    "`arrival_time`, `departure_time`: Realtime arrival and departure time, in microseconds<br>\n",
    "`schedule_relationship`: State of the trip, 0 meaning \"scheduled\", 1 meaning \"skipped\" and 2 meaning \"no data\"."
   ]
  },
  {
   "cell_type": "markdown",
   "id": "d28e04ef",
   "metadata": {},
   "source": [
    "### Scheduled STM Trips"
   ]
  },
  {
   "cell_type": "markdown",
   "id": "bb31f7ab",
   "metadata": {},
   "source": [
    "`trip_id`: Unique identifier for the transit trip.<br>\n",
    "`arrival_time`, `departure_time`: Scheduled arrival and departure time.<br>\n",
    "`stop_id`: Unique identifier of a stop.<br>\n",
    "`stop_sequence`: Sequence of a stop, for ordering."
   ]
  },
  {
   "cell_type": "markdown",
   "id": "bc749154",
   "metadata": {},
   "source": [
    "### STM Stops"
   ]
  },
  {
   "cell_type": "markdown",
   "id": "a40b660a",
   "metadata": {},
   "source": [
    "`stop_id`: Unique identifier of a stop.<br>\n",
    "`stop_code`: Bus stop or metro station number.<br>\n",
    "`stop_name`: Bus stop or metro station name<br>\n",
    "`stop_lat`, `stop_lon`: Stop coordinates.<br>\n",
    "`stop_url`: Stop web page.<br>\n",
    "`location_type`: Stop type.<br>\n",
    "`parent_station`: Parent station (metro station with multiple exits).<br>\n",
    "`wheelchair_boarding`: Indicates if the stop is accessible for people in wheelchair, 1 being true and 2 being false."
   ]
  },
  {
   "cell_type": "markdown",
   "id": "4608bc4a",
   "metadata": {},
   "source": [
    "### Real-time Vehicle Positions"
   ]
  },
  {
   "cell_type": "markdown",
   "id": "c11c6a01",
   "metadata": {},
   "source": [
    "`current_time`: Timestamp when the data was fetched from the GTFS, in microseconds.<br>\n",
    "`vehicle_id`: Unique identifier for a vehicle.<br>\n",
    "`trip_id`: Unique identifier for the transit trip.<br>\n",
    "`route_id`: Unique identifier for a bus or metro line.<br>\n",
    "`start_date`: Start date of a transit trip.<br>\n",
    "`start_time`: Start time of a transit trip.<br>\n",
    "`latitude`, `longitude`: Vehicle current position.<br>\n",
    "`bearing`: Direction that the vehicle is facing, from 0 to 360 degrees.<br>\n",
    "`speed`: Momentary speed measured by the vehicle, in meters per second.<br>\n",
    "`stop_sequence`: Sequence of a stop, for ordering.<br>\n",
    "`status`: Vehicle stop status in relation with a stop that it's currently approaching or is at, 1 being \"stopped at\" and 2 being \"in transit to\".<br>\n",
    "`timestamp`: Timestamp when STM updated the data, in milliseconds.<br>\n",
    "`occupancy_status`: Degree of passenger occupancy, ranging from 1 (empty) to 7 (not accepting passengers)."
   ]
  },
  {
   "cell_type": "markdown",
   "id": "cbdfe609",
   "metadata": {},
   "source": [
    "### Service Alerts"
   ]
  },
  {
   "cell_type": "markdown",
   "id": "fa2a8460",
   "metadata": {},
   "source": [
    "`start_time`: Start time of the alert, in microseconds.<br>\n",
    "`end_time`: End time of the alert, in microseconds.<br>\n",
    "`route_id`: Unique identifier for a bus or metro line.<br>\n",
    "`stop_id`: Unique identifier of a stop."
   ]
  },
  {
   "cell_type": "markdown",
   "id": "042db663",
   "metadata": {},
   "source": [
    "### Weather Archive and Forecast"
   ]
  },
  {
   "cell_type": "markdown",
   "id": "3ccfdc47",
   "metadata": {},
   "source": [
    "`time`: Date and hour or the weather.<br>\n",
    "`temperature`: Air temperature at 2 meters above ground, in Celsius.<br>\n",
    "`precipitation`: Total precipitation (rain, showers, snow) sum of the preceding hour, in millimeters.<br>\n",
    "`windspeed`: Wind speed at 10 meters above ground, in kilometers per hour.<br>\n",
    "`weathercode`: World Meteorological Organization (WMO) code, see [Open-Meteo API documentation](https://open-meteo.com/en/docs#weather_variable_documentation) for the list."
   ]
  },
  {
   "cell_type": "markdown",
   "id": "268c0ac0",
   "metadata": {},
   "source": [
    "### Traffic Incidents"
   ]
  },
  {
   "cell_type": "markdown",
   "id": "72e73a05",
   "metadata": {},
   "source": [
    "`category`: Category of the incident.<br>\n",
    "`start_time`: Start time of the incident, in ISO8601 format.<br>\n",
    "`end_time`: End time of the incident, in ISO8601 format.<br>\n",
    "`length`: Length of the incident in meters.<br>\n",
    "`delay`: Delay in seconds caused by the incident (except road closures).<br>\n",
    "`magnitude_of_delay`: Severity of the delay, ranging from 0 to 4 (minor to major).<br>\n",
    "`last_report_time`: Date when the last time the incident was reported,in ISO8601 format.<br>\n",
    "`latitude`, `longitude`: Coordinates of the incident."
   ]
  },
  {
   "cell_type": "markdown",
   "id": "3ca39527",
   "metadata": {},
   "source": [
    "## Imports"
   ]
  },
  {
   "cell_type": "code",
   "execution_count": null,
   "id": "a0a7cafd",
   "metadata": {},
   "outputs": [],
   "source": [
    "from datetime import datetime, timedelta, timezone\n",
    "from haversine import haversine, Unit\n",
    "import numpy as np\n",
    "import pandas as pd\n",
    "import sys"
   ]
  },
  {
   "cell_type": "code",
   "execution_count": null,
   "id": "faad2700",
   "metadata": {},
   "outputs": [],
   "source": [
    "# Import custom code\n",
    "sys.path.insert(0, '..')\n",
    "from scripts.custom_functions import fetch_weather, LOCAL_TIMEZONE, OCCUPANCY_STATUS, SCHEDULE_RELATIONSHIP, WEATHER_CODES"
   ]
  },
  {
   "cell_type": "code",
   "execution_count": null,
   "id": "786cc667",
   "metadata": {},
   "outputs": [],
   "source": [
    "# Import data\n",
    "trips_df = pd.read_csv('../data/api/fetched_stm_trip_updates.csv', low_memory=False)\n",
    "schedules_df = pd.read_csv('../data/download/stop_times_2025-04-30.txt')\n",
    "stops_df = pd.read_csv('../data/download/stops_2025-04-30.txt')\n",
    "positions_df =  pd.read_csv('../data/api/fetched_stm_vehicle_positions.csv', low_memory=False)\n",
    "alerts_df = pd.read_csv('../data/api/fetched_stm_service_alerts.csv')\n",
    "weather_df = pd.read_csv('../data/api/fetched_historical_weather.csv')\n",
    "traffic_df = pd.read_csv('../data/api/fetched_traffic.csv')"
   ]
  },
  {
   "cell_type": "markdown",
   "id": "b3864f9b",
   "metadata": {},
   "source": [
    "## Merge Data"
   ]
  },
  {
   "cell_type": "markdown",
   "id": "026d79ac",
   "metadata": {},
   "source": [
    "### Schedules and stops"
   ]
  },
  {
   "cell_type": "code",
   "execution_count": null,
   "id": "4434500e",
   "metadata": {},
   "outputs": [],
   "source": [
    "# Sort values by stop sequence\n",
    "schedules_df = schedules_df.sort_values(by=['trip_id', 'stop_sequence'])"
   ]
  },
  {
   "cell_type": "code",
   "execution_count": null,
   "id": "176567e5",
   "metadata": {},
   "outputs": [],
   "source": [
    "# Add trip progress (vehicles further along the trip are more likely to be delayed)\n",
    "total_stops = schedules_df.groupby('trip_id')['stop_id'].transform('count')\n",
    "schedules_df['trip_progress'] = schedules_df['stop_sequence'] / total_stops"
   ]
  },
  {
   "cell_type": "code",
   "execution_count": null,
   "id": "e8adfad6",
   "metadata": {},
   "outputs": [],
   "source": [
    "# Get distribution of trip progress\n",
    "schedules_df['trip_progress'].describe()"
   ]
  },
  {
   "cell_type": "code",
   "execution_count": null,
   "id": "f856eb46",
   "metadata": {},
   "outputs": [],
   "source": [
    "# Merge schedules and stops\n",
    "schedules_stops_df = pd.merge(left=schedules_df, right=stops_df, how='inner', left_on='stop_id', right_on='stop_code')"
   ]
  },
  {
   "cell_type": "code",
   "execution_count": null,
   "id": "a827a8b9",
   "metadata": {},
   "outputs": [],
   "source": [
    "schedules_stops_df.columns"
   ]
  },
  {
   "cell_type": "code",
   "execution_count": null,
   "id": "ba369991",
   "metadata": {},
   "outputs": [],
   "source": [
    "# Rename stop id and drop other stop id columns\n",
    "schedules_stops_df = schedules_stops_df.rename(columns={'stop_id_x': 'stop_id'})\n",
    "schedules_stops_df = schedules_stops_df.drop(['stop_id_y', 'stop_code'], axis=1)"
   ]
  },
  {
   "cell_type": "code",
   "execution_count": null,
   "id": "bf47cb3c",
   "metadata": {},
   "outputs": [],
   "source": [
    "# Get coordinates of previous stop\n",
    "schedules_stops_df = schedules_stops_df.sort_values(by=['trip_id', 'stop_sequence'])\n",
    "schedules_stops_df['prev_lat'] = schedules_stops_df.groupby('trip_id')['stop_lat'].shift(1)\n",
    "schedules_stops_df['prev_lon'] = schedules_stops_df.groupby('trip_id')['stop_lon'].shift(1)"
   ]
  },
  {
   "cell_type": "code",
   "execution_count": null,
   "id": "c44a7ef8",
   "metadata": {},
   "outputs": [],
   "source": [
    "# Make sure the null values are from first stops\n",
    "prev_null_mask = (schedules_stops_df['prev_lat'].isna()) | (schedules_stops_df['prev_lon'].isna())\n",
    "first_stop_mask = schedules_stops_df['stop_sequence'] == 1\n",
    "assert prev_null_mask.sum() == first_stop_mask.sum()"
   ]
  },
  {
   "cell_type": "code",
   "execution_count": null,
   "id": "f9b0b6d7",
   "metadata": {},
   "outputs": [],
   "source": [
    "# Get distance from previous stop\n",
    "schedules_stops_df['stop_distance'] = schedules_stops_df.apply(\n",
    "  lambda row: haversine((row['prev_lat'], row['prev_lon']), (row['stop_lat'], row['stop_lon']), unit=Unit.METERS),\n",
    "  axis=1\n",
    ")"
   ]
  },
  {
   "cell_type": "code",
   "execution_count": null,
   "id": "81aac6e6",
   "metadata": {},
   "outputs": [],
   "source": [
    "# Drop previous coordinates\n",
    "schedules_stops_df = schedules_stops_df.drop(['prev_lat', 'prev_lon'], axis=1)"
   ]
  },
  {
   "cell_type": "code",
   "execution_count": null,
   "id": "ecd75d21",
   "metadata": {},
   "outputs": [],
   "source": [
    "# Replace null distances by zero (first stop of the trip)\n",
    "schedules_stops_df['stop_distance'] = schedules_stops_df['stop_distance'].fillna(0)"
   ]
  },
  {
   "cell_type": "code",
   "execution_count": null,
   "id": "f7c9b09d",
   "metadata": {},
   "outputs": [],
   "source": [
    "schedules_stops_df['stop_distance'].describe()"
   ]
  },
  {
   "cell_type": "code",
   "execution_count": null,
   "id": "2069b73c",
   "metadata": {},
   "outputs": [],
   "source": [
    "# Get stop with largest distance\n",
    "schedules_stops_df.iloc[schedules_stops_df['stop_distance'].idxmax()]"
   ]
  },
  {
   "cell_type": "markdown",
   "id": "0f5e5b5a",
   "metadata": {},
   "source": [
    "After double-checking in the STM website, the large distance make sense because the bus stops before or after this are far away."
   ]
  },
  {
   "cell_type": "markdown",
   "id": "2ab97d0d",
   "metadata": {},
   "source": [
    "### Realtime and Scheduled Trips"
   ]
  },
  {
   "cell_type": "code",
   "execution_count": null,
   "id": "344ab184",
   "metadata": {},
   "outputs": [],
   "source": [
    "# Convert route_id to integer\n",
    "trips_df['route_id'] = trips_df['route_id'].str.extract(r'(\\d+)')\n",
    "trips_df['route_id'] = trips_df['route_id'].astype('int64')"
   ]
  },
  {
   "cell_type": "code",
   "execution_count": null,
   "id": "737976cb",
   "metadata": {},
   "outputs": [],
   "source": [
    "# Get proportion of duplicates\n",
    "subset = trips_df.drop('current_time', axis=1).columns\n",
    "duplicate_mask = trips_df.duplicated(subset=subset)\n",
    "print(f'{duplicate_mask.mean():.2%}')"
   ]
  },
  {
   "cell_type": "code",
   "execution_count": null,
   "id": "7805dc80",
   "metadata": {},
   "outputs": [],
   "source": [
    "# Remove duplicates\n",
    "trips_df = trips_df.drop_duplicates(subset=subset)"
   ]
  },
  {
   "cell_type": "code",
   "execution_count": null,
   "id": "81c783bd",
   "metadata": {},
   "outputs": [],
   "source": [
    "# Rename arrival and departure time\n",
    "trips_df = trips_df.rename(columns={'arrival_time': 'rt_arrival_time','departure_time': 'rt_departure_time'})"
   ]
  },
  {
   "cell_type": "code",
   "execution_count": null,
   "id": "38b0d876",
   "metadata": {},
   "outputs": [],
   "source": [
    "# Merge trip updates with schedule\n",
    "stm_trips_df = pd.merge(left=trips_df, right=schedules_stops_df, how='inner', on=['trip_id', 'stop_id'])"
   ]
  },
  {
   "cell_type": "code",
   "execution_count": null,
   "id": "6b3231d1",
   "metadata": {},
   "outputs": [],
   "source": [
    "stm_trips_df.columns"
   ]
  },
  {
   "cell_type": "code",
   "execution_count": null,
   "id": "7e78e8ff",
   "metadata": {},
   "outputs": [],
   "source": [
    "# Convert start_date to datetime\n",
    "stm_trips_df['start_date_dt'] = pd.to_datetime(stm_trips_df['start_date'], format='%Y%m%d')"
   ]
  },
  {
   "cell_type": "code",
   "execution_count": null,
   "id": "0cda96f4",
   "metadata": {},
   "outputs": [],
   "source": [
    "def parse_gtfs_time(start_date:pd.Timestamp, stop_time:str) -> pd.Timestamp:\n",
    "\t'''\n",
    "\tConverts GTFS time string (e.g., '25:30:00') to datetime\n",
    "\tbased on the arrival time.\n",
    "\t'''\n",
    "\thours, minutes, seconds = map(int, stop_time.split(':'))\n",
    "\ttotal_seconds = hours * 3600 + minutes * 60 + seconds\n",
    "\n",
    "\tparsed_time = start_date + timedelta(seconds=total_seconds)\n",
    "\treturn parsed_time"
   ]
  },
  {
   "cell_type": "code",
   "execution_count": null,
   "id": "69cd48ca",
   "metadata": {},
   "outputs": [],
   "source": [
    "# Parse GTFS scheduled arrival and departure time\n",
    "parsed_arrival_time = stm_trips_df.apply(lambda row: parse_gtfs_time(row['start_date_dt'], row['arrival_time']), axis=1)\n",
    "parsed_departure_time = stm_trips_df.apply(lambda row: parse_gtfs_time(row['start_date_dt'], row['departure_time']), axis=1)"
   ]
  },
  {
   "cell_type": "code",
   "execution_count": null,
   "id": "c4a0c55e",
   "metadata": {},
   "outputs": [],
   "source": [
    "# Convert scheduled arrival and departure time to UTC datetime\n",
    "sch_arrival_time_local = parsed_arrival_time.dt.tz_localize(LOCAL_TIMEZONE)\n",
    "sch_departure_time_local = parsed_departure_time.dt.tz_localize(LOCAL_TIMEZONE)\n",
    "\n",
    "stm_trips_df['sch_arrival_time'] = sch_arrival_time_local.dt.tz_convert(timezone.utc)\n",
    "stm_trips_df['sch_departure_time'] = sch_departure_time_local.dt.tz_convert(timezone.utc)"
   ]
  },
  {
   "cell_type": "code",
   "execution_count": null,
   "id": "d851e5f2",
   "metadata": {},
   "outputs": [],
   "source": [
    "# Get rows where scheduled arrival and departure time are different\n",
    "stm_trips_df[stm_trips_df['sch_arrival_time'] != stm_trips_df['sch_departure_time']]"
   ]
  },
  {
   "cell_type": "code",
   "execution_count": null,
   "id": "efce3671",
   "metadata": {},
   "outputs": [],
   "source": [
    "# Replace 0 timestamps with NaN\n",
    "stm_trips_df['rt_arrival_time'] = stm_trips_df['rt_arrival_time'].replace({0: np.nan})\n",
    "stm_trips_df['rt_departure_time'] = stm_trips_df['rt_departure_time'].replace({0: np.nan})"
   ]
  },
  {
   "cell_type": "code",
   "execution_count": null,
   "id": "ef36a519",
   "metadata": {},
   "outputs": [],
   "source": [
    "# Get distribution of timestamps\n",
    "stm_trips_df[['rt_arrival_time', 'rt_departure_time']].describe()"
   ]
  },
  {
   "cell_type": "code",
   "execution_count": null,
   "id": "5a9960bc",
   "metadata": {},
   "outputs": [],
   "source": [
    "# Convert realtime arrival and departure time to UTC datetime\n",
    "stm_trips_df['rt_arrival_time'] = pd.to_datetime(stm_trips_df['rt_arrival_time'] * 1000, origin='unix', unit='ms', utc=True)\n",
    "stm_trips_df['rt_departure_time'] = pd.to_datetime(stm_trips_df['rt_departure_time'] * 1000, origin='unix', unit='ms', utc=True)"
   ]
  },
  {
   "cell_type": "code",
   "execution_count": null,
   "id": "019218a5",
   "metadata": {},
   "outputs": [],
   "source": [
    "# Calculate delay (realtime - scheduled)\n",
    "# For first stops, calculate with departure time\n",
    "# For the rest, calculate with arrival time\n",
    "stm_trips_df['delay'] = np.where(\n",
    "  \tstm_trips_df['stop_sequence'] == 1,\n",
    "\t(stm_trips_df['rt_departure_time'] - stm_trips_df['sch_departure_time']) / pd.Timedelta(seconds=1),\n",
    "  \t(stm_trips_df['rt_arrival_time'] - stm_trips_df['sch_arrival_time']) / pd.Timedelta(seconds=1)\n",
    ")"
   ]
  },
  {
   "cell_type": "code",
   "execution_count": null,
   "id": "c4b5a7b8",
   "metadata": {},
   "outputs": [],
   "source": [
    "# Get distribution\n",
    "stm_trips_df['delay'].describe()"
   ]
  },
  {
   "cell_type": "code",
   "execution_count": null,
   "id": "854cee45",
   "metadata": {},
   "outputs": [],
   "source": [
    "# Get null delays\n",
    "print(stm_trips_df['delay'].isna().sum())"
   ]
  },
  {
   "cell_type": "code",
   "execution_count": null,
   "id": "3d944b16",
   "metadata": {},
   "outputs": [],
   "source": [
    "# Replace the null delays with the average delay by route\n",
    "stm_trips_df['delay'] = stm_trips_df['delay'].fillna(stm_trips_df.groupby(['route_id'])['delay'].transform('mean'))"
   ]
  },
  {
   "cell_type": "code",
   "execution_count": null,
   "id": "a8115794",
   "metadata": {},
   "outputs": [],
   "source": [
    "assert stm_trips_df['delay'].isna().sum() == 0"
   ]
  },
  {
   "cell_type": "code",
   "execution_count": null,
   "id": "3e3e1b30",
   "metadata": {},
   "outputs": [],
   "source": [
    "stm_trips_df.columns"
   ]
  },
  {
   "cell_type": "code",
   "execution_count": null,
   "id": "749afa71",
   "metadata": {},
   "outputs": [],
   "source": [
    "# Remove extra datetime columns\n",
    "stm_trips_df = stm_trips_df.drop(['arrival_time', 'departure_time', 'start_date_dt'], axis=1)"
   ]
  },
  {
   "cell_type": "markdown",
   "id": "f4ff72f0",
   "metadata": {},
   "source": [
    "### Vehicle Positions"
   ]
  },
  {
   "cell_type": "code",
   "execution_count": null,
   "id": "4d2d3524",
   "metadata": {},
   "outputs": [],
   "source": [
    "# Get proportion of duplicates\n",
    "subset = positions_df.drop('current_time', axis=1).columns\n",
    "duplicate_mask = positions_df.duplicated(subset=subset)\n",
    "print(f'{duplicate_mask.mean():.2%}')"
   ]
  },
  {
   "cell_type": "code",
   "execution_count": null,
   "id": "5367c313",
   "metadata": {},
   "outputs": [],
   "source": [
    "# Drop duplicates\n",
    "positions_df = positions_df.drop_duplicates(subset=subset)"
   ]
  },
  {
   "cell_type": "code",
   "execution_count": null,
   "id": "066dbe06",
   "metadata": {},
   "outputs": [],
   "source": [
    "# Rename latitude and longitude\n",
    "positions_df = positions_df.rename(columns={\n",
    "  'latitude': 'vehicle_lat',\n",
    "  'longitude': 'vehicle_lon',\n",
    "  'status': 'vehicle_status',\n",
    "  'bearing': 'vehicle_bearing',\n",
    "  'speed': 'vehicle_speed',\n",
    "  'timestamp': 'vehicle_dt'\n",
    "})"
   ]
  },
  {
   "cell_type": "code",
   "execution_count": null,
   "id": "d236afc3",
   "metadata": {},
   "outputs": [],
   "source": [
    "# Merge positions\n",
    "stm_trips_positions_df = pd.merge(left=stm_trips_df, right=positions_df, how='inner', on=['trip_id', 'route_id', 'start_date', 'stop_sequence'])"
   ]
  },
  {
   "cell_type": "code",
   "execution_count": null,
   "id": "bde04d79",
   "metadata": {},
   "outputs": [],
   "source": [
    "stm_trips_positions_df.columns"
   ]
  },
  {
   "cell_type": "code",
   "execution_count": null,
   "id": "7bff4723",
   "metadata": {},
   "outputs": [],
   "source": [
    "# Drop current timestamps and start_date\n",
    "stm_trips_positions_df = stm_trips_positions_df.drop(['current_time_x', 'current_time_y', 'start_date'], axis=1)"
   ]
  },
  {
   "cell_type": "code",
   "execution_count": null,
   "id": "b8aa0884",
   "metadata": {},
   "outputs": [],
   "source": [
    "# Calculate distance between the vehicle and the current stop\n",
    "stm_trips_positions_df['vehicle_distance'] = stm_trips_positions_df.apply(\n",
    "  \tlambda row: haversine((row['vehicle_lat'], row['vehicle_lon']), (row['stop_lat'], row['stop_lon']), unit=Unit.METERS),\n",
    "  \taxis=1)"
   ]
  },
  {
   "cell_type": "code",
   "execution_count": null,
   "id": "20c9a94b",
   "metadata": {},
   "outputs": [],
   "source": [
    "stm_trips_positions_df['vehicle_distance'].describe()"
   ]
  },
  {
   "cell_type": "code",
   "execution_count": null,
   "id": "1dc49113",
   "metadata": {},
   "outputs": [],
   "source": [
    "further_than_previous_stop = stm_trips_positions_df['vehicle_distance'] > stm_trips_positions_df['stop_distance']\n",
    "stm_trips_positions_df[further_than_previous_stop]"
   ]
  },
  {
   "cell_type": "markdown",
   "id": "ff234bce",
   "metadata": {},
   "source": [
    "The large vehicle distances don't make sense with the delays. It will confuse the model so the coordinates and the distance won't be used."
   ]
  },
  {
   "cell_type": "code",
   "execution_count": null,
   "id": "4ec0d9e9",
   "metadata": {},
   "outputs": [],
   "source": [
    "# Drop unneeded columns\n",
    "stm_trips_positions_df = stm_trips_positions_df.drop(['vehicle_lat', 'vehicle_lon', 'vehicle_dt', 'vehicle_distance', 'start_time'], axis=1)"
   ]
  },
  {
   "cell_type": "markdown",
   "id": "d280b098",
   "metadata": {},
   "source": [
    "### Service Alerts"
   ]
  },
  {
   "cell_type": "code",
   "execution_count": null,
   "id": "6ef3365d",
   "metadata": {},
   "outputs": [],
   "source": [
    "# Get proportion of duplicates\n",
    "duplicate_mask = alerts_df.duplicated()\n",
    "print(f'{duplicate_mask.mean():.2%}')"
   ]
  },
  {
   "cell_type": "code",
   "execution_count": null,
   "id": "a5ba7ac7",
   "metadata": {},
   "outputs": [],
   "source": [
    "# Remove duplicates\n",
    "alerts_df = alerts_df.drop_duplicates().reset_index(drop=True)"
   ]
  },
  {
   "cell_type": "code",
   "execution_count": null,
   "id": "e8a67d6c",
   "metadata": {},
   "outputs": [],
   "source": [
    "# Convert timestamps to datetime\n",
    "alerts_df['start_time'] = pd.to_datetime(alerts_df['start_time'] * 1000, origin='unix', unit='ms', utc=True)\n",
    "alerts_df['end_time'] = pd.to_datetime(alerts_df['end_time'] * 1000, origin='unix', unit='ms', utc=True)"
   ]
  },
  {
   "cell_type": "code",
   "execution_count": null,
   "id": "3bed7a8a",
   "metadata": {},
   "outputs": [],
   "source": [
    "# Fill null end time with current date (assuming the alert is still active)\n",
    "alerts_df['end_time'] = alerts_df['end_time'].fillna(datetime.now(timezone.utc).replace(microsecond=0))"
   ]
  },
  {
   "cell_type": "code",
   "execution_count": null,
   "id": "bce83fcb",
   "metadata": {},
   "outputs": [],
   "source": [
    "# Sort values by date\n",
    "alerts_df = alerts_df.sort_values('start_time').reset_index()"
   ]
  },
  {
   "cell_type": "code",
   "execution_count": null,
   "id": "81a3bb50",
   "metadata": {},
   "outputs": [],
   "source": [
    "stm_df = pd.merge(left=stm_trips_positions_df, right=alerts_df, how='left', on=['route_id', 'stop_id'])"
   ]
  },
  {
   "cell_type": "code",
   "execution_count": null,
   "id": "d3bab171",
   "metadata": {},
   "outputs": [],
   "source": [
    "stm_df.columns"
   ]
  },
  {
   "cell_type": "code",
   "execution_count": null,
   "id": "a03ed87d",
   "metadata": {},
   "outputs": [],
   "source": [
    "# Add column has_alert\n",
    "has_alert_mask = (stm_df['start_time'].notna()) & \\\n",
    "\t(stm_df['rt_arrival_time'] >= stm_df['start_time']) & \\\n",
    "\t(stm_df['rt_arrival_time'] <= stm_df['end_time'])\n",
    "stm_df['stop_has_alert'] = has_alert_mask.astype('int64')"
   ]
  },
  {
   "cell_type": "code",
   "execution_count": null,
   "id": "770db1a8",
   "metadata": {},
   "outputs": [],
   "source": [
    "stm_df['stop_has_alert'].value_counts()"
   ]
  },
  {
   "cell_type": "code",
   "execution_count": null,
   "id": "4ecf18eb",
   "metadata": {},
   "outputs": [],
   "source": [
    "# Drop unneeded datetime columns and index\n",
    "stm_df = stm_df.drop(['start_time', 'end_time', 'index'], axis=1)"
   ]
  },
  {
   "cell_type": "markdown",
   "id": "7b431a68",
   "metadata": {},
   "source": [
    "### STM and Weather"
   ]
  },
  {
   "cell_type": "code",
   "execution_count": null,
   "id": "ad7f9e32",
   "metadata": {},
   "outputs": [],
   "source": [
    "# Convert time string to datetime\n",
    "time_dt = pd.to_datetime(weather_df['time'], utc=True)"
   ]
  },
  {
   "cell_type": "code",
   "execution_count": null,
   "id": "54317d78",
   "metadata": {},
   "outputs": [],
   "source": [
    "# Calculate dates for weather forecast\n",
    "last_day_weather = time_dt.max()\n",
    "start_date = last_day_weather + timedelta(days=1)\n",
    "end_date = stm_df['rt_arrival_time'].max()"
   ]
  },
  {
   "cell_type": "code",
   "execution_count": null,
   "id": "705c3caa",
   "metadata": {},
   "outputs": [],
   "source": [
    "# Fetch forecast weather\n",
    "start_date_str = start_date.strftime('%Y-%m-%d')\n",
    "end_date_str = end_date.strftime('%Y-%m-%d')\n",
    "\n",
    "forecast_list = fetch_weather(start_date=start_date_str, end_date=end_date_str, forecast=True)\n",
    "forecast_df = pd.DataFrame(forecast_list)"
   ]
  },
  {
   "cell_type": "code",
   "execution_count": null,
   "id": "a8a5858f",
   "metadata": {},
   "outputs": [],
   "source": [
    "# Merge archive and forecast weather\n",
    "weather_df = pd.concat([weather_df, forecast_df], ignore_index=True)"
   ]
  },
  {
   "cell_type": "code",
   "execution_count": null,
   "id": "c139f560",
   "metadata": {},
   "outputs": [],
   "source": [
    "# Round arrival time to the nearest hour\n",
    "rounded_arrival_dt = stm_df['rt_arrival_time'].dt.round('h')"
   ]
  },
  {
   "cell_type": "code",
   "execution_count": null,
   "id": "5d4d8333",
   "metadata": {},
   "outputs": [],
   "source": [
    "# Format time to match weather data\n",
    "stm_df['time'] = rounded_arrival_dt.dt.strftime('%Y-%m-%dT%H:%M')"
   ]
  },
  {
   "cell_type": "code",
   "execution_count": null,
   "id": "f2552f97",
   "metadata": {},
   "outputs": [],
   "source": [
    "# Merge STM with weather\n",
    "stm_weather_df = pd.merge(left=stm_df, right=weather_df, how='inner', on='time').drop('time', axis=1)"
   ]
  },
  {
   "cell_type": "markdown",
   "id": "fe11c074",
   "metadata": {},
   "source": [
    "### Traffic Data"
   ]
  },
  {
   "cell_type": "code",
   "execution_count": null,
   "id": "3ced7c04",
   "metadata": {},
   "outputs": [],
   "source": [
    "# Get proportion of duplicates\n",
    "duplicate_mask = traffic_df.duplicated()\n",
    "print(f'{duplicate_mask.mean():.2%}')"
   ]
  },
  {
   "cell_type": "code",
   "execution_count": null,
   "id": "4e69a875",
   "metadata": {},
   "outputs": [],
   "source": [
    "# Remove duplicates\n",
    "traffic_df = traffic_df.drop_duplicates(keep='last').reset_index()"
   ]
  },
  {
   "cell_type": "code",
   "execution_count": null,
   "id": "ede164f5",
   "metadata": {},
   "outputs": [],
   "source": [
    "# Convert traffic start_time and end_time to datetime\n",
    "traffic_df['start_time'] = pd.to_datetime(traffic_df['start_time'], utc=True)\n",
    "traffic_df['end_time'] = pd.to_datetime(traffic_df['end_time'], utc=True)"
   ]
  },
  {
   "cell_type": "code",
   "execution_count": null,
   "id": "d1c79ec6",
   "metadata": {},
   "outputs": [],
   "source": [
    "# Sort by date\n",
    "traffic_df = traffic_df.sort_values(by='start_time').reset_index()"
   ]
  },
  {
   "cell_type": "code",
   "execution_count": null,
   "id": "c2a61030",
   "metadata": {},
   "outputs": [],
   "source": [
    "# Fill null end times with current time (assuming the incident is still ongoing)\n",
    "traffic_df['end_time'] = traffic_df['end_time'].fillna(datetime.now(timezone.utc).replace(microsecond=0))\n",
    "assert traffic_df['end_time'].isna().sum() == 0"
   ]
  },
  {
   "cell_type": "code",
   "execution_count": null,
   "id": "a2f51d97",
   "metadata": {},
   "outputs": [],
   "source": [
    "# Build traffic cache (for every 15 min interval)\n",
    "def build_traffic_cache(traffic_df:pd.DataFrame) -> dict:\n",
    "\ttraffic_cache = {}\n",
    "\ttraffic_df['quarter_hour'] = traffic_df['start_time'].dt.floor('15min')\n",
    "\n",
    "\tfor (hour, group) in traffic_df.groupby('quarter_hour'):\n",
    "\t\ttraffic_cache[hour] = group.copy()\n",
    "\n",
    "\treturn traffic_cache"
   ]
  },
  {
   "cell_type": "markdown",
   "id": "f3850f2b",
   "metadata": {},
   "source": [
    "Since there are many trip updates on the same day (even the same hour), there's a risk of repeating the filtering of active traffic incidents for each trip individually, which takes a lot of time for a large dataset. Traffic incidents are stable over minutes or hours. This is why the incidents will be cached by 15 minute intervals."
   ]
  },
  {
   "cell_type": "code",
   "execution_count": null,
   "id": "e84143f7",
   "metadata": {},
   "outputs": [],
   "source": [
    "def calculate_nearby_incidents(trip_update:pd.Series, traffic_cache:dict, max_distance:int=500) -> pd.Series:\n",
    "\ttrip_datetime = trip_update['rt_arrival_time']\n",
    "\tstop_coords = (trip_update['stop_lat'], trip_update['stop_lon'])\n",
    "\n",
    "\ttrip_quarter_hour = trip_datetime.floor('15min')\n",
    "\n",
    "\t# Get cached incidents\n",
    "\tquarter_hour_incidents = traffic_cache.get(trip_quarter_hour)\n",
    "\n",
    "\t# Stop if there are no incidents for that hour\n",
    "\tif quarter_hour_incidents is None or quarter_hour_incidents.empty:\n",
    "\t\treturn pd.Series({\n",
    "\t\t\t'incident_nearby': 0,\n",
    "\t\t\t'nearest_incident_distance': None,\n",
    "\t\t\t'incident_category': None,\n",
    "\t\t\t'incident_delay': None,\n",
    "\t\t\t'incident_delay_magnitude': None\n",
    "\t\t})\n",
    "\n",
    "\t# Filter for active incidents at that trip hour\n",
    "\tactive_incidents = quarter_hour_incidents[\n",
    "\t\t(quarter_hour_incidents['start_time'] <= trip_datetime) &\n",
    "\t\t(quarter_hour_incidents['end_time'] >= trip_datetime)\n",
    "\t].copy()\n",
    "\n",
    "\tif active_incidents.empty:\n",
    "\t\treturn pd.Series({\n",
    "\t\t\t'incident_nearby': 0,\n",
    "\t\t\t'nearest_incident_distance': None,\n",
    "\t\t\t'incident_category': None,\n",
    "\t\t\t'incident_delay': None,\n",
    "\t\t\t'incident_delay_magnitude': None\n",
    "\t\t})\n",
    "\n",
    "\t# Calculate distance     \n",
    "\tactive_incidents['distance'] = active_incidents.apply(\n",
    "\t\tlambda row: haversine(stop_coords, (row['latitude'], row['longitude']), unit=Unit.METERS),\n",
    "\t\taxis=1\n",
    "\t)\n",
    "\n",
    "\t# Filter nearby\n",
    "\tnearby_incidents = active_incidents[active_incidents['distance'] <= max_distance]\n",
    "\n",
    "\tif nearby_incidents.empty:\n",
    "\t\treturn pd.Series({\n",
    "\t\t\t'incident_nearby': 0,\n",
    "\t\t\t'nearest_incident_distance': None,\n",
    "\t\t\t'incident_category': None,\n",
    "\t\t\t'incident_delay': None,\n",
    "\t\t\t'incident_delay_magnitude': None\n",
    "\t\t})\n",
    "\telse:\n",
    "\t\tnearest = nearby_incidents.loc[nearby_incidents['distance'].idxmin()]\n",
    "\t\treturn pd.Series({\n",
    "\t\t\t'incident_nearby': 1,\n",
    "\t\t\t'nearest_incident_distance': nearest['distance'],\n",
    "\t\t\t'incident_category': nearest['category'],\n",
    "\t\t\t'incident_delay': nearest['delay'],\n",
    "\t\t\t'incident_delay_magnitude': nearest['magnitude_of_delay']\n",
    "\t\t})"
   ]
  },
  {
   "cell_type": "code",
   "execution_count": null,
   "id": "fa13cf97",
   "metadata": {},
   "outputs": [],
   "source": [
    "# Get traffic columns (get incidents within 2 km)\n",
    "traffic_cache = build_traffic_cache(traffic_df)\n",
    "traffic_cols = stm_weather_df.apply(lambda row: calculate_nearby_incidents(row, traffic_cache, 2000), axis=1)"
   ]
  },
  {
   "cell_type": "markdown",
   "id": "70659ae4",
   "metadata": {},
   "source": [
    "General area traffic (within 1-2 km) could affect delays, even if it's not directly at the stop. This is why incidents within 2 km are calculated."
   ]
  },
  {
   "cell_type": "code",
   "execution_count": null,
   "id": "84f574b4",
   "metadata": {},
   "outputs": [],
   "source": [
    "# Merge the traffic\n",
    "df = pd.concat([stm_weather_df, traffic_cols], axis=1)"
   ]
  },
  {
   "cell_type": "markdown",
   "id": "54983bb1",
   "metadata": {},
   "source": [
    "## Clean Data"
   ]
  },
  {
   "cell_type": "markdown",
   "id": "429d203b",
   "metadata": {},
   "source": [
    "### Convert columns"
   ]
  },
  {
   "cell_type": "code",
   "execution_count": null,
   "id": "7b1ed74d",
   "metadata": {},
   "outputs": [],
   "source": [
    "# Get columns with two values\n",
    "two_values = df.loc[:, df.nunique() == 2]\n",
    "two_values.columns"
   ]
  },
  {
   "cell_type": "code",
   "execution_count": null,
   "id": "fa29aec8",
   "metadata": {},
   "outputs": [],
   "source": [
    "print(df['wheelchair_boarding'].value_counts())\n",
    "print(df['vehicle_status'].value_counts())\n",
    "print(df['incident_nearby'].value_counts())\n",
    "print(df['stop_has_alert'].value_counts())"
   ]
  },
  {
   "cell_type": "code",
   "execution_count": null,
   "id": "48fe1ce6",
   "metadata": {},
   "outputs": [],
   "source": [
    "# Convert columns with 2 unique values to integer\n",
    "df['wheelchair_boarding'] = (df['wheelchair_boarding'] == 1).astype('int64')\n",
    "df['vehicle_in_transit'] = (df['vehicle_status'] == 2).astype('int64')\n",
    "df['incident_nearby'] = df['incident_nearby'].astype('int64')"
   ]
  },
  {
   "cell_type": "markdown",
   "id": "576f7240",
   "metadata": {},
   "source": [
    "### Drop columns"
   ]
  },
  {
   "cell_type": "code",
   "execution_count": null,
   "id": "08f47649",
   "metadata": {},
   "outputs": [],
   "source": [
    "# Remove columns with constant values or with more than 50% missing values\n",
    "df = df.loc[:, (df.nunique() > 1) & (df.isna().mean() < 0.5)]\n",
    "df.columns"
   ]
  },
  {
   "cell_type": "markdown",
   "id": "a0efe3d1",
   "metadata": {},
   "source": [
    "**Other columns to drop**\n",
    "\n",
    "`stop_url`: An url is not useful for data analysis.<br>\n",
    "`vehicle_status`: It has been converted to vehicle_in_transit.<br>"
   ]
  },
  {
   "cell_type": "markdown",
   "id": "02f945fb",
   "metadata": {},
   "source": [
    "### Create Delay Categories"
   ]
  },
  {
   "cell_type": "code",
   "execution_count": null,
   "id": "d493de76",
   "metadata": {},
   "outputs": [],
   "source": [
    "df['delay'].describe()"
   ]
  },
  {
   "cell_type": "code",
   "execution_count": null,
   "id": "6c53d4cd",
   "metadata": {},
   "outputs": [],
   "source": [
    "# Create ranges and labels based on distribution\n",
    "labels = ['Very Early', 'Early', 'On Time', 'Late', 'Very Late']\n",
    "ranges = [-np.inf, -60, 0, 60, 300, np.inf]"
   ]
  },
  {
   "cell_type": "code",
   "execution_count": null,
   "id": "4d58c0b2",
   "metadata": {},
   "outputs": [],
   "source": [
    "# Add delay category column\n",
    "df['delay_class'] = pd.cut(df['delay'], bins=ranges, labels=labels, include_lowest=True, right=False)\n",
    "df['delay_class'].value_counts(normalize=True)"
   ]
  },
  {
   "cell_type": "markdown",
   "id": "f6f020a7",
   "metadata": {},
   "source": [
    "### Create Weather Categories"
   ]
  },
  {
   "cell_type": "code",
   "execution_count": null,
   "id": "accd96b8",
   "metadata": {},
   "outputs": [],
   "source": [
    "# Create weather code mapping\n",
    "weathercodes = df['weathercode'].sort_values().unique()\n",
    "condition_list = []\n",
    "label_list = []\n",
    "\n",
    "for code in weathercodes:\n",
    "  condition_list.append(df['weathercode'] == code)\n",
    "  label_list.append(WEATHER_CODES[code])"
   ]
  },
  {
   "cell_type": "code",
   "execution_count": null,
   "id": "51e5ebf9",
   "metadata": {},
   "outputs": [],
   "source": [
    "# Create categories\n",
    "df['weather'] = np.select(condition_list, label_list, default='Unknown')\n",
    "df['weather'].value_counts()"
   ]
  },
  {
   "cell_type": "markdown",
   "id": "6b6f1aca",
   "metadata": {},
   "source": [
    "### Convert Schedule Relationship to Categories"
   ]
  },
  {
   "cell_type": "code",
   "execution_count": null,
   "id": "b1ed6286",
   "metadata": {},
   "outputs": [],
   "source": [
    "# Create schedule relationship mapping\n",
    "sch_codes = df['schedule_relationship'].sort_values().unique()\n",
    "condition_list = []\n",
    "label_list = []\n",
    "\n",
    "for code in sch_codes:\n",
    "  condition_list.append(df['schedule_relationship'] == code)\n",
    "  label_list.append(SCHEDULE_RELATIONSHIP[code])"
   ]
  },
  {
   "cell_type": "code",
   "execution_count": null,
   "id": "b792bcf5",
   "metadata": {},
   "outputs": [],
   "source": [
    "# Create categories\n",
    "df['schedule_relationship'] = np.select(condition_list, label_list, default='Unknown')\n",
    "df['schedule_relationship'].value_counts()"
   ]
  },
  {
   "cell_type": "markdown",
   "id": "5394b58e",
   "metadata": {},
   "source": [
    "### Convert Occupancy Status to Categories"
   ]
  },
  {
   "cell_type": "code",
   "execution_count": null,
   "id": "53084d77",
   "metadata": {},
   "outputs": [],
   "source": [
    "# Create occupancy status mapping\n",
    "occ_codes = df['occupancy_status'].sort_values().unique()\n",
    "condition_list = []\n",
    "label_list = []\n",
    "\n",
    "for code in occ_codes:\n",
    "  condition_list.append(df['occupancy_status'] == code)\n",
    "  label_list.append(OCCUPANCY_STATUS[code])"
   ]
  },
  {
   "cell_type": "code",
   "execution_count": null,
   "id": "c40775e6",
   "metadata": {},
   "outputs": [],
   "source": [
    "# Create categories\n",
    "df['occupancy_status'] = np.select(condition_list, label_list, default='Unknown')\n",
    "df['occupancy_status'].value_counts()"
   ]
  },
  {
   "cell_type": "markdown",
   "id": "baf5b062",
   "metadata": {},
   "source": [
    "## Export Data"
   ]
  },
  {
   "cell_type": "code",
   "execution_count": null,
   "id": "51879280",
   "metadata": {},
   "outputs": [],
   "source": [
    "# Drop and reorder columns\n",
    "df = df[[\n",
    "\t'trip_id',\n",
    "  \t'vehicle_id',\n",
    "    'vehicle_in_transit', # converted\n",
    "    'vehicle_bearing',\n",
    "    'vehicle_speed',\n",
    "\t'occupancy_status',\n",
    "  \t'route_id',\n",
    "  \t'stop_id',\n",
    "    'stop_name',\n",
    "  \t'stop_lat',\n",
    "  \t'stop_lon',\n",
    "    'stop_distance', # engineered\n",
    "    'stop_sequence',\n",
    "  \t'trip_progress', # engineered\n",
    "    'stop_has_alert', # engineered\n",
    "  \t'wheelchair_boarding', # engineered\n",
    "    'schedule_relationship',\n",
    "  \t'rt_arrival_time', # parsed\n",
    "    'sch_arrival_time', # parsed\n",
    "    'rt_departure_time', # parsed\n",
    "    'sch_departure_time', # parsed\n",
    "    'delay', # engineered\n",
    "    'delay_class', # engineered\n",
    "  \t'temperature',\n",
    "  \t'precipitation',\n",
    "  \t'windspeed', \n",
    "\t'weather',\n",
    "  \t'incident_nearby', # engineered\n",
    "]]"
   ]
  },
  {
   "cell_type": "code",
   "execution_count": null,
   "id": "8eb537d7",
   "metadata": {},
   "outputs": [],
   "source": [
    "# Export data to CSV\n",
    "df.to_csv('../data/stm_weather_traffic_merged.csv', index=False)"
   ]
  },
  {
   "cell_type": "markdown",
   "id": "a3b33a1a",
   "metadata": {},
   "source": [
    "## End"
   ]
  }
 ],
 "metadata": {
  "kernelspec": {
   "display_name": "venv",
   "language": "python",
   "name": "python3"
  },
  "language_info": {
   "codemirror_mode": {
    "name": "ipython",
    "version": 3
   },
   "file_extension": ".py",
   "mimetype": "text/x-python",
   "name": "python",
   "nbconvert_exporter": "python",
   "pygments_lexer": "ipython3",
   "version": "3.13.3"
  }
 },
 "nbformat": 4,
 "nbformat_minor": 5
}
