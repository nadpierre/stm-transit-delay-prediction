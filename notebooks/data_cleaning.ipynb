{
 "cells": [
  {
   "cell_type": "markdown",
   "id": "056758cb",
   "metadata": {},
   "source": [
    "# STM Transit Delay Data Preparation"
   ]
  },
  {
   "cell_type": "markdown",
   "id": "e8706868",
   "metadata": {},
   "source": [
    "## Overview"
   ]
  },
  {
   "cell_type": "markdown",
   "id": "3d911d34",
   "metadata": {},
   "source": [
    "This notebook merges data from different sources and prepares it for data analysis and preprocessing."
   ]
  },
  {
   "cell_type": "markdown",
   "id": "a6bc184d",
   "metadata": {},
   "source": [
    "## Data description"
   ]
  },
  {
   "cell_type": "markdown",
   "id": "b7358fab",
   "metadata": {},
   "source": [
    "### Real-time Trip Updates"
   ]
  },
  {
   "cell_type": "markdown",
   "id": "d5c2ee8a",
   "metadata": {},
   "source": [
    "`current_time`: Timestamp when the data was fetched from the GTFS, in microseconds.<br>\n",
    "`trip_id`: Unique identifier for the transit trip.<br>\n",
    "`route_id`: Unique identifier for a bus or metro line.<br>\n",
    "`start_date`: Start date of the transit trip.<br>\n",
    "`stop_id`: Unique identifier of a stop.<br>\n",
    "`arrival_time`, `departure_time`: Realtime arrival and departure time, in microseconds<br>\n",
    "`schedule_relationship`: State of the trip, 0 meaning \"scheduled\", 1 meaning \"skipped\" and 2 meaning \"no data\"."
   ]
  },
  {
   "cell_type": "markdown",
   "id": "d28e04ef",
   "metadata": {},
   "source": [
    "### Scheduled STM Trips"
   ]
  },
  {
   "cell_type": "markdown",
   "id": "bb31f7ab",
   "metadata": {},
   "source": [
    "`trip_id`: Unique identifier for the transit trip.<br>\n",
    "`arrival_time`, `departure_time`: Scheduled arrival and departure time.<br>\n",
    "`stop_id`: Unique identifier of a stop.<br>\n",
    "`stop_sequence`: Sequence of a stop, for ordering."
   ]
  },
  {
   "cell_type": "markdown",
   "id": "bc749154",
   "metadata": {},
   "source": [
    "### STM Stops"
   ]
  },
  {
   "cell_type": "markdown",
   "id": "a40b660a",
   "metadata": {},
   "source": [
    "`stop_id`: Unique identifier of a stop.<br>\n",
    "`stop_code`: Bus stop or metro station number.<br>\n",
    "`stop_name`: Bus stop or metro station name<br>\n",
    "`stop_lat`, `stop_lon`: Stop coordinates.<br>\n",
    "`stop_url`: Stop web page.<br>\n",
    "`location_type`: Stop type.<br>\n",
    "`parent_station`: Parent station (metro station with multiple exits).<br>\n",
    "`wheelchair_boarding`: Indicates if the stop is accessible for people in wheelchair, 1 being true and 2 being false."
   ]
  },
  {
   "cell_type": "markdown",
   "id": "4608bc4a",
   "metadata": {},
   "source": [
    "### Real-time Vehicle Positions"
   ]
  },
  {
   "cell_type": "markdown",
   "id": "c11c6a01",
   "metadata": {},
   "source": [
    "`current_time`: Timestamp when the data was fetched from the GTFS, in microseconds.<br>\n",
    "`vehicle_id`: Unique identifier for a vehicle.<br>\n",
    "`trip_id`: Unique identifier for the transit trip.<br>\n",
    "`route_id`: Unique identifier for a bus or metro line.<br>\n",
    "`start_date`: Start date of a transit trip.<br>\n",
    "`start_time`: Start time of a transit trip.<br>\n",
    "`latitude`, `longitude`: Vehicle current position.<br>\n",
    "`bearing`: Direction that the vehicle is facing, from 0 to 360 degrees.<br>\n",
    "`speed`: Momentary speed measured by the vehicle, in meters per second.<br>\n",
    "`stop_sequence`: Sequence of a stop, for ordering.<br>\n",
    "`status`: Vehicle stop status in relation with a stop that it's currently approaching or is at, 1 being \"stopped at\" and 2 being \"in transit to\".<br>\n",
    "`timestamp`: Timestamp when STM updated the data, in milliseconds.<br>\n",
    "`occupancy_status`: Degree of passenger occupancy, ranging from 1 (empty) to 7 (not accepting passengers)."
   ]
  },
  {
   "cell_type": "markdown",
   "id": "cbdfe609",
   "metadata": {},
   "source": [
    "### Service Alerts"
   ]
  },
  {
   "cell_type": "markdown",
   "id": "fa2a8460",
   "metadata": {},
   "source": [
    "`start_time`: Start time of the alert, in microseconds.<br>\n",
    "`end_time`: End time of the alert, in microseconds.<br>\n",
    "`route_id`: Unique identifier for a bus or metro line.<br>\n",
    "`stop_id`: Unique identifier of a stop."
   ]
  },
  {
   "cell_type": "markdown",
   "id": "042db663",
   "metadata": {},
   "source": [
    "### Weather Archive and Forecast"
   ]
  },
  {
   "cell_type": "markdown",
   "id": "3ccfdc47",
   "metadata": {},
   "source": [
    "`time`: Date and hour or the weather.<br>\n",
    "`temperature`: Air temperature at 2 meters above ground, in Celsius.<br>\n",
    "`precipitation`: Total precipitation (rain, showers, snow) sum of the preceding hour, in millimeters.<br>\n",
    "`windspeed`: Wind speed at 10 meters above ground, in kilometers per hour.<br>\n",
    "`weathercode`: World Meteorological Organization (WMO) code, see [Open-Meteo API documentation](https://open-meteo.com/en/docs#weather_variable_documentation) for the list."
   ]
  },
  {
   "cell_type": "markdown",
   "id": "268c0ac0",
   "metadata": {},
   "source": [
    "### Traffic Incidents"
   ]
  },
  {
   "cell_type": "markdown",
   "id": "72e73a05",
   "metadata": {},
   "source": [
    "`category`: Category of the incident.<br>\n",
    "`start_time`: Start time of the incident, in ISO8601 format.<br>\n",
    "`end_time`: End time of the incident, in ISO8601 format.<br>\n",
    "`length`: Length of the incident in meters.<br>\n",
    "`delay`: Delay in seconds caused by the incident (except road closures).<br>\n",
    "`magnitude_of_delay`: Severity of the delay, ranging from 0 to 4 (minor to major).<br>\n",
    "`last_report_time`: Date when the last time the incident was reported,in ISO8601 format.<br>\n",
    "`latitude`, `longitude`: Coordinates of the incident."
   ]
  },
  {
   "cell_type": "markdown",
   "id": "3ca39527",
   "metadata": {},
   "source": [
    "## Imports"
   ]
  },
  {
   "cell_type": "code",
   "execution_count": 1,
   "id": "a0a7cafd",
   "metadata": {},
   "outputs": [],
   "source": [
    "from datetime import datetime, timedelta, timezone\n",
    "from haversine import haversine, Unit\n",
    "import numpy as np\n",
    "import pandas as pd\n",
    "import sys"
   ]
  },
  {
   "cell_type": "code",
   "execution_count": 2,
   "id": "faad2700",
   "metadata": {},
   "outputs": [],
   "source": [
    "# Import custom code\n",
    "sys.path.insert(0, '..')\n",
    "from scripts.custom_functions import fetch_weather, LOCAL_TIMEZONE"
   ]
  },
  {
   "cell_type": "code",
   "execution_count": 3,
   "id": "786cc667",
   "metadata": {},
   "outputs": [],
   "source": [
    "# Import data\n",
    "trips_df = pd.read_csv('../data/api/fetched_stm_trip_updates.csv', low_memory=False)\n",
    "schedules_df = pd.read_csv('../data/download/stop_times_2025-04-30.txt')\n",
    "stops_df = pd.read_csv('../data/download/stops_2025-04-30.txt')\n",
    "positions_df =  pd.read_csv('../data/api/fetched_stm_vehicle_positions.csv', low_memory=False)\n",
    "alerts_df = pd.read_csv('../data/api/fetched_stm_service_alerts.csv')\n",
    "weather_df = pd.read_csv('../data/api/fetched_historical_weather.csv')\n",
    "traffic_df = pd.read_csv('../data/api/fetched_traffic.csv')"
   ]
  },
  {
   "cell_type": "markdown",
   "id": "b3864f9b",
   "metadata": {},
   "source": [
    "## Merge Data"
   ]
  },
  {
   "cell_type": "markdown",
   "id": "026d79ac",
   "metadata": {},
   "source": [
    "### Schedules and stops"
   ]
  },
  {
   "cell_type": "code",
   "execution_count": 4,
   "id": "4434500e",
   "metadata": {},
   "outputs": [],
   "source": [
    "# Sort values by stop sequence\n",
    "schedules_df = schedules_df.sort_values(by=['trip_id', 'stop_sequence'])"
   ]
  },
  {
   "cell_type": "code",
   "execution_count": 5,
   "id": "c7baabb0",
   "metadata": {},
   "outputs": [],
   "source": [
    "# Reset stop sequences (some stops might be missing)\n",
    "schedules_df['stop_sequence'] = schedules_df.groupby('trip_id').cumcount() + 1"
   ]
  },
  {
   "cell_type": "code",
   "execution_count": 6,
   "id": "176567e5",
   "metadata": {},
   "outputs": [],
   "source": [
    "# Add trip progress (vehicles further along the trip are more likely to be delayed)\n",
    "total_stops = schedules_df.groupby('trip_id')['stop_id'].transform('count')\n",
    "schedules_df['trip_progress'] = schedules_df['stop_sequence'] / total_stops"
   ]
  },
  {
   "cell_type": "code",
   "execution_count": 7,
   "id": "e8adfad6",
   "metadata": {},
   "outputs": [
    {
     "data": {
      "text/plain": [
       "count    6.629625e+06\n",
       "mean     5.139220e-01\n",
       "std      2.887289e-01\n",
       "min      8.547009e-03\n",
       "25%      2.631579e-01\n",
       "50%      5.142857e-01\n",
       "75%      7.647059e-01\n",
       "max      1.000000e+00\n",
       "Name: trip_progress, dtype: float64"
      ]
     },
     "execution_count": 7,
     "metadata": {},
     "output_type": "execute_result"
    }
   ],
   "source": [
    "# Get distribution of trip progress\n",
    "schedules_df['trip_progress'].describe()"
   ]
  },
  {
   "cell_type": "code",
   "execution_count": 8,
   "id": "f856eb46",
   "metadata": {},
   "outputs": [],
   "source": [
    "# Merge schedules and stops\n",
    "schedules_stops_df = pd.merge(left=schedules_df, right=stops_df, how='inner', left_on='stop_id', right_on='stop_code')"
   ]
  },
  {
   "cell_type": "code",
   "execution_count": 9,
   "id": "a827a8b9",
   "metadata": {},
   "outputs": [
    {
     "data": {
      "text/plain": [
       "Index(['trip_id', 'arrival_time', 'departure_time', 'stop_id_x',\n",
       "       'stop_sequence', 'trip_progress', 'stop_id_y', 'stop_code', 'stop_name',\n",
       "       'stop_lat', 'stop_lon', 'stop_url', 'location_type', 'parent_station',\n",
       "       'wheelchair_boarding'],\n",
       "      dtype='object')"
      ]
     },
     "execution_count": 9,
     "metadata": {},
     "output_type": "execute_result"
    }
   ],
   "source": [
    "schedules_stops_df.columns"
   ]
  },
  {
   "cell_type": "code",
   "execution_count": 10,
   "id": "ba369991",
   "metadata": {},
   "outputs": [],
   "source": [
    "# Rename stop id and drop other stop id columns\n",
    "schedules_stops_df = schedules_stops_df.rename(columns={'stop_id_x': 'stop_id'})\n",
    "schedules_stops_df = schedules_stops_df.drop(['stop_id_y', 'stop_code'], axis=1)"
   ]
  },
  {
   "cell_type": "code",
   "execution_count": 11,
   "id": "bf47cb3c",
   "metadata": {},
   "outputs": [],
   "source": [
    "# Get coordinates of previous stop\n",
    "schedules_stops_df = schedules_stops_df.sort_values(by=['trip_id', 'stop_sequence'])\n",
    "schedules_stops_df['prev_lat'] = schedules_stops_df.groupby('trip_id')['stop_lat'].shift(1)\n",
    "schedules_stops_df['prev_lon'] = schedules_stops_df.groupby('trip_id')['stop_lon'].shift(1)"
   ]
  },
  {
   "cell_type": "code",
   "execution_count": 12,
   "id": "c44a7ef8",
   "metadata": {},
   "outputs": [],
   "source": [
    "# Make sure the null values are from first stops\n",
    "prev_null_mask = (schedules_stops_df['prev_lat'].isna()) | (schedules_stops_df['prev_lon'].isna())\n",
    "first_stop_mask = schedules_stops_df['stop_sequence'] == 1\n",
    "assert prev_null_mask.sum() == first_stop_mask.sum()"
   ]
  },
  {
   "cell_type": "code",
   "execution_count": 13,
   "id": "f9b0b6d7",
   "metadata": {},
   "outputs": [],
   "source": [
    "# Get distance from previous stop\n",
    "schedules_stops_df['stop_distance'] = schedules_stops_df.apply(\n",
    "  lambda row: haversine((row['prev_lat'], row['prev_lon']), (row['stop_lat'], row['stop_lon']), unit=Unit.METERS),\n",
    "  axis=1\n",
    ")"
   ]
  },
  {
   "cell_type": "code",
   "execution_count": 14,
   "id": "81aac6e6",
   "metadata": {},
   "outputs": [],
   "source": [
    "# Drop previous coordinates\n",
    "schedules_stops_df = schedules_stops_df.drop(['prev_lat', 'prev_lon'], axis=1)"
   ]
  },
  {
   "cell_type": "code",
   "execution_count": 15,
   "id": "ecd75d21",
   "metadata": {},
   "outputs": [],
   "source": [
    "# Replace null distances by zero (first stop of the trip)\n",
    "schedules_stops_df['stop_distance'] = schedules_stops_df['stop_distance'].fillna(0)"
   ]
  },
  {
   "cell_type": "code",
   "execution_count": 16,
   "id": "f7c9b09d",
   "metadata": {},
   "outputs": [
    {
     "data": {
      "text/plain": [
       "count    6.388741e+06\n",
       "mean     2.737270e+02\n",
       "std      4.968967e+02\n",
       "min      0.000000e+00\n",
       "25%      1.699571e+02\n",
       "50%      2.269746e+02\n",
       "75%      2.988377e+02\n",
       "max      1.376798e+04\n",
       "Name: stop_distance, dtype: float64"
      ]
     },
     "execution_count": 16,
     "metadata": {},
     "output_type": "execute_result"
    }
   ],
   "source": [
    "schedules_stops_df['stop_distance'].describe()"
   ]
  },
  {
   "cell_type": "code",
   "execution_count": 71,
   "id": "2069b73c",
   "metadata": {},
   "outputs": [
    {
     "data": {
      "text/plain": [
       "trip_id                                                  281377832\n",
       "arrival_time                                              05:33:00\n",
       "departure_time                                            05:33:00\n",
       "stop_id                                                      61261\n",
       "stop_sequence                                                   13\n",
       "trip_progress                                                  1.0\n",
       "stop_name                            YUL Aéroport Montréal-Trudeau\n",
       "stop_lat                                                 45.456622\n",
       "stop_lon                                                -73.751615\n",
       "stop_url               https://www.stm.info/fr/recherche#stq=61261\n",
       "location_type                                                    0\n",
       "parent_station                                                 NaN\n",
       "wheelchair_boarding                                              1\n",
       "stop_distance                                          13767.98028\n",
       "Name: 124692, dtype: object"
      ]
     },
     "execution_count": 71,
     "metadata": {},
     "output_type": "execute_result"
    }
   ],
   "source": [
    "# Get stop with largest distance\n",
    "schedules_stops_df.iloc[schedules_stops_df['stop_distance'].idxmax()]"
   ]
  },
  {
   "cell_type": "markdown",
   "id": "0f5e5b5a",
   "metadata": {},
   "source": [
    "After checking in the STM website, the large distance make sense because the bus stops before or after the airport are far away."
   ]
  },
  {
   "cell_type": "markdown",
   "id": "2ab97d0d",
   "metadata": {},
   "source": [
    "### Realtime and Scheduled Trips"
   ]
  },
  {
   "cell_type": "code",
   "execution_count": 17,
   "id": "344ab184",
   "metadata": {},
   "outputs": [],
   "source": [
    "# Convert route_id to integer\n",
    "trips_df['route_id'] = trips_df['route_id'].str.extract(r'(\\d+)')\n",
    "trips_df['route_id'] = trips_df['route_id'].astype('int64')"
   ]
  },
  {
   "cell_type": "code",
   "execution_count": 18,
   "id": "f63e2705",
   "metadata": {},
   "outputs": [],
   "source": [
    "# Sort trips\n",
    "trips_df = trips_df.sort_values(by=['current_time', 'trip_id', 'route_id', 'arrival_time'])"
   ]
  },
  {
   "cell_type": "code",
   "execution_count": 19,
   "id": "737976cb",
   "metadata": {},
   "outputs": [
    {
     "name": "stdout",
     "output_type": "stream",
     "text": [
      "26.00%\n"
     ]
    }
   ],
   "source": [
    "# Get proportion of duplicates\n",
    "subset = ['start_date', 'trip_id', 'route_id', 'stop_id']\n",
    "duplicate_mask = trips_df.duplicated(subset=subset)\n",
    "print(f'{duplicate_mask.mean():.2%}')"
   ]
  },
  {
   "cell_type": "code",
   "execution_count": 20,
   "id": "7805dc80",
   "metadata": {},
   "outputs": [],
   "source": [
    "# Remove duplicates\n",
    "trips_df = trips_df.drop_duplicates(subset=subset, keep='last') # keep latest update"
   ]
  },
  {
   "cell_type": "code",
   "execution_count": 21,
   "id": "81c783bd",
   "metadata": {},
   "outputs": [],
   "source": [
    "# Rename arrival and departure time\n",
    "trips_df = trips_df.rename(columns={'arrival_time': 'rt_arrival_time','departure_time': 'rt_departure_time'})"
   ]
  },
  {
   "cell_type": "code",
   "execution_count": 22,
   "id": "38b0d876",
   "metadata": {},
   "outputs": [],
   "source": [
    "# Merge trip updates with schedule\n",
    "stm_trips_df = pd.merge(left=trips_df, right=schedules_stops_df, how='inner', on=['trip_id', 'stop_id'])"
   ]
  },
  {
   "cell_type": "code",
   "execution_count": 23,
   "id": "6b3231d1",
   "metadata": {},
   "outputs": [
    {
     "data": {
      "text/plain": [
       "Index(['current_time', 'trip_id', 'route_id', 'start_date', 'stop_id',\n",
       "       'rt_arrival_time', 'rt_departure_time', 'schedule_relationship',\n",
       "       'arrival_time', 'departure_time', 'stop_sequence', 'trip_progress',\n",
       "       'stop_name', 'stop_lat', 'stop_lon', 'stop_url', 'location_type',\n",
       "       'parent_station', 'wheelchair_boarding', 'stop_distance'],\n",
       "      dtype='object')"
      ]
     },
     "execution_count": 23,
     "metadata": {},
     "output_type": "execute_result"
    }
   ],
   "source": [
    "stm_trips_df.columns"
   ]
  },
  {
   "cell_type": "code",
   "execution_count": null,
   "id": "7e78e8ff",
   "metadata": {},
   "outputs": [],
   "source": [
    "# Convert start_date to datetime\n",
    "stm_trips_df['start_date'] = pd.to_datetime(stm_trips_df['start_date'], format='%Y%m%d')"
   ]
  },
  {
   "cell_type": "code",
   "execution_count": 25,
   "id": "0cda96f4",
   "metadata": {},
   "outputs": [],
   "source": [
    "def parse_gtfs_time(start_date:pd.Timestamp, stop_time:str) -> pd.Timestamp:\n",
    "\t'''\n",
    "\tConverts GTFS time string (e.g., '25:30:00') to datetime\n",
    "\tbased on the arrival time.\n",
    "\t'''\n",
    "\thours, minutes, seconds = map(int, stop_time.split(':'))\n",
    "\ttotal_seconds = hours * 3600 + minutes * 60 + seconds\n",
    "\n",
    "\tparsed_time = start_date + timedelta(seconds=total_seconds)\n",
    "\treturn parsed_time"
   ]
  },
  {
   "cell_type": "code",
   "execution_count": null,
   "id": "69cd48ca",
   "metadata": {},
   "outputs": [],
   "source": [
    "# Parse GTFS scheduled arrival and departure time\n",
    "arrival_parsed_time = stm_trips_df.apply(lambda row: parse_gtfs_time(row['start_date'], row['arrival_time']), axis=1)\n",
    "departure_parsed_time = stm_trips_df.apply(lambda row: parse_gtfs_time(row['start_date'], row['departure_time']), axis=1)"
   ]
  },
  {
   "cell_type": "code",
   "execution_count": 27,
   "id": "c4a0c55e",
   "metadata": {},
   "outputs": [],
   "source": [
    "# Convert scheduled arrival and departure time to UTC datetime\n",
    "sch_arrival_time_local = arrival_parsed_time.dt.tz_localize(LOCAL_TIMEZONE)\n",
    "sch_departure_time_local = departure_parsed_time.dt.tz_localize(LOCAL_TIMEZONE)\n",
    "\n",
    "stm_trips_df['sch_arrival_time'] = sch_arrival_time_local.dt.tz_convert(timezone.utc)\n",
    "stm_trips_df['sch_departure_time'] = sch_departure_time_local.dt.tz_convert(timezone.utc)"
   ]
  },
  {
   "cell_type": "code",
   "execution_count": 28,
   "id": "5a9960bc",
   "metadata": {},
   "outputs": [],
   "source": [
    "# Convert realtime arrival and departure time to UTC datetime\n",
    "stm_trips_df['rt_arrival_time'] = pd.to_datetime(stm_trips_df['rt_arrival_time'] * 1000, origin='unix', unit='ms', utc=True)\n",
    "stm_trips_df['rt_departure_time'] = pd.to_datetime(stm_trips_df['rt_departure_time'] * 1000, origin='unix', unit='ms', utc=True)"
   ]
  },
  {
   "cell_type": "code",
   "execution_count": 29,
   "id": "52efbb53",
   "metadata": {},
   "outputs": [
    {
     "data": {
      "application/vnd.microsoft.datawrangler.viewer.v0+json": {
       "columns": [
        {
         "name": "index",
         "rawType": "object",
         "type": "string"
        },
        {
         "name": "rt_arrival_time",
         "rawType": "object",
         "type": "unknown"
        },
        {
         "name": "rt_departure_time",
         "rawType": "object",
         "type": "unknown"
        }
       ],
       "conversionMethod": "pd.DataFrame",
       "ref": "7ecee162-31c5-43ef-8c34-fa6679959e8d",
       "rows": [
        [
         "count",
         "3284232",
         "3284232"
        ],
        [
         "mean",
         "2022-03-08 04:01:17.207861504+00:00",
         "2022-01-26 23:57:51.159273216+00:00"
        ],
        [
         "min",
         "1970-01-01 00:00:00+00:00",
         "1970-01-01 00:00:00+00:00"
        ],
        [
         "25%",
         "2025-04-29 03:10:48+00:00",
         "2025-04-29 02:51:21+00:00"
        ],
        [
         "50%",
         "2025-04-30 15:45:49.500000+00:00",
         "2025-04-30 15:37:00+00:00"
        ],
        [
         "75%",
         "2025-05-02 01:55:00+00:00",
         "2025-05-02 01:49:00+00:00"
        ],
        [
         "max",
         "2025-05-03 19:04:00+00:00",
         "2025-05-03 19:00:00+00:00"
        ]
       ],
       "shape": {
        "columns": 2,
        "rows": 7
       }
      },
      "text/html": [
       "<div>\n",
       "<style scoped>\n",
       "    .dataframe tbody tr th:only-of-type {\n",
       "        vertical-align: middle;\n",
       "    }\n",
       "\n",
       "    .dataframe tbody tr th {\n",
       "        vertical-align: top;\n",
       "    }\n",
       "\n",
       "    .dataframe thead th {\n",
       "        text-align: right;\n",
       "    }\n",
       "</style>\n",
       "<table border=\"1\" class=\"dataframe\">\n",
       "  <thead>\n",
       "    <tr style=\"text-align: right;\">\n",
       "      <th></th>\n",
       "      <th>rt_arrival_time</th>\n",
       "      <th>rt_departure_time</th>\n",
       "    </tr>\n",
       "  </thead>\n",
       "  <tbody>\n",
       "    <tr>\n",
       "      <th>count</th>\n",
       "      <td>3284232</td>\n",
       "      <td>3284232</td>\n",
       "    </tr>\n",
       "    <tr>\n",
       "      <th>mean</th>\n",
       "      <td>2022-03-08 04:01:17.207861504+00:00</td>\n",
       "      <td>2022-01-26 23:57:51.159273216+00:00</td>\n",
       "    </tr>\n",
       "    <tr>\n",
       "      <th>min</th>\n",
       "      <td>1970-01-01 00:00:00+00:00</td>\n",
       "      <td>1970-01-01 00:00:00+00:00</td>\n",
       "    </tr>\n",
       "    <tr>\n",
       "      <th>25%</th>\n",
       "      <td>2025-04-29 03:10:48+00:00</td>\n",
       "      <td>2025-04-29 02:51:21+00:00</td>\n",
       "    </tr>\n",
       "    <tr>\n",
       "      <th>50%</th>\n",
       "      <td>2025-04-30 15:45:49.500000+00:00</td>\n",
       "      <td>2025-04-30 15:37:00+00:00</td>\n",
       "    </tr>\n",
       "    <tr>\n",
       "      <th>75%</th>\n",
       "      <td>2025-05-02 01:55:00+00:00</td>\n",
       "      <td>2025-05-02 01:49:00+00:00</td>\n",
       "    </tr>\n",
       "    <tr>\n",
       "      <th>max</th>\n",
       "      <td>2025-05-03 19:04:00+00:00</td>\n",
       "      <td>2025-05-03 19:00:00+00:00</td>\n",
       "    </tr>\n",
       "  </tbody>\n",
       "</table>\n",
       "</div>"
      ],
      "text/plain": [
       "                           rt_arrival_time  \\\n",
       "count                              3284232   \n",
       "mean   2022-03-08 04:01:17.207861504+00:00   \n",
       "min              1970-01-01 00:00:00+00:00   \n",
       "25%              2025-04-29 03:10:48+00:00   \n",
       "50%       2025-04-30 15:45:49.500000+00:00   \n",
       "75%              2025-05-02 01:55:00+00:00   \n",
       "max              2025-05-03 19:04:00+00:00   \n",
       "\n",
       "                         rt_departure_time  \n",
       "count                              3284232  \n",
       "mean   2022-01-26 23:57:51.159273216+00:00  \n",
       "min              1970-01-01 00:00:00+00:00  \n",
       "25%              2025-04-29 02:51:21+00:00  \n",
       "50%              2025-04-30 15:37:00+00:00  \n",
       "75%              2025-05-02 01:49:00+00:00  \n",
       "max              2025-05-03 19:00:00+00:00  "
      ]
     },
     "execution_count": 29,
     "metadata": {},
     "output_type": "execute_result"
    }
   ],
   "source": [
    "# Get distribution of realtime timestamps\n",
    "stm_trips_df[['rt_arrival_time', 'rt_departure_time']].describe()"
   ]
  },
  {
   "cell_type": "code",
   "execution_count": 30,
   "id": "18fa2574",
   "metadata": {},
   "outputs": [],
   "source": [
    "# The 0 timestamps have been replaced with 1970-01-01 \n",
    "zero_arrival_time = stm_trips_df['rt_arrival_time'].dt.year == 1970\n",
    "zero_departure_time = stm_trips_df['rt_departure_time'].dt.year == 1970\n",
    "first_stop = stm_trips_df['stop_sequence'] == 1\n",
    "last_stop = stm_trips_df['trip_progress'] == 1"
   ]
  },
  {
   "cell_type": "code",
   "execution_count": 31,
   "id": "65e33e64",
   "metadata": {},
   "outputs": [],
   "source": [
    "# For first stops, replace 0 departure time with scheduled time\n",
    "stm_trips_df.loc[(first_stop & zero_departure_time), 'rt_departure_time'] = stm_trips_df.loc[(first_stop & zero_departure_time), 'sch_departure_time']"
   ]
  },
  {
   "cell_type": "code",
   "execution_count": 32,
   "id": "3ae7c7de",
   "metadata": {},
   "outputs": [],
   "source": [
    "# For last stops, replace 0 arrival time with scheduled time\n",
    "stm_trips_df.loc[(last_stop & zero_arrival_time), 'rt_arrival_time'] = stm_trips_df.loc[(last_stop & zero_arrival_time), 'sch_arrival_time']"
   ]
  },
  {
   "cell_type": "code",
   "execution_count": 33,
   "id": "14a29d41",
   "metadata": {},
   "outputs": [],
   "source": [
    "# For other stops, replace 0 arrival time with scheduled time\n",
    "stm_trips_df.loc[(~first_stop & ~last_stop & zero_arrival_time), 'rt_arrival_time'] = \\\n",
    "\tstm_trips_df.loc[(~first_stop & ~last_stop & zero_arrival_time), 'sch_arrival_time']"
   ]
  },
  {
   "cell_type": "code",
   "execution_count": 34,
   "id": "019218a5",
   "metadata": {},
   "outputs": [],
   "source": [
    "# Calculate delay (realtime - scheduled)\n",
    "# For first stops, calculate with departure time\n",
    "# For the rest, calculate with arrival time\n",
    "stm_trips_df['delay'] = np.where(\n",
    "  \tstm_trips_df['stop_sequence'] == 1,\n",
    "\t(stm_trips_df['rt_departure_time'] - stm_trips_df['sch_departure_time']) / pd.Timedelta(seconds=1),\n",
    "  \t(stm_trips_df['rt_arrival_time'] - stm_trips_df['sch_arrival_time']) / pd.Timedelta(seconds=1)\n",
    ")"
   ]
  },
  {
   "cell_type": "code",
   "execution_count": 35,
   "id": "c4b5a7b8",
   "metadata": {},
   "outputs": [
    {
     "data": {
      "text/plain": [
       "count    3.284232e+06\n",
       "mean     7.361182e+01\n",
       "std      4.869304e+02\n",
       "min     -1.359200e+04\n",
       "25%      0.000000e+00\n",
       "50%      0.000000e+00\n",
       "75%      2.800000e+01\n",
       "max      5.458500e+04\n",
       "Name: delay, dtype: float64"
      ]
     },
     "execution_count": 35,
     "metadata": {},
     "output_type": "execute_result"
    }
   ],
   "source": [
    "# Get distribution\n",
    "stm_trips_df['delay'].describe()"
   ]
  },
  {
   "cell_type": "code",
   "execution_count": 36,
   "id": "3e3e1b30",
   "metadata": {},
   "outputs": [
    {
     "data": {
      "text/plain": [
       "Index(['current_time', 'trip_id', 'route_id', 'start_date', 'stop_id',\n",
       "       'rt_arrival_time', 'rt_departure_time', 'schedule_relationship',\n",
       "       'arrival_time', 'departure_time', 'stop_sequence', 'trip_progress',\n",
       "       'stop_name', 'stop_lat', 'stop_lon', 'stop_url', 'location_type',\n",
       "       'parent_station', 'wheelchair_boarding', 'stop_distance',\n",
       "       'start_date_dt', 'sch_arrival_time', 'sch_departure_time', 'delay'],\n",
       "      dtype='object')"
      ]
     },
     "execution_count": 36,
     "metadata": {},
     "output_type": "execute_result"
    }
   ],
   "source": [
    "stm_trips_df.columns"
   ]
  },
  {
   "cell_type": "code",
   "execution_count": 37,
   "id": "749afa71",
   "metadata": {},
   "outputs": [],
   "source": [
    "# Remove extra datetime columns\n",
    "stm_trips_df = stm_trips_df.drop(['arrival_time', 'departure_time'], axis=1)"
   ]
  },
  {
   "cell_type": "markdown",
   "id": "f4ff72f0",
   "metadata": {},
   "source": [
    "### Vehicle Positions"
   ]
  },
  {
   "cell_type": "code",
   "execution_count": 38,
   "id": "066dbe06",
   "metadata": {},
   "outputs": [],
   "source": [
    "# Rename latitude and longitude\n",
    "positions_df = positions_df.rename(columns={\n",
    "  'latitude': 'vehicle_lat',\n",
    "  'longitude': 'vehicle_lon',\n",
    "  'status': 'vehicle_status',\n",
    "  'bearing': 'vehicle_bearing',\n",
    "  'speed': 'vehicle_speed',\n",
    "  'timestamp': 'vehicle_dt'\n",
    "})"
   ]
  },
  {
   "cell_type": "code",
   "execution_count": 39,
   "id": "31b34252",
   "metadata": {},
   "outputs": [],
   "source": [
    "# Convert vehicle timestamp to datetime\n",
    "positions_df['vehicle_dt'] = pd.to_datetime(positions_df['vehicle_dt'] * 1000, origin='unix', unit='ms', utc=True)"
   ]
  },
  {
   "cell_type": "code",
   "execution_count": null,
   "id": "5c7fc87e",
   "metadata": {},
   "outputs": [],
   "source": [
    "# Sort values\n",
    "subset = ['trip_id', 'route_id', 'start_date', 'stop_sequence']\n",
    "positions_df = positions_df.sort_values(by=subset)"
   ]
  },
  {
   "cell_type": "code",
   "execution_count": 41,
   "id": "ff90a39f",
   "metadata": {},
   "outputs": [
    {
     "name": "stdout",
     "output_type": "stream",
     "text": [
      "26.00%\n"
     ]
    }
   ],
   "source": [
    "# Get proportion of duplicates\n",
    "print(f'{duplicate_mask.mean():.2%}')"
   ]
  },
  {
   "cell_type": "code",
   "execution_count": 42,
   "id": "b2e259b1",
   "metadata": {},
   "outputs": [],
   "source": [
    "# Remove duplicates\n",
    "positions_df = positions_df.drop_duplicates(subset=subset) # keep latest updates"
   ]
  },
  {
   "cell_type": "code",
   "execution_count": 43,
   "id": "d236afc3",
   "metadata": {},
   "outputs": [],
   "source": [
    "# Merge positions\n",
    "stm_trips_positions_df = pd.merge(left=stm_trips_df, right=positions_df, how='inner', on=['trip_id', 'route_id', 'start_date', 'stop_sequence'])"
   ]
  },
  {
   "cell_type": "code",
   "execution_count": 44,
   "id": "bde04d79",
   "metadata": {},
   "outputs": [
    {
     "data": {
      "text/plain": [
       "Index(['current_time_x', 'trip_id', 'route_id', 'start_date', 'stop_id',\n",
       "       'rt_arrival_time', 'rt_departure_time', 'schedule_relationship',\n",
       "       'stop_sequence', 'trip_progress', 'stop_name', 'stop_lat', 'stop_lon',\n",
       "       'stop_url', 'location_type', 'parent_station', 'wheelchair_boarding',\n",
       "       'stop_distance', 'start_date_dt', 'sch_arrival_time',\n",
       "       'sch_departure_time', 'delay', 'current_time_y', 'vehicle_id',\n",
       "       'start_time', 'vehicle_lat', 'vehicle_lon', 'vehicle_bearing',\n",
       "       'vehicle_speed', 'vehicle_status', 'vehicle_dt', 'occupancy_status'],\n",
       "      dtype='object')"
      ]
     },
     "execution_count": 44,
     "metadata": {},
     "output_type": "execute_result"
    }
   ],
   "source": [
    "stm_trips_positions_df.columns"
   ]
  },
  {
   "cell_type": "code",
   "execution_count": null,
   "id": "7bff4723",
   "metadata": {},
   "outputs": [],
   "source": [
    "# Drop current timestamps and start_date\n",
    "stm_trips_positions_df = stm_trips_positions_df.drop(['current_time_x', 'current_time_y', 'start_date'], axis=1)"
   ]
  },
  {
   "cell_type": "code",
   "execution_count": 46,
   "id": "b8aa0884",
   "metadata": {},
   "outputs": [],
   "source": [
    "# Calculate distance between the vehicle and the current stop\n",
    "stm_trips_positions_df['vehicle_distance'] = stm_trips_positions_df.apply(\n",
    "  \tlambda row: haversine((row['vehicle_lat'], row['vehicle_lon']), (row['stop_lat'], row['stop_lon']), unit=Unit.METERS),\n",
    "  \taxis=1)"
   ]
  },
  {
   "cell_type": "code",
   "execution_count": 67,
   "id": "20c9a94b",
   "metadata": {},
   "outputs": [
    {
     "data": {
      "text/plain": [
       "count    245388.000000\n",
       "mean        334.559013\n",
       "std        1272.973515\n",
       "min           0.021027\n",
       "25%           7.547791\n",
       "50%         105.898779\n",
       "75%         235.719620\n",
       "max       19654.634122\n",
       "Name: vehicle_distance, dtype: float64"
      ]
     },
     "execution_count": 67,
     "metadata": {},
     "output_type": "execute_result"
    }
   ],
   "source": [
    "stm_trips_positions_df['vehicle_distance'].describe()"
   ]
  },
  {
   "cell_type": "code",
   "execution_count": 69,
   "id": "b8e269c5",
   "metadata": {},
   "outputs": [
    {
     "data": {
      "application/vnd.microsoft.datawrangler.viewer.v0+json": {
       "columns": [
        {
         "name": "index",
         "rawType": "object",
         "type": "string"
        },
        {
         "name": "vehicle_distance",
         "rawType": "float64",
         "type": "float"
        },
        {
         "name": "delay",
         "rawType": "float64",
         "type": "float"
        }
       ],
       "conversionMethod": "pd.DataFrame",
       "ref": "7a6ff2bf-f904-45ec-813a-d046708fa310",
       "rows": [
        [
         "count",
         "50.0",
         "50.0"
        ],
        [
         "mean",
         "14557.664383729929",
         "31.06"
        ],
        [
         "std",
         "1391.6311553608211",
         "112.98174134589634"
        ],
        [
         "min",
         "13913.765171880064",
         "-175.0"
        ],
        [
         "25%",
         "13966.810660225692",
         "0.0"
        ],
        [
         "50%",
         "14001.017505499036",
         "0.0"
        ],
        [
         "75%",
         "14042.498182647376",
         "0.0"
        ],
        [
         "max",
         "19654.63412215293",
         "528.0"
        ]
       ],
       "shape": {
        "columns": 2,
        "rows": 8
       }
      },
      "text/html": [
       "<div>\n",
       "<style scoped>\n",
       "    .dataframe tbody tr th:only-of-type {\n",
       "        vertical-align: middle;\n",
       "    }\n",
       "\n",
       "    .dataframe tbody tr th {\n",
       "        vertical-align: top;\n",
       "    }\n",
       "\n",
       "    .dataframe thead th {\n",
       "        text-align: right;\n",
       "    }\n",
       "</style>\n",
       "<table border=\"1\" class=\"dataframe\">\n",
       "  <thead>\n",
       "    <tr style=\"text-align: right;\">\n",
       "      <th></th>\n",
       "      <th>vehicle_distance</th>\n",
       "      <th>delay</th>\n",
       "    </tr>\n",
       "  </thead>\n",
       "  <tbody>\n",
       "    <tr>\n",
       "      <th>count</th>\n",
       "      <td>50.000000</td>\n",
       "      <td>50.000000</td>\n",
       "    </tr>\n",
       "    <tr>\n",
       "      <th>mean</th>\n",
       "      <td>14557.664384</td>\n",
       "      <td>31.060000</td>\n",
       "    </tr>\n",
       "    <tr>\n",
       "      <th>std</th>\n",
       "      <td>1391.631155</td>\n",
       "      <td>112.981741</td>\n",
       "    </tr>\n",
       "    <tr>\n",
       "      <th>min</th>\n",
       "      <td>13913.765172</td>\n",
       "      <td>-175.000000</td>\n",
       "    </tr>\n",
       "    <tr>\n",
       "      <th>25%</th>\n",
       "      <td>13966.810660</td>\n",
       "      <td>0.000000</td>\n",
       "    </tr>\n",
       "    <tr>\n",
       "      <th>50%</th>\n",
       "      <td>14001.017505</td>\n",
       "      <td>0.000000</td>\n",
       "    </tr>\n",
       "    <tr>\n",
       "      <th>75%</th>\n",
       "      <td>14042.498183</td>\n",
       "      <td>0.000000</td>\n",
       "    </tr>\n",
       "    <tr>\n",
       "      <th>max</th>\n",
       "      <td>19654.634122</td>\n",
       "      <td>528.000000</td>\n",
       "    </tr>\n",
       "  </tbody>\n",
       "</table>\n",
       "</div>"
      ],
      "text/plain": [
       "       vehicle_distance       delay\n",
       "count         50.000000   50.000000\n",
       "mean       14557.664384   31.060000\n",
       "std         1391.631155  112.981741\n",
       "min        13913.765172 -175.000000\n",
       "25%        13966.810660    0.000000\n",
       "50%        14001.017505    0.000000\n",
       "75%        14042.498183    0.000000\n",
       "max        19654.634122  528.000000"
      ]
     },
     "execution_count": 69,
     "metadata": {},
     "output_type": "execute_result"
    }
   ],
   "source": [
    "# Get rows with largest distance\n",
    "stm_trips_positions_df.nlargest(n=50, columns='vehicle_distance')[['vehicle_distance', 'delay']].describe()"
   ]
  },
  {
   "cell_type": "markdown",
   "id": "ff234bce",
   "metadata": {},
   "source": [
    "The large vehicle distances don't make sense with the delays. It will confuse the model so the coordinates and the distance won't be used."
   ]
  },
  {
   "cell_type": "code",
   "execution_count": 76,
   "id": "1c45d580",
   "metadata": {},
   "outputs": [],
   "source": [
    "# Replace the vehicle speed to 0 if the vehicle is stopped\n",
    "stm_trips_positions_df.loc[stm_trips_positions_df['vehicle_status'] == 1, 'vehicle_speed'] = 0"
   ]
  },
  {
   "cell_type": "code",
   "execution_count": null,
   "id": "4ec0d9e9",
   "metadata": {},
   "outputs": [],
   "source": [
    "# Drop unneeded columns\n",
    "stm_trips_positions_df = stm_trips_positions_df.drop(['vehicle_lat', 'vehicle_lon', 'vehicle_dt', 'vehicle_distance'], axis=1)"
   ]
  },
  {
   "cell_type": "markdown",
   "id": "d280b098",
   "metadata": {},
   "source": [
    "### Service Alerts"
   ]
  },
  {
   "cell_type": "code",
   "execution_count": 77,
   "id": "6ef3365d",
   "metadata": {},
   "outputs": [
    {
     "name": "stdout",
     "output_type": "stream",
     "text": [
      "62.65%\n"
     ]
    }
   ],
   "source": [
    "# Get proportion of duplicates\n",
    "duplicate_mask = alerts_df.duplicated()\n",
    "print(f'{duplicate_mask.mean():.2%}')"
   ]
  },
  {
   "cell_type": "code",
   "execution_count": 78,
   "id": "a5ba7ac7",
   "metadata": {},
   "outputs": [],
   "source": [
    "# Remove duplicates\n",
    "alerts_df = alerts_df.drop_duplicates()"
   ]
  },
  {
   "cell_type": "code",
   "execution_count": 79,
   "id": "e8a67d6c",
   "metadata": {},
   "outputs": [],
   "source": [
    "# Convert timestamps to datetime\n",
    "alerts_df['start_time'] = pd.to_datetime(alerts_df['start_time'] * 1000, origin='unix', unit='ms', utc=True)\n",
    "alerts_df['end_time'] = pd.to_datetime(alerts_df['end_time'] * 1000, origin='unix', unit='ms', utc=True)"
   ]
  },
  {
   "cell_type": "code",
   "execution_count": 80,
   "id": "3bed7a8a",
   "metadata": {},
   "outputs": [],
   "source": [
    "# Fill null end time with current date (assuming the alert is still active)\n",
    "alerts_df['end_time'] = alerts_df['end_time'].fillna(datetime.now(timezone.utc).replace(microsecond=0))"
   ]
  },
  {
   "cell_type": "code",
   "execution_count": 81,
   "id": "bce83fcb",
   "metadata": {},
   "outputs": [],
   "source": [
    "# Sort values by date\n",
    "alerts_df = alerts_df.sort_values('start_time').reset_index()"
   ]
  },
  {
   "cell_type": "code",
   "execution_count": 82,
   "id": "81a3bb50",
   "metadata": {},
   "outputs": [],
   "source": [
    "stm_df = pd.merge(left=stm_trips_positions_df, right=alerts_df, how='left', on=['route_id', 'stop_id'])"
   ]
  },
  {
   "cell_type": "code",
   "execution_count": 83,
   "id": "d3bab171",
   "metadata": {},
   "outputs": [
    {
     "data": {
      "text/plain": [
       "Index(['trip_id', 'route_id', 'start_date', 'stop_id', 'rt_arrival_time',\n",
       "       'rt_departure_time', 'schedule_relationship', 'stop_sequence',\n",
       "       'trip_progress', 'stop_name', 'stop_lat', 'stop_lon', 'stop_url',\n",
       "       'location_type', 'parent_station', 'wheelchair_boarding',\n",
       "       'stop_distance', 'start_date_dt', 'sch_arrival_time',\n",
       "       'sch_departure_time', 'delay', 'vehicle_id', 'start_time_x',\n",
       "       'vehicle_bearing', 'vehicle_speed', 'vehicle_status', 'vehicle_dt',\n",
       "       'occupancy_status', 'vehicle_rel_distance', 'index', 'start_time_y',\n",
       "       'end_time'],\n",
       "      dtype='object')"
      ]
     },
     "execution_count": 83,
     "metadata": {},
     "output_type": "execute_result"
    }
   ],
   "source": [
    "stm_df.columns"
   ]
  },
  {
   "cell_type": "code",
   "execution_count": null,
   "id": "a03ed87d",
   "metadata": {},
   "outputs": [],
   "source": [
    "# Add column has_alert\n",
    "has_alert_mask = (stm_df['start_time_y'].notna()) & \\\n",
    "\t(stm_df['rt_arrival_time'] >= stm_df['start_time_y']) & \\\n",
    "\t(stm_df['rt_arrival_time'] <= stm_df['end_time'])\n",
    "stm_df['stop_has_alert'] = has_alert_mask.astype('int64')"
   ]
  },
  {
   "cell_type": "code",
   "execution_count": null,
   "id": "770db1a8",
   "metadata": {},
   "outputs": [
    {
     "data": {
      "text/plain": [
       "has_alert\n",
       "0    240167\n",
       "1     12211\n",
       "Name: count, dtype: int64"
      ]
     },
     "execution_count": 85,
     "metadata": {},
     "output_type": "execute_result"
    }
   ],
   "source": [
    "stm_df['stop_has_alert'].value_counts()"
   ]
  },
  {
   "cell_type": "code",
   "execution_count": null,
   "id": "4ecf18eb",
   "metadata": {},
   "outputs": [],
   "source": [
    "# Drop unneeded datetime columns and index\n",
    "stm_df = stm_df.drop(['start_time_x', 'start_time_y', 'end_time', 'index'], axis=1)"
   ]
  },
  {
   "cell_type": "markdown",
   "id": "7b431a68",
   "metadata": {},
   "source": [
    "### STM and Weather"
   ]
  },
  {
   "cell_type": "code",
   "execution_count": 87,
   "id": "ad7f9e32",
   "metadata": {},
   "outputs": [],
   "source": [
    "# Convert time string to datetime\n",
    "time_dt = pd.to_datetime(weather_df['time'], utc=True)"
   ]
  },
  {
   "cell_type": "code",
   "execution_count": 88,
   "id": "54317d78",
   "metadata": {},
   "outputs": [],
   "source": [
    "# Calculate dates for weather forecast\n",
    "last_day_weather = time_dt.max()\n",
    "start_date = last_day_weather + timedelta(days=1)\n",
    "end_date = stm_df['rt_arrival_time'].max()"
   ]
  },
  {
   "cell_type": "code",
   "execution_count": 89,
   "id": "705c3caa",
   "metadata": {},
   "outputs": [],
   "source": [
    "# Fetch forecast weather\n",
    "start_date_str = start_date.strftime('%Y-%m-%d')\n",
    "end_date_str = end_date.strftime('%Y-%m-%d')\n",
    "\n",
    "forecast_list = fetch_weather(start_date=start_date_str, end_date=end_date_str, forecast=True)\n",
    "forecast_df = pd.DataFrame(forecast_list)"
   ]
  },
  {
   "cell_type": "code",
   "execution_count": 90,
   "id": "a8a5858f",
   "metadata": {},
   "outputs": [],
   "source": [
    "# Merge archive and forecast weather\n",
    "weather_df = pd.concat([weather_df, forecast_df], ignore_index=True)"
   ]
  },
  {
   "cell_type": "code",
   "execution_count": 91,
   "id": "c139f560",
   "metadata": {},
   "outputs": [],
   "source": [
    "# Round arrival time to the nearest hour\n",
    "rounded_arrival_dt = stm_df['rt_arrival_time'].dt.round('h')"
   ]
  },
  {
   "cell_type": "code",
   "execution_count": 92,
   "id": "5d4d8333",
   "metadata": {},
   "outputs": [],
   "source": [
    "# Format time to match weather data\n",
    "stm_df['time'] = rounded_arrival_dt.dt.strftime('%Y-%m-%dT%H:%M')"
   ]
  },
  {
   "cell_type": "code",
   "execution_count": 93,
   "id": "f2552f97",
   "metadata": {},
   "outputs": [],
   "source": [
    "# Merge STM with weather\n",
    "stm_weather_df = pd.merge(left=stm_df, right=weather_df, how='inner', on='time').drop('time', axis=1)"
   ]
  },
  {
   "cell_type": "markdown",
   "id": "fe11c074",
   "metadata": {},
   "source": [
    "### Traffic Data"
   ]
  },
  {
   "cell_type": "code",
   "execution_count": 94,
   "id": "3ced7c04",
   "metadata": {},
   "outputs": [
    {
     "name": "stdout",
     "output_type": "stream",
     "text": [
      "35.91%\n"
     ]
    }
   ],
   "source": [
    "# Get proportion of duplicates\n",
    "duplicate_mask = traffic_df.duplicated()\n",
    "print(f'{duplicate_mask.mean():.2%}')"
   ]
  },
  {
   "cell_type": "code",
   "execution_count": 95,
   "id": "4e69a875",
   "metadata": {},
   "outputs": [],
   "source": [
    "# Remove duplicates\n",
    "traffic_df = traffic_df.drop_duplicates(keep='last').reset_index()"
   ]
  },
  {
   "cell_type": "code",
   "execution_count": 96,
   "id": "ede164f5",
   "metadata": {},
   "outputs": [],
   "source": [
    "# Convert traffic start_time and end_time to datetime\n",
    "traffic_df['start_time'] = pd.to_datetime(traffic_df['start_time'], utc=True)\n",
    "traffic_df['end_time'] = pd.to_datetime(traffic_df['end_time'], utc=True)"
   ]
  },
  {
   "cell_type": "code",
   "execution_count": 97,
   "id": "d1c79ec6",
   "metadata": {},
   "outputs": [],
   "source": [
    "# Sort by date\n",
    "traffic_df = traffic_df.sort_values(by='start_time').reset_index()"
   ]
  },
  {
   "cell_type": "code",
   "execution_count": 98,
   "id": "c2a61030",
   "metadata": {},
   "outputs": [],
   "source": [
    "# Fill null end times with current time (assuming the incident is still ongoing)\n",
    "traffic_df['end_time'] = traffic_df['end_time'].fillna(datetime.now(timezone.utc).replace(microsecond=0))\n",
    "assert traffic_df['end_time'].isna().sum() == 0"
   ]
  },
  {
   "cell_type": "code",
   "execution_count": 99,
   "id": "a2f51d97",
   "metadata": {},
   "outputs": [],
   "source": [
    "# Build traffic cache (for every 15 min interval)\n",
    "def build_traffic_cache(traffic_df:pd.DataFrame) -> dict:\n",
    "\ttraffic_cache = {}\n",
    "\ttraffic_df['quarter_hour'] = traffic_df['start_time'].dt.floor('15min')\n",
    "\n",
    "\tfor (hour, group) in traffic_df.groupby('quarter_hour'):\n",
    "\t\ttraffic_cache[hour] = group.copy()\n",
    "\n",
    "\treturn traffic_cache"
   ]
  },
  {
   "cell_type": "markdown",
   "id": "f3850f2b",
   "metadata": {},
   "source": [
    "Since there are many trip updates on the same day (even the same hour), there's a risk of repeating the filtering of active traffic incidents for each trip individually, which takes a lot of time for a large dataset. Traffic incidents are stable over minutes or hours. This is why the incidents will be cached by 15 minute intervals."
   ]
  },
  {
   "cell_type": "code",
   "execution_count": 105,
   "id": "e84143f7",
   "metadata": {},
   "outputs": [],
   "source": [
    "def calculate_nearby_incidents(trip_update:pd.Series, traffic_cache:dict, max_distance:int=500) -> pd.Series:\n",
    "\ttrip_datetime = trip_update['rt_arrival_time']\n",
    "\tstop_coords = (trip_update['stop_lat'], trip_update['stop_lon'])\n",
    "\n",
    "\ttrip_quarter_hour = trip_datetime.floor('15min')\n",
    "\n",
    "\t# Get cached incidents\n",
    "\tquarter_hour_incidents = traffic_cache.get(trip_quarter_hour)\n",
    "\n",
    "\t# Stop if there are no incidents for that hour\n",
    "\tif quarter_hour_incidents is None or quarter_hour_incidents.empty:\n",
    "\t\treturn pd.Series({\n",
    "\t\t\t'incident_nearby': 0,\n",
    "\t\t\t'nearest_incident_distance': None,\n",
    "\t\t\t'incident_category': None,\n",
    "\t\t\t'incident_delay': None,\n",
    "\t\t\t'incident_delay_magnitude': None\n",
    "\t\t})\n",
    "\n",
    "\t# Filter for active incidents at that trip hour\n",
    "\tactive_incidents = quarter_hour_incidents[\n",
    "\t\t(quarter_hour_incidents['start_time'] <= trip_datetime) &\n",
    "\t\t(quarter_hour_incidents['end_time'] >= trip_datetime)\n",
    "\t].copy()\n",
    "\n",
    "\tif active_incidents.empty:\n",
    "\t\treturn pd.Series({\n",
    "\t\t\t'incident_nearby': 0,\n",
    "\t\t\t'nearest_incident_distance': None,\n",
    "\t\t\t'incident_category': None,\n",
    "\t\t\t'incident_delay': None,\n",
    "\t\t\t'incident_delay_magnitude': None\n",
    "\t\t})\n",
    "\n",
    "\t# Calculate distance     \n",
    "\tactive_incidents['distance'] = active_incidents.apply(\n",
    "\t\tlambda row: haversine(stop_coords, (row['latitude'], row['longitude']), unit=Unit.METERS),\n",
    "\t\taxis=1\n",
    "\t)\n",
    "\n",
    "\t# Filter nearby\n",
    "\tnearby_incidents = active_incidents[active_incidents['distance'] <= max_distance]\n",
    "\n",
    "\tif nearby_incidents.empty:\n",
    "\t\treturn pd.Series({\n",
    "\t\t\t'incident_nearby': 0,\n",
    "\t\t\t'nearest_incident_distance': None,\n",
    "\t\t\t'incident_category': None,\n",
    "\t\t\t'incident_delay': None,\n",
    "\t\t\t'incident_delay_magnitude': None\n",
    "\t\t})\n",
    "\telse:\n",
    "\t\tnearest = nearby_incidents.loc[nearby_incidents['distance'].idxmin()]\n",
    "\t\treturn pd.Series({\n",
    "\t\t\t'incident_nearby': 1,\n",
    "\t\t\t'nearest_incident_distance': nearest['distance'],\n",
    "\t\t\t'incident_category': nearest['category'],\n",
    "\t\t\t'incident_delay': nearest['delay'],\n",
    "\t\t\t'incident_delay_magnitude': nearest['magnitude_of_delay']\n",
    "\t\t})"
   ]
  },
  {
   "cell_type": "code",
   "execution_count": 106,
   "id": "fa13cf97",
   "metadata": {},
   "outputs": [],
   "source": [
    "# Get traffic columns (get incidents within 2 km)\n",
    "traffic_cache = build_traffic_cache(traffic_df)\n",
    "traffic_cols = stm_weather_df.apply(lambda row: calculate_nearby_incidents(row, traffic_cache, 2000), axis=1)"
   ]
  },
  {
   "cell_type": "markdown",
   "id": "70659ae4",
   "metadata": {},
   "source": [
    "General area traffic (within 1-2 km) could affect delays, even if it's not directly at the stop. This is why incidents within 2 km are calculated."
   ]
  },
  {
   "cell_type": "code",
   "execution_count": 107,
   "id": "84f574b4",
   "metadata": {},
   "outputs": [],
   "source": [
    "# Merge the traffic\n",
    "df = pd.concat([stm_weather_df, traffic_cols], axis=1)"
   ]
  },
  {
   "cell_type": "code",
   "execution_count": 108,
   "id": "9ba5723f",
   "metadata": {},
   "outputs": [
    {
     "name": "stdout",
     "output_type": "stream",
     "text": [
      "<class 'pandas.core.frame.DataFrame'>\n",
      "RangeIndex: 223531 entries, 0 to 223530\n",
      "Data columns (total 38 columns):\n",
      " #   Column                     Non-Null Count   Dtype              \n",
      "---  ------                     --------------   -----              \n",
      " 0   trip_id                    223531 non-null  int64              \n",
      " 1   route_id                   223531 non-null  int64              \n",
      " 2   start_date                 223531 non-null  int64              \n",
      " 3   stop_id                    223531 non-null  int64              \n",
      " 4   rt_arrival_time            223531 non-null  datetime64[ns, UTC]\n",
      " 5   rt_departure_time          223531 non-null  datetime64[ns, UTC]\n",
      " 6   schedule_relationship      223531 non-null  int64              \n",
      " 7   stop_sequence              223531 non-null  int64              \n",
      " 8   trip_progress              223531 non-null  float64            \n",
      " 9   stop_name                  223531 non-null  object             \n",
      " 10  stop_lat                   223531 non-null  float64            \n",
      " 11  stop_lon                   223531 non-null  float64            \n",
      " 12  stop_url                   223531 non-null  object             \n",
      " 13  location_type              223531 non-null  int64              \n",
      " 14  parent_station             0 non-null       object             \n",
      " 15  wheelchair_boarding        223531 non-null  int64              \n",
      " 16  stop_distance              223531 non-null  float64            \n",
      " 17  start_date_dt              223531 non-null  datetime64[ns]     \n",
      " 18  sch_arrival_time           223531 non-null  datetime64[ns, UTC]\n",
      " 19  sch_departure_time         223531 non-null  datetime64[ns, UTC]\n",
      " 20  delay                      223531 non-null  float64            \n",
      " 21  vehicle_id                 223531 non-null  int64              \n",
      " 22  vehicle_bearing            223531 non-null  float64            \n",
      " 23  vehicle_speed              223531 non-null  float64            \n",
      " 24  vehicle_status             223531 non-null  int64              \n",
      " 25  vehicle_dt                 223531 non-null  datetime64[ns, UTC]\n",
      " 26  occupancy_status           223531 non-null  int64              \n",
      " 27  vehicle_rel_distance       223531 non-null  float64            \n",
      " 28  has_alert                  223531 non-null  int64              \n",
      " 29  temperature                223531 non-null  float64            \n",
      " 30  precipitation              223531 non-null  float64            \n",
      " 31  windspeed                  223531 non-null  float64            \n",
      " 32  weathercode                223531 non-null  int64              \n",
      " 33  incident_nearby            223531 non-null  float64            \n",
      " 34  nearest_incident_distance  33577 non-null   float64            \n",
      " 35  incident_category          33577 non-null   float64            \n",
      " 36  incident_delay             30766 non-null   float64            \n",
      " 37  incident_delay_magnitude   33577 non-null   float64            \n",
      "dtypes: datetime64[ns, UTC](5), datetime64[ns](1), float64(16), int64(13), object(3)\n",
      "memory usage: 64.8+ MB\n"
     ]
    }
   ],
   "source": [
    "df.info()"
   ]
  },
  {
   "cell_type": "markdown",
   "id": "54983bb1",
   "metadata": {},
   "source": [
    "## Clean Data"
   ]
  },
  {
   "cell_type": "markdown",
   "id": "429d203b",
   "metadata": {},
   "source": [
    "### Convert columns"
   ]
  },
  {
   "cell_type": "code",
   "execution_count": 109,
   "id": "7b1ed74d",
   "metadata": {},
   "outputs": [
    {
     "data": {
      "text/plain": [
       "Index(['wheelchair_boarding', 'vehicle_status', 'has_alert',\n",
       "       'incident_nearby'],\n",
       "      dtype='object')"
      ]
     },
     "execution_count": 109,
     "metadata": {},
     "output_type": "execute_result"
    }
   ],
   "source": [
    "# Get columns with two values\n",
    "two_values = df.loc[:, df.nunique() == 2]\n",
    "two_values.columns"
   ]
  },
  {
   "cell_type": "code",
   "execution_count": null,
   "id": "fa29aec8",
   "metadata": {},
   "outputs": [
    {
     "name": "stdout",
     "output_type": "stream",
     "text": [
      "wheelchair_boarding\n",
      "1    211675\n",
      "2     11856\n",
      "Name: count, dtype: int64\n",
      "vehicle_status\n",
      "2    173900\n",
      "1     49631\n",
      "Name: count, dtype: int64\n",
      "incident_nearby\n",
      "0.0    189954\n",
      "1.0     33577\n",
      "Name: count, dtype: int64\n",
      "has_alert\n",
      "0    211320\n",
      "1     12211\n",
      "Name: count, dtype: int64\n"
     ]
    }
   ],
   "source": [
    "print(df['wheelchair_boarding'].value_counts())\n",
    "print(df['vehicle_status'].value_counts())\n",
    "print(df['incident_nearby'].value_counts())\n",
    "print(df['stop_has_alert'].value_counts())"
   ]
  },
  {
   "cell_type": "code",
   "execution_count": 111,
   "id": "48fe1ce6",
   "metadata": {},
   "outputs": [],
   "source": [
    "# Convert columns with 2 unique values to integer\n",
    "df['wheelchair_boarding'] = (df['wheelchair_boarding'] == 1).astype('int64')\n",
    "df['vehicle_in_transit'] = (df['vehicle_status'] == 2).astype('int64')\n",
    "df['incident_nearby'] = df['incident_nearby'].astype('int64')"
   ]
  },
  {
   "cell_type": "markdown",
   "id": "576f7240",
   "metadata": {},
   "source": [
    "### Drop columns"
   ]
  },
  {
   "cell_type": "code",
   "execution_count": 112,
   "id": "08f47649",
   "metadata": {},
   "outputs": [
    {
     "data": {
      "text/plain": [
       "Index(['trip_id', 'route_id', 'start_date', 'stop_id', 'rt_arrival_time',\n",
       "       'rt_departure_time', 'schedule_relationship', 'stop_sequence',\n",
       "       'trip_progress', 'stop_name', 'stop_lat', 'stop_lon', 'stop_url',\n",
       "       'wheelchair_boarding', 'stop_distance', 'start_date_dt',\n",
       "       'sch_arrival_time', 'sch_departure_time', 'delay', 'vehicle_id',\n",
       "       'vehicle_bearing', 'vehicle_speed', 'vehicle_status', 'vehicle_dt',\n",
       "       'occupancy_status', 'vehicle_rel_distance', 'has_alert', 'temperature',\n",
       "       'precipitation', 'windspeed', 'weathercode', 'incident_nearby',\n",
       "       'vehicle_in_transit'],\n",
       "      dtype='object')"
      ]
     },
     "execution_count": 112,
     "metadata": {},
     "output_type": "execute_result"
    }
   ],
   "source": [
    "# Remove columns with constant values or with more than 50% missing values\n",
    "df = df.loc[:, (df.nunique() > 1) & (df.isna().mean() < 0.5)]\n",
    "df.columns"
   ]
  },
  {
   "cell_type": "markdown",
   "id": "a0efe3d1",
   "metadata": {},
   "source": [
    "**Other columns to drop**\n",
    "\n",
    "`stop_url`: An url is not useful for data analysis.<br>\n",
    "`vehicle_status`: It has been converted to vehicle_in_transit.<br>"
   ]
  },
  {
   "cell_type": "code",
   "execution_count": 116,
   "id": "ab1f6db7",
   "metadata": {},
   "outputs": [],
   "source": [
    "# Drop and reorder columns\n",
    "df = df[[\n",
    "\t'trip_id',\n",
    "  \t'vehicle_id',\n",
    "    'vehicle_in_transit', # converted\n",
    "    'vehicle_bearing',\n",
    "    'vehicle_speed',\n",
    "\t'occupancy_status',\n",
    "  \t'route_id',\n",
    "  \t'stop_id',\n",
    "    'stop_name',\n",
    "  \t'stop_lat',\n",
    "  \t'stop_lon',\n",
    "    'stop_distance', # engineered\n",
    "    'stop_sequence',\n",
    "  \t'trip_progress', # engineered\n",
    "    'stop_has_alert', # engineered\n",
    "  \t'wheelchair_boarding', # engineered\n",
    "    'schedule_relationship',\n",
    "  \t'rt_arrival_time', # parsed\n",
    "    'sch_arrival_time', # parsed\n",
    "    'rt_departure_time', # parsed\n",
    "    'sch_departure_time', # parsed\n",
    "    'delay', # engineered\n",
    "  \t'temperature',\n",
    "  \t'precipitation',\n",
    "  \t'windspeed', \n",
    "\t'weathercode',\n",
    "  \t'incident_nearby', # engineered\n",
    "]]"
   ]
  },
  {
   "cell_type": "markdown",
   "id": "02f945fb",
   "metadata": {},
   "source": [
    "### Create Delay Classification"
   ]
  },
  {
   "cell_type": "markdown",
   "id": "f05956fb",
   "metadata": {},
   "source": [
    "According to [STM](https://www.stm.info/en/info/networks/bus-network-and-schedules-enlightened), a vehicle is considered on time if it arrives at the stop up to 1 minute before and 3 minutes after the planned schedule."
   ]
  },
  {
   "cell_type": "code",
   "execution_count": 117,
   "id": "6c53d4cd",
   "metadata": {},
   "outputs": [],
   "source": [
    "# Create ranges and labels\n",
    "ranges = [-np.inf, -60, 0, 180, 420, np.inf]\n",
    "labels = ['Very Early', 'Early', 'On Time', 'Late', 'Very Late']"
   ]
  },
  {
   "cell_type": "code",
   "execution_count": 118,
   "id": "4d58c0b2",
   "metadata": {},
   "outputs": [],
   "source": [
    "# Add delay category column\n",
    "delay_cat = pd.cut(df['delay'], bins=ranges, labels=labels, include_lowest=True, right=False)\n",
    "delay_index = df.columns.get_loc('delay')\n",
    "df.insert(delay_index + 1, 'delay_cat', delay_cat)"
   ]
  },
  {
   "cell_type": "code",
   "execution_count": 119,
   "id": "1fc81e91",
   "metadata": {},
   "outputs": [
    {
     "data": {
      "text/plain": [
       "delay_cat\n",
       "On Time       0.792024\n",
       "Late          0.110217\n",
       "Very Late     0.044674\n",
       "Very Early    0.030908\n",
       "Early         0.022176\n",
       "Name: proportion, dtype: float64"
      ]
     },
     "execution_count": 119,
     "metadata": {},
     "output_type": "execute_result"
    }
   ],
   "source": [
    "# Get delay category counts\n",
    "df['delay_cat'].value_counts(normalize=True)"
   ]
  },
  {
   "cell_type": "markdown",
   "id": "baf5b062",
   "metadata": {},
   "source": [
    "## Export Data"
   ]
  },
  {
   "cell_type": "code",
   "execution_count": 120,
   "id": "8eb537d7",
   "metadata": {},
   "outputs": [],
   "source": [
    "# Export data to CSV\n",
    "df.to_csv('../data/stm_weather_traffic_merged.csv', index=False)"
   ]
  },
  {
   "cell_type": "markdown",
   "id": "a3b33a1a",
   "metadata": {},
   "source": [
    "## End"
   ]
  }
 ],
 "metadata": {
  "kernelspec": {
   "display_name": "venv",
   "language": "python",
   "name": "python3"
  },
  "language_info": {
   "codemirror_mode": {
    "name": "ipython",
    "version": 3
   },
   "file_extension": ".py",
   "mimetype": "text/x-python",
   "name": "python",
   "nbconvert_exporter": "python",
   "pygments_lexer": "ipython3",
   "version": "3.13.3"
  }
 },
 "nbformat": 4,
 "nbformat_minor": 5
}
