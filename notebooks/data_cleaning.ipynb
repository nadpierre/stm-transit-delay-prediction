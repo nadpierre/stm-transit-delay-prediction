{
 "cells": [
  {
   "cell_type": "markdown",
   "id": "056758cb",
   "metadata": {},
   "source": [
    "# STM Transit Delay Data Preparation"
   ]
  },
  {
   "cell_type": "markdown",
   "id": "e8706868",
   "metadata": {},
   "source": [
    "## Overview"
   ]
  },
  {
   "cell_type": "markdown",
   "id": "3d911d34",
   "metadata": {},
   "source": [
    "This notebook cleans and merges data collected from [STM](https://www.stm.info/en/about/developers), [Open-Meteo](https://open-meteo.com/en/docs) and [Tomtom](https://developer.tomtom.com/) and prepares it for data analysis and/or preprocessing."
   ]
  },
  {
   "cell_type": "markdown",
   "id": "a6bc184d",
   "metadata": {},
   "source": [
    "## Data Description"
   ]
  },
  {
   "cell_type": "markdown",
   "id": "d28e04ef",
   "metadata": {},
   "source": [
    "### STM Schedule"
   ]
  },
  {
   "cell_type": "markdown",
   "id": "bb31f7ab",
   "metadata": {},
   "source": [
    "`trip_id`: Unique identifier for the transit trip.<br>\n",
    "`arrival_time`, `departure_time`: Scheduled arrival and departure time.<br>\n",
    "`stop_id`: Unique identifier of a stop.<br>\n",
    "`stop_sequence`: Sequence of a stop, for ordering."
   ]
  },
  {
   "cell_type": "markdown",
   "id": "bc749154",
   "metadata": {},
   "source": [
    "### STM Stops"
   ]
  },
  {
   "cell_type": "markdown",
   "id": "a40b660a",
   "metadata": {},
   "source": [
    "`stop_id`: Unique identifier of a stop.<br>\n",
    "`stop_code`: Bus stop or metro station number.<br>\n",
    "`stop_name`: Bus stop or metro station name<br>\n",
    "`stop_lat`, `stop_lon`: Stop coordinates.<br>\n",
    "`stop_url`: Stop web page.<br>\n",
    "`location_type`: Stop type.<br>\n",
    "`parent_station`: Parent station (metro station with multiple exits).<br>\n",
    "`wheelchair_boarding`: Indicates if the stop is accessible for people in wheelchair, 0 meaning \"no information\", 1 being \"accessible\" and 2 being \"not accessible\"."
   ]
  },
  {
   "cell_type": "markdown",
   "id": "a9173706",
   "metadata": {},
   "source": [
    "### STM Trips"
   ]
  },
  {
   "cell_type": "markdown",
   "id": "bc0019b7",
   "metadata": {},
   "source": [
    "`route_id`:  Unique identifier for the bus or metro line.<br>\n",
    "`service_id`: Identifies a set of dates when service is available for one or more routes.<br>\n",
    "`trip_id`: Unique identifier for the transit trip.<br>\n",
    "`trip_headsign`: Direction of the trip (Nord, South, West, East).<br>\n",
    "`direction_id`: Boolean value for the direction.<br>\n",
    "`shape_id`: Identifies a geospatial shape describing the vehicle travel path for a trip.\n",
    "`wheelchair_accessible`: Indicates wheelchair accessibility, 0 meaning \"no information\", 1 being \"accessible\" and 2 being \"not accessible\".<br>\n",
    "`note_fr`, `note_en`: Additionnal comment in French and English."
   ]
  },
  {
   "cell_type": "markdown",
   "id": "b7358fab",
   "metadata": {},
   "source": [
    "### STM Real-time Trip Updates"
   ]
  },
  {
   "cell_type": "markdown",
   "id": "d5c2ee8a",
   "metadata": {},
   "source": [
    "`current_time`: Timestamp when the data was fetched from the GTFS, in milliseconds.<br>\n",
    "`trip_id`: Unique identifier for the transit trip.<br>\n",
    "`route_id`: Unique identifier for a bus or metro line.<br>\n",
    "`start_date`: Start date of the transit trip.<br>\n",
    "`stop_id`: Unique identifier of a stop.<br>\n",
    "`arrival_time`, `departure_time`: Realtime arrival and departure time, in seconds<br>\n",
    "`schedule_relationship`: State of the trip, 0 meaning \"scheduled\", 1 meaning \"skipped\" and 2 meaning \"no data\"."
   ]
  },
  {
   "cell_type": "markdown",
   "id": "4608bc4a",
   "metadata": {},
   "source": [
    "### STM Real-time Vehicle Positions"
   ]
  },
  {
   "cell_type": "markdown",
   "id": "c11c6a01",
   "metadata": {},
   "source": [
    "`current_time`: Timestamp when the data was fetched from the GTFS, in milliseconds.<br>\n",
    "`vehicle_id`: Unique identifier for a vehicle.<br>\n",
    "`trip_id`: Unique identifier for the transit trip.<br>\n",
    "`route_id`: Unique identifier for a bus or metro line.<br>\n",
    "`start_date`: Start date of a transit trip.<br>\n",
    "`start_time`: Start time of a transit trip.<br>\n",
    "`latitude`, `longitude`: Vehicle current position.<br>\n",
    "`bearing`: Direction that the vehicle is facing, from 0 to 360 degrees.<br>\n",
    "`speed`: Momentary speed measured by the vehicle, in meters per second.<br>\n",
    "`stop_sequence`: Refers to the stop that the vehicle is either on its way to, or already stopped at.<br>\n",
    "`status`: Vehicle stop status in relation with a stop that it's currently approaching or is at, 1 being \"stopped at\" and 2 being \"in transit to\".<br>\n",
    "`timestamp`: Timestamp when STM updated the data, in seconds.<br>\n",
    "`occupancy_status`: Degree of passenger occupancy, ranging from 1 (empty) to 7 (not accepting passengers)."
   ]
  },
  {
   "cell_type": "markdown",
   "id": "cbdfe609",
   "metadata": {},
   "source": [
    "### STM Service Alerts"
   ]
  },
  {
   "cell_type": "markdown",
   "id": "fa2a8460",
   "metadata": {},
   "source": [
    "`start_time`: Start time of the alert, in seconds.<br>\n",
    "`end_time`: End time of the alert, in seconds.<br>\n",
    "`route_id`: Unique identifier for a bus or metro line.<br>\n",
    "`stop_id`: Unique identifier of a stop."
   ]
  },
  {
   "cell_type": "markdown",
   "id": "1769aa78",
   "metadata": {},
   "source": [
    "### STM Route Types"
   ]
  },
  {
   "cell_type": "markdown",
   "id": "a27dd6d9",
   "metadata": {},
   "source": [
    "`route_id`: Unique identifier for a bus or metro line.<br>\n",
    "`route_type`: Type of bus line (e.g. Night)<br>"
   ]
  },
  {
   "cell_type": "markdown",
   "id": "042db663",
   "metadata": {},
   "source": [
    "### Open-Meteo Weather Archive"
   ]
  },
  {
   "cell_type": "markdown",
   "id": "3ccfdc47",
   "metadata": {},
   "source": [
    "`time`: Date and hour or the weather.<br>\n",
    "`temperature`: Air temperature at 2 meters above ground, in Celsius.<br>\n",
    "`relative_humidity`: Relative humidity at 2 meters above ground, in percentage.<br>\n",
    "`dew_point`: Dew point temperature at 2 meters above ground, in Celsius.<br>\n",
    "`precipitation`: Total precipitation (rain, showers, snow) sum of the preceding hour, in millimeters.<br>\n",
    "`pressure`: Atmospheric air pressure reduced to mean sea level (msl), in hPa.<br>\n",
    "`visibility`: Viewing distance in meters.<br>\n",
    "`cloud_cover`: Total cloud cover as an area fraction.<br>\n",
    "`windspeed`: Wind speed at 10 meters above ground, in kilometers per hour.<br>\n",
    "`wind_direction`: Wind direction at 10 meters above ground.<br>\n",
    "`wind_gusts`: Gusts at 10 meters above ground as a maximum of the preceding hour.<br>"
   ]
  },
  {
   "cell_type": "markdown",
   "id": "268c0ac0",
   "metadata": {},
   "source": [
    "### Tomtom Traffic Incidents"
   ]
  },
  {
   "cell_type": "markdown",
   "id": "72e73a05",
   "metadata": {},
   "source": [
    "`category`: Category of the incident.<br>\n",
    "`start_time`: Start time of the incident, in ISO8601 format.<br>\n",
    "`end_time`: End time of the incident, in ISO8601 format.<br>\n",
    "`length`: Length of the incident in meters.<br>\n",
    "`delay`: Delay in seconds caused by the incident (except road closures).<br>\n",
    "`magnitude_of_delay`: Severity of the delay, ranging from 0 to 4 (minor to major).<br>\n",
    "`last_report_time`: Date when the last time the incident was reported,in ISO8601 format.<br>\n",
    "`latitude`, `longitude`: Coordinates of the incident."
   ]
  },
  {
   "cell_type": "markdown",
   "id": "3ca39527",
   "metadata": {},
   "source": [
    "## Imports"
   ]
  },
  {
   "cell_type": "code",
   "execution_count": 1,
   "id": "a0a7cafd",
   "metadata": {},
   "outputs": [],
   "source": [
    "from datetime import datetime, timedelta, timezone\n",
    "import geopandas as gpd\n",
    "import matplotlib.pyplot as plt\n",
    "import numpy as np\n",
    "import pandas as pd\n",
    "import seaborn as sns\n",
    "import sys"
   ]
  },
  {
   "cell_type": "code",
   "execution_count": 2,
   "id": "faad2700",
   "metadata": {},
   "outputs": [],
   "source": [
    "# Import custom code\n",
    "sys.path.insert(0, '..')\n",
    "from scripts.custom_functions import fetch_weather, LOCAL_TIMEZONE, SCHEDULE_RELATIONSHIP"
   ]
  },
  {
   "cell_type": "code",
   "execution_count": 3,
   "id": "786cc667",
   "metadata": {},
   "outputs": [],
   "source": [
    "# Import data\n",
    "schedules_df = pd.read_csv('../data/download/stop_times_2025-04-30.txt')\n",
    "stops_df = pd.read_csv('../data/download/stops_2025-04-30.txt')\n",
    "trips_df = pd.read_csv('../data/download/trips_2025-04-30.txt')\n",
    "trip_updates_df = pd.read_csv('../data/api/fetched_stm_trip_updates.csv', low_memory=False)\n",
    "#positions_df =  pd.read_csv('../data/api/fetched_stm_vehicle_positions.csv', low_memory=False)\n",
    "#alerts_df = pd.read_csv('../data/api/fetched_stm_service_alerts.csv')\n",
    "routes_df = pd.read_csv('../data/route_types.csv')\n",
    "#traffic_df = pd.read_csv('../data/api/fetched_traffic.csv')\n",
    "weather_df = pd.read_csv('../data/api/fetched_historical_weather.csv')"
   ]
  },
  {
   "cell_type": "markdown",
   "id": "b3864f9b",
   "metadata": {},
   "source": [
    "## Merge Data"
   ]
  },
  {
   "cell_type": "markdown",
   "id": "026d79ac",
   "metadata": {},
   "source": [
    "### Schedules and stops"
   ]
  },
  {
   "cell_type": "code",
   "execution_count": 4,
   "id": "4434500e",
   "metadata": {},
   "outputs": [],
   "source": [
    "# Sort values by stop sequence\n",
    "schedules_df = schedules_df.sort_values(by=['trip_id', 'stop_sequence'])"
   ]
  },
  {
   "cell_type": "code",
   "execution_count": 5,
   "id": "176567e5",
   "metadata": {},
   "outputs": [],
   "source": [
    "# Add trip progress (vehicles further along the trip are more likely to be delayed)\n",
    "total_stops = schedules_df.groupby('trip_id')['stop_id'].transform('count')\n",
    "schedules_df['trip_progress'] = schedules_df['stop_sequence'] / total_stops"
   ]
  },
  {
   "cell_type": "code",
   "execution_count": 6,
   "id": "e8adfad6",
   "metadata": {},
   "outputs": [
    {
     "data": {
      "text/plain": [
       "count    6.629625e+06\n",
       "mean     5.139220e-01\n",
       "std      2.887289e-01\n",
       "min      8.547009e-03\n",
       "25%      2.631579e-01\n",
       "50%      5.142857e-01\n",
       "75%      7.647059e-01\n",
       "max      1.000000e+00\n",
       "Name: trip_progress, dtype: float64"
      ]
     },
     "execution_count": 6,
     "metadata": {},
     "output_type": "execute_result"
    }
   ],
   "source": [
    "# Get distribution of trip progress\n",
    "schedules_df['trip_progress'].describe()"
   ]
  },
  {
   "cell_type": "code",
   "execution_count": 7,
   "id": "f856eb46",
   "metadata": {},
   "outputs": [],
   "source": [
    "# Merge schedules and stops\n",
    "schedules_stops_df = pd.merge(left=schedules_df, right=stops_df, how='inner', left_on='stop_id', right_on='stop_code') \\\n",
    "\t.rename(columns={'stop_id_x': 'stop_id'}) \\\n",
    "\t.drop(['stop_id_y', 'stop_code', 'stop_url'], axis=1)"
   ]
  },
  {
   "cell_type": "code",
   "execution_count": 8,
   "id": "a827a8b9",
   "metadata": {},
   "outputs": [
    {
     "data": {
      "text/plain": [
       "Index(['trip_id', 'arrival_time', 'departure_time', 'stop_id', 'stop_sequence',\n",
       "       'trip_progress', 'stop_name', 'stop_lat', 'stop_lon', 'location_type',\n",
       "       'parent_station', 'wheelchair_boarding'],\n",
       "      dtype='object')"
      ]
     },
     "execution_count": 8,
     "metadata": {},
     "output_type": "execute_result"
    }
   ],
   "source": [
    "schedules_stops_df.columns"
   ]
  },
  {
   "cell_type": "code",
   "execution_count": 9,
   "id": "bf47cb3c",
   "metadata": {},
   "outputs": [],
   "source": [
    "# Get coordinates of previous stop\n",
    "schedules_stops_df = schedules_stops_df.sort_values(by=['trip_id', 'stop_sequence'])\n",
    "schedules_stops_df['prev_lat'] = schedules_stops_df.groupby('trip_id')['stop_lat'].shift(1)\n",
    "schedules_stops_df['prev_lon'] = schedules_stops_df.groupby('trip_id')['stop_lon'].shift(1)"
   ]
  },
  {
   "cell_type": "raw",
   "id": "a047d48b",
   "metadata": {
    "vscode": {
     "languageId": "raw"
    }
   },
   "source": [
    "# Get previous stop_id\n",
    "schedules_stops_df['prev_stop_id'] = schedules_stops_df.groupby('trip_id')['stop_id'].shift(1)"
   ]
  },
  {
   "cell_type": "code",
   "execution_count": 11,
   "id": "f35e6c63",
   "metadata": {},
   "outputs": [],
   "source": [
    "# Make sure scheduled arrival time has no null values\n",
    "assert schedules_stops_df['arrival_time'].isna().sum() == 0"
   ]
  },
  {
   "cell_type": "code",
   "execution_count": 12,
   "id": "08a4d395",
   "metadata": {},
   "outputs": [],
   "source": [
    "# Get arrival and departure time of previous stop\n",
    "schedules_stops_df['prev_time'] = schedules_stops_df.groupby('trip_id')['arrival_time'].shift(1)"
   ]
  },
  {
   "cell_type": "code",
   "execution_count": 13,
   "id": "c44a7ef8",
   "metadata": {},
   "outputs": [],
   "source": [
    "# Make sure the null coordinates are from first stops\n",
    "prev_null_mask = (schedules_stops_df['prev_lat'].isna()) | (schedules_stops_df['prev_lon'].isna())\n",
    "first_stop_mask = schedules_stops_df['stop_sequence'] == 1\n",
    "assert prev_null_mask.sum() == first_stop_mask.sum()"
   ]
  },
  {
   "cell_type": "code",
   "execution_count": 14,
   "id": "987bd641",
   "metadata": {},
   "outputs": [],
   "source": [
    "def parse_gtfs_time(df:pd.DataFrame, date_column:str, time_column:str, milliseconds:bool=True) -> pd.Series:\n",
    "\t'''\n",
    "\tConverts GTFS time string (e.g., '25:30:00') to localized datetime\n",
    "\tbased on the arrival or departure time.\n",
    "\t'''\n",
    "\ttime_columns = ['hours', 'minutes', 'seconds']\n",
    "\tsplit_cols = df[time_column].str.split(':', expand=True).apply(pd.to_numeric)\n",
    "\tsplit_cols.columns = time_columns\n",
    "\tseconds_delta = (split_cols['hours'] * 3600) + (split_cols['minutes'] * 60) + split_cols['seconds']\n",
    "\t\n",
    "\t# Convert datetime to seconds\n",
    "\tif milliseconds:\n",
    "\t\tstart_seconds = df[date_column].astype('int') / 10**9\n",
    "\telse:# microseconds\n",
    "\t\tstart_seconds = df[date_column].astype('int') / 10**6\n",
    "\n",
    "\t# Add seconds \n",
    "\ttotal_seconds = start_seconds + seconds_delta\n",
    "\n",
    "\t# Convert to datetime\n",
    "\tparsed_time = pd.to_datetime(total_seconds, origin='unix', unit='s').dt.tz_localize(LOCAL_TIMEZONE)\n",
    "\n",
    "\treturn parsed_time"
   ]
  },
  {
   "cell_type": "code",
   "execution_count": 15,
   "id": "8ae948b7",
   "metadata": {},
   "outputs": [
    {
     "data": {
      "text/plain": [
       "0   2025-05-08\n",
       "1   2025-05-08\n",
       "2   2025-05-08\n",
       "3   2025-05-08\n",
       "4   2025-05-08\n",
       "Name: today, dtype: datetime64[us]"
      ]
     },
     "execution_count": 15,
     "metadata": {},
     "output_type": "execute_result"
    }
   ],
   "source": [
    "# Add column with current date\n",
    "schedules_stops_df['today'] = datetime.now().replace(hour=0, minute=0, second=0, microsecond=0)\n",
    "schedules_stops_df['today'].head()"
   ]
  },
  {
   "cell_type": "code",
   "execution_count": 16,
   "id": "2ff0e87a",
   "metadata": {},
   "outputs": [
    {
     "data": {
      "text/plain": [
       "0   2025-05-08 04:55:00-04:00\n",
       "1   2025-05-08 04:55:31-04:00\n",
       "2   2025-05-08 04:56:04-04:00\n",
       "3   2025-05-08 04:56:31-04:00\n",
       "4   2025-05-08 04:56:51-04:00\n",
       "Name: parsed_time, dtype: datetime64[ns, Canada/Eastern]"
      ]
     },
     "execution_count": 16,
     "metadata": {},
     "output_type": "execute_result"
    }
   ],
   "source": [
    "schedules_stops_df['parsed_time'] = parse_gtfs_time(schedules_stops_df, 'today', 'arrival_time', False)\n",
    "schedules_stops_df['parsed_time'].head()"
   ]
  },
  {
   "cell_type": "code",
   "execution_count": 19,
   "id": "676c4e7d",
   "metadata": {},
   "outputs": [
    {
     "data": {
      "text/plain": [
       "0                         NaT\n",
       "1   2025-05-08 04:55:00-04:00\n",
       "2   2025-05-08 04:55:31-04:00\n",
       "3   2025-05-08 04:56:04-04:00\n",
       "4   2025-05-08 04:56:31-04:00\n",
       "Name: parsed_prev_time, dtype: datetime64[ns, Canada/Eastern]"
      ]
     },
     "execution_count": 19,
     "metadata": {},
     "output_type": "execute_result"
    }
   ],
   "source": [
    "schedules_stops_df['parsed_prev_time'] = parse_gtfs_time(schedules_stops_df, 'today', 'prev_time', False)\n",
    "schedules_stops_df['parsed_prev_time'].head()"
   ]
  },
  {
   "cell_type": "code",
   "execution_count": 20,
   "id": "7b8ecf24",
   "metadata": {},
   "outputs": [],
   "source": [
    "# Calculate expected trip duration\n",
    "schedules_stops_df['trip_start'] = schedules_stops_df.groupby('trip_id')['parsed_time'].transform('min')\n",
    "schedules_stops_df['trip_end'] = schedules_stops_df.groupby('trip_id')['parsed_time'].transform('max')\n",
    "schedules_stops_df['exp_trip_duration'] = (schedules_stops_df['trip_end'] - schedules_stops_df['trip_start']) / pd.Timedelta(seconds=1)"
   ]
  },
  {
   "cell_type": "code",
   "execution_count": 21,
   "id": "6fb7670f",
   "metadata": {},
   "outputs": [
    {
     "data": {
      "text/plain": [
       "count    6.388741e+06\n",
       "mean     2.514089e+03\n",
       "std      8.689949e+02\n",
       "min      2.400000e+02\n",
       "25%      1.860000e+03\n",
       "50%      2.460000e+03\n",
       "75%      3.120000e+03\n",
       "max      6.840000e+03\n",
       "Name: exp_trip_duration, dtype: float64"
      ]
     },
     "execution_count": 21,
     "metadata": {},
     "output_type": "execute_result"
    }
   ],
   "source": [
    "# Get distribution\n",
    "schedules_stops_df['exp_trip_duration'].describe()"
   ]
  },
  {
   "cell_type": "code",
   "execution_count": 22,
   "id": "03624e68",
   "metadata": {},
   "outputs": [],
   "source": [
    "# Calculate expected delay between previous and current stop\n",
    "schedules_stops_df['exp_delay_prev_stop'] = (schedules_stops_df['parsed_time'] - schedules_stops_df['parsed_prev_time']) / pd.Timedelta(seconds=1)"
   ]
  },
  {
   "cell_type": "code",
   "execution_count": 23,
   "id": "05ff6c25",
   "metadata": {},
   "outputs": [
    {
     "data": {
      "text/plain": [
       "count    6.216518e+06\n",
       "mean     6.134963e+01\n",
       "std      6.562132e+01\n",
       "min      3.000000e+00\n",
       "25%      3.500000e+01\n",
       "50%      4.900000e+01\n",
       "75%      6.800000e+01\n",
       "max      2.220000e+03\n",
       "Name: exp_delay_prev_stop, dtype: float64"
      ]
     },
     "execution_count": 23,
     "metadata": {},
     "output_type": "execute_result"
    }
   ],
   "source": [
    "# Get distribution\n",
    "schedules_stops_df['exp_delay_prev_stop'].describe()"
   ]
  },
  {
   "cell_type": "code",
   "execution_count": 24,
   "id": "8169a782",
   "metadata": {},
   "outputs": [],
   "source": [
    "# Assert that the null values are from first stops\n",
    "assert (schedules_stops_df['stop_sequence'] == 1).sum() == schedules_stops_df['exp_delay_prev_stop'].isna().sum()"
   ]
  },
  {
   "cell_type": "code",
   "execution_count": 25,
   "id": "14f63820",
   "metadata": {},
   "outputs": [],
   "source": [
    "# Fill null values with 0 (first stop)\n",
    "schedules_stops_df['exp_delay_prev_stop'] = schedules_stops_df['exp_delay_prev_stop'].fillna(0)"
   ]
  },
  {
   "cell_type": "code",
   "execution_count": 26,
   "id": "b544cb6a",
   "metadata": {},
   "outputs": [],
   "source": [
    "# Create GeoDataFrames for previous and current stop\n",
    "sch_gdf1 = gpd.GeoDataFrame(\n",
    "  schedules_stops_df[['prev_lon', 'prev_lat']],\n",
    "  geometry=gpd.points_from_xy(schedules_stops_df['prev_lon'], schedules_stops_df['prev_lat']),\n",
    "  crs='EPSG:4326' # WGS84 (sea level)\n",
    ").to_crs(epsg=3857) # Convert to metric\n",
    "\n",
    "sch_gdf2 = gpd.GeoDataFrame(\n",
    "  schedules_stops_df[['stop_lon', 'stop_lat']],\n",
    "  geometry=gpd.points_from_xy(schedules_stops_df['stop_lon'], schedules_stops_df['stop_lat']),\n",
    "  crs='EPSG:4326'\n",
    ").to_crs(epsg=3857)"
   ]
  },
  {
   "cell_type": "code",
   "execution_count": 27,
   "id": "e9b93e3f",
   "metadata": {},
   "outputs": [
    {
     "data": {
      "text/plain": [
       "count    6.216518e+06\n",
       "mean     4.019345e+02\n",
       "std      7.161721e+02\n",
       "min      2.092191e+01\n",
       "25%      2.490739e+02\n",
       "50%      3.286372e+02\n",
       "75%      4.299291e+02\n",
       "max      1.965439e+04\n",
       "Name: stop_distance, dtype: float64"
      ]
     },
     "execution_count": 27,
     "metadata": {},
     "output_type": "execute_result"
    }
   ],
   "source": [
    "# Calculate distance from previous stop\n",
    "schedules_stops_df['stop_distance'] = sch_gdf1.distance(sch_gdf2)\n",
    "schedules_stops_df['stop_distance'].describe()"
   ]
  },
  {
   "cell_type": "code",
   "execution_count": 28,
   "id": "ecd75d21",
   "metadata": {},
   "outputs": [],
   "source": [
    "# Replace null distances by zero (first stop of the trip)\n",
    "schedules_stops_df['stop_distance'] = schedules_stops_df['stop_distance'].fillna(0)\n",
    "assert schedules_stops_df['stop_distance'].isna().sum() == 0"
   ]
  },
  {
   "cell_type": "code",
   "execution_count": 29,
   "id": "2069b73c",
   "metadata": {},
   "outputs": [
    {
     "data": {
      "text/plain": [
       "trip_id                                    281377832\n",
       "arrival_time                                05:33:00\n",
       "departure_time                              05:33:00\n",
       "stop_id                                        61261\n",
       "stop_sequence                                     13\n",
       "trip_progress                                    1.0\n",
       "stop_name              YUL Aéroport Montréal-Trudeau\n",
       "stop_lat                                   45.456622\n",
       "stop_lon                                  -73.751615\n",
       "location_type                                      0\n",
       "parent_station                                   NaN\n",
       "wheelchair_boarding                                1\n",
       "prev_lat                                   45.482527\n",
       "prev_lon                                  -73.578964\n",
       "prev_stop_id                                 61334.0\n",
       "prev_time                                   05:12:00\n",
       "today                            2025-05-08 00:00:00\n",
       "parsed_time                2025-05-08 05:33:00-04:00\n",
       "parsed_prev_time           2025-05-08 05:12:00-04:00\n",
       "trip_start                 2025-05-08 04:50:00-04:00\n",
       "trip_end                   2025-05-08 05:33:00-04:00\n",
       "exp_trip_duration                             2580.0\n",
       "exp_delay_prev_stop                           1260.0\n",
       "stop_distance                            19654.39188\n",
       "Name: 124692, dtype: object"
      ]
     },
     "execution_count": 29,
     "metadata": {},
     "output_type": "execute_result"
    }
   ],
   "source": [
    "# Get stop with largest distance\n",
    "schedules_stops_df.iloc[schedules_stops_df['stop_distance'].idxmax()]"
   ]
  },
  {
   "cell_type": "markdown",
   "id": "0f5e5b5a",
   "metadata": {},
   "source": [
    "The large distance make sense because the expected time between the the previous stop and this one is 21 minutes."
   ]
  },
  {
   "cell_type": "code",
   "execution_count": 30,
   "id": "5e861489",
   "metadata": {},
   "outputs": [
    {
     "data": {
      "text/plain": [
       "Index(['trip_id', 'arrival_time', 'departure_time', 'stop_id', 'stop_sequence',\n",
       "       'trip_progress', 'stop_name', 'stop_lat', 'stop_lon', 'location_type',\n",
       "       'parent_station', 'wheelchair_boarding', 'prev_lat', 'prev_lon',\n",
       "       'prev_stop_id', 'prev_time', 'today', 'parsed_time', 'parsed_prev_time',\n",
       "       'trip_start', 'trip_end', 'exp_trip_duration', 'exp_delay_prev_stop',\n",
       "       'stop_distance'],\n",
       "      dtype='object')"
      ]
     },
     "execution_count": 30,
     "metadata": {},
     "output_type": "execute_result"
    }
   ],
   "source": [
    "schedules_stops_df.columns"
   ]
  },
  {
   "cell_type": "code",
   "execution_count": 31,
   "id": "81aac6e6",
   "metadata": {},
   "outputs": [],
   "source": [
    "# Drop unneeded columns\n",
    "schedules_stops_df = schedules_stops_df.drop([\n",
    "  'prev_lat',\n",
    "  'prev_lon',\n",
    "  'prev_time',\n",
    "  'today',\n",
    "  'parsed_time',\n",
    "  'parsed_prev_time',\n",
    "  'trip_start', \n",
    "  'trip_end',\n",
    "  ], axis=1)"
   ]
  },
  {
   "cell_type": "markdown",
   "id": "a66bea68",
   "metadata": {},
   "source": [
    "### Trips"
   ]
  },
  {
   "cell_type": "code",
   "execution_count": 32,
   "id": "b92861b0",
   "metadata": {},
   "outputs": [],
   "source": [
    "# Keep relevant columns\n",
    "trips_df = trips_df[['trip_id', 'route_id', 'trip_headsign', 'wheelchair_accessible']]"
   ]
  },
  {
   "cell_type": "code",
   "execution_count": 33,
   "id": "14997772",
   "metadata": {},
   "outputs": [],
   "source": [
    "# Rename trip_headsign\n",
    "trips_df = trips_df.rename(columns={'trip_headsign': 'route_direction'})"
   ]
  },
  {
   "cell_type": "code",
   "execution_count": 34,
   "id": "79d7e36c",
   "metadata": {},
   "outputs": [
    {
     "data": {
      "text/plain": [
       "route_direction\n",
       "West     58582\n",
       "East     57518\n",
       "North    28531\n",
       "South    27592\n",
       "Metro    12372\n",
       "Name: count, dtype: int64"
      ]
     },
     "execution_count": 34,
     "metadata": {},
     "output_type": "execute_result"
    }
   ],
   "source": [
    "# Translate directions\n",
    "condition_list = [\n",
    "\ttrips_df['route_direction'].str.contains('Nord'),\n",
    "\ttrips_df['route_direction'].str.contains('Sud'),\n",
    "  \ttrips_df['route_direction'].str.contains('Ouest'),\n",
    "  \ttrips_df['route_direction'].str.contains('Est'),\n",
    "]\n",
    "label_list = ['North', 'South', 'West', 'East']\n",
    "\n",
    "trips_df['route_direction'] = np.select(condition_list, label_list, default='Metro')\t\n",
    "trips_df['route_direction'].value_counts()"
   ]
  },
  {
   "cell_type": "code",
   "execution_count": 35,
   "id": "892dead1",
   "metadata": {},
   "outputs": [
    {
     "name": "stdout",
     "output_type": "stream",
     "text": [
      "<class 'pandas.core.frame.DataFrame'>\n",
      "RangeIndex: 184595 entries, 0 to 184594\n",
      "Data columns (total 4 columns):\n",
      " #   Column                 Non-Null Count   Dtype \n",
      "---  ------                 --------------   ----- \n",
      " 0   trip_id                184595 non-null  int64 \n",
      " 1   route_id               184595 non-null  int64 \n",
      " 2   route_direction        184595 non-null  object\n",
      " 3   wheelchair_accessible  184595 non-null  int64 \n",
      "dtypes: int64(3), object(1)\n",
      "memory usage: 5.6+ MB\n"
     ]
    }
   ],
   "source": [
    "trips_df.info()"
   ]
  },
  {
   "cell_type": "code",
   "execution_count": 36,
   "id": "e2e064c0",
   "metadata": {},
   "outputs": [
    {
     "data": {
      "text/plain": [
       "Index(['trip_id', 'arrival_time', 'departure_time', 'stop_id', 'stop_sequence',\n",
       "       'trip_progress', 'stop_name', 'stop_lat', 'stop_lon', 'location_type',\n",
       "       'parent_station', 'wheelchair_boarding', 'prev_stop_id',\n",
       "       'exp_trip_duration', 'exp_delay_prev_stop', 'stop_distance'],\n",
       "      dtype='object')"
      ]
     },
     "execution_count": 36,
     "metadata": {},
     "output_type": "execute_result"
    }
   ],
   "source": [
    "schedules_stops_df.columns"
   ]
  },
  {
   "cell_type": "code",
   "execution_count": 37,
   "id": "4751c053",
   "metadata": {},
   "outputs": [],
   "source": [
    "# Merge with schedules and stops\n",
    "scheduled_trips_df = pd.merge(left=schedules_stops_df, right=trips_df, how='inner', on='trip_id')"
   ]
  },
  {
   "cell_type": "code",
   "execution_count": 38,
   "id": "1be4c4e0",
   "metadata": {},
   "outputs": [
    {
     "data": {
      "text/plain": [
       "trip_id                        0\n",
       "arrival_time                   0\n",
       "departure_time                 0\n",
       "stop_id                        0\n",
       "stop_sequence                  0\n",
       "trip_progress                  0\n",
       "stop_name                      0\n",
       "stop_lat                       0\n",
       "stop_lon                       0\n",
       "location_type                  0\n",
       "parent_station           6388741\n",
       "wheelchair_boarding            0\n",
       "prev_stop_id              172223\n",
       "exp_trip_duration              0\n",
       "exp_delay_prev_stop            0\n",
       "stop_distance                  0\n",
       "route_id                       0\n",
       "route_direction                0\n",
       "wheelchair_accessible          0\n",
       "dtype: int64"
      ]
     },
     "execution_count": 38,
     "metadata": {},
     "output_type": "execute_result"
    }
   ],
   "source": [
    "scheduled_trips_df.isna().sum()"
   ]
  },
  {
   "cell_type": "code",
   "execution_count": 39,
   "id": "7e822aa1",
   "metadata": {},
   "outputs": [
    {
     "data": {
      "application/vnd.microsoft.datawrangler.viewer.v0+json": {
       "columns": [
        {
         "name": "index",
         "rawType": "int64",
         "type": "integer"
        },
        {
         "name": "trip_id",
         "rawType": "int64",
         "type": "integer"
        },
        {
         "name": "arrival_time",
         "rawType": "object",
         "type": "string"
        },
        {
         "name": "departure_time",
         "rawType": "object",
         "type": "string"
        },
        {
         "name": "stop_id",
         "rawType": "int64",
         "type": "integer"
        },
        {
         "name": "stop_sequence",
         "rawType": "int64",
         "type": "integer"
        },
        {
         "name": "trip_progress",
         "rawType": "float64",
         "type": "float"
        },
        {
         "name": "stop_name",
         "rawType": "object",
         "type": "string"
        },
        {
         "name": "stop_lat",
         "rawType": "float64",
         "type": "float"
        },
        {
         "name": "stop_lon",
         "rawType": "float64",
         "type": "float"
        },
        {
         "name": "location_type",
         "rawType": "int64",
         "type": "integer"
        },
        {
         "name": "parent_station",
         "rawType": "object",
         "type": "unknown"
        },
        {
         "name": "wheelchair_boarding",
         "rawType": "int64",
         "type": "integer"
        },
        {
         "name": "prev_stop_id",
         "rawType": "float64",
         "type": "float"
        },
        {
         "name": "exp_trip_duration",
         "rawType": "float64",
         "type": "float"
        },
        {
         "name": "exp_delay_prev_stop",
         "rawType": "float64",
         "type": "float"
        },
        {
         "name": "stop_distance",
         "rawType": "float64",
         "type": "float"
        },
        {
         "name": "route_id",
         "rawType": "int64",
         "type": "integer"
        },
        {
         "name": "route_direction",
         "rawType": "object",
         "type": "string"
        },
        {
         "name": "wheelchair_accessible",
         "rawType": "int64",
         "type": "integer"
        }
       ],
       "conversionMethod": "pd.DataFrame",
       "ref": "638c927a-20ae-4f8d-b25c-5ac5e4210f5d",
       "rows": [
        [
         "11",
         "280882183",
         "05:01:32",
         "05:01:32",
         "56408",
         "12",
         "0.26666666666666666",
         "Fleet / Pinedale",
         "45.476701",
         "-73.651768",
         "0",
         null,
         "2",
         "56404.0",
         "1920.0",
         "17.0",
         "196.70815533824745",
         "161",
         "East",
         "1"
        ],
        [
         "13",
         "280882183",
         "05:02:36",
         "05:02:36",
         "56312",
         "14",
         "0.3111111111111111",
         "Fleet / Queen-Mary",
         "45.480657",
         "-73.648178",
         "0",
         null,
         "2",
         "56310.0",
         "1920.0",
         "47.0",
         "541.3521074461844",
         "161",
         "East",
         "1"
        ],
        [
         "16",
         "280882183",
         "05:04:00",
         "05:04:00",
         "50643",
         "17",
         "0.37777777777777777",
         "Fleet / Macdonald",
         "45.486138",
         "-73.645128",
         "0",
         null,
         "2",
         "56315.0",
         "1920.0",
         "23.0",
         "258.10653625795175",
         "161",
         "East",
         "1"
        ],
        [
         "37",
         "280882183",
         "05:19:00",
         "05:19:00",
         "62052",
         "38",
         "0.8444444444444444",
         "Van Horne / Dollard",
         "45.51929",
         "-73.615882",
         "0",
         null,
         "2",
         "56173.0",
         "1920.0",
         "16.0",
         "113.54514407929341",
         "161",
         "East",
         "1"
        ],
        [
         "38",
         "280882183",
         "05:19:53",
         "05:19:53",
         "61990",
         "39",
         "0.8666666666666667",
         "Station Outremont (Van Horne / Outremont)",
         "45.521152",
         "-73.614188",
         "0",
         null,
         "2",
         "62052.0",
         "1920.0",
         "53.0",
         "350.82356020955024",
         "161",
         "East",
         "1"
        ],
        [
         "74",
         "280882184",
         "06:08:45",
         "06:08:45",
         "56311",
         "30",
         "0.625",
         "Fleet / Queen-Mary",
         "45.480916",
         "-73.648196",
         "0",
         null,
         "2",
         "56313.0",
         "2280.0",
         "45.0",
         "369.716006108145",
         "161",
         "West",
         "1"
        ],
        [
         "104",
         "280882185",
         "06:34:55",
         "06:34:55",
         "56408",
         "12",
         "0.26666666666666666",
         "Fleet / Pinedale",
         "45.476701",
         "-73.651768",
         "0",
         null,
         "2",
         "56404.0",
         "2040.0",
         "21.0",
         "196.70815533824745",
         "161",
         "East",
         "1"
        ],
        [
         "106",
         "280882185",
         "06:36:15",
         "06:36:15",
         "56312",
         "14",
         "0.3111111111111111",
         "Fleet / Queen-Mary",
         "45.480657",
         "-73.648178",
         "0",
         null,
         "2",
         "56310.0",
         "2040.0",
         "58.0",
         "541.3521074461844",
         "161",
         "East",
         "1"
        ],
        [
         "109",
         "280882185",
         "06:38:00",
         "06:38:00",
         "50643",
         "17",
         "0.37777777777777777",
         "Fleet / Macdonald",
         "45.486138",
         "-73.645128",
         "0",
         null,
         "2",
         "56315.0",
         "2040.0",
         "28.0",
         "258.10653625795175",
         "161",
         "East",
         "1"
        ],
        [
         "130",
         "280882185",
         "06:53:00",
         "06:53:00",
         "62052",
         "38",
         "0.8444444444444444",
         "Van Horne / Dollard",
         "45.51929",
         "-73.615882",
         "0",
         null,
         "2",
         "56173.0",
         "2040.0",
         "16.0",
         "113.54514407929341",
         "161",
         "East",
         "1"
        ],
        [
         "131",
         "280882185",
         "06:54:07",
         "06:54:07",
         "61990",
         "39",
         "0.8666666666666667",
         "Station Outremont (Van Horne / Outremont)",
         "45.521152",
         "-73.614188",
         "0",
         null,
         "2",
         "62052.0",
         "2040.0",
         "67.0",
         "350.82356020955024",
         "161",
         "East",
         "1"
        ],
        [
         "167",
         "280882186",
         "07:29:45",
         "07:29:45",
         "56311",
         "30",
         "0.625",
         "Fleet / Queen-Mary",
         "45.480916",
         "-73.648196",
         "0",
         null,
         "2",
         "56313.0",
         "2340.0",
         "45.0",
         "369.716006108145",
         "161",
         "West",
         "1"
        ],
        [
         "197",
         "280882187",
         "07:58:55",
         "07:58:55",
         "56408",
         "12",
         "0.26666666666666666",
         "Fleet / Pinedale",
         "45.476701",
         "-73.651768",
         "0",
         null,
         "2",
         "56404.0",
         "2220.0",
         "21.0",
         "196.70815533824745",
         "161",
         "East",
         "1"
        ],
        [
         "199",
         "280882187",
         "08:00:15",
         "08:00:15",
         "56312",
         "14",
         "0.3111111111111111",
         "Fleet / Queen-Mary",
         "45.480657",
         "-73.648178",
         "0",
         null,
         "2",
         "56310.0",
         "2220.0",
         "58.0",
         "541.3521074461844",
         "161",
         "East",
         "1"
        ],
        [
         "202",
         "280882187",
         "08:02:00",
         "08:02:00",
         "50643",
         "17",
         "0.37777777777777777",
         "Fleet / Macdonald",
         "45.486138",
         "-73.645128",
         "0",
         null,
         "2",
         "56315.0",
         "2220.0",
         "28.0",
         "258.10653625795175",
         "161",
         "East",
         "1"
        ],
        [
         "223",
         "280882187",
         "08:18:00",
         "08:18:00",
         "62052",
         "38",
         "0.8444444444444444",
         "Van Horne / Dollard",
         "45.51929",
         "-73.615882",
         "0",
         null,
         "2",
         "56173.0",
         "2220.0",
         "16.0",
         "113.54514407929341",
         "161",
         "East",
         "1"
        ],
        [
         "224",
         "280882187",
         "08:19:20",
         "08:19:20",
         "61990",
         "39",
         "0.8666666666666667",
         "Station Outremont (Van Horne / Outremont)",
         "45.521152",
         "-73.614188",
         "0",
         null,
         "2",
         "62052.0",
         "2220.0",
         "80.0",
         "350.82356020955024",
         "161",
         "East",
         "1"
        ],
        [
         "260",
         "280882188",
         "08:58:45",
         "08:58:45",
         "56311",
         "30",
         "0.625",
         "Fleet / Queen-Mary",
         "45.480916",
         "-73.648196",
         "0",
         null,
         "2",
         "56313.0",
         "2580.0",
         "45.0",
         "369.716006108145",
         "161",
         "West",
         "1"
        ],
        [
         "290",
         "280882189",
         "09:26:55",
         "09:26:55",
         "56408",
         "12",
         "0.26666666666666666",
         "Fleet / Pinedale",
         "45.476701",
         "-73.651768",
         "0",
         null,
         "2",
         "56404.0",
         "2460.0",
         "21.0",
         "196.70815533824745",
         "161",
         "East",
         "1"
        ],
        [
         "292",
         "280882189",
         "09:28:15",
         "09:28:15",
         "56312",
         "14",
         "0.3111111111111111",
         "Fleet / Queen-Mary",
         "45.480657",
         "-73.648178",
         "0",
         null,
         "2",
         "56310.0",
         "2460.0",
         "58.0",
         "541.3521074461844",
         "161",
         "East",
         "1"
        ],
        [
         "295",
         "280882189",
         "09:30:00",
         "09:30:00",
         "50643",
         "17",
         "0.37777777777777777",
         "Fleet / Macdonald",
         "45.486138",
         "-73.645128",
         "0",
         null,
         "2",
         "56315.0",
         "2460.0",
         "28.0",
         "258.10653625795175",
         "161",
         "East",
         "1"
        ],
        [
         "316",
         "280882189",
         "09:50:00",
         "09:50:00",
         "62052",
         "38",
         "0.8444444444444444",
         "Van Horne / Dollard",
         "45.51929",
         "-73.615882",
         "0",
         null,
         "2",
         "56173.0",
         "2460.0",
         "23.0",
         "113.54514407929341",
         "161",
         "East",
         "1"
        ],
        [
         "317",
         "280882189",
         "09:51:20",
         "09:51:20",
         "61990",
         "39",
         "0.8666666666666667",
         "Station Outremont (Van Horne / Outremont)",
         "45.521152",
         "-73.614188",
         "0",
         null,
         "2",
         "62052.0",
         "2460.0",
         "80.0",
         "350.82356020955024",
         "161",
         "East",
         "1"
        ],
        [
         "353",
         "280882190",
         "10:34:45",
         "10:34:45",
         "56311",
         "30",
         "0.625",
         "Fleet / Queen-Mary",
         "45.480916",
         "-73.648196",
         "0",
         null,
         "2",
         "56313.0",
         "2580.0",
         "45.0",
         "369.716006108145",
         "161",
         "West",
         "1"
        ],
        [
         "383",
         "280882191",
         "11:05:18",
         "11:05:18",
         "56408",
         "12",
         "0.26666666666666666",
         "Fleet / Pinedale",
         "45.476701",
         "-73.651768",
         "0",
         null,
         "2",
         "56404.0",
         "2520.0",
         "26.0",
         "196.70815533824745",
         "161",
         "East",
         "1"
        ],
        [
         "385",
         "280882191",
         "11:06:54",
         "11:06:54",
         "56312",
         "14",
         "0.3111111111111111",
         "Fleet / Queen-Mary",
         "45.480657",
         "-73.648178",
         "0",
         null,
         "2",
         "56310.0",
         "2520.0",
         "70.0",
         "541.3521074461844",
         "161",
         "East",
         "1"
        ],
        [
         "388",
         "280882191",
         "11:09:00",
         "11:09:00",
         "50643",
         "17",
         "0.37777777777777777",
         "Fleet / Macdonald",
         "45.486138",
         "-73.645128",
         "0",
         null,
         "2",
         "56315.0",
         "2520.0",
         "34.0",
         "258.10653625795175",
         "161",
         "East",
         "1"
        ],
        [
         "409",
         "280882191",
         "11:29:00",
         "11:29:00",
         "62052",
         "38",
         "0.8444444444444444",
         "Van Horne / Dollard",
         "45.51929",
         "-73.615882",
         "0",
         null,
         "2",
         "56173.0",
         "2520.0",
         "23.0",
         "113.54514407929341",
         "161",
         "East",
         "1"
        ],
        [
         "410",
         "280882191",
         "11:30:20",
         "11:30:20",
         "61990",
         "39",
         "0.8666666666666667",
         "Station Outremont (Van Horne / Outremont)",
         "45.521152",
         "-73.614188",
         "0",
         null,
         "2",
         "62052.0",
         "2520.0",
         "80.0",
         "350.82356020955024",
         "161",
         "East",
         "1"
        ],
        [
         "446",
         "280882192",
         "12:12:45",
         "12:12:45",
         "56311",
         "30",
         "0.625",
         "Fleet / Queen-Mary",
         "45.480916",
         "-73.648196",
         "0",
         null,
         "2",
         "56313.0",
         "2580.0",
         "45.0",
         "369.716006108145",
         "161",
         "West",
         "1"
        ],
        [
         "476",
         "280882193",
         "12:58:18",
         "12:58:18",
         "56408",
         "12",
         "0.26666666666666666",
         "Fleet / Pinedale",
         "45.476701",
         "-73.651768",
         "0",
         null,
         "2",
         "56404.0",
         "2580.0",
         "26.0",
         "196.70815533824745",
         "161",
         "East",
         "1"
        ],
        [
         "478",
         "280882193",
         "12:59:54",
         "12:59:54",
         "56312",
         "14",
         "0.3111111111111111",
         "Fleet / Queen-Mary",
         "45.480657",
         "-73.648178",
         "0",
         null,
         "2",
         "56310.0",
         "2580.0",
         "70.0",
         "541.3521074461844",
         "161",
         "East",
         "1"
        ],
        [
         "481",
         "280882193",
         "13:02:00",
         "13:02:00",
         "50643",
         "17",
         "0.37777777777777777",
         "Fleet / Macdonald",
         "45.486138",
         "-73.645128",
         "0",
         null,
         "2",
         "56315.0",
         "2580.0",
         "34.0",
         "258.10653625795175",
         "161",
         "East",
         "1"
        ],
        [
         "502",
         "280882193",
         "13:23:00",
         "13:23:00",
         "62052",
         "38",
         "0.8444444444444444",
         "Van Horne / Dollard",
         "45.51929",
         "-73.615882",
         "0",
         null,
         "2",
         "56173.0",
         "2580.0",
         "23.0",
         "113.54514407929341",
         "161",
         "East",
         "1"
        ],
        [
         "503",
         "280882193",
         "13:24:20",
         "13:24:20",
         "61990",
         "39",
         "0.8666666666666667",
         "Station Outremont (Van Horne / Outremont)",
         "45.521152",
         "-73.614188",
         "0",
         null,
         "2",
         "62052.0",
         "2580.0",
         "80.0",
         "350.82356020955024",
         "161",
         "East",
         "1"
        ],
        [
         "551",
         "280882195",
         "14:15:00",
         "14:15:00",
         "53201",
         "42",
         "0.9767441860465116",
         "de Marseille / Boutet",
         "45.580953",
         "-73.539504",
         "0",
         null,
         "2",
         "54292.0",
         "2340.0",
         "60.0",
         "380.18288489351863",
         "197",
         "East",
         "1"
        ],
        [
         "632",
         "280882198",
         "15:39:00",
         "15:39:00",
         "53201",
         "42",
         "0.9767441860465116",
         "de Marseille / Boutet",
         "45.580953",
         "-73.539504",
         "0",
         null,
         "2",
         "54292.0",
         "2340.0",
         "60.0",
         "380.18288489351863",
         "197",
         "East",
         "1"
        ],
        [
         "713",
         "280882201",
         "17:01:00",
         "17:01:00",
         "53201",
         "42",
         "0.9767441860465116",
         "de Marseille / Boutet",
         "45.580953",
         "-73.539504",
         "0",
         null,
         "2",
         "54292.0",
         "2220.0",
         "60.0",
         "380.18288489351863",
         "197",
         "East",
         "1"
        ],
        [
         "791",
         "280882204",
         "18:29:00",
         "18:29:00",
         "53201",
         "39",
         "0.975",
         "de Marseille / Boutet",
         "45.580953",
         "-73.539504",
         "0",
         null,
         "2",
         "54289.0",
         "2040.0",
         "180.0",
         "412.60411237175896",
         "197",
         "East",
         "1"
        ],
        [
         "869",
         "280882207",
         "19:48:00",
         "19:48:00",
         "53201",
         "39",
         "0.975",
         "de Marseille / Boutet",
         "45.580953",
         "-73.539504",
         "0",
         null,
         "2",
         "54289.0",
         "1980.0",
         "180.0",
         "412.60411237175896",
         "197",
         "East",
         "1"
        ],
        [
         "947",
         "280882210",
         "21:10:00",
         "21:10:00",
         "53201",
         "39",
         "0.975",
         "de Marseille / Boutet",
         "45.580953",
         "-73.539504",
         "0",
         null,
         "2",
         "54289.0",
         "1980.0",
         "180.0",
         "412.60411237175896",
         "197",
         "East",
         "1"
        ],
        [
         "1025",
         "280882213",
         "22:35:00",
         "22:35:00",
         "53201",
         "39",
         "0.975",
         "de Marseille / Boutet",
         "45.580953",
         "-73.539504",
         "0",
         null,
         "2",
         "54289.0",
         "1980.0",
         "180.0",
         "412.60411237175896",
         "197",
         "East",
         "1"
        ],
        [
         "1103",
         "280882216",
         "24:09:00",
         "24:09:00",
         "53201",
         "39",
         "0.975",
         "de Marseille / Boutet",
         "45.580953",
         "-73.539504",
         "0",
         null,
         "2",
         "54289.0",
         "1860.0",
         "180.0",
         "412.60411237175896",
         "197",
         "East",
         "1"
        ],
        [
         "1157",
         "280882221",
         "04:50:59",
         "04:50:59",
         "50345",
         "3",
         "0.06818181818181818",
         "Saint-Hubert / Prieur",
         "45.557205",
         "-73.66347",
         "0",
         null,
         "2",
         "50318.0",
         "2040.0",
         "29.0",
         "378.60368235540716",
         "30",
         "South",
         "1"
        ],
        [
         "1196",
         "280882221",
         "05:20:27",
         "05:20:27",
         "52977",
         "42",
         "0.9545454545454546",
         "Berri / Viger",
         "45.512328",
         "-73.554704",
         "0",
         null,
         "2",
         "52906.0",
         "2040.0",
         "53.0",
         "392.7326461785599",
         "30",
         "South",
         "1"
        ],
        [
         "1198",
         "280882221",
         "05:24:00",
         "05:24:00",
         "60614",
         "44",
         "1.0",
         "Atateken / Viger",
         "45.515254",
         "-73.552096",
         "0",
         null,
         "2",
         "60613.0",
         "2040.0",
         "180.0",
         "400.75384992647133",
         "30",
         "South",
         "1"
        ],
        [
         "1199",
         "280882222",
         "05:30:00",
         "05:30:00",
         "60614",
         "1",
         "0.022222222222222223",
         "Atateken / Viger",
         "45.515254",
         "-73.552096",
         "0",
         null,
         "2",
         null,
         "2220.0",
         "0.0",
         "0.0",
         "30",
         "North",
         "1"
        ],
        [
         "1205",
         "280882222",
         "05:35:16",
         "05:35:16",
         "52585",
         "7",
         "0.15555555555555556",
         "Berri / Sherbrooke",
         "45.517925",
         "-73.566309",
         "0",
         null,
         "2",
         "52662.0",
         "2220.0",
         "40.0",
         "240.145996346458",
         "30",
         "North",
         "1"
        ],
        [
         "1217",
         "280882222",
         "05:46:00",
         "05:46:00",
         "62141",
         "19",
         "0.4222222222222222",
         "Rosemont / De Saint-Vallier",
         "45.531955",
         "-73.597485",
         "0",
         null,
         "2",
         "61904.0",
         "2220.0",
         "103.0",
         "581.1764047796974",
         "30",
         "North",
         "1"
        ],
        [
         "1246",
         "280882224",
         "06:12:59",
         "06:12:59",
         "50345",
         "3",
         "0.06818181818181818",
         "Saint-Hubert / Prieur",
         "45.557205",
         "-73.66347",
         "0",
         null,
         "2",
         "50318.0",
         "2160.0",
         "29.0",
         "378.60368235540716",
         "30",
         "South",
         "1"
        ]
       ],
       "shape": {
        "columns": 19,
        "rows": 1887543
       }
      },
      "text/html": [
       "<div>\n",
       "<style scoped>\n",
       "    .dataframe tbody tr th:only-of-type {\n",
       "        vertical-align: middle;\n",
       "    }\n",
       "\n",
       "    .dataframe tbody tr th {\n",
       "        vertical-align: top;\n",
       "    }\n",
       "\n",
       "    .dataframe thead th {\n",
       "        text-align: right;\n",
       "    }\n",
       "</style>\n",
       "<table border=\"1\" class=\"dataframe\">\n",
       "  <thead>\n",
       "    <tr style=\"text-align: right;\">\n",
       "      <th></th>\n",
       "      <th>trip_id</th>\n",
       "      <th>arrival_time</th>\n",
       "      <th>departure_time</th>\n",
       "      <th>stop_id</th>\n",
       "      <th>stop_sequence</th>\n",
       "      <th>trip_progress</th>\n",
       "      <th>stop_name</th>\n",
       "      <th>stop_lat</th>\n",
       "      <th>stop_lon</th>\n",
       "      <th>location_type</th>\n",
       "      <th>parent_station</th>\n",
       "      <th>wheelchair_boarding</th>\n",
       "      <th>prev_stop_id</th>\n",
       "      <th>exp_trip_duration</th>\n",
       "      <th>exp_delay_prev_stop</th>\n",
       "      <th>stop_distance</th>\n",
       "      <th>route_id</th>\n",
       "      <th>route_direction</th>\n",
       "      <th>wheelchair_accessible</th>\n",
       "    </tr>\n",
       "  </thead>\n",
       "  <tbody>\n",
       "    <tr>\n",
       "      <th>11</th>\n",
       "      <td>280882183</td>\n",
       "      <td>05:01:32</td>\n",
       "      <td>05:01:32</td>\n",
       "      <td>56408</td>\n",
       "      <td>12</td>\n",
       "      <td>0.266667</td>\n",
       "      <td>Fleet / Pinedale</td>\n",
       "      <td>45.476701</td>\n",
       "      <td>-73.651768</td>\n",
       "      <td>0</td>\n",
       "      <td>NaN</td>\n",
       "      <td>2</td>\n",
       "      <td>56404.0</td>\n",
       "      <td>1920.0</td>\n",
       "      <td>17.0</td>\n",
       "      <td>196.708155</td>\n",
       "      <td>161</td>\n",
       "      <td>East</td>\n",
       "      <td>1</td>\n",
       "    </tr>\n",
       "    <tr>\n",
       "      <th>13</th>\n",
       "      <td>280882183</td>\n",
       "      <td>05:02:36</td>\n",
       "      <td>05:02:36</td>\n",
       "      <td>56312</td>\n",
       "      <td>14</td>\n",
       "      <td>0.311111</td>\n",
       "      <td>Fleet / Queen-Mary</td>\n",
       "      <td>45.480657</td>\n",
       "      <td>-73.648178</td>\n",
       "      <td>0</td>\n",
       "      <td>NaN</td>\n",
       "      <td>2</td>\n",
       "      <td>56310.0</td>\n",
       "      <td>1920.0</td>\n",
       "      <td>47.0</td>\n",
       "      <td>541.352107</td>\n",
       "      <td>161</td>\n",
       "      <td>East</td>\n",
       "      <td>1</td>\n",
       "    </tr>\n",
       "    <tr>\n",
       "      <th>16</th>\n",
       "      <td>280882183</td>\n",
       "      <td>05:04:00</td>\n",
       "      <td>05:04:00</td>\n",
       "      <td>50643</td>\n",
       "      <td>17</td>\n",
       "      <td>0.377778</td>\n",
       "      <td>Fleet / Macdonald</td>\n",
       "      <td>45.486138</td>\n",
       "      <td>-73.645128</td>\n",
       "      <td>0</td>\n",
       "      <td>NaN</td>\n",
       "      <td>2</td>\n",
       "      <td>56315.0</td>\n",
       "      <td>1920.0</td>\n",
       "      <td>23.0</td>\n",
       "      <td>258.106536</td>\n",
       "      <td>161</td>\n",
       "      <td>East</td>\n",
       "      <td>1</td>\n",
       "    </tr>\n",
       "    <tr>\n",
       "      <th>37</th>\n",
       "      <td>280882183</td>\n",
       "      <td>05:19:00</td>\n",
       "      <td>05:19:00</td>\n",
       "      <td>62052</td>\n",
       "      <td>38</td>\n",
       "      <td>0.844444</td>\n",
       "      <td>Van Horne / Dollard</td>\n",
       "      <td>45.519290</td>\n",
       "      <td>-73.615882</td>\n",
       "      <td>0</td>\n",
       "      <td>NaN</td>\n",
       "      <td>2</td>\n",
       "      <td>56173.0</td>\n",
       "      <td>1920.0</td>\n",
       "      <td>16.0</td>\n",
       "      <td>113.545144</td>\n",
       "      <td>161</td>\n",
       "      <td>East</td>\n",
       "      <td>1</td>\n",
       "    </tr>\n",
       "    <tr>\n",
       "      <th>38</th>\n",
       "      <td>280882183</td>\n",
       "      <td>05:19:53</td>\n",
       "      <td>05:19:53</td>\n",
       "      <td>61990</td>\n",
       "      <td>39</td>\n",
       "      <td>0.866667</td>\n",
       "      <td>Station Outremont (Van Horne / Outremont)</td>\n",
       "      <td>45.521152</td>\n",
       "      <td>-73.614188</td>\n",
       "      <td>0</td>\n",
       "      <td>NaN</td>\n",
       "      <td>2</td>\n",
       "      <td>62052.0</td>\n",
       "      <td>1920.0</td>\n",
       "      <td>53.0</td>\n",
       "      <td>350.823560</td>\n",
       "      <td>161</td>\n",
       "      <td>East</td>\n",
       "      <td>1</td>\n",
       "    </tr>\n",
       "    <tr>\n",
       "      <th>...</th>\n",
       "      <td>...</td>\n",
       "      <td>...</td>\n",
       "      <td>...</td>\n",
       "      <td>...</td>\n",
       "      <td>...</td>\n",
       "      <td>...</td>\n",
       "      <td>...</td>\n",
       "      <td>...</td>\n",
       "      <td>...</td>\n",
       "      <td>...</td>\n",
       "      <td>...</td>\n",
       "      <td>...</td>\n",
       "      <td>...</td>\n",
       "      <td>...</td>\n",
       "      <td>...</td>\n",
       "      <td>...</td>\n",
       "      <td>...</td>\n",
       "      <td>...</td>\n",
       "      <td>...</td>\n",
       "    </tr>\n",
       "    <tr>\n",
       "      <th>6388736</th>\n",
       "      <td>286597927</td>\n",
       "      <td>25:35:00</td>\n",
       "      <td>25:35:00</td>\n",
       "      <td>62199</td>\n",
       "      <td>2</td>\n",
       "      <td>1.000000</td>\n",
       "      <td>De La Gauchetière / Robert-Bourassa</td>\n",
       "      <td>45.499992</td>\n",
       "      <td>-73.565764</td>\n",
       "      <td>0</td>\n",
       "      <td>NaN</td>\n",
       "      <td>1</td>\n",
       "      <td>62202.0</td>\n",
       "      <td>900.0</td>\n",
       "      <td>900.0</td>\n",
       "      <td>5823.342923</td>\n",
       "      <td>568</td>\n",
       "      <td>North</td>\n",
       "      <td>2</td>\n",
       "    </tr>\n",
       "    <tr>\n",
       "      <th>6388737</th>\n",
       "      <td>286597928</td>\n",
       "      <td>25:40:00</td>\n",
       "      <td>25:40:00</td>\n",
       "      <td>62202</td>\n",
       "      <td>1</td>\n",
       "      <td>0.500000</td>\n",
       "      <td>Station REM Île-des-Soeurs</td>\n",
       "      <td>45.469756</td>\n",
       "      <td>-73.536156</td>\n",
       "      <td>0</td>\n",
       "      <td>NaN</td>\n",
       "      <td>1</td>\n",
       "      <td>NaN</td>\n",
       "      <td>900.0</td>\n",
       "      <td>0.0</td>\n",
       "      <td>0.000000</td>\n",
       "      <td>568</td>\n",
       "      <td>North</td>\n",
       "      <td>2</td>\n",
       "    </tr>\n",
       "    <tr>\n",
       "      <th>6388738</th>\n",
       "      <td>286597928</td>\n",
       "      <td>25:55:00</td>\n",
       "      <td>25:55:00</td>\n",
       "      <td>62199</td>\n",
       "      <td>2</td>\n",
       "      <td>1.000000</td>\n",
       "      <td>De La Gauchetière / Robert-Bourassa</td>\n",
       "      <td>45.499992</td>\n",
       "      <td>-73.565764</td>\n",
       "      <td>0</td>\n",
       "      <td>NaN</td>\n",
       "      <td>1</td>\n",
       "      <td>62202.0</td>\n",
       "      <td>900.0</td>\n",
       "      <td>900.0</td>\n",
       "      <td>5823.342923</td>\n",
       "      <td>568</td>\n",
       "      <td>North</td>\n",
       "      <td>2</td>\n",
       "    </tr>\n",
       "    <tr>\n",
       "      <th>6388739</th>\n",
       "      <td>286597929</td>\n",
       "      <td>25:40:00</td>\n",
       "      <td>25:40:00</td>\n",
       "      <td>62199</td>\n",
       "      <td>1</td>\n",
       "      <td>0.500000</td>\n",
       "      <td>De La Gauchetière / Robert-Bourassa</td>\n",
       "      <td>45.499992</td>\n",
       "      <td>-73.565764</td>\n",
       "      <td>0</td>\n",
       "      <td>NaN</td>\n",
       "      <td>1</td>\n",
       "      <td>NaN</td>\n",
       "      <td>900.0</td>\n",
       "      <td>0.0</td>\n",
       "      <td>0.000000</td>\n",
       "      <td>568</td>\n",
       "      <td>South</td>\n",
       "      <td>2</td>\n",
       "    </tr>\n",
       "    <tr>\n",
       "      <th>6388740</th>\n",
       "      <td>286597929</td>\n",
       "      <td>25:55:00</td>\n",
       "      <td>25:55:00</td>\n",
       "      <td>62202</td>\n",
       "      <td>2</td>\n",
       "      <td>1.000000</td>\n",
       "      <td>Station REM Île-des-Soeurs</td>\n",
       "      <td>45.469756</td>\n",
       "      <td>-73.536156</td>\n",
       "      <td>0</td>\n",
       "      <td>NaN</td>\n",
       "      <td>1</td>\n",
       "      <td>62199.0</td>\n",
       "      <td>900.0</td>\n",
       "      <td>900.0</td>\n",
       "      <td>5823.342923</td>\n",
       "      <td>568</td>\n",
       "      <td>South</td>\n",
       "      <td>2</td>\n",
       "    </tr>\n",
       "  </tbody>\n",
       "</table>\n",
       "<p>1887543 rows × 19 columns</p>\n",
       "</div>"
      ],
      "text/plain": [
       "           trip_id arrival_time departure_time  stop_id  stop_sequence  \\\n",
       "11       280882183     05:01:32       05:01:32    56408             12   \n",
       "13       280882183     05:02:36       05:02:36    56312             14   \n",
       "16       280882183     05:04:00       05:04:00    50643             17   \n",
       "37       280882183     05:19:00       05:19:00    62052             38   \n",
       "38       280882183     05:19:53       05:19:53    61990             39   \n",
       "...            ...          ...            ...      ...            ...   \n",
       "6388736  286597927     25:35:00       25:35:00    62199              2   \n",
       "6388737  286597928     25:40:00       25:40:00    62202              1   \n",
       "6388738  286597928     25:55:00       25:55:00    62199              2   \n",
       "6388739  286597929     25:40:00       25:40:00    62199              1   \n",
       "6388740  286597929     25:55:00       25:55:00    62202              2   \n",
       "\n",
       "         trip_progress                                  stop_name   stop_lat  \\\n",
       "11            0.266667                           Fleet / Pinedale  45.476701   \n",
       "13            0.311111                         Fleet / Queen-Mary  45.480657   \n",
       "16            0.377778                          Fleet / Macdonald  45.486138   \n",
       "37            0.844444                        Van Horne / Dollard  45.519290   \n",
       "38            0.866667  Station Outremont (Van Horne / Outremont)  45.521152   \n",
       "...                ...                                        ...        ...   \n",
       "6388736       1.000000        De La Gauchetière / Robert-Bourassa  45.499992   \n",
       "6388737       0.500000                 Station REM Île-des-Soeurs  45.469756   \n",
       "6388738       1.000000        De La Gauchetière / Robert-Bourassa  45.499992   \n",
       "6388739       0.500000        De La Gauchetière / Robert-Bourassa  45.499992   \n",
       "6388740       1.000000                 Station REM Île-des-Soeurs  45.469756   \n",
       "\n",
       "          stop_lon  location_type parent_station  wheelchair_boarding  \\\n",
       "11      -73.651768              0            NaN                    2   \n",
       "13      -73.648178              0            NaN                    2   \n",
       "16      -73.645128              0            NaN                    2   \n",
       "37      -73.615882              0            NaN                    2   \n",
       "38      -73.614188              0            NaN                    2   \n",
       "...            ...            ...            ...                  ...   \n",
       "6388736 -73.565764              0            NaN                    1   \n",
       "6388737 -73.536156              0            NaN                    1   \n",
       "6388738 -73.565764              0            NaN                    1   \n",
       "6388739 -73.565764              0            NaN                    1   \n",
       "6388740 -73.536156              0            NaN                    1   \n",
       "\n",
       "         prev_stop_id  exp_trip_duration  exp_delay_prev_stop  stop_distance  \\\n",
       "11            56404.0             1920.0                 17.0     196.708155   \n",
       "13            56310.0             1920.0                 47.0     541.352107   \n",
       "16            56315.0             1920.0                 23.0     258.106536   \n",
       "37            56173.0             1920.0                 16.0     113.545144   \n",
       "38            62052.0             1920.0                 53.0     350.823560   \n",
       "...               ...                ...                  ...            ...   \n",
       "6388736       62202.0              900.0                900.0    5823.342923   \n",
       "6388737           NaN              900.0                  0.0       0.000000   \n",
       "6388738       62202.0              900.0                900.0    5823.342923   \n",
       "6388739           NaN              900.0                  0.0       0.000000   \n",
       "6388740       62199.0              900.0                900.0    5823.342923   \n",
       "\n",
       "         route_id route_direction  wheelchair_accessible  \n",
       "11            161            East                      1  \n",
       "13            161            East                      1  \n",
       "16            161            East                      1  \n",
       "37            161            East                      1  \n",
       "38            161            East                      1  \n",
       "...           ...             ...                    ...  \n",
       "6388736       568           North                      2  \n",
       "6388737       568           North                      2  \n",
       "6388738       568           North                      2  \n",
       "6388739       568           South                      2  \n",
       "6388740       568           South                      2  \n",
       "\n",
       "[1887543 rows x 19 columns]"
      ]
     },
     "execution_count": 39,
     "metadata": {},
     "output_type": "execute_result"
    }
   ],
   "source": [
    "# Get rows where wheelchair_boarding and wheelchair_accessible are different\n",
    "scheduled_trips_df[scheduled_trips_df['wheelchair_boarding'] != scheduled_trips_df['wheelchair_accessible']]"
   ]
  },
  {
   "cell_type": "code",
   "execution_count": 40,
   "id": "5ceb8cf0",
   "metadata": {},
   "outputs": [],
   "source": [
    "# Keep wheelchair_boarding as it's stop specific\n",
    "scheduled_trips_df = scheduled_trips_df.drop('wheelchair_accessible', axis=1)"
   ]
  },
  {
   "cell_type": "markdown",
   "id": "2ab97d0d",
   "metadata": {},
   "source": [
    "### Realtime and Scheduled Trips"
   ]
  },
  {
   "cell_type": "code",
   "execution_count": 41,
   "id": "344ab184",
   "metadata": {},
   "outputs": [],
   "source": [
    "# Convert route_id to integer\n",
    "trip_updates_df['route_id'] = trip_updates_df['route_id'].str.extract(r'(\\d+)')\n",
    "trip_updates_df['route_id'] = trip_updates_df['route_id'].astype('int64')"
   ]
  },
  {
   "cell_type": "code",
   "execution_count": 42,
   "id": "737976cb",
   "metadata": {},
   "outputs": [
    {
     "name": "stdout",
     "output_type": "stream",
     "text": [
      "10.35%\n"
     ]
    }
   ],
   "source": [
    "# Get proportion of duplicates\n",
    "subset = trip_updates_df.drop('current_time', axis=1).columns\n",
    "duplicate_mask = trip_updates_df.duplicated(subset=subset)\n",
    "print(f'{duplicate_mask.mean():.2%}')"
   ]
  },
  {
   "cell_type": "code",
   "execution_count": 43,
   "id": "7805dc80",
   "metadata": {},
   "outputs": [],
   "source": [
    "# Remove duplicates\n",
    "trip_updates_df = trip_updates_df.drop_duplicates(subset=subset, keep='last')"
   ]
  },
  {
   "cell_type": "code",
   "execution_count": 44,
   "id": "81c783bd",
   "metadata": {},
   "outputs": [],
   "source": [
    "# Rename arrival and departure time\n",
    "trip_updates_df = trip_updates_df.rename(columns={'arrival_time': 'rt_arrival_time','departure_time': 'rt_departure_time'})"
   ]
  },
  {
   "cell_type": "code",
   "execution_count": 45,
   "id": "38b0d876",
   "metadata": {},
   "outputs": [],
   "source": [
    "# Merge trip updates with schedule\n",
    "merged_stm_df = pd.merge(left=trip_updates_df, right=scheduled_trips_df, how='inner', on=['trip_id', 'route_id', 'stop_id'])"
   ]
  },
  {
   "cell_type": "code",
   "execution_count": 46,
   "id": "6b3231d1",
   "metadata": {},
   "outputs": [
    {
     "data": {
      "text/plain": [
       "Index(['current_time', 'trip_id', 'route_id', 'start_date', 'stop_id',\n",
       "       'rt_arrival_time', 'rt_departure_time', 'schedule_relationship',\n",
       "       'arrival_time', 'departure_time', 'stop_sequence', 'trip_progress',\n",
       "       'stop_name', 'stop_lat', 'stop_lon', 'location_type', 'parent_station',\n",
       "       'wheelchair_boarding', 'prev_stop_id', 'exp_trip_duration',\n",
       "       'exp_delay_prev_stop', 'stop_distance', 'route_direction'],\n",
       "      dtype='object')"
      ]
     },
     "execution_count": 46,
     "metadata": {},
     "output_type": "execute_result"
    }
   ],
   "source": [
    "merged_stm_df.columns"
   ]
  },
  {
   "cell_type": "code",
   "execution_count": 47,
   "id": "7e78e8ff",
   "metadata": {},
   "outputs": [],
   "source": [
    "# Convert start_date to datetime\n",
    "merged_stm_df['start_date_dt'] = pd.to_datetime(merged_stm_df['start_date'], format='%Y%m%d')"
   ]
  },
  {
   "cell_type": "code",
   "execution_count": 48,
   "id": "bdd061e4",
   "metadata": {},
   "outputs": [],
   "source": [
    "# Parse GTFS scheduled arrival and departure times\n",
    "parsed_arrival_time = parse_gtfs_time(merged_stm_df, 'start_date_dt', 'arrival_time')\n",
    "parsed_departure_time = parse_gtfs_time(merged_stm_df, 'start_date_dt', 'departure_time')"
   ]
  },
  {
   "cell_type": "code",
   "execution_count": 49,
   "id": "c4a0c55e",
   "metadata": {},
   "outputs": [],
   "source": [
    "# Convert scheduled arrival and departure time to UTC datetime\n",
    "merged_stm_df['sch_arrival_time'] = parsed_arrival_time.dt.tz_convert(timezone.utc)\n",
    "merged_stm_df['sch_departure_time'] = parsed_departure_time.dt.tz_convert(timezone.utc)"
   ]
  },
  {
   "cell_type": "code",
   "execution_count": 50,
   "id": "d851e5f2",
   "metadata": {},
   "outputs": [
    {
     "data": {
      "application/vnd.microsoft.datawrangler.viewer.v0+json": {
       "columns": [
        {
         "name": "index",
         "rawType": "int64",
         "type": "integer"
        },
        {
         "name": "current_time",
         "rawType": "float64",
         "type": "float"
        },
        {
         "name": "trip_id",
         "rawType": "int64",
         "type": "integer"
        },
        {
         "name": "route_id",
         "rawType": "int64",
         "type": "integer"
        },
        {
         "name": "start_date",
         "rawType": "int64",
         "type": "integer"
        },
        {
         "name": "stop_id",
         "rawType": "int64",
         "type": "integer"
        },
        {
         "name": "rt_arrival_time",
         "rawType": "int64",
         "type": "integer"
        },
        {
         "name": "rt_departure_time",
         "rawType": "int64",
         "type": "integer"
        },
        {
         "name": "schedule_relationship",
         "rawType": "int64",
         "type": "integer"
        },
        {
         "name": "arrival_time",
         "rawType": "object",
         "type": "string"
        },
        {
         "name": "departure_time",
         "rawType": "object",
         "type": "string"
        },
        {
         "name": "stop_sequence",
         "rawType": "int64",
         "type": "integer"
        },
        {
         "name": "trip_progress",
         "rawType": "float64",
         "type": "float"
        },
        {
         "name": "stop_name",
         "rawType": "object",
         "type": "string"
        },
        {
         "name": "stop_lat",
         "rawType": "float64",
         "type": "float"
        },
        {
         "name": "stop_lon",
         "rawType": "float64",
         "type": "float"
        },
        {
         "name": "location_type",
         "rawType": "int64",
         "type": "integer"
        },
        {
         "name": "parent_station",
         "rawType": "object",
         "type": "unknown"
        },
        {
         "name": "wheelchair_boarding",
         "rawType": "int64",
         "type": "integer"
        },
        {
         "name": "prev_stop_id",
         "rawType": "float64",
         "type": "float"
        },
        {
         "name": "exp_trip_duration",
         "rawType": "float64",
         "type": "float"
        },
        {
         "name": "exp_delay_prev_stop",
         "rawType": "float64",
         "type": "float"
        },
        {
         "name": "stop_distance",
         "rawType": "float64",
         "type": "float"
        },
        {
         "name": "route_direction",
         "rawType": "object",
         "type": "string"
        },
        {
         "name": "start_date_dt",
         "rawType": "datetime64[ns]",
         "type": "datetime"
        },
        {
         "name": "sch_arrival_time",
         "rawType": "datetime64[ns, UTC]",
         "type": "unknown"
        },
        {
         "name": "sch_departure_time",
         "rawType": "datetime64[ns, UTC]",
         "type": "unknown"
        }
       ],
       "conversionMethod": "pd.DataFrame",
       "ref": "1209efcd-de54-48be-a19f-dd35ba5173e8",
       "rows": [
        [
         "5232",
         "1745791208.404728",
         "284216122",
         "470",
         "20250427",
         "57794",
         "1745792340",
         "1745792340",
         "0",
         "18:19:00",
         "18:20:00",
         "21",
         "0.9545454545454546",
         "Terminus Fairview",
         "45.465697",
         "-73.831619",
         "0",
         null,
         "1",
         "57620.0",
         "2640.0",
         "95.0",
         "391.12732274540303",
         "East",
         "2025-04-27 00:00:00",
         "2025-04-27 22:19:00+00:00",
         "2025-04-27 22:20:00+00:00"
        ],
        [
         "10326",
         "1745791209.444402",
         "284216100",
         "470",
         "20250427",
         "60415",
         "1745792054",
         "1745792054",
         "0",
         "18:06:00",
         "18:07:00",
         "3",
         "0.13043478260869565",
         "Terminus Fairview / Brunswick",
         "45.465962",
         "-73.831866",
         "0",
         null,
         "1",
         "57818.0",
         "3060.0",
         "77.0",
         "782.0452382360359",
         "West",
         "2025-04-27 00:00:00",
         "2025-04-27 22:06:00+00:00",
         "2025-04-27 22:07:00+00:00"
        ],
        [
         "10754",
         "1745791209.535063",
         "284216575",
         "747",
         "20250427",
         "60997",
         "0",
         "1745791860",
         "0",
         "18:06:00",
         "18:11:00",
         "1",
         "0.07142857142857142",
         "YUL Aéroport Montréal-Trudeau",
         "45.456567",
         "-73.751618",
         "0",
         null,
         "1",
         null,
         "2940.0",
         "0.0",
         "0.0",
         "East",
         "2025-04-27 00:00:00",
         "2025-04-27 22:06:00+00:00",
         "2025-04-27 22:11:00+00:00"
        ],
        [
         "11788",
         "1745791209.747379",
         "284216533",
         "747",
         "20250427",
         "60997",
         "0",
         "1745794440",
         "0",
         "18:49:00",
         "18:54:00",
         "1",
         "0.07142857142857142",
         "YUL Aéroport Montréal-Trudeau",
         "45.456567",
         "-73.751618",
         "0",
         null,
         "1",
         null,
         "2820.0",
         "0.0",
         "0.0",
         "East",
         "2025-04-27 00:00:00",
         "2025-04-27 22:49:00+00:00",
         "2025-04-27 22:54:00+00:00"
        ],
        [
         "12297",
         "1745791209.839026",
         "284216124",
         "470",
         "20250427",
         "60415",
         "1745795640",
         "1745795700",
         "0",
         "19:14:00",
         "19:15:00",
         "3",
         "0.13043478260869565",
         "Terminus Fairview / Brunswick",
         "45.465962",
         "-73.831866",
         "0",
         null,
         "1",
         "57818.0",
         "2940.0",
         "74.0",
         "782.0452382360359",
         "West",
         "2025-04-27 00:00:00",
         "2025-04-27 23:14:00+00:00",
         "2025-04-27 23:15:00+00:00"
        ],
        [
         "15438",
         "1745791210.345412",
         "284216645",
         "747",
         "20250427",
         "60997",
         "0",
         "1745793900",
         "0",
         "18:40:00",
         "18:45:00",
         "1",
         "0.5",
         "YUL Aéroport Montréal-Trudeau",
         "45.456567",
         "-73.751618",
         "0",
         null,
         "1",
         null,
         "1260.0",
         "0.0",
         "0.0",
         "East",
         "2025-04-27 00:00:00",
         "2025-04-27 22:40:00+00:00",
         "2025-04-27 22:45:00+00:00"
        ],
        [
         "16476",
         "1745791210.545332",
         "284216690",
         "747",
         "20250427",
         "60997",
         "0",
         "1745791260",
         "0",
         "17:56:00",
         "18:01:00",
         "1",
         "0.5",
         "YUL Aéroport Montréal-Trudeau",
         "45.456567",
         "-73.751618",
         "0",
         null,
         "1",
         null,
         "1380.0",
         "0.0",
         "0.0",
         "East",
         "2025-04-27 00:00:00",
         "2025-04-27 21:56:00+00:00",
         "2025-04-27 22:01:00+00:00"
        ],
        [
         "18403",
         "1745791210.845133",
         "284216610",
         "747",
         "20250427",
         "60997",
         "0",
         "1745793360",
         "0",
         "18:31:00",
         "18:36:00",
         "1",
         "0.07142857142857142",
         "YUL Aéroport Montréal-Trudeau",
         "45.456567",
         "-73.751618",
         "0",
         null,
         "1",
         null,
         "2880.0",
         "0.0",
         "0.0",
         "East",
         "2025-04-27 00:00:00",
         "2025-04-27 22:31:00+00:00",
         "2025-04-27 22:36:00+00:00"
        ],
        [
         "20859",
         "1745791211.248796",
         "284216422",
         "747",
         "20250427",
         "60997",
         "0",
         "1745792880",
         "0",
         "18:23:00",
         "18:28:00",
         "1",
         "0.07142857142857142",
         "YUL Aéroport Montréal-Trudeau",
         "45.456567",
         "-73.751618",
         "0",
         null,
         "1",
         null,
         "2940.0",
         "0.0",
         "0.0",
         "East",
         "2025-04-27 00:00:00",
         "2025-04-27 22:23:00+00:00",
         "2025-04-27 22:28:00+00:00"
        ],
        [
         "20992",
         "1745791211.257354",
         "284216079",
         "470",
         "20250427",
         "60415",
         "1745794140",
         "1745794200",
         "0",
         "18:49:00",
         "18:50:00",
         "3",
         "0.13043478260869565",
         "Terminus Fairview / Brunswick",
         "45.465962",
         "-73.831866",
         "0",
         null,
         "1",
         "57818.0",
         "3000.0",
         "77.0",
         "782.0452382360359",
         "West",
         "2025-04-27 00:00:00",
         "2025-04-27 22:49:00+00:00",
         "2025-04-27 22:50:00+00:00"
        ],
        [
         "21304",
         "1745791211.304549",
         "284216058",
         "470",
         "20250427",
         "57794",
         "1745794020",
         "1745794020",
         "0",
         "18:47:00",
         "18:48:00",
         "21",
         "0.9545454545454546",
         "Terminus Fairview",
         "45.465697",
         "-73.831619",
         "0",
         null,
         "1",
         "57620.0",
         "2640.0",
         "95.0",
         "391.12732274540303",
         "East",
         "2025-04-27 00:00:00",
         "2025-04-27 22:47:00+00:00",
         "2025-04-27 22:48:00+00:00"
        ],
        [
         "23373",
         "1745791211.595193",
         "284216749",
         "747",
         "20250427",
         "60997",
         "0",
         "1745792400",
         "0",
         "18:15:00",
         "18:20:00",
         "1",
         "0.5",
         "YUL Aéroport Montréal-Trudeau",
         "45.456567",
         "-73.751618",
         "0",
         null,
         "1",
         null,
         "1380.0",
         "0.0",
         "0.0",
         "East",
         "2025-04-27 00:00:00",
         "2025-04-27 22:15:00+00:00",
         "2025-04-27 22:20:00+00:00"
        ],
        [
         "26219",
         "1745791211.995628",
         "284216021",
         "470",
         "20250427",
         "60415",
         "1745792820",
         "1745792880",
         "0",
         "18:27:00",
         "18:28:00",
         "3",
         "0.13043478260869565",
         "Terminus Fairview / Brunswick",
         "45.465962",
         "-73.831866",
         "0",
         null,
         "1",
         "57818.0",
         "3060.0",
         "77.0",
         "782.0452382360359",
         "West",
         "2025-04-27 00:00:00",
         "2025-04-27 22:27:00+00:00",
         "2025-04-27 22:28:00+00:00"
        ],
        [
         "27205",
         "1745794808.190832",
         "284216698",
         "747",
         "20250427",
         "60997",
         "0",
         "1745798400",
         "0",
         "19:55:00",
         "20:00:00",
         "1",
         "0.5",
         "YUL Aéroport Montréal-Trudeau",
         "45.456567",
         "-73.751618",
         "0",
         null,
         "1",
         null,
         "1260.0",
         "0.0",
         "0.0",
         "East",
         "2025-04-27 00:00:00",
         "2025-04-27 23:55:00+00:00",
         "2025-04-28 00:00:00+00:00"
        ],
        [
         "30571",
         "1745794808.796325",
         "284216101",
         "470",
         "20250427",
         "57794",
         "1745795700",
         "1745795700",
         "0",
         "19:15:00",
         "19:16:00",
         "21",
         "0.9545454545454546",
         "Terminus Fairview",
         "45.465697",
         "-73.831619",
         "0",
         null,
         "1",
         "57620.0",
         "2640.0",
         "95.0",
         "391.12732274540303",
         "East",
         "2025-04-27 00:00:00",
         "2025-04-27 23:15:00+00:00",
         "2025-04-27 23:16:00+00:00"
        ],
        [
         "34711",
         "1745794809.605001",
         "284216124",
         "470",
         "20250427",
         "60415",
         "1745795843",
         "1745795843",
         "0",
         "19:14:00",
         "19:15:00",
         "3",
         "0.13043478260869565",
         "Terminus Fairview / Brunswick",
         "45.465962",
         "-73.831866",
         "0",
         null,
         "1",
         "57818.0",
         "2940.0",
         "74.0",
         "782.0452382360359",
         "West",
         "2025-04-27 00:00:00",
         "2025-04-27 23:14:00+00:00",
         "2025-04-27 23:15:00+00:00"
        ],
        [
         "35710",
         "1745794809.799849",
         "284216694",
         "747",
         "20250427",
         "60997",
         "0",
         "1745794590",
         "0",
         "18:59:00",
         "19:04:00",
         "1",
         "0.5",
         "YUL Aéroport Montréal-Trudeau",
         "45.456567",
         "-73.751618",
         "0",
         null,
         "1",
         null,
         "1260.0",
         "0.0",
         "0.0",
         "East",
         "2025-04-27 00:00:00",
         "2025-04-27 22:59:00+00:00",
         "2025-04-27 23:04:00+00:00"
        ],
        [
         "36995",
         "1745794810.056294",
         "284216782",
         "747",
         "20250427",
         "60997",
         "0",
         "1745795580",
         "0",
         "19:08:00",
         "19:13:00",
         "1",
         "0.07142857142857142",
         "YUL Aéroport Montréal-Trudeau",
         "45.456567",
         "-73.751618",
         "0",
         null,
         "1",
         null,
         "2820.0",
         "0.0",
         "0.0",
         "East",
         "2025-04-27 00:00:00",
         "2025-04-27 23:08:00+00:00",
         "2025-04-27 23:13:00+00:00"
        ],
        [
         "38027",
         "1745794810.209596",
         "284216125",
         "470",
         "20250427",
         "57794",
         "1745799060",
         "1745799060",
         "0",
         "20:11:00",
         "20:12:00",
         "21",
         "0.9545454545454546",
         "Terminus Fairview",
         "45.465697",
         "-73.831619",
         "0",
         null,
         "1",
         "57620.0",
         "2640.0",
         "95.0",
         "391.12732274540303",
         "East",
         "2025-04-27 00:00:00",
         "2025-04-28 00:11:00+00:00",
         "2025-04-28 00:12:00+00:00"
        ],
        [
         "38116",
         "1745794810.247555",
         "284216468",
         "747",
         "20250427",
         "60997",
         "0",
         "1745797800",
         "0",
         "19:45:00",
         "19:50:00",
         "1",
         "0.07142857142857142",
         "YUL Aéroport Montréal-Trudeau",
         "45.456567",
         "-73.751618",
         "0",
         null,
         "1",
         null,
         "2640.0",
         "0.0",
         "0.0",
         "East",
         "2025-04-27 00:00:00",
         "2025-04-27 23:45:00+00:00",
         "2025-04-27 23:50:00+00:00"
        ],
        [
         "39524",
         "1745794810.493427",
         "284216103",
         "470",
         "20250427",
         "60415",
         "1745798820",
         "1745798880",
         "0",
         "20:07:00",
         "20:08:00",
         "3",
         "0.13043478260869565",
         "Terminus Fairview / Brunswick",
         "45.465962",
         "-73.831866",
         "0",
         null,
         "1",
         "57818.0",
         "2940.0",
         "74.0",
         "782.0452382360359",
         "West",
         "2025-04-27 00:00:00",
         "2025-04-28 00:07:00+00:00",
         "2025-04-28 00:08:00+00:00"
        ],
        [
         "41593",
         "1745794810.789642",
         "284216649",
         "747",
         "20250427",
         "60997",
         "0",
         "1745797200",
         "0",
         "19:35:00",
         "19:40:00",
         "1",
         "0.5",
         "YUL Aéroport Montréal-Trudeau",
         "45.456567",
         "-73.751618",
         "0",
         null,
         "1",
         null,
         "1260.0",
         "0.0",
         "0.0",
         "East",
         "2025-04-27 00:00:00",
         "2025-04-27 23:35:00+00:00",
         "2025-04-27 23:40:00+00:00"
        ],
        [
         "43988",
         "1745794811.146634",
         "284216315",
         "747",
         "20250427",
         "60997",
         "0",
         "1745796660",
         "0",
         "19:26:00",
         "19:31:00",
         "1",
         "0.07142857142857142",
         "YUL Aéroport Montréal-Trudeau",
         "45.456567",
         "-73.751618",
         "0",
         null,
         "1",
         null,
         "2700.0",
         "0.0",
         "0.0",
         "East",
         "2025-04-27 00:00:00",
         "2025-04-27 23:26:00+00:00",
         "2025-04-27 23:31:00+00:00"
        ],
        [
         "46807",
         "1745794811.549895",
         "284216753",
         "747",
         "20250427",
         "60997",
         "0",
         "1745796120",
         "0",
         "19:17:00",
         "19:22:00",
         "1",
         "0.5",
         "YUL Aéroport Montréal-Trudeau",
         "45.456567",
         "-73.751618",
         "0",
         null,
         "1",
         null,
         "1260.0",
         "0.0",
         "0.0",
         "East",
         "2025-04-27 00:00:00",
         "2025-04-27 23:17:00+00:00",
         "2025-04-27 23:22:00+00:00"
        ],
        [
         "46985",
         "1745794811.585334",
         "284216080",
         "470",
         "20250427",
         "57794",
         "1745797380",
         "1745797380",
         "0",
         "19:43:00",
         "19:44:00",
         "21",
         "0.9545454545454546",
         "Terminus Fairview",
         "45.465697",
         "-73.831619",
         "0",
         null,
         "1",
         "57620.0",
         "2640.0",
         "95.0",
         "391.12732274540303",
         "East",
         "2025-04-27 00:00:00",
         "2025-04-27 23:43:00+00:00",
         "2025-04-27 23:44:00+00:00"
        ],
        [
         "48088",
         "1745794811.903708",
         "284216060",
         "470",
         "20250427",
         "60415",
         "1745797200",
         "1745797260",
         "0",
         "19:40:00",
         "19:41:00",
         "3",
         "0.13043478260869565",
         "Terminus Fairview / Brunswick",
         "45.465962",
         "-73.831866",
         "0",
         null,
         "1",
         "57818.0",
         "2940.0",
         "74.0",
         "782.0452382360359",
         "West",
         "2025-04-27 00:00:00",
         "2025-04-27 23:40:00+00:00",
         "2025-04-27 23:41:00+00:00"
        ],
        [
         "53268",
         "1745798405.448649",
         "284216125",
         "470",
         "20250427",
         "57794",
         "1745799165",
         "1745799165",
         "0",
         "20:11:00",
         "20:12:00",
         "21",
         "0.9545454545454546",
         "Terminus Fairview",
         "45.465697",
         "-73.831619",
         "0",
         null,
         "1",
         "57620.0",
         "2640.0",
         "95.0",
         "391.12732274540303",
         "East",
         "2025-04-27 00:00:00",
         "2025-04-28 00:11:00+00:00",
         "2025-04-28 00:12:00+00:00"
        ],
        [
         "56124",
         "1745798405.959057",
         "284216103",
         "470",
         "20250427",
         "60415",
         "1745799028",
         "1745799028",
         "0",
         "20:07:00",
         "20:08:00",
         "3",
         "0.13043478260869565",
         "Terminus Fairview / Brunswick",
         "45.465962",
         "-73.831866",
         "0",
         null,
         "1",
         "57818.0",
         "2940.0",
         "74.0",
         "782.0452382360359",
         "West",
         "2025-04-27 00:00:00",
         "2025-04-28 00:07:00+00:00",
         "2025-04-28 00:08:00+00:00"
        ],
        [
         "59617",
         "1745798406.502683",
         "284216702",
         "747",
         "20250427",
         "60997",
         "0",
         "1745801700",
         "0",
         "20:50:00",
         "20:55:00",
         "1",
         "0.5",
         "YUL Aéroport Montréal-Trudeau",
         "45.456567",
         "-73.751618",
         "0",
         null,
         "1",
         null,
         "1260.0",
         "0.0",
         "0.0",
         "East",
         "2025-04-27 00:00:00",
         "2025-04-28 00:50:00+00:00",
         "2025-04-28 00:55:00+00:00"
        ],
        [
         "60088",
         "1745798406.590015",
         "284216614",
         "747",
         "20250427",
         "60997",
         "0",
         "1745800020",
         "0",
         "20:22:00",
         "20:27:00",
         "1",
         "0.07142857142857142",
         "YUL Aéroport Montréal-Trudeau",
         "45.456567",
         "-73.751618",
         "0",
         null,
         "1",
         null,
         "2640.0",
         "0.0",
         "0.0",
         "East",
         "2025-04-27 00:00:00",
         "2025-04-28 00:22:00+00:00",
         "2025-04-28 00:27:00+00:00"
        ],
        [
         "63051",
         "1745798406.945007",
         "284216537",
         "747",
         "20250427",
         "60997",
         "0",
         "1745801160",
         "0",
         "20:41:00",
         "20:46:00",
         "1",
         "0.07142857142857142",
         "YUL Aéroport Montréal-Trudeau",
         "45.456567",
         "-73.751618",
         "0",
         null,
         "1",
         null,
         "2580.0",
         "0.0",
         "0.0",
         "East",
         "2025-04-27 00:00:00",
         "2025-04-28 00:41:00+00:00",
         "2025-04-28 00:46:00+00:00"
        ],
        [
         "63564",
         "1745798406.999498",
         "284216757",
         "747",
         "20250427",
         "60997",
         "0",
         "1745799480",
         "0",
         "20:13:00",
         "20:18:00",
         "1",
         "0.5",
         "YUL Aéroport Montréal-Trudeau",
         "45.456567",
         "-73.751618",
         "0",
         null,
         "1",
         null,
         "1260.0",
         "0.0",
         "0.0",
         "East",
         "2025-04-27 00:00:00",
         "2025-04-28 00:13:00+00:00",
         "2025-04-28 00:18:00+00:00"
        ],
        [
         "63798",
         "1745798407.042834",
         "284216104",
         "470",
         "20250427",
         "57794",
         "1745802240",
         "1745802240",
         "0",
         "21:04:00",
         "21:05:00",
         "21",
         "0.9545454545454546",
         "Terminus Fairview",
         "45.465697",
         "-73.831619",
         "0",
         null,
         "1",
         "57620.0",
         "2640.0",
         "95.0",
         "391.12732274540303",
         "East",
         "2025-04-27 00:00:00",
         "2025-04-28 01:04:00+00:00",
         "2025-04-28 01:05:00+00:00"
        ],
        [
         "64335",
         "1745798407.140341",
         "284216127",
         "470",
         "20250427",
         "60415",
         "1745802060",
         "1745802120",
         "0",
         "21:01:00",
         "21:02:00",
         "3",
         "0.13043478260869565",
         "Terminus Fairview / Brunswick",
         "45.465962",
         "-73.831866",
         "0",
         null,
         "1",
         "57818.0",
         "2760.0",
         "74.0",
         "782.0452382360359",
         "West",
         "2025-04-27 00:00:00",
         "2025-04-28 01:01:00+00:00",
         "2025-04-28 01:02:00+00:00"
        ],
        [
         "65169",
         "1745798407.210832",
         "284216653",
         "747",
         "20250427",
         "60997",
         "0",
         "1745800620",
         "0",
         "20:32:00",
         "20:37:00",
         "1",
         "0.5",
         "YUL Aéroport Montréal-Trudeau",
         "45.456567",
         "-73.751618",
         "0",
         null,
         "1",
         null,
         "1260.0",
         "0.0",
         "0.0",
         "East",
         "2025-04-27 00:00:00",
         "2025-04-28 00:32:00+00:00",
         "2025-04-28 00:37:00+00:00"
        ],
        [
         "70881",
         "1745798407.905686",
         "284216061",
         "470",
         "20250427",
         "57794",
         "1745800620",
         "1745800620",
         "0",
         "20:37:00",
         "20:38:00",
         "21",
         "0.9545454545454546",
         "Terminus Fairview",
         "45.465697",
         "-73.831619",
         "0",
         null,
         "1",
         "57620.0",
         "2640.0",
         "95.0",
         "391.12732274540303",
         "East",
         "2025-04-27 00:00:00",
         "2025-04-28 00:37:00+00:00",
         "2025-04-28 00:38:00+00:00"
        ],
        [
         "71806",
         "1745798408.012653",
         "284216082",
         "470",
         "20250427",
         "60415",
         "1745800440",
         "1745800500",
         "0",
         "20:34:00",
         "20:35:00",
         "3",
         "0.13043478260869565",
         "Terminus Fairview / Brunswick",
         "45.465962",
         "-73.831866",
         "0",
         null,
         "1",
         "57818.0",
         "2880.0",
         "74.0",
         "782.0452382360359",
         "West",
         "2025-04-27 00:00:00",
         "2025-04-28 00:34:00+00:00",
         "2025-04-28 00:35:00+00:00"
        ],
        [
         "72550",
         "1745798408.110137",
         "284216579",
         "747",
         "20250427",
         "60997",
         "0",
         "1745798940",
         "0",
         "20:04:00",
         "20:09:00",
         "1",
         "0.07142857142857142",
         "YUL Aéroport Montréal-Trudeau",
         "45.456567",
         "-73.751618",
         "0",
         null,
         "1",
         null,
         "2640.0",
         "0.0",
         "0.0",
         "East",
         "2025-04-27 00:00:00",
         "2025-04-28 00:04:00+00:00",
         "2025-04-28 00:09:00+00:00"
        ],
        [
         "75588",
         "1745802006.533797",
         "284216127",
         "470",
         "20250427",
         "60415",
         "1745801935",
         "1745802120",
         "0",
         "21:01:00",
         "21:02:00",
         "3",
         "0.13043478260869565",
         "Terminus Fairview / Brunswick",
         "45.465962",
         "-73.831866",
         "0",
         null,
         "1",
         "57818.0",
         "2760.0",
         "74.0",
         "782.0452382360359",
         "West",
         "2025-04-27 00:00:00",
         "2025-04-28 01:01:00+00:00",
         "2025-04-28 01:02:00+00:00"
        ],
        [
         "77079",
         "1745802006.831856",
         "284216104",
         "470",
         "20250427",
         "57794",
         "1745802337",
         "1745802337",
         "0",
         "21:04:00",
         "21:05:00",
         "21",
         "0.9545454545454546",
         "Terminus Fairview",
         "45.465697",
         "-73.831619",
         "0",
         null,
         "1",
         "57620.0",
         "2640.0",
         "95.0",
         "391.12732274540303",
         "East",
         "2025-04-27 00:00:00",
         "2025-04-28 01:04:00+00:00",
         "2025-04-28 01:05:00+00:00"
        ],
        [
         "78987",
         "1745802007.179709",
         "284216472",
         "747",
         "20250427",
         "60997",
         "0",
         "1745804773",
         "0",
         "21:34:00",
         "21:39:00",
         "1",
         "0.07142857142857142",
         "YUL Aéroport Montréal-Trudeau",
         "45.456567",
         "-73.751618",
         "0",
         null,
         "1",
         null,
         "2580.0",
         "0.0",
         "0.0",
         "East",
         "2025-04-27 00:00:00",
         "2025-04-28 01:34:00+00:00",
         "2025-04-28 01:39:00+00:00"
        ],
        [
         "79439",
         "1745802007.230406",
         "284216063",
         "470",
         "20250427",
         "60415",
         "1745803680",
         "1745803740",
         "0",
         "21:28:00",
         "21:29:00",
         "3",
         "0.13043478260869565",
         "Terminus Fairview / Brunswick",
         "45.465962",
         "-73.831866",
         "0",
         null,
         "1",
         "57818.0",
         "2760.0",
         "74.0",
         "782.0452382360359",
         "West",
         "2025-04-27 00:00:00",
         "2025-04-28 01:28:00+00:00",
         "2025-04-28 01:29:00+00:00"
        ],
        [
         "81253",
         "1745802007.818274",
         "284216583",
         "747",
         "20250427",
         "60997",
         "0",
         "1745805420",
         "0",
         "21:52:00",
         "21:57:00",
         "1",
         "0.07142857142857142",
         "YUL Aéroport Montréal-Trudeau",
         "45.456567",
         "-73.751618",
         "0",
         null,
         "1",
         null,
         "2580.0",
         "0.0",
         "0.0",
         "East",
         "2025-04-27 00:00:00",
         "2025-04-28 01:52:00+00:00",
         "2025-04-28 01:57:00+00:00"
        ],
        [
         "84369",
         "1745802008.236341",
         "284216706",
         "747",
         "20250427",
         "60997",
         "0",
         "1745804880",
         "0",
         "21:43:00",
         "21:48:00",
         "1",
         "0.5",
         "YUL Aéroport Montréal-Trudeau",
         "45.456567",
         "-73.751618",
         "0",
         null,
         "1",
         null,
         "1260.0",
         "0.0",
         "0.0",
         "East",
         "2025-04-27 00:00:00",
         "2025-04-28 01:43:00+00:00",
         "2025-04-28 01:48:00+00:00"
        ],
        [
         "86304",
         "1745802008.578864",
         "284216761",
         "747",
         "20250427",
         "60997",
         "0",
         "1745802720",
         "0",
         "21:07:00",
         "21:12:00",
         "1",
         "0.5",
         "YUL Aéroport Montréal-Trudeau",
         "45.456567",
         "-73.751618",
         "0",
         null,
         "1",
         null,
         "1260.0",
         "0.0",
         "0.0",
         "East",
         "2025-04-27 00:00:00",
         "2025-04-28 01:07:00+00:00",
         "2025-04-28 01:12:00+00:00"
        ],
        [
         "87105",
         "1745802008.686644",
         "284216128",
         "470",
         "20250427",
         "57794",
         "1745805600",
         "1745805600",
         "0",
         "22:00:00",
         "22:01:00",
         "21",
         "0.9545454545454546",
         "Terminus Fairview",
         "45.465697",
         "-73.831619",
         "0",
         null,
         "1",
         "57620.0",
         "2580.0",
         "95.0",
         "391.12732274540303",
         "East",
         "2025-04-27 00:00:00",
         "2025-04-28 02:00:00+00:00",
         "2025-04-28 02:01:00+00:00"
        ],
        [
         "88372",
         "1745802008.875309",
         "284216106",
         "470",
         "20250427",
         "60415",
         "1745805300",
         "1745805360",
         "0",
         "21:55:00",
         "21:56:00",
         "3",
         "0.13043478260869565",
         "Terminus Fairview / Brunswick",
         "45.465962",
         "-73.831866",
         "0",
         null,
         "1",
         "57818.0",
         "2760.0",
         "74.0",
         "782.0452382360359",
         "West",
         "2025-04-27 00:00:00",
         "2025-04-28 01:55:00+00:00",
         "2025-04-28 01:56:00+00:00"
        ],
        [
         "89859",
         "1745802009.040702",
         "284216657",
         "747",
         "20250427",
         "60997",
         "0",
         "1745803800",
         "0",
         "21:25:00",
         "21:30:00",
         "1",
         "0.5",
         "YUL Aéroport Montréal-Trudeau",
         "45.456567",
         "-73.751618",
         "0",
         null,
         "1",
         null,
         "1260.0",
         "0.0",
         "0.0",
         "East",
         "2025-04-27 00:00:00",
         "2025-04-28 01:25:00+00:00",
         "2025-04-28 01:30:00+00:00"
        ],
        [
         "92197",
         "1745802009.435661",
         "284216319",
         "747",
         "20250427",
         "60997",
         "0",
         "1745803260",
         "0",
         "21:16:00",
         "21:21:00",
         "1",
         "0.07142857142857142",
         "YUL Aéroport Montréal-Trudeau",
         "45.456567",
         "-73.751618",
         "0",
         null,
         "1",
         null,
         "2580.0",
         "0.0",
         "0.0",
         "East",
         "2025-04-27 00:00:00",
         "2025-04-28 01:16:00+00:00",
         "2025-04-28 01:21:00+00:00"
        ],
        [
         "94118",
         "1745802009.686108",
         "284216083",
         "470",
         "20250427",
         "57794",
         "1745803860",
         "1745803860",
         "0",
         "21:31:00",
         "21:32:00",
         "21",
         "0.9545454545454546",
         "Terminus Fairview",
         "45.465697",
         "-73.831619",
         "0",
         null,
         "1",
         "57620.0",
         "2640.0",
         "95.0",
         "391.12732274540303",
         "East",
         "2025-04-27 00:00:00",
         "2025-04-28 01:31:00+00:00",
         "2025-04-28 01:32:00+00:00"
        ]
       ],
       "shape": {
        "columns": 26,
        "rows": 10000
       }
      },
      "text/html": [
       "<div>\n",
       "<style scoped>\n",
       "    .dataframe tbody tr th:only-of-type {\n",
       "        vertical-align: middle;\n",
       "    }\n",
       "\n",
       "    .dataframe tbody tr th {\n",
       "        vertical-align: top;\n",
       "    }\n",
       "\n",
       "    .dataframe thead th {\n",
       "        text-align: right;\n",
       "    }\n",
       "</style>\n",
       "<table border=\"1\" class=\"dataframe\">\n",
       "  <thead>\n",
       "    <tr style=\"text-align: right;\">\n",
       "      <th></th>\n",
       "      <th>current_time</th>\n",
       "      <th>trip_id</th>\n",
       "      <th>route_id</th>\n",
       "      <th>start_date</th>\n",
       "      <th>stop_id</th>\n",
       "      <th>rt_arrival_time</th>\n",
       "      <th>rt_departure_time</th>\n",
       "      <th>schedule_relationship</th>\n",
       "      <th>arrival_time</th>\n",
       "      <th>departure_time</th>\n",
       "      <th>...</th>\n",
       "      <th>parent_station</th>\n",
       "      <th>wheelchair_boarding</th>\n",
       "      <th>prev_stop_id</th>\n",
       "      <th>exp_trip_duration</th>\n",
       "      <th>exp_delay_prev_stop</th>\n",
       "      <th>stop_distance</th>\n",
       "      <th>route_direction</th>\n",
       "      <th>start_date_dt</th>\n",
       "      <th>sch_arrival_time</th>\n",
       "      <th>sch_departure_time</th>\n",
       "    </tr>\n",
       "  </thead>\n",
       "  <tbody>\n",
       "    <tr>\n",
       "      <th>5232</th>\n",
       "      <td>1.745791e+09</td>\n",
       "      <td>284216122</td>\n",
       "      <td>470</td>\n",
       "      <td>20250427</td>\n",
       "      <td>57794</td>\n",
       "      <td>1745792340</td>\n",
       "      <td>1745792340</td>\n",
       "      <td>0</td>\n",
       "      <td>18:19:00</td>\n",
       "      <td>18:20:00</td>\n",
       "      <td>...</td>\n",
       "      <td>NaN</td>\n",
       "      <td>1</td>\n",
       "      <td>57620.0</td>\n",
       "      <td>2640.0</td>\n",
       "      <td>95.0</td>\n",
       "      <td>391.127323</td>\n",
       "      <td>East</td>\n",
       "      <td>2025-04-27</td>\n",
       "      <td>2025-04-27 22:19:00+00:00</td>\n",
       "      <td>2025-04-27 22:20:00+00:00</td>\n",
       "    </tr>\n",
       "    <tr>\n",
       "      <th>10326</th>\n",
       "      <td>1.745791e+09</td>\n",
       "      <td>284216100</td>\n",
       "      <td>470</td>\n",
       "      <td>20250427</td>\n",
       "      <td>60415</td>\n",
       "      <td>1745792054</td>\n",
       "      <td>1745792054</td>\n",
       "      <td>0</td>\n",
       "      <td>18:06:00</td>\n",
       "      <td>18:07:00</td>\n",
       "      <td>...</td>\n",
       "      <td>NaN</td>\n",
       "      <td>1</td>\n",
       "      <td>57818.0</td>\n",
       "      <td>3060.0</td>\n",
       "      <td>77.0</td>\n",
       "      <td>782.045238</td>\n",
       "      <td>West</td>\n",
       "      <td>2025-04-27</td>\n",
       "      <td>2025-04-27 22:06:00+00:00</td>\n",
       "      <td>2025-04-27 22:07:00+00:00</td>\n",
       "    </tr>\n",
       "    <tr>\n",
       "      <th>10754</th>\n",
       "      <td>1.745791e+09</td>\n",
       "      <td>284216575</td>\n",
       "      <td>747</td>\n",
       "      <td>20250427</td>\n",
       "      <td>60997</td>\n",
       "      <td>0</td>\n",
       "      <td>1745791860</td>\n",
       "      <td>0</td>\n",
       "      <td>18:06:00</td>\n",
       "      <td>18:11:00</td>\n",
       "      <td>...</td>\n",
       "      <td>NaN</td>\n",
       "      <td>1</td>\n",
       "      <td>NaN</td>\n",
       "      <td>2940.0</td>\n",
       "      <td>0.0</td>\n",
       "      <td>0.000000</td>\n",
       "      <td>East</td>\n",
       "      <td>2025-04-27</td>\n",
       "      <td>2025-04-27 22:06:00+00:00</td>\n",
       "      <td>2025-04-27 22:11:00+00:00</td>\n",
       "    </tr>\n",
       "    <tr>\n",
       "      <th>11788</th>\n",
       "      <td>1.745791e+09</td>\n",
       "      <td>284216533</td>\n",
       "      <td>747</td>\n",
       "      <td>20250427</td>\n",
       "      <td>60997</td>\n",
       "      <td>0</td>\n",
       "      <td>1745794440</td>\n",
       "      <td>0</td>\n",
       "      <td>18:49:00</td>\n",
       "      <td>18:54:00</td>\n",
       "      <td>...</td>\n",
       "      <td>NaN</td>\n",
       "      <td>1</td>\n",
       "      <td>NaN</td>\n",
       "      <td>2820.0</td>\n",
       "      <td>0.0</td>\n",
       "      <td>0.000000</td>\n",
       "      <td>East</td>\n",
       "      <td>2025-04-27</td>\n",
       "      <td>2025-04-27 22:49:00+00:00</td>\n",
       "      <td>2025-04-27 22:54:00+00:00</td>\n",
       "    </tr>\n",
       "    <tr>\n",
       "      <th>12297</th>\n",
       "      <td>1.745791e+09</td>\n",
       "      <td>284216124</td>\n",
       "      <td>470</td>\n",
       "      <td>20250427</td>\n",
       "      <td>60415</td>\n",
       "      <td>1745795640</td>\n",
       "      <td>1745795700</td>\n",
       "      <td>0</td>\n",
       "      <td>19:14:00</td>\n",
       "      <td>19:15:00</td>\n",
       "      <td>...</td>\n",
       "      <td>NaN</td>\n",
       "      <td>1</td>\n",
       "      <td>57818.0</td>\n",
       "      <td>2940.0</td>\n",
       "      <td>74.0</td>\n",
       "      <td>782.045238</td>\n",
       "      <td>West</td>\n",
       "      <td>2025-04-27</td>\n",
       "      <td>2025-04-27 23:14:00+00:00</td>\n",
       "      <td>2025-04-27 23:15:00+00:00</td>\n",
       "    </tr>\n",
       "    <tr>\n",
       "      <th>...</th>\n",
       "      <td>...</td>\n",
       "      <td>...</td>\n",
       "      <td>...</td>\n",
       "      <td>...</td>\n",
       "      <td>...</td>\n",
       "      <td>...</td>\n",
       "      <td>...</td>\n",
       "      <td>...</td>\n",
       "      <td>...</td>\n",
       "      <td>...</td>\n",
       "      <td>...</td>\n",
       "      <td>...</td>\n",
       "      <td>...</td>\n",
       "      <td>...</td>\n",
       "      <td>...</td>\n",
       "      <td>...</td>\n",
       "      <td>...</td>\n",
       "      <td>...</td>\n",
       "      <td>...</td>\n",
       "      <td>...</td>\n",
       "      <td>...</td>\n",
       "    </tr>\n",
       "    <tr>\n",
       "      <th>7504518</th>\n",
       "      <td>1.746752e+09</td>\n",
       "      <td>284780839</td>\n",
       "      <td>747</td>\n",
       "      <td>20250508</td>\n",
       "      <td>60997</td>\n",
       "      <td>0</td>\n",
       "      <td>1746754560</td>\n",
       "      <td>0</td>\n",
       "      <td>21:31:00</td>\n",
       "      <td>21:36:00</td>\n",
       "      <td>...</td>\n",
       "      <td>NaN</td>\n",
       "      <td>1</td>\n",
       "      <td>NaN</td>\n",
       "      <td>1200.0</td>\n",
       "      <td>0.0</td>\n",
       "      <td>0.000000</td>\n",
       "      <td>East</td>\n",
       "      <td>2025-05-08</td>\n",
       "      <td>2025-05-09 01:31:00+00:00</td>\n",
       "      <td>2025-05-09 01:36:00+00:00</td>\n",
       "    </tr>\n",
       "    <tr>\n",
       "      <th>7508236</th>\n",
       "      <td>1.746752e+09</td>\n",
       "      <td>284727754</td>\n",
       "      <td>18</td>\n",
       "      <td>20250508</td>\n",
       "      <td>53851</td>\n",
       "      <td>1746754140</td>\n",
       "      <td>1746754260</td>\n",
       "      <td>0</td>\n",
       "      <td>21:29:00</td>\n",
       "      <td>21:31:00</td>\n",
       "      <td>...</td>\n",
       "      <td>NaN</td>\n",
       "      <td>1</td>\n",
       "      <td>51511.0</td>\n",
       "      <td>3000.0</td>\n",
       "      <td>80.0</td>\n",
       "      <td>271.004292</td>\n",
       "      <td>East</td>\n",
       "      <td>2025-05-08</td>\n",
       "      <td>2025-05-09 01:29:00+00:00</td>\n",
       "      <td>2025-05-09 01:31:00+00:00</td>\n",
       "    </tr>\n",
       "    <tr>\n",
       "      <th>7508973</th>\n",
       "      <td>1.746752e+09</td>\n",
       "      <td>284726876</td>\n",
       "      <td>161</td>\n",
       "      <td>20250508</td>\n",
       "      <td>50820</td>\n",
       "      <td>1746754980</td>\n",
       "      <td>1746755100</td>\n",
       "      <td>0</td>\n",
       "      <td>21:43:00</td>\n",
       "      <td>21:45:00</td>\n",
       "      <td>...</td>\n",
       "      <td>NaN</td>\n",
       "      <td>1</td>\n",
       "      <td>50866.0</td>\n",
       "      <td>2760.0</td>\n",
       "      <td>64.0</td>\n",
       "      <td>449.523333</td>\n",
       "      <td>West</td>\n",
       "      <td>2025-05-08</td>\n",
       "      <td>2025-05-09 01:43:00+00:00</td>\n",
       "      <td>2025-05-09 01:45:00+00:00</td>\n",
       "    </tr>\n",
       "    <tr>\n",
       "      <th>7510156</th>\n",
       "      <td>1.746752e+09</td>\n",
       "      <td>284780621</td>\n",
       "      <td>747</td>\n",
       "      <td>20250508</td>\n",
       "      <td>60997</td>\n",
       "      <td>0</td>\n",
       "      <td>1746753480</td>\n",
       "      <td>0</td>\n",
       "      <td>21:13:00</td>\n",
       "      <td>21:18:00</td>\n",
       "      <td>...</td>\n",
       "      <td>NaN</td>\n",
       "      <td>1</td>\n",
       "      <td>NaN</td>\n",
       "      <td>1200.0</td>\n",
       "      <td>0.0</td>\n",
       "      <td>0.000000</td>\n",
       "      <td>East</td>\n",
       "      <td>2025-05-08</td>\n",
       "      <td>2025-05-09 01:13:00+00:00</td>\n",
       "      <td>2025-05-09 01:18:00+00:00</td>\n",
       "    </tr>\n",
       "    <tr>\n",
       "      <th>7511358</th>\n",
       "      <td>1.746752e+09</td>\n",
       "      <td>284728651</td>\n",
       "      <td>161</td>\n",
       "      <td>20250508</td>\n",
       "      <td>50819</td>\n",
       "      <td>1746754020</td>\n",
       "      <td>1746754140</td>\n",
       "      <td>0</td>\n",
       "      <td>21:27:00</td>\n",
       "      <td>21:29:00</td>\n",
       "      <td>...</td>\n",
       "      <td>NaN</td>\n",
       "      <td>1</td>\n",
       "      <td>50778.0</td>\n",
       "      <td>2400.0</td>\n",
       "      <td>65.0</td>\n",
       "      <td>328.056105</td>\n",
       "      <td>East</td>\n",
       "      <td>2025-05-08</td>\n",
       "      <td>2025-05-09 01:27:00+00:00</td>\n",
       "      <td>2025-05-09 01:29:00+00:00</td>\n",
       "    </tr>\n",
       "  </tbody>\n",
       "</table>\n",
       "<p>10000 rows × 26 columns</p>\n",
       "</div>"
      ],
      "text/plain": [
       "         current_time    trip_id  route_id  start_date  stop_id  \\\n",
       "5232     1.745791e+09  284216122       470    20250427    57794   \n",
       "10326    1.745791e+09  284216100       470    20250427    60415   \n",
       "10754    1.745791e+09  284216575       747    20250427    60997   \n",
       "11788    1.745791e+09  284216533       747    20250427    60997   \n",
       "12297    1.745791e+09  284216124       470    20250427    60415   \n",
       "...               ...        ...       ...         ...      ...   \n",
       "7504518  1.746752e+09  284780839       747    20250508    60997   \n",
       "7508236  1.746752e+09  284727754        18    20250508    53851   \n",
       "7508973  1.746752e+09  284726876       161    20250508    50820   \n",
       "7510156  1.746752e+09  284780621       747    20250508    60997   \n",
       "7511358  1.746752e+09  284728651       161    20250508    50819   \n",
       "\n",
       "         rt_arrival_time  rt_departure_time  schedule_relationship  \\\n",
       "5232          1745792340         1745792340                      0   \n",
       "10326         1745792054         1745792054                      0   \n",
       "10754                  0         1745791860                      0   \n",
       "11788                  0         1745794440                      0   \n",
       "12297         1745795640         1745795700                      0   \n",
       "...                  ...                ...                    ...   \n",
       "7504518                0         1746754560                      0   \n",
       "7508236       1746754140         1746754260                      0   \n",
       "7508973       1746754980         1746755100                      0   \n",
       "7510156                0         1746753480                      0   \n",
       "7511358       1746754020         1746754140                      0   \n",
       "\n",
       "        arrival_time departure_time  ...  parent_station  wheelchair_boarding  \\\n",
       "5232        18:19:00       18:20:00  ...             NaN                    1   \n",
       "10326       18:06:00       18:07:00  ...             NaN                    1   \n",
       "10754       18:06:00       18:11:00  ...             NaN                    1   \n",
       "11788       18:49:00       18:54:00  ...             NaN                    1   \n",
       "12297       19:14:00       19:15:00  ...             NaN                    1   \n",
       "...              ...            ...  ...             ...                  ...   \n",
       "7504518     21:31:00       21:36:00  ...             NaN                    1   \n",
       "7508236     21:29:00       21:31:00  ...             NaN                    1   \n",
       "7508973     21:43:00       21:45:00  ...             NaN                    1   \n",
       "7510156     21:13:00       21:18:00  ...             NaN                    1   \n",
       "7511358     21:27:00       21:29:00  ...             NaN                    1   \n",
       "\n",
       "        prev_stop_id  exp_trip_duration  exp_delay_prev_stop  stop_distance  \\\n",
       "5232         57620.0             2640.0                 95.0     391.127323   \n",
       "10326        57818.0             3060.0                 77.0     782.045238   \n",
       "10754            NaN             2940.0                  0.0       0.000000   \n",
       "11788            NaN             2820.0                  0.0       0.000000   \n",
       "12297        57818.0             2940.0                 74.0     782.045238   \n",
       "...              ...                ...                  ...            ...   \n",
       "7504518          NaN             1200.0                  0.0       0.000000   \n",
       "7508236      51511.0             3000.0                 80.0     271.004292   \n",
       "7508973      50866.0             2760.0                 64.0     449.523333   \n",
       "7510156          NaN             1200.0                  0.0       0.000000   \n",
       "7511358      50778.0             2400.0                 65.0     328.056105   \n",
       "\n",
       "        route_direction  start_date_dt          sch_arrival_time  \\\n",
       "5232               East     2025-04-27 2025-04-27 22:19:00+00:00   \n",
       "10326              West     2025-04-27 2025-04-27 22:06:00+00:00   \n",
       "10754              East     2025-04-27 2025-04-27 22:06:00+00:00   \n",
       "11788              East     2025-04-27 2025-04-27 22:49:00+00:00   \n",
       "12297              West     2025-04-27 2025-04-27 23:14:00+00:00   \n",
       "...                 ...            ...                       ...   \n",
       "7504518            East     2025-05-08 2025-05-09 01:31:00+00:00   \n",
       "7508236            East     2025-05-08 2025-05-09 01:29:00+00:00   \n",
       "7508973            West     2025-05-08 2025-05-09 01:43:00+00:00   \n",
       "7510156            East     2025-05-08 2025-05-09 01:13:00+00:00   \n",
       "7511358            East     2025-05-08 2025-05-09 01:27:00+00:00   \n",
       "\n",
       "               sch_departure_time  \n",
       "5232    2025-04-27 22:20:00+00:00  \n",
       "10326   2025-04-27 22:07:00+00:00  \n",
       "10754   2025-04-27 22:11:00+00:00  \n",
       "11788   2025-04-27 22:54:00+00:00  \n",
       "12297   2025-04-27 23:15:00+00:00  \n",
       "...                           ...  \n",
       "7504518 2025-05-09 01:36:00+00:00  \n",
       "7508236 2025-05-09 01:31:00+00:00  \n",
       "7508973 2025-05-09 01:45:00+00:00  \n",
       "7510156 2025-05-09 01:18:00+00:00  \n",
       "7511358 2025-05-09 01:29:00+00:00  \n",
       "\n",
       "[10000 rows x 26 columns]"
      ]
     },
     "execution_count": 50,
     "metadata": {},
     "output_type": "execute_result"
    }
   ],
   "source": [
    "# Get rows where scheduled arrival and departure time are different\n",
    "merged_stm_df[merged_stm_df['sch_arrival_time'] != merged_stm_df['sch_departure_time']]"
   ]
  },
  {
   "cell_type": "code",
   "execution_count": 51,
   "id": "efce3671",
   "metadata": {},
   "outputs": [],
   "source": [
    "# Replace 0 timestamps with NaN\n",
    "merged_stm_df['rt_arrival_time'] = merged_stm_df['rt_arrival_time'].replace({0: np.nan})\n",
    "merged_stm_df['rt_departure_time'] = merged_stm_df['rt_departure_time'].replace({0: np.nan})"
   ]
  },
  {
   "cell_type": "code",
   "execution_count": 52,
   "id": "5a9960bc",
   "metadata": {},
   "outputs": [],
   "source": [
    "# Convert realtime arrival and departure time to UTC datetime\n",
    "merged_stm_df['rt_arrival_time'] = pd.to_datetime(merged_stm_df['rt_arrival_time'], origin='unix', unit='s', utc=True)\n",
    "merged_stm_df['rt_departure_time'] = pd.to_datetime(merged_stm_df['rt_departure_time'], origin='unix', unit='s', utc=True)"
   ]
  },
  {
   "cell_type": "code",
   "execution_count": 53,
   "id": "019218a5",
   "metadata": {},
   "outputs": [],
   "source": [
    "# Calculate delay (realtime - scheduled)\n",
    "# Start with arrival time, if null, calculate with departure time\n",
    "merged_stm_df['delay'] = (merged_stm_df['rt_arrival_time'] - merged_stm_df['sch_arrival_time']) / pd.Timedelta(seconds=1)\n",
    "merged_stm_df['delay'] = merged_stm_df['delay'].fillna(((merged_stm_df['rt_departure_time'] - merged_stm_df['sch_departure_time']) / pd.Timedelta(seconds=1)))"
   ]
  },
  {
   "cell_type": "code",
   "execution_count": 54,
   "id": "c4b5a7b8",
   "metadata": {},
   "outputs": [
    {
     "data": {
      "text/plain": [
       "count    7.318197e+06\n",
       "mean     6.652776e+01\n",
       "std      4.671457e+02\n",
       "min     -1.359200e+04\n",
       "25%      0.000000e+00\n",
       "50%      0.000000e+00\n",
       "75%      0.000000e+00\n",
       "max      5.458500e+04\n",
       "Name: delay, dtype: float64"
      ]
     },
     "execution_count": 54,
     "metadata": {},
     "output_type": "execute_result"
    }
   ],
   "source": [
    "# Get distribution\n",
    "merged_stm_df['delay'].describe()"
   ]
  },
  {
   "cell_type": "markdown",
   "id": "584cccf4",
   "metadata": {},
   "source": [
    "#### Handle Outliers"
   ]
  },
  {
   "cell_type": "code",
   "execution_count": 55,
   "id": "56eebfcf",
   "metadata": {},
   "outputs": [
    {
     "data": {
      "image/png": "[encoded data removed]",
      "text/plain": [
       "<Figure size 1000x500 with 1 Axes>"
      ]
     },
     "metadata": {},
     "output_type": "display_data"
    }
   ],
   "source": [
    "# Plot histogram\n",
    "plt.figure(figsize=(10, 5))\n",
    "sns.histplot(merged_stm_df['delay'], bins=50, kde=True)\n",
    "plt.title('Distribution of Delay Times')\n",
    "plt.xlabel('Delay Time (seconds)')\n",
    "plt.ylabel('Frequency')\n",
    "plt.savefig('../images/delay_histogram.png', bbox_inches='tight')\n",
    "plt.show()"
   ]
  },
  {
   "cell_type": "code",
   "execution_count": 56,
   "id": "271e1d1f",
   "metadata": {},
   "outputs": [
    {
     "data": {
      "image/png": "[encoded data removed]",
      "text/plain": [
       "<Figure size 1000x500 with 1 Axes>"
      ]
     },
     "metadata": {},
     "output_type": "display_data"
    }
   ],
   "source": [
    "# Plot boxplot\n",
    "plt.figure(figsize=(10, 5))\n",
    "sns.boxplot(x=merged_stm_df['delay'])\n",
    "plt.title('Boxplot of Delay Times (in seconds)')\n",
    "plt.savefig('../images/delay_boxplot.png', bbox_inches='tight')\n",
    "plt.show()"
   ]
  },
  {
   "cell_type": "markdown",
   "id": "bc0764ec",
   "metadata": {},
   "source": [
    "The distribution of delay times is highly skewed, with most values concentrated near 0, but extending both negatively and positively in a wide range. There are extreme outliers stretching up to 55000 seconds (more than 15 hours) and also negative values going beyond -10000 seconds (almost 3 hours). Such extreme alues are unrealistic for transit delays. It's very likely they represent data entry errors, sensor glitches or edge cases (canceled trips, detours, etc.)."
   ]
  },
  {
   "cell_type": "code",
   "execution_count": null,
   "id": "49e01d28",
   "metadata": {},
   "outputs": [],
   "source": [
    "# Filter outliers \n",
    "MIN_DELAY = -420 # 7 minutes early\n",
    "MAX_DELAY = 1800 # 30 minutes late\n",
    "outlier_mask = (merged_stm_df['delay'] < MIN_DELAY) | (merged_stm_df['delay'] > MAX_DELAY)"
   ]
  },
  {
   "cell_type": "code",
   "execution_count": 58,
   "id": "cb6e88d1",
   "metadata": {},
   "outputs": [
    {
     "data": {
      "application/vnd.microsoft.datawrangler.viewer.v0+json": {
       "columns": [
        {
         "name": "index",
         "rawType": "int64",
         "type": "integer"
        },
        {
         "name": "trip_id",
         "rawType": "int64",
         "type": "integer"
        },
        {
         "name": "route_id",
         "rawType": "int64",
         "type": "integer"
        },
        {
         "name": "stop_name",
         "rawType": "object",
         "type": "string"
        },
        {
         "name": "trip_progress",
         "rawType": "float64",
         "type": "float"
        },
        {
         "name": "delay",
         "rawType": "float64",
         "type": "float"
        }
       ],
       "conversionMethod": "pd.DataFrame",
       "ref": "02a81423-3dfe-4aaa-b6d1-6ac945f4dfce",
       "rows": [
        [
         "161065",
         "283553409",
         "97",
         "du Mont-Royal / De Lorimier",
         "0.5555555555555556",
         "54585.0"
        ],
        [
         "161068",
         "283553409",
         "97",
         "du Mont-Royal / Fabre",
         "0.6388888888888888",
         "54585.0"
        ],
        [
         "161066",
         "283553409",
         "97",
         "du Mont-Royal / Chabot",
         "0.5833333333333334",
         "54585.0"
        ],
        [
         "161067",
         "283553409",
         "97",
         "du Mont-Royal / Papineau",
         "0.6111111111111112",
         "54585.0"
        ],
        [
         "161055",
         "283553409",
         "97",
         "Rachel / Saint-Michel",
         "0.2777777777777778",
         "54585.0"
        ],
        [
         "161056",
         "283553409",
         "97",
         "Rachel / Midway",
         "0.3055555555555556",
         "54585.0"
        ],
        [
         "161057",
         "283553409",
         "97",
         "Rachel / André-Laurendeau",
         "0.3333333333333333",
         "54585.0"
        ],
        [
         "161063",
         "283553409",
         "97",
         "du Mont-Royal / Fullum",
         "0.5",
         "54585.0"
        ],
        [
         "161070",
         "283553409",
         "97",
         "du Mont-Royal / De La Roche",
         "0.6944444444444444",
         "54585.0"
        ],
        [
         "161071",
         "283553409",
         "97",
         "du Mont-Royal / Christophe-Colomb",
         "0.7222222222222222",
         "54585.0"
        ],
        [
         "161053",
         "283553409",
         "97",
         "du Mont-Royal / Euclide-Brien",
         "0.2222222222222222",
         "54585.0"
        ],
        [
         "161064",
         "283553409",
         "97",
         "du Mont-Royal / Parthenais",
         "0.5277777777777778",
         "54585.0"
        ],
        [
         "161080",
         "283553409",
         "97",
         "du Mont-Royal / Jeanne-Mance",
         "0.9722222222222222",
         "54585.0"
        ],
        [
         "161081",
         "283553409",
         "97",
         "Parc du Mont-Royal",
         "1.0",
         "54585.0"
        ],
        [
         "161072",
         "283553409",
         "97",
         "du Mont-Royal / de Mentana",
         "0.75",
         "54585.0"
        ],
        [
         "161046",
         "283553409",
         "97",
         "Station Pie-IX (P.-De Coubertin/Pie-IX)",
         "0.027777777777777776",
         "54585.0"
        ],
        [
         "161050",
         "283553409",
         "97",
         "du Mont-Royal / Bourbonnière",
         "0.1388888888888889",
         "54585.0"
        ],
        [
         "161051",
         "283553409",
         "97",
         "du Mont-Royal / De Chambly",
         "0.16666666666666666",
         "54585.0"
        ],
        [
         "161052",
         "283553409",
         "97",
         "du Mont-Royal / Moïse-Picard",
         "0.19444444444444445",
         "54585.0"
        ],
        [
         "161073",
         "283553409",
         "97",
         "du Mont-Royal / Saint-Hubert",
         "0.7777777777777778",
         "54585.0"
        ],
        [
         "161054",
         "283553409",
         "97",
         "Saint-Michel / William-Tremblay",
         "0.25",
         "54585.0"
        ],
        [
         "161049",
         "283553409",
         "97",
         "Bourbonnière / Rachel",
         "0.1111111111111111",
         "54585.0"
        ],
        [
         "161076",
         "283553409",
         "97",
         "du Mont-Royal / Henri-Julien",
         "0.8611111111111112",
         "54585.0"
        ],
        [
         "161077",
         "283553409",
         "97",
         "du Mont-Royal / De Bullion",
         "0.8888888888888888",
         "54585.0"
        ],
        [
         "161079",
         "283553409",
         "97",
         "du Mont-Royal / Saint-Urbain",
         "0.9444444444444444",
         "54585.0"
        ],
        [
         "161075",
         "283553409",
         "97",
         "du Mont-Royal / Saint-Denis",
         "0.8333333333333334",
         "54585.0"
        ],
        [
         "161074",
         "283553409",
         "97",
         "Station Mont-Royal (du Mont-Royal / Berri)",
         "0.8055555555555556",
         "54585.0"
        ],
        [
         "161078",
         "283553409",
         "97",
         "du Mont-Royal / Saint-Laurent",
         "0.9166666666666666",
         "54585.0"
        ],
        [
         "161048",
         "283553409",
         "97",
         "Bourbonnière / Sherbrooke",
         "0.08333333333333333",
         "54585.0"
        ],
        [
         "161059",
         "283553409",
         "97",
         "Rachel / Bercy",
         "0.3888888888888889",
         "54585.0"
        ],
        [
         "161062",
         "283553409",
         "97",
         "du Mont-Royal / Frontenac",
         "0.4722222222222222",
         "54585.0"
        ],
        [
         "161061",
         "283553409",
         "97",
         "Frontenac / Hogan",
         "0.4444444444444444",
         "54585.0"
        ],
        [
         "161060",
         "283553409",
         "97",
         "Rachel / Frontenac",
         "0.4166666666666667",
         "54585.0"
        ],
        [
         "161047",
         "283553409",
         "97",
         "Bourbonnière / Pierre-De Coubertin",
         "0.05555555555555555",
         "54585.0"
        ],
        [
         "161058",
         "283553409",
         "97",
         "Rachel / Molson",
         "0.3611111111111111",
         "54585.0"
        ],
        [
         "4281857",
         "284330068",
         "95",
         "Bélanger / Louis-Hémon",
         "0.23255813953488372",
         "54302.0"
        ],
        [
         "4281867",
         "284330068",
         "95",
         "Bélanger / 24e Avenue",
         "0.46511627906976744",
         "54302.0"
        ],
        [
         "4281852",
         "284330068",
         "95",
         "Bélanger / De Lanaudière",
         "0.11627906976744186",
         "54302.0"
        ],
        [
         "4281887",
         "284330068",
         "95",
         "des Halles / Bélanger",
         "0.9302325581395349",
         "54302.0"
        ],
        [
         "4281854",
         "284330068",
         "95",
         "Bélanger / Papineau",
         "0.16279069767441862",
         "54302.0"
        ],
        [
         "4281874",
         "284330068",
         "95",
         "Bélanger / 40e Avenue",
         "0.627906976744186",
         "54302.0"
        ],
        [
         "4281856",
         "284330068",
         "95",
         "Bélanger / De Lorimier",
         "0.20930232558139536",
         "54302.0"
        ],
        [
         "4281873",
         "284330068",
         "95",
         "Bélanger / Viau (Institut de cardiologie)",
         "0.6046511627906976",
         "54302.0"
        ],
        [
         "4281855",
         "284330068",
         "95",
         "Bélanger / Chabot",
         "0.18604651162790697",
         "54302.0"
        ],
        [
         "4281851",
         "284330068",
         "95",
         "Bélanger / De Normanville",
         "0.09302325581395349",
         "54302.0"
        ],
        [
         "4281868",
         "284330068",
         "95",
         "Bélanger / 26e Avenue",
         "0.4883720930232558",
         "54302.0"
        ],
        [
         "4281853",
         "284330068",
         "95",
         "Bélanger / Fabre",
         "0.13953488372093023",
         "54302.0"
        ],
        [
         "4281860",
         "284330068",
         "95",
         "Bélanger / 9e Avenue",
         "0.3023255813953488",
         "54302.0"
        ],
        [
         "4281862",
         "284330068",
         "95",
         "Bélanger / 13e Avenue",
         "0.3488372093023256",
         "54302.0"
        ],
        [
         "4281861",
         "284330068",
         "95",
         "Bélanger / Saint-Michel",
         "0.32558139534883723",
         "54302.0"
        ]
       ],
       "shape": {
        "columns": 5,
        "rows": 83012
       }
      },
      "text/html": [
       "<div>\n",
       "<style scoped>\n",
       "    .dataframe tbody tr th:only-of-type {\n",
       "        vertical-align: middle;\n",
       "    }\n",
       "\n",
       "    .dataframe tbody tr th {\n",
       "        vertical-align: top;\n",
       "    }\n",
       "\n",
       "    .dataframe thead th {\n",
       "        text-align: right;\n",
       "    }\n",
       "</style>\n",
       "<table border=\"1\" class=\"dataframe\">\n",
       "  <thead>\n",
       "    <tr style=\"text-align: right;\">\n",
       "      <th></th>\n",
       "      <th>trip_id</th>\n",
       "      <th>route_id</th>\n",
       "      <th>stop_name</th>\n",
       "      <th>trip_progress</th>\n",
       "      <th>delay</th>\n",
       "    </tr>\n",
       "  </thead>\n",
       "  <tbody>\n",
       "    <tr>\n",
       "      <th>161065</th>\n",
       "      <td>283553409</td>\n",
       "      <td>97</td>\n",
       "      <td>du Mont-Royal / De Lorimier</td>\n",
       "      <td>0.555556</td>\n",
       "      <td>54585.0</td>\n",
       "    </tr>\n",
       "    <tr>\n",
       "      <th>161068</th>\n",
       "      <td>283553409</td>\n",
       "      <td>97</td>\n",
       "      <td>du Mont-Royal / Fabre</td>\n",
       "      <td>0.638889</td>\n",
       "      <td>54585.0</td>\n",
       "    </tr>\n",
       "    <tr>\n",
       "      <th>161066</th>\n",
       "      <td>283553409</td>\n",
       "      <td>97</td>\n",
       "      <td>du Mont-Royal / Chabot</td>\n",
       "      <td>0.583333</td>\n",
       "      <td>54585.0</td>\n",
       "    </tr>\n",
       "    <tr>\n",
       "      <th>161067</th>\n",
       "      <td>283553409</td>\n",
       "      <td>97</td>\n",
       "      <td>du Mont-Royal / Papineau</td>\n",
       "      <td>0.611111</td>\n",
       "      <td>54585.0</td>\n",
       "    </tr>\n",
       "    <tr>\n",
       "      <th>161055</th>\n",
       "      <td>283553409</td>\n",
       "      <td>97</td>\n",
       "      <td>Rachel / Saint-Michel</td>\n",
       "      <td>0.277778</td>\n",
       "      <td>54585.0</td>\n",
       "    </tr>\n",
       "    <tr>\n",
       "      <th>...</th>\n",
       "      <td>...</td>\n",
       "      <td>...</td>\n",
       "      <td>...</td>\n",
       "      <td>...</td>\n",
       "      <td>...</td>\n",
       "    </tr>\n",
       "    <tr>\n",
       "      <th>3591404</th>\n",
       "      <td>285009528</td>\n",
       "      <td>209</td>\n",
       "      <td>Gare Roxboro-Pierrefonds</td>\n",
       "      <td>1.000000</td>\n",
       "      <td>-13318.0</td>\n",
       "    </tr>\n",
       "    <tr>\n",
       "      <th>2174565</th>\n",
       "      <td>285009528</td>\n",
       "      <td>209</td>\n",
       "      <td>de Pierrefonds / Gouin</td>\n",
       "      <td>0.923077</td>\n",
       "      <td>-13329.0</td>\n",
       "    </tr>\n",
       "    <tr>\n",
       "      <th>2174566</th>\n",
       "      <td>285009528</td>\n",
       "      <td>209</td>\n",
       "      <td>Gouin / 6e Avenue</td>\n",
       "      <td>0.948718</td>\n",
       "      <td>-13373.0</td>\n",
       "    </tr>\n",
       "    <tr>\n",
       "      <th>2174567</th>\n",
       "      <td>285009528</td>\n",
       "      <td>209</td>\n",
       "      <td>Gare Roxboro-Pierrefonds</td>\n",
       "      <td>0.974359</td>\n",
       "      <td>-13412.0</td>\n",
       "    </tr>\n",
       "    <tr>\n",
       "      <th>2174568</th>\n",
       "      <td>285009528</td>\n",
       "      <td>209</td>\n",
       "      <td>Gare Roxboro-Pierrefonds</td>\n",
       "      <td>1.000000</td>\n",
       "      <td>-13592.0</td>\n",
       "    </tr>\n",
       "  </tbody>\n",
       "</table>\n",
       "<p>83012 rows × 5 columns</p>\n",
       "</div>"
      ],
      "text/plain": [
       "           trip_id  route_id                    stop_name  trip_progress  \\\n",
       "161065   283553409        97  du Mont-Royal / De Lorimier       0.555556   \n",
       "161068   283553409        97        du Mont-Royal / Fabre       0.638889   \n",
       "161066   283553409        97       du Mont-Royal / Chabot       0.583333   \n",
       "161067   283553409        97     du Mont-Royal / Papineau       0.611111   \n",
       "161055   283553409        97        Rachel / Saint-Michel       0.277778   \n",
       "...            ...       ...                          ...            ...   \n",
       "3591404  285009528       209     Gare Roxboro-Pierrefonds       1.000000   \n",
       "2174565  285009528       209       de Pierrefonds / Gouin       0.923077   \n",
       "2174566  285009528       209            Gouin / 6e Avenue       0.948718   \n",
       "2174567  285009528       209     Gare Roxboro-Pierrefonds       0.974359   \n",
       "2174568  285009528       209     Gare Roxboro-Pierrefonds       1.000000   \n",
       "\n",
       "           delay  \n",
       "161065   54585.0  \n",
       "161068   54585.0  \n",
       "161066   54585.0  \n",
       "161067   54585.0  \n",
       "161055   54585.0  \n",
       "...          ...  \n",
       "3591404 -13318.0  \n",
       "2174565 -13329.0  \n",
       "2174566 -13373.0  \n",
       "2174567 -13412.0  \n",
       "2174568 -13592.0  \n",
       "\n",
       "[83012 rows x 5 columns]"
      ]
     },
     "execution_count": 58,
     "metadata": {},
     "output_type": "execute_result"
    }
   ],
   "source": [
    "# Inspect outliers\n",
    "outliers_df = merged_stm_df[outlier_mask]\n",
    "outliers_df[['trip_id', 'route_id', 'stop_name', 'trip_progress', 'delay']].sort_values('delay', ascending=False)"
   ]
  },
  {
   "cell_type": "code",
   "execution_count": 59,
   "id": "c7df7489",
   "metadata": {},
   "outputs": [
    {
     "name": "stdout",
     "output_type": "stream",
     "text": [
      "1.10%\n"
     ]
    }
   ],
   "source": [
    "# Calculate proportion\n",
    "print(f'{outlier_mask.mean():.2%}')"
   ]
  },
  {
   "cell_type": "code",
   "execution_count": 60,
   "id": "6b806778",
   "metadata": {},
   "outputs": [],
   "source": [
    "# Remove outliers\n",
    "merged_stm_df = merged_stm_df[~outlier_mask]"
   ]
  },
  {
   "cell_type": "code",
   "execution_count": 61,
   "id": "43b684f4",
   "metadata": {},
   "outputs": [
    {
     "data": {
      "image/png": "[encoded data removed]",
      "text/plain": [
       "<Figure size 1000x500 with 1 Axes>"
      ]
     },
     "metadata": {},
     "output_type": "display_data"
    }
   ],
   "source": [
    "# Replot histogram\n",
    "plt.figure(figsize=(10, 5))\n",
    "sns.histplot(merged_stm_df['delay'], bins=50, kde=True)\n",
    "plt.title('Distribution of Delay Times (After Filtering)')\n",
    "plt.xlabel('Delay Time (seconds)')\n",
    "plt.ylabel('Frequency')\n",
    "plt.savefig('../images/delay_histogram_filtered.png', bbox_inches='tight')\n",
    "plt.show()"
   ]
  },
  {
   "cell_type": "code",
   "execution_count": 62,
   "id": "1a103883",
   "metadata": {},
   "outputs": [
    {
     "data": {
      "image/png": "[encoded data removed]",
      "text/plain": [
       "<Figure size 1000x500 with 1 Axes>"
      ]
     },
     "metadata": {},
     "output_type": "display_data"
    }
   ],
   "source": [
    "# Replot boxplot\n",
    "plt.figure(figsize=(10, 5))\n",
    "sns.boxplot(x=merged_stm_df['delay'])\n",
    "plt.title('Boxplot of Delay Times (After Filtering)')\n",
    "plt.savefig('../images/delay_boxplot_filtered.png', bbox_inches='tight')\n",
    "plt.show()"
   ]
  },
  {
   "cell_type": "code",
   "execution_count": 63,
   "id": "854cee45",
   "metadata": {},
   "outputs": [
    {
     "name": "stdout",
     "output_type": "stream",
     "text": [
      "194730\n"
     ]
    }
   ],
   "source": [
    "# Get null delays count\n",
    "print(merged_stm_df['delay'].isna().sum())"
   ]
  },
  {
   "cell_type": "code",
   "execution_count": 64,
   "id": "0288ed5e",
   "metadata": {},
   "outputs": [],
   "source": [
    "# Replace the null delays with the average delay by route, stop, day of week and hour\n",
    "merged_stm_df['day_of_week'] = merged_stm_df['sch_arrival_time'].dt.day_of_week\n",
    "merged_stm_df['hour'] = merged_stm_df['sch_arrival_time'].dt.hour\n",
    "merged_stm_df['delay'] = merged_stm_df['delay'] \\\n",
    "\t.fillna(merged_stm_df.groupby(['route_id', 'stop_id', 'day_of_week', 'hour'])['delay'].transform('mean')) \\\n",
    "\t.fillna(merged_stm_df.groupby(['route_id', 'stop_id', 'day_of_week'])['delay'].transform('mean')) \\\n",
    "\t.fillna(merged_stm_df.groupby(['route_id', 'stop_id'])['delay'].transform('mean')) \\\n",
    "\t.fillna(merged_stm_df.groupby('route_id')['delay'].transform('mean'))\n",
    "assert merged_stm_df['delay'].isna().sum() == 0"
   ]
  },
  {
   "cell_type": "code",
   "execution_count": 65,
   "id": "aa38a9f4",
   "metadata": {},
   "outputs": [
    {
     "data": {
      "text/plain": [
       "count    7.429915e+06\n",
       "mean     4.536492e+01\n",
       "std      1.195612e+02\n",
       "min     -4.200000e+02\n",
       "25%      0.000000e+00\n",
       "50%      0.000000e+00\n",
       "75%      0.000000e+00\n",
       "max      9.000000e+02\n",
       "Name: delay, dtype: float64"
      ]
     },
     "execution_count": 65,
     "metadata": {},
     "output_type": "execute_result"
    }
   ],
   "source": [
    "# Get new distribution\n",
    "merged_stm_df['delay'].describe()"
   ]
  },
  {
   "cell_type": "code",
   "execution_count": 66,
   "id": "3e3e1b30",
   "metadata": {},
   "outputs": [
    {
     "data": {
      "text/plain": [
       "Index(['current_time', 'trip_id', 'route_id', 'start_date', 'stop_id',\n",
       "       'rt_arrival_time', 'rt_departure_time', 'schedule_relationship',\n",
       "       'arrival_time', 'departure_time', 'stop_sequence', 'trip_progress',\n",
       "       'stop_name', 'stop_lat', 'stop_lon', 'location_type', 'parent_station',\n",
       "       'wheelchair_boarding', 'prev_stop_id', 'exp_trip_duration',\n",
       "       'exp_delay_prev_stop', 'stop_distance', 'route_direction',\n",
       "       'start_date_dt', 'sch_arrival_time', 'sch_departure_time', 'delay',\n",
       "       'day_of_week', 'hour'],\n",
       "      dtype='object')"
      ]
     },
     "execution_count": 66,
     "metadata": {},
     "output_type": "execute_result"
    }
   ],
   "source": [
    "merged_stm_df.columns"
   ]
  },
  {
   "cell_type": "code",
   "execution_count": 67,
   "id": "749afa71",
   "metadata": {},
   "outputs": [],
   "source": [
    "# Remove uneeded columns\n",
    "merged_stm_df = merged_stm_df.drop(['current_time', 'arrival_time', 'departure_time', 'start_date_dt', 'day_of_week', 'hour'], axis=1)"
   ]
  },
  {
   "cell_type": "markdown",
   "id": "b8401b97",
   "metadata": {},
   "source": [
    "### Trips and Traffic Data"
   ]
  },
  {
   "cell_type": "code",
   "execution_count": null,
   "id": "7dbf915b",
   "metadata": {},
   "outputs": [],
   "source": [
    "# Get proportion of duplicates\n",
    "duplicate_mask = traffic_df.duplicated()\n",
    "print(f'{duplicate_mask.mean():.2%}')"
   ]
  },
  {
   "cell_type": "code",
   "execution_count": null,
   "id": "ba638aaf",
   "metadata": {},
   "outputs": [],
   "source": [
    "# Remove duplicates\n",
    "traffic_df = traffic_df.drop_duplicates(keep='last').reset_index(drop=True)"
   ]
  },
  {
   "cell_type": "code",
   "execution_count": null,
   "id": "039bead4",
   "metadata": {},
   "outputs": [],
   "source": [
    "# Convert traffic start_time and end_time to datetime\n",
    "traffic_df['start_time'] = pd.to_datetime(traffic_df['start_time'], utc=True)\n",
    "traffic_df['end_time'] = pd.to_datetime(traffic_df['end_time'], utc=True)"
   ]
  },
  {
   "cell_type": "code",
   "execution_count": null,
   "id": "981c88b3",
   "metadata": {},
   "outputs": [],
   "source": [
    "# Sort by date\n",
    "traffic_df = traffic_df.sort_values(by='start_time').reset_index(drop=True)"
   ]
  },
  {
   "cell_type": "code",
   "execution_count": null,
   "id": "971b367a",
   "metadata": {},
   "outputs": [],
   "source": [
    "# Fill null end times with current time (assuming the incident is still ongoing)\n",
    "traffic_df['end_time'] = traffic_df['end_time'].fillna(datetime.now(timezone.utc).replace(microsecond=0))\n",
    "assert traffic_df['end_time'].isna().sum() == 0"
   ]
  },
  {
   "cell_type": "code",
   "execution_count": null,
   "id": "d41233ac",
   "metadata": {},
   "outputs": [],
   "source": [
    "# Create GeoDataFrame for trip updates\n",
    "stm_trips_gdf = gpd.GeoDataFrame(\n",
    "  stm_trips_df,\n",
    "  geometry=gpd.points_from_xy(stm_trips_df['stop_lon'], stm_trips_df['stop_lat']),\n",
    "  crs='EPSG:4326'\n",
    ").to_crs(epsg=3857)"
   ]
  },
  {
   "cell_type": "code",
   "execution_count": null,
   "id": "cee92835",
   "metadata": {},
   "outputs": [],
   "source": [
    "# Create GeoDataFrame for traffic incidents\n",
    "traffic_gdf = gpd.GeoDataFrame(\n",
    "    traffic_df,\n",
    "    geometry=gpd.points_from_xy(traffic_df['longitude'], traffic_df['latitude']),\n",
    "    crs='EPSG:4326'\n",
    ").to_crs(epsg=3857)"
   ]
  },
  {
   "cell_type": "code",
   "execution_count": null,
   "id": "1adcbd1f",
   "metadata": {},
   "outputs": [],
   "source": [
    "# Perform spatial join with nearest incidents\n",
    "joined = gpd.sjoin_nearest(\n",
    "  left_df=stm_trips_gdf,\n",
    "  right_df=traffic_gdf,\n",
    "  how='left',\n",
    "  max_distance=1500, # get incidents within 1.5 km\n",
    "  distance_col='distance')"
   ]
  },
  {
   "cell_type": "code",
   "execution_count": null,
   "id": "77d5506e",
   "metadata": {},
   "outputs": [],
   "source": [
    "joined.columns"
   ]
  },
  {
   "cell_type": "code",
   "execution_count": null,
   "id": "ef4a2473",
   "metadata": {},
   "outputs": [],
   "source": [
    "# Filter joined incidents by time overlap\n",
    "active_incident = (joined['start_time'] <= joined['sch_arrival_time']) & (joined['end_time'] >= joined['sch_arrival_time'])\n",
    "joined = joined[active_incident].copy()"
   ]
  },
  {
   "cell_type": "code",
   "execution_count": null,
   "id": "c94e1843",
   "metadata": {},
   "outputs": [],
   "source": [
    "# Group by trip index (from trip_gdf) to attach traffic features\n",
    "incident_summary = joined.groupby('index_right').agg({\n",
    "\t'category': pd.Series.mode,\n",
    "\t'delay_right': 'mean',\n",
    "   \t'distance': 'mean',\n",
    "\t'magnitude_of_delay': pd.Series.mode,\n",
    "\t'geometry': 'count'  # number of incidents\n",
    "}).rename(columns={\n",
    "\t'category': 'incident_category',\n",
    "\t'delay_right': 'incident_avg_delay',\n",
    "  \t'distance': 'avg_distance_to_incident',\n",
    "  \t'magnitude_of_delay': 'incident_delay_magnitude',\n",
    "\t'geometry': 'incident_count',\n",
    "})"
   ]
  },
  {
   "cell_type": "code",
   "execution_count": null,
   "id": "ccd51419",
   "metadata": {},
   "outputs": [],
   "source": [
    "# Create boolean column incident_nearby\n",
    "incident_summary['incident_nearby'] = (incident_summary['incident_count'] > 0).astype('int64')"
   ]
  },
  {
   "cell_type": "code",
   "execution_count": null,
   "id": "73fdc43d",
   "metadata": {},
   "outputs": [],
   "source": [
    "# Merge back to original trip_updates\n",
    "trips_traffic_df = stm_trips_gdf.reset_index().merge(incident_summary, left_index=True, right_on='index_right', how='left')"
   ]
  },
  {
   "cell_type": "code",
   "execution_count": null,
   "id": "41b7ed18",
   "metadata": {},
   "outputs": [],
   "source": [
    "# Fill missing values for trips with no incidents\n",
    "trips_traffic_df = trips_traffic_df.fillna({\n",
    "\t'incident_category': np.nan,\n",
    "\t'incident_delay': np.nan,\n",
    "\t'avg_distance_to_incident': np.nan,\n",
    "  \t'incident_delay_magnitude': np.nan,\n",
    "\t'incident_count': 0,\n",
    "\t'incident_nearby': 0\n",
    "})"
   ]
  },
  {
   "cell_type": "code",
   "execution_count": null,
   "id": "41e52f02",
   "metadata": {},
   "outputs": [],
   "source": [
    "# Get proportion of trip updates with incidents\n",
    "trips_traffic_df['incident_nearby'].value_counts(normalize=True)"
   ]
  },
  {
   "cell_type": "markdown",
   "id": "40d145b7",
   "metadata": {},
   "source": [
    "Since only 0.3% of the data has incidents, the incidents will not be used."
   ]
  },
  {
   "cell_type": "markdown",
   "id": "f4ff72f0",
   "metadata": {},
   "source": [
    "### Vehicle Positions"
   ]
  },
  {
   "cell_type": "code",
   "execution_count": null,
   "id": "faa4cc56",
   "metadata": {},
   "outputs": [],
   "source": [
    "# Check if a trip_id is associated with multiple dates\n",
    "stm_trips_df.groupby('trip_id')['start_date'].nunique().sort_values(ascending=False)"
   ]
  },
  {
   "cell_type": "code",
   "execution_count": null,
   "id": "34dea48b",
   "metadata": {},
   "outputs": [],
   "source": [
    "positions_df.dtypes"
   ]
  },
  {
   "cell_type": "code",
   "execution_count": null,
   "id": "7ee93f9a",
   "metadata": {},
   "outputs": [],
   "source": [
    "# Get null values\n",
    "positions_df.isna().sum()"
   ]
  },
  {
   "cell_type": "code",
   "execution_count": null,
   "id": "bd6edf65",
   "metadata": {},
   "outputs": [],
   "source": [
    "# Remove rows will null values\n",
    "positions_df = positions_df.dropna()"
   ]
  },
  {
   "cell_type": "code",
   "execution_count": null,
   "id": "51110755",
   "metadata": {},
   "outputs": [],
   "source": [
    "# Convert start_date to int\n",
    "positions_df['start_date'] = positions_df['start_date'].astype('int64')"
   ]
  },
  {
   "cell_type": "code",
   "execution_count": null,
   "id": "2cd0aef8",
   "metadata": {},
   "outputs": [],
   "source": [
    "# Sort by time\n",
    "positions_df = positions_df.sort_values('timestamp')"
   ]
  },
  {
   "cell_type": "code",
   "execution_count": null,
   "id": "4d2d3524",
   "metadata": {},
   "outputs": [],
   "source": [
    "# Get proportion of duplicates\n",
    "subset = ['trip_id', 'route_id', 'start_date', 'stop_sequence']\n",
    "duplicate_mask = positions_df.duplicated(subset=subset)\n",
    "print(f'{duplicate_mask.mean():.2%}')"
   ]
  },
  {
   "cell_type": "code",
   "execution_count": null,
   "id": "5367c313",
   "metadata": {},
   "outputs": [],
   "source": [
    "# Drop duplicates\n",
    "positions_df = positions_df.drop_duplicates(subset=subset, keep='last')"
   ]
  },
  {
   "cell_type": "code",
   "execution_count": null,
   "id": "066dbe06",
   "metadata": {},
   "outputs": [],
   "source": [
    "# Rename latitude and longitude\n",
    "positions_df = positions_df.rename(columns={\n",
    "  'latitude': 'vehicle_lat',\n",
    "  'longitude': 'vehicle_lon',\n",
    "  'status': 'vehicle_status',\n",
    "  'bearing': 'vehicle_bearing',\n",
    "  'speed': 'vehicle_speed',\n",
    "  'timestamp': 'vehicle_dt'\n",
    "})"
   ]
  },
  {
   "cell_type": "code",
   "execution_count": null,
   "id": "d236afc3",
   "metadata": {},
   "outputs": [],
   "source": [
    "# Merge positions\n",
    "stm_trips_positions_df = pd.merge(left=stm_trips_df, right=positions_df, how='inner', on=['trip_id', 'route_id', 'start_date', 'stop_sequence']) "
   ]
  },
  {
   "cell_type": "code",
   "execution_count": null,
   "id": "bde04d79",
   "metadata": {},
   "outputs": [],
   "source": [
    "stm_trips_positions_df.columns"
   ]
  },
  {
   "cell_type": "code",
   "execution_count": null,
   "id": "5e3eda01",
   "metadata": {},
   "outputs": [],
   "source": [
    "# Create GeoDataFrames for vehicle and stop positions\n",
    "pos_gdf1 = gpd.GeoDataFrame(\n",
    "  stm_trips_positions_df[['vehicle_lon', 'vehicle_lat']],\n",
    "  geometry=gpd.points_from_xy(stm_trips_positions_df['vehicle_lon'], stm_trips_positions_df['vehicle_lat']),\n",
    "  crs='EPSG:4326'\n",
    ").to_crs(epsg=3857)\n",
    "\n",
    "pos_gdf2 = gpd.GeoDataFrame(\n",
    "  stm_trips_positions_df[['stop_lon', 'stop_lat']],\n",
    "  geometry=gpd.points_from_xy(stm_trips_positions_df['stop_lon'], stm_trips_positions_df['stop_lat']),\n",
    "  crs='EPSG:4326'\n",
    ").to_crs(epsg=3857)"
   ]
  },
  {
   "cell_type": "code",
   "execution_count": null,
   "id": "a8d0d7e9",
   "metadata": {},
   "outputs": [],
   "source": [
    "# Calculate the vehicle distance from the current stop\n",
    "stm_trips_positions_df['vehicle_distance'] = pos_gdf1.distance(pos_gdf2)\n",
    "stm_trips_positions_df['vehicle_distance'].describe()"
   ]
  },
  {
   "cell_type": "code",
   "execution_count": null,
   "id": "1dc49113",
   "metadata": {},
   "outputs": [],
   "source": [
    "# Get rows with vehicle distance larger than stop distance\n",
    "further_than_previous_stop = stm_trips_positions_df['vehicle_distance'] > stm_trips_positions_df['stop_distance']\n",
    "stm_trips_positions_df[further_than_previous_stop].sort_values('vehicle_distance', ascending=False)"
   ]
  },
  {
   "cell_type": "code",
   "execution_count": null,
   "id": "ae594cdf",
   "metadata": {},
   "outputs": [],
   "source": [
    "# Get proportion\n",
    "print(f'{further_than_previous_stop.mean():.2%}')"
   ]
  },
  {
   "cell_type": "markdown",
   "id": "3f406664",
   "metadata": {},
   "source": [
    "Some trip updates have almost 10000 km vehicle distance with 0 delay, which doesn't make sense. The vehicle coordinates and distance won't be used."
   ]
  },
  {
   "cell_type": "code",
   "execution_count": null,
   "id": "cd8e1988",
   "metadata": {},
   "outputs": [],
   "source": [
    "stm_trips_positions_df.columns"
   ]
  },
  {
   "cell_type": "code",
   "execution_count": null,
   "id": "25efb962",
   "metadata": {},
   "outputs": [],
   "source": [
    "# Drop unneeded columns\n",
    "stm_trips_positions_df = stm_trips_positions_df.drop([\n",
    "  \t'current_time',\n",
    "  \t'vehicle_lat',\n",
    "  \t'vehicle_lon',\n",
    "  \t'vehicle_distance',\n",
    "  \t'vehicle_dt'\n",
    "], axis=1)"
   ]
  },
  {
   "cell_type": "markdown",
   "id": "d280b098",
   "metadata": {},
   "source": [
    "### Service Alerts"
   ]
  },
  {
   "cell_type": "code",
   "execution_count": 68,
   "id": "6ef3365d",
   "metadata": {},
   "outputs": [
    {
     "ename": "NameError",
     "evalue": "name 'alerts_df' is not defined",
     "output_type": "error",
     "traceback": [
      "\u001b[31m---------------------------------------------------------------------------\u001b[39m",
      "\u001b[31mNameError\u001b[39m                                 Traceback (most recent call last)",
      "\u001b[36mCell\u001b[39m\u001b[36m \u001b[39m\u001b[32mIn[68]\u001b[39m\u001b[32m, line 2\u001b[39m\n\u001b[32m      1\u001b[39m \u001b[38;5;66;03m# Get proportion of duplicates\u001b[39;00m\n\u001b[32m----> \u001b[39m\u001b[32m2\u001b[39m duplicate_mask = \u001b[43malerts_df\u001b[49m.duplicated()\n\u001b[32m      3\u001b[39m \u001b[38;5;28mprint\u001b[39m(\u001b[33mf\u001b[39m\u001b[33m'\u001b[39m\u001b[38;5;132;01m{\u001b[39;00mduplicate_mask.mean()\u001b[38;5;132;01m:\u001b[39;00m\u001b[33m.2%\u001b[39m\u001b[38;5;132;01m}\u001b[39;00m\u001b[33m'\u001b[39m)\n",
      "\u001b[31mNameError\u001b[39m: name 'alerts_df' is not defined"
     ]
    }
   ],
   "source": [
    "# Get proportion of duplicates\n",
    "duplicate_mask = alerts_df.duplicated()\n",
    "print(f'{duplicate_mask.mean():.2%}')"
   ]
  },
  {
   "cell_type": "code",
   "execution_count": null,
   "id": "a5ba7ac7",
   "metadata": {},
   "outputs": [],
   "source": [
    "# Remove duplicates\n",
    "alerts_df = alerts_df.drop_duplicates(keep='last').reset_index(drop=True)"
   ]
  },
  {
   "cell_type": "code",
   "execution_count": null,
   "id": "e8a67d6c",
   "metadata": {},
   "outputs": [],
   "source": [
    "# Convert timestamps to datetime\n",
    "alerts_df['start_time'] = pd.to_datetime(alerts_df['start_time'], origin='unix', unit='s', utc=True)\n",
    "alerts_df['end_time'] = pd.to_datetime(alerts_df['end_time'], origin='unix', unit='s', utc=True)"
   ]
  },
  {
   "cell_type": "code",
   "execution_count": null,
   "id": "3bed7a8a",
   "metadata": {},
   "outputs": [],
   "source": [
    "# Fill null end times with current dates (assuming the alert is still active)\n",
    "alerts_df['end_time'] = alerts_df['end_time'].fillna(datetime.now(timezone.utc).replace(microsecond=0))"
   ]
  },
  {
   "cell_type": "code",
   "execution_count": null,
   "id": "bce83fcb",
   "metadata": {},
   "outputs": [],
   "source": [
    "# Sort values by start time\n",
    "alerts_df = alerts_df.sort_values('start_time').reset_index(drop=True)"
   ]
  },
  {
   "cell_type": "code",
   "execution_count": null,
   "id": "81a3bb50",
   "metadata": {},
   "outputs": [],
   "source": [
    "# Merge alerts with current stop\n",
    "stm_df = pd.merge(left=merged_stm_df, right=alerts_df, how='left', on=['route_id', 'stop_id'])"
   ]
  },
  {
   "cell_type": "code",
   "execution_count": null,
   "id": "2078a7eb",
   "metadata": {},
   "outputs": [],
   "source": [
    "# Merge alerts with previous stop\n",
    "stm_df = pd.merge(left=stm_df, right=alerts_df, how='left', left_on=['route_id', 'prev_stop_id'], right_on=['route_id', 'stop_id'])"
   ]
  },
  {
   "cell_type": "code",
   "execution_count": null,
   "id": "00e9ee12",
   "metadata": {},
   "outputs": [],
   "source": [
    "stm_df.columns"
   ]
  },
  {
   "cell_type": "code",
   "execution_count": null,
   "id": "a03ed87d",
   "metadata": {},
   "outputs": [],
   "source": [
    "# Add boolean column if the previous or current stop as an active alert\n",
    "current_stop_mask = (stm_df['start_time_x'].notna()) & \\\n",
    "\t(stm_df['sch_arrival_time'] >= stm_df['start_time_x']) & \\\n",
    "\t(stm_df['sch_arrival_time'] <= stm_df['end_time_x'])\n",
    "\n",
    "previous_stop_mask = (stm_df['start_time_y'].notna()) & \\\n",
    "\t(stm_df['sch_arrival_time'] >= stm_df['start_time_y']) & \\\n",
    "\t(stm_df['sch_arrival_time'] <= stm_df['end_time_y'])\n",
    "\n",
    "stm_df['stop_has_alert'] = (current_stop_mask | previous_stop_mask).astype('int64')"
   ]
  },
  {
   "cell_type": "code",
   "execution_count": null,
   "id": "770db1a8",
   "metadata": {},
   "outputs": [],
   "source": [
    "stm_df['stop_has_alert'].value_counts(normalize=True)"
   ]
  },
  {
   "cell_type": "code",
   "execution_count": null,
   "id": "64e36f07",
   "metadata": {},
   "outputs": [],
   "source": [
    "# Drop unneeded columns\n",
    "stm_df = stm_df.rename(columns={'stop_id_x': 'stop_id'}).drop([\n",
    "  'start_time_x',\n",
    "  'start_time_y',\n",
    "  'end_time_x',\n",
    "  'end_time_y',\n",
    "  'stop_id_y',\n",
    "  'prev_stop_id'\n",
    "  ], axis=1)"
   ]
  },
  {
   "cell_type": "markdown",
   "id": "0a333d86",
   "metadata": {},
   "source": [
    "### Route Types"
   ]
  },
  {
   "cell_type": "code",
   "execution_count": 69,
   "id": "89f43a63",
   "metadata": {},
   "outputs": [],
   "source": [
    "stm_df = pd.merge(left=merged_stm_df, right=routes_df, how='inner', on='route_id')"
   ]
  },
  {
   "cell_type": "code",
   "execution_count": 70,
   "id": "2ecd6fb2",
   "metadata": {},
   "outputs": [
    {
     "data": {
      "text/plain": [
       "Index(['trip_id', 'route_id', 'start_date', 'stop_id', 'rt_arrival_time',\n",
       "       'rt_departure_time', 'schedule_relationship', 'stop_sequence',\n",
       "       'trip_progress', 'stop_name', 'stop_lat', 'stop_lon', 'location_type',\n",
       "       'parent_station', 'wheelchair_boarding', 'prev_stop_id',\n",
       "       'exp_trip_duration', 'exp_delay_prev_stop', 'stop_distance',\n",
       "       'route_direction', 'sch_arrival_time', 'sch_departure_time', 'delay',\n",
       "       'route_type'],\n",
       "      dtype='object')"
      ]
     },
     "execution_count": 70,
     "metadata": {},
     "output_type": "execute_result"
    }
   ],
   "source": [
    "stm_df.columns"
   ]
  },
  {
   "cell_type": "markdown",
   "id": "7b431a68",
   "metadata": {},
   "source": [
    "### STM and Weather"
   ]
  },
  {
   "cell_type": "code",
   "execution_count": 71,
   "id": "ad7f9e32",
   "metadata": {},
   "outputs": [],
   "source": [
    "# Convert time string to datetime\n",
    "time_dt = pd.to_datetime(weather_df['time'], utc=True)"
   ]
  },
  {
   "cell_type": "code",
   "execution_count": 72,
   "id": "54317d78",
   "metadata": {},
   "outputs": [],
   "source": [
    "# Calculate dates for weather forecast\n",
    "last_day_weather = time_dt.max()\n",
    "start_date = last_day_weather + timedelta(days=1)\n",
    "end_date = stm_df['sch_arrival_time'].max()"
   ]
  },
  {
   "cell_type": "code",
   "execution_count": 73,
   "id": "705c3caa",
   "metadata": {},
   "outputs": [],
   "source": [
    "# Fetch forecast weather\n",
    "start_date_str = start_date.strftime('%Y-%m-%d')\n",
    "end_date_str = end_date.strftime('%Y-%m-%d')\n",
    "\n",
    "forecast_list = fetch_weather(start_date=start_date_str, end_date=end_date_str, forecast=True)\n",
    "forecast_df = pd.DataFrame(forecast_list)"
   ]
  },
  {
   "cell_type": "code",
   "execution_count": 74,
   "id": "a8a5858f",
   "metadata": {},
   "outputs": [],
   "source": [
    "# Merge archive and forecast weather\n",
    "weather_df = pd.concat([weather_df, forecast_df], ignore_index=True)"
   ]
  },
  {
   "cell_type": "code",
   "execution_count": 75,
   "id": "db8e5b22",
   "metadata": {},
   "outputs": [
    {
     "name": "stdout",
     "output_type": "stream",
     "text": [
      "<class 'pandas.core.frame.DataFrame'>\n",
      "RangeIndex: 312 entries, 0 to 311\n",
      "Data columns (total 11 columns):\n",
      " #   Column             Non-Null Count  Dtype  \n",
      "---  ------             --------------  -----  \n",
      " 0   time               312 non-null    object \n",
      " 1   temperature        312 non-null    float64\n",
      " 2   relative_humidity  312 non-null    int64  \n",
      " 3   dew_point          312 non-null    float64\n",
      " 4   precipitation      312 non-null    float64\n",
      " 5   pressure           312 non-null    float64\n",
      " 6   visibility         96 non-null     float64\n",
      " 7   cloud_cover        312 non-null    int64  \n",
      " 8   windspeed          312 non-null    float64\n",
      " 9   wind_direction     312 non-null    int64  \n",
      " 10  wind_gusts         312 non-null    float64\n",
      "dtypes: float64(7), int64(3), object(1)\n",
      "memory usage: 26.9+ KB\n"
     ]
    }
   ],
   "source": [
    "weather_df.info()"
   ]
  },
  {
   "cell_type": "code",
   "execution_count": 76,
   "id": "9c792516",
   "metadata": {},
   "outputs": [],
   "source": [
    "# Drop visibility column because most of the values are null\n",
    "weather_df = weather_df.drop('visibility', axis=1)"
   ]
  },
  {
   "cell_type": "code",
   "execution_count": 77,
   "id": "c139f560",
   "metadata": {},
   "outputs": [],
   "source": [
    "# Round arrival time to the nearest hour\n",
    "rounded_arrival_dt = stm_df['sch_arrival_time'].dt.round('h')"
   ]
  },
  {
   "cell_type": "code",
   "execution_count": 78,
   "id": "5d4d8333",
   "metadata": {},
   "outputs": [],
   "source": [
    "# Format time to match weather data\n",
    "stm_df['time'] = rounded_arrival_dt.dt.strftime('%Y-%m-%dT%H:%M')"
   ]
  },
  {
   "cell_type": "code",
   "execution_count": 79,
   "id": "f2552f97",
   "metadata": {},
   "outputs": [],
   "source": [
    "# Merge STM with weather\n",
    "df = pd.merge(left=stm_df, right=weather_df, how='inner', on='time').drop('time', axis=1)"
   ]
  },
  {
   "cell_type": "markdown",
   "id": "54983bb1",
   "metadata": {},
   "source": [
    "## Clean Data"
   ]
  },
  {
   "cell_type": "markdown",
   "id": "7384a3a4",
   "metadata": {},
   "source": [
    "### Drop Columns"
   ]
  },
  {
   "cell_type": "code",
   "execution_count": 80,
   "id": "f8831e61",
   "metadata": {},
   "outputs": [
    {
     "data": {
      "text/plain": [
       "Index(['trip_id', 'route_id', 'start_date', 'stop_id', 'rt_arrival_time',\n",
       "       'rt_departure_time', 'schedule_relationship', 'stop_sequence',\n",
       "       'trip_progress', 'stop_name', 'stop_lat', 'stop_lon',\n",
       "       'wheelchair_boarding', 'prev_stop_id', 'exp_trip_duration',\n",
       "       'exp_delay_prev_stop', 'stop_distance', 'route_direction',\n",
       "       'sch_arrival_time', 'sch_departure_time', 'delay', 'route_type',\n",
       "       'temperature', 'relative_humidity', 'dew_point', 'precipitation',\n",
       "       'pressure', 'cloud_cover', 'windspeed', 'wind_direction', 'wind_gusts'],\n",
       "      dtype='object')"
      ]
     },
     "execution_count": 80,
     "metadata": {},
     "output_type": "execute_result"
    }
   ],
   "source": [
    "# Remove columns with constant values or with more than 50% missing values\n",
    "df = df.loc[:, (df.nunique() > 1) & (df.isna().mean() < 0.5)]\n",
    "df.columns"
   ]
  },
  {
   "cell_type": "code",
   "execution_count": 81,
   "id": "594500bd",
   "metadata": {},
   "outputs": [
    {
     "data": {
      "text/plain": [
       "trip_id                       0\n",
       "route_id                      0\n",
       "start_date                    0\n",
       "stop_id                       0\n",
       "rt_arrival_time          351476\n",
       "rt_departure_time        414481\n",
       "schedule_relationship         0\n",
       "stop_sequence                 0\n",
       "trip_progress                 0\n",
       "stop_name                     0\n",
       "stop_lat                      0\n",
       "stop_lon                      0\n",
       "wheelchair_boarding           0\n",
       "prev_stop_id             175342\n",
       "exp_trip_duration             0\n",
       "exp_delay_prev_stop           0\n",
       "stop_distance                 0\n",
       "route_direction               0\n",
       "sch_arrival_time              0\n",
       "sch_departure_time            0\n",
       "delay                         0\n",
       "route_type                    0\n",
       "temperature                   0\n",
       "relative_humidity             0\n",
       "dew_point                     0\n",
       "precipitation                 0\n",
       "pressure                      0\n",
       "cloud_cover                   0\n",
       "windspeed                     0\n",
       "wind_direction                0\n",
       "wind_gusts                    0\n",
       "dtype: int64"
      ]
     },
     "execution_count": 81,
     "metadata": {},
     "output_type": "execute_result"
    }
   ],
   "source": [
    "df.isna().sum()"
   ]
  },
  {
   "cell_type": "markdown",
   "id": "429d203b",
   "metadata": {},
   "source": [
    "### Convert columns"
   ]
  },
  {
   "cell_type": "code",
   "execution_count": 82,
   "id": "7b1ed74d",
   "metadata": {},
   "outputs": [
    {
     "name": "stdout",
     "output_type": "stream",
     "text": [
      "wheelchair_boarding\n",
      "1    6953465\n",
      "2     476450\n",
      "Name: count, dtype: int64\n"
     ]
    }
   ],
   "source": [
    "# Get columns with two values\n",
    "two_values = df.loc[:, df.nunique() == 2]\n",
    "for column in two_values.columns:\n",
    "  print(df[column].value_counts())"
   ]
  },
  {
   "cell_type": "code",
   "execution_count": 83,
   "id": "48fe1ce6",
   "metadata": {},
   "outputs": [],
   "source": [
    "# Convert wheelchair_boarding to boolean\n",
    "df['wheelchair_boarding'] = (df['wheelchair_boarding'] == 1).astype('int64')"
   ]
  },
  {
   "cell_type": "markdown",
   "id": "02f945fb",
   "metadata": {},
   "source": [
    "### Create Delay Categories"
   ]
  },
  {
   "cell_type": "markdown",
   "id": "105422f5",
   "metadata": {},
   "source": [
    "**Delay Threshholds, according to [STM's definition](https://www.stm.info/en/info/networks/bus-network-and-schedules-enlightened)**\n",
    "\n",
    "- Early: delay < -1 min\n",
    "- On Time: -1 min ≤ delay < 3 min\n",
    "- Late: delay ≥ 3 min"
   ]
  },
  {
   "cell_type": "code",
   "execution_count": 84,
   "id": "6c53d4cd",
   "metadata": {},
   "outputs": [
    {
     "data": {
      "text/plain": [
       "delay_class\n",
       "On Time    0.891401\n",
       "Late       0.100321\n",
       "Early      0.008278\n",
       "Name: proportion, dtype: float64"
      ]
     },
     "execution_count": 84,
     "metadata": {},
     "output_type": "execute_result"
    }
   ],
   "source": [
    "# Add delay category column\n",
    "labels = ['Early', 'On Time', 'Late']\n",
    "ranges = [-np.inf, -60, 180, np.inf]\n",
    "df['delay_class'] = pd.cut(df['delay'], bins=ranges, labels=labels, include_lowest=True, right=False)\n",
    "df['delay_class'].value_counts(normalize=True)"
   ]
  },
  {
   "cell_type": "markdown",
   "id": "5394b58e",
   "metadata": {},
   "source": [
    "### Convert schedule_relationship and occupancy_status to Categories"
   ]
  },
  {
   "cell_type": "code",
   "execution_count": 85,
   "id": "3767e9b8",
   "metadata": {},
   "outputs": [],
   "source": [
    "def convert_to_categories(df:pd.DataFrame, column:str, map_dict:dict) -> pd.Series:\n",
    "\tcodes = df[column].sort_values().unique()\n",
    "\tcondition_list = []\n",
    "\tlabel_list = []\n",
    "\t\t\n",
    "\tfor code in codes:\n",
    "\t\tcondition_list.append(df[column] == code)\n",
    "\t\tlabel_list.append(map_dict[code])\n",
    "\t\n",
    "\tdf[column] = np.select(condition_list, label_list, default='Unknown')\n",
    "\treturn df[column]"
   ]
  },
  {
   "cell_type": "code",
   "execution_count": 86,
   "id": "53084d77",
   "metadata": {},
   "outputs": [
    {
     "data": {
      "text/plain": [
       "schedule_relationship\n",
       "Scheduled    7235187\n",
       "Skipped       178351\n",
       "No Data        16377\n",
       "Name: count, dtype: int64"
      ]
     },
     "execution_count": 86,
     "metadata": {},
     "output_type": "execute_result"
    }
   ],
   "source": [
    "df['schedule_relationship'] = convert_to_categories(df, 'schedule_relationship', SCHEDULE_RELATIONSHIP)\n",
    "df['schedule_relationship'].value_counts()"
   ]
  },
  {
   "cell_type": "markdown",
   "id": "baf5b062",
   "metadata": {},
   "source": [
    "## Export Data"
   ]
  },
  {
   "cell_type": "code",
   "execution_count": 87,
   "id": "b0d0bcba",
   "metadata": {},
   "outputs": [
    {
     "data": {
      "text/plain": [
       "Index(['trip_id', 'route_id', 'start_date', 'stop_id', 'rt_arrival_time',\n",
       "       'rt_departure_time', 'schedule_relationship', 'stop_sequence',\n",
       "       'trip_progress', 'stop_name', 'stop_lat', 'stop_lon',\n",
       "       'wheelchair_boarding', 'prev_stop_id', 'exp_trip_duration',\n",
       "       'exp_delay_prev_stop', 'stop_distance', 'route_direction',\n",
       "       'sch_arrival_time', 'sch_departure_time', 'delay', 'route_type',\n",
       "       'temperature', 'relative_humidity', 'dew_point', 'precipitation',\n",
       "       'pressure', 'cloud_cover', 'windspeed', 'wind_direction', 'wind_gusts',\n",
       "       'delay_class'],\n",
       "      dtype='object')"
      ]
     },
     "execution_count": 87,
     "metadata": {},
     "output_type": "execute_result"
    }
   ],
   "source": [
    "df.columns"
   ]
  },
  {
   "cell_type": "code",
   "execution_count": 88,
   "id": "51879280",
   "metadata": {},
   "outputs": [],
   "source": [
    "# Drop and reorder columns\n",
    "df = df[[\n",
    "\t'trip_id',\n",
    "  \t'exp_trip_duration',\n",
    "  \t'route_id',\n",
    "    'route_direction',\n",
    "    'route_type',\n",
    "  \t'stop_id',\n",
    "    'stop_name',\n",
    "    'stop_lat',\n",
    "    'stop_lon',\n",
    "    'stop_distance',\n",
    "    'stop_sequence',\n",
    "    'trip_progress',\n",
    "    'schedule_relationship',\n",
    "\t'wheelchair_boarding',\n",
    "  \t'rt_arrival_time',\n",
    "\t'rt_departure_time',\n",
    "  \t'sch_arrival_time',\n",
    "    'sch_departure_time',\n",
    "    'delay',\n",
    "    'delay_class',\n",
    "    'exp_delay_prev_stop',\n",
    "\t'temperature',\n",
    "    'relative_humidity',\n",
    "  \t'dew_point',\n",
    "  \t'precipitation',\n",
    "  \t'pressure',\n",
    "\t'cloud_cover',\n",
    "  \t'windspeed',\n",
    "  \t'wind_direction',\n",
    "  \t'wind_gusts'\n",
    "]]"
   ]
  },
  {
   "cell_type": "code",
   "execution_count": null,
   "id": "8eb537d7",
   "metadata": {},
   "outputs": [],
   "source": [
    "# Export data to CSV\n",
    "df.to_parquet('../data/stm_weather_merged.parquet', index=False)"
   ]
  },
  {
   "cell_type": "markdown",
   "id": "a3b33a1a",
   "metadata": {},
   "source": [
    "## End"
   ]
  }
 ],
 "metadata": {
  "kernelspec": {
   "display_name": "venv",
   "language": "python",
   "name": "python3"
  },
  "language_info": {
   "codemirror_mode": {
    "name": "ipython",
    "version": 3
   },
   "file_extension": ".py",
   "mimetype": "text/x-python",
   "name": "python",
   "nbconvert_exporter": "python",
   "pygments_lexer": "ipython3",
   "version": "3.13.3"
  }
 },
 "nbformat": 4,
 "nbformat_minor": 5
}
