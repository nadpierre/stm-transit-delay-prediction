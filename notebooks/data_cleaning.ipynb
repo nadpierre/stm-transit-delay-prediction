{
 "cells": [
  {
   "cell_type": "markdown",
   "id": "056758cb",
   "metadata": {},
   "source": [
    "# STM Transit Delay Data Preparation"
   ]
  },
  {
   "cell_type": "markdown",
   "id": "e8706868",
   "metadata": {},
   "source": [
    "## Overview"
   ]
  },
  {
   "cell_type": "markdown",
   "id": "3d911d34",
   "metadata": {},
   "source": [
    "This notebook merges data from different sources and prepares it for data analysis and preprocessing."
   ]
  },
  {
   "cell_type": "markdown",
   "id": "a6bc184d",
   "metadata": {},
   "source": [
    "## Data description"
   ]
  },
  {
   "cell_type": "markdown",
   "id": "b7358fab",
   "metadata": {},
   "source": [
    "### Real-time Trip Updates"
   ]
  },
  {
   "cell_type": "markdown",
   "id": "d5c2ee8a",
   "metadata": {},
   "source": [
    "`current_time` timestamp when the data was collected<br>\n",
    "`trip_id` unique identifier of a trip<br>\n",
    "`route_id` bus line<br>\n",
    "`start_date` start date of the trip<br>\n",
    "`stop_id` stop number<br>\n",
    "`arrival_time` actual arrival time, in milliseconds<br>\n",
    "`departure_time` actual departure time, in milliseconds<br>\n",
    "`schedule_relationship` state of the trip, 0 means scheduled and 1 means skipped"
   ]
  },
  {
   "cell_type": "markdown",
   "id": "d28e04ef",
   "metadata": {},
   "source": [
    "### Scheduled STM Trips"
   ]
  },
  {
   "cell_type": "markdown",
   "id": "bb31f7ab",
   "metadata": {},
   "source": [
    "`trip_id` unique identifier of a trip<br>\n",
    "`arrival_time` scheduled arrival time, in milliseconds<br>\n",
    "`departure_time` scheduled departure time, in milliseconds<br>\n",
    "`stop_id` stop number<br>\n",
    "`stop_sequence` sequence of the stop, for ordering"
   ]
  },
  {
   "cell_type": "markdown",
   "id": "bc749154",
   "metadata": {},
   "source": [
    "### STM Stops"
   ]
  },
  {
   "cell_type": "markdown",
   "id": "a40b660a",
   "metadata": {},
   "source": [
    "`stop_id` unique identifier of a stop<br>\n",
    "`stop_code` bus stop or metro station number<br>\n",
    "`stop_name` bus stop or metro station name<br>\n",
    "`stop_lat` stop latitude<br>\n",
    "`stop_lon` stop longitude<br>\n",
    "`stop_url` stop web page<br>\n",
    "`location_type` stop type<br>\n",
    "`parent_station` parent station (metro station with multiple exits)<br>\n",
    "`wheelchair_boarding` indicates if the stop is accessible for people in wheelchair, 1 being true and 2 being false"
   ]
  },
  {
   "cell_type": "markdown",
   "id": "4608bc4a",
   "metadata": {},
   "source": [
    "### Real-time Vehicle Positions"
   ]
  },
  {
   "cell_type": "markdown",
   "id": "c11c6a01",
   "metadata": {},
   "source": [
    "`current_time` timestamp when the data was collected<br>\n",
    "`vehicle_id` unique identifuer of a vehicle<br>\n",
    "`trip_id` unique identifier of a trip<br>\n",
    "`route_id` bus or metro line<br>\n",
    "`start_date` start date of a trip<br>\n",
    "`start_time` start time of a trip<br>\n",
    "`latitude` vehicle current latitude<br>\n",
    "`longitude` vehicle current longityde<br>\n",
    "`bearing` direction that the vehicle is facing<br>\n",
    "`speed` momentary speed measured by the vehicle, in meters per second<br>\n",
    "`stop_sequence` sequence of the stop, for ordering<br>\n",
    "`status` vehicle stop status in relation with a stop that it's currently approaching or is at<br>\n",
    "`timestamp` timestamp when STM updated the data<br>\n",
    "`occupancy_status` degree of passenger occupancy"
   ]
  },
  {
   "cell_type": "markdown",
   "id": "042db663",
   "metadata": {},
   "source": [
    "### Weather Archive and Forecast"
   ]
  },
  {
   "cell_type": "markdown",
   "id": "3ccfdc47",
   "metadata": {},
   "source": [
    "`time` date and hour or the weather<br>\n",
    "`temperature` air temperature at 2 meters above ground, in Celsius<br>\n",
    "`precipitation` total precipitation (rain, showers, snow) sum of the preceding hour, in millimeters<br>\n",
    "`windspeed` wind speed at 10 meters above ground, in km/h<br>\n",
    "`weathercode` World Meteorological Organization (WMO) code"
   ]
  },
  {
   "cell_type": "markdown",
   "id": "268c0ac0",
   "metadata": {},
   "source": [
    "### Traffic Incidents"
   ]
  },
  {
   "cell_type": "markdown",
   "id": "72e73a05",
   "metadata": {},
   "source": [
    "`category` category of the incident<br>\n",
    "`start_time` start time of the incident in ISO8601 format<br>\n",
    "`end_time` end time of the incident in ISO8601 format<br>\n",
    "`length` length of the incident in meters<br>\n",
    "`delay` delay in seconds caused by the incident (except road closures)<br>\n",
    "`magnitude_of_delay` severity of the delay<br>\n",
    "`last_report_time` date in ISO8601 format, when the last time the incident was reported<br>\n",
    "`latitude` latitude of the incident<br>\n",
    "`longitude` longitude of the incident"
   ]
  },
  {
   "cell_type": "markdown",
   "id": "3ca39527",
   "metadata": {},
   "source": [
    "## Imports"
   ]
  },
  {
   "cell_type": "code",
   "execution_count": null,
   "id": "a0a7cafd",
   "metadata": {},
   "outputs": [],
   "source": [
    "from datetime import datetime, timedelta, timezone\n",
    "from haversine import haversine, Unit\n",
    "import pandas as pd\n",
    "import sys"
   ]
  },
  {
   "cell_type": "code",
   "execution_count": null,
   "id": "faad2700",
   "metadata": {},
   "outputs": [],
   "source": [
    "# Import custom code\n",
    "sys.path.insert(0, '..')\n",
    "from scripts.custom_functions import fetch_weather, LOCAL_TIMEZONE"
   ]
  },
  {
   "cell_type": "code",
   "execution_count": null,
   "id": "786cc667",
   "metadata": {},
   "outputs": [],
   "source": [
    "trips_df = pd.read_csv('../data/api/fetched_stm_trip_updates.csv', low_memory=False)"
   ]
  },
  {
   "cell_type": "code",
   "execution_count": null,
   "id": "1d5b56d3",
   "metadata": {},
   "outputs": [],
   "source": [
    "# TODO: use all schedule files using glob\n",
    "schedules_df = pd.read_csv('../data/download/stop_times_2025-04-23.txt')"
   ]
  },
  {
   "cell_type": "code",
   "execution_count": null,
   "id": "8e40feaa",
   "metadata": {},
   "outputs": [],
   "source": [
    "stops_df = pd.read_csv('../data/download/stops_2025-04-23.txt')"
   ]
  },
  {
   "cell_type": "code",
   "execution_count": null,
   "id": "e4a05eab",
   "metadata": {},
   "outputs": [],
   "source": [
    "positions_df =  pd.read_csv('../data/api/fetched_stm_vehicle_positions.csv', low_memory=False)"
   ]
  },
  {
   "cell_type": "code",
   "execution_count": null,
   "id": "f605f13f",
   "metadata": {},
   "outputs": [],
   "source": [
    "weather_df = pd.read_csv('../data/api/fetched_historical_weather.csv')"
   ]
  },
  {
   "cell_type": "code",
   "execution_count": null,
   "id": "696a4633",
   "metadata": {},
   "outputs": [],
   "source": [
    "traffic_df = pd.read_csv('../data/api/fetched_traffic.csv')"
   ]
  },
  {
   "cell_type": "markdown",
   "id": "84535ca9",
   "metadata": {},
   "source": [
    "## Clean Data"
   ]
  },
  {
   "cell_type": "code",
   "execution_count": null,
   "id": "f03d62d1",
   "metadata": {},
   "outputs": [],
   "source": [
    "# Convert route_id to integer\n",
    "trips_df['route_id'] = trips_df['route_id'].str.extract(r'(\\d+)')\n",
    "trips_df['route_id'] = trips_df['route_id'].astype('int64')"
   ]
  },
  {
   "cell_type": "code",
   "execution_count": null,
   "id": "884ca519",
   "metadata": {},
   "outputs": [],
   "source": [
    "# Sort trips\n",
    "trips_df = trips_df.sort_values(by=['current_time', 'trip_id', 'route_id', 'arrival_time'])"
   ]
  },
  {
   "cell_type": "code",
   "execution_count": null,
   "id": "57223fe6",
   "metadata": {},
   "outputs": [],
   "source": [
    "# Get proportion of duplicates\n",
    "subset = ['start_date', 'trip_id', 'route_id', 'stop_id']\n",
    "duplicate_mask = trips_df.duplicated(subset=subset)\n",
    "print(f'{duplicate_mask.mean():.2%}')"
   ]
  },
  {
   "cell_type": "code",
   "execution_count": null,
   "id": "c8f0d0b8",
   "metadata": {},
   "outputs": [],
   "source": [
    "# Remove duplicates\n",
    "trips_df = trips_df.drop_duplicates(subset=subset, keep='last') # keep latest update"
   ]
  },
  {
   "cell_type": "code",
   "execution_count": null,
   "id": "9d87091a",
   "metadata": {},
   "outputs": [],
   "source": [
    "# Convert realtime arrival and departure time to milliseconds\n",
    "trips_df['arrival_time'] = trips_df['arrival_time'] * 1000\n",
    "trips_df['departure_time'] = trips_df['departure_time'] * 1000"
   ]
  },
  {
   "cell_type": "code",
   "execution_count": null,
   "id": "d147f1fe",
   "metadata": {},
   "outputs": [],
   "source": [
    "# Get distribution of realtime arrival times\n",
    "trips_df[['arrival_time', 'departure_time']].describe()"
   ]
  },
  {
   "cell_type": "code",
   "execution_count": null,
   "id": "761c1904",
   "metadata": {},
   "outputs": [],
   "source": [
    "# Get proportion of rows with zero arrival times\n",
    "zero_mask = trips_df['arrival_time'] == 0\n",
    "print(f'{zero_mask.mean():.2%}')"
   ]
  },
  {
   "cell_type": "code",
   "execution_count": null,
   "id": "74a79934",
   "metadata": {},
   "outputs": [],
   "source": [
    "# Get proportion of rows where the arrival and departure times are different\n",
    "diff_date_mask = trips_df['arrival_time'] != trips_df['departure_time']\n",
    "print(f'{diff_date_mask.mean():.2%}')"
   ]
  },
  {
   "cell_type": "code",
   "execution_count": null,
   "id": "ff951fe2",
   "metadata": {},
   "outputs": [],
   "source": [
    "# Display rows\n",
    "trips_df[diff_date_mask].sample(10)"
   ]
  },
  {
   "cell_type": "code",
   "execution_count": null,
   "id": "30ac514f",
   "metadata": {},
   "outputs": [],
   "source": [
    "# Replace zero arrival times by departure times, as they are usually the same\n",
    "trips_df.loc[zero_mask, 'arrival_time'] = trips_df.loc[zero_mask, 'departure_time']"
   ]
  },
  {
   "cell_type": "code",
   "execution_count": null,
   "id": "943aae1e",
   "metadata": {},
   "outputs": [],
   "source": [
    "# Get proportion of rows with zero arrival times again\n",
    "zero_mask = trips_df['arrival_time'] == 0\n",
    "print(f'{zero_mask.mean():.2%}')"
   ]
  },
  {
   "cell_type": "code",
   "execution_count": null,
   "id": "7a1196df",
   "metadata": {},
   "outputs": [],
   "source": [
    "# Delete the rows with 0 arrival times\n",
    "trips_df = trips_df[~zero_mask]\n",
    "zero_mask = trips_df['arrival_time'] == 0\n",
    "assert zero_mask.sum() == 0"
   ]
  },
  {
   "cell_type": "code",
   "execution_count": null,
   "id": "f204b0d0",
   "metadata": {},
   "outputs": [],
   "source": [
    "# Rename arrival time\n",
    "trips_df = trips_df.rename(columns={'arrival_time': 'realtime_arrival_time'})"
   ]
  },
  {
   "cell_type": "markdown",
   "id": "b3864f9b",
   "metadata": {},
   "source": [
    "## Merge Data"
   ]
  },
  {
   "cell_type": "markdown",
   "id": "2ab97d0d",
   "metadata": {},
   "source": [
    "### Realtime and Scheduled Trips"
   ]
  },
  {
   "cell_type": "code",
   "execution_count": null,
   "id": "38b0d876",
   "metadata": {},
   "outputs": [],
   "source": [
    "# Sort values by stop sequence\n",
    "schedules_df = schedules_df.sort_values(by=['trip_id', 'stop_sequence'])"
   ]
  },
  {
   "cell_type": "code",
   "execution_count": null,
   "id": "04f63ad2",
   "metadata": {},
   "outputs": [],
   "source": [
    "# Reset stop sequences (some stops might be missing)\n",
    "schedules_df['stop_sequence'] = schedules_df.groupby('trip_id').cumcount() + 1"
   ]
  },
  {
   "cell_type": "code",
   "execution_count": null,
   "id": "f1ecead8",
   "metadata": {},
   "outputs": [],
   "source": [
    "# Add trip progress (vehicles further along the trip are more likely to be delayed)\n",
    "total_stops = schedules_df.groupby('trip_id')['stop_id'].transform('count')\n",
    "schedules_df['trip_progress'] = schedules_df['stop_sequence'] / total_stops"
   ]
  },
  {
   "cell_type": "code",
   "execution_count": null,
   "id": "614b3ee0",
   "metadata": {},
   "outputs": [],
   "source": [
    "# Merge realtime and scheduled trips (#TODO: concatenate new schedule before left joining)\n",
    "stm_trips_df = pd.merge(left=trips_df, right=schedules_df, how='inner', on=['trip_id', 'stop_id'])"
   ]
  },
  {
   "cell_type": "code",
   "execution_count": null,
   "id": "7e78e8ff",
   "metadata": {},
   "outputs": [],
   "source": [
    "# Convert start_date to datetime\n",
    "stm_trips_df['start_date_dt'] = pd.to_datetime(stm_trips_df['start_date'], format='%Y%m%d')"
   ]
  },
  {
   "cell_type": "code",
   "execution_count": null,
   "id": "0cda96f4",
   "metadata": {},
   "outputs": [],
   "source": [
    "def parse_gtfs_time(row) -> pd.Timestamp:\n",
    "\t'''\n",
    "\tConverts GTFS time string (e.g., '25:30:00') to datetime\n",
    "\tbased on the arrival time.\n",
    "\t'''\n",
    "\thours, minutes, seconds = map(int, row['arrival_time'].split(':'))\n",
    "\ttotal_seconds = hours * 3600 + minutes * 60 + seconds\n",
    "\n",
    "\tparsed_time = row['start_date_dt'] + timedelta(seconds=total_seconds)\n",
    "\treturn parsed_time"
   ]
  },
  {
   "cell_type": "code",
   "execution_count": null,
   "id": "69cd48ca",
   "metadata": {},
   "outputs": [],
   "source": [
    "# Convert planned arrival time to localized datetime\n",
    "parsed_time = stm_trips_df.apply(parse_gtfs_time, axis=1)\n",
    "sch_arrival_time = parsed_time.dt.tz_localize(LOCAL_TIMEZONE)"
   ]
  },
  {
   "cell_type": "code",
   "execution_count": null,
   "id": "910b6d67",
   "metadata": {},
   "outputs": [],
   "source": [
    "# Convert planned time to timestamp in milliseconds since epoch\n",
    "stm_trips_df['scheduled_arrival_time'] = sch_arrival_time.astype('int64') // 10**6"
   ]
  },
  {
   "cell_type": "code",
   "execution_count": null,
   "id": "2ba0d99a",
   "metadata": {},
   "outputs": [],
   "source": [
    "# Convert realtime and scheduled arrival time to UTC datetime\n",
    "stm_trips_df['realtime_arrival_time_dt'] = pd.to_datetime(stm_trips_df['realtime_arrival_time'], origin='unix', unit='ms', utc=True)\n",
    "stm_trips_df['scheduled_arrival_time_dt'] = pd.to_datetime(stm_trips_df['scheduled_arrival_time'], origin='unix', unit='ms', utc=True)"
   ]
  },
  {
   "cell_type": "code",
   "execution_count": null,
   "id": "ea095883",
   "metadata": {},
   "outputs": [],
   "source": [
    "# Calculate delay in seconds (real - scheduled)\n",
    "stm_trips_df['delay'] = (stm_trips_df['realtime_arrival_time_dt'] - stm_trips_df['scheduled_arrival_time_dt']).dt.total_seconds()"
   ]
  },
  {
   "cell_type": "markdown",
   "id": "5a8d3cb3",
   "metadata": {},
   "source": [
    "### Trips and Stops"
   ]
  },
  {
   "cell_type": "code",
   "execution_count": null,
   "id": "1ae92990",
   "metadata": {},
   "outputs": [],
   "source": [
    "trips_stops_df = pd.merge(left=stm_trips_df, right=stops_df, how='inner', left_on='stop_id', right_on='stop_code')"
   ]
  },
  {
   "cell_type": "code",
   "execution_count": null,
   "id": "ace19a36",
   "metadata": {},
   "outputs": [],
   "source": [
    "trips_stops_df.columns"
   ]
  },
  {
   "cell_type": "code",
   "execution_count": null,
   "id": "dbb7870b",
   "metadata": {},
   "outputs": [],
   "source": [
    "# Rename stop id\n",
    "trips_stops_df = trips_stops_df.rename(columns={'stop_id_x': 'stop_id'})"
   ]
  },
  {
   "cell_type": "code",
   "execution_count": null,
   "id": "3e49f23e",
   "metadata": {},
   "outputs": [],
   "source": [
    "# Convert wheelchair_boarding to boolean\n",
    "trips_stops_df['wheelchair_boarding'] = (trips_stops_df['wheelchair_boarding'] == 1).astype('int64')"
   ]
  },
  {
   "cell_type": "markdown",
   "id": "f4ff72f0",
   "metadata": {},
   "source": [
    "### Vehicle Positions"
   ]
  },
  {
   "cell_type": "code",
   "execution_count": null,
   "id": "066dbe06",
   "metadata": {},
   "outputs": [],
   "source": [
    "# Rename latitude and longitude\n",
    "positions_df = positions_df.rename(columns={'latitude': 'vehicle_lat', 'longitude': 'vehicle_lon'})"
   ]
  },
  {
   "cell_type": "code",
   "execution_count": null,
   "id": "5c7fc87e",
   "metadata": {},
   "outputs": [],
   "source": [
    "# Sort values\n",
    "subset = ['trip_id', 'route_id', 'start_date', 'stop_sequence']\n",
    "positions_df = positions_df.sort_values(by=subset)"
   ]
  },
  {
   "cell_type": "code",
   "execution_count": null,
   "id": "2d6c4ee4",
   "metadata": {},
   "outputs": [],
   "source": [
    "# Get duplicates\n",
    "duplicate_mask = positions_df.duplicated(subset=subset)\n",
    "positions_df[duplicate_mask]"
   ]
  },
  {
   "cell_type": "code",
   "execution_count": null,
   "id": "ff90a39f",
   "metadata": {},
   "outputs": [],
   "source": [
    "# Get proportion of duplicates\n",
    "print(f'{duplicate_mask.mean():.2%}')"
   ]
  },
  {
   "cell_type": "code",
   "execution_count": null,
   "id": "b2e259b1",
   "metadata": {},
   "outputs": [],
   "source": [
    "# Remove duplicates\n",
    "positions_df = positions_df.drop_duplicates(subset=subset)"
   ]
  },
  {
   "cell_type": "code",
   "execution_count": null,
   "id": "d236afc3",
   "metadata": {},
   "outputs": [],
   "source": [
    "# Merge with other STM data\n",
    "stm_df = pd.merge(left=trips_stops_df, right=positions_df, how='inner', on=['trip_id', 'route_id', 'start_date', 'stop_sequence'])"
   ]
  },
  {
   "cell_type": "code",
   "execution_count": null,
   "id": "b8aa0884",
   "metadata": {},
   "outputs": [],
   "source": [
    "# Calculate distance between the vehicle and the stop\n",
    "stm_df['vehicle_distance'] = stm_df.apply(\n",
    "  lambda row: haversine((row['vehicle_lat'], row['vehicle_lon']), (row['stop_lat'], row['stop_lon']), unit=Unit.METERS),\n",
    "  axis=1)"
   ]
  },
  {
   "cell_type": "code",
   "execution_count": null,
   "id": "0f723e7e",
   "metadata": {},
   "outputs": [],
   "source": [
    "stm_df['vehicle_distance'].describe()"
   ]
  },
  {
   "cell_type": "code",
   "execution_count": null,
   "id": "b0672eb6",
   "metadata": {},
   "outputs": [],
   "source": [
    "stm_df.info()"
   ]
  },
  {
   "cell_type": "markdown",
   "id": "7b431a68",
   "metadata": {},
   "source": [
    "### STM and Weather"
   ]
  },
  {
   "cell_type": "code",
   "execution_count": null,
   "id": "ad7f9e32",
   "metadata": {},
   "outputs": [],
   "source": [
    "# Convert time string to datetime\n",
    "time_dt = pd.to_datetime(weather_df['time'], utc=True)"
   ]
  },
  {
   "cell_type": "code",
   "execution_count": null,
   "id": "512029f1",
   "metadata": {},
   "outputs": [],
   "source": [
    "# Convert STM arrival timestamp to datetime \n",
    "stm_df['arrival_time_dt'] = pd.to_datetime(stm_df['realtime_arrival_time'], origin='unix', unit='ms', utc=True)"
   ]
  },
  {
   "cell_type": "code",
   "execution_count": null,
   "id": "54317d78",
   "metadata": {},
   "outputs": [],
   "source": [
    "# Calculate dates for weather forecast\n",
    "last_day_weather = time_dt.max()\n",
    "start_date = last_day_weather + timedelta(days=1)\n",
    "end_date = stm_df['arrival_time_dt'].max()"
   ]
  },
  {
   "cell_type": "code",
   "execution_count": null,
   "id": "705c3caa",
   "metadata": {},
   "outputs": [],
   "source": [
    "# Fetch forecast weather\n",
    "start_date_str = start_date.strftime('%Y-%m-%d')\n",
    "end_date_str = end_date.strftime('%Y-%m-%d')\n",
    "\n",
    "forecast_list = fetch_weather(start_date=start_date_str, end_date=end_date_str, forecast=True)\n",
    "forecast_df = pd.DataFrame(forecast_list)"
   ]
  },
  {
   "cell_type": "code",
   "execution_count": null,
   "id": "a8a5858f",
   "metadata": {},
   "outputs": [],
   "source": [
    "# Merge archive and forecast weather\n",
    "weather_df = pd.concat([weather_df, forecast_df], ignore_index=True)"
   ]
  },
  {
   "cell_type": "code",
   "execution_count": null,
   "id": "c139f560",
   "metadata": {},
   "outputs": [],
   "source": [
    "# Round arrival time to the nearest hour\n",
    "stm_df['rounded_arrival_dt'] = stm_df['arrival_time_dt'].dt.round('h')"
   ]
  },
  {
   "cell_type": "code",
   "execution_count": null,
   "id": "5d4d8333",
   "metadata": {},
   "outputs": [],
   "source": [
    "# Format time to match weather data\n",
    "stm_df['time'] = stm_df['rounded_arrival_dt'].dt.strftime('%Y-%m-%dT%H:%M')"
   ]
  },
  {
   "cell_type": "code",
   "execution_count": null,
   "id": "f2552f97",
   "metadata": {},
   "outputs": [],
   "source": [
    "# Merge STM with weather\n",
    "stm_weather_df = pd.merge(left=stm_df, right=weather_df, how='inner', on='time')"
   ]
  },
  {
   "cell_type": "markdown",
   "id": "fe11c074",
   "metadata": {},
   "source": [
    "### Traffic Data"
   ]
  },
  {
   "cell_type": "code",
   "execution_count": null,
   "id": "3ced7c04",
   "metadata": {},
   "outputs": [],
   "source": [
    "# Get proportion of duplicates\n",
    "duplicate_mask = traffic_df.duplicated()\n",
    "print(f'{duplicate_mask.mean():.2%}')"
   ]
  },
  {
   "cell_type": "code",
   "execution_count": null,
   "id": "4e69a875",
   "metadata": {},
   "outputs": [],
   "source": [
    "# Remove duplicates\n",
    "traffic_df = traffic_df.drop_duplicates(keep='last').reset_index()"
   ]
  },
  {
   "cell_type": "code",
   "execution_count": null,
   "id": "ede164f5",
   "metadata": {},
   "outputs": [],
   "source": [
    "# Convert traffic start_time and end_time to datetime\n",
    "traffic_df['start_time_dt'] = pd.to_datetime(traffic_df['start_time'], utc=True)\n",
    "traffic_df['end_time_dt'] = pd.to_datetime(traffic_df['end_time'], utc=True)"
   ]
  },
  {
   "cell_type": "code",
   "execution_count": null,
   "id": "d1c79ec6",
   "metadata": {},
   "outputs": [],
   "source": [
    "# Sort by date\n",
    "traffic_df = traffic_df.sort_values(by='start_time_dt').reset_index()"
   ]
  },
  {
   "cell_type": "code",
   "execution_count": null,
   "id": "c2a61030",
   "metadata": {},
   "outputs": [],
   "source": [
    "# Fill null end times with current time (assuming the incident is still ongoing)\n",
    "traffic_df['end_time_dt'] = traffic_df['end_time_dt'].fillna(datetime.now(timezone.utc).replace(microsecond=0))\n",
    "assert traffic_df['end_time_dt'].isna().sum() == 0"
   ]
  },
  {
   "cell_type": "code",
   "execution_count": null,
   "id": "a2f51d97",
   "metadata": {},
   "outputs": [],
   "source": [
    "# Build traffic cache (for every 30 min interval)\n",
    "def build_traffic_cache(traffic_df:pd.DataFrame) -> dict:\n",
    "\ttraffic_cache = {}\n",
    "\ttraffic_df['half_hour'] = traffic_df['start_time_dt'].dt.floor('30min')\n",
    "\n",
    "\tfor (hour, group) in traffic_df.groupby('half_hour'):\n",
    "\t\ttraffic_cache[hour] = group.copy()\n",
    "\n",
    "\treturn traffic_cache"
   ]
  },
  {
   "cell_type": "markdown",
   "id": "f3850f2b",
   "metadata": {},
   "source": [
    "Since there are many trip updates on the same day (even the same hour), there's a risk of repeating the filtering of active traffic incidents for each trip individually, which takes a lot of time for a large dataset. Traffic incidents are stable over minutes or hours. This is why the incidents are cached by 30 minute intervals."
   ]
  },
  {
   "cell_type": "code",
   "execution_count": null,
   "id": "e84143f7",
   "metadata": {},
   "outputs": [],
   "source": [
    "def calculate_nearby_incidents(trip_update:pd.Series, traffic_cache:dict, max_distance:int=500) -> pd.Series:\n",
    "\ttrip_datetime = trip_update['arrival_time_dt']\n",
    "\tstop_coords = (trip_update['vehicle_lat'], trip_update['vehicle_lon'])\n",
    "\n",
    "\ttrip_half_hour = trip_datetime.floor('30min')\n",
    "\n",
    "\t# Get cached incidents\n",
    "\thour_incidents = traffic_cache.get(trip_half_hour)\n",
    "\n",
    "\t# Stop if there are no incidents for that hour\n",
    "\tif hour_incidents is None or hour_incidents.empty:\n",
    "\t\treturn pd.Series({\n",
    "\t\t\t'incident_nearby': 0,\n",
    "\t\t\t'nearest_incident_distance': None,\n",
    "\t\t\t'incident_category': None,\n",
    "\t\t\t'incident_delay': None,\n",
    "\t\t\t'incident_delay_magnitude': None\n",
    "\t\t})\n",
    "\n",
    "\t# Filter for active incidents at that trip hour\n",
    "\tactive_incidents = hour_incidents[\n",
    "\t\t(hour_incidents['start_time_dt'] <= trip_datetime) &\n",
    "\t\t(hour_incidents['end_time_dt'] >= trip_datetime)\n",
    "\t].copy()\n",
    "\n",
    "\tif active_incidents.empty:\n",
    "\t\treturn pd.Series({\n",
    "\t\t\t'incident_nearby': 0,\n",
    "\t\t\t'nearest_incident_distance': None,\n",
    "\t\t\t'incident_category': None,\n",
    "\t\t\t'incident_delay': None,\n",
    "\t\t\t'incident_delay_magnitude': None\n",
    "\t\t})\n",
    "\n",
    "\t# Calculate distance     \n",
    "\tactive_incidents['distance'] = active_incidents.apply(\n",
    "\t\tlambda row: haversine(stop_coords, (row['latitude'], row['longitude']), unit=Unit.METERS),\n",
    "\t\taxis=1\n",
    "\t)\n",
    "\n",
    "\t# Filter nearby\n",
    "\tnearby_incidents = active_incidents[active_incidents['distance'] <= max_distance]\n",
    "\n",
    "\tif nearby_incidents.empty:\n",
    "\t\treturn pd.Series({\n",
    "\t\t\t'incident_nearby': 0,\n",
    "\t\t\t'nearest_incident_distance': None,\n",
    "\t\t\t'incident_category': None,\n",
    "\t\t\t'incident_delay': None,\n",
    "\t\t\t'incident_delay_magnitude': None\n",
    "\t\t})\n",
    "\telse:\n",
    "\t\tnearest = nearby_incidents.loc[nearby_incidents['distance'].idxmin()]\n",
    "\t\treturn pd.Series({\n",
    "\t\t\t'incident_nearby': 1,\n",
    "\t\t\t'nearest_incident_distance': nearest['distance'],\n",
    "\t\t\t'incident_category': nearest['category'],\n",
    "\t\t\t'incident_delay': nearest['delay'],\n",
    "\t\t\t'incident_delay_magnitude': nearest['magnitude_of_delay']\n",
    "\t\t})"
   ]
  },
  {
   "cell_type": "code",
   "execution_count": null,
   "id": "fa13cf97",
   "metadata": {},
   "outputs": [],
   "source": [
    "# Get traffic columns (get incidents within 500 meters)\n",
    "traffic_cache = build_traffic_cache(traffic_df)\n",
    "traffic_cols = stm_weather_df.apply(lambda row: calculate_nearby_incidents(row, traffic_cache), axis=1)"
   ]
  },
  {
   "cell_type": "code",
   "execution_count": null,
   "id": "84f574b4",
   "metadata": {},
   "outputs": [],
   "source": [
    "# Merge the traffic\n",
    "df = pd.concat([stm_weather_df, traffic_cols], axis=1)"
   ]
  },
  {
   "cell_type": "markdown",
   "id": "54983bb1",
   "metadata": {},
   "source": [
    "## Export Data"
   ]
  },
  {
   "cell_type": "code",
   "execution_count": null,
   "id": "08f47649",
   "metadata": {},
   "outputs": [],
   "source": [
    "# Remove columns with constant values or with more than 50% missing values\n",
    "df = df.loc[:, (df.nunique() > 1) & (df.isna().mean() < 0.5)]\n",
    "df.columns"
   ]
  },
  {
   "cell_type": "code",
   "execution_count": null,
   "id": "ab1f6db7",
   "metadata": {},
   "outputs": [],
   "source": [
    "# Keep relevant columns\n",
    "df = df[[\n",
    "  \t'vehicle_id', \n",
    "    'vehicle_lat',\n",
    "    'vehicle_lon',\n",
    "    'vehicle_distance',\n",
    "\t'occupancy_status',\n",
    "  \t'route_id',\n",
    "  \t'stop_id',\n",
    "  \t'stop_lat',\n",
    "  \t'stop_lon',\n",
    "\t'stop_sequence',\n",
    "  \t'trip_progress',\n",
    "  \t'wheelchair_boarding',\n",
    "  \t'realtime_arrival_time',\n",
    "    'scheduled_arrival_time',\n",
    "    'delay',\n",
    "  \t'temperature',\n",
    "  \t'precipitation',\n",
    "  \t'windspeed', \n",
    "\t'weathercode',\n",
    "  \t'incident_nearby', \n",
    "\t#'incident_category',\n",
    "\t#'nearest_incident_distance',\n",
    "\t#'incident_delay',\n",
    "\t#'incident_delay_magnitude'\n",
    "\t\n",
    "]]"
   ]
  },
  {
   "cell_type": "code",
   "execution_count": null,
   "id": "71576b8c",
   "metadata": {},
   "outputs": [],
   "source": [
    "df.info()"
   ]
  },
  {
   "cell_type": "code",
   "execution_count": null,
   "id": "8eb537d7",
   "metadata": {},
   "outputs": [],
   "source": [
    "# Export data to CSV\n",
    "df.to_csv('../data/stm_weather_traffic_merged.csv', index=False)"
   ]
  },
  {
   "cell_type": "markdown",
   "id": "a3b33a1a",
   "metadata": {},
   "source": [
    "## End"
   ]
  }
 ],
 "metadata": {
  "kernelspec": {
   "display_name": "venv",
   "language": "python",
   "name": "python3"
  },
  "language_info": {
   "codemirror_mode": {
    "name": "ipython",
    "version": 3
   },
   "file_extension": ".py",
   "mimetype": "text/x-python",
   "name": "python",
   "nbconvert_exporter": "python",
   "pygments_lexer": "ipython3",
   "version": "3.13.3"
  }
 },
 "nbformat": 4,
 "nbformat_minor": 5
}
