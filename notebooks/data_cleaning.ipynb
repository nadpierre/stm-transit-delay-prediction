{
 "cells": [
  {
   "cell_type": "markdown",
   "id": "056758cb",
   "metadata": {},
   "source": [
    "# STM Transit Delay Data Preparation"
   ]
  },
  {
   "cell_type": "markdown",
   "id": "a6bc184d",
   "metadata": {},
   "source": [
    "## Data description"
   ]
  },
  {
   "cell_type": "markdown",
   "id": "b7358fab",
   "metadata": {},
   "source": [
    "### Real-time Trip Updates"
   ]
  },
  {
   "cell_type": "markdown",
   "id": "d5c2ee8a",
   "metadata": {},
   "source": [
    "`current_time` timestamp when the data was collected<br>\n",
    "`trip_id` unique identifier of a trip<br>\n",
    "`route_id` bus or metro line<br>\n",
    "`start_date` start date of the trip<br>\n",
    "`stop_id` stop number<br>\n",
    "`arrival_time` actual arrival time, in milliseconds<br>\n",
    "`departure_time` actual departure time, in milliseconds<br>\n",
    "`schedule_relationship` state of the trip, 0 means scheduled and 1 means skipped"
   ]
  },
  {
   "cell_type": "markdown",
   "id": "d28e04ef",
   "metadata": {},
   "source": [
    "### Scheduled STM Trips"
   ]
  },
  {
   "cell_type": "markdown",
   "id": "bb31f7ab",
   "metadata": {},
   "source": [
    "`trip_id` unique identifier of a trip<br>\n",
    "`arrival_time` scheduled arrival time, in milliseconds<br>\n",
    "`departure_time` scheduled departure time, in milliseconds<br>\n",
    "`stop_id` stop number<br>\n",
    "`stop_sequence` sequence of the stop, for ordering"
   ]
  },
  {
   "cell_type": "markdown",
   "id": "bc749154",
   "metadata": {},
   "source": [
    "### STM Stops"
   ]
  },
  {
   "cell_type": "markdown",
   "id": "a40b660a",
   "metadata": {},
   "source": [
    "`stop_id` unique identifier of a stop<br>\n",
    "`stop_code` stop number<br>\n",
    "`stop_name` stop name<br>\n",
    "`stop_lat` stop latitude<br>\n",
    "`stop_lon` stop longitude<br>\n",
    "`stop_url` stop web page<br>\n",
    "`location_type` stop type, 1 being a metro station and 2 a bus stop<br>\n",
    "`parent_station` parent station (ex: a metro station with multiple exits)<br>\n",
    "`wheelchair_boarding` indicates if the stop is accessible for people in wheelchair, 1 being true and 2 being false"
   ]
  },
  {
   "cell_type": "markdown",
   "id": "4608bc4a",
   "metadata": {},
   "source": [
    "### Real-time Vehicle Positions"
   ]
  },
  {
   "cell_type": "markdown",
   "id": "c11c6a01",
   "metadata": {},
   "source": [
    "`current_time` timestamp when the data was collected<br>\n",
    "`vehicle_id` unique identifuer of a vehicle<br>\n",
    "`trip_id` unique identifier of a trip<br>\n",
    "`route_id` bus or metro line<br>\n",
    "`start_date` start date of a trip<br>\n",
    "`start_time` start time of a trip<br>\n",
    "`latitude` vehicle current latitude<br>\n",
    "`longitude` vehicle current longityde<br>\n",
    "`bearing` direction that the vehicle is facing<br>\n",
    "`speed` momentary speed measured by the vehicle, in meters per second<br>\n",
    "`stop_sequence` sequence of the stop, for ordering<br>\n",
    "`status` vehicle stop status in relation with a stop that it's currently approaching or is at<br>\n",
    "`timestamp` timestamp when STM updated the data<br>\n",
    "`occupancy_status` degree of passenger occupancy"
   ]
  },
  {
   "cell_type": "markdown",
   "id": "042db663",
   "metadata": {},
   "source": [
    "### Weather Archive and Forecast"
   ]
  },
  {
   "cell_type": "markdown",
   "id": "3ccfdc47",
   "metadata": {},
   "source": [
    "`time` date and hour or the archived weather<br>\n",
    "`temperature` air temperature at 2 meters above ground, in Celsius<br>\n",
    "`precipitation` total precipitation (rain, showers, snow) sum of the preceding hour, in millimeters<br>\n",
    "`windspeed` wind speed at 10 meters above ground, in km/h<br>\n",
    "`weathercode` World Meteorological Organization (WMO) code"
   ]
  },
  {
   "cell_type": "markdown",
   "id": "268c0ac0",
   "metadata": {},
   "source": [
    "### Traffic Incidents"
   ]
  },
  {
   "cell_type": "markdown",
   "id": "72e73a05",
   "metadata": {},
   "source": [
    "`category` category of the incident<br>\n",
    "`start_time` start time of the incident in ISO8601 format<br>\n",
    "`end_time` end time of the incident in ISO8601 format<br>\n",
    "`length` length of the incident in meters<br>\n",
    "`delay` delay in seconds caused by the incident (except road closures)<br>\n",
    "`magnitude_of_delay` severity of the delay<br>\n",
    "`last_report_time` date in ISO8601 format, when the last time the incident was reported<br>\n",
    "`latitude` latitude of the incident<br>\n",
    "`longitude` longitude of the incident"
   ]
  },
  {
   "cell_type": "markdown",
   "id": "3ca39527",
   "metadata": {},
   "source": [
    "## Imports"
   ]
  },
  {
   "cell_type": "code",
   "execution_count": 113,
   "id": "a0a7cafd",
   "metadata": {},
   "outputs": [],
   "source": [
    "from datetime import datetime, timedelta, UTC\n",
    "from haversine import haversine, Unit\n",
    "import numpy as np\n",
    "import pandas as pd\n",
    "import sys"
   ]
  },
  {
   "cell_type": "code",
   "execution_count": 2,
   "id": "faad2700",
   "metadata": {},
   "outputs": [],
   "source": [
    "# Import custom code\n",
    "sys.path.insert(0, '..')\n",
    "from scripts.custom_functions import fetch_weather, LOCAL_TIMEZONE"
   ]
  },
  {
   "cell_type": "code",
   "execution_count": 3,
   "id": "786cc667",
   "metadata": {},
   "outputs": [],
   "source": [
    "trips_df = pd.read_csv('../data/fetched_stm_trip_updates.csv', low_memory=False)"
   ]
  },
  {
   "cell_type": "code",
   "execution_count": 4,
   "id": "1d5b56d3",
   "metadata": {},
   "outputs": [],
   "source": [
    "schedules_df = pd.read_csv('../data/stop_times_2025-04-23.txt')"
   ]
  },
  {
   "cell_type": "code",
   "execution_count": 5,
   "id": "8e40feaa",
   "metadata": {},
   "outputs": [],
   "source": [
    "stops_df = pd.read_csv('../data/stops_2025-04-23.txt')"
   ]
  },
  {
   "cell_type": "code",
   "execution_count": 6,
   "id": "e4a05eab",
   "metadata": {},
   "outputs": [],
   "source": [
    "positions_df =  pd.read_csv('../data/fetched_stm_vehicle_positions.csv', low_memory=False)"
   ]
  },
  {
   "cell_type": "code",
   "execution_count": 7,
   "id": "f605f13f",
   "metadata": {},
   "outputs": [],
   "source": [
    "weather_df = pd.read_csv('../data/fetched_historical_weather.csv')"
   ]
  },
  {
   "cell_type": "code",
   "execution_count": 88,
   "id": "696a4633",
   "metadata": {},
   "outputs": [],
   "source": [
    "traffic_df = pd.read_csv('../data/fetched_traffic.csv')"
   ]
  },
  {
   "cell_type": "markdown",
   "id": "84535ca9",
   "metadata": {},
   "source": [
    "## Clean Data"
   ]
  },
  {
   "cell_type": "code",
   "execution_count": 9,
   "id": "f03d62d1",
   "metadata": {},
   "outputs": [],
   "source": [
    "# Convert route_id to integer\n",
    "trips_df['route_id'] = trips_df['route_id'].str.extract(r'(\\d+)')\n",
    "trips_df['route_id'] = trips_df['route_id'].astype('int64')"
   ]
  },
  {
   "cell_type": "code",
   "execution_count": 10,
   "id": "884ca519",
   "metadata": {},
   "outputs": [],
   "source": [
    "# Sort trips\n",
    "subset = ['current_time', 'start_date', 'trip_id', 'route_id', 'stop_id']\n",
    "trips_df = trips_df.sort_values(by=subset)"
   ]
  },
  {
   "cell_type": "code",
   "execution_count": 11,
   "id": "57223fe6",
   "metadata": {},
   "outputs": [
    {
     "name": "stdout",
     "output_type": "stream",
     "text": [
      "24.21%\n"
     ]
    }
   ],
   "source": [
    "# Get proportion of duplicates\n",
    "new_subset = subset[1:]\n",
    "duplicate_mask = trips_df.duplicated(subset=new_subset)\n",
    "print(f'{(duplicate_mask.sum() / len(trips_df)):.2%}')"
   ]
  },
  {
   "cell_type": "code",
   "execution_count": 12,
   "id": "c8f0d0b8",
   "metadata": {},
   "outputs": [],
   "source": [
    "# Remove duplicates\n",
    "trips_df = trips_df.drop_duplicates(subset=new_subset, keep='last') # keep latest update"
   ]
  },
  {
   "cell_type": "code",
   "execution_count": 13,
   "id": "9d87091a",
   "metadata": {},
   "outputs": [],
   "source": [
    "# Convert realtime arrival and departure time to milliseconds\n",
    "trips_df['arrival_time'] = trips_df['arrival_time'] * 1000\n",
    "trips_df['departure_time'] = trips_df['departure_time'] * 1000"
   ]
  },
  {
   "cell_type": "code",
   "execution_count": 14,
   "id": "d147f1fe",
   "metadata": {},
   "outputs": [
    {
     "data": {
      "application/vnd.microsoft.datawrangler.viewer.v0+json": {
       "columns": [
        {
         "name": "index",
         "rawType": "object",
         "type": "string"
        },
        {
         "name": "arrival_time",
         "rawType": "float64",
         "type": "float"
        },
        {
         "name": "departure_time",
         "rawType": "float64",
         "type": "float"
        }
       ],
       "conversionMethod": "pd.DataFrame",
       "ref": "19a9045f-fd9d-40c4-9107-6314a410093b",
       "rows": [
        [
         "count",
         "2389599.0",
         "2389599.0"
        ],
        [
         "mean",
         "1649725825685.4458",
         "1646223880429.7974"
        ],
        [
         "std",
         "397701523566.8932",
         "404469852862.5282"
        ],
        [
         "min",
         "0.0",
         "0.0"
        ],
        [
         "25%",
         "1745500732000.0",
         "1745500435000.0"
        ],
        [
         "50%",
         "1745588946000.0",
         "1745588721000.0"
        ],
        [
         "75%",
         "1745689296000.0",
         "1745689141500.0"
        ],
        [
         "max",
         "1745814252000.0",
         "1745814252000.0"
        ]
       ],
       "shape": {
        "columns": 2,
        "rows": 8
       }
      },
      "text/html": [
       "<div>\n",
       "<style scoped>\n",
       "    .dataframe tbody tr th:only-of-type {\n",
       "        vertical-align: middle;\n",
       "    }\n",
       "\n",
       "    .dataframe tbody tr th {\n",
       "        vertical-align: top;\n",
       "    }\n",
       "\n",
       "    .dataframe thead th {\n",
       "        text-align: right;\n",
       "    }\n",
       "</style>\n",
       "<table border=\"1\" class=\"dataframe\">\n",
       "  <thead>\n",
       "    <tr style=\"text-align: right;\">\n",
       "      <th></th>\n",
       "      <th>arrival_time</th>\n",
       "      <th>departure_time</th>\n",
       "    </tr>\n",
       "  </thead>\n",
       "  <tbody>\n",
       "    <tr>\n",
       "      <th>count</th>\n",
       "      <td>2.389599e+06</td>\n",
       "      <td>2.389599e+06</td>\n",
       "    </tr>\n",
       "    <tr>\n",
       "      <th>mean</th>\n",
       "      <td>1.649726e+12</td>\n",
       "      <td>1.646224e+12</td>\n",
       "    </tr>\n",
       "    <tr>\n",
       "      <th>std</th>\n",
       "      <td>3.977015e+11</td>\n",
       "      <td>4.044699e+11</td>\n",
       "    </tr>\n",
       "    <tr>\n",
       "      <th>min</th>\n",
       "      <td>0.000000e+00</td>\n",
       "      <td>0.000000e+00</td>\n",
       "    </tr>\n",
       "    <tr>\n",
       "      <th>25%</th>\n",
       "      <td>1.745501e+12</td>\n",
       "      <td>1.745500e+12</td>\n",
       "    </tr>\n",
       "    <tr>\n",
       "      <th>50%</th>\n",
       "      <td>1.745589e+12</td>\n",
       "      <td>1.745589e+12</td>\n",
       "    </tr>\n",
       "    <tr>\n",
       "      <th>75%</th>\n",
       "      <td>1.745689e+12</td>\n",
       "      <td>1.745689e+12</td>\n",
       "    </tr>\n",
       "    <tr>\n",
       "      <th>max</th>\n",
       "      <td>1.745814e+12</td>\n",
       "      <td>1.745814e+12</td>\n",
       "    </tr>\n",
       "  </tbody>\n",
       "</table>\n",
       "</div>"
      ],
      "text/plain": [
       "       arrival_time  departure_time\n",
       "count  2.389599e+06    2.389599e+06\n",
       "mean   1.649726e+12    1.646224e+12\n",
       "std    3.977015e+11    4.044699e+11\n",
       "min    0.000000e+00    0.000000e+00\n",
       "25%    1.745501e+12    1.745500e+12\n",
       "50%    1.745589e+12    1.745589e+12\n",
       "75%    1.745689e+12    1.745689e+12\n",
       "max    1.745814e+12    1.745814e+12"
      ]
     },
     "execution_count": 14,
     "metadata": {},
     "output_type": "execute_result"
    }
   ],
   "source": [
    "# Get distribution of realtime arrival times\n",
    "trips_df[['arrival_time', 'departure_time']].describe()"
   ]
  },
  {
   "cell_type": "code",
   "execution_count": 15,
   "id": "761c1904",
   "metadata": {},
   "outputs": [
    {
     "name": "stdout",
     "output_type": "stream",
     "text": [
      "5.49%\n"
     ]
    }
   ],
   "source": [
    "# Get proportion of rows with zero arrival times\n",
    "zero_mask = trips_df['arrival_time'] == 0\n",
    "print(f'{(zero_mask.sum() / len(trips_df)):.2%}')"
   ]
  },
  {
   "cell_type": "code",
   "execution_count": 16,
   "id": "74a79934",
   "metadata": {},
   "outputs": [
    {
     "name": "stdout",
     "output_type": "stream",
     "text": [
      "5.96%\n"
     ]
    }
   ],
   "source": [
    "# Get proportion of rows where the arrival and departure times are different\n",
    "diff_date_mask = trips_df['arrival_time'] != trips_df['departure_time']\n",
    "print(f'{(diff_date_mask.sum() / len(trips_df)):.2%}')"
   ]
  },
  {
   "cell_type": "code",
   "execution_count": 17,
   "id": "ff951fe2",
   "metadata": {},
   "outputs": [],
   "source": [
    "# Get rows\n",
    "diff_date_df = trips_df[diff_date_mask]"
   ]
  },
  {
   "cell_type": "code",
   "execution_count": 18,
   "id": "30ac514f",
   "metadata": {},
   "outputs": [],
   "source": [
    "# Replace zero arrival times by departure times, as they are usually the same\n",
    "trips_df.loc[zero_mask, 'arrival_time'] = trips_df.loc[zero_mask, 'departure_time']"
   ]
  },
  {
   "cell_type": "code",
   "execution_count": 19,
   "id": "943aae1e",
   "metadata": {},
   "outputs": [
    {
     "name": "stdout",
     "output_type": "stream",
     "text": [
      "2.97%\n"
     ]
    }
   ],
   "source": [
    "# Get proportion of rows with zero arrival times again\n",
    "zero_mask = trips_df['arrival_time'] == 0\n",
    "print(f'{(zero_mask.sum() / len(trips_df)):.2%}')"
   ]
  },
  {
   "cell_type": "code",
   "execution_count": 20,
   "id": "7a1196df",
   "metadata": {},
   "outputs": [],
   "source": [
    "# Delete the rows with 0 arrival times\n",
    "trips_df = trips_df[~zero_mask]\n",
    "zero_mask = trips_df['arrival_time'] == 0\n",
    "assert zero_mask.sum() == 0"
   ]
  },
  {
   "cell_type": "code",
   "execution_count": 21,
   "id": "f204b0d0",
   "metadata": {},
   "outputs": [],
   "source": [
    "# Rename arrival time\n",
    "trips_df = trips_df.rename(columns={'arrival_time': 'realtime_arrival_time'})"
   ]
  },
  {
   "cell_type": "code",
   "execution_count": 22,
   "id": "abc2c9eb",
   "metadata": {},
   "outputs": [],
   "source": [
    "# Drop departure time\n",
    "trips_df = trips_df.drop('departure_time', axis=1)"
   ]
  },
  {
   "cell_type": "markdown",
   "id": "b3864f9b",
   "metadata": {},
   "source": [
    "## Merge Data"
   ]
  },
  {
   "cell_type": "markdown",
   "id": "2ab97d0d",
   "metadata": {},
   "source": [
    "### Realtime and Scheduled Trips"
   ]
  },
  {
   "cell_type": "code",
   "execution_count": 23,
   "id": "614b3ee0",
   "metadata": {},
   "outputs": [],
   "source": [
    "stm_trips_df = pd.merge(left=trips_df, right=schedules_df, how='inner', on=['trip_id', 'stop_id'])"
   ]
  },
  {
   "cell_type": "code",
   "execution_count": 24,
   "id": "7e78e8ff",
   "metadata": {},
   "outputs": [],
   "source": [
    "# Convert start_date to datetime\n",
    "stm_trips_df['start_date_dt'] = pd.to_datetime(stm_trips_df['start_date'], format='%Y%m%d')"
   ]
  },
  {
   "cell_type": "code",
   "execution_count": 25,
   "id": "0cda96f4",
   "metadata": {},
   "outputs": [],
   "source": [
    "def parse_gtfs_time(row) -> pd.Timestamp:\n",
    "\t'''\n",
    "\tConverts GTFS time string (e.g., '25:30:00') to datetime\n",
    "\tbased on the arrival time.\n",
    "\t'''\n",
    "\thours, minutes, seconds = map(int, row['arrival_time'].split(':'))\n",
    "\ttotal_seconds = hours * 3600 + minutes * 60 + seconds\n",
    "\n",
    "\tparsed_time = row['start_date_dt'] + timedelta(seconds=total_seconds)\n",
    "\treturn parsed_time"
   ]
  },
  {
   "cell_type": "code",
   "execution_count": 26,
   "id": "69cd48ca",
   "metadata": {},
   "outputs": [],
   "source": [
    "# Convert planned arrival time to localized datetime\n",
    "stm_trips_df['scheduled_arrival_time'] = stm_trips_df.apply(parse_gtfs_time, axis=1)\n",
    "stm_trips_df['scheduled_arrival_time'] = stm_trips_df['scheduled_arrival_time'].dt.tz_localize(LOCAL_TIMEZONE)"
   ]
  },
  {
   "cell_type": "code",
   "execution_count": 27,
   "id": "910b6d67",
   "metadata": {},
   "outputs": [],
   "source": [
    "# Convert planned time to timestamp in milliseconds since epoch\n",
    "stm_trips_df['scheduled_arrival_time'] = stm_trips_df['scheduled_arrival_time'].astype('int64') // 10**6"
   ]
  },
  {
   "cell_type": "markdown",
   "id": "5a8d3cb3",
   "metadata": {},
   "source": [
    "### Trips and Stops"
   ]
  },
  {
   "cell_type": "code",
   "execution_count": 28,
   "id": "1ae92990",
   "metadata": {},
   "outputs": [],
   "source": [
    "trips_stops_df = pd.merge(left=stm_trips_df, right=stops_df, how='inner', left_on='stop_id', right_on='stop_code')"
   ]
  },
  {
   "cell_type": "code",
   "execution_count": 29,
   "id": "efd3a783",
   "metadata": {},
   "outputs": [
    {
     "data": {
      "text/plain": [
       "Index(['current_time', 'trip_id', 'route_id', 'start_date', 'stop_id_x',\n",
       "       'realtime_arrival_time', 'schedule_relationship', 'arrival_time',\n",
       "       'departure_time', 'stop_sequence', 'start_date_dt',\n",
       "       'scheduled_arrival_time', 'stop_id_y', 'stop_code', 'stop_name',\n",
       "       'stop_lat', 'stop_lon', 'stop_url', 'location_type', 'parent_station',\n",
       "       'wheelchair_boarding'],\n",
       "      dtype='object')"
      ]
     },
     "execution_count": 29,
     "metadata": {},
     "output_type": "execute_result"
    }
   ],
   "source": [
    "trips_stops_df.columns"
   ]
  },
  {
   "cell_type": "code",
   "execution_count": 31,
   "id": "27b7427e",
   "metadata": {},
   "outputs": [],
   "source": [
    "# Keep relevant columns\n",
    "trips_stops_df = trips_stops_df[[\n",
    "  'current_time',\n",
    "  'trip_id',\n",
    "  'route_id',\n",
    "  'stop_id_x',\n",
    "  'stop_lat',\n",
    "  'stop_lon',\n",
    "  'start_date',\n",
    "  'stop_sequence',\n",
    "  'wheelchair_boarding',\n",
    "  'realtime_arrival_time',\n",
    "  'scheduled_arrival_time'\n",
    "]]"
   ]
  },
  {
   "cell_type": "code",
   "execution_count": 32,
   "id": "dbb7870b",
   "metadata": {},
   "outputs": [],
   "source": [
    "# Rename stop id\n",
    "trips_stops_df = trips_stops_df.rename(columns={'stop_id_x': 'stop_id'})"
   ]
  },
  {
   "cell_type": "code",
   "execution_count": 33,
   "id": "3e49f23e",
   "metadata": {},
   "outputs": [],
   "source": [
    "# Convert wheelchair_boarding to boolean\n",
    "trips_stops_df['wheelchair_boarding'] = (trips_stops_df['wheelchair_boarding'] == 1).astype('int64')"
   ]
  },
  {
   "cell_type": "markdown",
   "id": "f4ff72f0",
   "metadata": {},
   "source": [
    "### Vehicle Positions"
   ]
  },
  {
   "cell_type": "code",
   "execution_count": 34,
   "id": "d236afc3",
   "metadata": {},
   "outputs": [],
   "source": [
    "stm_df = pd.merge(left=trips_stops_df, right=positions_df, how='inner', on=['trip_id', 'route_id', 'start_date', 'stop_sequence']) \\\n",
    "\t\t\t.rename(columns={'current_time_x': 'current_time', 'status': 'vehicle_stop_status'}) \\\n",
    "\t\t\t.drop('current_time_y', axis=1)"
   ]
  },
  {
   "cell_type": "code",
   "execution_count": 35,
   "id": "b0672eb6",
   "metadata": {},
   "outputs": [
    {
     "name": "stdout",
     "output_type": "stream",
     "text": [
      "<class 'pandas.core.frame.DataFrame'>\n",
      "RangeIndex: 3296 entries, 0 to 3295\n",
      "Data columns (total 20 columns):\n",
      " #   Column                  Non-Null Count  Dtype  \n",
      "---  ------                  --------------  -----  \n",
      " 0   current_time            3296 non-null   float64\n",
      " 1   trip_id                 3296 non-null   int64  \n",
      " 2   route_id                3296 non-null   int64  \n",
      " 3   stop_id                 3296 non-null   int64  \n",
      " 4   stop_lat                3296 non-null   float64\n",
      " 5   stop_lon                3296 non-null   float64\n",
      " 6   start_date              3296 non-null   int64  \n",
      " 7   stop_sequence           3296 non-null   int64  \n",
      " 8   wheelchair_boarding     3296 non-null   int64  \n",
      " 9   realtime_arrival_time   3296 non-null   int64  \n",
      " 10  scheduled_arrival_time  3296 non-null   int64  \n",
      " 11  vehicle_id              3296 non-null   int64  \n",
      " 12  start_time              3296 non-null   object \n",
      " 13  latitude                3296 non-null   float64\n",
      " 14  longitude               3296 non-null   float64\n",
      " 15  bearing                 3296 non-null   float64\n",
      " 16  speed                   3296 non-null   float64\n",
      " 17  vehicle_stop_status     3296 non-null   int64  \n",
      " 18  timestamp               3296 non-null   int64  \n",
      " 19  occupancy_status        3296 non-null   int64  \n",
      "dtypes: float64(7), int64(12), object(1)\n",
      "memory usage: 515.1+ KB\n"
     ]
    }
   ],
   "source": [
    "stm_df.info()"
   ]
  },
  {
   "cell_type": "markdown",
   "id": "7b431a68",
   "metadata": {},
   "source": [
    "### STM and Weather"
   ]
  },
  {
   "cell_type": "code",
   "execution_count": 36,
   "id": "463973c4",
   "metadata": {},
   "outputs": [],
   "source": [
    "# Convert arrival timestamp to datetime\n",
    "rt_arrival_dt = pd.to_datetime(stm_df['realtime_arrival_time'], origin='unix', unit='ms', utc=True)"
   ]
  },
  {
   "cell_type": "code",
   "execution_count": 44,
   "id": "c139f560",
   "metadata": {},
   "outputs": [],
   "source": [
    "# Round arrival time to the nearest hour\n",
    "stm_df['rounded_arrival_dt'] = rt_arrival_dt.dt.round('h')"
   ]
  },
  {
   "cell_type": "code",
   "execution_count": 45,
   "id": "5d4d8333",
   "metadata": {},
   "outputs": [],
   "source": [
    "# Format time to match weather data\n",
    "stm_df['time'] = stm_df['rounded_arrival_dt'].dt.strftime('%Y-%m-%dT%H:%M')"
   ]
  },
  {
   "cell_type": "code",
   "execution_count": 46,
   "id": "f2552f97",
   "metadata": {},
   "outputs": [],
   "source": [
    "# Merge STM data with historical weather\n",
    "stm_weather_df = pd.merge(left=stm_df, right=weather_df, how='left', on='time')"
   ]
  },
  {
   "cell_type": "code",
   "execution_count": 47,
   "id": "5d6f3ba0",
   "metadata": {},
   "outputs": [],
   "source": [
    "# Filter rows with null weather\n",
    "null_weather_mask = stm_weather_df.isna().any(axis=1)"
   ]
  },
  {
   "cell_type": "code",
   "execution_count": 48,
   "id": "7b5f8471",
   "metadata": {},
   "outputs": [
    {
     "name": "stdout",
     "output_type": "stream",
     "text": [
      "100.00%\n"
     ]
    }
   ],
   "source": [
    "# Get proportion of rows with null weather\n",
    "print(f'{(null_weather_mask.sum() / len(stm_weather_df)):.2%}')"
   ]
  },
  {
   "cell_type": "code",
   "execution_count": 49,
   "id": "86b4c346",
   "metadata": {},
   "outputs": [],
   "source": [
    "# Separate null and non null rows\n",
    "not_null_df = stm_weather_df[~null_weather_mask]\n",
    "null_df = stm_weather_df[null_weather_mask]"
   ]
  },
  {
   "cell_type": "code",
   "execution_count": 50,
   "id": "e6accfdd",
   "metadata": {},
   "outputs": [],
   "source": [
    "# Fetch forecast weather\n",
    "start_date = null_df['rounded_arrival_dt'].min().strftime('%Y-%m-%d')\n",
    "end_date = null_df['rounded_arrival_dt'].max().strftime('%Y-%m-%d')\n",
    "\n",
    "weather_list = fetch_weather(start_date=start_date, end_date=end_date, forecast=True)\n",
    "weather_df = pd.DataFrame(weather_list)"
   ]
  },
  {
   "cell_type": "code",
   "execution_count": 51,
   "id": "13160035",
   "metadata": {},
   "outputs": [],
   "source": [
    "# Merge null weather dataframe with forecast\n",
    "null_df = null_df.drop(['temperature', 'precipitation', 'windspeed', 'weathercode'], axis=1)\n",
    "null_df = pd.merge(left=null_df, right=weather_df, how='inner', on='time')"
   ]
  },
  {
   "cell_type": "code",
   "execution_count": 52,
   "id": "43f1fcf8",
   "metadata": {},
   "outputs": [],
   "source": [
    "# Merge null and non null weather dataframes\n",
    "stm_weather_df = pd.concat([not_null_df, null_df]).reset_index()"
   ]
  },
  {
   "cell_type": "markdown",
   "id": "fe11c074",
   "metadata": {},
   "source": [
    "### Traffic Data"
   ]
  },
  {
   "cell_type": "code",
   "execution_count": 91,
   "id": "3ced7c04",
   "metadata": {},
   "outputs": [
    {
     "name": "stdout",
     "output_type": "stream",
     "text": [
      "42.68%\n"
     ]
    }
   ],
   "source": [
    "# Get proportion of duplicates\n",
    "duplicate_mask = traffic_df.duplicated()\n",
    "print(f'{(duplicate_mask.sum() / len(traffic_df)):.2%}')"
   ]
  },
  {
   "cell_type": "code",
   "execution_count": 92,
   "id": "4e69a875",
   "metadata": {},
   "outputs": [],
   "source": [
    "# Remove duplicates\n",
    "traffic_df = traffic_df.drop_duplicates(keep='last').reset_index()"
   ]
  },
  {
   "cell_type": "code",
   "execution_count": null,
   "id": "c2b15f16",
   "metadata": {},
   "outputs": [],
   "source": [
    "# Convert arrival timestamp to datetime from STM\n",
    "stm_weather_df['arrival_time_dt'] = pd.to_datetime(stm_weather_df['realtime_arrival_time'], origin='unix', unit='ms', utc=True)"
   ]
  },
  {
   "cell_type": "code",
   "execution_count": 97,
   "id": "ede164f5",
   "metadata": {},
   "outputs": [],
   "source": [
    "# Convert start_time and end_time to datetime\n",
    "traffic_df['start_time_dt'] = pd.to_datetime(traffic_df['start_time'], utc=True)\n",
    "traffic_df['end_time_dt'] = pd.to_datetime(traffic_df['end_time'], utc=True)"
   ]
  },
  {
   "cell_type": "code",
   "execution_count": 101,
   "id": "c2a61030",
   "metadata": {},
   "outputs": [],
   "source": [
    "# Fill null end times with current time\n",
    "traffic_df['end_time_dt'] = traffic_df['end_time_dt'].fillna(datetime.now(UTC).replace(microsecond=0))\n",
    "assert traffic_df['end_time_dt'].isna().sum() == 0"
   ]
  },
  {
   "cell_type": "code",
   "execution_count": 114,
   "id": "e84143f7",
   "metadata": {},
   "outputs": [],
   "source": [
    "def calculate_nearby_incidents(trip_update, traffic_df, max_distance=500):\n",
    "    trip_time = trip_update['arrival_time_dt']\n",
    "    stop_coords = (trip_update['stop_lat'], trip_update['stop_lon'])\n",
    "    \n",
    "    # Filter active incidents\n",
    "    active_incidents = traffic_df[\n",
    "        (traffic_df['start_time_dt'] <= trip_time) &\n",
    "        (traffic_df['end_time_dt'] >= trip_time)\n",
    "    ].copy()\n",
    "    \n",
    "    if active_incidents.empty:\n",
    "        return pd.Series({\n",
    "            'incident_nearby': 0,\n",
    "            'nearest_incident_distance': None,\n",
    "            'incident_category': None,\n",
    "            'incident_delay': None,\n",
    "            'incident_delay_magnitude': 0\n",
    "        })\n",
    "    \n",
    "    # Calculate distance\n",
    "    active_incidents['distance'] = active_incidents.apply(\n",
    "        lambda row: haversine(stop_coords, (row['latitude'], row['longitude']), unit=Unit.METERS),\n",
    "        axis=1\n",
    "    )\n",
    "    \n",
    "    # Filter nearby\n",
    "    nearby_incidents = active_incidents[active_incidents['distance'] <= max_distance]\n",
    "    \n",
    "    if nearby_incidents.empty:\n",
    "        return pd.Series({\n",
    "            'incident_nearby': 0,\n",
    "            'nearest_incident_distance': None,\n",
    "            'incident_category': 0,\n",
    "            'incident_delay': None,\n",
    "\t\t\t'incident_delay_magnitude': 0\n",
    "        })\n",
    "    else:\n",
    "        nearest = nearby_incidents.loc[nearby_incidents['distance'].idxmin()]\n",
    "        return pd.Series({\n",
    "            'incident_nearby': 1,\n",
    "            'nearest_incident_distance': nearest['distance'],\n",
    "            'incident_category': nearest['category'],\n",
    "            'incident_delay': nearest['delay'],\n",
    "\t\t\t'incident_delay_magnitude': nearest['magnitude_of_delay']\n",
    "        })"
   ]
  },
  {
   "cell_type": "code",
   "execution_count": null,
   "id": "fa13cf97",
   "metadata": {},
   "outputs": [],
   "source": [
    "# Get traffic columns\n",
    "traffic_cols = stm_weather_df.apply(\n",
    "    lambda row: calculate_nearby_incidents(row, traffic_df, max_distance=1000),\n",
    "    axis=1\n",
    ")"
   ]
  },
  {
   "cell_type": "code",
   "execution_count": 122,
   "id": "84f574b4",
   "metadata": {},
   "outputs": [],
   "source": [
    "# Merge the new features back\n",
    "df = pd.concat([stm_weather_df, traffic_cols], axis=1)"
   ]
  },
  {
   "cell_type": "markdown",
   "id": "54983bb1",
   "metadata": {},
   "source": [
    "## Export Data"
   ]
  },
  {
   "cell_type": "code",
   "execution_count": 123,
   "id": "c68053ca",
   "metadata": {},
   "outputs": [
    {
     "name": "stdout",
     "output_type": "stream",
     "text": [
      "<class 'pandas.core.frame.DataFrame'>\n",
      "RangeIndex: 3296 entries, 0 to 3295\n",
      "Data columns (total 33 columns):\n",
      " #   Column                     Non-Null Count  Dtype              \n",
      "---  ------                     --------------  -----              \n",
      " 0   index                      3296 non-null   int64              \n",
      " 1   current_time               3296 non-null   float64            \n",
      " 2   trip_id                    3296 non-null   int64              \n",
      " 3   route_id                   3296 non-null   int64              \n",
      " 4   stop_id                    3296 non-null   int64              \n",
      " 5   stop_lat                   3296 non-null   float64            \n",
      " 6   stop_lon                   3296 non-null   float64            \n",
      " 7   start_date                 3296 non-null   int64              \n",
      " 8   stop_sequence              3296 non-null   int64              \n",
      " 9   wheelchair_boarding        3296 non-null   int64              \n",
      " 10  realtime_arrival_time      3296 non-null   int64              \n",
      " 11  scheduled_arrival_time     3296 non-null   int64              \n",
      " 12  vehicle_id                 3296 non-null   int64              \n",
      " 13  start_time                 3296 non-null   object             \n",
      " 14  latitude                   3296 non-null   float64            \n",
      " 15  longitude                  3296 non-null   float64            \n",
      " 16  bearing                    3296 non-null   float64            \n",
      " 17  speed                      3296 non-null   float64            \n",
      " 18  vehicle_stop_status        3296 non-null   int64              \n",
      " 19  timestamp                  3296 non-null   int64              \n",
      " 20  occupancy_status           3296 non-null   int64              \n",
      " 21  time                       3296 non-null   object             \n",
      " 22  rounded_arrival_dt         3296 non-null   datetime64[ns, UTC]\n",
      " 23  temperature                3296 non-null   float64            \n",
      " 24  precipitation              3296 non-null   float64            \n",
      " 25  windspeed                  3296 non-null   float64            \n",
      " 26  weathercode                3296 non-null   float64            \n",
      " 27  arrival_time_dt            3296 non-null   datetime64[ns, UTC]\n",
      " 28  incident_nearby            3296 non-null   float64            \n",
      " 29  nearest_incident_distance  1048 non-null   float64            \n",
      " 30  incident_category          3296 non-null   float64            \n",
      " 31  incident_delay             164 non-null    float64            \n",
      " 32  incident_delay_magnitude   3296 non-null   float64            \n",
      "dtypes: datetime64[ns, UTC](2), float64(16), int64(13), object(2)\n",
      "memory usage: 849.9+ KB\n"
     ]
    }
   ],
   "source": [
    "df.info(max_cols=None)"
   ]
  },
  {
   "cell_type": "code",
   "execution_count": 124,
   "id": "b0cfefe9",
   "metadata": {},
   "outputs": [
    {
     "data": {
      "text/plain": [
       "Index(['index', 'current_time', 'trip_id', 'route_id', 'stop_id', 'stop_lat',\n",
       "       'stop_lon', 'start_date', 'stop_sequence', 'wheelchair_boarding',\n",
       "       'realtime_arrival_time', 'scheduled_arrival_time', 'vehicle_id',\n",
       "       'start_time', 'latitude', 'longitude', 'bearing', 'speed',\n",
       "       'vehicle_stop_status', 'timestamp', 'occupancy_status', 'time',\n",
       "       'rounded_arrival_dt', 'temperature', 'precipitation', 'windspeed',\n",
       "       'weathercode', 'arrival_time_dt', 'incident_nearby',\n",
       "       'nearest_incident_distance', 'incident_category', 'incident_delay',\n",
       "       'incident_delay_magnitude'],\n",
       "      dtype='object')"
      ]
     },
     "execution_count": 124,
     "metadata": {},
     "output_type": "execute_result"
    }
   ],
   "source": [
    "df.columns"
   ]
  },
  {
   "cell_type": "code",
   "execution_count": 125,
   "id": "ab1f6db7",
   "metadata": {},
   "outputs": [],
   "source": [
    "# Keep relevant columns #TODO: Add more incident features if needed\n",
    "df = df[['current_time', 'trip_id', 'vehicle_id', 'vehicle_stop_status',\n",
    "\t\t'occupancy_status', 'route_id', 'stop_id', 'stop_lat', 'stop_lon',\n",
    "       \t'stop_sequence', 'wheelchair_boarding', 'realtime_arrival_time',\n",
    "       \t'scheduled_arrival_time', 'temperature', 'precipitation', 'windspeed', \n",
    "    \t'weathercode', 'incident_nearby', 'incident_category'\n",
    "    \t#'nearest_incident_distance','incident_delay', 'incident_delay_magnitude'\n",
    "      ]]"
   ]
  },
  {
   "cell_type": "code",
   "execution_count": 127,
   "id": "ca8afd2f",
   "metadata": {},
   "outputs": [
    {
     "name": "stdout",
     "output_type": "stream",
     "text": [
      "<class 'pandas.core.frame.DataFrame'>\n",
      "RangeIndex: 3296 entries, 0 to 3295\n",
      "Data columns (total 19 columns):\n",
      " #   Column                  Non-Null Count  Dtype  \n",
      "---  ------                  --------------  -----  \n",
      " 0   current_time            3296 non-null   float64\n",
      " 1   trip_id                 3296 non-null   int64  \n",
      " 2   vehicle_id              3296 non-null   int64  \n",
      " 3   vehicle_stop_status     3296 non-null   int64  \n",
      " 4   occupancy_status        3296 non-null   int64  \n",
      " 5   route_id                3296 non-null   int64  \n",
      " 6   stop_id                 3296 non-null   int64  \n",
      " 7   stop_lat                3296 non-null   float64\n",
      " 8   stop_lon                3296 non-null   float64\n",
      " 9   stop_sequence           3296 non-null   int64  \n",
      " 10  wheelchair_boarding     3296 non-null   int64  \n",
      " 11  realtime_arrival_time   3296 non-null   int64  \n",
      " 12  scheduled_arrival_time  3296 non-null   int64  \n",
      " 13  temperature             3296 non-null   float64\n",
      " 14  precipitation           3296 non-null   float64\n",
      " 15  windspeed               3296 non-null   float64\n",
      " 16  weathercode             3296 non-null   float64\n",
      " 17  incident_nearby         3296 non-null   float64\n",
      " 18  incident_category       3296 non-null   float64\n",
      "dtypes: float64(9), int64(10)\n",
      "memory usage: 489.4 KB\n"
     ]
    }
   ],
   "source": [
    "df.info()"
   ]
  },
  {
   "cell_type": "code",
   "execution_count": 126,
   "id": "8eb537d7",
   "metadata": {},
   "outputs": [],
   "source": [
    "# Export data to CSV\n",
    "df.to_csv('../data/stm_weather_merged.csv', index=False)"
   ]
  },
  {
   "cell_type": "markdown",
   "id": "a3b33a1a",
   "metadata": {},
   "source": [
    "## End"
   ]
  }
 ],
 "metadata": {
  "kernelspec": {
   "display_name": "base",
   "language": "python",
   "name": "python3"
  },
  "language_info": {
   "codemirror_mode": {
    "name": "ipython",
    "version": 3
   },
   "file_extension": ".py",
   "mimetype": "text/x-python",
   "name": "python",
   "nbconvert_exporter": "python",
   "pygments_lexer": "ipython3",
   "version": "3.12.4"
  }
 },
 "nbformat": 4,
 "nbformat_minor": 5
}
