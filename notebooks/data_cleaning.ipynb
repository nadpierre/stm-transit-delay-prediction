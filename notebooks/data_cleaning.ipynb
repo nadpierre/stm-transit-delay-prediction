{
 "cells": [
  {
   "cell_type": "markdown",
   "id": "056758cb",
   "metadata": {},
   "source": [
    "# STM Transit Delay Data Preparation"
   ]
  },
  {
   "cell_type": "markdown",
   "id": "e8706868",
   "metadata": {},
   "source": [
    "## Overview"
   ]
  },
  {
   "cell_type": "markdown",
   "id": "3d911d34",
   "metadata": {},
   "source": [
    "This notebook cleans and merges data collected from [STM](https://www.stm.info/en/about/developers) and [Open-Meteo](https://open-meteo.com/en/docs) and prepares it for data analysis and/or preprocessing."
   ]
  },
  {
   "cell_type": "markdown",
   "id": "a6bc184d",
   "metadata": {},
   "source": [
    "## Data Description"
   ]
  },
  {
   "cell_type": "markdown",
   "id": "d28e04ef",
   "metadata": {},
   "source": [
    "### STM Schedule"
   ]
  },
  {
   "cell_type": "markdown",
   "id": "bb31f7ab",
   "metadata": {},
   "source": [
    "`trip_id`: Unique identifier for the transit trip.<br>\n",
    "`arrival_time`, `departure_time`: Scheduled arrival and departure time.<br>\n",
    "`stop_id`: Unique identifier of a stop.<br>\n",
    "`stop_sequence`: Sequence of a stop, for ordering."
   ]
  },
  {
   "cell_type": "markdown",
   "id": "bc749154",
   "metadata": {},
   "source": [
    "### STM Stops"
   ]
  },
  {
   "cell_type": "markdown",
   "id": "a40b660a",
   "metadata": {},
   "source": [
    "`stop_id`: Unique identifier of a stop.<br>\n",
    "`stop_code`: Bus stop or metro station number.<br>\n",
    "`stop_name`: Bus stop or metro station name<br>\n",
    "`stop_lat`, `stop_lon`: Stop coordinates.<br>\n",
    "`stop_url`: Stop web page.<br>\n",
    "`location_type`: Stop type.<br>\n",
    "`parent_station`: Parent station (metro station with multiple exits).<br>\n",
    "`wheelchair_boarding`: Indicates if the stop is accessible for people in wheelchair, 0 meaning \"no information\", 1 being \"accessible\" and 2 being \"not accessible\"."
   ]
  },
  {
   "cell_type": "markdown",
   "id": "a9173706",
   "metadata": {},
   "source": [
    "### STM Trips"
   ]
  },
  {
   "cell_type": "markdown",
   "id": "bc0019b7",
   "metadata": {},
   "source": [
    "`route_id`:  Unique identifier for the bus or metro line.<br>\n",
    "`service_id`: Identifies a set of dates when service is available for one or more routes.<br>\n",
    "`trip_id`: Unique identifier for the transit trip.<br>\n",
    "`trip_headsign`: Direction of the trip (Nord, South, West, East).<br>\n",
    "`direction_id`: Boolean value for the direction.<br>\n",
    "`shape_id`: Identifies a geospatial shape describing the vehicle travel path for a trip.<br>\n",
    "`wheelchair_accessible`: Indicates wheelchair accessibility, 0 meaning \"no information\", 1 being \"accessible\" and 2 being \"not accessible\".<br>\n",
    "`note_fr`, `note_en`: Additionnal comment in French and English."
   ]
  },
  {
   "cell_type": "markdown",
   "id": "b7358fab",
   "metadata": {},
   "source": [
    "### STM Real-Time Trip Updates"
   ]
  },
  {
   "cell_type": "markdown",
   "id": "d5c2ee8a",
   "metadata": {},
   "source": [
    "`current_time`: Timestamp when the data was fetched from the GTFS, in milliseconds.<br>\n",
    "`trip_id`: Unique identifier for the transit trip.<br>\n",
    "`route_id`: Unique identifier for a bus or metro line.<br>\n",
    "`start_date`: Start date of the transit trip.<br>\n",
    "`stop_id`: Unique identifier of a stop.<br>\n",
    "`arrival_time`, `departure_time`: Realtime arrival and departure time, in seconds<br>\n",
    "`schedule_relationship`: State of the trip, 0 meaning \"scheduled\", 1 meaning \"skipped\" and 2 meaning \"no data\"."
   ]
  },
  {
   "cell_type": "markdown",
   "id": "1769aa78",
   "metadata": {},
   "source": [
    "### STM Route Types"
   ]
  },
  {
   "cell_type": "markdown",
   "id": "a27dd6d9",
   "metadata": {},
   "source": [
    "`route_id`: Unique identifier for a bus or metro line.<br>\n",
    "`route_type`: Type of bus line (e.g. Night)<br>"
   ]
  },
  {
   "cell_type": "markdown",
   "id": "042db663",
   "metadata": {},
   "source": [
    "### Open-Meteo Weather API"
   ]
  },
  {
   "cell_type": "markdown",
   "id": "3ccfdc47",
   "metadata": {},
   "source": [
    "`time`: Date and hour or the weather.<br>\n",
    "`temperature_2m`: Air temperature at 2 meters above ground, in Celsius.<br>\n",
    "`relative_humidity_2m`: Relative humidity at 2 meters above ground, in percentage.<br>\n",
    "`precipitation`: Total precipitation (rain, showers, snow) sum of the preceding hour, in millimeters.<br>\n",
    "`pressure_msl`: Atmospheric air pressure reduced to mean sea level (msl), in hPa.<br>\n",
    "`cloud_cover`: Total cloud cover as an area fraction.<br>\n",
    "`wind_speed_10m`: Wind speed at 10 meters above ground, in kilometers per hour.<br>\n",
    "`wind_direction_10m`: Wind direction at 10 meters above ground.<br>"
   ]
  },
  {
   "cell_type": "markdown",
   "id": "3ca39527",
   "metadata": {},
   "source": [
    "## Imports"
   ]
  },
  {
   "cell_type": "code",
   "execution_count": 1,
   "id": "a0a7cafd",
   "metadata": {},
   "outputs": [],
   "source": [
    "from datetime import datetime, timezone\n",
    "import geopandas as gpd\n",
    "import matplotlib.pyplot as plt\n",
    "import numpy as np\n",
    "import pandas as pd\n",
    "import seaborn as sns\n",
    "import sys"
   ]
  },
  {
   "cell_type": "code",
   "execution_count": 2,
   "id": "faad2700",
   "metadata": {},
   "outputs": [],
   "source": [
    "# Import custom code\n",
    "sys.path.insert(0, '..')\n",
    "from src.constants import LOCAL_TIMEZONE, SCHEDULE_RELATIONSHIP\n",
    "from src.helper_functions import parse_gtfs_time"
   ]
  },
  {
   "cell_type": "code",
   "execution_count": 3,
   "id": "786cc667",
   "metadata": {},
   "outputs": [],
   "source": [
    "# Import data\n",
    "schedules_df = pd.read_csv('../data/download/stop_times.txt')\n",
    "stops_df = pd.read_csv('../data/stops_cleaned.csv')\n",
    "trips_df = pd.read_csv('../data/download/trips.txt')\n",
    "trip_updates_df = pd.read_csv('../data/api/fetched_stm_trip_updates.csv', low_memory=False)\n",
    "routes_df = pd.read_csv('../data/route_types.csv')\n",
    "weather_df = pd.read_csv('../data/api/fetched_historical_weather.csv')"
   ]
  },
  {
   "cell_type": "markdown",
   "id": "b3864f9b",
   "metadata": {},
   "source": [
    "## Merge Data"
   ]
  },
  {
   "cell_type": "markdown",
   "id": "026d79ac",
   "metadata": {},
   "source": [
    "### Schedules and stops"
   ]
  },
  {
   "cell_type": "code",
   "execution_count": 4,
   "id": "4fc32c4f",
   "metadata": {},
   "outputs": [
    {
     "name": "stdout",
     "output_type": "stream",
     "text": [
      "<class 'pandas.core.frame.DataFrame'>\n",
      "RangeIndex: 8994 entries, 0 to 8993\n",
      "Data columns (total 7 columns):\n",
      " #   Column               Non-Null Count  Dtype  \n",
      "---  ------               --------------  -----  \n",
      " 0   stop_id              8994 non-null   int64  \n",
      " 1   stop_name            8994 non-null   object \n",
      " 2   neighbourhood        3434 non-null   object \n",
      " 3   stop_lat             8994 non-null   float64\n",
      " 4   stop_lon             8994 non-null   float64\n",
      " 5   location_type        8994 non-null   int64  \n",
      " 6   wheelchair_boarding  8994 non-null   int64  \n",
      "dtypes: float64(2), int64(3), object(2)\n",
      "memory usage: 492.0+ KB\n"
     ]
    }
   ],
   "source": [
    "stops_df.info()"
   ]
  },
  {
   "cell_type": "code",
   "execution_count": 5,
   "id": "4434500e",
   "metadata": {},
   "outputs": [],
   "source": [
    "# Sort values by stop sequence\n",
    "schedules_df = schedules_df.sort_values(by=['trip_id', 'stop_sequence'])"
   ]
  },
  {
   "cell_type": "code",
   "execution_count": 6,
   "id": "176567e5",
   "metadata": {},
   "outputs": [],
   "source": [
    "# Add trip progress (vehicles further along the trip are more likely to be delayed)\n",
    "total_stops = schedules_df.groupby('trip_id')['stop_id'].transform('count')\n",
    "schedules_df['trip_progress'] = schedules_df['stop_sequence'] / total_stops"
   ]
  },
  {
   "cell_type": "code",
   "execution_count": 7,
   "id": "e8adfad6",
   "metadata": {},
   "outputs": [
    {
     "data": {
      "text/plain": [
       "count    6.629625e+06\n",
       "mean     5.139220e-01\n",
       "std      2.887289e-01\n",
       "min      8.547009e-03\n",
       "25%      2.631579e-01\n",
       "50%      5.142857e-01\n",
       "75%      7.647059e-01\n",
       "max      1.000000e+00\n",
       "Name: trip_progress, dtype: float64"
      ]
     },
     "execution_count": 7,
     "metadata": {},
     "output_type": "execute_result"
    }
   ],
   "source": [
    "# Get distribution of trip progress\n",
    "schedules_df['trip_progress'].describe()"
   ]
  },
  {
   "cell_type": "code",
   "execution_count": 8,
   "id": "f856eb46",
   "metadata": {},
   "outputs": [],
   "source": [
    "# Merge schedules and stops\n",
    "schedules_stops_df = pd.merge(left=schedules_df, right=stops_df, how='inner', on='stop_id') "
   ]
  },
  {
   "cell_type": "code",
   "execution_count": 9,
   "id": "c5dfe3e7",
   "metadata": {},
   "outputs": [
    {
     "data": {
      "text/plain": [
       "Index(['trip_id', 'arrival_time', 'departure_time', 'stop_id', 'stop_sequence',\n",
       "       'trip_progress', 'stop_name', 'neighbourhood', 'stop_lat', 'stop_lon',\n",
       "       'location_type', 'wheelchair_boarding'],\n",
       "      dtype='object')"
      ]
     },
     "execution_count": 9,
     "metadata": {},
     "output_type": "execute_result"
    }
   ],
   "source": [
    "schedules_stops_df.columns"
   ]
  },
  {
   "cell_type": "code",
   "execution_count": 10,
   "id": "bf47cb3c",
   "metadata": {},
   "outputs": [],
   "source": [
    "# Get coordinates of previous stop\n",
    "schedules_stops_df = schedules_stops_df.sort_values(by=['trip_id', 'stop_sequence'])\n",
    "schedules_stops_df['prev_lat'] = schedules_stops_df.groupby('trip_id')['stop_lat'].shift(1)\n",
    "schedules_stops_df['prev_lon'] = schedules_stops_df.groupby('trip_id')['stop_lon'].shift(1)"
   ]
  },
  {
   "cell_type": "code",
   "execution_count": 11,
   "id": "f35e6c63",
   "metadata": {},
   "outputs": [],
   "source": [
    "# Make sure scheduled arrival time has no null values\n",
    "assert schedules_stops_df['arrival_time'].isna().sum() == 0"
   ]
  },
  {
   "cell_type": "code",
   "execution_count": 12,
   "id": "c44a7ef8",
   "metadata": {},
   "outputs": [],
   "source": [
    "# Make sure the null coordinates are from first stops\n",
    "prev_null_mask = (schedules_stops_df['prev_lat'].isna()) | (schedules_stops_df['prev_lon'].isna())\n",
    "first_stop_mask = schedules_stops_df['stop_sequence'] == 1\n",
    "assert prev_null_mask.sum() == first_stop_mask.sum()"
   ]
  },
  {
   "cell_type": "code",
   "execution_count": 13,
   "id": "8ae948b7",
   "metadata": {},
   "outputs": [
    {
     "data": {
      "text/plain": [
       "0         2025-05-15\n",
       "1         2025-05-15\n",
       "2         2025-05-15\n",
       "3         2025-05-15\n",
       "4         2025-05-15\n",
       "             ...    \n",
       "6388736   2025-05-15\n",
       "6388737   2025-05-15\n",
       "6388738   2025-05-15\n",
       "6388739   2025-05-15\n",
       "6388740   2025-05-15\n",
       "Name: today, Length: 6388741, dtype: datetime64[us]"
      ]
     },
     "execution_count": 13,
     "metadata": {},
     "output_type": "execute_result"
    }
   ],
   "source": [
    "# Add column with current date\n",
    "schedules_stops_df['today'] = pd.Timestamp.now().normalize()\n",
    "schedules_stops_df['today']"
   ]
  },
  {
   "cell_type": "code",
   "execution_count": 14,
   "id": "2ff0e87a",
   "metadata": {},
   "outputs": [
    {
     "data": {
      "text/plain": [
       "0         2025-05-15 04:55:00-04:00\n",
       "1         2025-05-15 04:55:31-04:00\n",
       "2         2025-05-15 04:56:04-04:00\n",
       "3         2025-05-15 04:56:31-04:00\n",
       "4         2025-05-15 04:56:51-04:00\n",
       "                     ...           \n",
       "6388736   2025-05-16 01:35:00-04:00\n",
       "6388737   2025-05-16 01:40:00-04:00\n",
       "6388738   2025-05-16 01:55:00-04:00\n",
       "6388739   2025-05-16 01:40:00-04:00\n",
       "6388740   2025-05-16 01:55:00-04:00\n",
       "Name: parsed_time, Length: 6388741, dtype: datetime64[ns, Canada/Eastern]"
      ]
     },
     "execution_count": 14,
     "metadata": {},
     "output_type": "execute_result"
    }
   ],
   "source": [
    "# Parse arrival time\n",
    "schedules_stops_df['parsed_time'] = parse_gtfs_time(schedules_stops_df, 'today', 'arrival_time', unit='us')\n",
    "schedules_stops_df['parsed_time'] "
   ]
  },
  {
   "cell_type": "code",
   "execution_count": 15,
   "id": "2dbb91b6",
   "metadata": {},
   "outputs": [
    {
     "data": {
      "text/html": [
       "<div>\n",
       "<style scoped>\n",
       "    .dataframe tbody tr th:only-of-type {\n",
       "        vertical-align: middle;\n",
       "    }\n",
       "\n",
       "    .dataframe tbody tr th {\n",
       "        vertical-align: top;\n",
       "    }\n",
       "\n",
       "    .dataframe thead th {\n",
       "        text-align: right;\n",
       "    }\n",
       "</style>\n",
       "<table border=\"1\" class=\"dataframe\">\n",
       "  <thead>\n",
       "    <tr style=\"text-align: right;\">\n",
       "      <th></th>\n",
       "      <th>trip_id</th>\n",
       "      <th>arrival_time</th>\n",
       "      <th>departure_time</th>\n",
       "      <th>stop_id</th>\n",
       "      <th>stop_sequence</th>\n",
       "      <th>trip_progress</th>\n",
       "      <th>stop_name</th>\n",
       "      <th>neighbourhood</th>\n",
       "      <th>stop_lat</th>\n",
       "      <th>stop_lon</th>\n",
       "      <th>location_type</th>\n",
       "      <th>wheelchair_boarding</th>\n",
       "      <th>prev_lat</th>\n",
       "      <th>prev_lon</th>\n",
       "      <th>today</th>\n",
       "      <th>parsed_time</th>\n",
       "    </tr>\n",
       "  </thead>\n",
       "  <tbody>\n",
       "    <tr>\n",
       "      <th>0</th>\n",
       "      <td>280882183</td>\n",
       "      <td>04:55:00</td>\n",
       "      <td>04:55:00</td>\n",
       "      <td>56338</td>\n",
       "      <td>1</td>\n",
       "      <td>0.022222</td>\n",
       "      <td>Kildare / Westminster</td>\n",
       "      <td>NaN</td>\n",
       "      <td>45.462603</td>\n",
       "      <td>-73.671081</td>\n",
       "      <td>0</td>\n",
       "      <td>1</td>\n",
       "      <td>NaN</td>\n",
       "      <td>NaN</td>\n",
       "      <td>2025-05-15</td>\n",
       "      <td>2025-05-15 04:55:00-04:00</td>\n",
       "    </tr>\n",
       "    <tr>\n",
       "      <th>1</th>\n",
       "      <td>280882183</td>\n",
       "      <td>04:55:31</td>\n",
       "      <td>04:55:31</td>\n",
       "      <td>56345</td>\n",
       "      <td>2</td>\n",
       "      <td>0.044444</td>\n",
       "      <td>Kildare / McMurray</td>\n",
       "      <td>NaN</td>\n",
       "      <td>45.464317</td>\n",
       "      <td>-73.669748</td>\n",
       "      <td>0</td>\n",
       "      <td>1</td>\n",
       "      <td>45.462603</td>\n",
       "      <td>-73.671081</td>\n",
       "      <td>2025-05-15</td>\n",
       "      <td>2025-05-15 04:55:31-04:00</td>\n",
       "    </tr>\n",
       "    <tr>\n",
       "      <th>2</th>\n",
       "      <td>280882183</td>\n",
       "      <td>04:56:04</td>\n",
       "      <td>04:56:04</td>\n",
       "      <td>56348</td>\n",
       "      <td>3</td>\n",
       "      <td>0.066667</td>\n",
       "      <td>Kildare / Melling</td>\n",
       "      <td>NaN</td>\n",
       "      <td>45.466102</td>\n",
       "      <td>-73.668378</td>\n",
       "      <td>0</td>\n",
       "      <td>1</td>\n",
       "      <td>45.464317</td>\n",
       "      <td>-73.669748</td>\n",
       "      <td>2025-05-15</td>\n",
       "      <td>2025-05-15 04:56:04-04:00</td>\n",
       "    </tr>\n",
       "    <tr>\n",
       "      <th>3</th>\n",
       "      <td>280882183</td>\n",
       "      <td>04:56:31</td>\n",
       "      <td>04:56:31</td>\n",
       "      <td>56360</td>\n",
       "      <td>4</td>\n",
       "      <td>0.088889</td>\n",
       "      <td>Kildare / Trinity</td>\n",
       "      <td>NaN</td>\n",
       "      <td>45.467605</td>\n",
       "      <td>-73.667228</td>\n",
       "      <td>0</td>\n",
       "      <td>1</td>\n",
       "      <td>45.466102</td>\n",
       "      <td>-73.668378</td>\n",
       "      <td>2025-05-15</td>\n",
       "      <td>2025-05-15 04:56:31-04:00</td>\n",
       "    </tr>\n",
       "    <tr>\n",
       "      <th>4</th>\n",
       "      <td>280882183</td>\n",
       "      <td>04:56:51</td>\n",
       "      <td>04:56:51</td>\n",
       "      <td>56366</td>\n",
       "      <td>5</td>\n",
       "      <td>0.111111</td>\n",
       "      <td>Kildare / Parkhaven</td>\n",
       "      <td>NaN</td>\n",
       "      <td>45.468664</td>\n",
       "      <td>-73.666418</td>\n",
       "      <td>0</td>\n",
       "      <td>1</td>\n",
       "      <td>45.467605</td>\n",
       "      <td>-73.667228</td>\n",
       "      <td>2025-05-15</td>\n",
       "      <td>2025-05-15 04:56:51-04:00</td>\n",
       "    </tr>\n",
       "  </tbody>\n",
       "</table>\n",
       "</div>"
      ],
      "text/plain": [
       "     trip_id arrival_time departure_time  stop_id  stop_sequence  \\\n",
       "0  280882183     04:55:00       04:55:00    56338              1   \n",
       "1  280882183     04:55:31       04:55:31    56345              2   \n",
       "2  280882183     04:56:04       04:56:04    56348              3   \n",
       "3  280882183     04:56:31       04:56:31    56360              4   \n",
       "4  280882183     04:56:51       04:56:51    56366              5   \n",
       "\n",
       "   trip_progress              stop_name neighbourhood   stop_lat   stop_lon  \\\n",
       "0       0.022222  Kildare / Westminster           NaN  45.462603 -73.671081   \n",
       "1       0.044444     Kildare / McMurray           NaN  45.464317 -73.669748   \n",
       "2       0.066667      Kildare / Melling           NaN  45.466102 -73.668378   \n",
       "3       0.088889      Kildare / Trinity           NaN  45.467605 -73.667228   \n",
       "4       0.111111    Kildare / Parkhaven           NaN  45.468664 -73.666418   \n",
       "\n",
       "   location_type  wheelchair_boarding   prev_lat   prev_lon      today  \\\n",
       "0              0                    1        NaN        NaN 2025-05-15   \n",
       "1              0                    1  45.462603 -73.671081 2025-05-15   \n",
       "2              0                    1  45.464317 -73.669748 2025-05-15   \n",
       "3              0                    1  45.466102 -73.668378 2025-05-15   \n",
       "4              0                    1  45.467605 -73.667228 2025-05-15   \n",
       "\n",
       "                parsed_time  \n",
       "0 2025-05-15 04:55:00-04:00  \n",
       "1 2025-05-15 04:55:31-04:00  \n",
       "2 2025-05-15 04:56:04-04:00  \n",
       "3 2025-05-15 04:56:31-04:00  \n",
       "4 2025-05-15 04:56:51-04:00  "
      ]
     },
     "execution_count": 15,
     "metadata": {},
     "output_type": "execute_result"
    }
   ],
   "source": [
    "schedules_stops_df.head()"
   ]
  },
  {
   "cell_type": "code",
   "execution_count": 16,
   "id": "7b8ecf24",
   "metadata": {},
   "outputs": [],
   "source": [
    "# Calculate expected trip duration\n",
    "schedules_stops_df['trip_start'] = schedules_stops_df.groupby('trip_id')['parsed_time'].transform('min')\n",
    "schedules_stops_df['trip_end'] = schedules_stops_df.groupby('trip_id')['parsed_time'].transform('max')\n",
    "schedules_stops_df['exp_trip_duration'] = (schedules_stops_df['trip_end'] - schedules_stops_df['trip_start']) / pd.Timedelta(seconds=1)"
   ]
  },
  {
   "cell_type": "code",
   "execution_count": 17,
   "id": "6fb7670f",
   "metadata": {},
   "outputs": [
    {
     "data": {
      "text/plain": [
       "count    6.388741e+06\n",
       "mean     2.514089e+03\n",
       "std      8.689949e+02\n",
       "min      2.400000e+02\n",
       "25%      1.860000e+03\n",
       "50%      2.460000e+03\n",
       "75%      3.120000e+03\n",
       "max      6.840000e+03\n",
       "Name: exp_trip_duration, dtype: float64"
      ]
     },
     "execution_count": 17,
     "metadata": {},
     "output_type": "execute_result"
    }
   ],
   "source": [
    "# Get distribution\n",
    "schedules_stops_df['exp_trip_duration'].describe()"
   ]
  },
  {
   "cell_type": "code",
   "execution_count": 19,
   "id": "1c08270c",
   "metadata": {},
   "outputs": [
    {
     "data": {
      "text/html": [
       "<div>\n",
       "<style scoped>\n",
       "    .dataframe tbody tr th:only-of-type {\n",
       "        vertical-align: middle;\n",
       "    }\n",
       "\n",
       "    .dataframe tbody tr th {\n",
       "        vertical-align: top;\n",
       "    }\n",
       "\n",
       "    .dataframe thead th {\n",
       "        text-align: right;\n",
       "    }\n",
       "</style>\n",
       "<table border=\"1\" class=\"dataframe\">\n",
       "  <thead>\n",
       "    <tr style=\"text-align: right;\">\n",
       "      <th></th>\n",
       "      <th>trip_id</th>\n",
       "      <th>arrival_time</th>\n",
       "      <th>departure_time</th>\n",
       "      <th>stop_id</th>\n",
       "      <th>first_stop_id</th>\n",
       "      <th>last_stop_id</th>\n",
       "      <th>stop_sequence</th>\n",
       "      <th>trip_progress</th>\n",
       "      <th>stop_name</th>\n",
       "      <th>neighbourhood</th>\n",
       "      <th>...</th>\n",
       "      <th>stop_lon</th>\n",
       "      <th>location_type</th>\n",
       "      <th>wheelchair_boarding</th>\n",
       "      <th>prev_lat</th>\n",
       "      <th>prev_lon</th>\n",
       "      <th>today</th>\n",
       "      <th>parsed_time</th>\n",
       "      <th>trip_start</th>\n",
       "      <th>trip_end</th>\n",
       "      <th>exp_trip_duration</th>\n",
       "    </tr>\n",
       "  </thead>\n",
       "  <tbody>\n",
       "    <tr>\n",
       "      <th>0</th>\n",
       "      <td>280882183</td>\n",
       "      <td>04:55:00</td>\n",
       "      <td>04:55:00</td>\n",
       "      <td>56338</td>\n",
       "      <td>56338</td>\n",
       "      <td>51648</td>\n",
       "      <td>1</td>\n",
       "      <td>0.022222</td>\n",
       "      <td>Kildare / Westminster</td>\n",
       "      <td>NaN</td>\n",
       "      <td>...</td>\n",
       "      <td>-73.671081</td>\n",
       "      <td>0</td>\n",
       "      <td>1</td>\n",
       "      <td>NaN</td>\n",
       "      <td>NaN</td>\n",
       "      <td>2025-05-15</td>\n",
       "      <td>2025-05-15 04:55:00-04:00</td>\n",
       "      <td>2025-05-15 04:55:00-04:00</td>\n",
       "      <td>2025-05-15 05:27:00-04:00</td>\n",
       "      <td>1920.0</td>\n",
       "    </tr>\n",
       "    <tr>\n",
       "      <th>1</th>\n",
       "      <td>280882183</td>\n",
       "      <td>04:55:31</td>\n",
       "      <td>04:55:31</td>\n",
       "      <td>56345</td>\n",
       "      <td>56338</td>\n",
       "      <td>51648</td>\n",
       "      <td>2</td>\n",
       "      <td>0.044444</td>\n",
       "      <td>Kildare / McMurray</td>\n",
       "      <td>NaN</td>\n",
       "      <td>...</td>\n",
       "      <td>-73.669748</td>\n",
       "      <td>0</td>\n",
       "      <td>1</td>\n",
       "      <td>45.462603</td>\n",
       "      <td>-73.671081</td>\n",
       "      <td>2025-05-15</td>\n",
       "      <td>2025-05-15 04:55:31-04:00</td>\n",
       "      <td>2025-05-15 04:55:00-04:00</td>\n",
       "      <td>2025-05-15 05:27:00-04:00</td>\n",
       "      <td>1920.0</td>\n",
       "    </tr>\n",
       "    <tr>\n",
       "      <th>2</th>\n",
       "      <td>280882183</td>\n",
       "      <td>04:56:04</td>\n",
       "      <td>04:56:04</td>\n",
       "      <td>56348</td>\n",
       "      <td>56338</td>\n",
       "      <td>51648</td>\n",
       "      <td>3</td>\n",
       "      <td>0.066667</td>\n",
       "      <td>Kildare / Melling</td>\n",
       "      <td>NaN</td>\n",
       "      <td>...</td>\n",
       "      <td>-73.668378</td>\n",
       "      <td>0</td>\n",
       "      <td>1</td>\n",
       "      <td>45.464317</td>\n",
       "      <td>-73.669748</td>\n",
       "      <td>2025-05-15</td>\n",
       "      <td>2025-05-15 04:56:04-04:00</td>\n",
       "      <td>2025-05-15 04:55:00-04:00</td>\n",
       "      <td>2025-05-15 05:27:00-04:00</td>\n",
       "      <td>1920.0</td>\n",
       "    </tr>\n",
       "    <tr>\n",
       "      <th>3</th>\n",
       "      <td>280882183</td>\n",
       "      <td>04:56:31</td>\n",
       "      <td>04:56:31</td>\n",
       "      <td>56360</td>\n",
       "      <td>56338</td>\n",
       "      <td>51648</td>\n",
       "      <td>4</td>\n",
       "      <td>0.088889</td>\n",
       "      <td>Kildare / Trinity</td>\n",
       "      <td>NaN</td>\n",
       "      <td>...</td>\n",
       "      <td>-73.667228</td>\n",
       "      <td>0</td>\n",
       "      <td>1</td>\n",
       "      <td>45.466102</td>\n",
       "      <td>-73.668378</td>\n",
       "      <td>2025-05-15</td>\n",
       "      <td>2025-05-15 04:56:31-04:00</td>\n",
       "      <td>2025-05-15 04:55:00-04:00</td>\n",
       "      <td>2025-05-15 05:27:00-04:00</td>\n",
       "      <td>1920.0</td>\n",
       "    </tr>\n",
       "    <tr>\n",
       "      <th>4</th>\n",
       "      <td>280882183</td>\n",
       "      <td>04:56:51</td>\n",
       "      <td>04:56:51</td>\n",
       "      <td>56366</td>\n",
       "      <td>56338</td>\n",
       "      <td>51648</td>\n",
       "      <td>5</td>\n",
       "      <td>0.111111</td>\n",
       "      <td>Kildare / Parkhaven</td>\n",
       "      <td>NaN</td>\n",
       "      <td>...</td>\n",
       "      <td>-73.666418</td>\n",
       "      <td>0</td>\n",
       "      <td>1</td>\n",
       "      <td>45.467605</td>\n",
       "      <td>-73.667228</td>\n",
       "      <td>2025-05-15</td>\n",
       "      <td>2025-05-15 04:56:51-04:00</td>\n",
       "      <td>2025-05-15 04:55:00-04:00</td>\n",
       "      <td>2025-05-15 05:27:00-04:00</td>\n",
       "      <td>1920.0</td>\n",
       "    </tr>\n",
       "  </tbody>\n",
       "</table>\n",
       "<p>5 rows × 21 columns</p>\n",
       "</div>"
      ],
      "text/plain": [
       "     trip_id arrival_time departure_time  stop_id  first_stop_id  \\\n",
       "0  280882183     04:55:00       04:55:00    56338          56338   \n",
       "1  280882183     04:55:31       04:55:31    56345          56338   \n",
       "2  280882183     04:56:04       04:56:04    56348          56338   \n",
       "3  280882183     04:56:31       04:56:31    56360          56338   \n",
       "4  280882183     04:56:51       04:56:51    56366          56338   \n",
       "\n",
       "   last_stop_id  stop_sequence  trip_progress              stop_name  \\\n",
       "0         51648              1       0.022222  Kildare / Westminster   \n",
       "1         51648              2       0.044444     Kildare / McMurray   \n",
       "2         51648              3       0.066667      Kildare / Melling   \n",
       "3         51648              4       0.088889      Kildare / Trinity   \n",
       "4         51648              5       0.111111    Kildare / Parkhaven   \n",
       "\n",
       "  neighbourhood  ...   stop_lon  location_type  wheelchair_boarding  \\\n",
       "0           NaN  ... -73.671081              0                    1   \n",
       "1           NaN  ... -73.669748              0                    1   \n",
       "2           NaN  ... -73.668378              0                    1   \n",
       "3           NaN  ... -73.667228              0                    1   \n",
       "4           NaN  ... -73.666418              0                    1   \n",
       "\n",
       "    prev_lat   prev_lon      today               parsed_time  \\\n",
       "0        NaN        NaN 2025-05-15 2025-05-15 04:55:00-04:00   \n",
       "1  45.462603 -73.671081 2025-05-15 2025-05-15 04:55:31-04:00   \n",
       "2  45.464317 -73.669748 2025-05-15 2025-05-15 04:56:04-04:00   \n",
       "3  45.466102 -73.668378 2025-05-15 2025-05-15 04:56:31-04:00   \n",
       "4  45.467605 -73.667228 2025-05-15 2025-05-15 04:56:51-04:00   \n",
       "\n",
       "                 trip_start                  trip_end exp_trip_duration  \n",
       "0 2025-05-15 04:55:00-04:00 2025-05-15 05:27:00-04:00            1920.0  \n",
       "1 2025-05-15 04:55:00-04:00 2025-05-15 05:27:00-04:00            1920.0  \n",
       "2 2025-05-15 04:55:00-04:00 2025-05-15 05:27:00-04:00            1920.0  \n",
       "3 2025-05-15 04:55:00-04:00 2025-05-15 05:27:00-04:00            1920.0  \n",
       "4 2025-05-15 04:55:00-04:00 2025-05-15 05:27:00-04:00            1920.0  \n",
       "\n",
       "[5 rows x 21 columns]"
      ]
     },
     "execution_count": 19,
     "metadata": {},
     "output_type": "execute_result"
    }
   ],
   "source": [
    "# Get first and last stop ids (to see where the vehicle is coming from and where it is going)\n",
    "stop_id_index = schedules_stops_df.columns.get_loc('stop_id')\n",
    "first_stop_id = schedules_stops_df.groupby('trip_id')['stop_id'].transform('first')\n",
    "last_stop_id = schedules_stops_df.groupby('trip_id')['stop_id'].transform('last')\n",
    "schedules_stops_df.insert(stop_id_index + 1, 'first_stop_id', first_stop_id)\n",
    "schedules_stops_df.insert(stop_id_index + 2, 'last_stop_id', last_stop_id)\n",
    "schedules_stops_df.head()\n"
   ]
  },
  {
   "cell_type": "code",
   "execution_count": 20,
   "id": "b544cb6a",
   "metadata": {},
   "outputs": [],
   "source": [
    "# Create GeoDataFrames for previous and current stop\n",
    "sch_gdf1 = gpd.GeoDataFrame(\n",
    "  schedules_stops_df[['prev_lon', 'prev_lat']],\n",
    "  geometry=gpd.points_from_xy(schedules_stops_df['prev_lon'], schedules_stops_df['prev_lat']),\n",
    "  crs='EPSG:4326' # WGS84 (sea level)\n",
    ").to_crs(epsg=3857) # Convert to metric\n",
    "\n",
    "sch_gdf2 = gpd.GeoDataFrame(\n",
    "  schedules_stops_df[['stop_lon', 'stop_lat']],\n",
    "  geometry=gpd.points_from_xy(schedules_stops_df['stop_lon'], schedules_stops_df['stop_lat']),\n",
    "  crs='EPSG:4326'\n",
    ").to_crs(epsg=3857)"
   ]
  },
  {
   "cell_type": "code",
   "execution_count": 21,
   "id": "e9b93e3f",
   "metadata": {},
   "outputs": [
    {
     "data": {
      "text/plain": [
       "count    6.216518e+06\n",
       "mean     4.019345e+02\n",
       "std      7.161721e+02\n",
       "min      2.092191e+01\n",
       "25%      2.490739e+02\n",
       "50%      3.286372e+02\n",
       "75%      4.299291e+02\n",
       "max      1.965439e+04\n",
       "Name: stop_distance, dtype: float64"
      ]
     },
     "execution_count": 21,
     "metadata": {},
     "output_type": "execute_result"
    }
   ],
   "source": [
    "# Calculate distance from previous stop\n",
    "schedules_stops_df['stop_distance'] = sch_gdf1.distance(sch_gdf2)\n",
    "schedules_stops_df['stop_distance'].describe()"
   ]
  },
  {
   "cell_type": "code",
   "execution_count": 22,
   "id": "ecd75d21",
   "metadata": {},
   "outputs": [],
   "source": [
    "# Replace null distances by zero (first stop of the trip)\n",
    "schedules_stops_df['stop_distance'] = schedules_stops_df['stop_distance'].fillna(0)\n",
    "assert schedules_stops_df['stop_distance'].isna().sum() == 0"
   ]
  },
  {
   "cell_type": "code",
   "execution_count": 23,
   "id": "5e861489",
   "metadata": {},
   "outputs": [
    {
     "data": {
      "text/plain": [
       "Index(['trip_id', 'arrival_time', 'departure_time', 'stop_id', 'first_stop_id',\n",
       "       'last_stop_id', 'stop_sequence', 'trip_progress', 'stop_name',\n",
       "       'neighbourhood', 'stop_lat', 'stop_lon', 'location_type',\n",
       "       'wheelchair_boarding', 'prev_lat', 'prev_lon', 'today', 'parsed_time',\n",
       "       'trip_start', 'trip_end', 'exp_trip_duration', 'stop_distance'],\n",
       "      dtype='object')"
      ]
     },
     "execution_count": 23,
     "metadata": {},
     "output_type": "execute_result"
    }
   ],
   "source": [
    "schedules_stops_df.columns"
   ]
  },
  {
   "cell_type": "code",
   "execution_count": 24,
   "id": "81aac6e6",
   "metadata": {},
   "outputs": [],
   "source": [
    "# Drop unneeded columns\n",
    "schedules_stops_df = schedules_stops_df.drop([\n",
    "  'prev_lat',\n",
    "  'prev_lon',\n",
    "  'parsed_time',\n",
    "  'today',\n",
    "  'trip_start', \n",
    "  'trip_end',\n",
    "  ], axis=1)"
   ]
  },
  {
   "cell_type": "markdown",
   "id": "a66bea68",
   "metadata": {},
   "source": [
    "### Trips"
   ]
  },
  {
   "cell_type": "code",
   "execution_count": 25,
   "id": "b92861b0",
   "metadata": {},
   "outputs": [],
   "source": [
    "# Keep relevant columns\n",
    "trips_df = trips_df[['trip_id', 'route_id', 'trip_headsign', 'wheelchair_accessible']]"
   ]
  },
  {
   "cell_type": "code",
   "execution_count": 26,
   "id": "14997772",
   "metadata": {},
   "outputs": [],
   "source": [
    "# Rename trip_headsign\n",
    "trips_df = trips_df.rename(columns={'trip_headsign': 'route_direction'})"
   ]
  },
  {
   "cell_type": "code",
   "execution_count": 27,
   "id": "79d7e36c",
   "metadata": {},
   "outputs": [
    {
     "data": {
      "text/plain": [
       "route_direction\n",
       "West     58582\n",
       "East     57518\n",
       "North    28531\n",
       "South    27592\n",
       "Metro    12372\n",
       "Name: count, dtype: int64"
      ]
     },
     "execution_count": 27,
     "metadata": {},
     "output_type": "execute_result"
    }
   ],
   "source": [
    "# Translate directions\n",
    "condition_list = [\n",
    "\ttrips_df['route_direction'].str.contains('Nord'),\n",
    "\ttrips_df['route_direction'].str.contains('Sud'),\n",
    "  \ttrips_df['route_direction'].str.contains('Ouest'),\n",
    "  \ttrips_df['route_direction'].str.contains('Est'),\n",
    "]\n",
    "label_list = ['North', 'South', 'West', 'East']\n",
    "\n",
    "trips_df['route_direction'] = np.select(condition_list, label_list, default='Metro')\t\n",
    "trips_df['route_direction'].value_counts()"
   ]
  },
  {
   "cell_type": "code",
   "execution_count": 28,
   "id": "892dead1",
   "metadata": {},
   "outputs": [
    {
     "name": "stdout",
     "output_type": "stream",
     "text": [
      "<class 'pandas.core.frame.DataFrame'>\n",
      "RangeIndex: 184595 entries, 0 to 184594\n",
      "Data columns (total 4 columns):\n",
      " #   Column                 Non-Null Count   Dtype \n",
      "---  ------                 --------------   ----- \n",
      " 0   trip_id                184595 non-null  int64 \n",
      " 1   route_id               184595 non-null  int64 \n",
      " 2   route_direction        184595 non-null  object\n",
      " 3   wheelchair_accessible  184595 non-null  int64 \n",
      "dtypes: int64(3), object(1)\n",
      "memory usage: 5.6+ MB\n"
     ]
    }
   ],
   "source": [
    "trips_df.info()"
   ]
  },
  {
   "cell_type": "code",
   "execution_count": 29,
   "id": "e2e064c0",
   "metadata": {},
   "outputs": [
    {
     "data": {
      "text/plain": [
       "Index(['trip_id', 'arrival_time', 'departure_time', 'stop_id', 'first_stop_id',\n",
       "       'last_stop_id', 'stop_sequence', 'trip_progress', 'stop_name',\n",
       "       'neighbourhood', 'stop_lat', 'stop_lon', 'location_type',\n",
       "       'wheelchair_boarding', 'exp_trip_duration', 'stop_distance'],\n",
       "      dtype='object')"
      ]
     },
     "execution_count": 29,
     "metadata": {},
     "output_type": "execute_result"
    }
   ],
   "source": [
    "schedules_stops_df.columns"
   ]
  },
  {
   "cell_type": "code",
   "execution_count": 30,
   "id": "4751c053",
   "metadata": {},
   "outputs": [],
   "source": [
    "# Merge with schedules and stops\n",
    "scheduled_trips_df = pd.merge(left=schedules_stops_df, right=trips_df, how='inner', on='trip_id')"
   ]
  },
  {
   "cell_type": "code",
   "execution_count": 31,
   "id": "1be4c4e0",
   "metadata": {},
   "outputs": [
    {
     "data": {
      "text/plain": [
       "trip_id                        0\n",
       "arrival_time                   0\n",
       "departure_time                 0\n",
       "stop_id                        0\n",
       "first_stop_id                  0\n",
       "last_stop_id                   0\n",
       "stop_sequence                  0\n",
       "trip_progress                  0\n",
       "stop_name                      0\n",
       "neighbourhood            3908963\n",
       "stop_lat                       0\n",
       "stop_lon                       0\n",
       "location_type                  0\n",
       "wheelchair_boarding            0\n",
       "exp_trip_duration              0\n",
       "stop_distance                  0\n",
       "route_id                       0\n",
       "route_direction                0\n",
       "wheelchair_accessible          0\n",
       "dtype: int64"
      ]
     },
     "execution_count": 31,
     "metadata": {},
     "output_type": "execute_result"
    }
   ],
   "source": [
    "scheduled_trips_df.isna().sum()"
   ]
  },
  {
   "cell_type": "code",
   "execution_count": 32,
   "id": "7e822aa1",
   "metadata": {},
   "outputs": [
    {
     "data": {
      "text/html": [
       "<div>\n",
       "<style scoped>\n",
       "    .dataframe tbody tr th:only-of-type {\n",
       "        vertical-align: middle;\n",
       "    }\n",
       "\n",
       "    .dataframe tbody tr th {\n",
       "        vertical-align: top;\n",
       "    }\n",
       "\n",
       "    .dataframe thead th {\n",
       "        text-align: right;\n",
       "    }\n",
       "</style>\n",
       "<table border=\"1\" class=\"dataframe\">\n",
       "  <thead>\n",
       "    <tr style=\"text-align: right;\">\n",
       "      <th></th>\n",
       "      <th>trip_id</th>\n",
       "      <th>arrival_time</th>\n",
       "      <th>departure_time</th>\n",
       "      <th>stop_id</th>\n",
       "      <th>first_stop_id</th>\n",
       "      <th>last_stop_id</th>\n",
       "      <th>stop_sequence</th>\n",
       "      <th>trip_progress</th>\n",
       "      <th>stop_name</th>\n",
       "      <th>neighbourhood</th>\n",
       "      <th>stop_lat</th>\n",
       "      <th>stop_lon</th>\n",
       "      <th>location_type</th>\n",
       "      <th>wheelchair_boarding</th>\n",
       "      <th>exp_trip_duration</th>\n",
       "      <th>stop_distance</th>\n",
       "      <th>route_id</th>\n",
       "      <th>route_direction</th>\n",
       "      <th>wheelchair_accessible</th>\n",
       "    </tr>\n",
       "  </thead>\n",
       "  <tbody>\n",
       "    <tr>\n",
       "      <th>11</th>\n",
       "      <td>280882183</td>\n",
       "      <td>05:01:32</td>\n",
       "      <td>05:01:32</td>\n",
       "      <td>56408</td>\n",
       "      <td>56338</td>\n",
       "      <td>51648</td>\n",
       "      <td>12</td>\n",
       "      <td>0.266667</td>\n",
       "      <td>Fleet / Pinedale</td>\n",
       "      <td>NaN</td>\n",
       "      <td>45.476701</td>\n",
       "      <td>-73.651768</td>\n",
       "      <td>0</td>\n",
       "      <td>2</td>\n",
       "      <td>1920.0</td>\n",
       "      <td>196.708155</td>\n",
       "      <td>161</td>\n",
       "      <td>East</td>\n",
       "      <td>1</td>\n",
       "    </tr>\n",
       "    <tr>\n",
       "      <th>13</th>\n",
       "      <td>280882183</td>\n",
       "      <td>05:02:36</td>\n",
       "      <td>05:02:36</td>\n",
       "      <td>56312</td>\n",
       "      <td>56338</td>\n",
       "      <td>51648</td>\n",
       "      <td>14</td>\n",
       "      <td>0.311111</td>\n",
       "      <td>Fleet / Queen-Mary</td>\n",
       "      <td>NaN</td>\n",
       "      <td>45.480657</td>\n",
       "      <td>-73.648178</td>\n",
       "      <td>0</td>\n",
       "      <td>2</td>\n",
       "      <td>1920.0</td>\n",
       "      <td>541.352107</td>\n",
       "      <td>161</td>\n",
       "      <td>East</td>\n",
       "      <td>1</td>\n",
       "    </tr>\n",
       "    <tr>\n",
       "      <th>16</th>\n",
       "      <td>280882183</td>\n",
       "      <td>05:04:00</td>\n",
       "      <td>05:04:00</td>\n",
       "      <td>50643</td>\n",
       "      <td>56338</td>\n",
       "      <td>51648</td>\n",
       "      <td>17</td>\n",
       "      <td>0.377778</td>\n",
       "      <td>Fleet / Macdonald</td>\n",
       "      <td>NaN</td>\n",
       "      <td>45.486138</td>\n",
       "      <td>-73.645128</td>\n",
       "      <td>0</td>\n",
       "      <td>2</td>\n",
       "      <td>1920.0</td>\n",
       "      <td>258.106536</td>\n",
       "      <td>161</td>\n",
       "      <td>East</td>\n",
       "      <td>1</td>\n",
       "    </tr>\n",
       "    <tr>\n",
       "      <th>37</th>\n",
       "      <td>280882183</td>\n",
       "      <td>05:19:00</td>\n",
       "      <td>05:19:00</td>\n",
       "      <td>62052</td>\n",
       "      <td>56338</td>\n",
       "      <td>51648</td>\n",
       "      <td>38</td>\n",
       "      <td>0.844444</td>\n",
       "      <td>Van Horne / Dollard</td>\n",
       "      <td>NaN</td>\n",
       "      <td>45.519290</td>\n",
       "      <td>-73.615882</td>\n",
       "      <td>0</td>\n",
       "      <td>2</td>\n",
       "      <td>1920.0</td>\n",
       "      <td>113.545144</td>\n",
       "      <td>161</td>\n",
       "      <td>East</td>\n",
       "      <td>1</td>\n",
       "    </tr>\n",
       "    <tr>\n",
       "      <th>38</th>\n",
       "      <td>280882183</td>\n",
       "      <td>05:19:53</td>\n",
       "      <td>05:19:53</td>\n",
       "      <td>61990</td>\n",
       "      <td>56338</td>\n",
       "      <td>51648</td>\n",
       "      <td>39</td>\n",
       "      <td>0.866667</td>\n",
       "      <td>Station Outremont (Van Horne / Outremont)</td>\n",
       "      <td>NaN</td>\n",
       "      <td>45.521152</td>\n",
       "      <td>-73.614188</td>\n",
       "      <td>0</td>\n",
       "      <td>2</td>\n",
       "      <td>1920.0</td>\n",
       "      <td>350.823560</td>\n",
       "      <td>161</td>\n",
       "      <td>East</td>\n",
       "      <td>1</td>\n",
       "    </tr>\n",
       "    <tr>\n",
       "      <th>...</th>\n",
       "      <td>...</td>\n",
       "      <td>...</td>\n",
       "      <td>...</td>\n",
       "      <td>...</td>\n",
       "      <td>...</td>\n",
       "      <td>...</td>\n",
       "      <td>...</td>\n",
       "      <td>...</td>\n",
       "      <td>...</td>\n",
       "      <td>...</td>\n",
       "      <td>...</td>\n",
       "      <td>...</td>\n",
       "      <td>...</td>\n",
       "      <td>...</td>\n",
       "      <td>...</td>\n",
       "      <td>...</td>\n",
       "      <td>...</td>\n",
       "      <td>...</td>\n",
       "      <td>...</td>\n",
       "    </tr>\n",
       "    <tr>\n",
       "      <th>6388736</th>\n",
       "      <td>286597927</td>\n",
       "      <td>25:35:00</td>\n",
       "      <td>25:35:00</td>\n",
       "      <td>62199</td>\n",
       "      <td>62202</td>\n",
       "      <td>62199</td>\n",
       "      <td>2</td>\n",
       "      <td>1.000000</td>\n",
       "      <td>De La Gauchetière / Robert-Bourassa</td>\n",
       "      <td>Vieux-Montréal</td>\n",
       "      <td>45.499992</td>\n",
       "      <td>-73.565764</td>\n",
       "      <td>0</td>\n",
       "      <td>1</td>\n",
       "      <td>900.0</td>\n",
       "      <td>5823.342923</td>\n",
       "      <td>568</td>\n",
       "      <td>North</td>\n",
       "      <td>2</td>\n",
       "    </tr>\n",
       "    <tr>\n",
       "      <th>6388737</th>\n",
       "      <td>286597928</td>\n",
       "      <td>25:40:00</td>\n",
       "      <td>25:40:00</td>\n",
       "      <td>62202</td>\n",
       "      <td>62202</td>\n",
       "      <td>62199</td>\n",
       "      <td>1</td>\n",
       "      <td>0.500000</td>\n",
       "      <td>Station REM Île-des-Soeurs</td>\n",
       "      <td>NaN</td>\n",
       "      <td>45.469756</td>\n",
       "      <td>-73.536156</td>\n",
       "      <td>0</td>\n",
       "      <td>1</td>\n",
       "      <td>900.0</td>\n",
       "      <td>0.000000</td>\n",
       "      <td>568</td>\n",
       "      <td>North</td>\n",
       "      <td>2</td>\n",
       "    </tr>\n",
       "    <tr>\n",
       "      <th>6388738</th>\n",
       "      <td>286597928</td>\n",
       "      <td>25:55:00</td>\n",
       "      <td>25:55:00</td>\n",
       "      <td>62199</td>\n",
       "      <td>62202</td>\n",
       "      <td>62199</td>\n",
       "      <td>2</td>\n",
       "      <td>1.000000</td>\n",
       "      <td>De La Gauchetière / Robert-Bourassa</td>\n",
       "      <td>Vieux-Montréal</td>\n",
       "      <td>45.499992</td>\n",
       "      <td>-73.565764</td>\n",
       "      <td>0</td>\n",
       "      <td>1</td>\n",
       "      <td>900.0</td>\n",
       "      <td>5823.342923</td>\n",
       "      <td>568</td>\n",
       "      <td>North</td>\n",
       "      <td>2</td>\n",
       "    </tr>\n",
       "    <tr>\n",
       "      <th>6388739</th>\n",
       "      <td>286597929</td>\n",
       "      <td>25:40:00</td>\n",
       "      <td>25:40:00</td>\n",
       "      <td>62199</td>\n",
       "      <td>62199</td>\n",
       "      <td>62202</td>\n",
       "      <td>1</td>\n",
       "      <td>0.500000</td>\n",
       "      <td>De La Gauchetière / Robert-Bourassa</td>\n",
       "      <td>Vieux-Montréal</td>\n",
       "      <td>45.499992</td>\n",
       "      <td>-73.565764</td>\n",
       "      <td>0</td>\n",
       "      <td>1</td>\n",
       "      <td>900.0</td>\n",
       "      <td>0.000000</td>\n",
       "      <td>568</td>\n",
       "      <td>South</td>\n",
       "      <td>2</td>\n",
       "    </tr>\n",
       "    <tr>\n",
       "      <th>6388740</th>\n",
       "      <td>286597929</td>\n",
       "      <td>25:55:00</td>\n",
       "      <td>25:55:00</td>\n",
       "      <td>62202</td>\n",
       "      <td>62199</td>\n",
       "      <td>62202</td>\n",
       "      <td>2</td>\n",
       "      <td>1.000000</td>\n",
       "      <td>Station REM Île-des-Soeurs</td>\n",
       "      <td>NaN</td>\n",
       "      <td>45.469756</td>\n",
       "      <td>-73.536156</td>\n",
       "      <td>0</td>\n",
       "      <td>1</td>\n",
       "      <td>900.0</td>\n",
       "      <td>5823.342923</td>\n",
       "      <td>568</td>\n",
       "      <td>South</td>\n",
       "      <td>2</td>\n",
       "    </tr>\n",
       "  </tbody>\n",
       "</table>\n",
       "<p>1887543 rows × 19 columns</p>\n",
       "</div>"
      ],
      "text/plain": [
       "           trip_id arrival_time departure_time  stop_id  first_stop_id  \\\n",
       "11       280882183     05:01:32       05:01:32    56408          56338   \n",
       "13       280882183     05:02:36       05:02:36    56312          56338   \n",
       "16       280882183     05:04:00       05:04:00    50643          56338   \n",
       "37       280882183     05:19:00       05:19:00    62052          56338   \n",
       "38       280882183     05:19:53       05:19:53    61990          56338   \n",
       "...            ...          ...            ...      ...            ...   \n",
       "6388736  286597927     25:35:00       25:35:00    62199          62202   \n",
       "6388737  286597928     25:40:00       25:40:00    62202          62202   \n",
       "6388738  286597928     25:55:00       25:55:00    62199          62202   \n",
       "6388739  286597929     25:40:00       25:40:00    62199          62199   \n",
       "6388740  286597929     25:55:00       25:55:00    62202          62199   \n",
       "\n",
       "         last_stop_id  stop_sequence  trip_progress  \\\n",
       "11              51648             12       0.266667   \n",
       "13              51648             14       0.311111   \n",
       "16              51648             17       0.377778   \n",
       "37              51648             38       0.844444   \n",
       "38              51648             39       0.866667   \n",
       "...               ...            ...            ...   \n",
       "6388736         62199              2       1.000000   \n",
       "6388737         62199              1       0.500000   \n",
       "6388738         62199              2       1.000000   \n",
       "6388739         62202              1       0.500000   \n",
       "6388740         62202              2       1.000000   \n",
       "\n",
       "                                         stop_name   neighbourhood   stop_lat  \\\n",
       "11                                Fleet / Pinedale             NaN  45.476701   \n",
       "13                              Fleet / Queen-Mary             NaN  45.480657   \n",
       "16                               Fleet / Macdonald             NaN  45.486138   \n",
       "37                             Van Horne / Dollard             NaN  45.519290   \n",
       "38       Station Outremont (Van Horne / Outremont)             NaN  45.521152   \n",
       "...                                            ...             ...        ...   \n",
       "6388736        De La Gauchetière / Robert-Bourassa  Vieux-Montréal  45.499992   \n",
       "6388737                 Station REM Île-des-Soeurs             NaN  45.469756   \n",
       "6388738        De La Gauchetière / Robert-Bourassa  Vieux-Montréal  45.499992   \n",
       "6388739        De La Gauchetière / Robert-Bourassa  Vieux-Montréal  45.499992   \n",
       "6388740                 Station REM Île-des-Soeurs             NaN  45.469756   \n",
       "\n",
       "          stop_lon  location_type  wheelchair_boarding  exp_trip_duration  \\\n",
       "11      -73.651768              0                    2             1920.0   \n",
       "13      -73.648178              0                    2             1920.0   \n",
       "16      -73.645128              0                    2             1920.0   \n",
       "37      -73.615882              0                    2             1920.0   \n",
       "38      -73.614188              0                    2             1920.0   \n",
       "...            ...            ...                  ...                ...   \n",
       "6388736 -73.565764              0                    1              900.0   \n",
       "6388737 -73.536156              0                    1              900.0   \n",
       "6388738 -73.565764              0                    1              900.0   \n",
       "6388739 -73.565764              0                    1              900.0   \n",
       "6388740 -73.536156              0                    1              900.0   \n",
       "\n",
       "         stop_distance  route_id route_direction  wheelchair_accessible  \n",
       "11          196.708155       161            East                      1  \n",
       "13          541.352107       161            East                      1  \n",
       "16          258.106536       161            East                      1  \n",
       "37          113.545144       161            East                      1  \n",
       "38          350.823560       161            East                      1  \n",
       "...                ...       ...             ...                    ...  \n",
       "6388736    5823.342923       568           North                      2  \n",
       "6388737       0.000000       568           North                      2  \n",
       "6388738    5823.342923       568           North                      2  \n",
       "6388739       0.000000       568           South                      2  \n",
       "6388740    5823.342923       568           South                      2  \n",
       "\n",
       "[1887543 rows x 19 columns]"
      ]
     },
     "execution_count": 32,
     "metadata": {},
     "output_type": "execute_result"
    }
   ],
   "source": [
    "# Get rows where wheelchair_boarding and wheelchair_accessible are different\n",
    "scheduled_trips_df[scheduled_trips_df['wheelchair_boarding'] != scheduled_trips_df['wheelchair_accessible']]"
   ]
  },
  {
   "cell_type": "code",
   "execution_count": 33,
   "id": "5ceb8cf0",
   "metadata": {},
   "outputs": [],
   "source": [
    "# Keep wheelchair_boarding as it's stop specific\n",
    "scheduled_trips_df = scheduled_trips_df.drop('wheelchair_accessible', axis=1)"
   ]
  },
  {
   "cell_type": "markdown",
   "id": "2ab97d0d",
   "metadata": {},
   "source": [
    "### Realtime and Scheduled Trips"
   ]
  },
  {
   "cell_type": "code",
   "execution_count": 34,
   "id": "344ab184",
   "metadata": {},
   "outputs": [],
   "source": [
    "# Convert route_id to integer\n",
    "trip_updates_df['route_id'] = trip_updates_df['route_id'].str.extract(r'(\\d+)')\n",
    "trip_updates_df['route_id'] = trip_updates_df['route_id'].astype('int64')"
   ]
  },
  {
   "cell_type": "code",
   "execution_count": 35,
   "id": "737976cb",
   "metadata": {},
   "outputs": [
    {
     "name": "stdout",
     "output_type": "stream",
     "text": [
      "10.35%\n"
     ]
    }
   ],
   "source": [
    "# Get proportion of duplicates\n",
    "subset = trip_updates_df.drop('current_time', axis=1).columns\n",
    "duplicate_mask = trip_updates_df.duplicated(subset=subset)\n",
    "print(f'{duplicate_mask.mean():.2%}')"
   ]
  },
  {
   "cell_type": "code",
   "execution_count": 36,
   "id": "7805dc80",
   "metadata": {},
   "outputs": [],
   "source": [
    "# Remove duplicates\n",
    "trip_updates_df = trip_updates_df.drop_duplicates(subset=subset, keep='last').reset_index(drop=True)"
   ]
  },
  {
   "cell_type": "code",
   "execution_count": 37,
   "id": "81c783bd",
   "metadata": {},
   "outputs": [],
   "source": [
    "# Rename arrival and departure time\n",
    "trip_updates_df = trip_updates_df.rename(columns={'arrival_time': 'rt_arrival_time','departure_time': 'rt_departure_time'})"
   ]
  },
  {
   "cell_type": "code",
   "execution_count": 38,
   "id": "38b0d876",
   "metadata": {},
   "outputs": [],
   "source": [
    "# Merge trip updates with schedule\n",
    "merged_stm_df = pd.merge(left=trip_updates_df, right=scheduled_trips_df, how='inner', on=['trip_id', 'route_id', 'stop_id'])"
   ]
  },
  {
   "cell_type": "code",
   "execution_count": 39,
   "id": "6b3231d1",
   "metadata": {},
   "outputs": [
    {
     "data": {
      "text/plain": [
       "Index(['current_time', 'trip_id', 'route_id', 'start_date', 'stop_id',\n",
       "       'rt_arrival_time', 'rt_departure_time', 'schedule_relationship',\n",
       "       'arrival_time', 'departure_time', 'first_stop_id', 'last_stop_id',\n",
       "       'stop_sequence', 'trip_progress', 'stop_name', 'neighbourhood',\n",
       "       'stop_lat', 'stop_lon', 'location_type', 'wheelchair_boarding',\n",
       "       'exp_trip_duration', 'stop_distance', 'route_direction'],\n",
       "      dtype='object')"
      ]
     },
     "execution_count": 39,
     "metadata": {},
     "output_type": "execute_result"
    }
   ],
   "source": [
    "merged_stm_df.columns"
   ]
  },
  {
   "cell_type": "code",
   "execution_count": 41,
   "id": "7e78e8ff",
   "metadata": {},
   "outputs": [
    {
     "data": {
      "text/plain": [
       "0         2025-04-27\n",
       "1         2025-04-27\n",
       "2         2025-04-27\n",
       "3         2025-04-27\n",
       "4         2025-04-27\n",
       "             ...    \n",
       "7556508   2025-05-08\n",
       "7556509   2025-05-08\n",
       "7556510   2025-05-08\n",
       "7556511   2025-05-08\n",
       "7556512   2025-05-08\n",
       "Name: start_date_dt, Length: 7556513, dtype: datetime64[ns]"
      ]
     },
     "execution_count": 41,
     "metadata": {},
     "output_type": "execute_result"
    }
   ],
   "source": [
    "# Convert start_date to datetime\n",
    "merged_stm_df['start_date_dt'] = pd.to_datetime(merged_stm_df['start_date'], format='%Y%m%d')\n",
    "merged_stm_df['start_date_dt']"
   ]
  },
  {
   "cell_type": "code",
   "execution_count": 42,
   "id": "bdd061e4",
   "metadata": {},
   "outputs": [],
   "source": [
    "# Parse GTFS scheduled arrival and departure times\n",
    "parsed_arrival_time = parse_gtfs_time(merged_stm_df, 'start_date_dt', 'arrival_time', unit='ns')\n",
    "parsed_departure_time = parse_gtfs_time(merged_stm_df, 'start_date_dt', 'departure_time', unit='ns')"
   ]
  },
  {
   "cell_type": "code",
   "execution_count": 43,
   "id": "b671a76b",
   "metadata": {},
   "outputs": [
    {
     "data": {
      "text/plain": [
       "0   2025-04-27 19:00:00-04:00\n",
       "1   2025-04-27 19:00:00-04:00\n",
       "2   2025-04-27 19:00:00-04:00\n",
       "3   2025-04-27 19:00:00-04:00\n",
       "4   2025-04-27 19:00:00-04:00\n",
       "dtype: datetime64[ns, Canada/Eastern]"
      ]
     },
     "execution_count": 43,
     "metadata": {},
     "output_type": "execute_result"
    }
   ],
   "source": [
    "parsed_arrival_time.head()"
   ]
  },
  {
   "cell_type": "code",
   "execution_count": 44,
   "id": "7d5d699f",
   "metadata": {},
   "outputs": [
    {
     "data": {
      "text/plain": [
       "0   2025-04-27 19:00:00-04:00\n",
       "1   2025-04-27 19:00:00-04:00\n",
       "2   2025-04-27 19:00:00-04:00\n",
       "3   2025-04-27 19:00:00-04:00\n",
       "4   2025-04-27 19:00:00-04:00\n",
       "dtype: datetime64[ns, Canada/Eastern]"
      ]
     },
     "execution_count": 44,
     "metadata": {},
     "output_type": "execute_result"
    }
   ],
   "source": [
    "parsed_departure_time.head()"
   ]
  },
  {
   "cell_type": "code",
   "execution_count": 45,
   "id": "c4a0c55e",
   "metadata": {},
   "outputs": [],
   "source": [
    "# Convert scheduled arrival and departure time to UTC datetime\n",
    "merged_stm_df['sch_arrival_time'] = parsed_arrival_time.dt.tz_convert(timezone.utc)\n",
    "merged_stm_df['sch_departure_time'] = parsed_departure_time.dt.tz_convert(timezone.utc)"
   ]
  },
  {
   "cell_type": "code",
   "execution_count": 46,
   "id": "e0e480b3",
   "metadata": {},
   "outputs": [],
   "source": [
    "# Get number of arrivals per hour\n",
    "merged_stm_df['arrival_hour'] = merged_stm_df['sch_arrival_time'].dt.floor('h')\n",
    "merged_stm_df['arrivals_per_hour'] = merged_stm_df.groupby(['route_id', 'route_direction', 'stop_id', 'arrival_hour']).transform('size')"
   ]
  },
  {
   "cell_type": "code",
   "execution_count": 47,
   "id": "d851e5f2",
   "metadata": {},
   "outputs": [
    {
     "data": {
      "text/html": [
       "<div>\n",
       "<style scoped>\n",
       "    .dataframe tbody tr th:only-of-type {\n",
       "        vertical-align: middle;\n",
       "    }\n",
       "\n",
       "    .dataframe tbody tr th {\n",
       "        vertical-align: top;\n",
       "    }\n",
       "\n",
       "    .dataframe thead th {\n",
       "        text-align: right;\n",
       "    }\n",
       "</style>\n",
       "<table border=\"1\" class=\"dataframe\">\n",
       "  <thead>\n",
       "    <tr style=\"text-align: right;\">\n",
       "      <th></th>\n",
       "      <th>current_time</th>\n",
       "      <th>trip_id</th>\n",
       "      <th>route_id</th>\n",
       "      <th>start_date</th>\n",
       "      <th>stop_id</th>\n",
       "      <th>rt_arrival_time</th>\n",
       "      <th>rt_departure_time</th>\n",
       "      <th>schedule_relationship</th>\n",
       "      <th>arrival_time</th>\n",
       "      <th>departure_time</th>\n",
       "      <th>...</th>\n",
       "      <th>location_type</th>\n",
       "      <th>wheelchair_boarding</th>\n",
       "      <th>exp_trip_duration</th>\n",
       "      <th>stop_distance</th>\n",
       "      <th>route_direction</th>\n",
       "      <th>start_date_dt</th>\n",
       "      <th>sch_arrival_time</th>\n",
       "      <th>sch_departure_time</th>\n",
       "      <th>arrival_hour</th>\n",
       "      <th>arrivals_per_hour</th>\n",
       "    </tr>\n",
       "  </thead>\n",
       "  <tbody>\n",
       "    <tr>\n",
       "      <th>5232</th>\n",
       "      <td>1.745791e+09</td>\n",
       "      <td>284216122</td>\n",
       "      <td>470</td>\n",
       "      <td>20250427</td>\n",
       "      <td>57794</td>\n",
       "      <td>1745792340</td>\n",
       "      <td>1745792340</td>\n",
       "      <td>0</td>\n",
       "      <td>18:19:00</td>\n",
       "      <td>18:20:00</td>\n",
       "      <td>...</td>\n",
       "      <td>0</td>\n",
       "      <td>1</td>\n",
       "      <td>2640.0</td>\n",
       "      <td>391.127323</td>\n",
       "      <td>East</td>\n",
       "      <td>2025-04-27</td>\n",
       "      <td>2025-04-27 22:19:00+00:00</td>\n",
       "      <td>2025-04-27 22:20:00+00:00</td>\n",
       "      <td>2025-04-27 22:00:00+00:00</td>\n",
       "      <td>2</td>\n",
       "    </tr>\n",
       "    <tr>\n",
       "      <th>10326</th>\n",
       "      <td>1.745791e+09</td>\n",
       "      <td>284216100</td>\n",
       "      <td>470</td>\n",
       "      <td>20250427</td>\n",
       "      <td>60415</td>\n",
       "      <td>1745792054</td>\n",
       "      <td>1745792054</td>\n",
       "      <td>0</td>\n",
       "      <td>18:06:00</td>\n",
       "      <td>18:07:00</td>\n",
       "      <td>...</td>\n",
       "      <td>0</td>\n",
       "      <td>1</td>\n",
       "      <td>3060.0</td>\n",
       "      <td>782.045238</td>\n",
       "      <td>West</td>\n",
       "      <td>2025-04-27</td>\n",
       "      <td>2025-04-27 22:06:00+00:00</td>\n",
       "      <td>2025-04-27 22:07:00+00:00</td>\n",
       "      <td>2025-04-27 22:00:00+00:00</td>\n",
       "      <td>3</td>\n",
       "    </tr>\n",
       "    <tr>\n",
       "      <th>10754</th>\n",
       "      <td>1.745791e+09</td>\n",
       "      <td>284216575</td>\n",
       "      <td>747</td>\n",
       "      <td>20250427</td>\n",
       "      <td>60997</td>\n",
       "      <td>0</td>\n",
       "      <td>1745791860</td>\n",
       "      <td>0</td>\n",
       "      <td>18:06:00</td>\n",
       "      <td>18:11:00</td>\n",
       "      <td>...</td>\n",
       "      <td>0</td>\n",
       "      <td>1</td>\n",
       "      <td>2940.0</td>\n",
       "      <td>0.000000</td>\n",
       "      <td>East</td>\n",
       "      <td>2025-04-27</td>\n",
       "      <td>2025-04-27 22:06:00+00:00</td>\n",
       "      <td>2025-04-27 22:11:00+00:00</td>\n",
       "      <td>2025-04-27 22:00:00+00:00</td>\n",
       "      <td>7</td>\n",
       "    </tr>\n",
       "    <tr>\n",
       "      <th>11788</th>\n",
       "      <td>1.745791e+09</td>\n",
       "      <td>284216533</td>\n",
       "      <td>747</td>\n",
       "      <td>20250427</td>\n",
       "      <td>60997</td>\n",
       "      <td>0</td>\n",
       "      <td>1745794440</td>\n",
       "      <td>0</td>\n",
       "      <td>18:49:00</td>\n",
       "      <td>18:54:00</td>\n",
       "      <td>...</td>\n",
       "      <td>0</td>\n",
       "      <td>1</td>\n",
       "      <td>2820.0</td>\n",
       "      <td>0.000000</td>\n",
       "      <td>East</td>\n",
       "      <td>2025-04-27</td>\n",
       "      <td>2025-04-27 22:49:00+00:00</td>\n",
       "      <td>2025-04-27 22:54:00+00:00</td>\n",
       "      <td>2025-04-27 22:00:00+00:00</td>\n",
       "      <td>7</td>\n",
       "    </tr>\n",
       "    <tr>\n",
       "      <th>12297</th>\n",
       "      <td>1.745791e+09</td>\n",
       "      <td>284216124</td>\n",
       "      <td>470</td>\n",
       "      <td>20250427</td>\n",
       "      <td>60415</td>\n",
       "      <td>1745795640</td>\n",
       "      <td>1745795700</td>\n",
       "      <td>0</td>\n",
       "      <td>19:14:00</td>\n",
       "      <td>19:15:00</td>\n",
       "      <td>...</td>\n",
       "      <td>0</td>\n",
       "      <td>1</td>\n",
       "      <td>2940.0</td>\n",
       "      <td>782.045238</td>\n",
       "      <td>West</td>\n",
       "      <td>2025-04-27</td>\n",
       "      <td>2025-04-27 23:14:00+00:00</td>\n",
       "      <td>2025-04-27 23:15:00+00:00</td>\n",
       "      <td>2025-04-27 23:00:00+00:00</td>\n",
       "      <td>3</td>\n",
       "    </tr>\n",
       "    <tr>\n",
       "      <th>...</th>\n",
       "      <td>...</td>\n",
       "      <td>...</td>\n",
       "      <td>...</td>\n",
       "      <td>...</td>\n",
       "      <td>...</td>\n",
       "      <td>...</td>\n",
       "      <td>...</td>\n",
       "      <td>...</td>\n",
       "      <td>...</td>\n",
       "      <td>...</td>\n",
       "      <td>...</td>\n",
       "      <td>...</td>\n",
       "      <td>...</td>\n",
       "      <td>...</td>\n",
       "      <td>...</td>\n",
       "      <td>...</td>\n",
       "      <td>...</td>\n",
       "      <td>...</td>\n",
       "      <td>...</td>\n",
       "      <td>...</td>\n",
       "      <td>...</td>\n",
       "    </tr>\n",
       "    <tr>\n",
       "      <th>7550531</th>\n",
       "      <td>1.746760e+09</td>\n",
       "      <td>284727179</td>\n",
       "      <td>18</td>\n",
       "      <td>20250508</td>\n",
       "      <td>53851</td>\n",
       "      <td>1746761760</td>\n",
       "      <td>1746761820</td>\n",
       "      <td>0</td>\n",
       "      <td>23:36:00</td>\n",
       "      <td>23:37:00</td>\n",
       "      <td>...</td>\n",
       "      <td>0</td>\n",
       "      <td>1</td>\n",
       "      <td>2700.0</td>\n",
       "      <td>271.004292</td>\n",
       "      <td>East</td>\n",
       "      <td>2025-05-08</td>\n",
       "      <td>2025-05-09 03:36:00+00:00</td>\n",
       "      <td>2025-05-09 03:37:00+00:00</td>\n",
       "      <td>2025-05-09 03:00:00+00:00</td>\n",
       "      <td>5</td>\n",
       "    </tr>\n",
       "    <tr>\n",
       "      <th>7551734</th>\n",
       "      <td>1.746760e+09</td>\n",
       "      <td>284728824</td>\n",
       "      <td>161</td>\n",
       "      <td>20250508</td>\n",
       "      <td>50820</td>\n",
       "      <td>1746762420</td>\n",
       "      <td>1746762540</td>\n",
       "      <td>0</td>\n",
       "      <td>23:47:00</td>\n",
       "      <td>23:49:00</td>\n",
       "      <td>...</td>\n",
       "      <td>0</td>\n",
       "      <td>1</td>\n",
       "      <td>2400.0</td>\n",
       "      <td>449.523333</td>\n",
       "      <td>West</td>\n",
       "      <td>2025-05-08</td>\n",
       "      <td>2025-05-09 03:47:00+00:00</td>\n",
       "      <td>2025-05-09 03:49:00+00:00</td>\n",
       "      <td>2025-05-09 03:00:00+00:00</td>\n",
       "      <td>1</td>\n",
       "    </tr>\n",
       "    <tr>\n",
       "      <th>7552064</th>\n",
       "      <td>1.746760e+09</td>\n",
       "      <td>284728335</td>\n",
       "      <td>161</td>\n",
       "      <td>20250508</td>\n",
       "      <td>50819</td>\n",
       "      <td>1746762180</td>\n",
       "      <td>1746762300</td>\n",
       "      <td>0</td>\n",
       "      <td>23:43:00</td>\n",
       "      <td>23:45:00</td>\n",
       "      <td>...</td>\n",
       "      <td>0</td>\n",
       "      <td>1</td>\n",
       "      <td>2160.0</td>\n",
       "      <td>328.056105</td>\n",
       "      <td>East</td>\n",
       "      <td>2025-05-08</td>\n",
       "      <td>2025-05-09 03:43:00+00:00</td>\n",
       "      <td>2025-05-09 03:45:00+00:00</td>\n",
       "      <td>2025-05-09 03:00:00+00:00</td>\n",
       "      <td>2</td>\n",
       "    </tr>\n",
       "    <tr>\n",
       "      <th>7554016</th>\n",
       "      <td>1.746760e+09</td>\n",
       "      <td>284780847</td>\n",
       "      <td>747</td>\n",
       "      <td>20250508</td>\n",
       "      <td>60997</td>\n",
       "      <td>0</td>\n",
       "      <td>1746760560</td>\n",
       "      <td>0</td>\n",
       "      <td>23:11:00</td>\n",
       "      <td>23:16:00</td>\n",
       "      <td>...</td>\n",
       "      <td>0</td>\n",
       "      <td>1</td>\n",
       "      <td>2520.0</td>\n",
       "      <td>0.000000</td>\n",
       "      <td>East</td>\n",
       "      <td>2025-05-08</td>\n",
       "      <td>2025-05-09 03:11:00+00:00</td>\n",
       "      <td>2025-05-09 03:16:00+00:00</td>\n",
       "      <td>2025-05-09 03:00:00+00:00</td>\n",
       "      <td>7</td>\n",
       "    </tr>\n",
       "    <tr>\n",
       "      <th>7555230</th>\n",
       "      <td>1.746760e+09</td>\n",
       "      <td>284780187</td>\n",
       "      <td>470</td>\n",
       "      <td>20250508</td>\n",
       "      <td>57794</td>\n",
       "      <td>1746761520</td>\n",
       "      <td>1746761520</td>\n",
       "      <td>0</td>\n",
       "      <td>23:32:00</td>\n",
       "      <td>23:34:00</td>\n",
       "      <td>...</td>\n",
       "      <td>0</td>\n",
       "      <td>1</td>\n",
       "      <td>2760.0</td>\n",
       "      <td>391.127323</td>\n",
       "      <td>East</td>\n",
       "      <td>2025-05-08</td>\n",
       "      <td>2025-05-09 03:32:00+00:00</td>\n",
       "      <td>2025-05-09 03:34:00+00:00</td>\n",
       "      <td>2025-05-09 03:00:00+00:00</td>\n",
       "      <td>3</td>\n",
       "    </tr>\n",
       "  </tbody>\n",
       "</table>\n",
       "<p>10041 rows × 28 columns</p>\n",
       "</div>"
      ],
      "text/plain": [
       "         current_time    trip_id  route_id  start_date  stop_id  \\\n",
       "5232     1.745791e+09  284216122       470    20250427    57794   \n",
       "10326    1.745791e+09  284216100       470    20250427    60415   \n",
       "10754    1.745791e+09  284216575       747    20250427    60997   \n",
       "11788    1.745791e+09  284216533       747    20250427    60997   \n",
       "12297    1.745791e+09  284216124       470    20250427    60415   \n",
       "...               ...        ...       ...         ...      ...   \n",
       "7550531  1.746760e+09  284727179        18    20250508    53851   \n",
       "7551734  1.746760e+09  284728824       161    20250508    50820   \n",
       "7552064  1.746760e+09  284728335       161    20250508    50819   \n",
       "7554016  1.746760e+09  284780847       747    20250508    60997   \n",
       "7555230  1.746760e+09  284780187       470    20250508    57794   \n",
       "\n",
       "         rt_arrival_time  rt_departure_time  schedule_relationship  \\\n",
       "5232          1745792340         1745792340                      0   \n",
       "10326         1745792054         1745792054                      0   \n",
       "10754                  0         1745791860                      0   \n",
       "11788                  0         1745794440                      0   \n",
       "12297         1745795640         1745795700                      0   \n",
       "...                  ...                ...                    ...   \n",
       "7550531       1746761760         1746761820                      0   \n",
       "7551734       1746762420         1746762540                      0   \n",
       "7552064       1746762180         1746762300                      0   \n",
       "7554016                0         1746760560                      0   \n",
       "7555230       1746761520         1746761520                      0   \n",
       "\n",
       "        arrival_time departure_time  ...  location_type  wheelchair_boarding  \\\n",
       "5232        18:19:00       18:20:00  ...              0                    1   \n",
       "10326       18:06:00       18:07:00  ...              0                    1   \n",
       "10754       18:06:00       18:11:00  ...              0                    1   \n",
       "11788       18:49:00       18:54:00  ...              0                    1   \n",
       "12297       19:14:00       19:15:00  ...              0                    1   \n",
       "...              ...            ...  ...            ...                  ...   \n",
       "7550531     23:36:00       23:37:00  ...              0                    1   \n",
       "7551734     23:47:00       23:49:00  ...              0                    1   \n",
       "7552064     23:43:00       23:45:00  ...              0                    1   \n",
       "7554016     23:11:00       23:16:00  ...              0                    1   \n",
       "7555230     23:32:00       23:34:00  ...              0                    1   \n",
       "\n",
       "         exp_trip_duration  stop_distance route_direction start_date_dt  \\\n",
       "5232                2640.0     391.127323            East    2025-04-27   \n",
       "10326               3060.0     782.045238            West    2025-04-27   \n",
       "10754               2940.0       0.000000            East    2025-04-27   \n",
       "11788               2820.0       0.000000            East    2025-04-27   \n",
       "12297               2940.0     782.045238            West    2025-04-27   \n",
       "...                    ...            ...             ...           ...   \n",
       "7550531             2700.0     271.004292            East    2025-05-08   \n",
       "7551734             2400.0     449.523333            West    2025-05-08   \n",
       "7552064             2160.0     328.056105            East    2025-05-08   \n",
       "7554016             2520.0       0.000000            East    2025-05-08   \n",
       "7555230             2760.0     391.127323            East    2025-05-08   \n",
       "\n",
       "                 sch_arrival_time        sch_departure_time  \\\n",
       "5232    2025-04-27 22:19:00+00:00 2025-04-27 22:20:00+00:00   \n",
       "10326   2025-04-27 22:06:00+00:00 2025-04-27 22:07:00+00:00   \n",
       "10754   2025-04-27 22:06:00+00:00 2025-04-27 22:11:00+00:00   \n",
       "11788   2025-04-27 22:49:00+00:00 2025-04-27 22:54:00+00:00   \n",
       "12297   2025-04-27 23:14:00+00:00 2025-04-27 23:15:00+00:00   \n",
       "...                           ...                       ...   \n",
       "7550531 2025-05-09 03:36:00+00:00 2025-05-09 03:37:00+00:00   \n",
       "7551734 2025-05-09 03:47:00+00:00 2025-05-09 03:49:00+00:00   \n",
       "7552064 2025-05-09 03:43:00+00:00 2025-05-09 03:45:00+00:00   \n",
       "7554016 2025-05-09 03:11:00+00:00 2025-05-09 03:16:00+00:00   \n",
       "7555230 2025-05-09 03:32:00+00:00 2025-05-09 03:34:00+00:00   \n",
       "\n",
       "                     arrival_hour  arrivals_per_hour  \n",
       "5232    2025-04-27 22:00:00+00:00                  2  \n",
       "10326   2025-04-27 22:00:00+00:00                  3  \n",
       "10754   2025-04-27 22:00:00+00:00                  7  \n",
       "11788   2025-04-27 22:00:00+00:00                  7  \n",
       "12297   2025-04-27 23:00:00+00:00                  3  \n",
       "...                           ...                ...  \n",
       "7550531 2025-05-09 03:00:00+00:00                  5  \n",
       "7551734 2025-05-09 03:00:00+00:00                  1  \n",
       "7552064 2025-05-09 03:00:00+00:00                  2  \n",
       "7554016 2025-05-09 03:00:00+00:00                  7  \n",
       "7555230 2025-05-09 03:00:00+00:00                  3  \n",
       "\n",
       "[10041 rows x 28 columns]"
      ]
     },
     "execution_count": 47,
     "metadata": {},
     "output_type": "execute_result"
    }
   ],
   "source": [
    "# Get rows where scheduled arrival and departure time are different\n",
    "merged_stm_df[merged_stm_df['sch_arrival_time'] != merged_stm_df['sch_departure_time']]"
   ]
  },
  {
   "cell_type": "code",
   "execution_count": 49,
   "id": "efce3671",
   "metadata": {},
   "outputs": [],
   "source": [
    "# Replace 0 timestamps with NaN\n",
    "merged_stm_df['rt_arrival_time'] = merged_stm_df['rt_arrival_time'].replace({0: np.nan})\n",
    "merged_stm_df['rt_departure_time'] = merged_stm_df['rt_departure_time'].replace({0: np.nan})"
   ]
  },
  {
   "cell_type": "code",
   "execution_count": 50,
   "id": "5a9960bc",
   "metadata": {},
   "outputs": [],
   "source": [
    "# Convert realtime arrival and departure time to UTC datetime\n",
    "merged_stm_df['rt_arrival_time'] = pd.to_datetime(merged_stm_df['rt_arrival_time'], origin='unix', unit='s', utc=True)\n",
    "merged_stm_df['rt_departure_time'] = pd.to_datetime(merged_stm_df['rt_departure_time'], origin='unix', unit='s', utc=True)"
   ]
  },
  {
   "cell_type": "code",
   "execution_count": 51,
   "id": "8c3baf17",
   "metadata": {},
   "outputs": [
    {
     "data": {
      "text/html": [
       "<div>\n",
       "<style scoped>\n",
       "    .dataframe tbody tr th:only-of-type {\n",
       "        vertical-align: middle;\n",
       "    }\n",
       "\n",
       "    .dataframe tbody tr th {\n",
       "        vertical-align: top;\n",
       "    }\n",
       "\n",
       "    .dataframe thead th {\n",
       "        text-align: right;\n",
       "    }\n",
       "</style>\n",
       "<table border=\"1\" class=\"dataframe\">\n",
       "  <thead>\n",
       "    <tr style=\"text-align: right;\">\n",
       "      <th></th>\n",
       "      <th>current_time</th>\n",
       "      <th>trip_id</th>\n",
       "      <th>route_id</th>\n",
       "      <th>start_date</th>\n",
       "      <th>stop_id</th>\n",
       "      <th>rt_arrival_time</th>\n",
       "      <th>rt_departure_time</th>\n",
       "      <th>schedule_relationship</th>\n",
       "      <th>arrival_time</th>\n",
       "      <th>departure_time</th>\n",
       "      <th>...</th>\n",
       "      <th>location_type</th>\n",
       "      <th>wheelchair_boarding</th>\n",
       "      <th>exp_trip_duration</th>\n",
       "      <th>stop_distance</th>\n",
       "      <th>route_direction</th>\n",
       "      <th>start_date_dt</th>\n",
       "      <th>sch_arrival_time</th>\n",
       "      <th>sch_departure_time</th>\n",
       "      <th>arrival_hour</th>\n",
       "      <th>arrivals_per_hour</th>\n",
       "    </tr>\n",
       "  </thead>\n",
       "  <tbody>\n",
       "    <tr>\n",
       "      <th>7321026</th>\n",
       "      <td>1.746734e+09</td>\n",
       "      <td>285008617</td>\n",
       "      <td>218</td>\n",
       "      <td>20250508</td>\n",
       "      <td>58372</td>\n",
       "      <td>2025-05-08 20:27:17+00:00</td>\n",
       "      <td>2025-05-08 20:27:17+00:00</td>\n",
       "      <td>0</td>\n",
       "      <td>16:27:17</td>\n",
       "      <td>16:27:17</td>\n",
       "      <td>...</td>\n",
       "      <td>0</td>\n",
       "      <td>2</td>\n",
       "      <td>1740.0</td>\n",
       "      <td>417.842280</td>\n",
       "      <td>West</td>\n",
       "      <td>2025-05-08</td>\n",
       "      <td>2025-05-08 20:27:17+00:00</td>\n",
       "      <td>2025-05-08 20:27:17+00:00</td>\n",
       "      <td>2025-05-08 20:00:00+00:00</td>\n",
       "      <td>3</td>\n",
       "    </tr>\n",
       "    <tr>\n",
       "      <th>629088</th>\n",
       "      <td>1.745874e+09</td>\n",
       "      <td>284728113</td>\n",
       "      <td>95</td>\n",
       "      <td>20250428</td>\n",
       "      <td>51515</td>\n",
       "      <td>2025-04-28 21:12:06+00:00</td>\n",
       "      <td>2025-04-28 21:12:06+00:00</td>\n",
       "      <td>0</td>\n",
       "      <td>17:12:06</td>\n",
       "      <td>17:12:06</td>\n",
       "      <td>...</td>\n",
       "      <td>0</td>\n",
       "      <td>1</td>\n",
       "      <td>2520.0</td>\n",
       "      <td>263.911767</td>\n",
       "      <td>East</td>\n",
       "      <td>2025-04-28</td>\n",
       "      <td>2025-04-28 21:12:06+00:00</td>\n",
       "      <td>2025-04-28 21:12:06+00:00</td>\n",
       "      <td>2025-04-28 21:00:00+00:00</td>\n",
       "      <td>2</td>\n",
       "    </tr>\n",
       "    <tr>\n",
       "      <th>6316385</th>\n",
       "      <td>1.746626e+09</td>\n",
       "      <td>284727408</td>\n",
       "      <td>179</td>\n",
       "      <td>20250507</td>\n",
       "      <td>50231</td>\n",
       "      <td>2025-05-07 14:16:41+00:00</td>\n",
       "      <td>NaT</td>\n",
       "      <td>0</td>\n",
       "      <td>10:15:00</td>\n",
       "      <td>10:15:00</td>\n",
       "      <td>...</td>\n",
       "      <td>0</td>\n",
       "      <td>1</td>\n",
       "      <td>2160.0</td>\n",
       "      <td>276.723204</td>\n",
       "      <td>North</td>\n",
       "      <td>2025-05-07</td>\n",
       "      <td>2025-05-07 14:15:00+00:00</td>\n",
       "      <td>2025-05-07 14:15:00+00:00</td>\n",
       "      <td>2025-05-07 14:00:00+00:00</td>\n",
       "      <td>2</td>\n",
       "    </tr>\n",
       "    <tr>\n",
       "      <th>2615163</th>\n",
       "      <td>1.746122e+09</td>\n",
       "      <td>284739297</td>\n",
       "      <td>48</td>\n",
       "      <td>20250501</td>\n",
       "      <td>54152</td>\n",
       "      <td>2025-05-01 18:20:00+00:00</td>\n",
       "      <td>2025-05-01 18:20:00+00:00</td>\n",
       "      <td>0</td>\n",
       "      <td>14:20:00</td>\n",
       "      <td>14:20:00</td>\n",
       "      <td>...</td>\n",
       "      <td>0</td>\n",
       "      <td>1</td>\n",
       "      <td>3360.0</td>\n",
       "      <td>541.922856</td>\n",
       "      <td>East</td>\n",
       "      <td>2025-05-01</td>\n",
       "      <td>2025-05-01 18:20:00+00:00</td>\n",
       "      <td>2025-05-01 18:20:00+00:00</td>\n",
       "      <td>2025-05-01 18:00:00+00:00</td>\n",
       "      <td>7</td>\n",
       "    </tr>\n",
       "    <tr>\n",
       "      <th>6184870</th>\n",
       "      <td>1.746612e+09</td>\n",
       "      <td>284737872</td>\n",
       "      <td>67</td>\n",
       "      <td>20250507</td>\n",
       "      <td>55334</td>\n",
       "      <td>NaT</td>\n",
       "      <td>2025-05-07 11:00:00+00:00</td>\n",
       "      <td>0</td>\n",
       "      <td>07:00:00</td>\n",
       "      <td>07:00:00</td>\n",
       "      <td>...</td>\n",
       "      <td>0</td>\n",
       "      <td>1</td>\n",
       "      <td>3000.0</td>\n",
       "      <td>0.000000</td>\n",
       "      <td>South</td>\n",
       "      <td>2025-05-07</td>\n",
       "      <td>2025-05-07 11:00:00+00:00</td>\n",
       "      <td>2025-05-07 11:00:00+00:00</td>\n",
       "      <td>2025-05-07 11:00:00+00:00</td>\n",
       "      <td>7</td>\n",
       "    </tr>\n",
       "    <tr>\n",
       "      <th>7365105</th>\n",
       "      <td>1.746738e+09</td>\n",
       "      <td>286569806</td>\n",
       "      <td>12</td>\n",
       "      <td>20250508</td>\n",
       "      <td>62163</td>\n",
       "      <td>NaT</td>\n",
       "      <td>2025-05-08 21:11:00+00:00</td>\n",
       "      <td>0</td>\n",
       "      <td>17:11:00</td>\n",
       "      <td>17:11:00</td>\n",
       "      <td>...</td>\n",
       "      <td>0</td>\n",
       "      <td>1</td>\n",
       "      <td>1920.0</td>\n",
       "      <td>0.000000</td>\n",
       "      <td>North</td>\n",
       "      <td>2025-05-08</td>\n",
       "      <td>2025-05-08 21:11:00+00:00</td>\n",
       "      <td>2025-05-08 21:11:00+00:00</td>\n",
       "      <td>2025-05-08 21:00:00+00:00</td>\n",
       "      <td>2</td>\n",
       "    </tr>\n",
       "    <tr>\n",
       "      <th>188061</th>\n",
       "      <td>1.745831e+09</td>\n",
       "      <td>285282614</td>\n",
       "      <td>125</td>\n",
       "      <td>20250428</td>\n",
       "      <td>52763</td>\n",
       "      <td>2025-04-28 09:32:07+00:00</td>\n",
       "      <td>2025-04-28 09:32:07+00:00</td>\n",
       "      <td>0</td>\n",
       "      <td>05:32:07</td>\n",
       "      <td>05:32:07</td>\n",
       "      <td>...</td>\n",
       "      <td>0</td>\n",
       "      <td>1</td>\n",
       "      <td>2220.0</td>\n",
       "      <td>354.244487</td>\n",
       "      <td>East</td>\n",
       "      <td>2025-04-28</td>\n",
       "      <td>2025-04-28 09:32:07+00:00</td>\n",
       "      <td>2025-04-28 09:32:07+00:00</td>\n",
       "      <td>2025-04-28 09:00:00+00:00</td>\n",
       "      <td>1</td>\n",
       "    </tr>\n",
       "    <tr>\n",
       "      <th>5388708</th>\n",
       "      <td>1.746493e+09</td>\n",
       "      <td>284777225</td>\n",
       "      <td>160</td>\n",
       "      <td>20250505</td>\n",
       "      <td>50916</td>\n",
       "      <td>2025-05-06 01:57:02+00:00</td>\n",
       "      <td>2025-05-06 01:57:02+00:00</td>\n",
       "      <td>0</td>\n",
       "      <td>21:57:02</td>\n",
       "      <td>21:57:02</td>\n",
       "      <td>...</td>\n",
       "      <td>0</td>\n",
       "      <td>1</td>\n",
       "      <td>2100.0</td>\n",
       "      <td>296.985793</td>\n",
       "      <td>West</td>\n",
       "      <td>2025-05-05</td>\n",
       "      <td>2025-05-06 01:57:02+00:00</td>\n",
       "      <td>2025-05-06 01:57:02+00:00</td>\n",
       "      <td>2025-05-06 01:00:00+00:00</td>\n",
       "      <td>2</td>\n",
       "    </tr>\n",
       "    <tr>\n",
       "      <th>5224100</th>\n",
       "      <td>1.746479e+09</td>\n",
       "      <td>286573277</td>\n",
       "      <td>195</td>\n",
       "      <td>20250505</td>\n",
       "      <td>57239</td>\n",
       "      <td>2025-05-05 21:04:46+00:00</td>\n",
       "      <td>2025-05-05 21:04:46+00:00</td>\n",
       "      <td>0</td>\n",
       "      <td>17:02:00</td>\n",
       "      <td>17:02:00</td>\n",
       "      <td>...</td>\n",
       "      <td>0</td>\n",
       "      <td>1</td>\n",
       "      <td>3300.0</td>\n",
       "      <td>316.378942</td>\n",
       "      <td>East</td>\n",
       "      <td>2025-05-05</td>\n",
       "      <td>2025-05-05 21:02:00+00:00</td>\n",
       "      <td>2025-05-05 21:02:00+00:00</td>\n",
       "      <td>2025-05-05 21:00:00+00:00</td>\n",
       "      <td>3</td>\n",
       "    </tr>\n",
       "    <tr>\n",
       "      <th>6889914</th>\n",
       "      <td>1.746698e+09</td>\n",
       "      <td>285009722</td>\n",
       "      <td>216</td>\n",
       "      <td>20250508</td>\n",
       "      <td>55558</td>\n",
       "      <td>2025-05-08 10:30:33+00:00</td>\n",
       "      <td>2025-05-08 10:30:33+00:00</td>\n",
       "      <td>0</td>\n",
       "      <td>06:30:33</td>\n",
       "      <td>06:30:33</td>\n",
       "      <td>...</td>\n",
       "      <td>0</td>\n",
       "      <td>2</td>\n",
       "      <td>1920.0</td>\n",
       "      <td>928.976544</td>\n",
       "      <td>West</td>\n",
       "      <td>2025-05-08</td>\n",
       "      <td>2025-05-08 10:30:33+00:00</td>\n",
       "      <td>2025-05-08 10:30:33+00:00</td>\n",
       "      <td>2025-05-08 10:00:00+00:00</td>\n",
       "      <td>3</td>\n",
       "    </tr>\n",
       "  </tbody>\n",
       "</table>\n",
       "<p>10 rows × 28 columns</p>\n",
       "</div>"
      ],
      "text/plain": [
       "         current_time    trip_id  route_id  start_date  stop_id  \\\n",
       "7321026  1.746734e+09  285008617       218    20250508    58372   \n",
       "629088   1.745874e+09  284728113        95    20250428    51515   \n",
       "6316385  1.746626e+09  284727408       179    20250507    50231   \n",
       "2615163  1.746122e+09  284739297        48    20250501    54152   \n",
       "6184870  1.746612e+09  284737872        67    20250507    55334   \n",
       "7365105  1.746738e+09  286569806        12    20250508    62163   \n",
       "188061   1.745831e+09  285282614       125    20250428    52763   \n",
       "5388708  1.746493e+09  284777225       160    20250505    50916   \n",
       "5224100  1.746479e+09  286573277       195    20250505    57239   \n",
       "6889914  1.746698e+09  285009722       216    20250508    55558   \n",
       "\n",
       "                  rt_arrival_time         rt_departure_time  \\\n",
       "7321026 2025-05-08 20:27:17+00:00 2025-05-08 20:27:17+00:00   \n",
       "629088  2025-04-28 21:12:06+00:00 2025-04-28 21:12:06+00:00   \n",
       "6316385 2025-05-07 14:16:41+00:00                       NaT   \n",
       "2615163 2025-05-01 18:20:00+00:00 2025-05-01 18:20:00+00:00   \n",
       "6184870                       NaT 2025-05-07 11:00:00+00:00   \n",
       "7365105                       NaT 2025-05-08 21:11:00+00:00   \n",
       "188061  2025-04-28 09:32:07+00:00 2025-04-28 09:32:07+00:00   \n",
       "5388708 2025-05-06 01:57:02+00:00 2025-05-06 01:57:02+00:00   \n",
       "5224100 2025-05-05 21:04:46+00:00 2025-05-05 21:04:46+00:00   \n",
       "6889914 2025-05-08 10:30:33+00:00 2025-05-08 10:30:33+00:00   \n",
       "\n",
       "         schedule_relationship arrival_time departure_time  ...  \\\n",
       "7321026                      0     16:27:17       16:27:17  ...   \n",
       "629088                       0     17:12:06       17:12:06  ...   \n",
       "6316385                      0     10:15:00       10:15:00  ...   \n",
       "2615163                      0     14:20:00       14:20:00  ...   \n",
       "6184870                      0     07:00:00       07:00:00  ...   \n",
       "7365105                      0     17:11:00       17:11:00  ...   \n",
       "188061                       0     05:32:07       05:32:07  ...   \n",
       "5388708                      0     21:57:02       21:57:02  ...   \n",
       "5224100                      0     17:02:00       17:02:00  ...   \n",
       "6889914                      0     06:30:33       06:30:33  ...   \n",
       "\n",
       "         location_type  wheelchair_boarding  exp_trip_duration  stop_distance  \\\n",
       "7321026              0                    2             1740.0     417.842280   \n",
       "629088               0                    1             2520.0     263.911767   \n",
       "6316385              0                    1             2160.0     276.723204   \n",
       "2615163              0                    1             3360.0     541.922856   \n",
       "6184870              0                    1             3000.0       0.000000   \n",
       "7365105              0                    1             1920.0       0.000000   \n",
       "188061               0                    1             2220.0     354.244487   \n",
       "5388708              0                    1             2100.0     296.985793   \n",
       "5224100              0                    1             3300.0     316.378942   \n",
       "6889914              0                    2             1920.0     928.976544   \n",
       "\n",
       "        route_direction start_date_dt          sch_arrival_time  \\\n",
       "7321026            West    2025-05-08 2025-05-08 20:27:17+00:00   \n",
       "629088             East    2025-04-28 2025-04-28 21:12:06+00:00   \n",
       "6316385           North    2025-05-07 2025-05-07 14:15:00+00:00   \n",
       "2615163            East    2025-05-01 2025-05-01 18:20:00+00:00   \n",
       "6184870           South    2025-05-07 2025-05-07 11:00:00+00:00   \n",
       "7365105           North    2025-05-08 2025-05-08 21:11:00+00:00   \n",
       "188061             East    2025-04-28 2025-04-28 09:32:07+00:00   \n",
       "5388708            West    2025-05-05 2025-05-06 01:57:02+00:00   \n",
       "5224100            East    2025-05-05 2025-05-05 21:02:00+00:00   \n",
       "6889914            West    2025-05-08 2025-05-08 10:30:33+00:00   \n",
       "\n",
       "               sch_departure_time              arrival_hour  arrivals_per_hour  \n",
       "7321026 2025-05-08 20:27:17+00:00 2025-05-08 20:00:00+00:00                  3  \n",
       "629088  2025-04-28 21:12:06+00:00 2025-04-28 21:00:00+00:00                  2  \n",
       "6316385 2025-05-07 14:15:00+00:00 2025-05-07 14:00:00+00:00                  2  \n",
       "2615163 2025-05-01 18:20:00+00:00 2025-05-01 18:00:00+00:00                  7  \n",
       "6184870 2025-05-07 11:00:00+00:00 2025-05-07 11:00:00+00:00                  7  \n",
       "7365105 2025-05-08 21:11:00+00:00 2025-05-08 21:00:00+00:00                  2  \n",
       "188061  2025-04-28 09:32:07+00:00 2025-04-28 09:00:00+00:00                  1  \n",
       "5388708 2025-05-06 01:57:02+00:00 2025-05-06 01:00:00+00:00                  2  \n",
       "5224100 2025-05-05 21:02:00+00:00 2025-05-05 21:00:00+00:00                  3  \n",
       "6889914 2025-05-08 10:30:33+00:00 2025-05-08 10:00:00+00:00                  3  \n",
       "\n",
       "[10 rows x 28 columns]"
      ]
     },
     "execution_count": 51,
     "metadata": {},
     "output_type": "execute_result"
    }
   ],
   "source": [
    "merged_stm_df.sample(10)"
   ]
  },
  {
   "cell_type": "code",
   "execution_count": 52,
   "id": "019218a5",
   "metadata": {},
   "outputs": [],
   "source": [
    "# Calculate delay (realtime - scheduled)\n",
    "# Start with arrival time, if null, calculate with departure time\n",
    "merged_stm_df['delay'] = (merged_stm_df['rt_arrival_time'] - merged_stm_df['sch_arrival_time']) / pd.Timedelta(seconds=1)\n",
    "merged_stm_df['delay'] = merged_stm_df['delay'].fillna(((merged_stm_df['rt_departure_time'] - merged_stm_df['sch_departure_time']) / pd.Timedelta(seconds=1)))"
   ]
  },
  {
   "cell_type": "code",
   "execution_count": 53,
   "id": "c4b5a7b8",
   "metadata": {},
   "outputs": [
    {
     "data": {
      "text/plain": [
       "count    7.360718e+06\n",
       "mean     6.644923e+01\n",
       "std      4.660218e+02\n",
       "min     -1.359200e+04\n",
       "25%      0.000000e+00\n",
       "50%      0.000000e+00\n",
       "75%      0.000000e+00\n",
       "max      5.458500e+04\n",
       "Name: delay, dtype: float64"
      ]
     },
     "execution_count": 53,
     "metadata": {},
     "output_type": "execute_result"
    }
   ],
   "source": [
    "# Get distribution\n",
    "merged_stm_df['delay'].describe()"
   ]
  },
  {
   "cell_type": "markdown",
   "id": "584cccf4",
   "metadata": {},
   "source": [
    "#### Handle Outliers"
   ]
  },
  {
   "cell_type": "code",
   "execution_count": 54,
   "id": "56eebfcf",
   "metadata": {},
   "outputs": [
    {
     "data": {
      "image/png": "[encoded data removed]",
      "text/plain": [
       "<Figure size 1000x500 with 1 Axes>"
      ]
     },
     "metadata": {},
     "output_type": "display_data"
    }
   ],
   "source": [
    "# Plot histogram\n",
    "plt.figure(figsize=(10, 5))\n",
    "sns.histplot(merged_stm_df['delay'], bins=50, kde=True)\n",
    "plt.title('Distribution of Delay Times')\n",
    "plt.xlabel('Delay Time (seconds)')\n",
    "plt.ylabel('Frequency')\n",
    "plt.savefig('../images/delay_histogram.png', bbox_inches='tight')\n",
    "plt.show()"
   ]
  },
  {
   "cell_type": "code",
   "execution_count": 55,
   "id": "271e1d1f",
   "metadata": {},
   "outputs": [
    {
     "data": {
      "image/png": "[encoded data removed]",
      "text/plain": [
       "<Figure size 1000x500 with 1 Axes>"
      ]
     },
     "metadata": {},
     "output_type": "display_data"
    }
   ],
   "source": [
    "# Plot boxplot\n",
    "plt.figure(figsize=(10, 5))\n",
    "sns.boxplot(x=merged_stm_df['delay'])\n",
    "plt.title('Boxplot of Delay Times (in seconds)')\n",
    "plt.savefig('../images/delay_boxplot.png', bbox_inches='tight')\n",
    "plt.show()"
   ]
  },
  {
   "cell_type": "markdown",
   "id": "bc0764ec",
   "metadata": {},
   "source": [
    "The distribution of delay times is highly skewed, with most values concentrated near 0, but extending both negatively and positively in a wide range. There are extreme outliers stretching up to 55000 seconds (more than 15 hours) and also negative values going beyond -10000 seconds (almost 3 hours). Such extreme values are unrealistic for transit delays. It's very likely they represent data entry errors, sensor glitches or edge cases (canceled trips, detours, etc.)."
   ]
  },
  {
   "cell_type": "code",
   "execution_count": 56,
   "id": "812caa7c",
   "metadata": {},
   "outputs": [
    {
     "name": "stdout",
     "output_type": "stream",
     "text": [
      "-4.015965273690406\n"
     ]
    }
   ],
   "source": [
    "print(merged_stm_df['delay'].max() / merged_stm_df['delay'].min())"
   ]
  },
  {
   "cell_type": "code",
   "execution_count": 57,
   "id": "49e01d28",
   "metadata": {},
   "outputs": [],
   "source": [
    "# Filter outliers, based on expected trip duration and \"skewness\" (positive delay is about 4x negative delay)\n",
    "# If a delay is longer than the expected trip duration, it's most likely a cancelled trip.\n",
    "outlier_mask = (merged_stm_df['delay'] <= merged_stm_df['exp_trip_duration'] * -0.25) | (merged_stm_df['delay'] >= merged_stm_df['exp_trip_duration'])"
   ]
  },
  {
   "cell_type": "code",
   "execution_count": 58,
   "id": "cb6e88d1",
   "metadata": {},
   "outputs": [
    {
     "data": {
      "text/html": [
       "<div>\n",
       "<style scoped>\n",
       "    .dataframe tbody tr th:only-of-type {\n",
       "        vertical-align: middle;\n",
       "    }\n",
       "\n",
       "    .dataframe tbody tr th {\n",
       "        vertical-align: top;\n",
       "    }\n",
       "\n",
       "    .dataframe thead th {\n",
       "        text-align: right;\n",
       "    }\n",
       "</style>\n",
       "<table border=\"1\" class=\"dataframe\">\n",
       "  <thead>\n",
       "    <tr style=\"text-align: right;\">\n",
       "      <th></th>\n",
       "      <th>trip_id</th>\n",
       "      <th>route_id</th>\n",
       "      <th>stop_name</th>\n",
       "      <th>route_direction</th>\n",
       "      <th>trip_progress</th>\n",
       "      <th>sch_arrival_time</th>\n",
       "      <th>delay</th>\n",
       "      <th>schedule_relationship</th>\n",
       "    </tr>\n",
       "  </thead>\n",
       "  <tbody>\n",
       "    <tr>\n",
       "      <th>161070</th>\n",
       "      <td>283553409</td>\n",
       "      <td>97</td>\n",
       "      <td>du Mont-Royal / De La Roche</td>\n",
       "      <td>West</td>\n",
       "      <td>0.694444</td>\n",
       "      <td>2025-04-28 05:34:00+00:00</td>\n",
       "      <td>54585.0</td>\n",
       "      <td>0</td>\n",
       "    </tr>\n",
       "    <tr>\n",
       "      <th>161081</th>\n",
       "      <td>283553409</td>\n",
       "      <td>97</td>\n",
       "      <td>Parc du Mont-Royal</td>\n",
       "      <td>West</td>\n",
       "      <td>1.000000</td>\n",
       "      <td>2025-04-28 05:46:00+00:00</td>\n",
       "      <td>54585.0</td>\n",
       "      <td>0</td>\n",
       "    </tr>\n",
       "    <tr>\n",
       "      <th>161080</th>\n",
       "      <td>283553409</td>\n",
       "      <td>97</td>\n",
       "      <td>du Mont-Royal / Jeanne-Mance</td>\n",
       "      <td>West</td>\n",
       "      <td>0.972222</td>\n",
       "      <td>2025-04-28 05:44:00+00:00</td>\n",
       "      <td>54585.0</td>\n",
       "      <td>0</td>\n",
       "    </tr>\n",
       "    <tr>\n",
       "      <th>161079</th>\n",
       "      <td>283553409</td>\n",
       "      <td>97</td>\n",
       "      <td>du Mont-Royal / Saint-Urbain</td>\n",
       "      <td>West</td>\n",
       "      <td>0.944444</td>\n",
       "      <td>2025-04-28 05:42:52+00:00</td>\n",
       "      <td>54585.0</td>\n",
       "      <td>0</td>\n",
       "    </tr>\n",
       "    <tr>\n",
       "      <th>161051</th>\n",
       "      <td>283553409</td>\n",
       "      <td>97</td>\n",
       "      <td>du Mont-Royal / De Chambly</td>\n",
       "      <td>West</td>\n",
       "      <td>0.166667</td>\n",
       "      <td>2025-04-28 05:19:41+00:00</td>\n",
       "      <td>54585.0</td>\n",
       "      <td>0</td>\n",
       "    </tr>\n",
       "    <tr>\n",
       "      <th>...</th>\n",
       "      <td>...</td>\n",
       "      <td>...</td>\n",
       "      <td>...</td>\n",
       "      <td>...</td>\n",
       "      <td>...</td>\n",
       "      <td>...</td>\n",
       "      <td>...</td>\n",
       "      <td>...</td>\n",
       "    </tr>\n",
       "    <tr>\n",
       "      <th>3591404</th>\n",
       "      <td>285009528</td>\n",
       "      <td>209</td>\n",
       "      <td>Gare Roxboro-Pierrefonds</td>\n",
       "      <td>North</td>\n",
       "      <td>1.000000</td>\n",
       "      <td>2025-05-02 23:06:00+00:00</td>\n",
       "      <td>-13318.0</td>\n",
       "      <td>0</td>\n",
       "    </tr>\n",
       "    <tr>\n",
       "      <th>2174565</th>\n",
       "      <td>285009528</td>\n",
       "      <td>209</td>\n",
       "      <td>de Pierrefonds / Gouin</td>\n",
       "      <td>North</td>\n",
       "      <td>0.923077</td>\n",
       "      <td>2025-04-30 23:01:37+00:00</td>\n",
       "      <td>-13329.0</td>\n",
       "      <td>0</td>\n",
       "    </tr>\n",
       "    <tr>\n",
       "      <th>2174566</th>\n",
       "      <td>285009528</td>\n",
       "      <td>209</td>\n",
       "      <td>Gouin / 6e Avenue</td>\n",
       "      <td>North</td>\n",
       "      <td>0.948718</td>\n",
       "      <td>2025-04-30 23:02:21+00:00</td>\n",
       "      <td>-13373.0</td>\n",
       "      <td>0</td>\n",
       "    </tr>\n",
       "    <tr>\n",
       "      <th>2174567</th>\n",
       "      <td>285009528</td>\n",
       "      <td>209</td>\n",
       "      <td>Gare Roxboro-Pierrefonds</td>\n",
       "      <td>North</td>\n",
       "      <td>0.974359</td>\n",
       "      <td>2025-04-30 23:03:00+00:00</td>\n",
       "      <td>-13412.0</td>\n",
       "      <td>0</td>\n",
       "    </tr>\n",
       "    <tr>\n",
       "      <th>2174568</th>\n",
       "      <td>285009528</td>\n",
       "      <td>209</td>\n",
       "      <td>Gare Roxboro-Pierrefonds</td>\n",
       "      <td>North</td>\n",
       "      <td>1.000000</td>\n",
       "      <td>2025-04-30 23:06:00+00:00</td>\n",
       "      <td>-13592.0</td>\n",
       "      <td>0</td>\n",
       "    </tr>\n",
       "  </tbody>\n",
       "</table>\n",
       "<p>25621 rows × 8 columns</p>\n",
       "</div>"
      ],
      "text/plain": [
       "           trip_id  route_id                     stop_name route_direction  \\\n",
       "161070   283553409        97   du Mont-Royal / De La Roche            West   \n",
       "161081   283553409        97            Parc du Mont-Royal            West   \n",
       "161080   283553409        97  du Mont-Royal / Jeanne-Mance            West   \n",
       "161079   283553409        97  du Mont-Royal / Saint-Urbain            West   \n",
       "161051   283553409        97    du Mont-Royal / De Chambly            West   \n",
       "...            ...       ...                           ...             ...   \n",
       "3591404  285009528       209      Gare Roxboro-Pierrefonds           North   \n",
       "2174565  285009528       209        de Pierrefonds / Gouin           North   \n",
       "2174566  285009528       209             Gouin / 6e Avenue           North   \n",
       "2174567  285009528       209      Gare Roxboro-Pierrefonds           North   \n",
       "2174568  285009528       209      Gare Roxboro-Pierrefonds           North   \n",
       "\n",
       "         trip_progress          sch_arrival_time    delay  \\\n",
       "161070        0.694444 2025-04-28 05:34:00+00:00  54585.0   \n",
       "161081        1.000000 2025-04-28 05:46:00+00:00  54585.0   \n",
       "161080        0.972222 2025-04-28 05:44:00+00:00  54585.0   \n",
       "161079        0.944444 2025-04-28 05:42:52+00:00  54585.0   \n",
       "161051        0.166667 2025-04-28 05:19:41+00:00  54585.0   \n",
       "...                ...                       ...      ...   \n",
       "3591404       1.000000 2025-05-02 23:06:00+00:00 -13318.0   \n",
       "2174565       0.923077 2025-04-30 23:01:37+00:00 -13329.0   \n",
       "2174566       0.948718 2025-04-30 23:02:21+00:00 -13373.0   \n",
       "2174567       0.974359 2025-04-30 23:03:00+00:00 -13412.0   \n",
       "2174568       1.000000 2025-04-30 23:06:00+00:00 -13592.0   \n",
       "\n",
       "         schedule_relationship  \n",
       "161070                       0  \n",
       "161081                       0  \n",
       "161080                       0  \n",
       "161079                       0  \n",
       "161051                       0  \n",
       "...                        ...  \n",
       "3591404                      0  \n",
       "2174565                      0  \n",
       "2174566                      0  \n",
       "2174567                      0  \n",
       "2174568                      0  \n",
       "\n",
       "[25621 rows x 8 columns]"
      ]
     },
     "execution_count": 58,
     "metadata": {},
     "output_type": "execute_result"
    }
   ],
   "source": [
    "# Inspect outliers\n",
    "outliers_df = merged_stm_df[outlier_mask]\n",
    "outliers_df[['trip_id', 'route_id', 'stop_name', 'route_direction', 'trip_progress', 'sch_arrival_time', 'delay', 'schedule_relationship']].sort_values('delay', ascending=False)"
   ]
  },
  {
   "cell_type": "code",
   "execution_count": 59,
   "id": "c7df7489",
   "metadata": {},
   "outputs": [
    {
     "name": "stdout",
     "output_type": "stream",
     "text": [
      "0.34%\n"
     ]
    }
   ],
   "source": [
    "# Calculate proportion\n",
    "print(f'{outlier_mask.mean():.2%}')"
   ]
  },
  {
   "cell_type": "code",
   "execution_count": 60,
   "id": "6b806778",
   "metadata": {},
   "outputs": [],
   "source": [
    "# Remove outliers\n",
    "merged_stm_df = merged_stm_df[~outlier_mask].reset_index(drop=True)"
   ]
  },
  {
   "cell_type": "code",
   "execution_count": 61,
   "id": "43b684f4",
   "metadata": {},
   "outputs": [
    {
     "data": {
      "image/png": "[encoded data removed]",
      "text/plain": [
       "<Figure size 1000x500 with 1 Axes>"
      ]
     },
     "metadata": {},
     "output_type": "display_data"
    }
   ],
   "source": [
    "# Replot histogram\n",
    "plt.figure(figsize=(10, 5))\n",
    "sns.histplot(merged_stm_df['delay'], bins=50, kde=True)\n",
    "plt.title('Distribution of Delay Times (After Filtering)')\n",
    "plt.xlabel('Delay Time (seconds)')\n",
    "plt.ylabel('Frequency')\n",
    "plt.savefig('../images/delay_histogram_filtered.png', bbox_inches='tight')\n",
    "plt.show()"
   ]
  },
  {
   "cell_type": "code",
   "execution_count": 62,
   "id": "1a103883",
   "metadata": {},
   "outputs": [
    {
     "data": {
      "image/png": "[encoded data removed]",
      "text/plain": [
       "<Figure size 1000x500 with 1 Axes>"
      ]
     },
     "metadata": {},
     "output_type": "display_data"
    }
   ],
   "source": [
    "# Replot boxplot\n",
    "plt.figure(figsize=(10, 5))\n",
    "sns.boxplot(x=merged_stm_df['delay'])\n",
    "plt.title('Boxplot of Delay Times (After Filtering)')\n",
    "plt.savefig('../images/delay_boxplot_filtered.png', bbox_inches='tight')\n",
    "plt.show()"
   ]
  },
  {
   "cell_type": "code",
   "execution_count": 63,
   "id": "854cee45",
   "metadata": {},
   "outputs": [
    {
     "name": "stdout",
     "output_type": "stream",
     "text": [
      "195795\n"
     ]
    }
   ],
   "source": [
    "# Get null delays count\n",
    "print(merged_stm_df['delay'].isna().sum())"
   ]
  },
  {
   "cell_type": "code",
   "execution_count": 64,
   "id": "0288ed5e",
   "metadata": {},
   "outputs": [],
   "source": [
    "# Replace the null delays with the overall average delay\n",
    "merged_stm_df['delay'] = merged_stm_df['delay'].fillna(merged_stm_df['delay'].mean())\n",
    "assert merged_stm_df['delay'].isna().sum() == 0"
   ]
  },
  {
   "cell_type": "code",
   "execution_count": 65,
   "id": "aa38a9f4",
   "metadata": {},
   "outputs": [
    {
     "data": {
      "text/plain": [
       "count    7.530892e+06\n",
       "mean     5.508555e+01\n",
       "std      1.662325e+02\n",
       "min     -1.365000e+03\n",
       "25%      0.000000e+00\n",
       "50%      0.000000e+00\n",
       "75%      8.000000e+00\n",
       "max      4.147000e+03\n",
       "Name: delay, dtype: float64"
      ]
     },
     "execution_count": 65,
     "metadata": {},
     "output_type": "execute_result"
    }
   ],
   "source": [
    "# Get new distribution\n",
    "merged_stm_df['delay'].describe()"
   ]
  },
  {
   "cell_type": "code",
   "execution_count": 66,
   "id": "3e3e1b30",
   "metadata": {},
   "outputs": [
    {
     "data": {
      "text/plain": [
       "Index(['current_time', 'trip_id', 'route_id', 'start_date', 'stop_id',\n",
       "       'rt_arrival_time', 'rt_departure_time', 'schedule_relationship',\n",
       "       'arrival_time', 'departure_time', 'first_stop_id', 'last_stop_id',\n",
       "       'stop_sequence', 'trip_progress', 'stop_name', 'neighbourhood',\n",
       "       'stop_lat', 'stop_lon', 'location_type', 'wheelchair_boarding',\n",
       "       'exp_trip_duration', 'stop_distance', 'route_direction',\n",
       "       'start_date_dt', 'sch_arrival_time', 'sch_departure_time',\n",
       "       'arrival_hour', 'arrivals_per_hour', 'delay'],\n",
       "      dtype='object')"
      ]
     },
     "execution_count": 66,
     "metadata": {},
     "output_type": "execute_result"
    }
   ],
   "source": [
    "merged_stm_df.columns"
   ]
  },
  {
   "cell_type": "code",
   "execution_count": 67,
   "id": "749afa71",
   "metadata": {},
   "outputs": [],
   "source": [
    "# Remove uneeded columns\n",
    "merged_stm_df = merged_stm_df.drop(['current_time', 'start_date', 'start_date_dt', 'arrival_time', 'departure_time', 'arrival_hour'], axis=1)"
   ]
  },
  {
   "cell_type": "markdown",
   "id": "0a333d86",
   "metadata": {},
   "source": [
    "### Route Types"
   ]
  },
  {
   "cell_type": "code",
   "execution_count": 68,
   "id": "89f43a63",
   "metadata": {},
   "outputs": [],
   "source": [
    "stm_df = pd.merge(left=merged_stm_df, right=routes_df, how='inner', on='route_id')"
   ]
  },
  {
   "cell_type": "code",
   "execution_count": 69,
   "id": "2ecd6fb2",
   "metadata": {},
   "outputs": [
    {
     "data": {
      "text/plain": [
       "Index(['trip_id', 'route_id', 'stop_id', 'rt_arrival_time',\n",
       "       'rt_departure_time', 'schedule_relationship', 'first_stop_id',\n",
       "       'last_stop_id', 'stop_sequence', 'trip_progress', 'stop_name',\n",
       "       'neighbourhood', 'stop_lat', 'stop_lon', 'location_type',\n",
       "       'wheelchair_boarding', 'exp_trip_duration', 'stop_distance',\n",
       "       'route_direction', 'sch_arrival_time', 'sch_departure_time',\n",
       "       'arrivals_per_hour', 'delay', 'route_type'],\n",
       "      dtype='object')"
      ]
     },
     "execution_count": 69,
     "metadata": {},
     "output_type": "execute_result"
    }
   ],
   "source": [
    "stm_df.columns"
   ]
  },
  {
   "cell_type": "markdown",
   "id": "7b431a68",
   "metadata": {},
   "source": [
    "### STM and Weather"
   ]
  },
  {
   "cell_type": "code",
   "execution_count": 70,
   "id": "db8e5b22",
   "metadata": {},
   "outputs": [
    {
     "name": "stdout",
     "output_type": "stream",
     "text": [
      "<class 'pandas.core.frame.DataFrame'>\n",
      "RangeIndex: 312 entries, 0 to 311\n",
      "Data columns (total 8 columns):\n",
      " #   Column                Non-Null Count  Dtype  \n",
      "---  ------                --------------  -----  \n",
      " 0   time                  312 non-null    object \n",
      " 1   temperature_2m        312 non-null    float64\n",
      " 2   relative_humidity_2m  312 non-null    int64  \n",
      " 3   precipitation         312 non-null    float64\n",
      " 4   pressure_msl          312 non-null    float64\n",
      " 5   cloud_cover           312 non-null    int64  \n",
      " 6   wind_speed_10m        312 non-null    float64\n",
      " 7   wind_direction_10m    312 non-null    int64  \n",
      "dtypes: float64(4), int64(3), object(1)\n",
      "memory usage: 19.6+ KB\n"
     ]
    }
   ],
   "source": [
    "weather_df.info()"
   ]
  },
  {
   "cell_type": "code",
   "execution_count": 71,
   "id": "ad7f9e32",
   "metadata": {},
   "outputs": [],
   "source": [
    "# Convert time string to datetime\n",
    "time_dt = pd.to_datetime(weather_df['time'], utc=True)"
   ]
  },
  {
   "cell_type": "code",
   "execution_count": 72,
   "id": "c139f560",
   "metadata": {},
   "outputs": [],
   "source": [
    "# Round arrival time to the nearest hour\n",
    "rounded_arrival_dt = stm_df['sch_arrival_time'].dt.round('h')"
   ]
  },
  {
   "cell_type": "code",
   "execution_count": 73,
   "id": "5d4d8333",
   "metadata": {},
   "outputs": [],
   "source": [
    "# Format time to match weather data\n",
    "stm_df['time'] = rounded_arrival_dt.dt.strftime('%Y-%m-%dT%H:%M')"
   ]
  },
  {
   "cell_type": "code",
   "execution_count": 74,
   "id": "f2552f97",
   "metadata": {},
   "outputs": [],
   "source": [
    "# Merge STM with weather\n",
    "df = pd.merge(left=stm_df, right=weather_df, how='inner', on='time').drop('time', axis=1)"
   ]
  },
  {
   "cell_type": "markdown",
   "id": "54983bb1",
   "metadata": {},
   "source": [
    "## Clean Data"
   ]
  },
  {
   "cell_type": "markdown",
   "id": "7384a3a4",
   "metadata": {},
   "source": [
    "### Drop Columns"
   ]
  },
  {
   "cell_type": "code",
   "execution_count": 75,
   "id": "f8831e61",
   "metadata": {},
   "outputs": [
    {
     "data": {
      "text/plain": [
       "Index(['trip_id', 'route_id', 'stop_id', 'rt_arrival_time',\n",
       "       'rt_departure_time', 'schedule_relationship', 'first_stop_id',\n",
       "       'last_stop_id', 'stop_sequence', 'trip_progress', 'stop_name',\n",
       "       'stop_lat', 'stop_lon', 'wheelchair_boarding', 'exp_trip_duration',\n",
       "       'stop_distance', 'route_direction', 'sch_arrival_time',\n",
       "       'sch_departure_time', 'arrivals_per_hour', 'delay', 'route_type',\n",
       "       'temperature_2m', 'relative_humidity_2m', 'precipitation',\n",
       "       'pressure_msl', 'cloud_cover', 'wind_speed_10m', 'wind_direction_10m'],\n",
       "      dtype='object')"
      ]
     },
     "execution_count": 75,
     "metadata": {},
     "output_type": "execute_result"
    }
   ],
   "source": [
    "# Remove columns with constant values or with more than 50% missing values\n",
    "df = df.loc[:, (df.nunique() > 1) & (df.isna().mean() < 0.5)]\n",
    "df.columns"
   ]
  },
  {
   "cell_type": "markdown",
   "id": "429d203b",
   "metadata": {},
   "source": [
    "### Convert columns"
   ]
  },
  {
   "cell_type": "code",
   "execution_count": 76,
   "id": "7b1ed74d",
   "metadata": {},
   "outputs": [
    {
     "name": "stdout",
     "output_type": "stream",
     "text": [
      "wheelchair_boarding\n",
      "1    7048632\n",
      "2     482260\n",
      "Name: count, dtype: int64\n"
     ]
    }
   ],
   "source": [
    "# Get columns with two values\n",
    "two_values = df.loc[:, df.nunique() == 2]\n",
    "for column in two_values.columns:\n",
    "  print(df[column].value_counts())"
   ]
  },
  {
   "cell_type": "code",
   "execution_count": 77,
   "id": "48fe1ce6",
   "metadata": {},
   "outputs": [],
   "source": [
    "# Convert wheelchair_boarding to boolean\n",
    "df['wheelchair_boarding'] = (df['wheelchair_boarding'] == 1).astype('int64')"
   ]
  },
  {
   "cell_type": "markdown",
   "id": "5394b58e",
   "metadata": {},
   "source": [
    "### Convert schedule_relationship and occupancy_status to Categories"
   ]
  },
  {
   "cell_type": "code",
   "execution_count": 78,
   "id": "3767e9b8",
   "metadata": {},
   "outputs": [],
   "source": [
    "def convert_to_categories(df:pd.DataFrame, column:str, map_dict:dict) -> pd.Series:\n",
    "\tcodes = df[column].sort_values().unique()\n",
    "\tcondition_list = []\n",
    "\tlabel_list = []\n",
    "\t\t\n",
    "\tfor code in codes:\n",
    "\t\tcondition_list.append(df[column] == code)\n",
    "\t\tlabel_list.append(map_dict[code])\n",
    "\t\n",
    "\tdf[column] = np.select(condition_list, label_list, default='Unknown')\n",
    "\treturn df[column]"
   ]
  },
  {
   "cell_type": "code",
   "execution_count": 79,
   "id": "53084d77",
   "metadata": {},
   "outputs": [
    {
     "data": {
      "text/plain": [
       "schedule_relationship\n",
       "Scheduled    7335099\n",
       "Skipped       179390\n",
       "NoData         16403\n",
       "Name: count, dtype: int64"
      ]
     },
     "execution_count": 79,
     "metadata": {},
     "output_type": "execute_result"
    }
   ],
   "source": [
    "df['schedule_relationship'] = convert_to_categories(df, 'schedule_relationship', SCHEDULE_RELATIONSHIP)\n",
    "df['schedule_relationship'].value_counts()"
   ]
  },
  {
   "cell_type": "markdown",
   "id": "baf5b062",
   "metadata": {},
   "source": [
    "## Export Data"
   ]
  },
  {
   "cell_type": "code",
   "execution_count": 80,
   "id": "558e89b0",
   "metadata": {},
   "outputs": [
    {
     "name": "stdout",
     "output_type": "stream",
     "text": [
      "<class 'pandas.core.frame.DataFrame'>\n",
      "RangeIndex: 7530892 entries, 0 to 7530891\n",
      "Data columns (total 29 columns):\n",
      " #   Column                 Dtype              \n",
      "---  ------                 -----              \n",
      " 0   trip_id                int64              \n",
      " 1   route_id               int64              \n",
      " 2   stop_id                int64              \n",
      " 3   rt_arrival_time        datetime64[ns, UTC]\n",
      " 4   rt_departure_time      datetime64[ns, UTC]\n",
      " 5   schedule_relationship  object             \n",
      " 6   first_stop_id          int64              \n",
      " 7   last_stop_id           int64              \n",
      " 8   stop_sequence          int64              \n",
      " 9   trip_progress          float64            \n",
      " 10  stop_name              object             \n",
      " 11  stop_lat               float64            \n",
      " 12  stop_lon               float64            \n",
      " 13  wheelchair_boarding    int64              \n",
      " 14  exp_trip_duration      float64            \n",
      " 15  stop_distance          float64            \n",
      " 16  route_direction        object             \n",
      " 17  sch_arrival_time       datetime64[ns, UTC]\n",
      " 18  sch_departure_time     datetime64[ns, UTC]\n",
      " 19  arrivals_per_hour      int64              \n",
      " 20  delay                  float64            \n",
      " 21  route_type             object             \n",
      " 22  temperature_2m         float64            \n",
      " 23  relative_humidity_2m   int64              \n",
      " 24  precipitation          float64            \n",
      " 25  pressure_msl           float64            \n",
      " 26  cloud_cover            int64              \n",
      " 27  wind_speed_10m         float64            \n",
      " 28  wind_direction_10m     int64              \n",
      "dtypes: datetime64[ns, UTC](4), float64(10), int64(11), object(4)\n",
      "memory usage: 1.6+ GB\n"
     ]
    }
   ],
   "source": [
    "df.info()"
   ]
  },
  {
   "cell_type": "code",
   "execution_count": 81,
   "id": "b0d0bcba",
   "metadata": {},
   "outputs": [
    {
     "data": {
      "text/plain": [
       "trip_id                       0\n",
       "route_id                      0\n",
       "stop_id                       0\n",
       "rt_arrival_time          354528\n",
       "rt_departure_time        418729\n",
       "schedule_relationship         0\n",
       "first_stop_id                 0\n",
       "last_stop_id                  0\n",
       "stop_sequence                 0\n",
       "trip_progress                 0\n",
       "stop_name                     0\n",
       "stop_lat                      0\n",
       "stop_lon                      0\n",
       "wheelchair_boarding           0\n",
       "exp_trip_duration             0\n",
       "stop_distance                 0\n",
       "route_direction               0\n",
       "sch_arrival_time              0\n",
       "sch_departure_time            0\n",
       "arrivals_per_hour             0\n",
       "delay                         0\n",
       "route_type                    0\n",
       "temperature_2m                0\n",
       "relative_humidity_2m          0\n",
       "precipitation                 0\n",
       "pressure_msl                  0\n",
       "cloud_cover                   0\n",
       "wind_speed_10m                0\n",
       "wind_direction_10m            0\n",
       "dtype: int64"
      ]
     },
     "execution_count": 81,
     "metadata": {},
     "output_type": "execute_result"
    }
   ],
   "source": [
    "df.isna().sum()"
   ]
  },
  {
   "cell_type": "code",
   "execution_count": 82,
   "id": "8eb537d7",
   "metadata": {},
   "outputs": [],
   "source": [
    "# Export data to CSV\n",
    "df.to_parquet('../data/stm_weather_merged.parquet', index=False)"
   ]
  },
  {
   "cell_type": "markdown",
   "id": "a3b33a1a",
   "metadata": {},
   "source": [
    "## End"
   ]
  }
 ],
 "metadata": {
  "kernelspec": {
   "display_name": "venv",
   "language": "python",
   "name": "python3"
  },
  "language_info": {
   "codemirror_mode": {
    "name": "ipython",
    "version": 3
   },
   "file_extension": ".py",
   "mimetype": "text/x-python",
   "name": "python",
   "nbconvert_exporter": "python",
   "pygments_lexer": "ipython3",
   "version": "3.13.3"
  }
 },
 "nbformat": 4,
 "nbformat_minor": 5
}
