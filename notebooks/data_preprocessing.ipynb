{
 "cells": [
  {
   "cell_type": "markdown",
   "id": "7a883801",
   "metadata": {},
   "source": [
    "# STM Transit Delay Data Preprocessing"
   ]
  },
  {
   "cell_type": "markdown",
   "id": "1fb25db2",
   "metadata": {},
   "source": [
    "## Overview"
   ]
  },
  {
   "cell_type": "markdown",
   "id": "13f950b4",
   "metadata": {},
   "source": [
    "This notebook preprocesses data about STM trip updates weather and traffic, data in order to build a regression and classification model that predicts delays in seconds."
   ]
  },
  {
   "cell_type": "markdown",
   "id": "51775b74",
   "metadata": {},
   "source": [
    "## Data Description"
   ]
  },
  {
   "cell_type": "markdown",
   "id": "f39d1571",
   "metadata": {},
   "source": [
    "`trip_id`: Unique identifier for the transit trip.<br>\n",
    "`route_id`: Unique identifier for a bus or metro line.<br>\n",
    "`stop_id`: Unique identifier of a stop.<br>\n",
    "`stop_name`: Name of the stop.<br>\n",
    "`stop_lat`, `stop_lon`: Stop coordinates.<br>\n",
    "`stop_distance`: Distance between the previous and current stop, in meters.<br>\n",
    "`stop_sequence`: Sequence of the stop, for ordering.<br>\n",
    "`trip_progress`: How far along the trip is the vehicle, from 0 (first stop) to 1 (last stop).<br>\n",
    "`stop_has_alert`: Indicates if there's a message about the stop being moved or cancelled.<br>\n",
    "`schedule_relationship`: State of the schedule: \"scheduled\", \"skipped\" or \"no data\".\n",
    "`wheelchair_boarding`: Indicates if the stop is accessible for people in wheelchair.<br>\n",
    "`rt_arrival_time`, `rt_departure_time`, `sch_arrival_time`, `sch_departure_time`: Realtime and scheduled times, in UTC.<br>\n",
    "`delay`: Difference between real and scheduled arrival time, in seconds<br>\n",
    "`delay_class`: Delay category, from early to late<br>\n",
    "`incident_count`: Number of incidents within 1 km of the stop.<br>\n",
    "`incident_nearby`: Indicates if an incident happened within 1 km of the stop.<br>\n",
    "`temperature`: Air temperature at 2 meters above ground, in Celsius.<br>\n",
    "`precipitation`: Total precipitation (rain, showers, snow) sum of the preceding hour, in millimeters.<br>\n",
    "`windspeed`: Wind speed at 10 meters above ground, in km/h.<br>\n",
    "`weather`: Weather description (ex: Light Drizzle).<br>"
   ]
  },
  {
   "cell_type": "markdown",
   "id": "05c49de4",
   "metadata": {},
   "source": [
    "## Imports"
   ]
  },
  {
   "cell_type": "code",
   "execution_count": 1,
   "id": "e5094a27",
   "metadata": {},
   "outputs": [],
   "source": [
    "import numpy as np\n",
    "import pandas as pd\n",
    "import pickle\n",
    "from sklearn.preprocessing import LabelEncoder\n",
    "import sys"
   ]
  },
  {
   "cell_type": "code",
   "execution_count": null,
   "id": "568941a9",
   "metadata": {},
   "outputs": [],
   "source": [
    "# Import custom code\n",
    "sys.path.insert(0, '..')\n",
    "from scripts.custom_functions import DELAY_CLASS, LOCAL_TIMEZONE"
   ]
  },
  {
   "cell_type": "code",
   "execution_count": 3,
   "id": "353b54de",
   "metadata": {},
   "outputs": [],
   "source": [
    "# Load data\n",
    "df = pd.read_parquet('../data/stm_weather_traffic_merged.parquet')"
   ]
  },
  {
   "cell_type": "markdown",
   "id": "6e3eb13f",
   "metadata": {},
   "source": [
    "## Data Preprocessing"
   ]
  },
  {
   "cell_type": "markdown",
   "id": "1cdb9b34",
   "metadata": {},
   "source": [
    "### Handle Delay Outliers"
   ]
  },
  {
   "cell_type": "code",
   "execution_count": 4,
   "id": "3927862d",
   "metadata": {},
   "outputs": [
    {
     "data": {
      "text/plain": [
       "count    5.409842e+06\n",
       "mean     6.778535e+01\n",
       "std      4.761799e+02\n",
       "min     -1.359200e+04\n",
       "25%      0.000000e+00\n",
       "50%      0.000000e+00\n",
       "75%      1.700000e+01\n",
       "max      5.458500e+04\n",
       "Name: delay, dtype: float64"
      ]
     },
     "execution_count": 4,
     "metadata": {},
     "output_type": "execute_result"
    }
   ],
   "source": [
    "df['delay'].describe()"
   ]
  },
  {
   "cell_type": "code",
   "execution_count": 5,
   "id": "87b3b85f",
   "metadata": {},
   "outputs": [],
   "source": [
    "# Compute mean and standard deviation\n",
    "mean_delay = df['delay'].mean()\n",
    "std_delay = df['delay'].std()"
   ]
  },
  {
   "cell_type": "code",
   "execution_count": 6,
   "id": "2ffd9ad4",
   "metadata": {},
   "outputs": [],
   "source": [
    "# Filter outliers based on standard deviation\n",
    "outlier_mask = (df['delay'] < mean_delay - 3 * std_delay) | (df['delay'] > mean_delay + 3 * std_delay)"
   ]
  },
  {
   "cell_type": "code",
   "execution_count": 8,
   "id": "faac02db",
   "metadata": {},
   "outputs": [
    {
     "name": "stdout",
     "output_type": "stream",
     "text": [
      "0.52%\n"
     ]
    }
   ],
   "source": [
    "# Get proportion of outliers\n",
    "print(f'{outlier_mask.mean():.2%}')"
   ]
  },
  {
   "cell_type": "code",
   "execution_count": 9,
   "id": "b138ed79",
   "metadata": {},
   "outputs": [],
   "source": [
    "# Remove outliers\n",
    "df = df[~outlier_mask].reset_index(drop=True)"
   ]
  },
  {
   "cell_type": "code",
   "execution_count": 10,
   "id": "58964489",
   "metadata": {},
   "outputs": [
    {
     "data": {
      "text/plain": [
       "count    5.381532e+06\n",
       "mean     5.308398e+01\n",
       "std      1.498280e+02\n",
       "min     -1.360000e+03\n",
       "25%      0.000000e+00\n",
       "50%      0.000000e+00\n",
       "75%      1.320000e+01\n",
       "max      1.496000e+03\n",
       "Name: delay, dtype: float64"
      ]
     },
     "execution_count": 10,
     "metadata": {},
     "output_type": "execute_result"
    }
   ],
   "source": [
    "# Get new distribution\n",
    "df['delay'].describe()"
   ]
  },
  {
   "cell_type": "markdown",
   "id": "bf2977d0",
   "metadata": {},
   "source": [
    "### Encode Datetime"
   ]
  },
  {
   "cell_type": "code",
   "execution_count": 11,
   "id": "4fc40e12",
   "metadata": {},
   "outputs": [],
   "source": [
    "# Convert scheduled arrival time\n",
    "df['sch_arrival_time'] = pd.to_datetime(df['sch_arrival_time'], utc=True).dt.tz_convert(LOCAL_TIMEZONE)"
   ]
  },
  {
   "cell_type": "code",
   "execution_count": 12,
   "id": "462a448b",
   "metadata": {},
   "outputs": [],
   "source": [
    "# Convert datetime to month, day and hour\n",
    "df['month'] = df['sch_arrival_time'].dt.month\n",
    "df['day_of_week'] = df['sch_arrival_time'].dt.day_of_week\n",
    "df['hour'] = df['sch_arrival_time'].dt.hour"
   ]
  },
  {
   "cell_type": "code",
   "execution_count": 13,
   "id": "84ef1b88",
   "metadata": {},
   "outputs": [],
   "source": [
    "# Add boolean value is_weekend\n",
    "weekend_mask = df['day_of_week'].isin([5, 6])\n",
    "df['is_weekend'] = np.where(weekend_mask, 1, 0)"
   ]
  },
  {
   "cell_type": "code",
   "execution_count": 14,
   "id": "6a7aa507",
   "metadata": {},
   "outputs": [],
   "source": [
    "# Add boolean value is_peak_hour (weekdays from 7-9am or 4-6pm)\n",
    "peak_hour_mask = (weekend_mask == False) & (df['hour'].isin([7, 8, 9, 16, 17, 18]))\n",
    "df['is_peak_hour'] = np.where(peak_hour_mask, 1, 0)"
   ]
  },
  {
   "cell_type": "code",
   "execution_count": 15,
   "id": "98fa3898",
   "metadata": {},
   "outputs": [],
   "source": [
    "# Drop datetime columns\n",
    "df = df.drop(['rt_arrival_time', 'rt_departure_time', 'sch_arrival_time', 'sch_departure_time'], axis=1)"
   ]
  },
  {
   "cell_type": "markdown",
   "id": "b208b55d",
   "metadata": {},
   "source": [
    "### Use Label Encoding for trip_id, route_id and stop_id"
   ]
  },
  {
   "cell_type": "code",
   "execution_count": 16,
   "id": "6e76d292",
   "metadata": {},
   "outputs": [],
   "source": [
    "le_trip = LabelEncoder()\n",
    "df['trip_id'] = le_trip.fit_transform(df['trip_id'])"
   ]
  },
  {
   "cell_type": "code",
   "execution_count": 17,
   "id": "2060fe42",
   "metadata": {},
   "outputs": [],
   "source": [
    "le_route = LabelEncoder()\n",
    "df['route_id'] = le_route.fit_transform(df['route_id'])"
   ]
  },
  {
   "cell_type": "code",
   "execution_count": 18,
   "id": "c9d1c547",
   "metadata": {},
   "outputs": [],
   "source": [
    "le_stop = LabelEncoder()\n",
    "df['stop_id'] = le_stop.fit_transform(df['stop_id'])"
   ]
  },
  {
   "cell_type": "markdown",
   "id": "fd6e81a1",
   "metadata": {},
   "source": [
    "### Use Ordinal Encoding for delay_class"
   ]
  },
  {
   "cell_type": "code",
   "execution_count": 19,
   "id": "c89fc498",
   "metadata": {},
   "outputs": [
    {
     "data": {
      "text/plain": [
       "delay_class\n",
       "1    0.881166\n",
       "2    0.109353\n",
       "0    0.009482\n",
       "Name: proportion, dtype: float64"
      ]
     },
     "execution_count": 19,
     "metadata": {},
     "output_type": "execute_result"
    }
   ],
   "source": [
    "delay_map = {value: key for (key, value) in DELAY_CLASS.items()}\n",
    "df['delay_class'] = df['delay_class'].map(delay_map).astype('int64')\n",
    "df['delay_class'].value_counts(normalize=True)"
   ]
  },
  {
   "cell_type": "markdown",
   "id": "227505d8",
   "metadata": {},
   "source": [
    "### Use One Hot Encoding for Weather and Schedule Relationship"
   ]
  },
  {
   "cell_type": "code",
   "execution_count": 20,
   "id": "600214ee",
   "metadata": {},
   "outputs": [
    {
     "data": {
      "text/plain": [
       "weather\n",
       "Overcast            2723768\n",
       "Clear sky            839285\n",
       "Mainly clear         631466\n",
       "Partly cloudy        447877\n",
       "Light drizzle        415693\n",
       "Slight rain          161546\n",
       "Moderate drizzle     118356\n",
       "Dense drizzle         37193\n",
       "Moderate rain          6348\n",
       "Name: count, dtype: int64"
      ]
     },
     "execution_count": 20,
     "metadata": {},
     "output_type": "execute_result"
    }
   ],
   "source": [
    "df['weather'].value_counts()"
   ]
  },
  {
   "cell_type": "code",
   "execution_count": 21,
   "id": "d4faa15c",
   "metadata": {},
   "outputs": [
    {
     "data": {
      "text/plain": [
       "weather\n",
       "Cloudy       3803111\n",
       "Clear sky     839285\n",
       "Drizzle       571242\n",
       "Rain          167894\n",
       "Name: count, dtype: int64"
      ]
     },
     "execution_count": 21,
     "metadata": {},
     "output_type": "execute_result"
    }
   ],
   "source": [
    "# Collapse categories\n",
    "df['weather'] = np.where(df['weather'].isin(['Mainly clear', 'Partly cloudy', 'Overcast']), 'Cloudy', df['weather'])\n",
    "df['weather'] = np.where(df['weather'].isin(['Light drizzle', 'Moderate drizzle', 'Dense drizzle']), 'Drizzle', df['weather'])\n",
    "df['weather'] = np.where(df['weather'].isin(['Slight rain', 'Moderate rain']), 'Rain', df['weather'])\n",
    "df['weather'].value_counts()"
   ]
  },
  {
   "cell_type": "code",
   "execution_count": 22,
   "id": "62d17fe7",
   "metadata": {},
   "outputs": [],
   "source": [
    "# Use One Hot Encoding for weather\n",
    "one_hot = pd.get_dummies(df['weather'], drop_first=True, dtype='int64', prefix='weather')\n",
    "df = df.join(one_hot).drop('weather', axis=1)"
   ]
  },
  {
   "cell_type": "code",
   "execution_count": 23,
   "id": "e8d8e373",
   "metadata": {},
   "outputs": [
    {
     "data": {
      "text/plain": [
       "Index(['stop_name', 'schedule_relationship'], dtype='object')"
      ]
     },
     "execution_count": 23,
     "metadata": {},
     "output_type": "execute_result"
    }
   ],
   "source": [
    "# Get remaining string columns\n",
    "df.select_dtypes(include='object').columns"
   ]
  },
  {
   "cell_type": "code",
   "execution_count": 24,
   "id": "1476bb52",
   "metadata": {},
   "outputs": [],
   "source": [
    "# Drop stop name, as only numerical columns should remain\n",
    "df = df.drop('stop_name', axis=1)"
   ]
  },
  {
   "cell_type": "code",
   "execution_count": 25,
   "id": "3dc66191",
   "metadata": {},
   "outputs": [],
   "source": [
    "# Use One Hot Encoding for schedule_relationship\n",
    "one_hot = pd.get_dummies(df['schedule_relationship'], drop_first=True, dtype='int64', prefix='sch_rel')\n",
    "df = df.join(one_hot).drop('schedule_relationship', axis=1)"
   ]
  },
  {
   "cell_type": "markdown",
   "id": "c83d093d",
   "metadata": {},
   "source": [
    "## Export Data"
   ]
  },
  {
   "cell_type": "code",
   "execution_count": 26,
   "id": "ea440349",
   "metadata": {},
   "outputs": [
    {
     "data": {
      "text/plain": [
       "Index(['trip_id', 'route_id', 'stop_id', 'stop_lat', 'stop_lon',\n",
       "       'stop_distance', 'stop_sequence', 'trip_progress', 'stop_has_alert',\n",
       "       'wheelchair_boarding', 'delay', 'delay_class', 'incident_count',\n",
       "       'incident_nearby', 'temperature', 'precipitation', 'windspeed', 'month',\n",
       "       'day_of_week', 'hour', 'is_weekend', 'is_peak_hour', 'weather_Cloudy',\n",
       "       'weather_Drizzle', 'weather_Rain', 'sch_rel_Scheduled',\n",
       "       'sch_rel_Skipped'],\n",
       "      dtype='object')"
      ]
     },
     "execution_count": 26,
     "metadata": {},
     "output_type": "execute_result"
    }
   ],
   "source": [
    "df.columns"
   ]
  },
  {
   "cell_type": "code",
   "execution_count": 27,
   "id": "89feaf25",
   "metadata": {},
   "outputs": [],
   "source": [
    "# Reorder columns\n",
    "df = df[[\n",
    "\t\t'trip_id',\n",
    "\t\t'route_id',\n",
    "\t\t'stop_id',\n",
    "\t\t'stop_lat',\n",
    "\t\t'stop_lon',\n",
    "\t\t'stop_distance',\n",
    "\t\t'stop_sequence',\n",
    "\t\t'trip_progress',\n",
    "    \t'stop_has_alert',\n",
    "\t\t'sch_rel_Scheduled',\n",
    "       \t'sch_rel_Skipped',\n",
    "\t\t'wheelchair_boarding',\n",
    "    \t'month',\n",
    "\t\t'day_of_week',\n",
    "    \t'hour',\n",
    "    \t'is_weekend',\n",
    "       \t'is_peak_hour',\n",
    "\t\t'incident_count',\n",
    "\t\t'incident_nearby',\n",
    "\t\t'temperature',\n",
    "\t\t'precipitation',\n",
    "\t\t'windspeed',\n",
    "\t\t'weather_Cloudy',\n",
    "    \t'weather_Drizzle',\n",
    "    \t'weather_Rain',\n",
    "    \t'delay',\n",
    "       \t'delay_class',\n",
    "]]"
   ]
  },
  {
   "cell_type": "code",
   "execution_count": 29,
   "id": "f86cec0c",
   "metadata": {},
   "outputs": [],
   "source": [
    "# Assert all columns are numeric\n",
    "assert len(df.columns) == len(df.select_dtypes([np.number]).columns)"
   ]
  },
  {
   "cell_type": "code",
   "execution_count": 30,
   "id": "a19ed45e",
   "metadata": {},
   "outputs": [],
   "source": [
    "# Export encoders\n",
    "encoders = {\n",
    "\t'le_trip': le_trip,\n",
    "  \t'le_route': le_route,\n",
    "  \t'le_stop': le_stop,\n",
    "}\n",
    "\n",
    "with open('../models/label_encoders.pkl', 'wb') as handle:\n",
    "\tpickle.dump(encoders, handle, protocol=pickle.HIGHEST_PROTOCOL)"
   ]
  },
  {
   "cell_type": "code",
   "execution_count": 31,
   "id": "7677485b",
   "metadata": {},
   "outputs": [
    {
     "name": "stdout",
     "output_type": "stream",
     "text": [
      "<class 'pandas.core.frame.DataFrame'>\n",
      "RangeIndex: 5381532 entries, 0 to 5381531\n",
      "Data columns (total 27 columns):\n",
      " #   Column               Dtype  \n",
      "---  ------               -----  \n",
      " 0   trip_id              int64  \n",
      " 1   route_id             int64  \n",
      " 2   stop_id              int64  \n",
      " 3   stop_lat             float64\n",
      " 4   stop_lon             float64\n",
      " 5   stop_distance        float64\n",
      " 6   stop_sequence        int64  \n",
      " 7   trip_progress        float64\n",
      " 8   stop_has_alert       int64  \n",
      " 9   sch_rel_Scheduled    int64  \n",
      " 10  sch_rel_Skipped      int64  \n",
      " 11  wheelchair_boarding  int64  \n",
      " 12  month                int32  \n",
      " 13  day_of_week          int32  \n",
      " 14  hour                 int32  \n",
      " 15  is_weekend           int64  \n",
      " 16  is_peak_hour         int64  \n",
      " 17  incident_count       float64\n",
      " 18  incident_nearby      int64  \n",
      " 19  temperature          float64\n",
      " 20  precipitation        float64\n",
      " 21  windspeed            float64\n",
      " 22  weather_Cloudy       int64  \n",
      " 23  weather_Drizzle      int64  \n",
      " 24  weather_Rain         int64  \n",
      " 25  delay                float64\n",
      " 26  delay_class          int64  \n",
      "dtypes: float64(9), int32(3), int64(15)\n",
      "memory usage: 1.0 GB\n"
     ]
    }
   ],
   "source": [
    "df.info()"
   ]
  },
  {
   "cell_type": "code",
   "execution_count": 32,
   "id": "2344b1d2",
   "metadata": {},
   "outputs": [],
   "source": [
    "# Export dataframe\n",
    "df.to_parquet('../data/preprocessed.parquet', index=False)"
   ]
  },
  {
   "cell_type": "markdown",
   "id": "2d2fc389",
   "metadata": {},
   "source": [
    "## End"
   ]
  }
 ],
 "metadata": {
  "kernelspec": {
   "display_name": "venv",
   "language": "python",
   "name": "python3"
  },
  "language_info": {
   "codemirror_mode": {
    "name": "ipython",
    "version": 3
   },
   "file_extension": ".py",
   "mimetype": "text/x-python",
   "name": "python",
   "nbconvert_exporter": "python",
   "pygments_lexer": "ipython3",
   "version": "3.13.3"
  }
 },
 "nbformat": 4,
 "nbformat_minor": 5
}
