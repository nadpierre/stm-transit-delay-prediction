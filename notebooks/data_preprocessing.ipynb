{
 "cells": [
  {
   "cell_type": "markdown",
   "id": "7a883801",
   "metadata": {},
   "source": [
    "# STM Transit Delay Feature Engineering and Data Preprocessing"
   ]
  },
  {
   "cell_type": "markdown",
   "id": "13f950b4",
   "metadata": {},
   "source": [
    "This notebook preprocesses data about STM trip updates and historical weather data."
   ]
  },
  {
   "cell_type": "markdown",
   "id": "51775b74",
   "metadata": {},
   "source": [
    "## Data Description"
   ]
  },
  {
   "cell_type": "markdown",
   "id": "f39d1571",
   "metadata": {},
   "source": [
    "`trip_id` unique identifier of a trip<br>\n",
    "`route_id` bus or metro line<br>\n",
    "`stop_id` stop number<br>\n",
    "`stop_lat`stop latitude<br>\n",
    "`stop_lon`stop longitude<br>\n",
    "`stop_sequence` sequence of the stop, for ordering<br>\n",
    "`wheelchair_boarding` indicates if the stop is accessible for people in wheelchair, 1 being true and 2 being false<br>\n",
    "`realtime_arrival_time` actual arrival time, in milliseconds<br>\n",
    "`scheduled_arrival_time` planned arrival time, in milliseconds<br>\n",
    "`temperature` air temperature at 2 meters above ground, in Celsius<br>\n",
    "`precipitation` total precipitation (rain, showers, snow) sum of the preceding hour, in millimeters<br>\n",
    "`windspeed` wind speed at 10 meters above ground, in km/h<br>\n",
    "`weathercode` World Meteorological Organization (WMO) code<br>"
   ]
  },
  {
   "cell_type": "markdown",
   "id": "05c49de4",
   "metadata": {},
   "source": [
    "## Imports"
   ]
  },
  {
   "cell_type": "code",
   "execution_count": 43,
   "id": "e5094a27",
   "metadata": {},
   "outputs": [],
   "source": [
    "import numpy as np\n",
    "import pandas as pd\n",
    "import pickle\n",
    "#from sklearn.decomposition import PCA\n",
    "from sklearn.preprocessing import LabelEncoder, StandardScaler\n",
    "import sys"
   ]
  },
  {
   "cell_type": "code",
   "execution_count": 44,
   "id": "568941a9",
   "metadata": {},
   "outputs": [],
   "source": [
    "# Import custom code\n",
    "sys.path.insert(0, '..')\n",
    "from scripts.custom_functions import LOCAL_TIMEZONE, WEATHER_CODES"
   ]
  },
  {
   "cell_type": "code",
   "execution_count": 45,
   "id": "353b54de",
   "metadata": {},
   "outputs": [],
   "source": [
    "# Load data\n",
    "df = pd.read_csv('../data/stm_weather_merged.csv')"
   ]
  },
  {
   "cell_type": "markdown",
   "id": "f2b3d765",
   "metadata": {},
   "source": [
    "## Feature Engineering"
   ]
  },
  {
   "cell_type": "code",
   "execution_count": 46,
   "id": "76d01917",
   "metadata": {},
   "outputs": [],
   "source": [
    "# Sort data\n",
    "df = df.sort_values(by=['trip_id', 'stop_sequence'])"
   ]
  },
  {
   "cell_type": "code",
   "execution_count": 47,
   "id": "c1aecec5",
   "metadata": {},
   "outputs": [],
   "source": [
    "# Convert real and scheduled timestamps\n",
    "df['realtime_arrival_time'] = pd.to_datetime(df['realtime_arrival_time'], origin='unix', unit='ms', utc=True)\n",
    "df['scheduled_arrival_time'] = pd.to_datetime(df['scheduled_arrival_time'], origin='unix', unit='ms', utc=True)"
   ]
  },
  {
   "cell_type": "code",
   "execution_count": null,
   "id": "d7c9b3a2",
   "metadata": {},
   "outputs": [],
   "source": [
    "# Calculate delay in seconds (real - scheduled)\n",
    "df['delay'] = (df['realtime_arrival_time'] - df['scheduled_arrival_time']).dt.total_seconds()"
   ]
  },
  {
   "cell_type": "code",
   "execution_count": 49,
   "id": "bd79c0e0",
   "metadata": {},
   "outputs": [],
   "source": [
    "# Add previous stop delay\n",
    "df['delay_previous_stop'] = df.groupby('trip_id')['delay'].shift(1)"
   ]
  },
  {
   "cell_type": "code",
   "execution_count": 50,
   "id": "e5cb6ecc",
   "metadata": {},
   "outputs": [],
   "source": [
    "# Fill null values with 0\n",
    "df['delay_previous_stop'] = df['delay_previous_stop'].fillna(0)"
   ]
  },
  {
   "cell_type": "code",
   "execution_count": 51,
   "id": "4129eb13",
   "metadata": {},
   "outputs": [],
   "source": [
    "# Add delay difference to track worsening/improving delay\n",
    "df['delay_diff'] = df['delay'] - df['delay_previous_stop']"
   ]
  },
  {
   "cell_type": "code",
   "execution_count": 52,
   "id": "a3bddf01",
   "metadata": {},
   "outputs": [],
   "source": [
    "# Add previous stop latitude and longitude\n",
    "df['prev_lat'] = df.groupby('trip_id')['stop_lat'].shift(1)\n",
    "df['prev_lon'] = df.groupby('trip_id')['stop_lon'].shift(1)"
   ]
  },
  {
   "cell_type": "code",
   "execution_count": 53,
   "id": "b1f98d74",
   "metadata": {},
   "outputs": [],
   "source": [
    "# Fill null values with current latitude and longitude\n",
    "df['prev_lat'] = df['prev_lat'].fillna(df['stop_lat'])\n",
    "df['prev_lon'] = df['prev_lon'].fillna(df['stop_lon'])"
   ]
  },
  {
   "cell_type": "code",
   "execution_count": 54,
   "id": "5d54d716",
   "metadata": {},
   "outputs": [],
   "source": [
    "def get_haversine_dist(lat1, lon1, lat2, lon2) -> float:\n",
    "\t'''Returns the distance in meters between two points'''\n",
    "\tR = 6371000  # Earth radius in meters\n",
    "\tphi1 = np.radians(lat1)\n",
    "\tphi2 = np.radians(lat2)\n",
    "\tdelta_phi = np.radians(lat2 - lat1)\n",
    "\tdelta_lambda = np.radians(lon2 - lon1)\n",
    "\n",
    "\ta = np.sin(delta_phi / 2.0) ** 2 + \\\n",
    "\tnp.cos(phi1) * np.cos(phi2) * np.sin(delta_lambda / 2.0) ** 2\n",
    "\treturn R * 2 * np.arcsin(np.sqrt(a))"
   ]
  },
  {
   "cell_type": "code",
   "execution_count": 55,
   "id": "eb02d7db",
   "metadata": {},
   "outputs": [],
   "source": [
    "# Add stop distance\n",
    "df['stop_distance'] = get_haversine_dist(\n",
    "  \tdf['prev_lat'], df['prev_lon'],\n",
    "\tdf['stop_lat'], df['stop_lon']\n",
    ")"
   ]
  },
  {
   "cell_type": "code",
   "execution_count": 56,
   "id": "56eedd96",
   "metadata": {},
   "outputs": [
    {
     "data": {
      "text/plain": [
       "Index(['trip_id', 'route_id', 'stop_id', 'stop_lat', 'stop_lon',\n",
       "       'stop_sequence', 'wheelchair_boarding', 'realtime_arrival_time',\n",
       "       'scheduled_arrival_time', 'temperature', 'precipitation', 'windspeed',\n",
       "       'weathercode', 'delay', 'delay_previous_stop', 'delay_diff', 'prev_lat',\n",
       "       'prev_lon', 'stop_distance'],\n",
       "      dtype='object')"
      ]
     },
     "execution_count": 56,
     "metadata": {},
     "output_type": "execute_result"
    }
   ],
   "source": [
    "df.columns"
   ]
  },
  {
   "cell_type": "code",
   "execution_count": 57,
   "id": "aa2ec357",
   "metadata": {},
   "outputs": [],
   "source": [
    "# Add previous actual arrival\n",
    "df['prev_actual_arrival'] = df.groupby('trip_id')['realtime_arrival_time'].shift(1)"
   ]
  },
  {
   "cell_type": "code",
   "execution_count": 58,
   "id": "e23cbbc7",
   "metadata": {},
   "outputs": [],
   "source": [
    "# Fill null values with current arrival time\n",
    "df['prev_actual_arrival'] = df['prev_actual_arrival'].fillna(df['realtime_arrival_time'])"
   ]
  },
  {
   "cell_type": "code",
   "execution_count": 67,
   "id": "4e192267",
   "metadata": {},
   "outputs": [],
   "source": [
    "# Add travel time\n",
    "df['travel_time'] = (df['realtime_arrival_time'] - df['prev_actual_arrival']).dt.total_seconds()"
   ]
  },
  {
   "cell_type": "code",
   "execution_count": 68,
   "id": "01a594d8",
   "metadata": {},
   "outputs": [],
   "source": [
    "# Add speed between stops (in m/s)\n",
    "df['speed_between_stops'] = df['stop_distance'] / df['travel_time']"
   ]
  },
  {
   "cell_type": "code",
   "execution_count": 86,
   "id": "3861de43",
   "metadata": {},
   "outputs": [],
   "source": [
    "# Add delay per km\n",
    "df['delay_per_km'] = df['delay'] / (df['stop_distance'] / 1000)"
   ]
  },
  {
   "cell_type": "markdown",
   "id": "6e3eb13f",
   "metadata": {},
   "source": [
    "## Data Preprocessing"
   ]
  },
  {
   "cell_type": "markdown",
   "id": "bf2977d0",
   "metadata": {},
   "source": [
    "### Encode Datetime"
   ]
  },
  {
   "cell_type": "code",
   "execution_count": 72,
   "id": "f00cdc1f",
   "metadata": {},
   "outputs": [
    {
     "data": {
      "text/plain": [
       "26075   2025-04-23 04:53:00-04:00\n",
       "26076   2025-04-23 04:53:56-04:00\n",
       "26077   2025-04-23 04:54:42-04:00\n",
       "26078   2025-04-23 04:55:08-04:00\n",
       "26079   2025-04-23 04:55:35-04:00\n",
       "Name: realtime_arrival_time, dtype: datetime64[ns, Canada/Eastern]"
      ]
     },
     "execution_count": 72,
     "metadata": {},
     "output_type": "execute_result"
    }
   ],
   "source": [
    "# Convert realtime arrival timestamp to datetime\n",
    "rt_arrival_dt = pd.to_datetime(df['realtime_arrival_time'], origin='unix', unit='ms', utc=True)\n",
    "rt_arrival_dt = rt_arrival_dt.dt.tz_convert(LOCAL_TIMEZONE)\n",
    "rt_arrival_dt.head()"
   ]
  },
  {
   "cell_type": "code",
   "execution_count": 73,
   "id": "1fd200a3",
   "metadata": {},
   "outputs": [],
   "source": [
    "# Convert datetime to useful features\n",
    "df['day'] = rt_arrival_dt.dt.day_of_week\n",
    "df['hour'] = rt_arrival_dt.dt.hour"
   ]
  },
  {
   "cell_type": "code",
   "execution_count": 74,
   "id": "ead16beb",
   "metadata": {},
   "outputs": [],
   "source": [
    "# Use Cyclical Encoding for day and hour, as it's more suitable for time-related features\n",
    "# And the model can \"understand\" the wrap-around\n",
    "df['day_sin'] = np.sin(2 * np.pi * df['day'] / 7)\n",
    "df['day_cos'] = np.cos(2 * np.pi * df['day'] / 7)\n",
    "\n",
    "df['hour_sin'] = np.sin(2 * np.pi * df['hour'] / 24)\n",
    "df['hour_cos'] = np.cos(2 * np.pi * df['hour'] / 24)"
   ]
  },
  {
   "cell_type": "code",
   "execution_count": 75,
   "id": "84ef1b88",
   "metadata": {},
   "outputs": [],
   "source": [
    "# Add boolean value is_weekend\n",
    "weekend_mask = df['day'].isin([5, 6])\n",
    "df['is_weekend'] = np.where(weekend_mask, 1, 0)"
   ]
  },
  {
   "cell_type": "code",
   "execution_count": 76,
   "id": "6a7aa507",
   "metadata": {},
   "outputs": [],
   "source": [
    "# Add boolean value is_peak_hour (weekdays from 7-9am or 4-6pm)\n",
    "peak_hour_mask = (weekend_mask == False) & (df['hour'].isin([7, 8, 9, 16, 17, 18]))\n",
    "df['is_peak_hour'] = np.where(peak_hour_mask, 1, 0)"
   ]
  },
  {
   "cell_type": "markdown",
   "id": "94fd3a43",
   "metadata": {},
   "source": [
    "### Convert boolean columns to integer"
   ]
  },
  {
   "cell_type": "code",
   "execution_count": 77,
   "id": "3c370ed4",
   "metadata": {},
   "outputs": [],
   "source": [
    "df['wheelchair_boarding'] = df['wheelchair_boarding'].astype('int64')"
   ]
  },
  {
   "cell_type": "markdown",
   "id": "b208b55d",
   "metadata": {},
   "source": [
    "### Use Label Encoding for route_id and stop_id"
   ]
  },
  {
   "cell_type": "code",
   "execution_count": 78,
   "id": "2060fe42",
   "metadata": {},
   "outputs": [],
   "source": [
    "le_route = LabelEncoder()\n",
    "df['route_id'] = le_route.fit_transform(df['route_id'])"
   ]
  },
  {
   "cell_type": "code",
   "execution_count": 79,
   "id": "c9d1c547",
   "metadata": {},
   "outputs": [],
   "source": [
    "le_stop = LabelEncoder()\n",
    "df['stop_id'] = le_stop.fit_transform(df['stop_id'])"
   ]
  },
  {
   "cell_type": "markdown",
   "id": "227505d8",
   "metadata": {},
   "source": [
    "### Convert weathercode Into Categories"
   ]
  },
  {
   "cell_type": "code",
   "execution_count": 80,
   "id": "600214ee",
   "metadata": {},
   "outputs": [],
   "source": [
    "# Create weather code mapping\n",
    "weathercodes = df['weathercode'].sort_values().unique()\n",
    "condition_list = []\n",
    "label_list = []\n",
    "\n",
    "for code in weathercodes:\n",
    "  condition_list.append(df['weathercode'] == code)\n",
    "  label_list.append(WEATHER_CODES[code])"
   ]
  },
  {
   "cell_type": "code",
   "execution_count": 81,
   "id": "d4faa15c",
   "metadata": {},
   "outputs": [],
   "source": [
    "# Create categories\n",
    "df['weather'] = np.select(condition_list, label_list, default='Unknown')"
   ]
  },
  {
   "cell_type": "code",
   "execution_count": 82,
   "id": "8f65f239",
   "metadata": {},
   "outputs": [],
   "source": [
    "# Use One Hot Encoding\n",
    "one_hot = pd.get_dummies(df['weather'], drop_first=True, dtype='int64', prefix='weather')\n",
    "df = df.drop(['weathercode', 'weather'], axis=1).join(one_hot)"
   ]
  },
  {
   "cell_type": "markdown",
   "id": "399485e1",
   "metadata": {},
   "source": [
    "### Reduce station coordinates to one feature (PCA)"
   ]
  },
  {
   "cell_type": "raw",
   "id": "03b5b1dd",
   "metadata": {
    "vscode": {
     "languageId": "raw"
    }
   },
   "source": [
    "stop_coords = df[['stop_lat', 'stop_lon']]\n",
    "stop_coords"
   ]
  },
  {
   "cell_type": "raw",
   "id": "aa7f36e7",
   "metadata": {
    "vscode": {
     "languageId": "raw"
    }
   },
   "source": [
    "# Scale the coordinates because PCA works best with normalized features\n",
    "scaler_coord = StandardScaler()\n",
    "coords_scaled = scaler_coord.fit_transform(stop_coords)\n",
    "coords_scaled"
   ]
  },
  {
   "cell_type": "raw",
   "id": "9a869dfd",
   "metadata": {
    "vscode": {
     "languageId": "raw"
    }
   },
   "source": [
    "# Apply PCA\n",
    "pca = PCA(n_components=1)\n",
    "pca_coords = pca.fit_transform(coords_scaled)\n",
    "df['pca_coords'] = pca_coords"
   ]
  },
  {
   "cell_type": "raw",
   "id": "fa7f5ff9",
   "metadata": {
    "vscode": {
     "languageId": "raw"
    }
   },
   "source": [
    "# Drop latitude and longitude\n",
    "df = df.drop(['stop_lat', 'stop_lon'], axis=1)"
   ]
  },
  {
   "cell_type": "markdown",
   "id": "c83d093d",
   "metadata": {},
   "source": [
    "## Export Data"
   ]
  },
  {
   "cell_type": "code",
   "execution_count": 87,
   "id": "ea440349",
   "metadata": {},
   "outputs": [
    {
     "data": {
      "text/plain": [
       "Index(['trip_id', 'route_id', 'stop_id', 'stop_lat', 'stop_lon',\n",
       "       'stop_sequence', 'wheelchair_boarding', 'realtime_arrival_time',\n",
       "       'scheduled_arrival_time', 'temperature', 'precipitation', 'windspeed',\n",
       "       'delay', 'delay_previous_stop', 'delay_diff', 'prev_lat', 'prev_lon',\n",
       "       'stop_distance', 'prev_actual_arrival', 'speed_between_stops',\n",
       "       'travel_time', 'delay_per_m', 'day', 'hour', 'day_sin', 'day_cos',\n",
       "       'hour_sin', 'hour_cos', 'is_weekend', 'is_peak_hour',\n",
       "       'weather_Light drizzle', 'weather_Mainly clear',\n",
       "       'weather_Moderate drizzle', 'weather_Moderate rain', 'weather_Overcast',\n",
       "       'weather_Partly cloudy', 'weather_Slight rain', 'delay_per_km'],\n",
       "      dtype='object')"
      ]
     },
     "execution_count": 87,
     "metadata": {},
     "output_type": "execute_result"
    }
   ],
   "source": [
    "df.columns"
   ]
  },
  {
   "cell_type": "code",
   "execution_count": null,
   "id": "89feaf25",
   "metadata": {},
   "outputs": [],
   "source": [
    "# Keep encoded columns and reorder them\n",
    "df = df[[ 'route_id', 'stop_id', 'stop_lat', 'stop_lon', 'prev_lat', 'prev_lon', #'pca_coords',\n",
    "  'wheelchair_boarding', 'day_sin', 'day_cos', 'hour_sin', 'hour_cos', 'is_weekend',\n",
    "  'is_peak_hour', 'delay_previous_stop', 'delay_diff', 'stop_distance', 'speed_between_stops',\n",
    "  'travel_time', 'delay_per_km', 'temperature', 'precipitation', 'windspeed', 'weather_Light drizzle',\n",
    "  'weather_Mainly clear', 'weather_Moderate drizzle', 'weather_Moderate rain', 'weather_Overcast',\n",
    "  'weather_Partly cloudy', 'weather_Slight rain', 'delay']]"
   ]
  },
  {
   "cell_type": "code",
   "execution_count": 89,
   "id": "39ec1e75",
   "metadata": {},
   "outputs": [
    {
     "name": "stdout",
     "output_type": "stream",
     "text": [
      "<class 'pandas.core.frame.DataFrame'>\n",
      "Index: 1678987 entries, 26075 to 373539\n",
      "Data columns (total 30 columns):\n",
      " #   Column                    Non-Null Count    Dtype  \n",
      "---  ------                    --------------    -----  \n",
      " 0   route_id                  1678987 non-null  int64  \n",
      " 1   stop_id                   1678987 non-null  int64  \n",
      " 2   stop_lat                  1678987 non-null  float64\n",
      " 3   stop_lon                  1678987 non-null  float64\n",
      " 4   prev_lat                  1678987 non-null  float64\n",
      " 5   prev_lon                  1678987 non-null  float64\n",
      " 6   wheelchair_boarding       1678987 non-null  int64  \n",
      " 7   day_sin                   1678987 non-null  float64\n",
      " 8   day_cos                   1678987 non-null  float64\n",
      " 9   hour_sin                  1678987 non-null  float64\n",
      " 10  hour_cos                  1678987 non-null  float64\n",
      " 11  is_weekend                1678987 non-null  int64  \n",
      " 12  is_peak_hour              1678987 non-null  int64  \n",
      " 13  delay_previous_stop       1678987 non-null  float64\n",
      " 14  delay_diff                1678987 non-null  float64\n",
      " 15  stop_distance             1678987 non-null  float64\n",
      " 16  speed_between_stops       1661760 non-null  float64\n",
      " 17  travel_time               1678987 non-null  float64\n",
      " 18  delay_per_km              948853 non-null   float64\n",
      " 19  temperature               1678987 non-null  float64\n",
      " 20  precipitation             1678987 non-null  float64\n",
      " 21  windspeed                 1678987 non-null  float64\n",
      " 22  weather_Light drizzle     1678987 non-null  int64  \n",
      " 23  weather_Mainly clear      1678987 non-null  int64  \n",
      " 24  weather_Moderate drizzle  1678987 non-null  int64  \n",
      " 25  weather_Moderate rain     1678987 non-null  int64  \n",
      " 26  weather_Overcast          1678987 non-null  int64  \n",
      " 27  weather_Partly cloudy     1678987 non-null  int64  \n",
      " 28  weather_Slight rain       1678987 non-null  int64  \n",
      " 29  delay                     1678987 non-null  float64\n",
      "dtypes: float64(18), int64(12)\n",
      "memory usage: 461.6 MB\n"
     ]
    }
   ],
   "source": [
    "df.info()"
   ]
  },
  {
   "cell_type": "code",
   "execution_count": 90,
   "id": "a19ed45e",
   "metadata": {},
   "outputs": [],
   "source": [
    "# Export encoders\n",
    "encoders = {\n",
    "  'le_route': le_route,\n",
    "  'le_stop': le_stop\n",
    "}\n",
    "with open('../models/label_encoders.pickle', 'wb') as handle:\n",
    "\tpickle.dump(encoders, handle, protocol=pickle.HIGHEST_PROTOCOL)"
   ]
  },
  {
   "cell_type": "raw",
   "id": "6a7f38e6",
   "metadata": {
    "vscode": {
     "languageId": "raw"
    }
   },
   "source": [
    "# Export scaler\n",
    "with open('../models/coord_scaler.pickle', 'wb') as handle:\n",
    "\tpickle.dump(scaler_coord, handle, protocol=pickle.HIGHEST_PROTOCOL)"
   ]
  },
  {
   "cell_type": "raw",
   "id": "20a85e90",
   "metadata": {
    "vscode": {
     "languageId": "raw"
    }
   },
   "source": [
    "# Export coordinates PCA\n",
    "with open('../models/coord_pca.pickle', 'wb') as handle:\n",
    "\tpickle.dump(pca_coords, handle, protocol=pickle.HIGHEST_PROTOCOL)"
   ]
  },
  {
   "cell_type": "code",
   "execution_count": 91,
   "id": "2344b1d2",
   "metadata": {},
   "outputs": [],
   "source": [
    "# Export dataframe\n",
    "df.to_csv('../data/preprocessed.csv', index=False)"
   ]
  },
  {
   "cell_type": "markdown",
   "id": "2d2fc389",
   "metadata": {},
   "source": [
    "## End"
   ]
  }
 ],
 "metadata": {
  "kernelspec": {
   "display_name": "base",
   "language": "python",
   "name": "python3"
  },
  "language_info": {
   "codemirror_mode": {
    "name": "ipython",
    "version": 3
   },
   "file_extension": ".py",
   "mimetype": "text/x-python",
   "name": "python",
   "nbconvert_exporter": "python",
   "pygments_lexer": "ipython3",
   "version": "3.12.4"
  }
 },
 "nbformat": 4,
 "nbformat_minor": 5
}
