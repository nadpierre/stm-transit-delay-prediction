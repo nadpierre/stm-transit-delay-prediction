{
 "cells": [
  {
   "cell_type": "markdown",
   "id": "7a883801",
   "metadata": {},
   "source": [
    "# STM Transit Delay Data Preprocessing"
   ]
  },
  {
   "cell_type": "markdown",
   "id": "13f950b4",
   "metadata": {},
   "source": [
    "This notebook preprocesses data about STM trip updates and weather data in order to build a tree-based regression model that predicts delays in seconds."
   ]
  },
  {
   "cell_type": "markdown",
   "id": "51775b74",
   "metadata": {},
   "source": [
    "## Data Description"
   ]
  },
  {
   "cell_type": "markdown",
   "id": "f39d1571",
   "metadata": {},
   "source": [
    "`trip_id` unique identifier of a trip<br>\n",
    "`vehicle_id` unique identifier of a vehicle<br>\n",
    "`occupancy_status` degree of passenger occupancy<br>\n",
    "`route_id` bus or metro line<br>\n",
    "`stop_id` stop number<br>\n",
    "`stop_lat`stop latitude<br>\n",
    "`stop_lon`stop longitude<br>\n",
    "`stop_sequence` sequence of the stop, for ordering<br>\n",
    "`trip_progress` how far along the trip is the bys from 0 to 1<br>\n",
    "`wheelchair_boarding` indicates if the stop is accessible for people in wheelchair, 1 being true and 2 being false<br>\n",
    "`realtime_arrival_time` actual arrival time, in milliseconds<br>\n",
    "`scheduled_arrival_time` planned arrival time, in milliseconds<br>\n",
    "`temperature` air temperature at 2 meters above ground, in Celsius<br>\n",
    "`precipitation` total precipitation (rain, showers, snow) sum of the preceding hour, in millimeters<br>\n",
    "`windspeed` wind speed at 10 meters above ground, in km/h<br>\n",
    "`weathercode` World Meteorological Organization (WMO) code<br>\n",
    "`incident_nearby`indicates if an incident happened within 500 meters when the vehicle arrived at the stop"
   ]
  },
  {
   "cell_type": "markdown",
   "id": "05c49de4",
   "metadata": {},
   "source": [
    "## Imports"
   ]
  },
  {
   "cell_type": "code",
   "execution_count": 2,
   "id": "e5094a27",
   "metadata": {},
   "outputs": [],
   "source": [
    "import matplotlib.pyplot as plt\n",
    "import numpy as np\n",
    "import pandas as pd\n",
    "import pickle\n",
    "from sklearn.preprocessing import LabelEncoder\n",
    "import sys"
   ]
  },
  {
   "cell_type": "code",
   "execution_count": 3,
   "id": "568941a9",
   "metadata": {},
   "outputs": [],
   "source": [
    "# Import custom code\n",
    "sys.path.insert(0, '..')\n",
    "from scripts.custom_functions import INCIDENT_CATEGORIES, LOCAL_TIMEZONE, WEATHER_CODES"
   ]
  },
  {
   "cell_type": "code",
   "execution_count": 4,
   "id": "353b54de",
   "metadata": {},
   "outputs": [],
   "source": [
    "# Load data\n",
    "df = pd.read_csv('../data/stm_weather_traffic_merged.csv')"
   ]
  },
  {
   "cell_type": "markdown",
   "id": "f2b3d765",
   "metadata": {},
   "source": [
    "## Calculate Delay"
   ]
  },
  {
   "cell_type": "code",
   "execution_count": 5,
   "id": "c1aecec5",
   "metadata": {},
   "outputs": [],
   "source": [
    "# Convert real and scheduled timestamps\n",
    "df['realtime_arrival_time'] = pd.to_datetime(df['realtime_arrival_time'], origin='unix', unit='ms', utc=True)\n",
    "df['scheduled_arrival_time'] = pd.to_datetime(df['scheduled_arrival_time'], origin='unix', unit='ms', utc=True)"
   ]
  },
  {
   "cell_type": "code",
   "execution_count": 6,
   "id": "d7c9b3a2",
   "metadata": {},
   "outputs": [],
   "source": [
    "# Calculate delay in seconds (real - scheduled)\n",
    "df['delay'] = (df['realtime_arrival_time'] - df['scheduled_arrival_time']).dt.total_seconds()"
   ]
  },
  {
   "cell_type": "markdown",
   "id": "6c14901f",
   "metadata": {},
   "source": [
    "## Small EDA"
   ]
  },
  {
   "cell_type": "code",
   "execution_count": 7,
   "id": "ce963b01",
   "metadata": {},
   "outputs": [
    {
     "data": {
      "text/plain": [
       "stop_sequence             0.095680\n",
       "trip_progress             0.079731\n",
       "occupancy_status          0.053238\n",
       "realtime_arrival_time     0.041258\n",
       "route_id                  0.036896\n",
       "scheduled_arrival_time    0.035773\n",
       "precipitation             0.035693\n",
       "weathercode               0.033833\n",
       "windspeed                 0.030037\n",
       "stop_lat                  0.011847\n",
       "stop_lon                  0.008269\n",
       "vehicle_id                0.007851\n",
       "wheelchair_boarding       0.004501\n",
       "incident_nearby           0.003274\n",
       "stop_id                  -0.003132\n",
       "temperature              -0.002922\n",
       "Name: delay, dtype: float64"
      ]
     },
     "execution_count": 7,
     "metadata": {},
     "output_type": "execute_result"
    }
   ],
   "source": [
    "# Get correlations of features with delay\n",
    "correlations = df.corr().iloc[:-1]['delay']\n",
    "correlations.sort_values(key=abs, ascending=False)"
   ]
  },
  {
   "cell_type": "code",
   "execution_count": 8,
   "id": "8e45ac10",
   "metadata": {},
   "outputs": [
    {
     "data": {
      "text/plain": [
       "count    82063.000000\n",
       "mean        62.032475\n",
       "std        261.426629\n",
       "min      -8222.000000\n",
       "25%          0.000000\n",
       "50%          0.000000\n",
       "75%         70.000000\n",
       "max      21634.000000\n",
       "Name: delay, dtype: float64"
      ]
     },
     "execution_count": 8,
     "metadata": {},
     "output_type": "execute_result"
    }
   ],
   "source": [
    "# Get distribution of delays\n",
    "df['delay'].describe()"
   ]
  },
  {
   "cell_type": "code",
   "execution_count": 9,
   "id": "45fc0b85",
   "metadata": {},
   "outputs": [
    {
     "name": "stdout",
     "output_type": "stream",
     "text": [
      "63.96%\n"
     ]
    }
   ],
   "source": [
    "# Get proportion of trips that are on time\n",
    "on_time_mask = df['delay'] == 0\n",
    "print(f'{(on_time_mask.sum() / len(df)):.2%}')"
   ]
  },
  {
   "cell_type": "code",
   "execution_count": 10,
   "id": "5c07d691",
   "metadata": {},
   "outputs": [
    {
     "data": {
      "image/png": "[encoded data removed]",
      "text/plain": [
       "<Figure size 640x480 with 1 Axes>"
      ]
     },
     "metadata": {},
     "output_type": "display_data"
    }
   ],
   "source": [
    "# Plot distribution of delay\n",
    "plt.hist(df['delay'], bins=50)\n",
    "plt.title('Distribution of delay')\n",
    "plt.xlabel('Delay (seconds)')\n",
    "plt.ylabel('Frequency')\n",
    "plt.savefig('../images/delay_hist.png', bbox_inches='tight')\n",
    "plt.show()"
   ]
  },
  {
   "cell_type": "markdown",
   "id": "0c7db5d0",
   "metadata": {},
   "source": [
    "The plot shows there are some massive delays (~2h15min early to ~5h15min late), which could greatly affect the model performance."
   ]
  },
  {
   "cell_type": "code",
   "execution_count": 11,
   "id": "43739171",
   "metadata": {},
   "outputs": [
    {
     "data": {
      "image/png": "[encoded data removed]",
      "text/plain": [
       "<Figure size 640x480 with 1 Axes>"
      ]
     },
     "metadata": {},
     "output_type": "display_data"
    }
   ],
   "source": [
    "# Plot trip progress vs. delay\n",
    "plt.scatter(x=df['trip_progress'], y=df['delay'])\n",
    "plt.title('Trip Progress vs. Delay')\n",
    "plt.xlabel('Trip Progress')\n",
    "plt.ylabel('Delay (seconds)')\n",
    "plt.savefig('../images/trip_progress_vs_delay.png', bbox_inches='tight')\n",
    "plt.show()"
   ]
  },
  {
   "cell_type": "markdown",
   "id": "a528e661",
   "metadata": {},
   "source": [
    "From the plot, it looks like the delay is relatively stable across the trip progress. There are many data points that appear scattered around the x-axis, indicating that delays do not change significantly throughout the trip in many cases. The wide range of delays suggests that delays are highly variable, but there is not clear relationship between trip progress and delay. This could imply that other factors like traffic, accidents, mechanical issues or weather may have more impact on the delays."
   ]
  },
  {
   "cell_type": "markdown",
   "id": "6e3eb13f",
   "metadata": {},
   "source": [
    "## Data Preprocessing"
   ]
  },
  {
   "cell_type": "markdown",
   "id": "1cdb9b34",
   "metadata": {},
   "source": [
    "### Handle Outliers"
   ]
  },
  {
   "cell_type": "code",
   "execution_count": 12,
   "id": "87b3b85f",
   "metadata": {},
   "outputs": [],
   "source": [
    "# Compute mean and standard deviation\n",
    "mean_delay = df['delay'].mean()\n",
    "std_delay = df['delay'].std()"
   ]
  },
  {
   "cell_type": "code",
   "execution_count": 13,
   "id": "2ffd9ad4",
   "metadata": {},
   "outputs": [],
   "source": [
    "# Filter outliers based on standard deviation\n",
    "outlier_mask = (df['delay'] < mean_delay - 3 * std_delay) | (df['delay'] > mean_delay + 3 * std_delay)"
   ]
  },
  {
   "cell_type": "code",
   "execution_count": 14,
   "id": "5e800bfd",
   "metadata": {},
   "outputs": [
    {
     "data": {
      "application/vnd.microsoft.datawrangler.viewer.v0+json": {
       "columns": [
        {
         "name": "index",
         "rawType": "int64",
         "type": "integer"
        },
        {
         "name": "vehicle_id",
         "rawType": "int64",
         "type": "integer"
        },
        {
         "name": "occupancy_status",
         "rawType": "int64",
         "type": "integer"
        },
        {
         "name": "route_id",
         "rawType": "int64",
         "type": "integer"
        },
        {
         "name": "stop_id",
         "rawType": "int64",
         "type": "integer"
        },
        {
         "name": "stop_lat",
         "rawType": "float64",
         "type": "float"
        },
        {
         "name": "stop_lon",
         "rawType": "float64",
         "type": "float"
        },
        {
         "name": "stop_sequence",
         "rawType": "int64",
         "type": "integer"
        },
        {
         "name": "trip_progress",
         "rawType": "float64",
         "type": "float"
        },
        {
         "name": "wheelchair_boarding",
         "rawType": "int64",
         "type": "integer"
        },
        {
         "name": "realtime_arrival_time",
         "rawType": "datetime64[ns, UTC]",
         "type": "unknown"
        },
        {
         "name": "scheduled_arrival_time",
         "rawType": "datetime64[ns, UTC]",
         "type": "unknown"
        },
        {
         "name": "temperature",
         "rawType": "float64",
         "type": "float"
        },
        {
         "name": "precipitation",
         "rawType": "float64",
         "type": "float"
        },
        {
         "name": "windspeed",
         "rawType": "float64",
         "type": "float"
        },
        {
         "name": "weathercode",
         "rawType": "int64",
         "type": "integer"
        },
        {
         "name": "incident_nearby",
         "rawType": "float64",
         "type": "float"
        },
        {
         "name": "delay",
         "rawType": "float64",
         "type": "float"
        }
       ],
       "conversionMethod": "pd.DataFrame",
       "ref": "3580eb1e-ecaa-4e18-ba29-b0b2133208b7",
       "rows": [
        [
         "115",
         "39046",
         "1",
         "33",
         "54138",
         "45.627527",
         "-73.615294",
         "65",
         "1.0",
         "1",
         "2025-04-28 04:21:52+00:00",
         "2025-04-28 02:39:00+00:00",
         "6.9",
         "0.0",
         "11.2",
         "0",
         "0.0",
         "6172.0"
        ],
        [
         "290",
         "39009",
         "1",
         "747",
         "61334",
         "45.482527",
         "-73.578964",
         "11",
         "0.9166666666666666",
         "1",
         "2025-04-28 03:43:47+00:00",
         "2025-04-28 02:52:00+00:00",
         "6.9",
         "0.0",
         "11.2",
         "0",
         "0.0",
         "3107.0"
        ],
        [
         "336",
         "31051",
         "1",
         "31",
         "61908",
         "45.53375",
         "-73.604679",
         "24",
         "0.8571428571428571",
         "1",
         "2025-04-28 03:51:54+00:00",
         "2025-04-27 22:33:18+00:00",
         "6.9",
         "0.0",
         "11.2",
         "0",
         "0.0",
         "19116.0"
        ],
        [
         "428",
         "40187",
         "1",
         "968",
         "61988",
         "45.510414",
         "-73.81174",
         "3",
         "1.0",
         "1",
         "2025-04-28 03:31:59+00:00",
         "2025-04-28 03:45:00+00:00",
         "6.9",
         "0.0",
         "11.2",
         "0",
         "0.0",
         "-781.0"
        ],
        [
         "454",
         "31051",
         "1",
         "31",
         "61910",
         "45.537355",
         "-73.612186",
         "5",
         "0.2",
         "1",
         "2025-04-28 04:01:12+00:00",
         "2025-04-27 22:50:26+00:00",
         "6.9",
         "0.0",
         "11.2",
         "0",
         "0.0",
         "18646.0"
        ],
        [
         "595",
         "30858",
         "1",
         "439",
         "62096",
         "45.575352",
         "-73.6113",
         "15",
         "0.4285714285714285",
         "1",
         "2025-04-28 13:04:25+00:00",
         "2025-04-28 12:38:43+00:00",
         "19.5",
         "0.0",
         "17.9",
         "0",
         "0.0",
         "1542.0"
        ],
        [
         "606",
         "29102",
         "3",
         "90",
         "51379",
         "45.466379",
         "-73.613089",
         "19",
         "0.5757575757575758",
         "1",
         "2025-04-28 13:00:34+00:00",
         "2025-04-28 12:45:46+00:00",
         "19.5",
         "0.0",
         "17.9",
         "0",
         "0.0",
         "888.0"
        ],
        [
         "926",
         "30154",
         "1",
         "496",
         "57184",
         "45.439375",
         "-73.698136",
         "12",
         "0.5454545454545454",
         "0",
         "2025-04-28 12:43:43+00:00",
         "2025-04-28 13:28:58+00:00",
         "19.5",
         "0.0",
         "17.9",
         "0",
         "0.0",
         "-2715.0"
        ],
        [
         "1016",
         "39038",
         "2",
         "24",
         "51243",
         "45.479449",
         "-73.619946",
         "47",
         "1.0",
         "1",
         "2025-04-28 12:54:54+00:00",
         "2025-04-28 12:40:00+00:00",
         "19.5",
         "0.0",
         "17.9",
         "0",
         "0.0",
         "894.0"
        ],
        [
         "1111",
         "30154",
         "1",
         "496",
         "57506",
         "45.44819",
         "-73.74249",
         "1",
         "0.0454545454545454",
         "1",
         "2025-04-28 12:57:49+00:00",
         "2025-04-28 14:01:00+00:00",
         "19.5",
         "0.0",
         "17.9",
         "0",
         "0.0",
         "-3791.0"
        ],
        [
         "1254",
         "37025",
         "1",
         "103",
         "56388",
         "45.458914",
         "-73.662951",
         "1",
         "0.0476190476190476",
         "1",
         "2025-04-28 12:48:02+00:00",
         "2025-04-28 13:01:00+00:00",
         "19.5",
         "0.0",
         "17.9",
         "0",
         "0.0",
         "-778.0"
        ],
        [
         "1397",
         "40096",
         "2",
         "410",
         "53845",
         "45.520834",
         "-73.550582",
         "27",
         "0.6923076923076923",
         "1",
         "2025-04-28 13:10:01+00:00",
         "2025-04-28 12:49:00+00:00",
         "19.5",
         "0.0",
         "17.9",
         "0",
         "0.0",
         "1261.0"
        ],
        [
         "1425",
         "31084",
         "1",
         "74",
         "62077",
         "45.50112",
         "-73.568373",
         "14",
         "0.9333333333333332",
         "1",
         "2025-04-28 13:21:13+00:00",
         "2025-04-28 13:02:00+00:00",
         "19.5",
         "0.0",
         "17.9",
         "0",
         "0.0",
         "1153.0"
        ],
        [
         "1504",
         "30808",
         "1",
         "439",
         "53019",
         "45.554088",
         "-73.552579",
         "7",
         "0.2",
         "1",
         "2025-04-28 13:05:39+00:00",
         "2025-04-28 12:49:00+00:00",
         "19.5",
         "0.0",
         "17.9",
         "0",
         "0.0",
         "999.0"
        ],
        [
         "1614",
         "31084",
         "1",
         "74",
         "54401",
         "45.482472",
         "-73.538876",
         "13",
         "0.8666666666666667",
         "0",
         "2025-04-28 12:55:43+00:00",
         "2025-04-28 12:33:00+00:00",
         "19.5",
         "0.0",
         "17.9",
         "0",
         "0.0",
         "1363.0"
        ],
        [
         "1635",
         "28119",
         "1",
         "968",
         "61988",
         "45.510414",
         "-73.81174",
         "3",
         "1.0",
         "1",
         "2025-04-28 13:21:59+00:00",
         "2025-04-28 13:36:00+00:00",
         "19.5",
         "0.0",
         "17.9",
         "0",
         "0.0",
         "-841.0"
        ],
        [
         "1693",
         "38014",
         "1",
         "85",
         "53168",
         "45.561309",
         "-73.542393",
         "17",
         "0.2833333333333333",
         "1",
         "2025-04-28 13:01:54+00:00",
         "2025-04-28 12:46:16+00:00",
         "19.5",
         "0.0",
         "17.9",
         "0",
         "0.0",
         "938.0"
        ],
        [
         "1721",
         "31226",
         "2",
         "10",
         "52380",
         "45.535135",
         "-73.572233",
         "10",
         "0.3846153846153846",
         "1",
         "2025-04-28 13:23:21+00:00",
         "2025-04-28 13:02:00+00:00",
         "19.5",
         "0.0",
         "17.9",
         "0",
         "0.0",
         "1281.0"
        ],
        [
         "1730",
         "42033",
         "1",
         "140",
         "55126",
         "45.603774",
         "-73.633609",
         "4",
         "0.0930232558139534",
         "1",
         "2025-04-28 12:46:34+00:00",
         "2025-04-28 13:17:51+00:00",
         "19.5",
         "0.0",
         "17.9",
         "0",
         "0.0",
         "-1877.0"
        ],
        [
         "1739",
         "41004",
         "1",
         "51",
         "50766",
         "45.45675",
         "-73.640602",
         "3",
         "0.0588235294117647",
         "1",
         "2025-04-28 12:59:28+00:00",
         "2025-04-28 13:14:00+00:00",
         "19.5",
         "0.0",
         "17.9",
         "0",
         "0.0",
         "-872.0"
        ],
        [
         "1794",
         "30154",
         "2",
         "496",
         "57216",
         "45.435686",
         "-73.683362",
         "16",
         "0.7272727272727273",
         "1",
         "2025-04-28 12:57:49+00:00",
         "2025-04-28 14:16:28+00:00",
         "19.5",
         "0.0",
         "17.9",
         "0",
         "0.0",
         "-4719.0"
        ],
        [
         "1797",
         "30154",
         "3",
         "496",
         "61330",
         "45.48313",
         "-73.580546",
         "22",
         "1.0",
         "1",
         "2025-04-28 12:57:49+00:00",
         "2025-04-28 14:35:00+00:00",
         "19.5",
         "0.0",
         "17.9",
         "0",
         "0.0",
         "-5831.0"
        ],
        [
         "1861",
         "40199",
         "2",
         "196",
         "57132",
         "45.456289",
         "-73.716463",
         "37",
         "0.6166666666666667",
         "1",
         "2025-04-28 13:00:14+00:00",
         "2025-04-28 12:45:58+00:00",
         "19.5",
         "0.0",
         "17.9",
         "0",
         "0.0",
         "856.0"
        ],
        [
         "1863",
         "38100",
         "1",
         "811",
         "62138",
         "45.589525",
         "-73.537341",
         "1",
         "0.0454545454545454",
         "1",
         "2025-04-28 12:33:00+00:00",
         "2025-04-28 11:44:00+00:00",
         "19.5",
         "0.0",
         "17.9",
         "0",
         "0.0",
         "2940.0"
        ],
        [
         "2276",
         "30849",
         "2",
         "439",
         "53018",
         "45.553626",
         "-73.551944",
         "30",
         "0.8108108108108109",
         "1",
         "2025-04-29 14:32:31+00:00",
         "2025-04-29 13:59:00+00:00",
         "22.5",
         "0.1",
         "13.9",
         "51",
         "0.0",
         "2011.0"
        ],
        [
         "2277",
         "30833",
         "5",
         "439",
         "53018",
         "45.553626",
         "-73.551944",
         "30",
         "0.8108108108108109",
         "1",
         "2025-04-29 15:18:08+00:00",
         "2025-04-29 15:04:00+00:00",
         "22.5",
         "0.1",
         "13.9",
         "51",
         "0.0",
         "848.0"
        ],
        [
         "2278",
         "30825",
         "1",
         "439",
         "53126",
         "45.551397",
         "-73.544999",
         "32",
         "0.8648648648648649",
         "1",
         "2025-04-29 14:59:42+00:00",
         "2025-04-29 14:39:33+00:00",
         "22.5",
         "0.1",
         "13.9",
         "51",
         "0.0",
         "1209.0"
        ],
        [
         "2364",
         "31230",
         "1",
         "34",
         "53285",
         "45.550841",
         "-73.534171",
         "12",
         "0.4444444444444444",
         "1",
         "2025-04-29 15:29:12+00:00",
         "2025-04-29 15:12:45+00:00",
         "22.5",
         "0.1",
         "13.9",
         "51",
         "0.0",
         "987.0"
        ],
        [
         "2365",
         "31230",
         "2",
         "34",
         "53269",
         "45.548628",
         "-73.53547",
         "13",
         "0.4814814814814814",
         "1",
         "2025-04-29 14:30:09+00:00",
         "2025-04-29 14:15:00+00:00",
         "22.5",
         "0.1",
         "13.9",
         "51",
         "0.0",
         "909.0"
        ],
        [
         "2367",
         "31230",
         "3",
         "34",
         "53062",
         "45.526918",
         "-73.550488",
         "25",
         "0.925925925925926",
         "1",
         "2025-04-29 14:40:32+00:00",
         "2025-04-29 14:25:23+00:00",
         "22.5",
         "0.1",
         "13.9",
         "51",
         "0.0",
         "909.0"
        ],
        [
         "2730",
         "40136",
         "1",
         "201",
         "57675",
         "45.452073",
         "-73.81349",
         "10",
         "0.1470588235294117",
         "1",
         "2025-04-29 15:27:44+00:00",
         "2025-04-29 17:10:25+00:00",
         "22.5",
         "0.1",
         "13.9",
         "51",
         "0.0",
         "-6161.0"
        ],
        [
         "2733",
         "40136",
         "2",
         "201",
         "58481",
         "45.435916",
         "-73.847404",
         "26",
         "0.3823529411764705",
         "0",
         "2025-04-29 15:27:44+00:00",
         "2025-04-29 17:26:00+00:00",
         "22.5",
         "0.1",
         "13.9",
         "51",
         "0.0",
         "-7096.0"
        ],
        [
         "2736",
         "40136",
         "2",
         "201",
         "58101",
         "45.465522",
         "-73.87297",
         "41",
         "0.6029411764705882",
         "1",
         "2025-04-29 15:27:44+00:00",
         "2025-04-29 17:40:52+00:00",
         "22.5",
         "0.1",
         "13.9",
         "51",
         "0.0",
         "-7988.0"
        ],
        [
         "3023",
         "37067",
         "1",
         "119",
         "51287",
         "45.505141",
         "-73.617049",
         "6",
         "0.1621621621621621",
         "1",
         "2025-04-29 15:06:02+00:00",
         "2025-04-29 14:33:23+00:00",
         "22.5",
         "0.1",
         "13.9",
         "51",
         "0.0",
         "1959.0"
        ],
        [
         "3067",
         "40136",
         "1",
         "201",
         "60889",
         "45.466413",
         "-73.831252",
         "1",
         "0.0147058823529411",
         "1",
         "2025-04-29 15:27:32+00:00",
         "2025-04-29 17:00:00+00:00",
         "22.5",
         "0.1",
         "13.9",
         "51",
         "0.0",
         "-5548.0"
        ],
        [
         "3078",
         "30833",
         "3",
         "439",
         "62099",
         "45.577486",
         "-73.61625",
         "21",
         "0.5675675675675675",
         "1",
         "2025-04-29 15:00:58+00:00",
         "2025-04-29 14:46:51+00:00",
         "22.5",
         "0.1",
         "13.9",
         "51",
         "0.0",
         "847.0"
        ],
        [
         "3080",
         "30825",
         "2",
         "439",
         "62095",
         "45.571262",
         "-73.602038",
         "23",
         "0.6216216216216216",
         "1",
         "2025-04-29 14:44:09+00:00",
         "2025-04-29 14:24:00+00:00",
         "22.5",
         "0.1",
         "13.9",
         "51",
         "0.0",
         "1209.0"
        ],
        [
         "3389",
         "40073",
         "1",
         "35",
         "52412",
         "45.50443",
         "-73.57224",
         "45",
         "1.0",
         "1",
         "2025-04-29 14:49:26+00:00",
         "2025-04-29 14:28:00+00:00",
         "22.5",
         "0.1",
         "13.9",
         "51",
         "0.0",
         "1286.0"
        ],
        [
         "3493",
         "37067",
         "1",
         "119",
         "56065",
         "45.516052",
         "-73.644078",
         "2",
         "0.0454545454545454",
         "1",
         "2025-04-29 15:24:28+00:00",
         "2025-04-29 15:02:45+00:00",
         "22.5",
         "0.1",
         "13.9",
         "51",
         "0.0",
         "1303.0"
        ],
        [
         "3792",
         "40171",
         "1",
         "968",
         "61988",
         "45.510414",
         "-73.81174",
         "3",
         "1.0",
         "1",
         "2025-04-29 15:22:41+00:00",
         "2025-04-29 15:36:00+00:00",
         "22.5",
         "0.1",
         "13.9",
         "51",
         "0.0",
         "-799.0"
        ],
        [
         "3846",
         "38080",
         "1",
         "201",
         "57621",
         "45.467296",
         "-73.829542",
         "2",
         "0.0294117647058823",
         "1",
         "2025-04-29 14:59:31+00:00",
         "2025-04-29 15:21:28+00:00",
         "22.5",
         "0.1",
         "13.9",
         "51",
         "0.0",
         "-1317.0"
        ],
        [
         "3952",
         "31166",
         "1",
         "10",
         "51858",
         "45.543025",
         "-73.589061",
         "16",
         "0.6153846153846154",
         "1",
         "2025-04-29 15:02:21+00:00",
         "2025-04-29 14:33:00+00:00",
         "22.5",
         "0.1",
         "13.9",
         "51",
         "0.0",
         "1761.0"
        ],
        [
         "3964",
         "31143",
         "1",
         "140",
         "55126",
         "45.603774",
         "-73.633609",
         "4",
         "0.0930232558139534",
         "1",
         "2025-04-29 14:46:20+00:00",
         "2025-04-29 15:17:51+00:00",
         "22.5",
         "0.1",
         "13.9",
         "51",
         "0.0",
         "-1891.0"
        ],
        [
         "4136",
         "38035",
         "1",
         "811",
         "62138",
         "45.589525",
         "-73.537341",
         "1",
         "0.0454545454545454",
         "1",
         "2025-04-29 14:59:00+00:00",
         "2025-04-29 14:10:00+00:00",
         "22.5",
         "0.1",
         "13.9",
         "51",
         "0.0",
         "2940.0"
        ],
        [
         "4308",
         "31123",
         "2",
         "48",
         "50413",
         "45.57308",
         "-73.657268",
         "48",
         "0.96",
         "1",
         "2025-04-28 16:17:05+00:00",
         "2025-04-28 16:01:41+00:00",
         "20.7",
         "0.0",
         "17.8",
         "0",
         "0.0",
         "924.0"
        ],
        [
         "4570",
         "31123",
         "2",
         "48",
         "55129",
         "45.610545",
         "-73.632942",
         "38",
         "0.76",
         "1",
         "2025-04-28 16:02:11+00:00",
         "2025-04-28 15:46:27+00:00",
         "20.7",
         "0.0",
         "17.8",
         "0",
         "0.0",
         "944.0"
        ],
        [
         "4853",
         "40138",
         "1",
         "201",
         "57616",
         "45.469658",
         "-73.831514",
         "66",
         "0.9705882352941176",
         "1",
         "2025-04-28 16:27:44+00:00",
         "2025-04-28 17:30:14+00:00",
         "20.7",
         "0.0",
         "17.8",
         "0",
         "0.0",
         "-3750.0"
        ],
        [
         "5270",
         "30005",
         "2",
         "51",
         "51086",
         "45.486787",
         "-73.626289",
         "24",
         "0.4705882352941176",
         "1",
         "2025-04-28 16:08:12+00:00",
         "2025-04-28 15:39:01+00:00",
         "20.7",
         "0.0",
         "17.8",
         "0",
         "0.0",
         "1751.0"
        ],
        [
         "5936",
         "40161",
         "2",
         "968",
         "61988",
         "45.510414",
         "-73.81174",
         "3",
         "1.0",
         "1",
         "2025-04-28 16:21:59+00:00",
         "2025-04-28 16:36:00+00:00",
         "20.7",
         "0.0",
         "17.8",
         "0",
         "0.0",
         "-841.0"
        ],
        [
         "6105",
         "30005",
         "3",
         "51",
         "56319",
         "45.477267",
         "-73.636533",
         "17",
         "0.3333333333333333",
         "1",
         "2025-04-28 16:00:12+00:00",
         "2025-04-28 15:30:51+00:00",
         "20.7",
         "0.0",
         "17.8",
         "0",
         "0.0",
         "1761.0"
        ]
       ],
       "shape": {
        "columns": 17,
        "rows": 998
       }
      },
      "text/html": [
       "<div>\n",
       "<style scoped>\n",
       "    .dataframe tbody tr th:only-of-type {\n",
       "        vertical-align: middle;\n",
       "    }\n",
       "\n",
       "    .dataframe tbody tr th {\n",
       "        vertical-align: top;\n",
       "    }\n",
       "\n",
       "    .dataframe thead th {\n",
       "        text-align: right;\n",
       "    }\n",
       "</style>\n",
       "<table border=\"1\" class=\"dataframe\">\n",
       "  <thead>\n",
       "    <tr style=\"text-align: right;\">\n",
       "      <th></th>\n",
       "      <th>vehicle_id</th>\n",
       "      <th>occupancy_status</th>\n",
       "      <th>route_id</th>\n",
       "      <th>stop_id</th>\n",
       "      <th>stop_lat</th>\n",
       "      <th>stop_lon</th>\n",
       "      <th>stop_sequence</th>\n",
       "      <th>trip_progress</th>\n",
       "      <th>wheelchair_boarding</th>\n",
       "      <th>realtime_arrival_time</th>\n",
       "      <th>scheduled_arrival_time</th>\n",
       "      <th>temperature</th>\n",
       "      <th>precipitation</th>\n",
       "      <th>windspeed</th>\n",
       "      <th>weathercode</th>\n",
       "      <th>incident_nearby</th>\n",
       "      <th>delay</th>\n",
       "    </tr>\n",
       "  </thead>\n",
       "  <tbody>\n",
       "    <tr>\n",
       "      <th>115</th>\n",
       "      <td>39046</td>\n",
       "      <td>1</td>\n",
       "      <td>33</td>\n",
       "      <td>54138</td>\n",
       "      <td>45.627527</td>\n",
       "      <td>-73.615294</td>\n",
       "      <td>65</td>\n",
       "      <td>1.000000</td>\n",
       "      <td>1</td>\n",
       "      <td>2025-04-28 04:21:52+00:00</td>\n",
       "      <td>2025-04-28 02:39:00+00:00</td>\n",
       "      <td>6.9</td>\n",
       "      <td>0.0</td>\n",
       "      <td>11.2</td>\n",
       "      <td>0</td>\n",
       "      <td>0.0</td>\n",
       "      <td>6172.0</td>\n",
       "    </tr>\n",
       "    <tr>\n",
       "      <th>290</th>\n",
       "      <td>39009</td>\n",
       "      <td>1</td>\n",
       "      <td>747</td>\n",
       "      <td>61334</td>\n",
       "      <td>45.482527</td>\n",
       "      <td>-73.578964</td>\n",
       "      <td>11</td>\n",
       "      <td>0.916667</td>\n",
       "      <td>1</td>\n",
       "      <td>2025-04-28 03:43:47+00:00</td>\n",
       "      <td>2025-04-28 02:52:00+00:00</td>\n",
       "      <td>6.9</td>\n",
       "      <td>0.0</td>\n",
       "      <td>11.2</td>\n",
       "      <td>0</td>\n",
       "      <td>0.0</td>\n",
       "      <td>3107.0</td>\n",
       "    </tr>\n",
       "    <tr>\n",
       "      <th>336</th>\n",
       "      <td>31051</td>\n",
       "      <td>1</td>\n",
       "      <td>31</td>\n",
       "      <td>61908</td>\n",
       "      <td>45.533750</td>\n",
       "      <td>-73.604679</td>\n",
       "      <td>24</td>\n",
       "      <td>0.857143</td>\n",
       "      <td>1</td>\n",
       "      <td>2025-04-28 03:51:54+00:00</td>\n",
       "      <td>2025-04-27 22:33:18+00:00</td>\n",
       "      <td>6.9</td>\n",
       "      <td>0.0</td>\n",
       "      <td>11.2</td>\n",
       "      <td>0</td>\n",
       "      <td>0.0</td>\n",
       "      <td>19116.0</td>\n",
       "    </tr>\n",
       "    <tr>\n",
       "      <th>428</th>\n",
       "      <td>40187</td>\n",
       "      <td>1</td>\n",
       "      <td>968</td>\n",
       "      <td>61988</td>\n",
       "      <td>45.510414</td>\n",
       "      <td>-73.811740</td>\n",
       "      <td>3</td>\n",
       "      <td>1.000000</td>\n",
       "      <td>1</td>\n",
       "      <td>2025-04-28 03:31:59+00:00</td>\n",
       "      <td>2025-04-28 03:45:00+00:00</td>\n",
       "      <td>6.9</td>\n",
       "      <td>0.0</td>\n",
       "      <td>11.2</td>\n",
       "      <td>0</td>\n",
       "      <td>0.0</td>\n",
       "      <td>-781.0</td>\n",
       "    </tr>\n",
       "    <tr>\n",
       "      <th>454</th>\n",
       "      <td>31051</td>\n",
       "      <td>1</td>\n",
       "      <td>31</td>\n",
       "      <td>61910</td>\n",
       "      <td>45.537355</td>\n",
       "      <td>-73.612186</td>\n",
       "      <td>5</td>\n",
       "      <td>0.200000</td>\n",
       "      <td>1</td>\n",
       "      <td>2025-04-28 04:01:12+00:00</td>\n",
       "      <td>2025-04-27 22:50:26+00:00</td>\n",
       "      <td>6.9</td>\n",
       "      <td>0.0</td>\n",
       "      <td>11.2</td>\n",
       "      <td>0</td>\n",
       "      <td>0.0</td>\n",
       "      <td>18646.0</td>\n",
       "    </tr>\n",
       "    <tr>\n",
       "      <th>...</th>\n",
       "      <td>...</td>\n",
       "      <td>...</td>\n",
       "      <td>...</td>\n",
       "      <td>...</td>\n",
       "      <td>...</td>\n",
       "      <td>...</td>\n",
       "      <td>...</td>\n",
       "      <td>...</td>\n",
       "      <td>...</td>\n",
       "      <td>...</td>\n",
       "      <td>...</td>\n",
       "      <td>...</td>\n",
       "      <td>...</td>\n",
       "      <td>...</td>\n",
       "      <td>...</td>\n",
       "      <td>...</td>\n",
       "      <td>...</td>\n",
       "    </tr>\n",
       "    <tr>\n",
       "      <th>81848</th>\n",
       "      <td>40142</td>\n",
       "      <td>3</td>\n",
       "      <td>968</td>\n",
       "      <td>61988</td>\n",
       "      <td>45.510414</td>\n",
       "      <td>-73.811740</td>\n",
       "      <td>3</td>\n",
       "      <td>1.000000</td>\n",
       "      <td>1</td>\n",
       "      <td>2025-04-30 00:25:20+00:00</td>\n",
       "      <td>2025-04-30 00:05:00+00:00</td>\n",
       "      <td>16.3</td>\n",
       "      <td>0.0</td>\n",
       "      <td>25.0</td>\n",
       "      <td>1</td>\n",
       "      <td>0.0</td>\n",
       "      <td>1220.0</td>\n",
       "    </tr>\n",
       "    <tr>\n",
       "      <th>81905</th>\n",
       "      <td>30038</td>\n",
       "      <td>1</td>\n",
       "      <td>811</td>\n",
       "      <td>62138</td>\n",
       "      <td>45.589525</td>\n",
       "      <td>-73.537341</td>\n",
       "      <td>1</td>\n",
       "      <td>0.045455</td>\n",
       "      <td>1</td>\n",
       "      <td>2025-04-29 23:42:00+00:00</td>\n",
       "      <td>2025-04-29 22:57:00+00:00</td>\n",
       "      <td>16.3</td>\n",
       "      <td>0.0</td>\n",
       "      <td>25.0</td>\n",
       "      <td>1</td>\n",
       "      <td>0.0</td>\n",
       "      <td>2700.0</td>\n",
       "    </tr>\n",
       "    <tr>\n",
       "      <th>81906</th>\n",
       "      <td>38004</td>\n",
       "      <td>1</td>\n",
       "      <td>811</td>\n",
       "      <td>62138</td>\n",
       "      <td>45.589525</td>\n",
       "      <td>-73.537341</td>\n",
       "      <td>1</td>\n",
       "      <td>0.045455</td>\n",
       "      <td>1</td>\n",
       "      <td>2025-04-30 00:12:00+00:00</td>\n",
       "      <td>2025-04-29 23:27:00+00:00</td>\n",
       "      <td>16.3</td>\n",
       "      <td>0.0</td>\n",
       "      <td>25.0</td>\n",
       "      <td>1</td>\n",
       "      <td>0.0</td>\n",
       "      <td>2700.0</td>\n",
       "    </tr>\n",
       "    <tr>\n",
       "      <th>81908</th>\n",
       "      <td>41070</td>\n",
       "      <td>1</td>\n",
       "      <td>460</td>\n",
       "      <td>55011</td>\n",
       "      <td>45.575878</td>\n",
       "      <td>-73.593856</td>\n",
       "      <td>33</td>\n",
       "      <td>0.891892</td>\n",
       "      <td>1</td>\n",
       "      <td>2025-04-30 00:00:49+00:00</td>\n",
       "      <td>2025-04-29 23:28:00+00:00</td>\n",
       "      <td>16.3</td>\n",
       "      <td>0.0</td>\n",
       "      <td>25.0</td>\n",
       "      <td>1</td>\n",
       "      <td>0.0</td>\n",
       "      <td>1969.0</td>\n",
       "    </tr>\n",
       "    <tr>\n",
       "      <th>81923</th>\n",
       "      <td>37064</td>\n",
       "      <td>2</td>\n",
       "      <td>100</td>\n",
       "      <td>56119</td>\n",
       "      <td>45.528622</td>\n",
       "      <td>-73.649409</td>\n",
       "      <td>33</td>\n",
       "      <td>0.767442</td>\n",
       "      <td>1</td>\n",
       "      <td>2025-04-29 23:33:54+00:00</td>\n",
       "      <td>2025-04-29 23:16:29+00:00</td>\n",
       "      <td>16.3</td>\n",
       "      <td>0.0</td>\n",
       "      <td>25.0</td>\n",
       "      <td>1</td>\n",
       "      <td>0.0</td>\n",
       "      <td>1045.0</td>\n",
       "    </tr>\n",
       "  </tbody>\n",
       "</table>\n",
       "<p>998 rows × 17 columns</p>\n",
       "</div>"
      ],
      "text/plain": [
       "       vehicle_id  occupancy_status  route_id  stop_id   stop_lat   stop_lon  \\\n",
       "115         39046                 1        33    54138  45.627527 -73.615294   \n",
       "290         39009                 1       747    61334  45.482527 -73.578964   \n",
       "336         31051                 1        31    61908  45.533750 -73.604679   \n",
       "428         40187                 1       968    61988  45.510414 -73.811740   \n",
       "454         31051                 1        31    61910  45.537355 -73.612186   \n",
       "...           ...               ...       ...      ...        ...        ...   \n",
       "81848       40142                 3       968    61988  45.510414 -73.811740   \n",
       "81905       30038                 1       811    62138  45.589525 -73.537341   \n",
       "81906       38004                 1       811    62138  45.589525 -73.537341   \n",
       "81908       41070                 1       460    55011  45.575878 -73.593856   \n",
       "81923       37064                 2       100    56119  45.528622 -73.649409   \n",
       "\n",
       "       stop_sequence  trip_progress  wheelchair_boarding  \\\n",
       "115               65       1.000000                    1   \n",
       "290               11       0.916667                    1   \n",
       "336               24       0.857143                    1   \n",
       "428                3       1.000000                    1   \n",
       "454                5       0.200000                    1   \n",
       "...              ...            ...                  ...   \n",
       "81848              3       1.000000                    1   \n",
       "81905              1       0.045455                    1   \n",
       "81906              1       0.045455                    1   \n",
       "81908             33       0.891892                    1   \n",
       "81923             33       0.767442                    1   \n",
       "\n",
       "          realtime_arrival_time    scheduled_arrival_time  temperature  \\\n",
       "115   2025-04-28 04:21:52+00:00 2025-04-28 02:39:00+00:00          6.9   \n",
       "290   2025-04-28 03:43:47+00:00 2025-04-28 02:52:00+00:00          6.9   \n",
       "336   2025-04-28 03:51:54+00:00 2025-04-27 22:33:18+00:00          6.9   \n",
       "428   2025-04-28 03:31:59+00:00 2025-04-28 03:45:00+00:00          6.9   \n",
       "454   2025-04-28 04:01:12+00:00 2025-04-27 22:50:26+00:00          6.9   \n",
       "...                         ...                       ...          ...   \n",
       "81848 2025-04-30 00:25:20+00:00 2025-04-30 00:05:00+00:00         16.3   \n",
       "81905 2025-04-29 23:42:00+00:00 2025-04-29 22:57:00+00:00         16.3   \n",
       "81906 2025-04-30 00:12:00+00:00 2025-04-29 23:27:00+00:00         16.3   \n",
       "81908 2025-04-30 00:00:49+00:00 2025-04-29 23:28:00+00:00         16.3   \n",
       "81923 2025-04-29 23:33:54+00:00 2025-04-29 23:16:29+00:00         16.3   \n",
       "\n",
       "       precipitation  windspeed  weathercode  incident_nearby    delay  \n",
       "115              0.0       11.2            0              0.0   6172.0  \n",
       "290              0.0       11.2            0              0.0   3107.0  \n",
       "336              0.0       11.2            0              0.0  19116.0  \n",
       "428              0.0       11.2            0              0.0   -781.0  \n",
       "454              0.0       11.2            0              0.0  18646.0  \n",
       "...              ...        ...          ...              ...      ...  \n",
       "81848            0.0       25.0            1              0.0   1220.0  \n",
       "81905            0.0       25.0            1              0.0   2700.0  \n",
       "81906            0.0       25.0            1              0.0   2700.0  \n",
       "81908            0.0       25.0            1              0.0   1969.0  \n",
       "81923            0.0       25.0            1              0.0   1045.0  \n",
       "\n",
       "[998 rows x 17 columns]"
      ]
     },
     "execution_count": 14,
     "metadata": {},
     "output_type": "execute_result"
    }
   ],
   "source": [
    "# Get outliers\n",
    "df[outlier_mask]"
   ]
  },
  {
   "cell_type": "code",
   "execution_count": 15,
   "id": "faac02db",
   "metadata": {},
   "outputs": [
    {
     "name": "stdout",
     "output_type": "stream",
     "text": [
      "1.22%\n"
     ]
    }
   ],
   "source": [
    "# Get proportion of outliers\n",
    "print(f'{outlier_mask.mean():.2%}')"
   ]
  },
  {
   "cell_type": "code",
   "execution_count": 16,
   "id": "b138ed79",
   "metadata": {},
   "outputs": [],
   "source": [
    "# Remove outliers\n",
    "df = df[~outlier_mask]"
   ]
  },
  {
   "cell_type": "code",
   "execution_count": 17,
   "id": "58964489",
   "metadata": {},
   "outputs": [
    {
     "data": {
      "text/plain": [
       "count    81065.000000\n",
       "mean        51.397829\n",
       "std        130.212795\n",
       "min       -722.000000\n",
       "25%          0.000000\n",
       "50%          0.000000\n",
       "75%         62.000000\n",
       "max        846.000000\n",
       "Name: delay, dtype: float64"
      ]
     },
     "execution_count": 17,
     "metadata": {},
     "output_type": "execute_result"
    }
   ],
   "source": [
    "# Get new distribution\n",
    "df['delay'].describe()"
   ]
  },
  {
   "cell_type": "markdown",
   "id": "cc37d7c3",
   "metadata": {},
   "source": [
    "The delay ranging from ~16 min early to 18min45sec seems more reasonable."
   ]
  },
  {
   "cell_type": "code",
   "execution_count": 18,
   "id": "58516e55",
   "metadata": {},
   "outputs": [
    {
     "data": {
      "text/plain": [
       "Index(['vehicle_id', 'occupancy_status', 'route_id', 'stop_id', 'stop_lat',\n",
       "       'stop_lon', 'stop_sequence', 'trip_progress', 'wheelchair_boarding',\n",
       "       'realtime_arrival_time', 'scheduled_arrival_time', 'temperature',\n",
       "       'precipitation', 'windspeed', 'weathercode', 'incident_nearby',\n",
       "       'delay'],\n",
       "      dtype='object')"
      ]
     },
     "execution_count": 18,
     "metadata": {},
     "output_type": "execute_result"
    }
   ],
   "source": [
    "df.columns"
   ]
  },
  {
   "cell_type": "markdown",
   "id": "bf2977d0",
   "metadata": {},
   "source": [
    "### Encode Datetime"
   ]
  },
  {
   "cell_type": "code",
   "execution_count": 19,
   "id": "4fc40e12",
   "metadata": {},
   "outputs": [],
   "source": [
    "# Convert arrival times to local timezone\n",
    "df['realtime_arrival_time'] = df['realtime_arrival_time'].dt.tz_convert(LOCAL_TIMEZONE)\n",
    "df['scheduled_arrival_time'] = df['scheduled_arrival_time'].dt.tz_convert(LOCAL_TIMEZONE)"
   ]
  },
  {
   "cell_type": "code",
   "execution_count": 20,
   "id": "462a448b",
   "metadata": {},
   "outputs": [],
   "source": [
    "# Convert datetimes to day and hour\n",
    "df['day'] = df['realtime_arrival_time'].dt.day_of_week\n",
    "df['hour'] = df['realtime_arrival_time'].dt.hour\n",
    "\n",
    "df['sch_day'] = df['scheduled_arrival_time'].dt.day_of_week\n",
    "df['sch_hour'] = df['scheduled_arrival_time'].dt.hour"
   ]
  },
  {
   "cell_type": "code",
   "execution_count": 21,
   "id": "ead16beb",
   "metadata": {},
   "outputs": [],
   "source": [
    "# Use Cyclical Encoding for day and hour, as it's more suitable for time-related features\n",
    "# And the model can \"understand\" the wrap-around\n",
    "df['day_sin'] = np.sin(2 * np.pi * df['day'] / 7)\n",
    "df['day_cos'] = np.cos(2 * np.pi * df['day'] / 7)\n",
    "\n",
    "df['sch_day_sin'] = np.sin(2 * np.pi * df['sch_day'] / 7)\n",
    "df['sch_day_cos'] = np.cos(2 * np.pi * df['sch_day'] / 7)\n",
    "\n",
    "df['hour_sin'] = np.sin(2 * np.pi * df['hour'] / 24)\n",
    "df['hour_cos'] = np.cos(2 * np.pi * df['hour'] / 24)\n",
    "\n",
    "df['sch_hour_sin'] = np.sin(2 * np.pi * df['sch_hour'] / 24)\n",
    "df['sch_hour_cos'] = np.cos(2 * np.pi * df['sch_hour'] / 24)"
   ]
  },
  {
   "cell_type": "code",
   "execution_count": 22,
   "id": "84ef1b88",
   "metadata": {},
   "outputs": [],
   "source": [
    "# Add boolean value is_weekend\n",
    "weekend_mask = df['day'].isin([5, 6])\n",
    "df['is_weekend'] = np.where(weekend_mask, 1, 0)"
   ]
  },
  {
   "cell_type": "code",
   "execution_count": 23,
   "id": "6a7aa507",
   "metadata": {},
   "outputs": [],
   "source": [
    "# Add boolean value is_peak_hour (weekdays from 7-9am or 4-6pm)\n",
    "peak_hour_mask = (weekend_mask == False) & (df['hour'].isin([7, 8, 9, 16, 17, 18]))\n",
    "df['is_peak_hour'] = np.where(peak_hour_mask, 1, 0)"
   ]
  },
  {
   "cell_type": "markdown",
   "id": "b208b55d",
   "metadata": {},
   "source": [
    "### Use Label Encoding for vehicle_id, route_id and stop_id"
   ]
  },
  {
   "cell_type": "code",
   "execution_count": 24,
   "id": "561f6e68",
   "metadata": {},
   "outputs": [],
   "source": [
    "le_vehicle = LabelEncoder()\n",
    "df['vehicle_id'] = le_vehicle.fit_transform(df['vehicle_id'])"
   ]
  },
  {
   "cell_type": "code",
   "execution_count": 25,
   "id": "2060fe42",
   "metadata": {},
   "outputs": [],
   "source": [
    "le_route = LabelEncoder()\n",
    "df['route_id'] = le_route.fit_transform(df['route_id'])"
   ]
  },
  {
   "cell_type": "code",
   "execution_count": 26,
   "id": "c9d1c547",
   "metadata": {},
   "outputs": [],
   "source": [
    "le_stop = LabelEncoder()\n",
    "df['stop_id'] = le_stop.fit_transform(df['stop_id'])"
   ]
  },
  {
   "cell_type": "markdown",
   "id": "227505d8",
   "metadata": {},
   "source": [
    "### Convert weathercode to Categories"
   ]
  },
  {
   "cell_type": "code",
   "execution_count": 27,
   "id": "600214ee",
   "metadata": {},
   "outputs": [],
   "source": [
    "# Create weather code mapping\n",
    "weathercodes = df['weathercode'].sort_values().unique()\n",
    "condition_list = []\n",
    "label_list = []\n",
    "\n",
    "for code in weathercodes:\n",
    "  condition_list.append(df['weathercode'] == code)\n",
    "  label_list.append(WEATHER_CODES[code])"
   ]
  },
  {
   "cell_type": "code",
   "execution_count": 28,
   "id": "d4faa15c",
   "metadata": {},
   "outputs": [],
   "source": [
    "# Create categories\n",
    "df['weather'] = np.select(condition_list, label_list, default='Unknown')"
   ]
  },
  {
   "cell_type": "code",
   "execution_count": 29,
   "id": "62d17fe7",
   "metadata": {},
   "outputs": [
    {
     "data": {
      "text/plain": [
       "weather\n",
       "Clear sky        41439\n",
       "Overcast         13574\n",
       "Light drizzle    11626\n",
       "Partly cloudy     8209\n",
       "Mainly clear      6217\n",
       "Name: count, dtype: int64"
      ]
     },
     "execution_count": 29,
     "metadata": {},
     "output_type": "execute_result"
    }
   ],
   "source": [
    "df['weather'].value_counts()"
   ]
  },
  {
   "cell_type": "raw",
   "id": "c82b497b",
   "metadata": {
    "vscode": {
     "languageId": "raw"
    }
   },
   "source": [
    "# Collapsing categories to 6 max\n",
    "df['weather'] = np.where(df['weather'].isin(['Light drizzle', 'Moderate drizzle', 'Dense drizzle']), 'Drizzle', df['weather'])\n",
    "df['weather'] = np.where(df['weather'].isin(['Slight rain', 'Moderate rain']), 'Rain', df['weather'])\n",
    "df['weather'].value_counts()"
   ]
  },
  {
   "cell_type": "code",
   "execution_count": 30,
   "id": "8f65f239",
   "metadata": {},
   "outputs": [],
   "source": [
    "# Use One Hot Encoding\n",
    "one_hot = pd.get_dummies(df['weather'], drop_first=True, dtype='int64', prefix='weather')\n",
    "df = df.join(one_hot)"
   ]
  },
  {
   "cell_type": "markdown",
   "id": "0b15844b",
   "metadata": {},
   "source": [
    "### Convert incident_category to Categories "
   ]
  },
  {
   "cell_type": "raw",
   "id": "a6ed42bb",
   "metadata": {
    "vscode": {
     "languageId": "raw"
    }
   },
   "source": [
    "# Create incident code mapping\n",
    "incident_codes = df['incident_category'].dropna().sort_values().unique()\n",
    "condition_list = []\n",
    "label_list = []\n",
    "\n",
    "for code in incident_codes:\n",
    "  condition_list.append(df['incident_category'] == code)\n",
    "  label_list.append(INCIDENT_CATEGORIES[code])"
   ]
  },
  {
   "cell_type": "raw",
   "id": "2719011a",
   "metadata": {
    "vscode": {
     "languageId": "raw"
    }
   },
   "source": [
    "# Create categories\n",
    "df['incident'] = np.select(condition_list, label_list)"
   ]
  },
  {
   "cell_type": "raw",
   "id": "69ccdcac",
   "metadata": {
    "vscode": {
     "languageId": "raw"
    }
   },
   "source": [
    "df['incident'].value_counts()"
   ]
  },
  {
   "cell_type": "raw",
   "id": "08cc029b",
   "metadata": {
    "vscode": {
     "languageId": "raw"
    }
   },
   "source": [
    "# Use One Hot Encoding\n",
    "one_hot = pd.get_dummies(df['incident'], drop_first=True, dtype='int64', prefix='incident')\n",
    "df = df.join(one_hot)"
   ]
  },
  {
   "cell_type": "markdown",
   "id": "c83d093d",
   "metadata": {},
   "source": [
    "## Export Data"
   ]
  },
  {
   "cell_type": "code",
   "execution_count": 31,
   "id": "ea440349",
   "metadata": {},
   "outputs": [
    {
     "data": {
      "text/plain": [
       "Index(['vehicle_id', 'occupancy_status', 'route_id', 'stop_id', 'stop_lat',\n",
       "       'stop_lon', 'stop_sequence', 'trip_progress', 'wheelchair_boarding',\n",
       "       'realtime_arrival_time', 'scheduled_arrival_time', 'temperature',\n",
       "       'precipitation', 'windspeed', 'weathercode', 'incident_nearby', 'delay',\n",
       "       'day', 'hour', 'sch_day', 'sch_hour', 'day_sin', 'day_cos',\n",
       "       'sch_day_sin', 'sch_day_cos', 'hour_sin', 'hour_cos', 'sch_hour_sin',\n",
       "       'sch_hour_cos', 'is_weekend', 'is_peak_hour', 'weather',\n",
       "       'weather_Light drizzle', 'weather_Mainly clear', 'weather_Overcast',\n",
       "       'weather_Partly cloudy'],\n",
       "      dtype='object')"
      ]
     },
     "execution_count": 31,
     "metadata": {},
     "output_type": "execute_result"
    }
   ],
   "source": [
    "df.columns"
   ]
  },
  {
   "cell_type": "code",
   "execution_count": 33,
   "id": "89feaf25",
   "metadata": {},
   "outputs": [],
   "source": [
    "# Keep encoded columns and reorder them\n",
    "df = df[[\n",
    "\t'vehicle_id',\n",
    "  \t'occupancy_status',\n",
    "  \t'route_id', \n",
    "  \t'stop_id',\n",
    "  \t'stop_lat',\n",
    "  \t'stop_lon',\n",
    "\t'stop_sequence',\n",
    "  \t'trip_progress',\n",
    "\t'wheelchair_boarding',\n",
    "  \t'day_sin',\n",
    "  \t'day_cos',\n",
    "  \t'sch_day_sin',\n",
    "  \t'sch_day_cos',\n",
    "  \t'hour_sin',\n",
    "  \t'hour_cos', \n",
    "\t'sch_hour_sin',\n",
    "  \t'sch_hour_cos',\n",
    "  \t'is_weekend',\n",
    "  \t'is_peak_hour', \n",
    "\t'temperature', \n",
    "\t'precipitation', \n",
    "\t'windspeed', \n",
    "  \t'weather_Light drizzle',\n",
    "  \t'weather_Mainly clear',\n",
    "  \t'weather_Overcast',\n",
    "    'weather_Partly cloudy',\n",
    "  \t'delay'\n",
    "]]"
   ]
  },
  {
   "cell_type": "code",
   "execution_count": 34,
   "id": "a19ed45e",
   "metadata": {},
   "outputs": [],
   "source": [
    "# Export encoders\n",
    "encoders = {\n",
    "\t'le_vehicle': le_vehicle,\n",
    "  \t'le_route': le_route,\n",
    "  \t'le_stop': le_stop,\n",
    "}\n",
    "\n",
    "with open('../models/label_encoders.pkl', 'wb') as handle:\n",
    "\tpickle.dump(encoders, handle, protocol=pickle.HIGHEST_PROTOCOL)"
   ]
  },
  {
   "cell_type": "code",
   "execution_count": 35,
   "id": "7677485b",
   "metadata": {},
   "outputs": [
    {
     "name": "stdout",
     "output_type": "stream",
     "text": [
      "<class 'pandas.core.frame.DataFrame'>\n",
      "Index: 81065 entries, 0 to 82062\n",
      "Data columns (total 27 columns):\n",
      " #   Column                 Non-Null Count  Dtype  \n",
      "---  ------                 --------------  -----  \n",
      " 0   vehicle_id             81065 non-null  int64  \n",
      " 1   occupancy_status       81065 non-null  int64  \n",
      " 2   route_id               81065 non-null  int64  \n",
      " 3   stop_id                81065 non-null  int64  \n",
      " 4   stop_lat               81065 non-null  float64\n",
      " 5   stop_lon               81065 non-null  float64\n",
      " 6   stop_sequence          81065 non-null  int64  \n",
      " 7   trip_progress          81065 non-null  float64\n",
      " 8   wheelchair_boarding    81065 non-null  int64  \n",
      " 9   day_sin                81065 non-null  float64\n",
      " 10  day_cos                81065 non-null  float64\n",
      " 11  sch_day_sin            81065 non-null  float64\n",
      " 12  sch_day_cos            81065 non-null  float64\n",
      " 13  hour_sin               81065 non-null  float64\n",
      " 14  hour_cos               81065 non-null  float64\n",
      " 15  sch_hour_sin           81065 non-null  float64\n",
      " 16  sch_hour_cos           81065 non-null  float64\n",
      " 17  is_weekend             81065 non-null  int64  \n",
      " 18  is_peak_hour           81065 non-null  int64  \n",
      " 19  temperature            81065 non-null  float64\n",
      " 20  precipitation          81065 non-null  float64\n",
      " 21  windspeed              81065 non-null  float64\n",
      " 22  weather_Light drizzle  81065 non-null  int64  \n",
      " 23  weather_Mainly clear   81065 non-null  int64  \n",
      " 24  weather_Overcast       81065 non-null  int64  \n",
      " 25  weather_Partly cloudy  81065 non-null  int64  \n",
      " 26  delay                  81065 non-null  float64\n",
      "dtypes: float64(15), int64(12)\n",
      "memory usage: 19.3 MB\n"
     ]
    }
   ],
   "source": [
    "df.info()"
   ]
  },
  {
   "cell_type": "code",
   "execution_count": 36,
   "id": "2344b1d2",
   "metadata": {},
   "outputs": [],
   "source": [
    "# Export dataframe\n",
    "df.to_csv('../data/preprocessed.csv', index=False)"
   ]
  },
  {
   "cell_type": "markdown",
   "id": "2d2fc389",
   "metadata": {},
   "source": [
    "## End"
   ]
  }
 ],
 "metadata": {
  "kernelspec": {
   "display_name": "venv",
   "language": "python",
   "name": "python3"
  },
  "language_info": {
   "codemirror_mode": {
    "name": "ipython",
    "version": 3
   },
   "file_extension": ".py",
   "mimetype": "text/x-python",
   "name": "python",
   "nbconvert_exporter": "python",
   "pygments_lexer": "ipython3",
   "version": "3.8.2"
  }
 },
 "nbformat": 4,
 "nbformat_minor": 5
}
