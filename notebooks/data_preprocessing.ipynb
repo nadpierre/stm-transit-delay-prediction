{
 "cells": [
  {
   "cell_type": "markdown",
   "id": "7a883801",
   "metadata": {},
   "source": [
    "# STM Transit Delay Data Preprocessing"
   ]
  },
  {
   "cell_type": "markdown",
   "id": "1fb25db2",
   "metadata": {},
   "source": [
    "## Overview"
   ]
  },
  {
   "cell_type": "markdown",
   "id": "13f950b4",
   "metadata": {},
   "source": [
    "This notebook preprocesses data about STM trip updates weather and traffic, data in order to build a regression and classification model that predicts delays in seconds."
   ]
  },
  {
   "cell_type": "markdown",
   "id": "51775b74",
   "metadata": {},
   "source": [
    "## Data Description"
   ]
  },
  {
   "cell_type": "markdown",
   "id": "f39d1571",
   "metadata": {},
   "source": [
    "`trip_id`: Unique identifier for the transit trip.<br>\n",
    "`route_id`: Unique identifier for a bus or metro line.<br>\n",
    "`route_type`: Type of bus line (e.g. Night).<br>\n",
    "`stop_id`: Unique identifier of a stop.<br>\n",
    "`stop_name`: Name of the stop.<br>\n",
    "`stop_lat`, `stop_lon`: Stop coordinates.<br>\n",
    "`stop_distance`: Distance between the previous and current stop, in meters.<br>\n",
    "`stop_sequence`: Sequence of the stop, for ordering.<br>\n",
    "`trip_progress`: How far along the trip is the vehicle, from 0 (first stop) to 1 (last stop).<br>\n",
    "`stop_has_alert`: Indicates if there's a message about the stop being moved or cancelled.<br>\n",
    "`schedule_relationship`: State of the schedule: \"scheduled\", \"skipped\" or \"no data\".\n",
    "`wheelchair_boarding`: Indicates if the stop is accessible for people in wheelchair.<br>\n",
    "`rt_arrival_time`, `rt_departure_time`, `sch_arrival_time`, `sch_departure_time`: Realtime and scheduled times, in UTC.<br>\n",
    "`delay`: Difference between real and scheduled arrival time, in seconds<br>\n",
    "`delay_class`: Delay category, from early to late<br>\n",
    "`incident_count`: Number of incidents within 500 meters of the stop.<br>\n",
    "`incident_nearby`: Indicates if an incident happened within 500 meters of the stop.<br>\n",
    "`temperature`: Air temperature at 2 meters above ground, in Celsius.<br>\n",
    "`relative_humidity`: Relative humidity at 2 meters above ground, in percentage.<br>\n",
    "`dew_point`: Dew point temperature at 2 meters above ground, in Celsius.<br>\n",
    "`precipitation`: Total precipitation (rain, showers, snow) sum of the preceding hour, in millimeters.<br>\n",
    "`pressure`: Atmospheric air pressure reduced to mean sea level (msl), in hPa.<br>\n",
    "`cloud_cover`: Total cloud cover as an area fraction.<br>\n",
    "`windspeed`: Wind speed at 10 meters above ground, in kilometers per hour.<br>\n",
    "`wind_direction`: Wind direction at 10 meters above ground.<br>\n",
    "`wind_gusts`: Gusts at 10 meters above ground as a maximum of the preceding hour.<br>"
   ]
  },
  {
   "cell_type": "markdown",
   "id": "05c49de4",
   "metadata": {},
   "source": [
    "## Imports"
   ]
  },
  {
   "cell_type": "code",
   "execution_count": 26,
   "id": "e5094a27",
   "metadata": {},
   "outputs": [],
   "source": [
    "from kneed import KneeLocator\n",
    "import matplotlib.pyplot as plt\n",
    "import numpy as np\n",
    "import pandas as pd\n",
    "import pickle\n",
    "import seaborn as sns\n",
    "from sklearn.cluster import KMeans\n",
    "from sklearn.metrics import silhouette_score\n",
    "from sklearn.preprocessing import StandardScaler\n",
    "import sys"
   ]
  },
  {
   "cell_type": "code",
   "execution_count": 2,
   "id": "568941a9",
   "metadata": {},
   "outputs": [],
   "source": [
    "# Import custom code\n",
    "sys.path.insert(0, '..')\n",
    "from scripts.custom_functions import DELAY_CLASS, LOCAL_TIMEZONE, OCCUPANCY_STATUS"
   ]
  },
  {
   "cell_type": "code",
   "execution_count": 3,
   "id": "353b54de",
   "metadata": {},
   "outputs": [],
   "source": [
    "# Load data\n",
    "df = pd.read_parquet('../data/stm_weather_traffic_merged.parquet')"
   ]
  },
  {
   "cell_type": "markdown",
   "id": "6e3eb13f",
   "metadata": {},
   "source": [
    "## Data Preprocessing"
   ]
  },
  {
   "cell_type": "markdown",
   "id": "1cdb9b34",
   "metadata": {},
   "source": [
    "### Handle Delay Outliers"
   ]
  },
  {
   "cell_type": "code",
   "execution_count": 4,
   "id": "3927862d",
   "metadata": {},
   "outputs": [
    {
     "data": {
      "text/plain": [
       "count    1.430718e+06\n",
       "mean     6.533164e+01\n",
       "std      3.707634e+02\n",
       "min     -1.359200e+04\n",
       "25%      0.000000e+00\n",
       "50%      0.000000e+00\n",
       "75%      1.200000e+01\n",
       "max      5.458500e+04\n",
       "Name: delay, dtype: float64"
      ]
     },
     "execution_count": 4,
     "metadata": {},
     "output_type": "execute_result"
    }
   ],
   "source": [
    "df['delay'].describe()"
   ]
  },
  {
   "cell_type": "code",
   "execution_count": 5,
   "id": "87b3b85f",
   "metadata": {},
   "outputs": [],
   "source": [
    "# Compute mean and standard deviation\n",
    "mean_delay = df['delay'].mean()\n",
    "std_delay = df['delay'].std()"
   ]
  },
  {
   "cell_type": "code",
   "execution_count": 6,
   "id": "2ffd9ad4",
   "metadata": {},
   "outputs": [],
   "source": [
    "# Filter outliers based on standard deviation\n",
    "outlier_mask = (df['delay'] < mean_delay - 3 * std_delay) | (df['delay'] > mean_delay + 3 * std_delay)"
   ]
  },
  {
   "cell_type": "code",
   "execution_count": 7,
   "id": "faac02db",
   "metadata": {},
   "outputs": [
    {
     "name": "stdout",
     "output_type": "stream",
     "text": [
      "0.72%\n"
     ]
    }
   ],
   "source": [
    "# Get proportion of outliers\n",
    "print(f'{outlier_mask.mean():.2%}')"
   ]
  },
  {
   "cell_type": "code",
   "execution_count": 8,
   "id": "b138ed79",
   "metadata": {},
   "outputs": [],
   "source": [
    "# Remove outliers\n",
    "df = df[~outlier_mask].reset_index(drop=True)"
   ]
  },
  {
   "cell_type": "code",
   "execution_count": 9,
   "id": "58964489",
   "metadata": {},
   "outputs": [
    {
     "data": {
      "text/plain": [
       "count    1.420354e+06\n",
       "mean     5.304297e+01\n",
       "std      1.452116e+02\n",
       "min     -1.043000e+03\n",
       "25%      0.000000e+00\n",
       "50%      0.000000e+00\n",
       "75%      7.000000e+00\n",
       "max      1.177000e+03\n",
       "Name: delay, dtype: float64"
      ]
     },
     "execution_count": 9,
     "metadata": {},
     "output_type": "execute_result"
    }
   ],
   "source": [
    "# Get new distribution\n",
    "df['delay'].describe()"
   ]
  },
  {
   "cell_type": "markdown",
   "id": "bf2977d0",
   "metadata": {},
   "source": [
    "### Encode Datetime"
   ]
  },
  {
   "cell_type": "code",
   "execution_count": 10,
   "id": "4fc40e12",
   "metadata": {},
   "outputs": [],
   "source": [
    "# Convert scheduled arrival time\n",
    "df['sch_arrival_time'] = pd.to_datetime(df['sch_arrival_time'], utc=True).dt.tz_convert(LOCAL_TIMEZONE)"
   ]
  },
  {
   "cell_type": "code",
   "execution_count": null,
   "id": "462a448b",
   "metadata": {},
   "outputs": [],
   "source": [
    "# Convert datetime to day and hour\n",
    "df['day_of_week'] = df['sch_arrival_time'].dt.day_of_week\n",
    "df['hour'] = df['sch_arrival_time'].dt.hour"
   ]
  },
  {
   "cell_type": "code",
   "execution_count": 12,
   "id": "d69d88ff",
   "metadata": {},
   "outputs": [],
   "source": [
    "# Convert hour to time of day\n",
    "def time_of_day(hour):\n",
    "  if 5 <= hour < 10:\n",
    "    return 'morning'\n",
    "  elif 10 <= hour < 15:\n",
    "    return 'midday'\n",
    "  elif 15 <= hour < 20:\n",
    "    return 'evening'\n",
    "  else:\n",
    "    return 'night'\n",
    "\n",
    "df['time_of_day'] = df['hour'].apply(time_of_day)"
   ]
  },
  {
   "cell_type": "code",
   "execution_count": 13,
   "id": "1ea43806",
   "metadata": {},
   "outputs": [],
   "source": [
    "# Use One Hot Encoding\n",
    "one_hot = pd.get_dummies(df['time_of_day'], drop_first=True, dtype='int64', prefix='time_of_day')\n",
    "df = df.join(one_hot).drop('time_of_day', axis=1)"
   ]
  },
  {
   "cell_type": "code",
   "execution_count": 14,
   "id": "84ef1b88",
   "metadata": {},
   "outputs": [],
   "source": [
    "# Add boolean value is_weekend\n",
    "weekend_mask = df['day_of_week'].isin([5, 6])\n",
    "df['is_weekend'] = np.where(weekend_mask, 1, 0)"
   ]
  },
  {
   "cell_type": "code",
   "execution_count": 15,
   "id": "6a7aa507",
   "metadata": {},
   "outputs": [],
   "source": [
    "# Add boolean value is_peak_hour (weekdays from 7-9am or 4-6pm)\n",
    "peak_hour_mask = (weekend_mask == False) & (df['hour'].isin([7, 8, 9, 16, 17, 18]))\n",
    "df['is_peak_hour'] = np.where(peak_hour_mask, 1, 0)"
   ]
  },
  {
   "cell_type": "code",
   "execution_count": 16,
   "id": "98fa3898",
   "metadata": {},
   "outputs": [],
   "source": [
    "# Drop unneeded time-related columns\n",
    "df = df.drop(['rt_arrival_time', 'rt_departure_time', 'sch_arrival_time', 'sch_departure_time', 'hour'], axis=1)"
   ]
  },
  {
   "cell_type": "markdown",
   "id": "fd6e81a1",
   "metadata": {},
   "source": [
    "### Use Ordinal Encoding for delay_class and occupancy_status"
   ]
  },
  {
   "cell_type": "code",
   "execution_count": 17,
   "id": "c89fc498",
   "metadata": {},
   "outputs": [
    {
     "data": {
      "text/plain": [
       "delay_class\n",
       "1    0.864844\n",
       "2    0.118891\n",
       "0    0.016265\n",
       "Name: proportion, dtype: float64"
      ]
     },
     "execution_count": 17,
     "metadata": {},
     "output_type": "execute_result"
    }
   ],
   "source": [
    "delay_map = {value: key for (key, value) in DELAY_CLASS.items()}\n",
    "df['delay_class'] = df['delay_class'].map(delay_map).astype('int64')\n",
    "df['delay_class'].value_counts(normalize=True)"
   ]
  },
  {
   "cell_type": "code",
   "execution_count": 18,
   "id": "a6dcfcff",
   "metadata": {},
   "outputs": [
    {
     "data": {
      "text/plain": [
       "occupancy_status\n",
       "1    0.456422\n",
       "2    0.315397\n",
       "3    0.211590\n",
       "5    0.015835\n",
       "0    0.000757\n",
       "Name: proportion, dtype: float64"
      ]
     },
     "execution_count": 18,
     "metadata": {},
     "output_type": "execute_result"
    }
   ],
   "source": [
    "occ_map = {value: key for (key, value) in OCCUPANCY_STATUS.items()}\n",
    "df['occupancy_status'] = df['occupancy_status'].map(occ_map)\n",
    "df['occupancy_status'].value_counts(normalize=True)"
   ]
  },
  {
   "cell_type": "markdown",
   "id": "227505d8",
   "metadata": {},
   "source": [
    "### Use One Hot Encoding for route_type and schedule_relationship"
   ]
  },
  {
   "cell_type": "code",
   "execution_count": 19,
   "id": "0eca70bc",
   "metadata": {},
   "outputs": [
    {
     "data": {
      "text/plain": [
       "route_type\n",
       "Day                         799072\n",
       "Rush Hour High Frequency    363818\n",
       "All Day High Frequency      228300\n",
       "Night                        29164\n",
       "Name: count, dtype: int64"
      ]
     },
     "execution_count": 19,
     "metadata": {},
     "output_type": "execute_result"
    }
   ],
   "source": [
    "df['route_type'].value_counts()"
   ]
  },
  {
   "cell_type": "code",
   "execution_count": 20,
   "id": "f92e10b4",
   "metadata": {},
   "outputs": [],
   "source": [
    "# Use One Hot Encoding\n",
    "one_hot = pd.get_dummies(df['route_type'], drop_first=True, dtype='int64', prefix='route_type')\n",
    "df = df.join(one_hot).drop('route_type', axis=1)"
   ]
  },
  {
   "cell_type": "code",
   "execution_count": 21,
   "id": "cbe42f4a",
   "metadata": {},
   "outputs": [
    {
     "data": {
      "text/plain": [
       "schedule_relationship\n",
       "Scheduled    1407136\n",
       "Skipped         7380\n",
       "No Data         5838\n",
       "Name: count, dtype: int64"
      ]
     },
     "execution_count": 21,
     "metadata": {},
     "output_type": "execute_result"
    }
   ],
   "source": [
    "df['schedule_relationship'].value_counts()"
   ]
  },
  {
   "cell_type": "code",
   "execution_count": 22,
   "id": "3dc66191",
   "metadata": {},
   "outputs": [],
   "source": [
    "# Use One Hot Encoding\n",
    "one_hot = pd.get_dummies(df['schedule_relationship'], drop_first=True, dtype='int64', prefix='sch_rel')\n",
    "df = df.join(one_hot).drop('schedule_relationship', axis=1)"
   ]
  },
  {
   "cell_type": "markdown",
   "id": "3030abcd",
   "metadata": {},
   "source": [
    "### Use K-Means to group weather conditions"
   ]
  },
  {
   "cell_type": "code",
   "execution_count": null,
   "id": "d6b2b8a1",
   "metadata": {},
   "outputs": [],
   "source": [
    "# Separate weather columns\n",
    "weather_cols = [\n",
    "  \t'temperature',\n",
    "\t'relative_humidity',\n",
    "  \t'dew_point',\n",
    "  \t'precipitation',\n",
    "  \t'pressure',\n",
    "\t'cloud_cover',\n",
    "  \t'windspeed',\n",
    "  \t'wind_direction',\n",
    "  \t'wind_gusts'\n",
    "]"
   ]
  },
  {
   "cell_type": "code",
   "execution_count": 33,
   "id": "fac01d89",
   "metadata": {},
   "outputs": [],
   "source": [
    "# Group unique combinations of weather attributes\n",
    "weather_df = df[weather_cols].groupby(weather_cols).size().reset_index().drop(0, axis=1)"
   ]
  },
  {
   "cell_type": "code",
   "execution_count": 34,
   "id": "1185eebe",
   "metadata": {},
   "outputs": [
    {
     "data": {
      "application/vnd.microsoft.datawrangler.viewer.v0+json": {
       "columns": [
        {
         "name": "index",
         "rawType": "int64",
         "type": "integer"
        },
        {
         "name": "temperature",
         "rawType": "float64",
         "type": "float"
        },
        {
         "name": "relative_humidity",
         "rawType": "float64",
         "type": "float"
        },
        {
         "name": "dew_point",
         "rawType": "float64",
         "type": "float"
        },
        {
         "name": "precipitation",
         "rawType": "float64",
         "type": "float"
        },
        {
         "name": "pressure",
         "rawType": "float64",
         "type": "float"
        },
        {
         "name": "cloud_cover",
         "rawType": "float64",
         "type": "float"
        },
        {
         "name": "windspeed",
         "rawType": "float64",
         "type": "float"
        },
        {
         "name": "wind_direction",
         "rawType": "float64",
         "type": "float"
        },
        {
         "name": "wind_gusts",
         "rawType": "float64",
         "type": "float"
        }
       ],
       "conversionMethod": "pd.DataFrame",
       "ref": "009cff3a-002a-4b62-8d1b-143a5671212a",
       "rows": [
        [
         "0",
         "-2.289342479737805",
         "-0.015113141240415311",
         "-1.9671562282728925",
         "-0.27972380663445195",
         "0.14799114983394077",
         "-1.1928370215668342",
         "0.414459475295734",
         "1.0924140218013472",
         "0.5843570064429242"
        ],
        [
         "1",
         "-2.2513844697110645",
         "-0.07798380880054358",
         "-2.0032827067719885",
         "-0.27972380663445195",
         "0.32941841407047595",
         "-0.9707151769062241",
         "0.7315217761801207",
         "1.0422789623303",
         "0.786076215717488"
        ],
        [
         "2",
         "-2.2134264596843236",
         "0.11062819387984121",
         "-1.8768400320251524",
         "-0.27972380663445195",
         "-0.1392686852072256",
         "-1.6926111720532069",
         "0.681459307619428",
         "1.1224950574839756",
         "0.8625903985457702"
        ],
        [
         "3",
         "-2.080573424590731",
         "0.4249815316804825",
         "-1.5517017255332881",
         "-0.27972380663445195",
         "1.0551274710165823",
         "-0.19328872059408875",
         "-0.8871647072822739",
         "-1.4043119398568045",
         "-0.7928982844661631"
        ],
        [
         "4",
         "-2.0236364095506194",
         "-0.14085447636067183",
         "-1.8407135535260566",
         "-0.27972380663445195",
         "0.46548886224786873",
         "-0.4154105652546989",
         "0.8983966713824294",
         "0.9821168909650434",
         "1.064309607820334"
        ]
       ],
       "shape": {
        "columns": 9,
        "rows": 5
       }
      },
      "text/html": [
       "<div>\n",
       "<style scoped>\n",
       "    .dataframe tbody tr th:only-of-type {\n",
       "        vertical-align: middle;\n",
       "    }\n",
       "\n",
       "    .dataframe tbody tr th {\n",
       "        vertical-align: top;\n",
       "    }\n",
       "\n",
       "    .dataframe thead th {\n",
       "        text-align: right;\n",
       "    }\n",
       "</style>\n",
       "<table border=\"1\" class=\"dataframe\">\n",
       "  <thead>\n",
       "    <tr style=\"text-align: right;\">\n",
       "      <th></th>\n",
       "      <th>temperature</th>\n",
       "      <th>relative_humidity</th>\n",
       "      <th>dew_point</th>\n",
       "      <th>precipitation</th>\n",
       "      <th>pressure</th>\n",
       "      <th>cloud_cover</th>\n",
       "      <th>windspeed</th>\n",
       "      <th>wind_direction</th>\n",
       "      <th>wind_gusts</th>\n",
       "    </tr>\n",
       "  </thead>\n",
       "  <tbody>\n",
       "    <tr>\n",
       "      <th>0</th>\n",
       "      <td>-2.289342</td>\n",
       "      <td>-0.015113</td>\n",
       "      <td>-1.967156</td>\n",
       "      <td>-0.279724</td>\n",
       "      <td>0.147991</td>\n",
       "      <td>-1.192837</td>\n",
       "      <td>0.414459</td>\n",
       "      <td>1.092414</td>\n",
       "      <td>0.584357</td>\n",
       "    </tr>\n",
       "    <tr>\n",
       "      <th>1</th>\n",
       "      <td>-2.251384</td>\n",
       "      <td>-0.077984</td>\n",
       "      <td>-2.003283</td>\n",
       "      <td>-0.279724</td>\n",
       "      <td>0.329418</td>\n",
       "      <td>-0.970715</td>\n",
       "      <td>0.731522</td>\n",
       "      <td>1.042279</td>\n",
       "      <td>0.786076</td>\n",
       "    </tr>\n",
       "    <tr>\n",
       "      <th>2</th>\n",
       "      <td>-2.213426</td>\n",
       "      <td>0.110628</td>\n",
       "      <td>-1.876840</td>\n",
       "      <td>-0.279724</td>\n",
       "      <td>-0.139269</td>\n",
       "      <td>-1.692611</td>\n",
       "      <td>0.681459</td>\n",
       "      <td>1.122495</td>\n",
       "      <td>0.862590</td>\n",
       "    </tr>\n",
       "    <tr>\n",
       "      <th>3</th>\n",
       "      <td>-2.080573</td>\n",
       "      <td>0.424982</td>\n",
       "      <td>-1.551702</td>\n",
       "      <td>-0.279724</td>\n",
       "      <td>1.055127</td>\n",
       "      <td>-0.193289</td>\n",
       "      <td>-0.887165</td>\n",
       "      <td>-1.404312</td>\n",
       "      <td>-0.792898</td>\n",
       "    </tr>\n",
       "    <tr>\n",
       "      <th>4</th>\n",
       "      <td>-2.023636</td>\n",
       "      <td>-0.140854</td>\n",
       "      <td>-1.840714</td>\n",
       "      <td>-0.279724</td>\n",
       "      <td>0.465489</td>\n",
       "      <td>-0.415411</td>\n",
       "      <td>0.898397</td>\n",
       "      <td>0.982117</td>\n",
       "      <td>1.064310</td>\n",
       "    </tr>\n",
       "  </tbody>\n",
       "</table>\n",
       "</div>"
      ],
      "text/plain": [
       "   temperature  relative_humidity  dew_point  precipitation  pressure  \\\n",
       "0    -2.289342          -0.015113  -1.967156      -0.279724  0.147991   \n",
       "1    -2.251384          -0.077984  -2.003283      -0.279724  0.329418   \n",
       "2    -2.213426           0.110628  -1.876840      -0.279724 -0.139269   \n",
       "3    -2.080573           0.424982  -1.551702      -0.279724  1.055127   \n",
       "4    -2.023636          -0.140854  -1.840714      -0.279724  0.465489   \n",
       "\n",
       "   cloud_cover  windspeed  wind_direction  wind_gusts  \n",
       "0    -1.192837   0.414459        1.092414    0.584357  \n",
       "1    -0.970715   0.731522        1.042279    0.786076  \n",
       "2    -1.692611   0.681459        1.122495    0.862590  \n",
       "3    -0.193289  -0.887165       -1.404312   -0.792898  \n",
       "4    -0.415411   0.898397        0.982117    1.064310  "
      ]
     },
     "execution_count": 34,
     "metadata": {},
     "output_type": "execute_result"
    }
   ],
   "source": [
    "# Scale data\n",
    "scaler = StandardScaler()\n",
    "weather_df_scaled = scaler.fit_transform(weather_df)\n",
    "weather_df_scaled = pd.DataFrame(data=weather_df_scaled, columns=scaler.get_feature_names_out())\n",
    "weather_df_scaled.head()"
   ]
  },
  {
   "cell_type": "code",
   "execution_count": 35,
   "id": "be2a9558",
   "metadata": {},
   "outputs": [],
   "source": [
    "# Create models with different k values\n",
    "models = []\n",
    "for k in range(2, 31):\n",
    "\tkmeans = KMeans(n_clusters=k, random_state=42, init='k-means++')\n",
    "\tkmeans.fit(weather_df_scaled)\n",
    "\tlabels = kmeans.labels_\n",
    "\tmodels.append({\n",
    "\t\t'k': k,\n",
    "\t\t'ssd': kmeans.inertia_,\n",
    "\t\t'silhouette': silhouette_score(weather_df_scaled, labels, metric='euclidean'),\n",
    "\t})\n",
    "\n",
    "models_df = pd.DataFrame(models).set_index('k')"
   ]
  },
  {
   "cell_type": "code",
   "execution_count": 36,
   "id": "b9649851",
   "metadata": {},
   "outputs": [
    {
     "data": {
      "image/png": "[encoded data removed]",
      "text/plain": [
       "<Figure size 1500x800 with 2 Axes>"
      ]
     },
     "metadata": {},
     "output_type": "display_data"
    }
   ],
   "source": [
    "# Display k plots\n",
    "fig, (ax1, ax2) = plt.subplots(nrows=2, ncols=1, figsize=(15,8), sharex=True)\n",
    "\n",
    "# Elbow Method\n",
    "kneedle = KneeLocator(models_df.index, models_df['ssd'], curve='convex', direction='decreasing')\n",
    "optimal_k = kneedle.elbow\n",
    "optimal_score = models_df.loc[optimal_k, 'ssd']\n",
    "ax1.plot(models_df['ssd'], marker='s')\n",
    "ax1.set_ylabel('SSD')\n",
    "ax1.axvline(x=optimal_k, color='black', linestyle='--')\n",
    "ax1.annotate(f'elbow at k = {optimal_k}, score = {round(optimal_score, 4)}', xy=(optimal_k, optimal_score))\n",
    "\n",
    "# Silhouette Score\n",
    "optimal_k = models_df['silhouette'].idxmax()\n",
    "max_score = models_df['silhouette'].max()\n",
    "ax2.plot(models_df['silhouette'], marker='s')\n",
    "ax2.set_xlabel('k')\n",
    "ax2.set_ylabel('Silhouette Score')\n",
    "ax2.axvline(x=optimal_k, color='black', linestyle='--')\n",
    "ax2.annotate(f'max score at k = {optimal_k}, score = {round(max_score, 4)}', xy=(optimal_k, max_score))\n",
    "\n",
    "fig.suptitle(f'Different Metrics for Optimal K')\n",
    "fig.tight_layout()\n",
    "plt.show()"
   ]
  },
  {
   "cell_type": "code",
   "execution_count": 37,
   "id": "52d7b442",
   "metadata": {},
   "outputs": [
    {
     "data": {
      "text/html": [
       "<style>#sk-container-id-1 {\n",
       "  /* Definition of color scheme common for light and dark mode */\n",
       "  --sklearn-color-text: #000;\n",
       "  --sklearn-color-text-muted: #666;\n",
       "  --sklearn-color-line: gray;\n",
       "  /* Definition of color scheme for unfitted estimators */\n",
       "  --sklearn-color-unfitted-level-0: #fff5e6;\n",
       "  --sklearn-color-unfitted-level-1: #f6e4d2;\n",
       "  --sklearn-color-unfitted-level-2: #ffe0b3;\n",
       "  --sklearn-color-unfitted-level-3: chocolate;\n",
       "  /* Definition of color scheme for fitted estimators */\n",
       "  --sklearn-color-fitted-level-0: #f0f8ff;\n",
       "  --sklearn-color-fitted-level-1: #d4ebff;\n",
       "  --sklearn-color-fitted-level-2: #b3dbfd;\n",
       "  --sklearn-color-fitted-level-3: cornflowerblue;\n",
       "\n",
       "  /* Specific color for light theme */\n",
       "  --sklearn-color-text-on-default-background: var(--sg-text-color, var(--theme-code-foreground, var(--jp-content-font-color1, black)));\n",
       "  --sklearn-color-background: var(--sg-background-color, var(--theme-background, var(--jp-layout-color0, white)));\n",
       "  --sklearn-color-border-box: var(--sg-text-color, var(--theme-code-foreground, var(--jp-content-font-color1, black)));\n",
       "  --sklearn-color-icon: #696969;\n",
       "\n",
       "  @media (prefers-color-scheme: dark) {\n",
       "    /* Redefinition of color scheme for dark theme */\n",
       "    --sklearn-color-text-on-default-background: var(--sg-text-color, var(--theme-code-foreground, var(--jp-content-font-color1, white)));\n",
       "    --sklearn-color-background: var(--sg-background-color, var(--theme-background, var(--jp-layout-color0, #111)));\n",
       "    --sklearn-color-border-box: var(--sg-text-color, var(--theme-code-foreground, var(--jp-content-font-color1, white)));\n",
       "    --sklearn-color-icon: #878787;\n",
       "  }\n",
       "}\n",
       "\n",
       "#sk-container-id-1 {\n",
       "  color: var(--sklearn-color-text);\n",
       "}\n",
       "\n",
       "#sk-container-id-1 pre {\n",
       "  padding: 0;\n",
       "}\n",
       "\n",
       "#sk-container-id-1 input.sk-hidden--visually {\n",
       "  border: 0;\n",
       "  clip: rect(1px 1px 1px 1px);\n",
       "  clip: rect(1px, 1px, 1px, 1px);\n",
       "  height: 1px;\n",
       "  margin: -1px;\n",
       "  overflow: hidden;\n",
       "  padding: 0;\n",
       "  position: absolute;\n",
       "  width: 1px;\n",
       "}\n",
       "\n",
       "#sk-container-id-1 div.sk-dashed-wrapped {\n",
       "  border: 1px dashed var(--sklearn-color-line);\n",
       "  margin: 0 0.4em 0.5em 0.4em;\n",
       "  box-sizing: border-box;\n",
       "  padding-bottom: 0.4em;\n",
       "  background-color: var(--sklearn-color-background);\n",
       "}\n",
       "\n",
       "#sk-container-id-1 div.sk-container {\n",
       "  /* jupyter's `normalize.less` sets `[hidden] { display: none; }`\n",
       "     but bootstrap.min.css set `[hidden] { display: none !important; }`\n",
       "     so we also need the `!important` here to be able to override the\n",
       "     default hidden behavior on the sphinx rendered scikit-learn.org.\n",
       "     See: https://github.com/scikit-learn/scikit-learn/issues/21755 */\n",
       "  display: inline-block !important;\n",
       "  position: relative;\n",
       "}\n",
       "\n",
       "#sk-container-id-1 div.sk-text-repr-fallback {\n",
       "  display: none;\n",
       "}\n",
       "\n",
       "div.sk-parallel-item,\n",
       "div.sk-serial,\n",
       "div.sk-item {\n",
       "  /* draw centered vertical line to link estimators */\n",
       "  background-image: linear-gradient(var(--sklearn-color-text-on-default-background), var(--sklearn-color-text-on-default-background));\n",
       "  background-size: 2px 100%;\n",
       "  background-repeat: no-repeat;\n",
       "  background-position: center center;\n",
       "}\n",
       "\n",
       "/* Parallel-specific style estimator block */\n",
       "\n",
       "#sk-container-id-1 div.sk-parallel-item::after {\n",
       "  content: \"\";\n",
       "  width: 100%;\n",
       "  border-bottom: 2px solid var(--sklearn-color-text-on-default-background);\n",
       "  flex-grow: 1;\n",
       "}\n",
       "\n",
       "#sk-container-id-1 div.sk-parallel {\n",
       "  display: flex;\n",
       "  align-items: stretch;\n",
       "  justify-content: center;\n",
       "  background-color: var(--sklearn-color-background);\n",
       "  position: relative;\n",
       "}\n",
       "\n",
       "#sk-container-id-1 div.sk-parallel-item {\n",
       "  display: flex;\n",
       "  flex-direction: column;\n",
       "}\n",
       "\n",
       "#sk-container-id-1 div.sk-parallel-item:first-child::after {\n",
       "  align-self: flex-end;\n",
       "  width: 50%;\n",
       "}\n",
       "\n",
       "#sk-container-id-1 div.sk-parallel-item:last-child::after {\n",
       "  align-self: flex-start;\n",
       "  width: 50%;\n",
       "}\n",
       "\n",
       "#sk-container-id-1 div.sk-parallel-item:only-child::after {\n",
       "  width: 0;\n",
       "}\n",
       "\n",
       "/* Serial-specific style estimator block */\n",
       "\n",
       "#sk-container-id-1 div.sk-serial {\n",
       "  display: flex;\n",
       "  flex-direction: column;\n",
       "  align-items: center;\n",
       "  background-color: var(--sklearn-color-background);\n",
       "  padding-right: 1em;\n",
       "  padding-left: 1em;\n",
       "}\n",
       "\n",
       "\n",
       "/* Toggleable style: style used for estimator/Pipeline/ColumnTransformer box that is\n",
       "clickable and can be expanded/collapsed.\n",
       "- Pipeline and ColumnTransformer use this feature and define the default style\n",
       "- Estimators will overwrite some part of the style using the `sk-estimator` class\n",
       "*/\n",
       "\n",
       "/* Pipeline and ColumnTransformer style (default) */\n",
       "\n",
       "#sk-container-id-1 div.sk-toggleable {\n",
       "  /* Default theme specific background. It is overwritten whether we have a\n",
       "  specific estimator or a Pipeline/ColumnTransformer */\n",
       "  background-color: var(--sklearn-color-background);\n",
       "}\n",
       "\n",
       "/* Toggleable label */\n",
       "#sk-container-id-1 label.sk-toggleable__label {\n",
       "  cursor: pointer;\n",
       "  display: flex;\n",
       "  width: 100%;\n",
       "  margin-bottom: 0;\n",
       "  padding: 0.5em;\n",
       "  box-sizing: border-box;\n",
       "  text-align: center;\n",
       "  align-items: start;\n",
       "  justify-content: space-between;\n",
       "  gap: 0.5em;\n",
       "}\n",
       "\n",
       "#sk-container-id-1 label.sk-toggleable__label .caption {\n",
       "  font-size: 0.6rem;\n",
       "  font-weight: lighter;\n",
       "  color: var(--sklearn-color-text-muted);\n",
       "}\n",
       "\n",
       "#sk-container-id-1 label.sk-toggleable__label-arrow:before {\n",
       "  /* Arrow on the left of the label */\n",
       "  content: \"▸\";\n",
       "  float: left;\n",
       "  margin-right: 0.25em;\n",
       "  color: var(--sklearn-color-icon);\n",
       "}\n",
       "\n",
       "#sk-container-id-1 label.sk-toggleable__label-arrow:hover:before {\n",
       "  color: var(--sklearn-color-text);\n",
       "}\n",
       "\n",
       "/* Toggleable content - dropdown */\n",
       "\n",
       "#sk-container-id-1 div.sk-toggleable__content {\n",
       "  max-height: 0;\n",
       "  max-width: 0;\n",
       "  overflow: hidden;\n",
       "  text-align: left;\n",
       "  /* unfitted */\n",
       "  background-color: var(--sklearn-color-unfitted-level-0);\n",
       "}\n",
       "\n",
       "#sk-container-id-1 div.sk-toggleable__content.fitted {\n",
       "  /* fitted */\n",
       "  background-color: var(--sklearn-color-fitted-level-0);\n",
       "}\n",
       "\n",
       "#sk-container-id-1 div.sk-toggleable__content pre {\n",
       "  margin: 0.2em;\n",
       "  border-radius: 0.25em;\n",
       "  color: var(--sklearn-color-text);\n",
       "  /* unfitted */\n",
       "  background-color: var(--sklearn-color-unfitted-level-0);\n",
       "}\n",
       "\n",
       "#sk-container-id-1 div.sk-toggleable__content.fitted pre {\n",
       "  /* unfitted */\n",
       "  background-color: var(--sklearn-color-fitted-level-0);\n",
       "}\n",
       "\n",
       "#sk-container-id-1 input.sk-toggleable__control:checked~div.sk-toggleable__content {\n",
       "  /* Expand drop-down */\n",
       "  max-height: 200px;\n",
       "  max-width: 100%;\n",
       "  overflow: auto;\n",
       "}\n",
       "\n",
       "#sk-container-id-1 input.sk-toggleable__control:checked~label.sk-toggleable__label-arrow:before {\n",
       "  content: \"▾\";\n",
       "}\n",
       "\n",
       "/* Pipeline/ColumnTransformer-specific style */\n",
       "\n",
       "#sk-container-id-1 div.sk-label input.sk-toggleable__control:checked~label.sk-toggleable__label {\n",
       "  color: var(--sklearn-color-text);\n",
       "  background-color: var(--sklearn-color-unfitted-level-2);\n",
       "}\n",
       "\n",
       "#sk-container-id-1 div.sk-label.fitted input.sk-toggleable__control:checked~label.sk-toggleable__label {\n",
       "  background-color: var(--sklearn-color-fitted-level-2);\n",
       "}\n",
       "\n",
       "/* Estimator-specific style */\n",
       "\n",
       "/* Colorize estimator box */\n",
       "#sk-container-id-1 div.sk-estimator input.sk-toggleable__control:checked~label.sk-toggleable__label {\n",
       "  /* unfitted */\n",
       "  background-color: var(--sklearn-color-unfitted-level-2);\n",
       "}\n",
       "\n",
       "#sk-container-id-1 div.sk-estimator.fitted input.sk-toggleable__control:checked~label.sk-toggleable__label {\n",
       "  /* fitted */\n",
       "  background-color: var(--sklearn-color-fitted-level-2);\n",
       "}\n",
       "\n",
       "#sk-container-id-1 div.sk-label label.sk-toggleable__label,\n",
       "#sk-container-id-1 div.sk-label label {\n",
       "  /* The background is the default theme color */\n",
       "  color: var(--sklearn-color-text-on-default-background);\n",
       "}\n",
       "\n",
       "/* On hover, darken the color of the background */\n",
       "#sk-container-id-1 div.sk-label:hover label.sk-toggleable__label {\n",
       "  color: var(--sklearn-color-text);\n",
       "  background-color: var(--sklearn-color-unfitted-level-2);\n",
       "}\n",
       "\n",
       "/* Label box, darken color on hover, fitted */\n",
       "#sk-container-id-1 div.sk-label.fitted:hover label.sk-toggleable__label.fitted {\n",
       "  color: var(--sklearn-color-text);\n",
       "  background-color: var(--sklearn-color-fitted-level-2);\n",
       "}\n",
       "\n",
       "/* Estimator label */\n",
       "\n",
       "#sk-container-id-1 div.sk-label label {\n",
       "  font-family: monospace;\n",
       "  font-weight: bold;\n",
       "  display: inline-block;\n",
       "  line-height: 1.2em;\n",
       "}\n",
       "\n",
       "#sk-container-id-1 div.sk-label-container {\n",
       "  text-align: center;\n",
       "}\n",
       "\n",
       "/* Estimator-specific */\n",
       "#sk-container-id-1 div.sk-estimator {\n",
       "  font-family: monospace;\n",
       "  border: 1px dotted var(--sklearn-color-border-box);\n",
       "  border-radius: 0.25em;\n",
       "  box-sizing: border-box;\n",
       "  margin-bottom: 0.5em;\n",
       "  /* unfitted */\n",
       "  background-color: var(--sklearn-color-unfitted-level-0);\n",
       "}\n",
       "\n",
       "#sk-container-id-1 div.sk-estimator.fitted {\n",
       "  /* fitted */\n",
       "  background-color: var(--sklearn-color-fitted-level-0);\n",
       "}\n",
       "\n",
       "/* on hover */\n",
       "#sk-container-id-1 div.sk-estimator:hover {\n",
       "  /* unfitted */\n",
       "  background-color: var(--sklearn-color-unfitted-level-2);\n",
       "}\n",
       "\n",
       "#sk-container-id-1 div.sk-estimator.fitted:hover {\n",
       "  /* fitted */\n",
       "  background-color: var(--sklearn-color-fitted-level-2);\n",
       "}\n",
       "\n",
       "/* Specification for estimator info (e.g. \"i\" and \"?\") */\n",
       "\n",
       "/* Common style for \"i\" and \"?\" */\n",
       "\n",
       ".sk-estimator-doc-link,\n",
       "a:link.sk-estimator-doc-link,\n",
       "a:visited.sk-estimator-doc-link {\n",
       "  float: right;\n",
       "  font-size: smaller;\n",
       "  line-height: 1em;\n",
       "  font-family: monospace;\n",
       "  background-color: var(--sklearn-color-background);\n",
       "  border-radius: 1em;\n",
       "  height: 1em;\n",
       "  width: 1em;\n",
       "  text-decoration: none !important;\n",
       "  margin-left: 0.5em;\n",
       "  text-align: center;\n",
       "  /* unfitted */\n",
       "  border: var(--sklearn-color-unfitted-level-1) 1pt solid;\n",
       "  color: var(--sklearn-color-unfitted-level-1);\n",
       "}\n",
       "\n",
       ".sk-estimator-doc-link.fitted,\n",
       "a:link.sk-estimator-doc-link.fitted,\n",
       "a:visited.sk-estimator-doc-link.fitted {\n",
       "  /* fitted */\n",
       "  border: var(--sklearn-color-fitted-level-1) 1pt solid;\n",
       "  color: var(--sklearn-color-fitted-level-1);\n",
       "}\n",
       "\n",
       "/* On hover */\n",
       "div.sk-estimator:hover .sk-estimator-doc-link:hover,\n",
       ".sk-estimator-doc-link:hover,\n",
       "div.sk-label-container:hover .sk-estimator-doc-link:hover,\n",
       ".sk-estimator-doc-link:hover {\n",
       "  /* unfitted */\n",
       "  background-color: var(--sklearn-color-unfitted-level-3);\n",
       "  color: var(--sklearn-color-background);\n",
       "  text-decoration: none;\n",
       "}\n",
       "\n",
       "div.sk-estimator.fitted:hover .sk-estimator-doc-link.fitted:hover,\n",
       ".sk-estimator-doc-link.fitted:hover,\n",
       "div.sk-label-container:hover .sk-estimator-doc-link.fitted:hover,\n",
       ".sk-estimator-doc-link.fitted:hover {\n",
       "  /* fitted */\n",
       "  background-color: var(--sklearn-color-fitted-level-3);\n",
       "  color: var(--sklearn-color-background);\n",
       "  text-decoration: none;\n",
       "}\n",
       "\n",
       "/* Span, style for the box shown on hovering the info icon */\n",
       ".sk-estimator-doc-link span {\n",
       "  display: none;\n",
       "  z-index: 9999;\n",
       "  position: relative;\n",
       "  font-weight: normal;\n",
       "  right: .2ex;\n",
       "  padding: .5ex;\n",
       "  margin: .5ex;\n",
       "  width: min-content;\n",
       "  min-width: 20ex;\n",
       "  max-width: 50ex;\n",
       "  color: var(--sklearn-color-text);\n",
       "  box-shadow: 2pt 2pt 4pt #999;\n",
       "  /* unfitted */\n",
       "  background: var(--sklearn-color-unfitted-level-0);\n",
       "  border: .5pt solid var(--sklearn-color-unfitted-level-3);\n",
       "}\n",
       "\n",
       ".sk-estimator-doc-link.fitted span {\n",
       "  /* fitted */\n",
       "  background: var(--sklearn-color-fitted-level-0);\n",
       "  border: var(--sklearn-color-fitted-level-3);\n",
       "}\n",
       "\n",
       ".sk-estimator-doc-link:hover span {\n",
       "  display: block;\n",
       "}\n",
       "\n",
       "/* \"?\"-specific style due to the `<a>` HTML tag */\n",
       "\n",
       "#sk-container-id-1 a.estimator_doc_link {\n",
       "  float: right;\n",
       "  font-size: 1rem;\n",
       "  line-height: 1em;\n",
       "  font-family: monospace;\n",
       "  background-color: var(--sklearn-color-background);\n",
       "  border-radius: 1rem;\n",
       "  height: 1rem;\n",
       "  width: 1rem;\n",
       "  text-decoration: none;\n",
       "  /* unfitted */\n",
       "  color: var(--sklearn-color-unfitted-level-1);\n",
       "  border: var(--sklearn-color-unfitted-level-1) 1pt solid;\n",
       "}\n",
       "\n",
       "#sk-container-id-1 a.estimator_doc_link.fitted {\n",
       "  /* fitted */\n",
       "  border: var(--sklearn-color-fitted-level-1) 1pt solid;\n",
       "  color: var(--sklearn-color-fitted-level-1);\n",
       "}\n",
       "\n",
       "/* On hover */\n",
       "#sk-container-id-1 a.estimator_doc_link:hover {\n",
       "  /* unfitted */\n",
       "  background-color: var(--sklearn-color-unfitted-level-3);\n",
       "  color: var(--sklearn-color-background);\n",
       "  text-decoration: none;\n",
       "}\n",
       "\n",
       "#sk-container-id-1 a.estimator_doc_link.fitted:hover {\n",
       "  /* fitted */\n",
       "  background-color: var(--sklearn-color-fitted-level-3);\n",
       "}\n",
       "</style><div id=\"sk-container-id-1\" class=\"sk-top-container\"><div class=\"sk-text-repr-fallback\"><pre>KMeans(n_clusters=7, random_state=42)</pre><b>In a Jupyter environment, please rerun this cell to show the HTML representation or trust the notebook. <br />On GitHub, the HTML representation is unable to render, please try loading this page with nbviewer.org.</b></div><div class=\"sk-container\" hidden><div class=\"sk-item\"><div class=\"sk-estimator fitted sk-toggleable\"><input class=\"sk-toggleable__control sk-hidden--visually\" id=\"sk-estimator-id-1\" type=\"checkbox\" checked><label for=\"sk-estimator-id-1\" class=\"sk-toggleable__label fitted sk-toggleable__label-arrow\"><div><div>KMeans</div></div><div><a class=\"sk-estimator-doc-link fitted\" rel=\"noreferrer\" target=\"_blank\" href=\"https://scikit-learn.org/1.6/modules/generated/sklearn.cluster.KMeans.html\">?<span>Documentation for KMeans</span></a><span class=\"sk-estimator-doc-link fitted\">i<span>Fitted</span></span></div></label><div class=\"sk-toggleable__content fitted\"><pre>KMeans(n_clusters=7, random_state=42)</pre></div> </div></div></div></div>"
      ],
      "text/plain": [
       "KMeans(n_clusters=7, random_state=42)"
      ]
     },
     "execution_count": 37,
     "metadata": {},
     "output_type": "execute_result"
    }
   ],
   "source": [
    "# Fit model with optimal k\n",
    "kmeans = KMeans(n_clusters=7, random_state=42)\n",
    "kmeans.fit(weather_df_scaled)"
   ]
  },
  {
   "cell_type": "code",
   "execution_count": null,
   "id": "18fda690",
   "metadata": {},
   "outputs": [],
   "source": [
    "weather_df.insert(0, 'weather_group', kmeans.labels_)"
   ]
  },
  {
   "cell_type": "code",
   "execution_count": 41,
   "id": "95607711",
   "metadata": {},
   "outputs": [
    {
     "data": {
      "application/vnd.microsoft.datawrangler.viewer.v0+json": {
       "columns": [
        {
         "name": "index",
         "rawType": "int64",
         "type": "integer"
        },
        {
         "name": "temperature",
         "rawType": "float64",
         "type": "float"
        },
        {
         "name": "relative_humidity",
         "rawType": "int64",
         "type": "integer"
        },
        {
         "name": "dew_point",
         "rawType": "float64",
         "type": "float"
        },
        {
         "name": "precipitation",
         "rawType": "float64",
         "type": "float"
        },
        {
         "name": "pressure",
         "rawType": "float64",
         "type": "float"
        },
        {
         "name": "cloud_cover",
         "rawType": "int64",
         "type": "integer"
        },
        {
         "name": "windspeed",
         "rawType": "float64",
         "type": "float"
        },
        {
         "name": "wind_direction",
         "rawType": "int64",
         "type": "integer"
        },
        {
         "name": "wind_gusts",
         "rawType": "float64",
         "type": "float"
        },
        {
         "name": "weather_group",
         "rawType": "int32",
         "type": "integer"
        }
       ],
       "conversionMethod": "pd.DataFrame",
       "ref": "22d851f7-3b08-43f1-85c1-06627dcb5e22",
       "rows": [
        [
         "61",
         "10.0",
         "85",
         "7.6",
         "0.5",
         "1010.1",
         "100",
         "11.2",
         "120",
         "26.3",
         "0"
        ],
        [
         "63",
         "10.1",
         "66",
         "4.1",
         "0.9",
         "1012.4",
         "100",
         "10.5",
         "66",
         "25.6",
         "0"
        ],
        [
         "58",
         "9.9",
         "92",
         "8.6",
         "2.1",
         "1006.0",
         "100",
         "16.5",
         "158",
         "45.7",
         "0"
        ],
        [
         "49",
         "9.5",
         "80",
         "6.2",
         "0.6",
         "1010.6",
         "100",
         "13.0",
         "96",
         "27.7",
         "0"
        ],
        [
         "59",
         "9.9",
         "93",
         "8.9",
         "4.0",
         "1005.8",
         "100",
         "15.3",
         "155",
         "42.8",
         "0"
        ],
        [
         "69",
         "10.2",
         "94",
         "9.3",
         "2.1",
         "1005.6",
         "100",
         "14.6",
         "164",
         "31.3",
         "0"
        ],
        [
         "68",
         "10.2",
         "91",
         "8.7",
         "1.9",
         "1008.9",
         "100",
         "15.4",
         "143",
         "29.9",
         "0"
        ],
        [
         "67",
         "10.2",
         "89",
         "8.4",
         "0.4",
         "1006.9",
         "100",
         "18.3",
         "159",
         "37.1",
         "0"
        ],
        [
         "77",
         "10.5",
         "89",
         "8.8",
         "0.8",
         "1007.7",
         "100",
         "17.8",
         "153",
         "35.3",
         "0"
        ],
        [
         "113",
         "13.4",
         "92",
         "12.1",
         "1.1",
         "1021.0",
         "100",
         "7.5",
         "17",
         "15.8",
         "0"
        ],
        [
         "116",
         "13.5",
         "96",
         "12.9",
         "1.6",
         "1020.9",
         "100",
         "6.9",
         "39",
         "15.1",
         "0"
        ],
        [
         "90",
         "11.2",
         "96",
         "10.5",
         "0.9",
         "1005.3",
         "100",
         "11.8",
         "161",
         "25.9",
         "0"
        ],
        [
         "164",
         "18.4",
         "84",
         "15.7",
         "1.4",
         "1006.5",
         "100",
         "9.1",
         "148",
         "35.6",
         "0"
        ],
        [
         "195",
         "20.9",
         "75",
         "16.3",
         "2.2",
         "1008.2",
         "100",
         "6.6",
         "292",
         "42.8",
         "0"
        ],
        [
         "133",
         "14.9",
         "97",
         "14.4",
         "1.1",
         "1020.2",
         "100",
         "10.1",
         "90",
         "19.8",
         "0"
        ],
        [
         "104",
         "12.5",
         "93",
         "11.5",
         "0.2",
         "1005.2",
         "100",
         "12.8",
         "180",
         "26.6",
         "1"
        ],
        [
         "120",
         "14.0",
         "85",
         "11.5",
         "0.2",
         "1021.5",
         "100",
         "7.1",
         "24",
         "15.1",
         "1"
        ],
        [
         "166",
         "18.5",
         "57",
         "9.7",
         "0.0",
         "1010.6",
         "98",
         "11.3",
         "163",
         "27.4",
         "1"
        ],
        [
         "169",
         "18.9",
         "82",
         "15.7",
         "0.0",
         "1019.5",
         "100",
         "18.5",
         "151",
         "39.6",
         "1"
        ],
        [
         "168",
         "18.9",
         "62",
         "11.5",
         "0.0",
         "1023.3",
         "82",
         "9.2",
         "159",
         "18.0",
         "1"
        ],
        [
         "156",
         "17.5",
         "86",
         "15.1",
         "0.0",
         "1018.8",
         "100",
         "14.8",
         "135",
         "37.1",
         "1"
        ],
        [
         "155",
         "17.5",
         "70",
         "12.0",
         "0.0",
         "1023.8",
         "77",
         "8.2",
         "151",
         "28.4",
         "1"
        ],
        [
         "147",
         "16.0",
         "91",
         "14.5",
         "0.0",
         "1020.2",
         "100",
         "13.3",
         "93",
         "29.9",
         "1"
        ],
        [
         "149",
         "16.3",
         "75",
         "11.8",
         "0.0",
         "1023.9",
         "99",
         "8.3",
         "146",
         "23.4",
         "1"
        ],
        [
         "130",
         "14.8",
         "80",
         "11.4",
         "0.0",
         "1023.3",
         "99",
         "4.0",
         "100",
         "13.7",
         "1"
        ],
        [
         "145",
         "15.8",
         "76",
         "11.6",
         "0.0",
         "1023.8",
         "99",
         "6.6",
         "151",
         "11.9",
         "1"
        ],
        [
         "142",
         "15.6",
         "76",
         "11.4",
         "0.0",
         "1023.7",
         "99",
         "5.7",
         "145",
         "13.3",
         "1"
        ],
        [
         "143",
         "15.7",
         "57",
         "7.3",
         "0.0",
         "1011.8",
         "84",
         "11.7",
         "176",
         "28.4",
         "1"
        ],
        [
         "132",
         "14.9",
         "81",
         "11.7",
         "0.0",
         "1023.4",
         "100",
         "3.1",
         "45",
         "10.8",
         "1"
        ],
        [
         "127",
         "14.5",
         "87",
         "12.4",
         "0.4",
         "1021.7",
         "100",
         "7.5",
         "17",
         "10.4",
         "1"
        ],
        [
         "126",
         "14.5",
         "77",
         "10.6",
         "0.0",
         "1008.3",
         "27",
         "11.6",
         "264",
         "25.2",
         "1"
        ],
        [
         "112",
         "13.4",
         "89",
         "11.6",
         "0.0",
         "1021.4",
         "100",
         "7.4",
         "14",
         "14.0",
         "1"
        ],
        [
         "139",
         "15.3",
         "93",
         "14.1",
         "0.1",
         "1005.2",
         "100",
         "8.6",
         "172",
         "27.4",
         "1"
        ],
        [
         "192",
         "20.6",
         "82",
         "17.4",
         "0.0",
         "1015.7",
         "100",
         "16.4",
         "151",
         "34.6",
         "1"
        ],
        [
         "197",
         "21.1",
         "56",
         "12.0",
         "0.0",
         "1008.3",
         "76",
         "12.0",
         "161",
         "30.6",
         "1"
        ],
        [
         "196",
         "21.0",
         "81",
         "17.6",
         "0.0",
         "1016.5",
         "100",
         "19.2",
         "152",
         "36.7",
         "1"
        ],
        [
         "202",
         "22.8",
         "53",
         "12.7",
         "0.0",
         "1007.2",
         "100",
         "12.8",
         "169",
         "31.7",
         "1"
        ],
        [
         "200",
         "22.5",
         "66",
         "15.9",
         "0.0",
         "1002.8",
         "99",
         "11.8",
         "236",
         "19.1",
         "1"
        ],
        [
         "183",
         "19.9",
         "78",
         "15.9",
         "0.0",
         "1018.4",
         "100",
         "21.9",
         "147",
         "39.2",
         "1"
        ],
        [
         "179",
         "19.6",
         "70",
         "13.9",
         "0.2",
         "1004.4",
         "100",
         "9.2",
         "94",
         "20.2",
         "1"
        ],
        [
         "144",
         "15.7",
         "76",
         "11.4",
         "0.0",
         "1007.5",
         "71",
         "10.3",
         "248",
         "27.7",
         "1"
        ],
        [
         "80",
         "10.9",
         "77",
         "7.0",
         "0.0",
         "1010.6",
         "100",
         "10.1",
         "248",
         "24.1",
         "2"
        ],
        [
         "87",
         "11.2",
         "66",
         "5.1",
         "0.0",
         "1014.2",
         "98",
         "2.3",
         "231",
         "4.0",
         "2"
        ],
        [
         "81",
         "10.9",
         "80",
         "7.5",
         "0.0",
         "1014.2",
         "100",
         "4.1",
         "151",
         "7.6",
         "2"
        ],
        [
         "89",
         "11.2",
         "78",
         "7.6",
         "0.0",
         "1013.7",
         "99",
         "3.9",
         "202",
         "11.2",
         "2"
        ],
        [
         "92",
         "11.3",
         "76",
         "7.2",
         "0.0",
         "1013.5",
         "100",
         "3.6",
         "213",
         "15.8",
         "2"
        ],
        [
         "78",
         "10.6",
         "72",
         "5.7",
         "0.0",
         "1014.3",
         "98",
         "4.3",
         "204",
         "4.3",
         "2"
        ],
        [
         "97",
         "11.9",
         "78",
         "8.2",
         "0.0",
         "1016.3",
         "98",
         "5.4",
         "352",
         "8.6",
         "2"
        ],
        [
         "64",
         "10.2",
         "76",
         "6.2",
         "0.0",
         "1014.3",
         "100",
         "3.5",
         "348",
         "12.6",
         "2"
        ],
        [
         "42",
         "9.1",
         "83",
         "6.4",
         "0.0",
         "1012.5",
         "100",
         "7.3",
         "253",
         "19.1",
         "2"
        ]
       ],
       "shape": {
        "columns": 10,
        "rows": 208
       }
      },
      "text/html": [
       "<div>\n",
       "<style scoped>\n",
       "    .dataframe tbody tr th:only-of-type {\n",
       "        vertical-align: middle;\n",
       "    }\n",
       "\n",
       "    .dataframe tbody tr th {\n",
       "        vertical-align: top;\n",
       "    }\n",
       "\n",
       "    .dataframe thead th {\n",
       "        text-align: right;\n",
       "    }\n",
       "</style>\n",
       "<table border=\"1\" class=\"dataframe\">\n",
       "  <thead>\n",
       "    <tr style=\"text-align: right;\">\n",
       "      <th></th>\n",
       "      <th>temperature</th>\n",
       "      <th>relative_humidity</th>\n",
       "      <th>dew_point</th>\n",
       "      <th>precipitation</th>\n",
       "      <th>pressure</th>\n",
       "      <th>cloud_cover</th>\n",
       "      <th>windspeed</th>\n",
       "      <th>wind_direction</th>\n",
       "      <th>wind_gusts</th>\n",
       "      <th>weather_group</th>\n",
       "    </tr>\n",
       "  </thead>\n",
       "  <tbody>\n",
       "    <tr>\n",
       "      <th>61</th>\n",
       "      <td>10.0</td>\n",
       "      <td>85</td>\n",
       "      <td>7.6</td>\n",
       "      <td>0.5</td>\n",
       "      <td>1010.1</td>\n",
       "      <td>100</td>\n",
       "      <td>11.2</td>\n",
       "      <td>120</td>\n",
       "      <td>26.3</td>\n",
       "      <td>0</td>\n",
       "    </tr>\n",
       "    <tr>\n",
       "      <th>63</th>\n",
       "      <td>10.1</td>\n",
       "      <td>66</td>\n",
       "      <td>4.1</td>\n",
       "      <td>0.9</td>\n",
       "      <td>1012.4</td>\n",
       "      <td>100</td>\n",
       "      <td>10.5</td>\n",
       "      <td>66</td>\n",
       "      <td>25.6</td>\n",
       "      <td>0</td>\n",
       "    </tr>\n",
       "    <tr>\n",
       "      <th>58</th>\n",
       "      <td>9.9</td>\n",
       "      <td>92</td>\n",
       "      <td>8.6</td>\n",
       "      <td>2.1</td>\n",
       "      <td>1006.0</td>\n",
       "      <td>100</td>\n",
       "      <td>16.5</td>\n",
       "      <td>158</td>\n",
       "      <td>45.7</td>\n",
       "      <td>0</td>\n",
       "    </tr>\n",
       "    <tr>\n",
       "      <th>49</th>\n",
       "      <td>9.5</td>\n",
       "      <td>80</td>\n",
       "      <td>6.2</td>\n",
       "      <td>0.6</td>\n",
       "      <td>1010.6</td>\n",
       "      <td>100</td>\n",
       "      <td>13.0</td>\n",
       "      <td>96</td>\n",
       "      <td>27.7</td>\n",
       "      <td>0</td>\n",
       "    </tr>\n",
       "    <tr>\n",
       "      <th>59</th>\n",
       "      <td>9.9</td>\n",
       "      <td>93</td>\n",
       "      <td>8.9</td>\n",
       "      <td>4.0</td>\n",
       "      <td>1005.8</td>\n",
       "      <td>100</td>\n",
       "      <td>15.3</td>\n",
       "      <td>155</td>\n",
       "      <td>42.8</td>\n",
       "      <td>0</td>\n",
       "    </tr>\n",
       "    <tr>\n",
       "      <th>...</th>\n",
       "      <td>...</td>\n",
       "      <td>...</td>\n",
       "      <td>...</td>\n",
       "      <td>...</td>\n",
       "      <td>...</td>\n",
       "      <td>...</td>\n",
       "      <td>...</td>\n",
       "      <td>...</td>\n",
       "      <td>...</td>\n",
       "      <td>...</td>\n",
       "    </tr>\n",
       "    <tr>\n",
       "      <th>141</th>\n",
       "      <td>15.6</td>\n",
       "      <td>48</td>\n",
       "      <td>4.6</td>\n",
       "      <td>0.0</td>\n",
       "      <td>1018.3</td>\n",
       "      <td>99</td>\n",
       "      <td>7.2</td>\n",
       "      <td>162</td>\n",
       "      <td>11.5</td>\n",
       "      <td>6</td>\n",
       "    </tr>\n",
       "    <tr>\n",
       "      <th>137</th>\n",
       "      <td>15.2</td>\n",
       "      <td>39</td>\n",
       "      <td>1.2</td>\n",
       "      <td>0.0</td>\n",
       "      <td>1017.8</td>\n",
       "      <td>100</td>\n",
       "      <td>3.5</td>\n",
       "      <td>81</td>\n",
       "      <td>15.5</td>\n",
       "      <td>6</td>\n",
       "    </tr>\n",
       "    <tr>\n",
       "      <th>129</th>\n",
       "      <td>14.6</td>\n",
       "      <td>55</td>\n",
       "      <td>5.7</td>\n",
       "      <td>0.0</td>\n",
       "      <td>1018.9</td>\n",
       "      <td>91</td>\n",
       "      <td>5.0</td>\n",
       "      <td>21</td>\n",
       "      <td>5.0</td>\n",
       "      <td>6</td>\n",
       "    </tr>\n",
       "    <tr>\n",
       "      <th>148</th>\n",
       "      <td>16.1</td>\n",
       "      <td>57</td>\n",
       "      <td>7.5</td>\n",
       "      <td>0.0</td>\n",
       "      <td>1016.5</td>\n",
       "      <td>98</td>\n",
       "      <td>2.9</td>\n",
       "      <td>7</td>\n",
       "      <td>5.8</td>\n",
       "      <td>6</td>\n",
       "    </tr>\n",
       "    <tr>\n",
       "      <th>134</th>\n",
       "      <td>15.1</td>\n",
       "      <td>43</td>\n",
       "      <td>2.6</td>\n",
       "      <td>0.0</td>\n",
       "      <td>1016.2</td>\n",
       "      <td>100</td>\n",
       "      <td>6.3</td>\n",
       "      <td>70</td>\n",
       "      <td>17.3</td>\n",
       "      <td>6</td>\n",
       "    </tr>\n",
       "  </tbody>\n",
       "</table>\n",
       "<p>208 rows × 10 columns</p>\n",
       "</div>"
      ],
      "text/plain": [
       "     temperature  relative_humidity  dew_point  precipitation  pressure  \\\n",
       "61          10.0                 85        7.6            0.5    1010.1   \n",
       "63          10.1                 66        4.1            0.9    1012.4   \n",
       "58           9.9                 92        8.6            2.1    1006.0   \n",
       "49           9.5                 80        6.2            0.6    1010.6   \n",
       "59           9.9                 93        8.9            4.0    1005.8   \n",
       "..           ...                ...        ...            ...       ...   \n",
       "141         15.6                 48        4.6            0.0    1018.3   \n",
       "137         15.2                 39        1.2            0.0    1017.8   \n",
       "129         14.6                 55        5.7            0.0    1018.9   \n",
       "148         16.1                 57        7.5            0.0    1016.5   \n",
       "134         15.1                 43        2.6            0.0    1016.2   \n",
       "\n",
       "     cloud_cover  windspeed  wind_direction  wind_gusts  weather_group  \n",
       "61           100       11.2             120        26.3              0  \n",
       "63           100       10.5              66        25.6              0  \n",
       "58           100       16.5             158        45.7              0  \n",
       "49           100       13.0              96        27.7              0  \n",
       "59           100       15.3             155        42.8              0  \n",
       "..           ...        ...             ...         ...            ...  \n",
       "141           99        7.2             162        11.5              6  \n",
       "137          100        3.5              81        15.5              6  \n",
       "129           91        5.0              21         5.0              6  \n",
       "148           98        2.9               7         5.8              6  \n",
       "134          100        6.3              70        17.3              6  \n",
       "\n",
       "[208 rows x 10 columns]"
      ]
     },
     "execution_count": 41,
     "metadata": {},
     "output_type": "execute_result"
    }
   ],
   "source": [
    "weather_df.sort_values('weather_group')"
   ]
  },
  {
   "cell_type": "code",
   "execution_count": 42,
   "id": "a2b97faa",
   "metadata": {},
   "outputs": [],
   "source": [
    "# Merge weather clusters to main dataframe\n",
    "df = pd.merge(left=df, right=weather_df, how='inner', on=weather_cols)"
   ]
  },
  {
   "cell_type": "code",
   "execution_count": 43,
   "id": "78677573",
   "metadata": {},
   "outputs": [
    {
     "data": {
      "text/plain": [
       "Index(['trip_id', 'vehicle_id', 'vehicle_bearing', 'vehicle_speed',\n",
       "       'vehicle_in_transit', 'occupancy_status', 'route_id', 'stop_id',\n",
       "       'stop_name', 'stop_lat', 'stop_lon', 'stop_distance', 'stop_sequence',\n",
       "       'trip_progress', 'stop_has_alert', 'wheelchair_boarding', 'delay',\n",
       "       'delay_class', 'incident_count', 'incident_nearby', 'temperature',\n",
       "       'relative_humidity', 'dew_point', 'precipitation', 'pressure',\n",
       "       'cloud_cover', 'windspeed', 'wind_direction', 'wind_gusts', 'month',\n",
       "       'day_of_week', 'time_of_day_midday', 'time_of_day_morning',\n",
       "       'time_of_day_night', 'is_weekend', 'is_peak_hour', 'route_type_Day',\n",
       "       'route_type_Night', 'route_type_Rush Hour High Frequency',\n",
       "       'sch_rel_Scheduled', 'sch_rel_Skipped', 'weather_group'],\n",
       "      dtype='object')"
      ]
     },
     "execution_count": 43,
     "metadata": {},
     "output_type": "execute_result"
    }
   ],
   "source": [
    "df.columns"
   ]
  },
  {
   "cell_type": "code",
   "execution_count": 44,
   "id": "7c98f523",
   "metadata": {},
   "outputs": [
    {
     "data": {
      "application/vnd.microsoft.datawrangler.viewer.v0+json": {
       "columns": [
        {
         "name": "index",
         "rawType": "int64",
         "type": "integer"
        },
        {
         "name": "trip_id",
         "rawType": "int64",
         "type": "integer"
        },
        {
         "name": "vehicle_id",
         "rawType": "int64",
         "type": "integer"
        },
        {
         "name": "vehicle_bearing",
         "rawType": "float64",
         "type": "float"
        },
        {
         "name": "vehicle_speed",
         "rawType": "float64",
         "type": "float"
        },
        {
         "name": "vehicle_in_transit",
         "rawType": "int64",
         "type": "integer"
        },
        {
         "name": "occupancy_status",
         "rawType": "int64",
         "type": "integer"
        },
        {
         "name": "route_id",
         "rawType": "int64",
         "type": "integer"
        },
        {
         "name": "stop_id",
         "rawType": "int64",
         "type": "integer"
        },
        {
         "name": "stop_name",
         "rawType": "object",
         "type": "string"
        },
        {
         "name": "stop_lat",
         "rawType": "float64",
         "type": "float"
        },
        {
         "name": "stop_lon",
         "rawType": "float64",
         "type": "float"
        },
        {
         "name": "stop_distance",
         "rawType": "float64",
         "type": "float"
        },
        {
         "name": "stop_sequence",
         "rawType": "int64",
         "type": "integer"
        },
        {
         "name": "trip_progress",
         "rawType": "float64",
         "type": "float"
        },
        {
         "name": "stop_has_alert",
         "rawType": "int64",
         "type": "integer"
        },
        {
         "name": "wheelchair_boarding",
         "rawType": "int64",
         "type": "integer"
        },
        {
         "name": "delay",
         "rawType": "float64",
         "type": "float"
        },
        {
         "name": "delay_class",
         "rawType": "int64",
         "type": "integer"
        },
        {
         "name": "incident_count",
         "rawType": "float64",
         "type": "float"
        },
        {
         "name": "incident_nearby",
         "rawType": "int64",
         "type": "integer"
        },
        {
         "name": "temperature",
         "rawType": "float64",
         "type": "float"
        },
        {
         "name": "relative_humidity",
         "rawType": "int64",
         "type": "integer"
        },
        {
         "name": "dew_point",
         "rawType": "float64",
         "type": "float"
        },
        {
         "name": "precipitation",
         "rawType": "float64",
         "type": "float"
        },
        {
         "name": "pressure",
         "rawType": "float64",
         "type": "float"
        },
        {
         "name": "cloud_cover",
         "rawType": "int64",
         "type": "integer"
        },
        {
         "name": "windspeed",
         "rawType": "float64",
         "type": "float"
        },
        {
         "name": "wind_direction",
         "rawType": "int64",
         "type": "integer"
        },
        {
         "name": "wind_gusts",
         "rawType": "float64",
         "type": "float"
        },
        {
         "name": "month",
         "rawType": "int32",
         "type": "integer"
        },
        {
         "name": "day_of_week",
         "rawType": "int32",
         "type": "integer"
        },
        {
         "name": "time_of_day_midday",
         "rawType": "int64",
         "type": "integer"
        },
        {
         "name": "time_of_day_morning",
         "rawType": "int64",
         "type": "integer"
        },
        {
         "name": "time_of_day_night",
         "rawType": "int64",
         "type": "integer"
        },
        {
         "name": "is_weekend",
         "rawType": "int64",
         "type": "integer"
        },
        {
         "name": "is_peak_hour",
         "rawType": "int64",
         "type": "integer"
        },
        {
         "name": "route_type_Day",
         "rawType": "int64",
         "type": "integer"
        },
        {
         "name": "route_type_Night",
         "rawType": "int64",
         "type": "integer"
        },
        {
         "name": "route_type_Rush Hour High Frequency",
         "rawType": "int64",
         "type": "integer"
        },
        {
         "name": "sch_rel_Scheduled",
         "rawType": "int64",
         "type": "integer"
        },
        {
         "name": "sch_rel_Skipped",
         "rawType": "int64",
         "type": "integer"
        },
        {
         "name": "weather_group",
         "rawType": "int32",
         "type": "integer"
        }
       ],
       "conversionMethod": "pd.DataFrame",
       "ref": "62b22e97-cd52-4f99-aa8e-63d1ee3b5c42",
       "rows": [
        [
         "0",
         "284214231",
         "33839",
         "0.0",
         "0.0",
         "0",
         "2",
         "80",
         "51798",
         "du Parc / Villeneuve",
         "45.518121",
         "-73.592207",
         "440.22177184502897",
         "9",
         "0.3103448275862069",
         "0",
         "1",
         "0.0",
         "1",
         "0.0",
         "0",
         "11.0",
         "50",
         "0.8",
         "0.0",
         "1019.5",
         "0",
         "13.4",
         "334",
         "29.5",
         "4",
         "6",
         "0",
         "0",
         "0",
         "1",
         "0",
         "0",
         "0",
         "1",
         "1",
         "0",
         "5"
        ],
        [
         "1",
         "284214231",
         "33839",
         "0.0",
         "0.0",
         "1",
         "1",
         "80",
         "54225",
         "Aréna Howie-Morenz",
         "45.534367",
         "-73.642827",
         "429.0251603196889",
         "28",
         "0.9655172413793104",
         "0",
         "1",
         "0.0",
         "1",
         "0.0",
         "0",
         "10.4",
         "52",
         "0.9",
         "0.0",
         "1020.1",
         "0",
         "11.6",
         "332",
         "29.2",
         "4",
         "6",
         "0",
         "0",
         "0",
         "1",
         "0",
         "0",
         "0",
         "1",
         "1",
         "0",
         "5"
        ],
        [
         "2",
         "283855472",
         "32018",
         "54.0",
         "0.0",
         "1",
         "1",
         "49",
         "60515",
         "Perras / 81e Avenue",
         "45.668193",
         "-73.549411",
         "142.36522776984523",
         "62",
         "1.0",
         "0",
         "1",
         "0.0",
         "1",
         "0.0",
         "0",
         "11.3",
         "49",
         "1.0",
         "0.0",
         "1019.1",
         "0",
         "13.3",
         "325",
         "29.9",
         "4",
         "6",
         "0",
         "0",
         "0",
         "1",
         "0",
         "0",
         "0",
         "1",
         "1",
         "0",
         "5"
        ],
        [
         "3",
         "283213434",
         "40187",
         "0.0",
         "0.0",
         "0",
         "1",
         "968",
         "60296",
         "Station Côte-Vertu",
         "45.514212",
         "-73.684175",
         "0.0",
         "1",
         "0.3333333333333333",
         "0",
         "1",
         "0.0",
         "1",
         "0.0",
         "0",
         "11.0",
         "50",
         "0.8",
         "0.0",
         "1019.5",
         "0",
         "13.4",
         "334",
         "29.5",
         "4",
         "6",
         "0",
         "0",
         "0",
         "1",
         "0",
         "1",
         "0",
         "0",
         "1",
         "0",
         "5"
        ],
        [
         "4",
         "283213434",
         "40187",
         "0.0",
         "0.0",
         "1",
         "1",
         "968",
         "61988",
         "Gare Roxboro-Pierrefonds",
         "45.510414",
         "-73.81174",
         "3005.3146228489827",
         "3",
         "1.0",
         "1",
         "1",
         "0.0",
         "1",
         "0.0",
         "0",
         "10.4",
         "52",
         "0.9",
         "0.0",
         "1020.1",
         "0",
         "11.6",
         "332",
         "29.2",
         "4",
         "6",
         "0",
         "0",
         "0",
         "1",
         "0",
         "1",
         "0",
         "0",
         "1",
         "0",
         "5"
        ]
       ],
       "shape": {
        "columns": 42,
        "rows": 5
       }
      },
      "text/html": [
       "<div>\n",
       "<style scoped>\n",
       "    .dataframe tbody tr th:only-of-type {\n",
       "        vertical-align: middle;\n",
       "    }\n",
       "\n",
       "    .dataframe tbody tr th {\n",
       "        vertical-align: top;\n",
       "    }\n",
       "\n",
       "    .dataframe thead th {\n",
       "        text-align: right;\n",
       "    }\n",
       "</style>\n",
       "<table border=\"1\" class=\"dataframe\">\n",
       "  <thead>\n",
       "    <tr style=\"text-align: right;\">\n",
       "      <th></th>\n",
       "      <th>trip_id</th>\n",
       "      <th>vehicle_id</th>\n",
       "      <th>vehicle_bearing</th>\n",
       "      <th>vehicle_speed</th>\n",
       "      <th>vehicle_in_transit</th>\n",
       "      <th>occupancy_status</th>\n",
       "      <th>route_id</th>\n",
       "      <th>stop_id</th>\n",
       "      <th>stop_name</th>\n",
       "      <th>stop_lat</th>\n",
       "      <th>...</th>\n",
       "      <th>time_of_day_morning</th>\n",
       "      <th>time_of_day_night</th>\n",
       "      <th>is_weekend</th>\n",
       "      <th>is_peak_hour</th>\n",
       "      <th>route_type_Day</th>\n",
       "      <th>route_type_Night</th>\n",
       "      <th>route_type_Rush Hour High Frequency</th>\n",
       "      <th>sch_rel_Scheduled</th>\n",
       "      <th>sch_rel_Skipped</th>\n",
       "      <th>weather_group</th>\n",
       "    </tr>\n",
       "  </thead>\n",
       "  <tbody>\n",
       "    <tr>\n",
       "      <th>0</th>\n",
       "      <td>284214231</td>\n",
       "      <td>33839</td>\n",
       "      <td>0.0</td>\n",
       "      <td>0.0</td>\n",
       "      <td>0</td>\n",
       "      <td>2</td>\n",
       "      <td>80</td>\n",
       "      <td>51798</td>\n",
       "      <td>du Parc / Villeneuve</td>\n",
       "      <td>45.518121</td>\n",
       "      <td>...</td>\n",
       "      <td>0</td>\n",
       "      <td>0</td>\n",
       "      <td>1</td>\n",
       "      <td>0</td>\n",
       "      <td>0</td>\n",
       "      <td>0</td>\n",
       "      <td>1</td>\n",
       "      <td>1</td>\n",
       "      <td>0</td>\n",
       "      <td>5</td>\n",
       "    </tr>\n",
       "    <tr>\n",
       "      <th>1</th>\n",
       "      <td>284214231</td>\n",
       "      <td>33839</td>\n",
       "      <td>0.0</td>\n",
       "      <td>0.0</td>\n",
       "      <td>1</td>\n",
       "      <td>1</td>\n",
       "      <td>80</td>\n",
       "      <td>54225</td>\n",
       "      <td>Aréna Howie-Morenz</td>\n",
       "      <td>45.534367</td>\n",
       "      <td>...</td>\n",
       "      <td>0</td>\n",
       "      <td>0</td>\n",
       "      <td>1</td>\n",
       "      <td>0</td>\n",
       "      <td>0</td>\n",
       "      <td>0</td>\n",
       "      <td>1</td>\n",
       "      <td>1</td>\n",
       "      <td>0</td>\n",
       "      <td>5</td>\n",
       "    </tr>\n",
       "    <tr>\n",
       "      <th>2</th>\n",
       "      <td>283855472</td>\n",
       "      <td>32018</td>\n",
       "      <td>54.0</td>\n",
       "      <td>0.0</td>\n",
       "      <td>1</td>\n",
       "      <td>1</td>\n",
       "      <td>49</td>\n",
       "      <td>60515</td>\n",
       "      <td>Perras / 81e Avenue</td>\n",
       "      <td>45.668193</td>\n",
       "      <td>...</td>\n",
       "      <td>0</td>\n",
       "      <td>0</td>\n",
       "      <td>1</td>\n",
       "      <td>0</td>\n",
       "      <td>0</td>\n",
       "      <td>0</td>\n",
       "      <td>1</td>\n",
       "      <td>1</td>\n",
       "      <td>0</td>\n",
       "      <td>5</td>\n",
       "    </tr>\n",
       "    <tr>\n",
       "      <th>3</th>\n",
       "      <td>283213434</td>\n",
       "      <td>40187</td>\n",
       "      <td>0.0</td>\n",
       "      <td>0.0</td>\n",
       "      <td>0</td>\n",
       "      <td>1</td>\n",
       "      <td>968</td>\n",
       "      <td>60296</td>\n",
       "      <td>Station Côte-Vertu</td>\n",
       "      <td>45.514212</td>\n",
       "      <td>...</td>\n",
       "      <td>0</td>\n",
       "      <td>0</td>\n",
       "      <td>1</td>\n",
       "      <td>0</td>\n",
       "      <td>1</td>\n",
       "      <td>0</td>\n",
       "      <td>0</td>\n",
       "      <td>1</td>\n",
       "      <td>0</td>\n",
       "      <td>5</td>\n",
       "    </tr>\n",
       "    <tr>\n",
       "      <th>4</th>\n",
       "      <td>283213434</td>\n",
       "      <td>40187</td>\n",
       "      <td>0.0</td>\n",
       "      <td>0.0</td>\n",
       "      <td>1</td>\n",
       "      <td>1</td>\n",
       "      <td>968</td>\n",
       "      <td>61988</td>\n",
       "      <td>Gare Roxboro-Pierrefonds</td>\n",
       "      <td>45.510414</td>\n",
       "      <td>...</td>\n",
       "      <td>0</td>\n",
       "      <td>0</td>\n",
       "      <td>1</td>\n",
       "      <td>0</td>\n",
       "      <td>1</td>\n",
       "      <td>0</td>\n",
       "      <td>0</td>\n",
       "      <td>1</td>\n",
       "      <td>0</td>\n",
       "      <td>5</td>\n",
       "    </tr>\n",
       "  </tbody>\n",
       "</table>\n",
       "<p>5 rows × 42 columns</p>\n",
       "</div>"
      ],
      "text/plain": [
       "     trip_id  vehicle_id  vehicle_bearing  vehicle_speed  vehicle_in_transit  \\\n",
       "0  284214231       33839              0.0            0.0                   0   \n",
       "1  284214231       33839              0.0            0.0                   1   \n",
       "2  283855472       32018             54.0            0.0                   1   \n",
       "3  283213434       40187              0.0            0.0                   0   \n",
       "4  283213434       40187              0.0            0.0                   1   \n",
       "\n",
       "   occupancy_status  route_id  stop_id                 stop_name   stop_lat  \\\n",
       "0                 2        80    51798      du Parc / Villeneuve  45.518121   \n",
       "1                 1        80    54225        Aréna Howie-Morenz  45.534367   \n",
       "2                 1        49    60515       Perras / 81e Avenue  45.668193   \n",
       "3                 1       968    60296        Station Côte-Vertu  45.514212   \n",
       "4                 1       968    61988  Gare Roxboro-Pierrefonds  45.510414   \n",
       "\n",
       "   ...  time_of_day_morning  time_of_day_night  is_weekend  is_peak_hour  \\\n",
       "0  ...                    0                  0           1             0   \n",
       "1  ...                    0                  0           1             0   \n",
       "2  ...                    0                  0           1             0   \n",
       "3  ...                    0                  0           1             0   \n",
       "4  ...                    0                  0           1             0   \n",
       "\n",
       "   route_type_Day  route_type_Night  route_type_Rush Hour High Frequency  \\\n",
       "0               0                 0                                    1   \n",
       "1               0                 0                                    1   \n",
       "2               0                 0                                    1   \n",
       "3               1                 0                                    0   \n",
       "4               1                 0                                    0   \n",
       "\n",
       "   sch_rel_Scheduled  sch_rel_Skipped  weather_group  \n",
       "0                  1                0              5  \n",
       "1                  1                0              5  \n",
       "2                  1                0              5  \n",
       "3                  1                0              5  \n",
       "4                  1                0              5  \n",
       "\n",
       "[5 rows x 42 columns]"
      ]
     },
     "execution_count": 44,
     "metadata": {},
     "output_type": "execute_result"
    }
   ],
   "source": [
    "df.head()"
   ]
  },
  {
   "cell_type": "markdown",
   "id": "b30cb245",
   "metadata": {},
   "source": [
    "### Drop redundant/unnecessary columns\n"
   ]
  },
  {
   "cell_type": "code",
   "execution_count": 45,
   "id": "17176c14",
   "metadata": {},
   "outputs": [
    {
     "data": {
      "text/plain": [
       "Index(['stop_name'], dtype='object')"
      ]
     },
     "execution_count": 45,
     "metadata": {},
     "output_type": "execute_result"
    }
   ],
   "source": [
    "# Get remaining string columns\n",
    "df.select_dtypes(include='object').columns"
   ]
  },
  {
   "cell_type": "code",
   "execution_count": 46,
   "id": "e79fff9d",
   "metadata": {},
   "outputs": [
    {
     "data": {
      "image/png": "[encoded data removed]",
      "text/plain": [
       "<Figure size 1200x1000 with 2 Axes>"
      ]
     },
     "metadata": {},
     "output_type": "display_data"
    }
   ],
   "source": [
    "# Check for highly correlated features\n",
    "corr_matrix = df.corr(numeric_only=True)\n",
    "plt.figure(figsize=(12,10))\n",
    "sns.heatmap(corr_matrix, annot=False, cmap='coolwarm')\n",
    "plt.show()"
   ]
  },
  {
   "cell_type": "markdown",
   "id": "22b51945",
   "metadata": {},
   "source": [
    "**Columns to drop**\n",
    "\n",
    "`trip_id`: Identifies a vehicle on a specific day and might cause data leakage.<br>\n",
    "`vehicle_id`: A unique identifuer of a vehicle won't help to make predictions.<br>\n",
    "`route_id`: The route types have been encoded.<br>\n",
    "`stop_id`, `stop_name`: The stop is already encoded with the coordinates.<br>\n",
    "`stop_sequence`: The trip progress has been calculated.<br>\n",
    "`temperature`, `relative_humidity`, `dew_point`, `precipitation`, `pressure`, `cloud_cover`, `windspeed`, `wind_direction`, `wind_gusts`: The weather attributes have been grouped.<br>\n"
   ]
  },
  {
   "cell_type": "code",
   "execution_count": 48,
   "id": "e47d1e6a",
   "metadata": {},
   "outputs": [],
   "source": [
    "df = df.drop([\n",
    "  \t'trip_id',\n",
    "  \t'vehicle_id',\n",
    "  \t'route_id',\n",
    "  \t'stop_id',\n",
    "  \t'stop_name',\n",
    "  \t'stop_sequence',\n",
    "  \t'temperature',\n",
    "\t'relative_humidity',\n",
    "  \t'dew_point',\n",
    "  \t'precipitation',\n",
    "  \t'pressure',\n",
    "\t'cloud_cover',\n",
    "  \t'windspeed',\n",
    "  \t'wind_direction',\n",
    "  \t'wind_gusts'\n",
    "  ], axis=1)"
   ]
  },
  {
   "cell_type": "markdown",
   "id": "c83d093d",
   "metadata": {},
   "source": [
    "## Export Data"
   ]
  },
  {
   "cell_type": "code",
   "execution_count": 49,
   "id": "ea440349",
   "metadata": {},
   "outputs": [
    {
     "data": {
      "text/plain": [
       "Index(['vehicle_bearing', 'vehicle_speed', 'vehicle_in_transit',\n",
       "       'occupancy_status', 'stop_lat', 'stop_lon', 'stop_distance',\n",
       "       'trip_progress', 'stop_has_alert', 'wheelchair_boarding', 'delay',\n",
       "       'delay_class', 'incident_count', 'incident_nearby', 'month',\n",
       "       'day_of_week', 'time_of_day_midday', 'time_of_day_morning',\n",
       "       'time_of_day_night', 'is_weekend', 'is_peak_hour', 'route_type_Day',\n",
       "       'route_type_Night', 'route_type_Rush Hour High Frequency',\n",
       "       'sch_rel_Scheduled', 'sch_rel_Skipped', 'weather_group'],\n",
       "      dtype='object')"
      ]
     },
     "execution_count": 49,
     "metadata": {},
     "output_type": "execute_result"
    }
   ],
   "source": [
    "df.columns"
   ]
  },
  {
   "cell_type": "code",
   "execution_count": null,
   "id": "89feaf25",
   "metadata": {},
   "outputs": [
    {
     "ename": "KeyError",
     "evalue": "\"['time_of_day_nightis_weekend'] not in index\"",
     "output_type": "error",
     "traceback": [
      "\u001b[31m---------------------------------------------------------------------------\u001b[39m",
      "\u001b[31mKeyError\u001b[39m                                  Traceback (most recent call last)",
      "\u001b[36mCell\u001b[39m\u001b[36m \u001b[39m\u001b[32mIn[53]\u001b[39m\u001b[32m, line 2\u001b[39m\n\u001b[32m      1\u001b[39m \u001b[38;5;66;03m# Reorder columns\u001b[39;00m\n\u001b[32m----> \u001b[39m\u001b[32m2\u001b[39m df = \u001b[43mdf\u001b[49m\u001b[43m[\u001b[49m\u001b[43m[\u001b[49m\n\u001b[32m      3\u001b[39m \u001b[43m    \t\u001b[49m\u001b[33;43m'\u001b[39;49m\u001b[33;43mvehicle_bearing\u001b[39;49m\u001b[33;43m'\u001b[39;49m\u001b[43m,\u001b[49m\n\u001b[32m      4\u001b[39m \u001b[43m    \t\u001b[49m\u001b[33;43m'\u001b[39;49m\u001b[33;43mvehicle_speed\u001b[39;49m\u001b[33;43m'\u001b[39;49m\u001b[43m,\u001b[49m\n\u001b[32m      5\u001b[39m \u001b[43m    \t\u001b[49m\u001b[33;43m'\u001b[39;49m\u001b[33;43mvehicle_in_transit\u001b[39;49m\u001b[33;43m'\u001b[39;49m\u001b[43m,\u001b[49m\n\u001b[32m      6\u001b[39m \u001b[43m       \t\u001b[49m\u001b[33;43m'\u001b[39;49m\u001b[33;43moccupancy_status\u001b[39;49m\u001b[33;43m'\u001b[39;49m\u001b[43m,\u001b[49m\n\u001b[32m      7\u001b[39m \u001b[43m        \u001b[49m\u001b[33;43m'\u001b[39;49m\u001b[33;43mroute_type_Day\u001b[39;49m\u001b[33;43m'\u001b[39;49m\u001b[43m,\u001b[49m\n\u001b[32m      8\u001b[39m \u001b[43m       \t\u001b[49m\u001b[33;43m'\u001b[39;49m\u001b[33;43mroute_type_Night\u001b[39;49m\u001b[33;43m'\u001b[39;49m\u001b[43m,\u001b[49m\n\u001b[32m      9\u001b[39m \u001b[43m    \t\u001b[49m\u001b[33;43m'\u001b[39;49m\u001b[33;43mroute_type_Rush Hour High Frequency\u001b[39;49m\u001b[33;43m'\u001b[39;49m\u001b[43m,\u001b[49m\n\u001b[32m     10\u001b[39m \u001b[43m\t\t\u001b[49m\u001b[33;43m'\u001b[39;49m\u001b[33;43mstop_lat\u001b[39;49m\u001b[33;43m'\u001b[39;49m\u001b[43m,\u001b[49m\n\u001b[32m     11\u001b[39m \u001b[43m\t\t\u001b[49m\u001b[33;43m'\u001b[39;49m\u001b[33;43mstop_lon\u001b[39;49m\u001b[33;43m'\u001b[39;49m\u001b[43m,\u001b[49m\n\u001b[32m     12\u001b[39m \u001b[43m\t\t\u001b[49m\u001b[33;43m'\u001b[39;49m\u001b[33;43mstop_distance\u001b[39;49m\u001b[33;43m'\u001b[39;49m\u001b[43m,\u001b[49m\n\u001b[32m     13\u001b[39m \u001b[43m\t\t\u001b[49m\u001b[33;43m'\u001b[39;49m\u001b[33;43mtrip_progress\u001b[39;49m\u001b[33;43m'\u001b[39;49m\u001b[43m,\u001b[49m\n\u001b[32m     14\u001b[39m \u001b[43m    \t\u001b[49m\u001b[33;43m'\u001b[39;49m\u001b[33;43mstop_has_alert\u001b[39;49m\u001b[33;43m'\u001b[39;49m\u001b[43m,\u001b[49m\n\u001b[32m     15\u001b[39m \u001b[43m      \t\u001b[49m\u001b[33;43m'\u001b[39;49m\u001b[33;43mwheelchair_boarding\u001b[39;49m\u001b[33;43m'\u001b[39;49m\u001b[43m,\u001b[49m\n\u001b[32m     16\u001b[39m \u001b[43m\t\t\u001b[49m\u001b[33;43m'\u001b[39;49m\u001b[33;43msch_rel_Scheduled\u001b[39;49m\u001b[33;43m'\u001b[39;49m\u001b[43m,\u001b[49m\n\u001b[32m     17\u001b[39m \u001b[43m       \t\u001b[49m\u001b[33;43m'\u001b[39;49m\u001b[33;43msch_rel_Skipped\u001b[39;49m\u001b[33;43m'\u001b[39;49m\u001b[43m,\u001b[49m\n\u001b[32m     18\u001b[39m \u001b[43m\t\t\u001b[49m\u001b[33;43m'\u001b[39;49m\u001b[33;43mday_of_week\u001b[39;49m\u001b[33;43m'\u001b[39;49m\u001b[43m,\u001b[49m\n\u001b[32m     19\u001b[39m \u001b[43m    \t\u001b[49m\u001b[33;43m'\u001b[39;49m\u001b[33;43mtime_of_day_midday\u001b[39;49m\u001b[33;43m'\u001b[39;49m\u001b[43m,\u001b[49m\n\u001b[32m     20\u001b[39m \u001b[43m    \t\u001b[49m\u001b[33;43m'\u001b[39;49m\u001b[33;43mtime_of_day_morning\u001b[39;49m\u001b[33;43m'\u001b[39;49m\u001b[43m,\u001b[49m\n\u001b[32m     21\u001b[39m \u001b[43m       \t\u001b[49m\u001b[33;43m'\u001b[39;49m\u001b[33;43mtime_of_day_night\u001b[39;49m\u001b[33;43m'\u001b[39;49m\n\u001b[32m     22\u001b[39m \u001b[43m    \t\u001b[49m\u001b[33;43m'\u001b[39;49m\u001b[33;43mis_weekend\u001b[39;49m\u001b[33;43m'\u001b[39;49m\u001b[43m,\u001b[49m\n\u001b[32m     23\u001b[39m \u001b[43m       \t\u001b[49m\u001b[33;43m'\u001b[39;49m\u001b[33;43mis_peak_hour\u001b[39;49m\u001b[33;43m'\u001b[39;49m\u001b[43m,\u001b[49m\n\u001b[32m     24\u001b[39m \u001b[43m\t\t\u001b[49m\u001b[33;43m'\u001b[39;49m\u001b[33;43mincident_count\u001b[39;49m\u001b[33;43m'\u001b[39;49m\u001b[43m,\u001b[49m\n\u001b[32m     25\u001b[39m \u001b[43m\t\t\u001b[49m\u001b[33;43m'\u001b[39;49m\u001b[33;43mincident_nearby\u001b[39;49m\u001b[33;43m'\u001b[39;49m\u001b[43m,\u001b[49m\n\u001b[32m     26\u001b[39m \u001b[43m\t\t\u001b[49m\u001b[33;43m'\u001b[39;49m\u001b[33;43mweather_group\u001b[39;49m\u001b[33;43m'\u001b[39;49m\u001b[43m,\u001b[49m\n\u001b[32m     27\u001b[39m \u001b[43m    \t\u001b[49m\u001b[33;43m'\u001b[39;49m\u001b[33;43mdelay\u001b[39;49m\u001b[33;43m'\u001b[39;49m\u001b[43m,\u001b[49m\n\u001b[32m     28\u001b[39m \u001b[43m       \t\u001b[49m\u001b[33;43m'\u001b[39;49m\u001b[33;43mdelay_class\u001b[39;49m\u001b[33;43m'\u001b[39;49m\u001b[43m,\u001b[49m\n\u001b[32m     29\u001b[39m \u001b[43m]\u001b[49m\u001b[43m]\u001b[49m\n",
      "\u001b[36mFile \u001b[39m\u001b[32m~/Projects/DataScience/ConcordiaBootcamp/stm-transit-delay-prediction/venv/lib/python3.13/site-packages/pandas/core/frame.py:4108\u001b[39m, in \u001b[36mDataFrame.__getitem__\u001b[39m\u001b[34m(self, key)\u001b[39m\n\u001b[32m   4106\u001b[39m     \u001b[38;5;28;01mif\u001b[39;00m is_iterator(key):\n\u001b[32m   4107\u001b[39m         key = \u001b[38;5;28mlist\u001b[39m(key)\n\u001b[32m-> \u001b[39m\u001b[32m4108\u001b[39m     indexer = \u001b[38;5;28;43mself\u001b[39;49m\u001b[43m.\u001b[49m\u001b[43mcolumns\u001b[49m\u001b[43m.\u001b[49m\u001b[43m_get_indexer_strict\u001b[49m\u001b[43m(\u001b[49m\u001b[43mkey\u001b[49m\u001b[43m,\u001b[49m\u001b[43m \u001b[49m\u001b[33;43m\"\u001b[39;49m\u001b[33;43mcolumns\u001b[39;49m\u001b[33;43m\"\u001b[39;49m\u001b[43m)\u001b[49m[\u001b[32m1\u001b[39m]\n\u001b[32m   4110\u001b[39m \u001b[38;5;66;03m# take() does not accept boolean indexers\u001b[39;00m\n\u001b[32m   4111\u001b[39m \u001b[38;5;28;01mif\u001b[39;00m \u001b[38;5;28mgetattr\u001b[39m(indexer, \u001b[33m\"\u001b[39m\u001b[33mdtype\u001b[39m\u001b[33m\"\u001b[39m, \u001b[38;5;28;01mNone\u001b[39;00m) == \u001b[38;5;28mbool\u001b[39m:\n",
      "\u001b[36mFile \u001b[39m\u001b[32m~/Projects/DataScience/ConcordiaBootcamp/stm-transit-delay-prediction/venv/lib/python3.13/site-packages/pandas/core/indexes/base.py:6200\u001b[39m, in \u001b[36mIndex._get_indexer_strict\u001b[39m\u001b[34m(self, key, axis_name)\u001b[39m\n\u001b[32m   6197\u001b[39m \u001b[38;5;28;01melse\u001b[39;00m:\n\u001b[32m   6198\u001b[39m     keyarr, indexer, new_indexer = \u001b[38;5;28mself\u001b[39m._reindex_non_unique(keyarr)\n\u001b[32m-> \u001b[39m\u001b[32m6200\u001b[39m \u001b[38;5;28;43mself\u001b[39;49m\u001b[43m.\u001b[49m\u001b[43m_raise_if_missing\u001b[49m\u001b[43m(\u001b[49m\u001b[43mkeyarr\u001b[49m\u001b[43m,\u001b[49m\u001b[43m \u001b[49m\u001b[43mindexer\u001b[49m\u001b[43m,\u001b[49m\u001b[43m \u001b[49m\u001b[43maxis_name\u001b[49m\u001b[43m)\u001b[49m\n\u001b[32m   6202\u001b[39m keyarr = \u001b[38;5;28mself\u001b[39m.take(indexer)\n\u001b[32m   6203\u001b[39m \u001b[38;5;28;01mif\u001b[39;00m \u001b[38;5;28misinstance\u001b[39m(key, Index):\n\u001b[32m   6204\u001b[39m     \u001b[38;5;66;03m# GH 42790 - Preserve name from an Index\u001b[39;00m\n",
      "\u001b[36mFile \u001b[39m\u001b[32m~/Projects/DataScience/ConcordiaBootcamp/stm-transit-delay-prediction/venv/lib/python3.13/site-packages/pandas/core/indexes/base.py:6252\u001b[39m, in \u001b[36mIndex._raise_if_missing\u001b[39m\u001b[34m(self, key, indexer, axis_name)\u001b[39m\n\u001b[32m   6249\u001b[39m     \u001b[38;5;28;01mraise\u001b[39;00m \u001b[38;5;167;01mKeyError\u001b[39;00m(\u001b[33mf\u001b[39m\u001b[33m\"\u001b[39m\u001b[33mNone of [\u001b[39m\u001b[38;5;132;01m{\u001b[39;00mkey\u001b[38;5;132;01m}\u001b[39;00m\u001b[33m] are in the [\u001b[39m\u001b[38;5;132;01m{\u001b[39;00maxis_name\u001b[38;5;132;01m}\u001b[39;00m\u001b[33m]\u001b[39m\u001b[33m\"\u001b[39m)\n\u001b[32m   6251\u001b[39m not_found = \u001b[38;5;28mlist\u001b[39m(ensure_index(key)[missing_mask.nonzero()[\u001b[32m0\u001b[39m]].unique())\n\u001b[32m-> \u001b[39m\u001b[32m6252\u001b[39m \u001b[38;5;28;01mraise\u001b[39;00m \u001b[38;5;167;01mKeyError\u001b[39;00m(\u001b[33mf\u001b[39m\u001b[33m\"\u001b[39m\u001b[38;5;132;01m{\u001b[39;00mnot_found\u001b[38;5;132;01m}\u001b[39;00m\u001b[33m not in index\u001b[39m\u001b[33m\"\u001b[39m)\n",
      "\u001b[31mKeyError\u001b[39m: \"['time_of_day_nightis_weekend'] not in index\""
     ]
    }
   ],
   "source": [
    "# Reorder columns\n",
    "df = df[[\n",
    "    \t'vehicle_bearing',\n",
    "    \t'vehicle_speed',\n",
    "    \t'vehicle_in_transit',\n",
    "       \t'occupancy_status',\n",
    "        'route_type_Day',\n",
    "       \t'route_type_Night',\n",
    "    \t'route_type_Rush Hour High Frequency',\n",
    "\t\t'stop_lat',\n",
    "\t\t'stop_lon',\n",
    "\t\t'stop_distance',\n",
    "\t\t'trip_progress',\n",
    "    \t'stop_has_alert',\n",
    "      \t'wheelchair_boarding',\n",
    "\t\t'sch_rel_Scheduled',\n",
    "       \t'sch_rel_Skipped',\n",
    "\t\t'day_of_week',\n",
    "    \t'time_of_day_midday',\n",
    "    \t'time_of_day_morning',\n",
    "       \t'time_of_day_night',\n",
    "    \t'is_weekend',\n",
    "       \t'is_peak_hour',\n",
    "\t\t'incident_count',\n",
    "\t\t'incident_nearby',\n",
    "\t\t'weather_group',\n",
    "    \t'delay',\n",
    "       \t'delay_class',\n",
    "]]"
   ]
  },
  {
   "cell_type": "code",
   "execution_count": null,
   "id": "f86cec0c",
   "metadata": {},
   "outputs": [],
   "source": [
    "# Assert all columns are numeric\n",
    "assert len(df.columns) == len(df.select_dtypes([np.number]).columns)"
   ]
  },
  {
   "cell_type": "code",
   "execution_count": null,
   "id": "a19ed45e",
   "metadata": {},
   "outputs": [],
   "source": [
    "# Export scaler\n",
    "with open('../models/weather_scaler.pkl', 'wb') as handle:\n",
    "\tpickle.dump(scaler, handle, protocol=pickle.HIGHEST_PROTOCOL)"
   ]
  },
  {
   "cell_type": "code",
   "execution_count": null,
   "id": "2344b1d2",
   "metadata": {},
   "outputs": [],
   "source": [
    "# Export dataframe\n",
    "df.to_parquet('../data/preprocessed.parquet', index=False)"
   ]
  },
  {
   "cell_type": "markdown",
   "id": "2d2fc389",
   "metadata": {},
   "source": [
    "## End"
   ]
  }
 ],
 "metadata": {
  "kernelspec": {
   "display_name": "venv",
   "language": "python",
   "name": "python3"
  },
  "language_info": {
   "codemirror_mode": {
    "name": "ipython",
    "version": 3
   },
   "file_extension": ".py",
   "mimetype": "text/x-python",
   "name": "python",
   "nbconvert_exporter": "python",
   "pygments_lexer": "ipython3",
   "version": "3.13.3"
  }
 },
 "nbformat": 4,
 "nbformat_minor": 5
}
