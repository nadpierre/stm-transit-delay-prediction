{
 "cells": [
  {
   "cell_type": "markdown",
   "id": "7a883801",
   "metadata": {},
   "source": [
    "# STM Transit Delay Feature Engineering and Data Preprocessing"
   ]
  },
  {
   "cell_type": "markdown",
   "id": "13f950b4",
   "metadata": {},
   "source": [
    "This notebook preprocesses data about STM trip updates and historical weather data."
   ]
  },
  {
   "cell_type": "markdown",
   "id": "51775b74",
   "metadata": {},
   "source": [
    "## Data Description"
   ]
  },
  {
   "cell_type": "markdown",
   "id": "f39d1571",
   "metadata": {},
   "source": [
    "`trip_id` unique identifier of a trip<br>\n",
    "`route_id` bus or metro line<br>\n",
    "`stop_id` stop number<br>\n",
    "`stop_lat`stop latitude<br>\n",
    "`stop_lon`stop longitude<br>\n",
    "`stop_sequence` sequence of the stop, for ordering<br>\n",
    "`wheelchair_boarding` indicates if the stop is accessible for people in wheelchair, 1 being true and 2 being false<br>\n",
    "`realtime_arrival_time` actual arrival time, in milliseconds<br>\n",
    "`scheduled_arrival_time` planned arrival time, in milliseconds<br>\n",
    "`temperature` air temperature at 2 meters above ground, in Celsius<br>\n",
    "`precipitation` total precipitation (rain, showers, snow) sum of the preceding hour, in millimeters<br>\n",
    "`windspeed` wind speed at 10 meters above ground, in km/h<br>\n",
    "`weathercode` World Meteorological Organization (WMO) code<br>"
   ]
  },
  {
   "cell_type": "markdown",
   "id": "05c49de4",
   "metadata": {},
   "source": [
    "## Imports"
   ]
  },
  {
   "cell_type": "code",
   "execution_count": null,
   "id": "e5094a27",
   "metadata": {},
   "outputs": [],
   "source": [
    "import matplotlib.pyplot as plt\n",
    "import numpy as np\n",
    "import pandas as pd\n",
    "import pickle\n",
    "from sklearn.preprocessing import LabelEncoder\n",
    "import sys"
   ]
  },
  {
   "cell_type": "code",
   "execution_count": 102,
   "id": "568941a9",
   "metadata": {},
   "outputs": [],
   "source": [
    "# Import custom code\n",
    "sys.path.insert(0, '..')\n",
    "from scripts.custom_functions import LOCAL_TIMEZONE, WEATHER_CODES"
   ]
  },
  {
   "cell_type": "code",
   "execution_count": 103,
   "id": "353b54de",
   "metadata": {},
   "outputs": [],
   "source": [
    "# Load data\n",
    "df = pd.read_csv('../data/stm_weather_merged.csv')"
   ]
  },
  {
   "cell_type": "markdown",
   "id": "f2b3d765",
   "metadata": {},
   "source": [
    "## Feature Engineering"
   ]
  },
  {
   "cell_type": "markdown",
   "id": "a6b61fa2",
   "metadata": {},
   "source": [
    "### Delay"
   ]
  },
  {
   "cell_type": "code",
   "execution_count": 105,
   "id": "c1aecec5",
   "metadata": {},
   "outputs": [],
   "source": [
    "# Convert real and scheduled timestamps\n",
    "df['realtime_arrival_time'] = pd.to_datetime(df['realtime_arrival_time'], origin='unix', unit='ms', utc=True)\n",
    "df['scheduled_arrival_time'] = pd.to_datetime(df['scheduled_arrival_time'], origin='unix', unit='ms', utc=True)"
   ]
  },
  {
   "cell_type": "code",
   "execution_count": 106,
   "id": "d7c9b3a2",
   "metadata": {},
   "outputs": [],
   "source": [
    "# Calculate delay in seconds (real - scheduled)\n",
    "df['delay'] = (df['realtime_arrival_time'] - df['scheduled_arrival_time']).dt.total_seconds()"
   ]
  },
  {
   "cell_type": "code",
   "execution_count": 112,
   "id": "183adc6a",
   "metadata": {},
   "outputs": [
    {
     "data": {
      "text/html": [
       "<div>\n",
       "<style scoped>\n",
       "    .dataframe tbody tr th:only-of-type {\n",
       "        vertical-align: middle;\n",
       "    }\n",
       "\n",
       "    .dataframe tbody tr th {\n",
       "        vertical-align: top;\n",
       "    }\n",
       "\n",
       "    .dataframe thead th {\n",
       "        text-align: right;\n",
       "    }\n",
       "</style>\n",
       "<table border=\"1\" class=\"dataframe\">\n",
       "  <thead>\n",
       "    <tr style=\"text-align: right;\">\n",
       "      <th></th>\n",
       "      <th>trip_id</th>\n",
       "      <th>route_id</th>\n",
       "      <th>stop_id</th>\n",
       "      <th>stop_lat</th>\n",
       "      <th>stop_lon</th>\n",
       "      <th>stop_sequence</th>\n",
       "      <th>wheelchair_boarding</th>\n",
       "      <th>realtime_arrival_time</th>\n",
       "      <th>scheduled_arrival_time</th>\n",
       "      <th>temperature</th>\n",
       "      <th>precipitation</th>\n",
       "      <th>windspeed</th>\n",
       "      <th>weathercode</th>\n",
       "      <th>delay</th>\n",
       "    </tr>\n",
       "  </thead>\n",
       "  <tbody>\n",
       "    <tr>\n",
       "      <th>0</th>\n",
       "      <td>285028348</td>\n",
       "      <td>189</td>\n",
       "      <td>54433</td>\n",
       "      <td>45.617546</td>\n",
       "      <td>-73.507835</td>\n",
       "      <td>20</td>\n",
       "      <td>1</td>\n",
       "      <td>2025-04-23 01:05:18-04:00</td>\n",
       "      <td>2025-04-23 01:05:08-04:00</td>\n",
       "      <td>4.5</td>\n",
       "      <td>0.0</td>\n",
       "      <td>9.5</td>\n",
       "      <td>0.0</td>\n",
       "      <td>10.0</td>\n",
       "    </tr>\n",
       "    <tr>\n",
       "      <th>1</th>\n",
       "      <td>285028348</td>\n",
       "      <td>189</td>\n",
       "      <td>54444</td>\n",
       "      <td>45.621630</td>\n",
       "      <td>-73.505533</td>\n",
       "      <td>21</td>\n",
       "      <td>1</td>\n",
       "      <td>2025-04-23 01:05:51-04:00</td>\n",
       "      <td>2025-04-23 01:05:51-04:00</td>\n",
       "      <td>4.5</td>\n",
       "      <td>0.0</td>\n",
       "      <td>9.5</td>\n",
       "      <td>0.0</td>\n",
       "      <td>0.0</td>\n",
       "    </tr>\n",
       "    <tr>\n",
       "      <th>2</th>\n",
       "      <td>285028348</td>\n",
       "      <td>189</td>\n",
       "      <td>54445</td>\n",
       "      <td>45.624606</td>\n",
       "      <td>-73.503332</td>\n",
       "      <td>22</td>\n",
       "      <td>1</td>\n",
       "      <td>2025-04-23 01:06:25-04:00</td>\n",
       "      <td>2025-04-23 01:06:25-04:00</td>\n",
       "      <td>4.5</td>\n",
       "      <td>0.0</td>\n",
       "      <td>9.5</td>\n",
       "      <td>0.0</td>\n",
       "      <td>0.0</td>\n",
       "    </tr>\n",
       "    <tr>\n",
       "      <th>3</th>\n",
       "      <td>285028348</td>\n",
       "      <td>189</td>\n",
       "      <td>54451</td>\n",
       "      <td>45.626270</td>\n",
       "      <td>-73.501486</td>\n",
       "      <td>23</td>\n",
       "      <td>1</td>\n",
       "      <td>2025-04-23 01:06:46-04:00</td>\n",
       "      <td>2025-04-23 01:06:46-04:00</td>\n",
       "      <td>4.5</td>\n",
       "      <td>0.0</td>\n",
       "      <td>9.5</td>\n",
       "      <td>0.0</td>\n",
       "      <td>0.0</td>\n",
       "    </tr>\n",
       "    <tr>\n",
       "      <th>4</th>\n",
       "      <td>285028348</td>\n",
       "      <td>189</td>\n",
       "      <td>54456</td>\n",
       "      <td>45.628078</td>\n",
       "      <td>-73.499449</td>\n",
       "      <td>24</td>\n",
       "      <td>1</td>\n",
       "      <td>2025-04-23 01:07:09-04:00</td>\n",
       "      <td>2025-04-23 01:07:09-04:00</td>\n",
       "      <td>4.5</td>\n",
       "      <td>0.0</td>\n",
       "      <td>9.5</td>\n",
       "      <td>0.0</td>\n",
       "      <td>0.0</td>\n",
       "    </tr>\n",
       "  </tbody>\n",
       "</table>\n",
       "</div>"
      ],
      "text/plain": [
       "     trip_id  route_id  stop_id   stop_lat   stop_lon  stop_sequence  \\\n",
       "0  285028348       189    54433  45.617546 -73.507835             20   \n",
       "1  285028348       189    54444  45.621630 -73.505533             21   \n",
       "2  285028348       189    54445  45.624606 -73.503332             22   \n",
       "3  285028348       189    54451  45.626270 -73.501486             23   \n",
       "4  285028348       189    54456  45.628078 -73.499449             24   \n",
       "\n",
       "   wheelchair_boarding     realtime_arrival_time    scheduled_arrival_time  \\\n",
       "0                    1 2025-04-23 01:05:18-04:00 2025-04-23 01:05:08-04:00   \n",
       "1                    1 2025-04-23 01:05:51-04:00 2025-04-23 01:05:51-04:00   \n",
       "2                    1 2025-04-23 01:06:25-04:00 2025-04-23 01:06:25-04:00   \n",
       "3                    1 2025-04-23 01:06:46-04:00 2025-04-23 01:06:46-04:00   \n",
       "4                    1 2025-04-23 01:07:09-04:00 2025-04-23 01:07:09-04:00   \n",
       "\n",
       "   temperature  precipitation  windspeed  weathercode  delay  \n",
       "0          4.5            0.0        9.5          0.0   10.0  \n",
       "1          4.5            0.0        9.5          0.0    0.0  \n",
       "2          4.5            0.0        9.5          0.0    0.0  \n",
       "3          4.5            0.0        9.5          0.0    0.0  \n",
       "4          4.5            0.0        9.5          0.0    0.0  "
      ]
     },
     "execution_count": 112,
     "metadata": {},
     "output_type": "execute_result"
    }
   ],
   "source": [
    "# Convert arrival times to local timezone\n",
    "df['realtime_arrival_time'] = df['realtime_arrival_time'].dt.tz_convert(LOCAL_TIMEZONE)\n",
    "df['scheduled_arrival_time'] = df['scheduled_arrival_time'].dt.tz_convert(LOCAL_TIMEZONE)\n",
    "df.head()"
   ]
  },
  {
   "cell_type": "code",
   "execution_count": 107,
   "id": "8e45ac10",
   "metadata": {},
   "outputs": [
    {
     "data": {
      "text/plain": [
       "count    1.944301e+06\n",
       "mean     6.489847e+01\n",
       "std      3.708955e+02\n",
       "min     -8.377000e+03\n",
       "25%      0.000000e+00\n",
       "50%      0.000000e+00\n",
       "75%      1.200000e+01\n",
       "max      3.464900e+04\n",
       "Name: delay, dtype: float64"
      ]
     },
     "execution_count": 107,
     "metadata": {},
     "output_type": "execute_result"
    }
   ],
   "source": [
    "df['delay'].describe()"
   ]
  },
  {
   "cell_type": "code",
   "execution_count": 108,
   "id": "d94316fb",
   "metadata": {},
   "outputs": [
    {
     "data": {
      "image/png": "[encoded data removed]",
      "text/plain": [
       "<Figure size 640x480 with 1 Axes>"
      ]
     },
     "metadata": {},
     "output_type": "display_data"
    }
   ],
   "source": [
    "# Plot distribution\n",
    "plt.hist(df['delay'], bins=50)\n",
    "plt.title('Distribution of delay')\n",
    "plt.xlabel('Delay (seconds)')\n",
    "plt.ylabel('Frequency')\n",
    "plt.savefig('../images/delay_hist.png', bbox_inches='tight')\n",
    "plt.show()\n"
   ]
  },
  {
   "cell_type": "markdown",
   "id": "2f18a61f",
   "metadata": {},
   "source": [
    "The plot shows there are some massive delays, which could affect the model performance. It's good to see that most trips have no delays."
   ]
  },
  {
   "cell_type": "code",
   "execution_count": 115,
   "id": "6a8f6d2b",
   "metadata": {},
   "outputs": [],
   "source": [
    "# Compute mean and standard deviation\n",
    "mean_delay = df['delay'].mean()\n",
    "std_delay = df['delay'].std()"
   ]
  },
  {
   "cell_type": "code",
   "execution_count": 116,
   "id": "73a3558b",
   "metadata": {},
   "outputs": [],
   "source": [
    "# Filter outliers based on standard deviation\n",
    "outlier_mask = (df['delay'] < mean_delay - 3 * std_delay) | (df['delay'] > mean_delay + 3 * std_delay)"
   ]
  },
  {
   "cell_type": "code",
   "execution_count": 117,
   "id": "d3c1e230",
   "metadata": {},
   "outputs": [
    {
     "data": {
      "text/html": [
       "<div>\n",
       "<style scoped>\n",
       "    .dataframe tbody tr th:only-of-type {\n",
       "        vertical-align: middle;\n",
       "    }\n",
       "\n",
       "    .dataframe tbody tr th {\n",
       "        vertical-align: top;\n",
       "    }\n",
       "\n",
       "    .dataframe thead th {\n",
       "        text-align: right;\n",
       "    }\n",
       "</style>\n",
       "<table border=\"1\" class=\"dataframe\">\n",
       "  <thead>\n",
       "    <tr style=\"text-align: right;\">\n",
       "      <th></th>\n",
       "      <th>trip_id</th>\n",
       "      <th>route_id</th>\n",
       "      <th>stop_id</th>\n",
       "      <th>stop_lat</th>\n",
       "      <th>stop_lon</th>\n",
       "      <th>stop_sequence</th>\n",
       "      <th>wheelchair_boarding</th>\n",
       "      <th>realtime_arrival_time</th>\n",
       "      <th>scheduled_arrival_time</th>\n",
       "      <th>temperature</th>\n",
       "      <th>precipitation</th>\n",
       "      <th>windspeed</th>\n",
       "      <th>weathercode</th>\n",
       "      <th>delay</th>\n",
       "    </tr>\n",
       "  </thead>\n",
       "  <tbody>\n",
       "    <tr>\n",
       "      <th>3943</th>\n",
       "      <td>286572115</td>\n",
       "      <td>198</td>\n",
       "      <td>61662</td>\n",
       "      <td>45.446593</td>\n",
       "      <td>-73.601897</td>\n",
       "      <td>1</td>\n",
       "      <td>1</td>\n",
       "      <td>2025-04-23 01:03:57-04:00</td>\n",
       "      <td>2025-04-23 01:24:00-04:00</td>\n",
       "      <td>4.5</td>\n",
       "      <td>0.0</td>\n",
       "      <td>9.5</td>\n",
       "      <td>0.0</td>\n",
       "      <td>-1203.0</td>\n",
       "    </tr>\n",
       "    <tr>\n",
       "      <th>3944</th>\n",
       "      <td>286572115</td>\n",
       "      <td>198</td>\n",
       "      <td>56986</td>\n",
       "      <td>45.434693</td>\n",
       "      <td>-73.602874</td>\n",
       "      <td>2</td>\n",
       "      <td>1</td>\n",
       "      <td>2025-04-23 01:08:49-04:00</td>\n",
       "      <td>2025-04-23 01:28:59-04:00</td>\n",
       "      <td>4.5</td>\n",
       "      <td>0.0</td>\n",
       "      <td>9.5</td>\n",
       "      <td>0.0</td>\n",
       "      <td>-1210.0</td>\n",
       "    </tr>\n",
       "    <tr>\n",
       "      <th>3945</th>\n",
       "      <td>286572115</td>\n",
       "      <td>198</td>\n",
       "      <td>57086</td>\n",
       "      <td>45.432102</td>\n",
       "      <td>-73.606890</td>\n",
       "      <td>3</td>\n",
       "      <td>1</td>\n",
       "      <td>2025-04-23 01:09:50-04:00</td>\n",
       "      <td>2025-04-23 01:30:00-04:00</td>\n",
       "      <td>4.5</td>\n",
       "      <td>0.0</td>\n",
       "      <td>9.5</td>\n",
       "      <td>0.0</td>\n",
       "      <td>-1210.0</td>\n",
       "    </tr>\n",
       "    <tr>\n",
       "      <th>3999</th>\n",
       "      <td>284728005</td>\n",
       "      <td>31</td>\n",
       "      <td>50314</td>\n",
       "      <td>45.556953</td>\n",
       "      <td>-73.668029</td>\n",
       "      <td>1</td>\n",
       "      <td>1</td>\n",
       "      <td>2025-04-23 02:44:42-04:00</td>\n",
       "      <td>2025-04-23 00:49:00-04:00</td>\n",
       "      <td>4.0</td>\n",
       "      <td>0.0</td>\n",
       "      <td>11.0</td>\n",
       "      <td>0.0</td>\n",
       "      <td>6942.0</td>\n",
       "    </tr>\n",
       "    <tr>\n",
       "      <th>4000</th>\n",
       "      <td>284728005</td>\n",
       "      <td>31</td>\n",
       "      <td>54169</td>\n",
       "      <td>45.555065</td>\n",
       "      <td>-73.670904</td>\n",
       "      <td>2</td>\n",
       "      <td>1</td>\n",
       "      <td>2025-04-23 02:46:14-04:00</td>\n",
       "      <td>2025-04-23 00:50:32-04:00</td>\n",
       "      <td>4.0</td>\n",
       "      <td>0.0</td>\n",
       "      <td>11.0</td>\n",
       "      <td>0.0</td>\n",
       "      <td>6942.0</td>\n",
       "    </tr>\n",
       "    <tr>\n",
       "      <th>...</th>\n",
       "      <td>...</td>\n",
       "      <td>...</td>\n",
       "      <td>...</td>\n",
       "      <td>...</td>\n",
       "      <td>...</td>\n",
       "      <td>...</td>\n",
       "      <td>...</td>\n",
       "      <td>...</td>\n",
       "      <td>...</td>\n",
       "      <td>...</td>\n",
       "      <td>...</td>\n",
       "      <td>...</td>\n",
       "      <td>...</td>\n",
       "      <td>...</td>\n",
       "    </tr>\n",
       "    <tr>\n",
       "      <th>1937215</th>\n",
       "      <td>283609230</td>\n",
       "      <td>33</td>\n",
       "      <td>53432</td>\n",
       "      <td>45.577429</td>\n",
       "      <td>-73.515425</td>\n",
       "      <td>59</td>\n",
       "      <td>1</td>\n",
       "      <td>2025-04-27 02:25:19-04:00</td>\n",
       "      <td>2025-04-27 01:00:50-04:00</td>\n",
       "      <td>3.0</td>\n",
       "      <td>0.8</td>\n",
       "      <td>16.1</td>\n",
       "      <td>53.0</td>\n",
       "      <td>5069.0</td>\n",
       "    </tr>\n",
       "    <tr>\n",
       "      <th>1937216</th>\n",
       "      <td>283609230</td>\n",
       "      <td>33</td>\n",
       "      <td>53440</td>\n",
       "      <td>45.578947</td>\n",
       "      <td>-73.513489</td>\n",
       "      <td>60</td>\n",
       "      <td>1</td>\n",
       "      <td>2025-04-27 02:26:02-04:00</td>\n",
       "      <td>2025-04-27 01:01:33-04:00</td>\n",
       "      <td>3.0</td>\n",
       "      <td>0.8</td>\n",
       "      <td>16.1</td>\n",
       "      <td>53.0</td>\n",
       "      <td>5069.0</td>\n",
       "    </tr>\n",
       "    <tr>\n",
       "      <th>1937217</th>\n",
       "      <td>283609230</td>\n",
       "      <td>33</td>\n",
       "      <td>53921</td>\n",
       "      <td>45.580640</td>\n",
       "      <td>-73.512003</td>\n",
       "      <td>61</td>\n",
       "      <td>1</td>\n",
       "      <td>2025-04-27 02:26:40-04:00</td>\n",
       "      <td>2025-04-27 01:02:11-04:00</td>\n",
       "      <td>3.0</td>\n",
       "      <td>0.8</td>\n",
       "      <td>16.1</td>\n",
       "      <td>53.0</td>\n",
       "      <td>5069.0</td>\n",
       "    </tr>\n",
       "    <tr>\n",
       "      <th>1937218</th>\n",
       "      <td>283609230</td>\n",
       "      <td>33</td>\n",
       "      <td>53479</td>\n",
       "      <td>45.581904</td>\n",
       "      <td>-73.510886</td>\n",
       "      <td>62</td>\n",
       "      <td>1</td>\n",
       "      <td>2025-04-27 02:27:09-04:00</td>\n",
       "      <td>2025-04-27 01:02:40-04:00</td>\n",
       "      <td>3.0</td>\n",
       "      <td>0.8</td>\n",
       "      <td>16.1</td>\n",
       "      <td>53.0</td>\n",
       "      <td>5069.0</td>\n",
       "    </tr>\n",
       "    <tr>\n",
       "      <th>1937219</th>\n",
       "      <td>283609230</td>\n",
       "      <td>33</td>\n",
       "      <td>54311</td>\n",
       "      <td>45.585019</td>\n",
       "      <td>-73.510997</td>\n",
       "      <td>63</td>\n",
       "      <td>1</td>\n",
       "      <td>2025-04-27 02:28:29-04:00</td>\n",
       "      <td>2025-04-27 01:04:00-04:00</td>\n",
       "      <td>3.0</td>\n",
       "      <td>0.8</td>\n",
       "      <td>16.1</td>\n",
       "      <td>53.0</td>\n",
       "      <td>5069.0</td>\n",
       "    </tr>\n",
       "  </tbody>\n",
       "</table>\n",
       "<p>14140 rows × 14 columns</p>\n",
       "</div>"
      ],
      "text/plain": [
       "           trip_id  route_id  stop_id   stop_lat   stop_lon  stop_sequence  \\\n",
       "3943     286572115       198    61662  45.446593 -73.601897              1   \n",
       "3944     286572115       198    56986  45.434693 -73.602874              2   \n",
       "3945     286572115       198    57086  45.432102 -73.606890              3   \n",
       "3999     284728005        31    50314  45.556953 -73.668029              1   \n",
       "4000     284728005        31    54169  45.555065 -73.670904              2   \n",
       "...            ...       ...      ...        ...        ...            ...   \n",
       "1937215  283609230        33    53432  45.577429 -73.515425             59   \n",
       "1937216  283609230        33    53440  45.578947 -73.513489             60   \n",
       "1937217  283609230        33    53921  45.580640 -73.512003             61   \n",
       "1937218  283609230        33    53479  45.581904 -73.510886             62   \n",
       "1937219  283609230        33    54311  45.585019 -73.510997             63   \n",
       "\n",
       "         wheelchair_boarding     realtime_arrival_time  \\\n",
       "3943                       1 2025-04-23 01:03:57-04:00   \n",
       "3944                       1 2025-04-23 01:08:49-04:00   \n",
       "3945                       1 2025-04-23 01:09:50-04:00   \n",
       "3999                       1 2025-04-23 02:44:42-04:00   \n",
       "4000                       1 2025-04-23 02:46:14-04:00   \n",
       "...                      ...                       ...   \n",
       "1937215                    1 2025-04-27 02:25:19-04:00   \n",
       "1937216                    1 2025-04-27 02:26:02-04:00   \n",
       "1937217                    1 2025-04-27 02:26:40-04:00   \n",
       "1937218                    1 2025-04-27 02:27:09-04:00   \n",
       "1937219                    1 2025-04-27 02:28:29-04:00   \n",
       "\n",
       "           scheduled_arrival_time  temperature  precipitation  windspeed  \\\n",
       "3943    2025-04-23 01:24:00-04:00          4.5            0.0        9.5   \n",
       "3944    2025-04-23 01:28:59-04:00          4.5            0.0        9.5   \n",
       "3945    2025-04-23 01:30:00-04:00          4.5            0.0        9.5   \n",
       "3999    2025-04-23 00:49:00-04:00          4.0            0.0       11.0   \n",
       "4000    2025-04-23 00:50:32-04:00          4.0            0.0       11.0   \n",
       "...                           ...          ...            ...        ...   \n",
       "1937215 2025-04-27 01:00:50-04:00          3.0            0.8       16.1   \n",
       "1937216 2025-04-27 01:01:33-04:00          3.0            0.8       16.1   \n",
       "1937217 2025-04-27 01:02:11-04:00          3.0            0.8       16.1   \n",
       "1937218 2025-04-27 01:02:40-04:00          3.0            0.8       16.1   \n",
       "1937219 2025-04-27 01:04:00-04:00          3.0            0.8       16.1   \n",
       "\n",
       "         weathercode   delay  \n",
       "3943             0.0 -1203.0  \n",
       "3944             0.0 -1210.0  \n",
       "3945             0.0 -1210.0  \n",
       "3999             0.0  6942.0  \n",
       "4000             0.0  6942.0  \n",
       "...              ...     ...  \n",
       "1937215         53.0  5069.0  \n",
       "1937216         53.0  5069.0  \n",
       "1937217         53.0  5069.0  \n",
       "1937218         53.0  5069.0  \n",
       "1937219         53.0  5069.0  \n",
       "\n",
       "[14140 rows x 14 columns]"
      ]
     },
     "execution_count": 117,
     "metadata": {},
     "output_type": "execute_result"
    }
   ],
   "source": [
    "# Get outliers\n",
    "df[outlier_mask]"
   ]
  },
  {
   "cell_type": "code",
   "execution_count": 118,
   "id": "4b0104e2",
   "metadata": {},
   "outputs": [
    {
     "name": "stdout",
     "output_type": "stream",
     "text": [
      "0.73%\n"
     ]
    }
   ],
   "source": [
    "# Get proportion of outliers\n",
    "print(f'{(outlier_mask.sum() / len(df)):.2%}')"
   ]
  },
  {
   "cell_type": "code",
   "execution_count": 125,
   "id": "e1a84cd7",
   "metadata": {},
   "outputs": [],
   "source": [
    "# Remove outliers\n",
    "df = df[~outlier_mask]"
   ]
  },
  {
   "cell_type": "code",
   "execution_count": 126,
   "id": "2bda74fd",
   "metadata": {},
   "outputs": [
    {
     "data": {
      "image/png": "[encoded data removed]",
      "text/plain": [
       "<Figure size 640x480 with 1 Axes>"
      ]
     },
     "metadata": {},
     "output_type": "display_data"
    }
   ],
   "source": [
    "# Plot distribution again\n",
    "plt.hist(df['delay'], bins=50)\n",
    "plt.title('Distribution of delay')\n",
    "plt.xlabel('Delay (seconds)')\n",
    "plt.ylabel('Frequency')\n",
    "plt.savefig('../images/delay_hist2.png', bbox_inches='tight')\n",
    "plt.show()"
   ]
  },
  {
   "cell_type": "markdown",
   "id": "1bb4cc0e",
   "metadata": {},
   "source": [
    "### Other features"
   ]
  },
  {
   "cell_type": "code",
   "execution_count": 127,
   "id": "d3b9e9c1",
   "metadata": {},
   "outputs": [],
   "source": [
    "# Sort values by stop sequence\n",
    "df = df.sort_values(by=['trip_id', 'route_id', 'stop_sequence'])"
   ]
  },
  {
   "cell_type": "code",
   "execution_count": 128,
   "id": "38896af2",
   "metadata": {},
   "outputs": [],
   "source": [
    "# Reset stop sequences (some stops are missing)\n",
    "df['stop_sequence'] = df.groupby(['trip_id', 'route_id']).cumcount() + 1"
   ]
  },
  {
   "cell_type": "code",
   "execution_count": 129,
   "id": "575c967f",
   "metadata": {},
   "outputs": [],
   "source": [
    "# Calculate trip progress percentage\n",
    "total_stops = df.groupby(['trip_id', 'route_id'])['stop_id'].transform('count')\n",
    "df['trip_progress_pct'] = df['stop_sequence'] / total_stops"
   ]
  },
  {
   "cell_type": "code",
   "execution_count": 130,
   "id": "d30d254f",
   "metadata": {},
   "outputs": [
    {
     "data": {
      "image/png": "[encoded data removed]",
      "text/plain": [
       "<Figure size 640x480 with 1 Axes>"
      ]
     },
     "metadata": {},
     "output_type": "display_data"
    }
   ],
   "source": [
    "# Plot trip progress vs. delay\n",
    "plt.scatter(x=df['trip_progress_pct'], y=df['delay'])\n",
    "plt.title('Trip Progress vs. Delay')\n",
    "plt.xlabel('Trip Progress')\n",
    "plt.ylabel('Delay (seconds)')\n",
    "plt.savefig('../images/trip_progress_vs_delay.png', bbox_inches='tight')\n",
    "plt.show()"
   ]
  },
  {
   "cell_type": "markdown",
   "id": "8d978329",
   "metadata": {},
   "source": [
    "Interpret plot"
   ]
  },
  {
   "cell_type": "code",
   "execution_count": 131,
   "id": "c786d0c0",
   "metadata": {},
   "outputs": [],
   "source": [
    "# Convert datetime to day and hour\n",
    "df['day'] = df['realtime_arrival_time'].dt.day_of_week\n",
    "df['hour'] = df['realtime_arrival_time'].dt.hour"
   ]
  },
  {
   "cell_type": "code",
   "execution_count": 132,
   "id": "cd1fa063",
   "metadata": {},
   "outputs": [
    {
     "data": {
      "text/html": [
       "<div>\n",
       "<style scoped>\n",
       "    .dataframe tbody tr th:only-of-type {\n",
       "        vertical-align: middle;\n",
       "    }\n",
       "\n",
       "    .dataframe tbody tr th {\n",
       "        vertical-align: top;\n",
       "    }\n",
       "\n",
       "    .dataframe thead th {\n",
       "        text-align: right;\n",
       "    }\n",
       "</style>\n",
       "<table border=\"1\" class=\"dataframe\">\n",
       "  <thead>\n",
       "    <tr style=\"text-align: right;\">\n",
       "      <th></th>\n",
       "      <th>trip_id</th>\n",
       "      <th>route_id</th>\n",
       "      <th>stop_id</th>\n",
       "      <th>stop_lat</th>\n",
       "      <th>stop_lon</th>\n",
       "      <th>stop_sequence</th>\n",
       "      <th>wheelchair_boarding</th>\n",
       "      <th>realtime_arrival_time</th>\n",
       "      <th>scheduled_arrival_time</th>\n",
       "      <th>temperature</th>\n",
       "      <th>precipitation</th>\n",
       "      <th>windspeed</th>\n",
       "      <th>weathercode</th>\n",
       "      <th>delay</th>\n",
       "      <th>trip_progress_pct</th>\n",
       "      <th>day</th>\n",
       "      <th>hour</th>\n",
       "      <th>historical_avg_delay</th>\n",
       "    </tr>\n",
       "  </thead>\n",
       "  <tbody>\n",
       "    <tr>\n",
       "      <th>0</th>\n",
       "      <td>283551791</td>\n",
       "      <td>51</td>\n",
       "      <td>50110</td>\n",
       "      <td>45.454203</td>\n",
       "      <td>-73.641481</td>\n",
       "      <td>1</td>\n",
       "      <td>1</td>\n",
       "      <td>2025-04-26 05:17:00-04:00</td>\n",
       "      <td>2025-04-26 05:17:00-04:00</td>\n",
       "      <td>8.5</td>\n",
       "      <td>0.7</td>\n",
       "      <td>10.5</td>\n",
       "      <td>53.0</td>\n",
       "      <td>0.0</td>\n",
       "      <td>0.02</td>\n",
       "      <td>5</td>\n",
       "      <td>5</td>\n",
       "      <td>40.666667</td>\n",
       "    </tr>\n",
       "    <tr>\n",
       "      <th>1</th>\n",
       "      <td>283551791</td>\n",
       "      <td>51</td>\n",
       "      <td>53792</td>\n",
       "      <td>45.455601</td>\n",
       "      <td>-73.640855</td>\n",
       "      <td>2</td>\n",
       "      <td>1</td>\n",
       "      <td>2025-04-26 05:17:33-04:00</td>\n",
       "      <td>2025-04-26 05:17:33-04:00</td>\n",
       "      <td>8.5</td>\n",
       "      <td>0.7</td>\n",
       "      <td>10.5</td>\n",
       "      <td>53.0</td>\n",
       "      <td>0.0</td>\n",
       "      <td>0.04</td>\n",
       "      <td>5</td>\n",
       "      <td>5</td>\n",
       "      <td>44.500000</td>\n",
       "    </tr>\n",
       "    <tr>\n",
       "      <th>2</th>\n",
       "      <td>283551791</td>\n",
       "      <td>51</td>\n",
       "      <td>50766</td>\n",
       "      <td>45.456750</td>\n",
       "      <td>-73.640602</td>\n",
       "      <td>3</td>\n",
       "      <td>1</td>\n",
       "      <td>2025-04-26 05:18:00-04:00</td>\n",
       "      <td>2025-04-26 05:18:00-04:00</td>\n",
       "      <td>8.5</td>\n",
       "      <td>0.7</td>\n",
       "      <td>10.5</td>\n",
       "      <td>53.0</td>\n",
       "      <td>0.0</td>\n",
       "      <td>0.06</td>\n",
       "      <td>5</td>\n",
       "      <td>5</td>\n",
       "      <td>44.500000</td>\n",
       "    </tr>\n",
       "    <tr>\n",
       "      <th>3</th>\n",
       "      <td>283551791</td>\n",
       "      <td>51</td>\n",
       "      <td>50716</td>\n",
       "      <td>45.457449</td>\n",
       "      <td>-73.642413</td>\n",
       "      <td>4</td>\n",
       "      <td>1</td>\n",
       "      <td>2025-04-26 05:19:00-04:00</td>\n",
       "      <td>2025-04-26 05:19:00-04:00</td>\n",
       "      <td>8.5</td>\n",
       "      <td>0.7</td>\n",
       "      <td>10.5</td>\n",
       "      <td>53.0</td>\n",
       "      <td>0.0</td>\n",
       "      <td>0.08</td>\n",
       "      <td>5</td>\n",
       "      <td>5</td>\n",
       "      <td>44.500000</td>\n",
       "    </tr>\n",
       "    <tr>\n",
       "      <th>4</th>\n",
       "      <td>283551791</td>\n",
       "      <td>51</td>\n",
       "      <td>50648</td>\n",
       "      <td>45.458560</td>\n",
       "      <td>-73.645283</td>\n",
       "      <td>5</td>\n",
       "      <td>1</td>\n",
       "      <td>2025-04-26 05:19:51-04:00</td>\n",
       "      <td>2025-04-26 05:19:51-04:00</td>\n",
       "      <td>8.5</td>\n",
       "      <td>0.7</td>\n",
       "      <td>10.5</td>\n",
       "      <td>53.0</td>\n",
       "      <td>0.0</td>\n",
       "      <td>0.10</td>\n",
       "      <td>5</td>\n",
       "      <td>5</td>\n",
       "      <td>44.500000</td>\n",
       "    </tr>\n",
       "  </tbody>\n",
       "</table>\n",
       "</div>"
      ],
      "text/plain": [
       "     trip_id  route_id  stop_id   stop_lat   stop_lon  stop_sequence  \\\n",
       "0  283551791        51    50110  45.454203 -73.641481              1   \n",
       "1  283551791        51    53792  45.455601 -73.640855              2   \n",
       "2  283551791        51    50766  45.456750 -73.640602              3   \n",
       "3  283551791        51    50716  45.457449 -73.642413              4   \n",
       "4  283551791        51    50648  45.458560 -73.645283              5   \n",
       "\n",
       "   wheelchair_boarding     realtime_arrival_time    scheduled_arrival_time  \\\n",
       "0                    1 2025-04-26 05:17:00-04:00 2025-04-26 05:17:00-04:00   \n",
       "1                    1 2025-04-26 05:17:33-04:00 2025-04-26 05:17:33-04:00   \n",
       "2                    1 2025-04-26 05:18:00-04:00 2025-04-26 05:18:00-04:00   \n",
       "3                    1 2025-04-26 05:19:00-04:00 2025-04-26 05:19:00-04:00   \n",
       "4                    1 2025-04-26 05:19:51-04:00 2025-04-26 05:19:51-04:00   \n",
       "\n",
       "   temperature  precipitation  windspeed  weathercode  delay  \\\n",
       "0          8.5            0.7       10.5         53.0    0.0   \n",
       "1          8.5            0.7       10.5         53.0    0.0   \n",
       "2          8.5            0.7       10.5         53.0    0.0   \n",
       "3          8.5            0.7       10.5         53.0    0.0   \n",
       "4          8.5            0.7       10.5         53.0    0.0   \n",
       "\n",
       "   trip_progress_pct  day  hour  historical_avg_delay  \n",
       "0               0.02    5     5             40.666667  \n",
       "1               0.04    5     5             44.500000  \n",
       "2               0.06    5     5             44.500000  \n",
       "3               0.08    5     5             44.500000  \n",
       "4               0.10    5     5             44.500000  "
      ]
     },
     "execution_count": 132,
     "metadata": {},
     "output_type": "execute_result"
    }
   ],
   "source": [
    "# Get average delay by stop, day and hour\n",
    "stop_hour_avg_delay = df.groupby(['stop_id', 'day', 'hour'])['delay'].mean().reset_index()\n",
    "stop_hour_avg_delay = stop_hour_avg_delay.rename(columns={'delay': 'historical_avg_delay'})\n",
    "df = df.merge(stop_hour_avg_delay, on=['stop_id', 'day', 'hour'], how='left')\n",
    "df.head()"
   ]
  },
  {
   "cell_type": "code",
   "execution_count": 133,
   "id": "895b18b1",
   "metadata": {},
   "outputs": [
    {
     "data": {
      "image/png": "[encoded data removed]",
      "text/plain": [
       "<Figure size 640x480 with 1 Axes>"
      ]
     },
     "metadata": {},
     "output_type": "display_data"
    }
   ],
   "source": [
    "# Plot historical delay vs real delay\n",
    "plt.scatter(x=df['historical_avg_delay'], y=df['delay'])\n",
    "plt.title('Historical Delay vs. Real Delay')\n",
    "plt.xlabel('Historical Delay (seconds)')\n",
    "plt.ylabel('Real Delay (seconds)')\n",
    "plt.savefig('../images/hist_vs_real_delay.png', bbox_inches='tight')\n",
    "plt.show()"
   ]
  },
  {
   "cell_type": "markdown",
   "id": "45d73aa0",
   "metadata": {},
   "source": [
    "Interpret plot"
   ]
  },
  {
   "cell_type": "markdown",
   "id": "6e3eb13f",
   "metadata": {},
   "source": [
    "## Data Preprocessing"
   ]
  },
  {
   "cell_type": "markdown",
   "id": "bf2977d0",
   "metadata": {},
   "source": [
    "### Encode Datetime"
   ]
  },
  {
   "cell_type": "code",
   "execution_count": 134,
   "id": "8900d2d1",
   "metadata": {},
   "outputs": [],
   "source": [
    "# Get day and hour from scheduled time\n",
    "df['sch_day'] = df['scheduled_arrival_time'].dt.day_of_week\n",
    "df['sch_hour'] = df['scheduled_arrival_time'].dt.hour"
   ]
  },
  {
   "cell_type": "code",
   "execution_count": 135,
   "id": "ead16beb",
   "metadata": {},
   "outputs": [],
   "source": [
    "# Use Cyclical Encoding for day and hour, as it's more suitable for time-related features\n",
    "# And the model can \"understand\" the wrap-around\n",
    "df['day_sin'] = np.sin(2 * np.pi * df['day'] / 7)\n",
    "df['day_cos'] = np.cos(2 * np.pi * df['day'] / 7)\n",
    "\n",
    "df['sch_day_sin'] = np.sin(2 * np.pi * df['sch_day'] / 7)\n",
    "df['sch_day_cos'] = np.cos(2 * np.pi * df['sch_day'] / 7)\n",
    "\n",
    "df['hour_sin'] = np.sin(2 * np.pi * df['hour'] / 24)\n",
    "df['hour_cos'] = np.cos(2 * np.pi * df['hour'] / 24)\n",
    "\n",
    "df['sch_hour_sin'] = np.sin(2 * np.pi * df['sch_hour'] / 24)\n",
    "df['sch_hour_cos'] = np.cos(2 * np.pi * df['sch_hour'] / 24)"
   ]
  },
  {
   "cell_type": "code",
   "execution_count": 136,
   "id": "84ef1b88",
   "metadata": {},
   "outputs": [],
   "source": [
    "# Add boolean value is_weekend\n",
    "weekend_mask = df['day'].isin([5, 6])\n",
    "df['is_weekend'] = np.where(weekend_mask, 1, 0)"
   ]
  },
  {
   "cell_type": "code",
   "execution_count": 137,
   "id": "6a7aa507",
   "metadata": {},
   "outputs": [],
   "source": [
    "# Add boolean value is_peak_hour (weekdays from 7-9am or 4-6pm)\n",
    "peak_hour_mask = (weekend_mask == False) & (df['hour'].isin([7, 8, 9, 16, 17, 18]))\n",
    "df['is_peak_hour'] = np.where(peak_hour_mask, 1, 0)"
   ]
  },
  {
   "cell_type": "markdown",
   "id": "b208b55d",
   "metadata": {},
   "source": [
    "### Use Label Encoding for route_id and stop_id"
   ]
  },
  {
   "cell_type": "code",
   "execution_count": 138,
   "id": "2060fe42",
   "metadata": {},
   "outputs": [],
   "source": [
    "le_route = LabelEncoder()\n",
    "df['route_id'] = le_route.fit_transform(df['route_id'])"
   ]
  },
  {
   "cell_type": "code",
   "execution_count": 139,
   "id": "c9d1c547",
   "metadata": {},
   "outputs": [],
   "source": [
    "le_stop = LabelEncoder()\n",
    "df['stop_id'] = le_stop.fit_transform(df['stop_id'])"
   ]
  },
  {
   "cell_type": "markdown",
   "id": "227505d8",
   "metadata": {},
   "source": [
    "### Convert weathercode Into Categories"
   ]
  },
  {
   "cell_type": "code",
   "execution_count": 140,
   "id": "600214ee",
   "metadata": {},
   "outputs": [],
   "source": [
    "# Create weather code mapping\n",
    "weathercodes = df['weathercode'].sort_values().unique()\n",
    "condition_list = []\n",
    "label_list = []\n",
    "\n",
    "for code in weathercodes:\n",
    "  condition_list.append(df['weathercode'] == code)\n",
    "  label_list.append(WEATHER_CODES[code])"
   ]
  },
  {
   "cell_type": "code",
   "execution_count": 141,
   "id": "d4faa15c",
   "metadata": {},
   "outputs": [],
   "source": [
    "# Create categories\n",
    "df['weather'] = np.select(condition_list, label_list, default='Unknown')"
   ]
  },
  {
   "cell_type": "code",
   "execution_count": 142,
   "id": "62d17fe7",
   "metadata": {},
   "outputs": [
    {
     "data": {
      "text/plain": [
       "weather\n",
       "Overcast            958451\n",
       "Clear sky           538869\n",
       "Partly cloudy       157241\n",
       "Light drizzle       133719\n",
       "Slight rain          52516\n",
       "Moderate drizzle     40495\n",
       "Mainly clear         30381\n",
       "Dense drizzle        18466\n",
       "Moderate rain           23\n",
       "Name: count, dtype: int64"
      ]
     },
     "execution_count": 142,
     "metadata": {},
     "output_type": "execute_result"
    }
   ],
   "source": [
    "df['weather'].value_counts()"
   ]
  },
  {
   "cell_type": "code",
   "execution_count": 144,
   "id": "c82b497b",
   "metadata": {},
   "outputs": [
    {
     "data": {
      "text/plain": [
       "weather\n",
       "Overcast         958451\n",
       "Clear sky        538869\n",
       "Drizzle          192680\n",
       "Partly cloudy    157241\n",
       "Rain              52539\n",
       "Mainly clear      30381\n",
       "Name: count, dtype: int64"
      ]
     },
     "execution_count": 144,
     "metadata": {},
     "output_type": "execute_result"
    }
   ],
   "source": [
    "# Collapsing categories to 6 max\n",
    "df['weather'] = np.where(df['weather'].isin(['Light drizzle', 'Moderate drizzle', 'Dense drizzle']), 'Drizzle', df['weather'])\n",
    "df['weather'] = np.where(df['weather'].isin(['Slight rain', 'Moderate rain']), 'Rain', df['weather'])\n",
    "df['weather'].value_counts()"
   ]
  },
  {
   "cell_type": "code",
   "execution_count": 145,
   "id": "8f65f239",
   "metadata": {},
   "outputs": [],
   "source": [
    "# Use One Hot Encoding\n",
    "one_hot = pd.get_dummies(df['weather'], drop_first=True, dtype='int64', prefix='weather')\n",
    "df = df.drop(['weathercode', 'weather'], axis=1).join(one_hot)"
   ]
  },
  {
   "cell_type": "markdown",
   "id": "c83d093d",
   "metadata": {},
   "source": [
    "## Export Data"
   ]
  },
  {
   "cell_type": "code",
   "execution_count": 94,
   "id": "ea440349",
   "metadata": {},
   "outputs": [
    {
     "data": {
      "text/plain": [
       "Index(['trip_id', 'route_id', 'stop_id', 'stop_lat', 'stop_lon',\n",
       "       'stop_sequence', 'wheelchair_boarding', 'realtime_arrival_time',\n",
       "       'scheduled_arrival_time', 'temperature', 'precipitation', 'windspeed',\n",
       "       'delay', 'trip_progress_pct', 'day', 'hour', 'historical_avg_delay',\n",
       "       'delay_was_clipped', 'sch_day', 'sch_hour', 'day_sin', 'day_cos',\n",
       "       'sch_day_sin', 'sch_day_cos', 'hour_sin', 'hour_cos', 'sch_hour_sin',\n",
       "       'sch_hour_cos', 'is_weekend', 'is_peak_hour', 'weather_Drizzle',\n",
       "       'weather_Mainly clear', 'weather_Overcast', 'weather_Partly cloudy',\n",
       "       'weather_Slight rain', 'pca_coords'],\n",
       "      dtype='object')"
      ]
     },
     "execution_count": 94,
     "metadata": {},
     "output_type": "execute_result"
    }
   ],
   "source": [
    "df.columns"
   ]
  },
  {
   "cell_type": "code",
   "execution_count": 95,
   "id": "89feaf25",
   "metadata": {},
   "outputs": [],
   "source": [
    "# Keep encoded columns and reorder them\n",
    "df = df[['route_id', 'stop_id', 'pca_coords', 'stop_sequence', 'trip_progress_pct',\n",
    "  \t\t'wheelchair_boarding', 'day_sin', 'day_cos', 'sch_day_sin', 'sch_day_cos', 'hour_sin', 'hour_cos', \n",
    "  \t\t'sch_hour_sin', 'sch_hour_cos', 'is_weekend', 'is_peak_hour', 'historical_avg_delay', 'delay_was_clipped',\n",
    "  \t\t'temperature', 'precipitation', 'windspeed', 'weather_Drizzle',\n",
    "       'weather_Mainly clear', 'weather_Overcast', 'weather_Partly cloudy',\n",
    "       'weather_Slight rain' , 'delay']]"
   ]
  },
  {
   "cell_type": "code",
   "execution_count": 96,
   "id": "a19ed45e",
   "metadata": {},
   "outputs": [],
   "source": [
    "# Export encoders\n",
    "encoders = {\n",
    "  'le_route': le_route,\n",
    "  'le_stop': le_stop\n",
    "}\n",
    "with open('../models/label_encoders.pickle', 'wb') as handle:\n",
    "\tpickle.dump(encoders, handle, protocol=pickle.HIGHEST_PROTOCOL)"
   ]
  },
  {
   "cell_type": "code",
   "execution_count": 97,
   "id": "6a7f38e6",
   "metadata": {},
   "outputs": [],
   "source": [
    "# Export scaler\n",
    "with open('../models/coord_scaler.pickle', 'wb') as handle:\n",
    "\tpickle.dump(scaler_coord, handle, protocol=pickle.HIGHEST_PROTOCOL)"
   ]
  },
  {
   "cell_type": "code",
   "execution_count": 98,
   "id": "20a85e90",
   "metadata": {},
   "outputs": [],
   "source": [
    "# Export coordinates PCA\n",
    "with open('../models/coord_pca.pickle', 'wb') as handle:\n",
    "\tpickle.dump(pca_coords, handle, protocol=pickle.HIGHEST_PROTOCOL)"
   ]
  },
  {
   "cell_type": "code",
   "execution_count": 99,
   "id": "7677485b",
   "metadata": {},
   "outputs": [
    {
     "name": "stdout",
     "output_type": "stream",
     "text": [
      "<class 'pandas.core.frame.DataFrame'>\n",
      "RangeIndex: 2184739 entries, 0 to 2184738\n",
      "Data columns (total 27 columns):\n",
      " #   Column                 Dtype  \n",
      "---  ------                 -----  \n",
      " 0   route_id               int64  \n",
      " 1   stop_id                int64  \n",
      " 2   pca_coords             float64\n",
      " 3   stop_sequence          int64  \n",
      " 4   trip_progress_pct      float64\n",
      " 5   wheelchair_boarding    int64  \n",
      " 6   day_sin                float64\n",
      " 7   day_cos                float64\n",
      " 8   sch_day_sin            float64\n",
      " 9   sch_day_cos            float64\n",
      " 10  hour_sin               float64\n",
      " 11  hour_cos               float64\n",
      " 12  sch_hour_sin           float64\n",
      " 13  sch_hour_cos           float64\n",
      " 14  is_weekend             int64  \n",
      " 15  is_peak_hour           int64  \n",
      " 16  historical_avg_delay   float64\n",
      " 17  delay_was_clipped      int64  \n",
      " 18  temperature            float64\n",
      " 19  precipitation          float64\n",
      " 20  windspeed              float64\n",
      " 21  weather_Drizzle        int64  \n",
      " 22  weather_Mainly clear   int64  \n",
      " 23  weather_Overcast       int64  \n",
      " 24  weather_Partly cloudy  int64  \n",
      " 25  weather_Slight rain    int64  \n",
      " 26  delay                  float64\n",
      "dtypes: float64(15), int64(12)\n",
      "memory usage: 450.0 MB\n"
     ]
    }
   ],
   "source": [
    "df.info()"
   ]
  },
  {
   "cell_type": "code",
   "execution_count": 100,
   "id": "2344b1d2",
   "metadata": {},
   "outputs": [],
   "source": [
    "# Export dataframe\n",
    "df.to_csv('../data/preprocessed.csv', index=False)"
   ]
  },
  {
   "cell_type": "markdown",
   "id": "2d2fc389",
   "metadata": {},
   "source": [
    "## End"
   ]
  }
 ],
 "metadata": {
  "kernelspec": {
   "display_name": "base",
   "language": "python",
   "name": "python3"
  },
  "language_info": {
   "codemirror_mode": {
    "name": "ipython",
    "version": 3
   },
   "file_extension": ".py",
   "mimetype": "text/x-python",
   "name": "python",
   "nbconvert_exporter": "python",
   "pygments_lexer": "ipython3",
   "version": "3.12.4"
  }
 },
 "nbformat": 4,
 "nbformat_minor": 5
}
