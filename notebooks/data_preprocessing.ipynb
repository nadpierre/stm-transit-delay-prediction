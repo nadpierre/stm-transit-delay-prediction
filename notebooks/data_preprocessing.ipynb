{
 "cells": [
  {
   "cell_type": "markdown",
   "id": "7a883801",
   "metadata": {},
   "source": [
    "# STM Transit Delay Feature Engineering and Data Preprocessing"
   ]
  },
  {
   "cell_type": "markdown",
   "id": "13f950b4",
   "metadata": {},
   "source": [
    "This notebook preprocesses data about STM trip updates and historical weather data."
   ]
  },
  {
   "cell_type": "markdown",
   "id": "51775b74",
   "metadata": {},
   "source": [
    "## Data Description"
   ]
  },
  {
   "cell_type": "markdown",
   "id": "f39d1571",
   "metadata": {},
   "source": [
    "`trip_id` unique identifier of a trip<br>\n",
    "`route_id` bus or metro line<br>\n",
    "`stop_id` stop number<br>\n",
    "`stop_lat`stop latitude<br>\n",
    "`stop_lon`stop longitude<br>\n",
    "`stop_sequence` sequence of the stop, for ordering<br>\n",
    "`wheelchair_boarding` indicates if the stop is accessible for people in wheelchair, 1 being true and 2 being false<br>\n",
    "`realtime_arrival_time` actual arrival time, in milliseconds<br>\n",
    "`scheduled_arrival_time` planned arrival time, in milliseconds<br>\n",
    "`temperature` air temperature at 2 meters above ground, in Celsius<br>\n",
    "`precipitation` total precipitation (rain, showers, snow) sum of the preceding hour, in millimeters<br>\n",
    "`windspeed` wind speed at 10 meters above ground, in km/h<br>\n",
    "`weathercode` World Meteorological Organization (WMO) code<br>"
   ]
  },
  {
   "cell_type": "markdown",
   "id": "05c49de4",
   "metadata": {},
   "source": [
    "## Imports"
   ]
  },
  {
   "cell_type": "code",
   "execution_count": 1,
   "id": "e5094a27",
   "metadata": {},
   "outputs": [],
   "source": [
    "import numpy as np\n",
    "import pandas as pd\n",
    "import pickle\n",
    "#from sklearn.decomposition import PCA\n",
    "from sklearn.preprocessing import LabelEncoder, StandardScaler\n",
    "import sys"
   ]
  },
  {
   "cell_type": "code",
   "execution_count": 2,
   "id": "568941a9",
   "metadata": {},
   "outputs": [],
   "source": [
    "# Import custom code\n",
    "sys.path.insert(0, '..')\n",
    "from scripts.custom_functions import LOCAL_TIMEZONE, WEATHER_CODES"
   ]
  },
  {
   "cell_type": "code",
   "execution_count": 3,
   "id": "353b54de",
   "metadata": {},
   "outputs": [],
   "source": [
    "# Load data\n",
    "df = pd.read_csv('../data/stm_weather_merged.csv')"
   ]
  },
  {
   "cell_type": "markdown",
   "id": "f2b3d765",
   "metadata": {},
   "source": [
    "## Feature Engineering"
   ]
  },
  {
   "cell_type": "code",
   "execution_count": 4,
   "id": "76d01917",
   "metadata": {},
   "outputs": [],
   "source": [
    "# Sort data\n",
    "df = df.sort_values(by=['trip_id', 'stop_sequence'])"
   ]
  },
  {
   "cell_type": "code",
   "execution_count": 5,
   "id": "c1aecec5",
   "metadata": {},
   "outputs": [],
   "source": [
    "# Convert real and scheduled timestamps\n",
    "rt_arrival_dt = pd.to_datetime(df['realtime_arrival_time'], origin='unix', unit='ms', utc=True)\n",
    "sch_arrival_dt = pd.to_datetime(df['scheduled_arrival_time'], origin='unix', unit='ms', utc=True)"
   ]
  },
  {
   "cell_type": "code",
   "execution_count": 6,
   "id": "d7c9b3a2",
   "metadata": {},
   "outputs": [],
   "source": [
    "# Calculate delay in seconds (real - scheduled)\n",
    "df['delay'] = (rt_arrival_dt - sch_arrival_dt) / pd.Timedelta(seconds=1)"
   ]
  },
  {
   "cell_type": "code",
   "execution_count": null,
   "id": "bd79c0e0",
   "metadata": {},
   "outputs": [],
   "source": [
    "# Add previous stop delay\n",
    "df['delay_previous_stop'] = df.groupby('trip_id')['delay'].shift(1)\n",
    "df['delay_previous_stop'] = df['delay_previous_stop'].fillna(0)"
   ]
  },
  {
   "cell_type": "code",
   "execution_count": null,
   "id": "4129eb13",
   "metadata": {},
   "outputs": [],
   "source": [
    "# Add delay difference to track worsening/improving delay\n",
    "df['delay_diff'] = df['delay'] - df['delay_previous_stop']"
   ]
  },
  {
   "cell_type": "markdown",
   "id": "6e3eb13f",
   "metadata": {},
   "source": [
    "## Data Preprocessing"
   ]
  },
  {
   "cell_type": "markdown",
   "id": "bf2977d0",
   "metadata": {},
   "source": [
    "### Encode Datetime"
   ]
  },
  {
   "cell_type": "code",
   "execution_count": 5,
   "id": "f00cdc1f",
   "metadata": {},
   "outputs": [
    {
     "data": {
      "text/plain": [
       "0   2025-04-23 04:53:00-04:00\n",
       "1   2025-04-23 04:53:56-04:00\n",
       "2   2025-04-23 04:54:42-04:00\n",
       "3   2025-04-23 04:55:08-04:00\n",
       "4   2025-04-23 04:55:35-04:00\n",
       "Name: realtime_arrival_time, dtype: datetime64[ns, Canada/Eastern]"
      ]
     },
     "execution_count": 5,
     "metadata": {},
     "output_type": "execute_result"
    }
   ],
   "source": [
    "# Convert realtime arrival timestamp to datetime\n",
    "rt_arrival_dt = pd.to_datetime(df['realtime_arrival_time'], origin='unix', unit='ms', utc=True)\n",
    "rt_arrival_dt = rt_arrival_dt.dt.tz_convert(LOCAL_TIMEZONE)\n",
    "rt_arrival_dt.head()"
   ]
  },
  {
   "cell_type": "code",
   "execution_count": 6,
   "id": "1fd200a3",
   "metadata": {},
   "outputs": [],
   "source": [
    "# Convert datetime to useful features\n",
    "df['day'] = rt_arrival_dt.dt.day_of_week\n",
    "df['hour'] = rt_arrival_dt.dt.hour"
   ]
  },
  {
   "cell_type": "code",
   "execution_count": 7,
   "id": "ead16beb",
   "metadata": {},
   "outputs": [],
   "source": [
    "# Use Cyclical Encoding for day and hour, as it's more suitable for time-related features\n",
    "# And the model can \"understand\" the wrap-around\n",
    "df['day_sin'] = np.sin(2 * np.pi * df['day'] / 7)\n",
    "df['day_cos'] = np.cos(2 * np.pi * df['day'] / 7)\n",
    "\n",
    "df['hour_sin'] = np.sin(2 * np.pi * df['hour'] / 24)\n",
    "df['hour_cos'] = np.cos(2 * np.pi * df['hour'] / 24)"
   ]
  },
  {
   "cell_type": "code",
   "execution_count": 8,
   "id": "84ef1b88",
   "metadata": {},
   "outputs": [],
   "source": [
    "# Add boolean value is_weekend\n",
    "weekend_mask = df['day'].isin([5, 6])\n",
    "df['is_weekend'] = np.where(weekend_mask, 1, 0)"
   ]
  },
  {
   "cell_type": "code",
   "execution_count": 9,
   "id": "6a7aa507",
   "metadata": {},
   "outputs": [],
   "source": [
    "# Add boolean value is_peak_hour (weekdays from 7-9am or 4-6pm)\n",
    "peak_hour_mask = (weekend_mask == False) & (df['hour'].isin([7, 8, 9, 16, 17, 18]))\n",
    "df['is_peak_hour'] = np.where(peak_hour_mask, 1, 0)"
   ]
  },
  {
   "cell_type": "code",
   "execution_count": 10,
   "id": "a7dd63ed",
   "metadata": {},
   "outputs": [],
   "source": [
    "# Drop unneeded columns\n",
    "df = df.drop(['realtime_arrival_time', 'day', 'hour'], axis=1)"
   ]
  },
  {
   "cell_type": "markdown",
   "id": "94fd3a43",
   "metadata": {},
   "source": [
    "### Convert boolean columns to integer"
   ]
  },
  {
   "cell_type": "code",
   "execution_count": 11,
   "id": "3c370ed4",
   "metadata": {},
   "outputs": [],
   "source": [
    "df['wheelchair_boarding'] = df['wheelchair_boarding'].astype('int64')"
   ]
  },
  {
   "cell_type": "markdown",
   "id": "b208b55d",
   "metadata": {},
   "source": [
    "### Use Label Encoding for route_id and stop_id"
   ]
  },
  {
   "cell_type": "code",
   "execution_count": 12,
   "id": "2060fe42",
   "metadata": {},
   "outputs": [],
   "source": [
    "le_route = LabelEncoder()\n",
    "df['route_id'] = le_route.fit_transform(df['route_id'])"
   ]
  },
  {
   "cell_type": "code",
   "execution_count": 13,
   "id": "c9d1c547",
   "metadata": {},
   "outputs": [],
   "source": [
    "le_stop = LabelEncoder()\n",
    "df['stop_id'] = le_stop.fit_transform(df['stop_id'])"
   ]
  },
  {
   "cell_type": "markdown",
   "id": "227505d8",
   "metadata": {},
   "source": [
    "### Convert weathercode Into Categories"
   ]
  },
  {
   "cell_type": "code",
   "execution_count": 14,
   "id": "600214ee",
   "metadata": {},
   "outputs": [],
   "source": [
    "# Create mapping\n",
    "weathercodes = df['weathercode'].sort_values().unique()\n",
    "condition_list = []\n",
    "label_list = []\n",
    "\n",
    "for code in weathercodes:\n",
    "  condition_list.append(df['weathercode'] == code)\n",
    "  label_list.append(WEATHER_CODES[code])"
   ]
  },
  {
   "cell_type": "code",
   "execution_count": 15,
   "id": "d4faa15c",
   "metadata": {},
   "outputs": [],
   "source": [
    "# Create categories\n",
    "df['weather'] = np.select(condition_list, label_list, default='Unknown')"
   ]
  },
  {
   "cell_type": "code",
   "execution_count": 16,
   "id": "8f65f239",
   "metadata": {},
   "outputs": [],
   "source": [
    "# Use One Hot Encoding\n",
    "one_hot = pd.get_dummies(df['weather'], drop_first=True, dtype='int64', prefix='weather')\n",
    "df = df.drop(['weathercode', 'weather'], axis=1).join(one_hot)"
   ]
  },
  {
   "cell_type": "markdown",
   "id": "399485e1",
   "metadata": {},
   "source": [
    "### Reduce station coordinates to one feature (PCA)"
   ]
  },
  {
   "cell_type": "raw",
   "id": "03b5b1dd",
   "metadata": {
    "vscode": {
     "languageId": "raw"
    }
   },
   "source": [
    "stop_coords = df[['stop_lat', 'stop_lon']]\n",
    "stop_coords"
   ]
  },
  {
   "cell_type": "raw",
   "id": "aa7f36e7",
   "metadata": {
    "vscode": {
     "languageId": "raw"
    }
   },
   "source": [
    "# Scale the coordinates because PCA works best with normalized features\n",
    "scaler_coord = StandardScaler()\n",
    "coords_scaled = scaler_coord.fit_transform(stop_coords)\n",
    "coords_scaled"
   ]
  },
  {
   "cell_type": "raw",
   "id": "9a869dfd",
   "metadata": {
    "vscode": {
     "languageId": "raw"
    }
   },
   "source": [
    "# Apply PCA\n",
    "pca = PCA(n_components=1)\n",
    "pca_coords = pca.fit_transform(coords_scaled)\n",
    "df['pca_coords'] = pca_coords"
   ]
  },
  {
   "cell_type": "raw",
   "id": "fa7f5ff9",
   "metadata": {
    "vscode": {
     "languageId": "raw"
    }
   },
   "source": [
    "# Drop latitude and longitude\n",
    "df = df.drop(['stop_lat', 'stop_lon'], axis=1)"
   ]
  },
  {
   "cell_type": "code",
   "execution_count": null,
   "id": "51ac6105",
   "metadata": {},
   "outputs": [],
   "source": [
    "# Keep relevant columns and reorder them\n",
    "df = df[[\n",
    "  'route_id',\n",
    "  'stop_id',\n",
    "  'stop_lat',\n",
    "  'stop_lon',\n",
    "  #'pca_coords',\n",
    "  'wheelchair_boarding',\n",
    "  'day_sin',\n",
    "  'day_cos',\n",
    "  'hour_sin',\n",
    "  'hour_cos',\n",
    "  'is_weekend',\n",
    "  'is_peak_hour',\n",
    "  'delay_previous_stop',\n",
    "  'temperature',\n",
    "  'precipitation',\n",
    "  'windspeed',\n",
    "  'weather_Light drizzle',\n",
    "  'weather_Mainly clear',\n",
    "  'weather_Moderate drizzle',\n",
    "  'weather_Moderate rain',\n",
    "  'weather_Overcast',\n",
    "  'weather_Partly cloudy',\n",
    "  'weather_Slight rain',\n",
    "  'delay',\n",
    "  ]]"
   ]
  },
  {
   "cell_type": "markdown",
   "id": "c83d093d",
   "metadata": {},
   "source": [
    "## Export Data"
   ]
  },
  {
   "cell_type": "code",
   "execution_count": 22,
   "id": "39ec1e75",
   "metadata": {},
   "outputs": [
    {
     "name": "stdout",
     "output_type": "stream",
     "text": [
      "<class 'pandas.core.frame.DataFrame'>\n",
      "RangeIndex: 1626608 entries, 0 to 1626607\n",
      "Data columns (total 22 columns):\n",
      " #   Column                    Non-Null Count    Dtype  \n",
      "---  ------                    --------------    -----  \n",
      " 0   route_id                  1626608 non-null  int64  \n",
      " 1   stop_id                   1626608 non-null  int64  \n",
      " 2   pca_coords                1626608 non-null  float64\n",
      " 3   wheelchair_boarding       1626608 non-null  int64  \n",
      " 4   day_sin                   1626608 non-null  float64\n",
      " 5   day_cos                   1626608 non-null  float64\n",
      " 6   hour_sin                  1626608 non-null  float64\n",
      " 7   hour_cos                  1626608 non-null  float64\n",
      " 8   is_weekend                1626608 non-null  int64  \n",
      " 9   is_peak_hour              1626608 non-null  int64  \n",
      " 10  delay_previous_stop       1626608 non-null  float64\n",
      " 11  temperature               1626608 non-null  float64\n",
      " 12  precipitation             1626608 non-null  float64\n",
      " 13  windspeed                 1626608 non-null  float64\n",
      " 14  weather_Light drizzle     1626608 non-null  int64  \n",
      " 15  weather_Mainly clear      1626608 non-null  int64  \n",
      " 16  weather_Moderate drizzle  1626608 non-null  int64  \n",
      " 17  weather_Moderate rain     1626608 non-null  int64  \n",
      " 18  weather_Overcast          1626608 non-null  int64  \n",
      " 19  weather_Partly cloudy     1626608 non-null  int64  \n",
      " 20  weather_Slight rain       1626608 non-null  int64  \n",
      " 21  delay                     1626608 non-null  float64\n",
      "dtypes: float64(10), int64(12)\n",
      "memory usage: 273.0 MB\n"
     ]
    }
   ],
   "source": [
    "df.info()"
   ]
  },
  {
   "cell_type": "code",
   "execution_count": 23,
   "id": "a19ed45e",
   "metadata": {},
   "outputs": [],
   "source": [
    "# Export encoders\n",
    "encoders = {\n",
    "  'le_route': le_route,\n",
    "  'le_stop': le_stop\n",
    "}\n",
    "with open('../models/label_encoders.pickle', 'wb') as handle:\n",
    "\tpickle.dump(encoders, handle, protocol=pickle.HIGHEST_PROTOCOL)"
   ]
  },
  {
   "cell_type": "code",
   "execution_count": 24,
   "id": "6a7f38e6",
   "metadata": {},
   "outputs": [],
   "source": [
    "# Export scaler\n",
    "with open('../models/coord_scaler.pickle', 'wb') as handle:\n",
    "\tpickle.dump(scaler_coord, handle, protocol=pickle.HIGHEST_PROTOCOL)"
   ]
  },
  {
   "cell_type": "code",
   "execution_count": 25,
   "id": "20a85e90",
   "metadata": {},
   "outputs": [],
   "source": [
    "# Export coordinates PCA\n",
    "with open('../models/coord_pca.pickle', 'wb') as handle:\n",
    "\tpickle.dump(pca_coords, handle, protocol=pickle.HIGHEST_PROTOCOL)"
   ]
  },
  {
   "cell_type": "code",
   "execution_count": 26,
   "id": "2344b1d2",
   "metadata": {},
   "outputs": [],
   "source": [
    "# Export dataframe\n",
    "df.to_csv('../data/preprocessed.csv', index=False)"
   ]
  },
  {
   "cell_type": "markdown",
   "id": "2d2fc389",
   "metadata": {},
   "source": [
    "## End"
   ]
  }
 ],
 "metadata": {
  "kernelspec": {
   "display_name": "base",
   "language": "python",
   "name": "python3"
  },
  "language_info": {
   "codemirror_mode": {
    "name": "ipython",
    "version": 3
   },
   "file_extension": ".py",
   "mimetype": "text/x-python",
   "name": "python",
   "nbconvert_exporter": "python",
   "pygments_lexer": "ipython3",
   "version": "3.12.4"
  }
 },
 "nbformat": 4,
 "nbformat_minor": 5
}
