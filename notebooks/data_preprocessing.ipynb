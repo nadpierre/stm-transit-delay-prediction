{
 "cells": [
  {
   "cell_type": "markdown",
   "id": "7a883801",
   "metadata": {},
   "source": [
    "# STM Transit Delay Data Preprocessing"
   ]
  },
  {
   "cell_type": "markdown",
   "id": "13f950b4",
   "metadata": {},
   "source": [
    "This notebook preprocesses data about STM trip updates and weather data in order to build a tree-based regression model that predicts delays in seconds."
   ]
  },
  {
   "cell_type": "markdown",
   "id": "51775b74",
   "metadata": {},
   "source": [
    "## Data Description"
   ]
  },
  {
   "cell_type": "markdown",
   "id": "f39d1571",
   "metadata": {},
   "source": [
    "`trip_id` unique identifier of a trip<br>\n",
    "`vehicle_id` unique identifier of a vehicle<br>\n",
    "`occupancy_status` degree of passenger occupancy<br>\n",
    "`route_id` bus or metro line<br>\n",
    "`stop_id` stop number<br>\n",
    "`stop_lat`stop latitude<br>\n",
    "`stop_lon`stop longitude<br>\n",
    "`stop_sequence` sequence of the stop, for ordering<br>\n",
    "`trip_progress` how far along the trip is the bys from 0 to 1<br>\n",
    "`wheelchair_boarding` indicates if the stop is accessible for people in wheelchair, 1 being true and 2 being false<br>\n",
    "`realtime_arrival_time` actual arrival time, in milliseconds<br>\n",
    "`scheduled_arrival_time` planned arrival time, in milliseconds<br>\n",
    "`temperature` air temperature at 2 meters above ground, in Celsius<br>\n",
    "`precipitation` total precipitation (rain, showers, snow) sum of the preceding hour, in millimeters<br>\n",
    "`windspeed` wind speed at 10 meters above ground, in km/h<br>\n",
    "`weathercode` World Meteorological Organization (WMO) code<br>\n",
    "`incident_nearby`indicates if an incident happened within 500 meters when the vehicle arrived at the stop"
   ]
  },
  {
   "cell_type": "markdown",
   "id": "05c49de4",
   "metadata": {},
   "source": [
    "## Imports"
   ]
  },
  {
   "cell_type": "code",
   "execution_count": 1,
   "id": "e5094a27",
   "metadata": {},
   "outputs": [],
   "source": [
    "import matplotlib.pyplot as plt\n",
    "import numpy as np\n",
    "import pandas as pd\n",
    "import pickle\n",
    "from sklearn.preprocessing import LabelEncoder\n",
    "import sys"
   ]
  },
  {
   "cell_type": "code",
   "execution_count": 2,
   "id": "568941a9",
   "metadata": {},
   "outputs": [],
   "source": [
    "# Import custom code\n",
    "sys.path.insert(0, '..')\n",
    "from scripts.custom_functions import INCIDENT_CATEGORIES, LOCAL_TIMEZONE, WEATHER_CODES"
   ]
  },
  {
   "cell_type": "code",
   "execution_count": 3,
   "id": "353b54de",
   "metadata": {},
   "outputs": [],
   "source": [
    "# Load data\n",
    "df = pd.read_csv('../data/stm_weather_traffic_merged.csv')"
   ]
  },
  {
   "cell_type": "markdown",
   "id": "f2b3d765",
   "metadata": {},
   "source": [
    "## Calculate Delay"
   ]
  },
  {
   "cell_type": "code",
   "execution_count": 4,
   "id": "c1aecec5",
   "metadata": {},
   "outputs": [],
   "source": [
    "# Convert real and scheduled timestamps\n",
    "df['realtime_arrival_time'] = pd.to_datetime(df['realtime_arrival_time'], origin='unix', unit='ms', utc=True)\n",
    "df['scheduled_arrival_time'] = pd.to_datetime(df['scheduled_arrival_time'], origin='unix', unit='ms', utc=True)"
   ]
  },
  {
   "cell_type": "code",
   "execution_count": 5,
   "id": "d7c9b3a2",
   "metadata": {},
   "outputs": [],
   "source": [
    "# Calculate delay in seconds (real - scheduled)\n",
    "df['delay'] = (df['realtime_arrival_time'] - df['scheduled_arrival_time']).dt.total_seconds()"
   ]
  },
  {
   "cell_type": "markdown",
   "id": "6c14901f",
   "metadata": {},
   "source": [
    "## Small EDA"
   ]
  },
  {
   "cell_type": "code",
   "execution_count": 6,
   "id": "ce963b01",
   "metadata": {},
   "outputs": [
    {
     "data": {
      "text/plain": [
       "stop_sequence             0.090699\n",
       "trip_progress             0.072850\n",
       "occupancy_status          0.055537\n",
       "route_id                  0.025745\n",
       "realtime_arrival_time     0.018650\n",
       "stop_lat                  0.016695\n",
       "stop_lon                  0.015605\n",
       "scheduled_arrival_time    0.012987\n",
       "windspeed                -0.011292\n",
       "incident_nearby          -0.008974\n",
       "weathercode               0.008614\n",
       "temperature              -0.006508\n",
       "wheelchair_boarding       0.005761\n",
       "vehicle_id                0.005323\n",
       "stop_id                  -0.004454\n",
       "precipitation             0.001580\n",
       "Name: delay, dtype: float64"
      ]
     },
     "execution_count": 6,
     "metadata": {},
     "output_type": "execute_result"
    }
   ],
   "source": [
    "# Get correlations of features with delay\n",
    "correlations = df.corr().iloc[:-1]['delay']\n",
    "correlations.sort_values(key=abs, ascending=False)"
   ]
  },
  {
   "cell_type": "code",
   "execution_count": 7,
   "id": "8e45ac10",
   "metadata": {},
   "outputs": [
    {
     "data": {
      "text/plain": [
       "count    74055.000000\n",
       "mean        56.774884\n",
       "std        256.492136\n",
       "min      -8222.000000\n",
       "25%          0.000000\n",
       "50%          0.000000\n",
       "75%         62.000000\n",
       "max      21634.000000\n",
       "Name: delay, dtype: float64"
      ]
     },
     "execution_count": 7,
     "metadata": {},
     "output_type": "execute_result"
    }
   ],
   "source": [
    "# Get distribution of delays\n",
    "df['delay'].describe()"
   ]
  },
  {
   "cell_type": "code",
   "execution_count": 8,
   "id": "45fc0b85",
   "metadata": {},
   "outputs": [
    {
     "name": "stdout",
     "output_type": "stream",
     "text": [
      "64.45%\n"
     ]
    }
   ],
   "source": [
    "# Get proportion of trips that are on time\n",
    "on_time_mask = df['delay'] == 0\n",
    "print(f'{(on_time_mask.sum() / len(df)):.2%}')"
   ]
  },
  {
   "cell_type": "code",
   "execution_count": 9,
   "id": "5c07d691",
   "metadata": {},
   "outputs": [
    {
     "data": {
      "image/png": "[encoded data removed]",
      "text/plain": [
       "<Figure size 640x480 with 1 Axes>"
      ]
     },
     "metadata": {},
     "output_type": "display_data"
    }
   ],
   "source": [
    "# Plot distribution of delay\n",
    "plt.hist(df['delay'], bins=50)\n",
    "plt.title('Distribution of delay')\n",
    "plt.xlabel('Delay (seconds)')\n",
    "plt.ylabel('Frequency')\n",
    "plt.savefig('../images/delay_hist.png', bbox_inches='tight')\n",
    "plt.show()"
   ]
  },
  {
   "cell_type": "markdown",
   "id": "0c7db5d0",
   "metadata": {},
   "source": [
    "The plot shows there are some massive delays (~2h15min early to ~5h15min late), which could greatly affect the model performance."
   ]
  },
  {
   "cell_type": "code",
   "execution_count": 10,
   "id": "43739171",
   "metadata": {},
   "outputs": [
    {
     "data": {
      "image/png": "[encoded data removed]",
      "text/plain": [
       "<Figure size 640x480 with 1 Axes>"
      ]
     },
     "metadata": {},
     "output_type": "display_data"
    }
   ],
   "source": [
    "# Plot trip progress vs. delay\n",
    "plt.scatter(x=df['trip_progress'], y=df['delay'])\n",
    "plt.title('Trip Progress vs. Delay')\n",
    "plt.xlabel('Trip Progress')\n",
    "plt.ylabel('Delay (seconds)')\n",
    "plt.savefig('../images/trip_progress_vs_delay.png', bbox_inches='tight')\n",
    "plt.show()"
   ]
  },
  {
   "cell_type": "markdown",
   "id": "a528e661",
   "metadata": {},
   "source": [
    "From the plot, it looks like the delay is relatively stable across the trip progress. There are many data points that appear scattered around the x-axis, indicating that delays do not change significantly throughout the trip in many cases. The wide range of delays suggests that delays are highly variable, but there is not clear relationship between trip progress and delay. This could imply that other factors like traffic, accidents, mechanical issues or weather may have more impact on the delays."
   ]
  },
  {
   "cell_type": "markdown",
   "id": "6e3eb13f",
   "metadata": {},
   "source": [
    "## Data Preprocessing"
   ]
  },
  {
   "cell_type": "markdown",
   "id": "1cdb9b34",
   "metadata": {},
   "source": [
    "### Handle Outliers"
   ]
  },
  {
   "cell_type": "code",
   "execution_count": 11,
   "id": "87b3b85f",
   "metadata": {},
   "outputs": [],
   "source": [
    "# Compute mean and standard deviation\n",
    "mean_delay = df['delay'].mean()\n",
    "std_delay = df['delay'].std()"
   ]
  },
  {
   "cell_type": "code",
   "execution_count": 12,
   "id": "2ffd9ad4",
   "metadata": {},
   "outputs": [],
   "source": [
    "# Filter outliers based on standard deviation\n",
    "outlier_mask = (df['delay'] < mean_delay - 3 * std_delay) | (df['delay'] > mean_delay + 3 * std_delay)"
   ]
  },
  {
   "cell_type": "code",
   "execution_count": 14,
   "id": "5e800bfd",
   "metadata": {},
   "outputs": [
    {
     "data": {
      "application/vnd.microsoft.datawrangler.viewer.v0+json": {
       "columns": [
        {
         "name": "index",
         "rawType": "int64",
         "type": "integer"
        },
        {
         "name": "vehicle_id",
         "rawType": "int64",
         "type": "integer"
        },
        {
         "name": "occupancy_status",
         "rawType": "int64",
         "type": "integer"
        },
        {
         "name": "route_id",
         "rawType": "int64",
         "type": "integer"
        },
        {
         "name": "stop_id",
         "rawType": "int64",
         "type": "integer"
        },
        {
         "name": "stop_lat",
         "rawType": "float64",
         "type": "float"
        },
        {
         "name": "stop_lon",
         "rawType": "float64",
         "type": "float"
        },
        {
         "name": "stop_sequence",
         "rawType": "int64",
         "type": "integer"
        },
        {
         "name": "trip_progress",
         "rawType": "float64",
         "type": "float"
        },
        {
         "name": "wheelchair_boarding",
         "rawType": "int64",
         "type": "integer"
        },
        {
         "name": "realtime_arrival_time",
         "rawType": "datetime64[ns, UTC]",
         "type": "unknown"
        },
        {
         "name": "scheduled_arrival_time",
         "rawType": "datetime64[ns, UTC]",
         "type": "unknown"
        },
        {
         "name": "temperature",
         "rawType": "float64",
         "type": "float"
        },
        {
         "name": "precipitation",
         "rawType": "float64",
         "type": "float"
        },
        {
         "name": "windspeed",
         "rawType": "float64",
         "type": "float"
        },
        {
         "name": "weathercode",
         "rawType": "int64",
         "type": "integer"
        },
        {
         "name": "incident_nearby",
         "rawType": "float64",
         "type": "float"
        },
        {
         "name": "delay",
         "rawType": "float64",
         "type": "float"
        }
       ],
       "conversionMethod": "pd.DataFrame",
       "ref": "4e071bd1-54fd-4e1f-bcc6-6120dfcc2c8e",
       "rows": [
        [
         "97",
         "30214",
         "1",
         "30",
         "51335",
         "45.540641",
         "-73.612946",
         "25",
         "0.5555555555555556",
         "1",
         "2025-04-27 22:15:52+00:00",
         "2025-04-27 21:58:48+00:00",
         "11.1",
         "0.0",
         "10.9",
         "0",
         "0.0",
         "1024.0"
        ],
        [
         "98",
         "30214",
         "1",
         "30",
         "54127",
         "45.556117",
         "-73.667282",
         "45",
         "1.0",
         "1",
         "2025-04-27 22:32:04+00:00",
         "2025-04-27 22:15:00+00:00",
         "10.0",
         "0.0",
         "12.9",
         "0",
         "0.0",
         "1024.0"
        ],
        [
         "151",
         "38066",
         "1",
         "201",
         "57772",
         "45.441143",
         "-73.814974",
         "52",
         "0.7761194029850746",
         "1",
         "2025-04-27 22:12:21+00:00",
         "2025-04-27 21:58:04+00:00",
         "11.1",
         "0.0",
         "10.9",
         "0",
         "0.0",
         "857.0"
        ],
        [
         "217",
         "30256",
         "1",
         "189",
         "53754",
         "45.596932",
         "-73.535748",
         "1",
         "0.015625",
         "1",
         "2025-04-27 22:28:10+00:00",
         "2025-04-27 22:14:00+00:00",
         "11.1",
         "0.0",
         "10.9",
         "0",
         "0.0",
         "850.0"
        ],
        [
         "289",
         "37067",
         "1",
         "124",
         "50691",
         "45.496493",
         "-73.642564",
         "20",
         "0.4878048780487805",
         "1",
         "2025-04-27 22:45:04+00:00",
         "2025-04-27 22:15:10+00:00",
         "10.0",
         "0.0",
         "12.9",
         "0",
         "0.0",
         "1794.0"
        ],
        [
         "295",
         "41071",
         "1",
         "30",
         "52585",
         "45.517925",
         "-73.566309",
         "7",
         "0.1555555555555555",
         "0",
         "2025-04-27 22:55:37+00:00",
         "2025-04-27 22:40:16+00:00",
         "10.0",
         "0.0",
         "12.9",
         "0",
         "0.0",
         "921.0"
        ],
        [
         "297",
         "38034",
         "2",
         "777",
         "54330",
         "45.506277",
         "-73.525264",
         "2",
         "0.2",
         "1",
         "2025-04-27 23:06:12+00:00",
         "2025-04-27 22:42:00+00:00",
         "10.0",
         "0.0",
         "12.9",
         "0",
         "0.0",
         "1452.0"
        ],
        [
         "380",
         "31018",
         "1",
         "30",
         "50468",
         "45.554518",
         "-73.654292",
         "6",
         "0.1363636363636363",
         "1",
         "2025-04-27 22:11:59+00:00",
         "2025-04-27 21:49:58+00:00",
         "11.1",
         "0.0",
         "10.9",
         "0",
         "0.0",
         "1321.0"
        ],
        [
         "381",
         "31018",
         "2",
         "30",
         "52507",
         "45.51877",
         "-73.569428",
         "38",
         "0.8636363636363636",
         "1",
         "2025-04-27 22:41:07+00:00",
         "2025-04-27 22:20:00+00:00",
         "10.0",
         "0.0",
         "12.9",
         "0",
         "0.0",
         "1267.0"
        ],
        [
         "382",
         "30171",
         "3",
         "968",
         "61988",
         "45.510414",
         "-73.81174",
         "3",
         "1.0",
         "1",
         "2025-04-27 22:21:59+00:00",
         "2025-04-27 22:35:00+00:00",
         "11.1",
         "0.0",
         "10.9",
         "0",
         "0.0",
         "-781.0"
        ],
        [
         "473",
         "31051",
         "1",
         "31",
         "61910",
         "45.537355",
         "-73.612186",
         "5",
         "0.2",
         "1",
         "2025-04-28 04:01:12+00:00",
         "2025-04-27 22:50:26+00:00",
         "6.9",
         "0.0",
         "11.2",
         "0",
         "0.0",
         "18646.0"
        ],
        [
         "782",
         "31051",
         "1",
         "31",
         "61908",
         "45.53375",
         "-73.604679",
         "24",
         "0.8571428571428571",
         "1",
         "2025-04-28 03:51:54+00:00",
         "2025-04-27 22:33:18+00:00",
         "6.9",
         "0.0",
         "11.2",
         "0",
         "0.0",
         "19116.0"
        ],
        [
         "885",
         "41034",
         "1",
         "51",
         "50966",
         "45.481229",
         "-73.631424",
         "35",
         "0.660377358490566",
         "1",
         "2025-04-27 23:11:18+00:00",
         "2025-04-27 22:56:19+00:00",
         "10.0",
         "0.0",
         "12.9",
         "0",
         "0.0",
         "899.0"
        ],
        [
         "886",
         "41034",
         "1",
         "51",
         "50110",
         "45.454203",
         "-73.641481",
         "53",
         "1.0",
         "1",
         "2025-04-27 23:28:59+00:00",
         "2025-04-27 23:14:00+00:00",
         "10.0",
         "0.0",
         "12.9",
         "0",
         "0.0",
         "899.0"
        ],
        [
         "1008",
         "30242",
         "1",
         "201",
         "58092",
         "45.470986",
         "-73.87744",
         "23",
         "0.3432835820895522",
         "1",
         "2025-04-27 22:56:45+00:00",
         "2025-04-27 23:11:17+00:00",
         "10.0",
         "0.0",
         "12.9",
         "0",
         "0.0",
         "-872.0"
        ],
        [
         "1009",
         "30242",
         "1",
         "201",
         "57666",
         "45.460618",
         "-73.816124",
         "61",
         "0.9104477611940298",
         "1",
         "2025-04-27 22:56:45+00:00",
         "2025-04-27 23:41:11+00:00",
         "10.0",
         "0.0",
         "12.9",
         "0",
         "0.0",
         "-2666.0"
        ],
        [
         "1029",
         "31055",
         "1",
         "168",
         "52527",
         "45.503783",
         "-73.569406",
         "2",
         "0.0689655172413793",
         "1",
         "2025-04-28 02:56:54+00:00",
         "2025-04-27 23:03:52+00:00",
         "7.8",
         "0.0",
         "8.2",
         "0",
         "0.0",
         "13982.0"
        ],
        [
         "1349",
         "40187",
         "2",
         "968",
         "61988",
         "45.510414",
         "-73.81174",
         "3",
         "1.0",
         "1",
         "2025-04-27 23:21:59+00:00",
         "2025-04-27 23:35:00+00:00",
         "10.0",
         "0.0",
         "12.9",
         "0",
         "0.0",
         "-781.0"
        ],
        [
         "1434",
         "30171",
         "1",
         "968",
         "58235",
         "45.504598",
         "-73.785018",
         "2",
         "0.6666666666666666",
         "1",
         "2025-04-27 22:31:39+00:00",
         "2025-04-27 23:15:00+00:00",
         "10.0",
         "0.0",
         "12.9",
         "0",
         "0.0",
         "-2601.0"
        ],
        [
         "1734",
         "28128",
         "1",
         "61",
         "52744",
         "45.495443",
         "-73.563276",
         "4",
         "0.0784313725490196",
         "1",
         "2025-04-28 00:00:54+00:00",
         "2025-04-28 00:15:00+00:00",
         "9.6",
         "0.0",
         "14.3",
         "0",
         "0.0",
         "-846.0"
        ],
        [
         "1984",
         "39016",
         "2",
         "150",
         "52483",
         "45.499007",
         "-73.570254",
         "18",
         "0.6428571428571429",
         "1",
         "2025-04-28 00:50:03+00:00",
         "2025-04-28 00:35:51+00:00",
         "8.5",
         "0.0",
         "13.0",
         "0",
         "0.0",
         "852.0"
        ],
        [
         "2003",
         "30171",
         "2",
         "968",
         "61988",
         "45.510414",
         "-73.81174",
         "3",
         "1.0",
         "1",
         "2025-04-28 00:21:59+00:00",
         "2025-04-28 00:35:00+00:00",
         "9.6",
         "0.0",
         "14.3",
         "0",
         "0.0",
         "-781.0"
        ],
        [
         "2659",
         "40187",
         "1",
         "968",
         "61988",
         "45.510414",
         "-73.81174",
         "3",
         "1.0",
         "1",
         "2025-04-28 01:21:59+00:00",
         "2025-04-28 01:35:00+00:00",
         "8.5",
         "0.0",
         "13.0",
         "0",
         "0.0",
         "-781.0"
        ],
        [
         "2953",
         "40245",
         "2",
         "496",
         "57484",
         "45.444858",
         "-73.722577",
         "18",
         "0.8181818181818182",
         "1",
         "2025-04-28 02:13:38+00:00",
         "2025-04-28 01:57:58+00:00",
         "9.4",
         "0.0",
         "9.7",
         "0",
         "0.0",
         "940.0"
        ],
        [
         "2976",
         "42048",
         "2",
         "55",
         "62371",
         "45.552251",
         "-73.669604",
         "48",
         "0.96",
         "1",
         "2025-04-28 02:11:48+00:00",
         "2025-04-28 01:56:00+00:00",
         "9.4",
         "0.0",
         "9.7",
         "0",
         "0.0",
         "948.0"
        ],
        [
         "3104",
         "39016",
         "1",
         "150",
         "52437",
         "45.497204",
         "-73.571559",
         "6",
         "0.25",
         "1",
         "2025-04-28 02:09:58+00:00",
         "2025-04-28 01:52:30+00:00",
         "9.4",
         "0.0",
         "9.7",
         "0",
         "0.0",
         "1048.0"
        ],
        [
         "3105",
         "39016",
         "1",
         "150",
         "54117",
         "45.524023",
         "-73.552346",
         "24",
         "1.0",
         "1",
         "2025-04-28 02:29:28+00:00",
         "2025-04-28 02:12:00+00:00",
         "9.4",
         "0.0",
         "9.7",
         "0",
         "1.0",
         "1048.0"
        ],
        [
         "3106",
         "30234",
         "1",
         "68",
         "58264",
         "45.475711",
         "-73.87113",
         "5",
         "0.081967213114754",
         "1",
         "2025-04-28 02:48:02+00:00",
         "2025-04-28 02:32:56+00:00",
         "7.8",
         "0.0",
         "8.2",
         "0",
         "0.0",
         "906.0"
        ],
        [
         "3136",
         "29152",
         "1",
         "747",
         "61261",
         "45.456622",
         "-73.751615",
         "2",
         "1.0",
         "1",
         "2025-04-28 03:23:19+00:00",
         "2025-04-28 02:48:00+00:00",
         "7.8",
         "0.0",
         "8.2",
         "0",
         "0.0",
         "2119.0"
        ],
        [
         "3137",
         "29152",
         "3",
         "747",
         "61332",
         "45.483413",
         "-73.580068",
         "2",
         "1.0",
         "1",
         "2025-04-28 02:57:19+00:00",
         "2025-04-28 02:22:00+00:00",
         "7.8",
         "0.0",
         "8.2",
         "0",
         "0.0",
         "2119.0"
        ],
        [
         "3156",
         "38028",
         "1",
         "24",
         "56290",
         "45.488951",
         "-73.590331",
         "15",
         "0.3191489361702128",
         "1",
         "2025-04-28 02:16:18+00:00",
         "2025-04-28 01:59:44+00:00",
         "9.4",
         "0.0",
         "9.7",
         "0",
         "0.0",
         "994.0"
        ],
        [
         "3157",
         "38028",
         "5",
         "24",
         "52647",
         "45.524456",
         "-73.564917",
         "36",
         "0.7659574468085106",
         "1",
         "2025-04-28 02:40:02+00:00",
         "2025-04-28 02:23:28+00:00",
         "7.8",
         "0.0",
         "8.2",
         "0",
         "0.0",
         "994.0"
        ],
        [
         "3165",
         "30133",
         "1",
         "86",
         "53720",
         "45.671857",
         "-73.506328",
         "21",
         "0.21",
         "1",
         "2025-04-28 03:06:00+00:00",
         "2025-04-28 02:43:12+00:00",
         "7.8",
         "0.0",
         "8.2",
         "0",
         "0.0",
         "1368.0"
        ],
        [
         "3166",
         "30133",
         "1",
         "86",
         "53658",
         "45.652275",
         "-73.489656",
         "37",
         "0.37",
         "1",
         "2025-04-28 03:13:33+00:00",
         "2025-04-28 02:50:45+00:00",
         "7.8",
         "0.0",
         "8.2",
         "0",
         "0.0",
         "1368.0"
        ],
        [
         "3187",
         "39009",
         "1",
         "747",
         "60998",
         "45.516665",
         "-73.563105",
         "1",
         "0.0833333333333333",
         "1",
         "2025-04-28 03:22:27+00:00",
         "2025-04-28 02:30:00+00:00",
         "7.8",
         "0.0",
         "8.2",
         "0",
         "0.0",
         "3147.0"
        ],
        [
         "3188",
         "39009",
         "1",
         "747",
         "61334",
         "45.482527",
         "-73.578964",
         "11",
         "0.9166666666666666",
         "1",
         "2025-04-28 03:43:47+00:00",
         "2025-04-28 02:52:00+00:00",
         "6.9",
         "0.0",
         "11.2",
         "0",
         "0.0",
         "3107.0"
        ],
        [
         "3226",
         "41117",
         "2",
         "55",
         "51205",
         "45.535682",
         "-73.620198",
         "28",
         "0.56",
         "1",
         "2025-04-28 03:17:00+00:00",
         "2025-04-28 02:44:00+00:00",
         "7.8",
         "0.0",
         "8.2",
         "0",
         "0.0",
         "1980.0"
        ],
        [
         "3237",
         "39046",
         "1",
         "33",
         "54138",
         "45.627527",
         "-73.615294",
         "65",
         "1.0",
         "1",
         "2025-04-28 04:21:52+00:00",
         "2025-04-28 02:39:00+00:00",
         "6.9",
         "0.0",
         "11.2",
         "0",
         "0.0",
         "6172.0"
        ],
        [
         "3708",
         "42020",
         "3",
         "139",
         "51793",
         "45.566517",
         "-73.591578",
         "22",
         "0.5238095238095238",
         "1",
         "2025-04-28 03:14:23+00:00",
         "2025-04-28 03:00:01+00:00",
         "7.8",
         "0.0",
         "8.2",
         "0",
         "0.0",
         "862.0"
        ],
        [
         "3961",
         "40187",
         "1",
         "968",
         "61988",
         "45.510414",
         "-73.81174",
         "3",
         "1.0",
         "1",
         "2025-04-28 03:31:59+00:00",
         "2025-04-28 03:45:00+00:00",
         "6.9",
         "0.0",
         "11.2",
         "0",
         "0.0",
         "-781.0"
        ],
        [
         "4410",
         "31055",
         "1",
         "28",
         "62113",
         "45.611525",
         "-73.55569",
         "28",
         "0.5957446808510638",
         "1",
         "2025-04-28 09:52:19+00:00",
         "2025-04-28 09:28:00+00:00",
         "14.2",
         "0.0",
         "9.8",
         "0",
         "0.0",
         "1459.0"
        ],
        [
         "4638",
         "40173",
         "1",
         "968",
         "61988",
         "45.510414",
         "-73.81174",
         "3",
         "1.0",
         "1",
         "2025-04-28 10:21:59+00:00",
         "2025-04-28 10:36:00+00:00",
         "14.2",
         "0.0",
         "9.8",
         "0",
         "0.0",
         "-841.0"
        ],
        [
         "4731",
         "30174",
         "1",
         "968",
         "58235",
         "45.504598",
         "-73.785018",
         "2",
         "0.6666666666666666",
         "1",
         "2025-04-28 10:05:10+00:00",
         "2025-04-28 10:36:00+00:00",
         "14.2",
         "0.0",
         "9.8",
         "0",
         "0.0",
         "-1850.0"
        ],
        [
         "5034",
         "31108",
         "1",
         "24",
         "52819",
         "45.53917",
         "-73.560118",
         "1",
         "0.0212765957446808",
         "1",
         "2025-04-28 09:59:05+00:00",
         "2025-04-28 10:23:00+00:00",
         "14.2",
         "0.0",
         "9.8",
         "0",
         "0.0",
         "-1435.0"
        ],
        [
         "5035",
         "31108",
         "2",
         "24",
         "52677",
         "45.527221",
         "-73.564283",
         "9",
         "0.1914893617021276",
         "1",
         "2025-04-28 09:59:05+00:00",
         "2025-04-28 10:32:00+00:00",
         "14.2",
         "0.0",
         "9.8",
         "0",
         "0.0",
         "-1975.0"
        ],
        [
         "5036",
         "31108",
         "1",
         "24",
         "56273",
         "45.48423",
         "-73.597527",
         "37",
         "0.7872340425531915",
         "1",
         "2025-04-28 09:59:05+00:00",
         "2025-04-28 10:59:07+00:00",
         "14.2",
         "0.0",
         "9.8",
         "0",
         "0.0",
         "-3602.0"
        ],
        [
         "5138",
         "29121",
         "1",
         "211",
         "61338",
         "45.482564",
         "-73.581152",
         "1",
         "0.0212765957446808",
         "1",
         "2025-04-28 09:44:07+00:00",
         "2025-04-28 10:00:00+00:00",
         "14.2",
         "0.0",
         "9.8",
         "0",
         "1.0",
         "-953.0"
        ],
        [
         "5258",
         "29111",
         "1",
         "190",
         "56305",
         "45.484019",
         "-73.583019",
         "2",
         "0.0555555555555555",
         "1",
         "2025-04-28 09:53:19+00:00",
         "2025-04-28 10:06:11+00:00",
         "14.2",
         "0.0",
         "9.8",
         "0",
         "1.0",
         "-772.0"
        ],
        [
         "5331",
         "30812",
         "2",
         "439",
         "62087",
         "45.560545",
         "-73.573188",
         "27",
         "0.7297297297297297",
         "1",
         "2025-04-28 10:57:28+00:00",
         "2025-04-28 10:35:04+00:00",
         "16.2",
         "0.0",
         "10.8",
         "0",
         "0.0",
         "1344.0"
        ],
        [
         "5724",
         "40225",
         "1",
         "104",
         "51379",
         "45.466379",
         "-73.613089",
         "25",
         "0.5952380952380952",
         "1",
         "2025-04-28 12:02:44+00:00",
         "2025-04-28 11:31:00+00:00",
         "17.6",
         "0.0",
         "13.6",
         "0",
         "1.0",
         "1904.0"
        ]
       ],
       "shape": {
        "columns": 17,
        "rows": 751
       }
      },
      "text/html": [
       "<div>\n",
       "<style scoped>\n",
       "    .dataframe tbody tr th:only-of-type {\n",
       "        vertical-align: middle;\n",
       "    }\n",
       "\n",
       "    .dataframe tbody tr th {\n",
       "        vertical-align: top;\n",
       "    }\n",
       "\n",
       "    .dataframe thead th {\n",
       "        text-align: right;\n",
       "    }\n",
       "</style>\n",
       "<table border=\"1\" class=\"dataframe\">\n",
       "  <thead>\n",
       "    <tr style=\"text-align: right;\">\n",
       "      <th></th>\n",
       "      <th>vehicle_id</th>\n",
       "      <th>occupancy_status</th>\n",
       "      <th>route_id</th>\n",
       "      <th>stop_id</th>\n",
       "      <th>stop_lat</th>\n",
       "      <th>stop_lon</th>\n",
       "      <th>stop_sequence</th>\n",
       "      <th>trip_progress</th>\n",
       "      <th>wheelchair_boarding</th>\n",
       "      <th>realtime_arrival_time</th>\n",
       "      <th>scheduled_arrival_time</th>\n",
       "      <th>temperature</th>\n",
       "      <th>precipitation</th>\n",
       "      <th>windspeed</th>\n",
       "      <th>weathercode</th>\n",
       "      <th>incident_nearby</th>\n",
       "      <th>delay</th>\n",
       "    </tr>\n",
       "  </thead>\n",
       "  <tbody>\n",
       "    <tr>\n",
       "      <th>97</th>\n",
       "      <td>30214</td>\n",
       "      <td>1</td>\n",
       "      <td>30</td>\n",
       "      <td>51335</td>\n",
       "      <td>45.540641</td>\n",
       "      <td>-73.612946</td>\n",
       "      <td>25</td>\n",
       "      <td>0.555556</td>\n",
       "      <td>1</td>\n",
       "      <td>2025-04-27 22:15:52+00:00</td>\n",
       "      <td>2025-04-27 21:58:48+00:00</td>\n",
       "      <td>11.1</td>\n",
       "      <td>0.0</td>\n",
       "      <td>10.9</td>\n",
       "      <td>0</td>\n",
       "      <td>0.0</td>\n",
       "      <td>1024.0</td>\n",
       "    </tr>\n",
       "    <tr>\n",
       "      <th>98</th>\n",
       "      <td>30214</td>\n",
       "      <td>1</td>\n",
       "      <td>30</td>\n",
       "      <td>54127</td>\n",
       "      <td>45.556117</td>\n",
       "      <td>-73.667282</td>\n",
       "      <td>45</td>\n",
       "      <td>1.000000</td>\n",
       "      <td>1</td>\n",
       "      <td>2025-04-27 22:32:04+00:00</td>\n",
       "      <td>2025-04-27 22:15:00+00:00</td>\n",
       "      <td>10.0</td>\n",
       "      <td>0.0</td>\n",
       "      <td>12.9</td>\n",
       "      <td>0</td>\n",
       "      <td>0.0</td>\n",
       "      <td>1024.0</td>\n",
       "    </tr>\n",
       "    <tr>\n",
       "      <th>151</th>\n",
       "      <td>38066</td>\n",
       "      <td>1</td>\n",
       "      <td>201</td>\n",
       "      <td>57772</td>\n",
       "      <td>45.441143</td>\n",
       "      <td>-73.814974</td>\n",
       "      <td>52</td>\n",
       "      <td>0.776119</td>\n",
       "      <td>1</td>\n",
       "      <td>2025-04-27 22:12:21+00:00</td>\n",
       "      <td>2025-04-27 21:58:04+00:00</td>\n",
       "      <td>11.1</td>\n",
       "      <td>0.0</td>\n",
       "      <td>10.9</td>\n",
       "      <td>0</td>\n",
       "      <td>0.0</td>\n",
       "      <td>857.0</td>\n",
       "    </tr>\n",
       "    <tr>\n",
       "      <th>217</th>\n",
       "      <td>30256</td>\n",
       "      <td>1</td>\n",
       "      <td>189</td>\n",
       "      <td>53754</td>\n",
       "      <td>45.596932</td>\n",
       "      <td>-73.535748</td>\n",
       "      <td>1</td>\n",
       "      <td>0.015625</td>\n",
       "      <td>1</td>\n",
       "      <td>2025-04-27 22:28:10+00:00</td>\n",
       "      <td>2025-04-27 22:14:00+00:00</td>\n",
       "      <td>11.1</td>\n",
       "      <td>0.0</td>\n",
       "      <td>10.9</td>\n",
       "      <td>0</td>\n",
       "      <td>0.0</td>\n",
       "      <td>850.0</td>\n",
       "    </tr>\n",
       "    <tr>\n",
       "      <th>289</th>\n",
       "      <td>37067</td>\n",
       "      <td>1</td>\n",
       "      <td>124</td>\n",
       "      <td>50691</td>\n",
       "      <td>45.496493</td>\n",
       "      <td>-73.642564</td>\n",
       "      <td>20</td>\n",
       "      <td>0.487805</td>\n",
       "      <td>1</td>\n",
       "      <td>2025-04-27 22:45:04+00:00</td>\n",
       "      <td>2025-04-27 22:15:10+00:00</td>\n",
       "      <td>10.0</td>\n",
       "      <td>0.0</td>\n",
       "      <td>12.9</td>\n",
       "      <td>0</td>\n",
       "      <td>0.0</td>\n",
       "      <td>1794.0</td>\n",
       "    </tr>\n",
       "    <tr>\n",
       "      <th>...</th>\n",
       "      <td>...</td>\n",
       "      <td>...</td>\n",
       "      <td>...</td>\n",
       "      <td>...</td>\n",
       "      <td>...</td>\n",
       "      <td>...</td>\n",
       "      <td>...</td>\n",
       "      <td>...</td>\n",
       "      <td>...</td>\n",
       "      <td>...</td>\n",
       "      <td>...</td>\n",
       "      <td>...</td>\n",
       "      <td>...</td>\n",
       "      <td>...</td>\n",
       "      <td>...</td>\n",
       "      <td>...</td>\n",
       "      <td>...</td>\n",
       "    </tr>\n",
       "    <tr>\n",
       "      <th>73918</th>\n",
       "      <td>39064</td>\n",
       "      <td>1</td>\n",
       "      <td>822</td>\n",
       "      <td>62138</td>\n",
       "      <td>45.589525</td>\n",
       "      <td>-73.537341</td>\n",
       "      <td>1</td>\n",
       "      <td>0.071429</td>\n",
       "      <td>1</td>\n",
       "      <td>2025-04-29 21:07:00+00:00</td>\n",
       "      <td>2025-04-29 20:40:00+00:00</td>\n",
       "      <td>18.5</td>\n",
       "      <td>0.2</td>\n",
       "      <td>12.7</td>\n",
       "      <td>51</td>\n",
       "      <td>0.0</td>\n",
       "      <td>1620.0</td>\n",
       "    </tr>\n",
       "    <tr>\n",
       "      <th>73937</th>\n",
       "      <td>36023</td>\n",
       "      <td>2</td>\n",
       "      <td>33</td>\n",
       "      <td>55298</td>\n",
       "      <td>45.614571</td>\n",
       "      <td>-73.612286</td>\n",
       "      <td>11</td>\n",
       "      <td>0.183333</td>\n",
       "      <td>1</td>\n",
       "      <td>2025-04-29 20:59:23+00:00</td>\n",
       "      <td>2025-04-29 21:22:50+00:00</td>\n",
       "      <td>18.5</td>\n",
       "      <td>0.2</td>\n",
       "      <td>12.7</td>\n",
       "      <td>51</td>\n",
       "      <td>0.0</td>\n",
       "      <td>-1407.0</td>\n",
       "    </tr>\n",
       "    <tr>\n",
       "      <th>74007</th>\n",
       "      <td>38013</td>\n",
       "      <td>2</td>\n",
       "      <td>811</td>\n",
       "      <td>62138</td>\n",
       "      <td>45.589525</td>\n",
       "      <td>-73.537341</td>\n",
       "      <td>1</td>\n",
       "      <td>0.045455</td>\n",
       "      <td>1</td>\n",
       "      <td>2025-04-29 22:00:00+00:00</td>\n",
       "      <td>2025-04-29 21:11:00+00:00</td>\n",
       "      <td>17.6</td>\n",
       "      <td>3.2</td>\n",
       "      <td>16.7</td>\n",
       "      <td>63</td>\n",
       "      <td>0.0</td>\n",
       "      <td>2940.0</td>\n",
       "    </tr>\n",
       "    <tr>\n",
       "      <th>74015</th>\n",
       "      <td>30143</td>\n",
       "      <td>3</td>\n",
       "      <td>968</td>\n",
       "      <td>61988</td>\n",
       "      <td>45.510414</td>\n",
       "      <td>-73.811740</td>\n",
       "      <td>3</td>\n",
       "      <td>1.000000</td>\n",
       "      <td>1</td>\n",
       "      <td>2025-04-29 21:11:59+00:00</td>\n",
       "      <td>2025-04-29 21:27:00+00:00</td>\n",
       "      <td>18.5</td>\n",
       "      <td>0.2</td>\n",
       "      <td>12.7</td>\n",
       "      <td>51</td>\n",
       "      <td>0.0</td>\n",
       "      <td>-901.0</td>\n",
       "    </tr>\n",
       "    <tr>\n",
       "      <th>74036</th>\n",
       "      <td>40142</td>\n",
       "      <td>3</td>\n",
       "      <td>968</td>\n",
       "      <td>61988</td>\n",
       "      <td>45.510414</td>\n",
       "      <td>-73.811740</td>\n",
       "      <td>3</td>\n",
       "      <td>1.000000</td>\n",
       "      <td>1</td>\n",
       "      <td>2025-04-29 21:01:59+00:00</td>\n",
       "      <td>2025-04-29 21:17:00+00:00</td>\n",
       "      <td>18.5</td>\n",
       "      <td>0.2</td>\n",
       "      <td>12.7</td>\n",
       "      <td>51</td>\n",
       "      <td>0.0</td>\n",
       "      <td>-901.0</td>\n",
       "    </tr>\n",
       "  </tbody>\n",
       "</table>\n",
       "<p>751 rows × 17 columns</p>\n",
       "</div>"
      ],
      "text/plain": [
       "       vehicle_id  occupancy_status  route_id  stop_id   stop_lat   stop_lon  \\\n",
       "97          30214                 1        30    51335  45.540641 -73.612946   \n",
       "98          30214                 1        30    54127  45.556117 -73.667282   \n",
       "151         38066                 1       201    57772  45.441143 -73.814974   \n",
       "217         30256                 1       189    53754  45.596932 -73.535748   \n",
       "289         37067                 1       124    50691  45.496493 -73.642564   \n",
       "...           ...               ...       ...      ...        ...        ...   \n",
       "73918       39064                 1       822    62138  45.589525 -73.537341   \n",
       "73937       36023                 2        33    55298  45.614571 -73.612286   \n",
       "74007       38013                 2       811    62138  45.589525 -73.537341   \n",
       "74015       30143                 3       968    61988  45.510414 -73.811740   \n",
       "74036       40142                 3       968    61988  45.510414 -73.811740   \n",
       "\n",
       "       stop_sequence  trip_progress  wheelchair_boarding  \\\n",
       "97                25       0.555556                    1   \n",
       "98                45       1.000000                    1   \n",
       "151               52       0.776119                    1   \n",
       "217                1       0.015625                    1   \n",
       "289               20       0.487805                    1   \n",
       "...              ...            ...                  ...   \n",
       "73918              1       0.071429                    1   \n",
       "73937             11       0.183333                    1   \n",
       "74007              1       0.045455                    1   \n",
       "74015              3       1.000000                    1   \n",
       "74036              3       1.000000                    1   \n",
       "\n",
       "          realtime_arrival_time    scheduled_arrival_time  temperature  \\\n",
       "97    2025-04-27 22:15:52+00:00 2025-04-27 21:58:48+00:00         11.1   \n",
       "98    2025-04-27 22:32:04+00:00 2025-04-27 22:15:00+00:00         10.0   \n",
       "151   2025-04-27 22:12:21+00:00 2025-04-27 21:58:04+00:00         11.1   \n",
       "217   2025-04-27 22:28:10+00:00 2025-04-27 22:14:00+00:00         11.1   \n",
       "289   2025-04-27 22:45:04+00:00 2025-04-27 22:15:10+00:00         10.0   \n",
       "...                         ...                       ...          ...   \n",
       "73918 2025-04-29 21:07:00+00:00 2025-04-29 20:40:00+00:00         18.5   \n",
       "73937 2025-04-29 20:59:23+00:00 2025-04-29 21:22:50+00:00         18.5   \n",
       "74007 2025-04-29 22:00:00+00:00 2025-04-29 21:11:00+00:00         17.6   \n",
       "74015 2025-04-29 21:11:59+00:00 2025-04-29 21:27:00+00:00         18.5   \n",
       "74036 2025-04-29 21:01:59+00:00 2025-04-29 21:17:00+00:00         18.5   \n",
       "\n",
       "       precipitation  windspeed  weathercode  incident_nearby   delay  \n",
       "97               0.0       10.9            0              0.0  1024.0  \n",
       "98               0.0       12.9            0              0.0  1024.0  \n",
       "151              0.0       10.9            0              0.0   857.0  \n",
       "217              0.0       10.9            0              0.0   850.0  \n",
       "289              0.0       12.9            0              0.0  1794.0  \n",
       "...              ...        ...          ...              ...     ...  \n",
       "73918            0.2       12.7           51              0.0  1620.0  \n",
       "73937            0.2       12.7           51              0.0 -1407.0  \n",
       "74007            3.2       16.7           63              0.0  2940.0  \n",
       "74015            0.2       12.7           51              0.0  -901.0  \n",
       "74036            0.2       12.7           51              0.0  -901.0  \n",
       "\n",
       "[751 rows x 17 columns]"
      ]
     },
     "execution_count": 14,
     "metadata": {},
     "output_type": "execute_result"
    }
   ],
   "source": [
    "# Get outliers\n",
    "df[outlier_mask]"
   ]
  },
  {
   "cell_type": "code",
   "execution_count": 15,
   "id": "faac02db",
   "metadata": {},
   "outputs": [
    {
     "name": "stdout",
     "output_type": "stream",
     "text": [
      "1.01%\n"
     ]
    }
   ],
   "source": [
    "# Get proportion of outliers\n",
    "print(f'{outlier_mask.mean():.2%}')"
   ]
  },
  {
   "cell_type": "code",
   "execution_count": 16,
   "id": "b138ed79",
   "metadata": {},
   "outputs": [],
   "source": [
    "# Remove outliers\n",
    "df = df[~outlier_mask]"
   ]
  },
  {
   "cell_type": "code",
   "execution_count": 17,
   "id": "58964489",
   "metadata": {},
   "outputs": [
    {
     "data": {
      "text/plain": [
       "count    73304.000000\n",
       "mean        49.046369\n",
       "std        125.774439\n",
       "min       -705.000000\n",
       "25%          0.000000\n",
       "50%          0.000000\n",
       "75%         54.000000\n",
       "max        826.000000\n",
       "Name: delay, dtype: float64"
      ]
     },
     "execution_count": 17,
     "metadata": {},
     "output_type": "execute_result"
    }
   ],
   "source": [
    "# Get new distribution\n",
    "df['delay'].describe()"
   ]
  },
  {
   "cell_type": "markdown",
   "id": "cc37d7c3",
   "metadata": {},
   "source": [
    "The delay ranging from ~16 min early to 18min45sec seems more reasonable."
   ]
  },
  {
   "cell_type": "code",
   "execution_count": 18,
   "id": "58516e55",
   "metadata": {},
   "outputs": [
    {
     "data": {
      "text/plain": [
       "Index(['vehicle_id', 'occupancy_status', 'route_id', 'stop_id', 'stop_lat',\n",
       "       'stop_lon', 'stop_sequence', 'trip_progress', 'wheelchair_boarding',\n",
       "       'realtime_arrival_time', 'scheduled_arrival_time', 'temperature',\n",
       "       'precipitation', 'windspeed', 'weathercode', 'incident_nearby',\n",
       "       'delay'],\n",
       "      dtype='object')"
      ]
     },
     "execution_count": 18,
     "metadata": {},
     "output_type": "execute_result"
    }
   ],
   "source": [
    "df.columns"
   ]
  },
  {
   "cell_type": "markdown",
   "id": "bf2977d0",
   "metadata": {},
   "source": [
    "### Encode Datetime"
   ]
  },
  {
   "cell_type": "code",
   "execution_count": 19,
   "id": "4fc40e12",
   "metadata": {},
   "outputs": [],
   "source": [
    "# Convert arrival times to local timezone\n",
    "df['realtime_arrival_time'] = df['realtime_arrival_time'].dt.tz_convert(LOCAL_TIMEZONE)\n",
    "df['scheduled_arrival_time'] = df['scheduled_arrival_time'].dt.tz_convert(LOCAL_TIMEZONE)"
   ]
  },
  {
   "cell_type": "code",
   "execution_count": 20,
   "id": "462a448b",
   "metadata": {},
   "outputs": [],
   "source": [
    "# Convert datetimes to day and hour\n",
    "df['day'] = df['realtime_arrival_time'].dt.day_of_week\n",
    "df['hour'] = df['realtime_arrival_time'].dt.hour\n",
    "\n",
    "df['sch_day'] = df['scheduled_arrival_time'].dt.day_of_week\n",
    "df['sch_hour'] = df['scheduled_arrival_time'].dt.hour"
   ]
  },
  {
   "cell_type": "code",
   "execution_count": 21,
   "id": "ead16beb",
   "metadata": {},
   "outputs": [],
   "source": [
    "# Use Cyclical Encoding for day and hour, as it's more suitable for time-related features\n",
    "# And the model can \"understand\" the wrap-around\n",
    "df['day_sin'] = np.sin(2 * np.pi * df['day'] / 7)\n",
    "df['day_cos'] = np.cos(2 * np.pi * df['day'] / 7)\n",
    "\n",
    "df['sch_day_sin'] = np.sin(2 * np.pi * df['sch_day'] / 7)\n",
    "df['sch_day_cos'] = np.cos(2 * np.pi * df['sch_day'] / 7)\n",
    "\n",
    "df['hour_sin'] = np.sin(2 * np.pi * df['hour'] / 24)\n",
    "df['hour_cos'] = np.cos(2 * np.pi * df['hour'] / 24)\n",
    "\n",
    "df['sch_hour_sin'] = np.sin(2 * np.pi * df['sch_hour'] / 24)\n",
    "df['sch_hour_cos'] = np.cos(2 * np.pi * df['sch_hour'] / 24)"
   ]
  },
  {
   "cell_type": "code",
   "execution_count": 22,
   "id": "84ef1b88",
   "metadata": {},
   "outputs": [],
   "source": [
    "# Add boolean value is_weekend\n",
    "weekend_mask = df['day'].isin([5, 6])\n",
    "df['is_weekend'] = np.where(weekend_mask, 1, 0)"
   ]
  },
  {
   "cell_type": "code",
   "execution_count": 23,
   "id": "6a7aa507",
   "metadata": {},
   "outputs": [],
   "source": [
    "# Add boolean value is_peak_hour (weekdays from 7-9am or 4-6pm)\n",
    "peak_hour_mask = (weekend_mask == False) & (df['hour'].isin([7, 8, 9, 16, 17, 18]))\n",
    "df['is_peak_hour'] = np.where(peak_hour_mask, 1, 0)"
   ]
  },
  {
   "cell_type": "markdown",
   "id": "b208b55d",
   "metadata": {},
   "source": [
    "### Use Label Encoding for vehicle_id, route_id and stop_id"
   ]
  },
  {
   "cell_type": "code",
   "execution_count": 24,
   "id": "561f6e68",
   "metadata": {},
   "outputs": [],
   "source": [
    "le_vehicle = LabelEncoder()\n",
    "df['vehicle_id'] = le_vehicle.fit_transform(df['vehicle_id'])"
   ]
  },
  {
   "cell_type": "code",
   "execution_count": 25,
   "id": "2060fe42",
   "metadata": {},
   "outputs": [],
   "source": [
    "le_route = LabelEncoder()\n",
    "df['route_id'] = le_route.fit_transform(df['route_id'])"
   ]
  },
  {
   "cell_type": "code",
   "execution_count": 26,
   "id": "c9d1c547",
   "metadata": {},
   "outputs": [],
   "source": [
    "le_stop = LabelEncoder()\n",
    "df['stop_id'] = le_stop.fit_transform(df['stop_id'])"
   ]
  },
  {
   "cell_type": "markdown",
   "id": "227505d8",
   "metadata": {},
   "source": [
    "### Convert weathercode to Categories"
   ]
  },
  {
   "cell_type": "code",
   "execution_count": 27,
   "id": "600214ee",
   "metadata": {},
   "outputs": [],
   "source": [
    "# Create weather code mapping\n",
    "weathercodes = df['weathercode'].sort_values().unique()\n",
    "condition_list = []\n",
    "label_list = []\n",
    "\n",
    "for code in weathercodes:\n",
    "  condition_list.append(df['weathercode'] == code)\n",
    "  label_list.append(WEATHER_CODES[code])"
   ]
  },
  {
   "cell_type": "code",
   "execution_count": 28,
   "id": "d4faa15c",
   "metadata": {},
   "outputs": [],
   "source": [
    "# Create categories\n",
    "df['weather'] = np.select(condition_list, label_list, default='Unknown')"
   ]
  },
  {
   "cell_type": "code",
   "execution_count": 29,
   "id": "62d17fe7",
   "metadata": {},
   "outputs": [
    {
     "data": {
      "text/plain": [
       "weather\n",
       "Clear sky        41428\n",
       "Overcast         11749\n",
       "Partly cloudy     6684\n",
       "Mainly clear      5817\n",
       "Light drizzle     4729\n",
       "Moderate rain     2897\n",
       "Name: count, dtype: int64"
      ]
     },
     "execution_count": 29,
     "metadata": {},
     "output_type": "execute_result"
    }
   ],
   "source": [
    "df['weather'].value_counts()"
   ]
  },
  {
   "cell_type": "raw",
   "id": "c82b497b",
   "metadata": {
    "vscode": {
     "languageId": "raw"
    }
   },
   "source": [
    "# Collapsing categories to 6 max\n",
    "df['weather'] = np.where(df['weather'].isin(['Light drizzle', 'Moderate drizzle', 'Dense drizzle']), 'Drizzle', df['weather'])\n",
    "df['weather'] = np.where(df['weather'].isin(['Slight rain', 'Moderate rain']), 'Rain', df['weather'])\n",
    "df['weather'].value_counts()"
   ]
  },
  {
   "cell_type": "code",
   "execution_count": 30,
   "id": "8f65f239",
   "metadata": {},
   "outputs": [],
   "source": [
    "# Use One Hot Encoding\n",
    "one_hot = pd.get_dummies(df['weather'], drop_first=True, dtype='int64', prefix='weather')\n",
    "df = df.join(one_hot)"
   ]
  },
  {
   "cell_type": "markdown",
   "id": "0b15844b",
   "metadata": {},
   "source": [
    "### Convert incident_category to Categories "
   ]
  },
  {
   "cell_type": "raw",
   "id": "a6ed42bb",
   "metadata": {
    "vscode": {
     "languageId": "raw"
    }
   },
   "source": [
    "# Create incident code mapping\n",
    "incident_codes = df['incident_category'].dropna().sort_values().unique()\n",
    "condition_list = []\n",
    "label_list = []\n",
    "\n",
    "for code in incident_codes:\n",
    "  condition_list.append(df['incident_category'] == code)\n",
    "  label_list.append(INCIDENT_CATEGORIES[code])"
   ]
  },
  {
   "cell_type": "raw",
   "id": "2719011a",
   "metadata": {
    "vscode": {
     "languageId": "raw"
    }
   },
   "source": [
    "# Create categories\n",
    "df['incident'] = np.select(condition_list, label_list)"
   ]
  },
  {
   "cell_type": "raw",
   "id": "69ccdcac",
   "metadata": {
    "vscode": {
     "languageId": "raw"
    }
   },
   "source": [
    "df['incident'].value_counts()"
   ]
  },
  {
   "cell_type": "raw",
   "id": "08cc029b",
   "metadata": {
    "vscode": {
     "languageId": "raw"
    }
   },
   "source": [
    "# Use One Hot Encoding\n",
    "one_hot = pd.get_dummies(df['incident'], drop_first=True, dtype='int64', prefix='incident')\n",
    "df = df.join(one_hot)"
   ]
  },
  {
   "cell_type": "markdown",
   "id": "c83d093d",
   "metadata": {},
   "source": [
    "## Export Data"
   ]
  },
  {
   "cell_type": "code",
   "execution_count": 31,
   "id": "ea440349",
   "metadata": {},
   "outputs": [
    {
     "data": {
      "text/plain": [
       "Index(['vehicle_id', 'occupancy_status', 'route_id', 'stop_id', 'stop_lat',\n",
       "       'stop_lon', 'stop_sequence', 'trip_progress', 'wheelchair_boarding',\n",
       "       'realtime_arrival_time', 'scheduled_arrival_time', 'temperature',\n",
       "       'precipitation', 'windspeed', 'weathercode', 'incident_nearby', 'delay',\n",
       "       'day', 'hour', 'sch_day', 'sch_hour', 'day_sin', 'day_cos',\n",
       "       'sch_day_sin', 'sch_day_cos', 'hour_sin', 'hour_cos', 'sch_hour_sin',\n",
       "       'sch_hour_cos', 'is_weekend', 'is_peak_hour', 'weather',\n",
       "       'weather_Light drizzle', 'weather_Mainly clear',\n",
       "       'weather_Moderate rain', 'weather_Overcast', 'weather_Partly cloudy'],\n",
       "      dtype='object')"
      ]
     },
     "execution_count": 31,
     "metadata": {},
     "output_type": "execute_result"
    }
   ],
   "source": [
    "df.columns"
   ]
  },
  {
   "cell_type": "code",
   "execution_count": 34,
   "id": "89feaf25",
   "metadata": {},
   "outputs": [],
   "source": [
    "# Keep encoded columns and reorder them\n",
    "df = df[[\n",
    "\t'vehicle_id',\n",
    "  \t'occupancy_status',\n",
    "  \t'route_id', \n",
    "  \t'stop_id',\n",
    "  \t'stop_lat',\n",
    "  \t'stop_lon',\n",
    "\t'stop_sequence',\n",
    "  \t'trip_progress',\n",
    "\t'wheelchair_boarding',\n",
    "  \t'day_sin',\n",
    "  \t'day_cos',\n",
    "  \t'sch_day_sin',\n",
    "  \t'sch_day_cos',\n",
    "  \t'hour_sin',\n",
    "  \t'hour_cos', \n",
    "\t'sch_hour_sin',\n",
    "  \t'sch_hour_cos',\n",
    "  \t'is_weekend',\n",
    "  \t'is_peak_hour', \n",
    "\t'temperature', \n",
    "\t'precipitation', \n",
    "\t'windspeed', \n",
    "  \t'weather_Light drizzle',\n",
    "  \t'weather_Mainly clear',\n",
    "    'weather_Moderate rain',\n",
    "  \t'weather_Overcast',\n",
    "  \t'weather_Partly cloudy',\n",
    "  \t'delay'\n",
    "]]"
   ]
  },
  {
   "cell_type": "code",
   "execution_count": 32,
   "id": "a19ed45e",
   "metadata": {},
   "outputs": [],
   "source": [
    "# Export encoders\n",
    "encoders = {\n",
    "\t'le_vehicle': le_vehicle,\n",
    "  \t'le_route': le_route,\n",
    "  \t'le_stop': le_stop,\n",
    "}\n",
    "\n",
    "with open('../models/label_encoders.pkl', 'wb') as handle:\n",
    "\tpickle.dump(encoders, handle, protocol=pickle.HIGHEST_PROTOCOL)"
   ]
  },
  {
   "cell_type": "code",
   "execution_count": 35,
   "id": "7677485b",
   "metadata": {},
   "outputs": [
    {
     "name": "stdout",
     "output_type": "stream",
     "text": [
      "<class 'pandas.core.frame.DataFrame'>\n",
      "Index: 73304 entries, 0 to 74054\n",
      "Data columns (total 28 columns):\n",
      " #   Column                 Non-Null Count  Dtype  \n",
      "---  ------                 --------------  -----  \n",
      " 0   vehicle_id             73304 non-null  int64  \n",
      " 1   occupancy_status       73304 non-null  int64  \n",
      " 2   route_id               73304 non-null  int64  \n",
      " 3   stop_id                73304 non-null  int64  \n",
      " 4   stop_lat               73304 non-null  float64\n",
      " 5   stop_lon               73304 non-null  float64\n",
      " 6   stop_sequence          73304 non-null  int64  \n",
      " 7   trip_progress          73304 non-null  float64\n",
      " 8   wheelchair_boarding    73304 non-null  int64  \n",
      " 9   day_sin                73304 non-null  float64\n",
      " 10  day_cos                73304 non-null  float64\n",
      " 11  sch_day_sin            73304 non-null  float64\n",
      " 12  sch_day_cos            73304 non-null  float64\n",
      " 13  hour_sin               73304 non-null  float64\n",
      " 14  hour_cos               73304 non-null  float64\n",
      " 15  sch_hour_sin           73304 non-null  float64\n",
      " 16  sch_hour_cos           73304 non-null  float64\n",
      " 17  is_weekend             73304 non-null  int64  \n",
      " 18  is_peak_hour           73304 non-null  int64  \n",
      " 19  temperature            73304 non-null  float64\n",
      " 20  precipitation          73304 non-null  float64\n",
      " 21  windspeed              73304 non-null  float64\n",
      " 22  weather_Light drizzle  73304 non-null  int64  \n",
      " 23  weather_Mainly clear   73304 non-null  int64  \n",
      " 24  weather_Moderate rain  73304 non-null  int64  \n",
      " 25  weather_Overcast       73304 non-null  int64  \n",
      " 26  weather_Partly cloudy  73304 non-null  int64  \n",
      " 27  delay                  73304 non-null  float64\n",
      "dtypes: float64(15), int64(13)\n",
      "memory usage: 16.2 MB\n"
     ]
    }
   ],
   "source": [
    "df.info()"
   ]
  },
  {
   "cell_type": "code",
   "execution_count": 36,
   "id": "2344b1d2",
   "metadata": {},
   "outputs": [],
   "source": [
    "# Export dataframe\n",
    "df.to_csv('../data/preprocessed.csv', index=False)"
   ]
  },
  {
   "cell_type": "markdown",
   "id": "2d2fc389",
   "metadata": {},
   "source": [
    "## End"
   ]
  }
 ],
 "metadata": {
  "kernelspec": {
   "display_name": "base",
   "language": "python",
   "name": "python3"
  },
  "language_info": {
   "codemirror_mode": {
    "name": "ipython",
    "version": 3
   },
   "file_extension": ".py",
   "mimetype": "text/x-python",
   "name": "python",
   "nbconvert_exporter": "python",
   "pygments_lexer": "ipython3",
   "version": "3.12.4"
  }
 },
 "nbformat": 4,
 "nbformat_minor": 5
}
