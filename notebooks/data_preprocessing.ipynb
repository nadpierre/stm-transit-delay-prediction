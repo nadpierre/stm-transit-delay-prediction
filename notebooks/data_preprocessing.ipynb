{
 "cells": [
  {
   "cell_type": "markdown",
   "id": "7a883801",
   "metadata": {},
   "source": [
    "# STM Transit Delay Data Preprocessing"
   ]
  },
  {
   "cell_type": "markdown",
   "id": "1fb25db2",
   "metadata": {},
   "source": [
    "## Overview"
   ]
  },
  {
   "cell_type": "markdown",
   "id": "13f950b4",
   "metadata": {},
   "source": [
    "This notebook preprocesses data about STM trip updates weather and traffic, data in order to build a regression model that predicts delays in seconds."
   ]
  },
  {
   "cell_type": "markdown",
   "id": "51775b74",
   "metadata": {},
   "source": [
    "## Data Description"
   ]
  },
  {
   "cell_type": "markdown",
   "id": "f39d1571",
   "metadata": {},
   "source": [
    "`trip_id`: Unique identifier for the transit trip.<br>\n",
    "`vehicle_id`: Unique identifier for a vehicle.<br>\n",
    "`vehicle_lat`, `vehicle_lon`: Vehicle current position.<br>\n",
    "`vehicle_distance`: Vehicle distance from the stop, in meters.<br>\n",
    "`vehicle_in_transit`: Indicates if a vehicle is in transit or if it has stopped.<br>\n",
    "`vehicle_bearing`: Direction that the vehicle is facing, from to 360 degrees.<br>\n",
    "`vehicle_speed`: Momentary speed measured by the vehicle, in meters per second.<br>\n",
    "`stop_sequence`: Sequence of the stop, for ordering.<br>\n",
    "`occupancy_status`: Degree of passenger occupancy, ranging from 1 (empty) to 7 (not accepting passengers).<br>\n",
    "`route_id`: Unique identifier for a bus or metro line.<br>\n",
    "`stop_id`: Unique identifier of a stop.<br>\n",
    "`stop_name`: Name of the stop.<br>\n",
    "`stop_lat`, `stop_lon`: Stop coordinates.<br>\n",
    "`trip_progress`: How far along the trip is the vehicle, from 0 (first stop) to 1 (last stop).<br>\n",
    "`wheelchair_boarding`: Indicates if the stop is accessible for people in wheelchair.<br>\n",
    "`rt_arrival_time`, `sch_arrival_time`: Realtime and scheduled arrival time, in UTC.<br>\n",
    "`delay`: Difference between real and scheduled arrival time, in seconds<br>\n",
    "`temperature`: Air temperature at 2 meters above ground, in Celsius.<br>\n",
    "`precipitation`: Total precipitation (rain, showers, snow) sum of the preceding hour, in millimeters.<br>\n",
    "`windspeed`: Wind speed at 10 meters above ground, in km/h.<br>\n",
    "`weathercode`: World Meteorological Organization (WMO) code, see [Open-Meteo API documentation](https://open-meteo.com/en/docs#weather_variable_documentation) for the list.<br>\n",
    "`incident_nearby`: Indicates if an incident happened within 1.5 km of the vehicle position."
   ]
  },
  {
   "cell_type": "markdown",
   "id": "05c49de4",
   "metadata": {},
   "source": [
    "## Imports"
   ]
  },
  {
   "cell_type": "code",
   "execution_count": 65,
   "id": "e5094a27",
   "metadata": {},
   "outputs": [],
   "source": [
    "import numpy as np\n",
    "import pandas as pd\n",
    "import pickle\n",
    "from sklearn.preprocessing import LabelEncoder\n",
    "import sys"
   ]
  },
  {
   "cell_type": "code",
   "execution_count": 66,
   "id": "568941a9",
   "metadata": {},
   "outputs": [],
   "source": [
    "# Import custom code\n",
    "sys.path.insert(0, '..')\n",
    "from scripts.custom_functions import LOCAL_TIMEZONE, WEATHER_CODES"
   ]
  },
  {
   "cell_type": "code",
   "execution_count": 67,
   "id": "353b54de",
   "metadata": {},
   "outputs": [],
   "source": [
    "# Load data\n",
    "df = pd.read_csv('../data/stm_weather_traffic_merged.csv')"
   ]
  },
  {
   "cell_type": "code",
   "execution_count": 68,
   "id": "b56876aa",
   "metadata": {},
   "outputs": [
    {
     "name": "stdout",
     "output_type": "stream",
     "text": [
      "<class 'pandas.core.frame.DataFrame'>\n",
      "RangeIndex: 210347 entries, 0 to 210346\n",
      "Data columns (total 20 columns):\n",
      " #   Column                  Non-Null Count   Dtype  \n",
      "---  ------                  --------------   -----  \n",
      " 0   vehicle_id              210347 non-null  int64  \n",
      " 1   vehicle_in_transit      210347 non-null  int64  \n",
      " 2   vehicle_rel_distance    187277 non-null  float64\n",
      " 3   vehicle_bearing         210347 non-null  float64\n",
      " 4   vehicle_speed           210347 non-null  float64\n",
      " 5   occupancy_status        210347 non-null  int64  \n",
      " 6   route_id                210347 non-null  int64  \n",
      " 7   stop_id                 210347 non-null  int64  \n",
      " 8   stop_lat                210347 non-null  float64\n",
      " 9   stop_lon                210347 non-null  float64\n",
      " 10  trip_progress           210347 non-null  float64\n",
      " 11  wheelchair_boarding     210347 non-null  int64  \n",
      " 12  realtime_arrival_time   210347 non-null  object \n",
      " 13  scheduled_arrival_time  210347 non-null  object \n",
      " 14  delay                   210347 non-null  float64\n",
      " 15  temperature             210347 non-null  float64\n",
      " 16  precipitation           210347 non-null  float64\n",
      " 17  windspeed               210347 non-null  float64\n",
      " 18  weathercode             210347 non-null  int64  \n",
      " 19  incident_nearby         210347 non-null  int64  \n",
      "dtypes: float64(10), int64(8), object(2)\n",
      "memory usage: 32.1+ MB\n"
     ]
    }
   ],
   "source": [
    "df.info()"
   ]
  },
  {
   "cell_type": "markdown",
   "id": "6e3eb13f",
   "metadata": {},
   "source": [
    "## Data Preprocessing"
   ]
  },
  {
   "cell_type": "markdown",
   "id": "1cdb9b34",
   "metadata": {},
   "source": [
    "### Handle Outliers"
   ]
  },
  {
   "cell_type": "code",
   "execution_count": null,
   "id": "87b3b85f",
   "metadata": {},
   "outputs": [],
   "source": [
    "# Compute mean and standard deviation\n",
    "mean_delay = df['delay'].mean()\n",
    "std_delay = df['delay'].std()"
   ]
  },
  {
   "cell_type": "code",
   "execution_count": null,
   "id": "2ffd9ad4",
   "metadata": {},
   "outputs": [],
   "source": [
    "# Filter outliers based on standard deviation\n",
    "outlier_mask = (df['delay'] < mean_delay - 3 * std_delay) | (df['delay'] > mean_delay + 3 * std_delay)"
   ]
  },
  {
   "cell_type": "code",
   "execution_count": null,
   "id": "5e800bfd",
   "metadata": {},
   "outputs": [],
   "source": [
    "# Get outliers\n",
    "df[outlier_mask]"
   ]
  },
  {
   "cell_type": "code",
   "execution_count": null,
   "id": "faac02db",
   "metadata": {},
   "outputs": [],
   "source": [
    "# Get proportion of outliers\n",
    "print(f'{outlier_mask.mean():.2%}')"
   ]
  },
  {
   "cell_type": "code",
   "execution_count": null,
   "id": "b138ed79",
   "metadata": {},
   "outputs": [],
   "source": [
    "# Remove outliers\n",
    "df = df[~outlier_mask]"
   ]
  },
  {
   "cell_type": "code",
   "execution_count": null,
   "id": "58964489",
   "metadata": {},
   "outputs": [],
   "source": [
    "# Get new distribution\n",
    "df['delay'].describe()"
   ]
  },
  {
   "cell_type": "markdown",
   "id": "cc37d7c3",
   "metadata": {},
   "source": [
    "The delay ranging from ~16 min early to 18min45sec seems more reasonable."
   ]
  },
  {
   "cell_type": "code",
   "execution_count": null,
   "id": "58516e55",
   "metadata": {},
   "outputs": [],
   "source": [
    "df.columns"
   ]
  },
  {
   "cell_type": "markdown",
   "id": "bf2977d0",
   "metadata": {},
   "source": [
    "### Encode Datetime"
   ]
  },
  {
   "cell_type": "code",
   "execution_count": null,
   "id": "4fc40e12",
   "metadata": {},
   "outputs": [],
   "source": [
    "# Convert scheduled arrival time\n",
    "df['scheduled_arrival_time'] = pd.to_datetime(df['scheduled_arrival_time'], utc=True).dt.tz_convert(LOCAL_TIMEZONE)"
   ]
  },
  {
   "cell_type": "code",
   "execution_count": null,
   "id": "462a448b",
   "metadata": {},
   "outputs": [],
   "source": [
    "# Convert datetime to month, day and hour\n",
    "df['day_of_week'] = df['scheduled_arrival_time'].dt.day_of_week\n",
    "df['hour'] = df['scheduled_arrival_time'].dt.hour"
   ]
  },
  {
   "cell_type": "code",
   "execution_count": null,
   "id": "84ef1b88",
   "metadata": {},
   "outputs": [],
   "source": [
    "# Add boolean value is_weekend\n",
    "weekend_mask = df['day_of_week'].isin([5, 6])\n",
    "df['is_weekend'] = np.where(weekend_mask, 1, 0)"
   ]
  },
  {
   "cell_type": "code",
   "execution_count": null,
   "id": "6a7aa507",
   "metadata": {},
   "outputs": [],
   "source": [
    "# Add boolean value is_peak_hour (weekdays from 7-9am or 4-6pm)\n",
    "peak_hour_mask = (weekend_mask == False) & (df['hour'].isin([7, 8, 9, 16, 17, 18]))\n",
    "df['is_peak_hour'] = np.where(peak_hour_mask, 1, 0)"
   ]
  },
  {
   "cell_type": "markdown",
   "id": "b208b55d",
   "metadata": {},
   "source": [
    "### Use Label Encoding for vehicle_id, route_id and stop_id"
   ]
  },
  {
   "cell_type": "code",
   "execution_count": null,
   "id": "561f6e68",
   "metadata": {},
   "outputs": [],
   "source": [
    "le_vehicle = LabelEncoder()\n",
    "df['vehicle_id'] = le_vehicle.fit_transform(df['vehicle_id'])"
   ]
  },
  {
   "cell_type": "code",
   "execution_count": null,
   "id": "2060fe42",
   "metadata": {},
   "outputs": [],
   "source": [
    "le_route = LabelEncoder()\n",
    "df['route_id'] = le_route.fit_transform(df['route_id'])"
   ]
  },
  {
   "cell_type": "code",
   "execution_count": null,
   "id": "c9d1c547",
   "metadata": {},
   "outputs": [],
   "source": [
    "le_stop = LabelEncoder()\n",
    "df['stop_id'] = le_stop.fit_transform(df['stop_id'])"
   ]
  },
  {
   "cell_type": "markdown",
   "id": "227505d8",
   "metadata": {},
   "source": [
    "### Convert weathercode to Categories"
   ]
  },
  {
   "cell_type": "code",
   "execution_count": null,
   "id": "600214ee",
   "metadata": {},
   "outputs": [],
   "source": [
    "# Create weather code mapping\n",
    "weathercodes = df['weathercode'].sort_values().unique()\n",
    "condition_list = []\n",
    "label_list = []\n",
    "\n",
    "for code in weathercodes:\n",
    "  condition_list.append(df['weathercode'] == code)\n",
    "  label_list.append(WEATHER_CODES[code])"
   ]
  },
  {
   "cell_type": "code",
   "execution_count": null,
   "id": "d4faa15c",
   "metadata": {},
   "outputs": [],
   "source": [
    "# Create categories\n",
    "df['weather'] = np.select(condition_list, label_list, default='Unknown')"
   ]
  },
  {
   "cell_type": "code",
   "execution_count": null,
   "id": "62d17fe7",
   "metadata": {},
   "outputs": [],
   "source": [
    "df['weather'].value_counts()"
   ]
  },
  {
   "cell_type": "code",
   "execution_count": null,
   "id": "c82b497b",
   "metadata": {},
   "outputs": [],
   "source": [
    "# Collapse categories\n",
    "df['weather'] = np.where(df['weather'].isin(['Mainly clear', 'Partly cloudy', 'Overcast']), 'Cloudy', df['weather'])\n",
    "df['weather'] = np.where(df['weather'].isin(['Light drizzle', 'Moderate drizzle', 'Dense drizzle']), 'Drizzle', df['weather'])\n",
    "df['weather'] = np.where(df['weather'].isin(['Slight rain', 'Moderate rain']), 'Rain', df['weather'])\n",
    "df['weather'].value_counts()"
   ]
  },
  {
   "cell_type": "code",
   "execution_count": null,
   "id": "8f65f239",
   "metadata": {},
   "outputs": [],
   "source": [
    "# Use One Hot Encoding\n",
    "one_hot = pd.get_dummies(df['weather'], drop_first=True, dtype='int64', prefix='weather')\n",
    "df = df.join(one_hot)"
   ]
  },
  {
   "cell_type": "markdown",
   "id": "0b15844b",
   "metadata": {},
   "source": [
    "### Convert incident_category to Categories "
   ]
  },
  {
   "cell_type": "raw",
   "id": "a6ed42bb",
   "metadata": {
    "vscode": {
     "languageId": "raw"
    }
   },
   "source": [
    "# Create incident code mapping\n",
    "incident_codes = df['incident_category'].dropna().sort_values().unique()\n",
    "condition_list = []\n",
    "label_list = []\n",
    "\n",
    "for code in incident_codes:\n",
    "  condition_list.append(df['incident_category'] == code)\n",
    "  label_list.append(INCIDENT_CATEGORIES[code])"
   ]
  },
  {
   "cell_type": "raw",
   "id": "2719011a",
   "metadata": {
    "vscode": {
     "languageId": "raw"
    }
   },
   "source": [
    "# Create categories\n",
    "df['incident'] = np.select(condition_list, label_list)"
   ]
  },
  {
   "cell_type": "raw",
   "id": "69ccdcac",
   "metadata": {
    "vscode": {
     "languageId": "raw"
    }
   },
   "source": [
    "df['incident'].value_counts()"
   ]
  },
  {
   "cell_type": "raw",
   "id": "08cc029b",
   "metadata": {
    "vscode": {
     "languageId": "raw"
    }
   },
   "source": [
    "# Use One Hot Encoding\n",
    "one_hot = pd.get_dummies(df['incident'], drop_first=True, dtype='int64', prefix='incident')\n",
    "df = df.join(one_hot)"
   ]
  },
  {
   "cell_type": "markdown",
   "id": "c83d093d",
   "metadata": {},
   "source": [
    "## Export Data"
   ]
  },
  {
   "cell_type": "code",
   "execution_count": null,
   "id": "ea440349",
   "metadata": {},
   "outputs": [],
   "source": [
    "df.columns"
   ]
  },
  {
   "cell_type": "markdown",
   "id": "c598daa5",
   "metadata": {},
   "source": [
    "**Columns to drop**\n",
    "\n",
    "`scheduled_arrival_time` : The month, day of week and hour have been extracted.<br>\n",
    "`realtime_arrival_time`: There's already the delay.<br>\n",
    "`weather`, `weathercode`: Dummies have been created for the weather.<br>"
   ]
  },
  {
   "cell_type": "code",
   "execution_count": null,
   "id": "89feaf25",
   "metadata": {},
   "outputs": [],
   "source": [
    "# Keep relevant columns\n",
    "df = df[[\n",
    "\t'vehicle_id',\n",
    "  \t'vehicle_in_transit',\n",
    "    'vehicle_rel_distance',\n",
    "    'vehicle_bearing',\n",
    "    'vehicle_speed',\n",
    "  \t'occupancy_status',\n",
    "  \t'route_id', \n",
    "  \t'stop_id',\n",
    "  \t'stop_lat',\n",
    "  \t'stop_lon',\n",
    "  \t'trip_progress',\n",
    "\t'wheelchair_boarding',\n",
    "  \t'day_of_week',\n",
    "    'hour',\n",
    "  \t'is_weekend',\n",
    "  \t'is_peak_hour', \n",
    "\t'temperature', \n",
    "\t'precipitation', \n",
    "\t'windspeed', \n",
    "  \t'weather_Cloudy',\n",
    "  \t'weather_Drizzle',\n",
    "\t'weather_Rain',\n",
    "    'incident_nearby',\n",
    "  \t'delay'\n",
    "]]"
   ]
  },
  {
   "cell_type": "code",
   "execution_count": null,
   "id": "a19ed45e",
   "metadata": {},
   "outputs": [],
   "source": [
    "# Export encoders\n",
    "encoders = {\n",
    "\t'le_vehicle': le_vehicle,\n",
    "  \t'le_route': le_route,\n",
    "  \t'le_stop': le_stop,\n",
    "}\n",
    "\n",
    "with open('../models/label_encoders.pkl', 'wb') as handle:\n",
    "\tpickle.dump(encoders, handle, protocol=pickle.HIGHEST_PROTOCOL)"
   ]
  },
  {
   "cell_type": "code",
   "execution_count": null,
   "id": "7677485b",
   "metadata": {},
   "outputs": [],
   "source": [
    "df.info()"
   ]
  },
  {
   "cell_type": "code",
   "execution_count": null,
   "id": "4bee9184",
   "metadata": {},
   "outputs": [],
   "source": [
    "df.columns"
   ]
  },
  {
   "cell_type": "code",
   "execution_count": null,
   "id": "2344b1d2",
   "metadata": {},
   "outputs": [],
   "source": [
    "# Export dataframe\n",
    "df.to_csv('../data/preprocessed.csv', index=False)"
   ]
  },
  {
   "cell_type": "markdown",
   "id": "2d2fc389",
   "metadata": {},
   "source": [
    "## End"
   ]
  }
 ],
 "metadata": {
  "kernelspec": {
   "display_name": "venv",
   "language": "python",
   "name": "python3"
  },
  "language_info": {
   "codemirror_mode": {
    "name": "ipython",
    "version": 3
   },
   "file_extension": ".py",
   "mimetype": "text/x-python",
   "name": "python",
   "nbconvert_exporter": "python",
   "pygments_lexer": "ipython3",
   "version": "3.13.3"
  }
 },
 "nbformat": 4,
 "nbformat_minor": 5
}
