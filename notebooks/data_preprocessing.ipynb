{
 "cells": [
  {
   "cell_type": "markdown",
   "id": "7a883801",
   "metadata": {},
   "source": [
    "# STM Transit Delay Feature Engineering and Data Preprocessing"
   ]
  },
  {
   "cell_type": "markdown",
   "id": "13f950b4",
   "metadata": {},
   "source": [
    "This notebook preprocesses data about STM trip updates and weather data in order to build a tree-based regression model that predicts delays in seconds."
   ]
  },
  {
   "cell_type": "markdown",
   "id": "51775b74",
   "metadata": {},
   "source": [
    "## Data Description"
   ]
  },
  {
   "cell_type": "markdown",
   "id": "f39d1571",
   "metadata": {},
   "source": [
    "`trip_id` unique identifier of a trip<br>\n",
    "`vehicle_id` unique identifier of a vehicle<br>\n",
    "`occupancy_status` degree of passenger occupancy<br>\n",
    "`route_id` bus or metro line<br>\n",
    "`stop_id` stop number<br>\n",
    "`stop_lat`stop latitude<br>\n",
    "`stop_lon`stop longitude<br>\n",
    "`stop_sequence` sequence of the stop, for ordering<br>\n",
    "`trip_progress` how far along the trip is the bys from 0 to 1<br>\n",
    "`wheelchair_boarding` indicates if the stop is accessible for people in wheelchair, 1 being true and 2 being false<br>\n",
    "`realtime_arrival_time` actual arrival time, in milliseconds<br>\n",
    "`scheduled_arrival_time` planned arrival time, in milliseconds<br>\n",
    "`temperature` air temperature at 2 meters above ground, in Celsius<br>\n",
    "`precipitation` total precipitation (rain, showers, snow) sum of the preceding hour, in millimeters<br>\n",
    "`windspeed` wind speed at 10 meters above ground, in km/h<br>\n",
    "`weathercode` World Meteorological Organization (WMO) code<br>\n",
    "`incident_nearby`indicates if an incident happened within 500 meters when the vehicle arrived at the stop"
   ]
  },
  {
   "cell_type": "markdown",
   "id": "05c49de4",
   "metadata": {},
   "source": [
    "## Imports"
   ]
  },
  {
   "cell_type": "code",
   "execution_count": 1,
   "id": "e5094a27",
   "metadata": {},
   "outputs": [],
   "source": [
    "import matplotlib.pyplot as plt\n",
    "import numpy as np\n",
    "import pandas as pd\n",
    "import pickle\n",
    "from sklearn.preprocessing import LabelEncoder\n",
    "import sys"
   ]
  },
  {
   "cell_type": "code",
   "execution_count": 2,
   "id": "568941a9",
   "metadata": {},
   "outputs": [],
   "source": [
    "# Import custom code\n",
    "sys.path.insert(0, '..')\n",
    "from scripts.custom_functions import LOCAL_TIMEZONE, WEATHER_CODES"
   ]
  },
  {
   "cell_type": "code",
   "execution_count": 3,
   "id": "353b54de",
   "metadata": {},
   "outputs": [],
   "source": [
    "# Load data\n",
    "df = pd.read_csv('../data/stm_weather_traffic_merged.csv')"
   ]
  },
  {
   "cell_type": "markdown",
   "id": "f2b3d765",
   "metadata": {},
   "source": [
    "## Feature Engineering"
   ]
  },
  {
   "cell_type": "code",
   "execution_count": 4,
   "id": "c1aecec5",
   "metadata": {},
   "outputs": [],
   "source": [
    "# Convert real and scheduled timestamps\n",
    "df['realtime_arrival_time'] = pd.to_datetime(df['realtime_arrival_time'], origin='unix', unit='ms', utc=True)\n",
    "df['scheduled_arrival_time'] = pd.to_datetime(df['scheduled_arrival_time'], origin='unix', unit='ms', utc=True)"
   ]
  },
  {
   "cell_type": "code",
   "execution_count": 5,
   "id": "d7c9b3a2",
   "metadata": {},
   "outputs": [],
   "source": [
    "# Calculate delay in seconds (real - scheduled)\n",
    "df['delay'] = (df['realtime_arrival_time'] - df['scheduled_arrival_time']).dt.total_seconds()"
   ]
  },
  {
   "cell_type": "markdown",
   "id": "6c14901f",
   "metadata": {},
   "source": [
    "## Small EDA"
   ]
  },
  {
   "cell_type": "code",
   "execution_count": 6,
   "id": "ce963b01",
   "metadata": {},
   "outputs": [
    {
     "data": {
      "text/plain": [
       "stop_sequence             0.077865\n",
       "trip_progress             0.056487\n",
       "occupancy_status          0.036527\n",
       "trip_id                  -0.022026\n",
       "stop_lat                  0.018985\n",
       "stop_lon                  0.017328\n",
       "incident_nearby          -0.015264\n",
       "temperature              -0.013491\n",
       "scheduled_arrival_time   -0.012427\n",
       "windspeed                -0.007764\n",
       "stop_id                   0.007260\n",
       "weathercode               0.006285\n",
       "route_id                  0.004918\n",
       "wheelchair_boarding       0.002898\n",
       "vehicle_id                0.001599\n",
       "realtime_arrival_time     0.000044\n",
       "Name: delay, dtype: float64"
      ]
     },
     "execution_count": 6,
     "metadata": {},
     "output_type": "execute_result"
    }
   ],
   "source": [
    "# Get correlations of features with delay\n",
    "correlations = df.corr().iloc[:-1]['delay']\n",
    "correlations.sort_values(key=abs, ascending=False)"
   ]
  },
  {
   "cell_type": "code",
   "execution_count": 7,
   "id": "8e45ac10",
   "metadata": {},
   "outputs": [
    {
     "data": {
      "text/plain": [
       "count    22607.000000\n",
       "mean        51.254479\n",
       "std        280.605227\n",
       "min      -8222.000000\n",
       "25%          0.000000\n",
       "50%          0.000000\n",
       "75%         50.000000\n",
       "max      19116.000000\n",
       "Name: delay, dtype: float64"
      ]
     },
     "execution_count": 7,
     "metadata": {},
     "output_type": "execute_result"
    }
   ],
   "source": [
    "# Get distribution of delays\n",
    "df['delay'].describe()"
   ]
  },
  {
   "cell_type": "code",
   "execution_count": 9,
   "id": "45fc0b85",
   "metadata": {},
   "outputs": [
    {
     "name": "stdout",
     "output_type": "stream",
     "text": [
      "64.80%\n"
     ]
    }
   ],
   "source": [
    "# Get proportion of trips that are on time\n",
    "on_time_mask = df['delay'] == 0\n",
    "print(f'{(on_time_mask.sum() / len(df)):.2%}')"
   ]
  },
  {
   "cell_type": "code",
   "execution_count": 10,
   "id": "5c07d691",
   "metadata": {},
   "outputs": [
    {
     "data": {
      "image/png": "[encoded data removed]",
      "text/plain": [
       "<Figure size 640x480 with 1 Axes>"
      ]
     },
     "metadata": {},
     "output_type": "display_data"
    }
   ],
   "source": [
    "# Plot distribution of delays\n",
    "plt.hist(df['delay'], bins=50)\n",
    "plt.title('Distribution of delays')\n",
    "plt.xlabel('Delay (seconds)')\n",
    "plt.ylabel('Frequency')\n",
    "plt.savefig('../images/delay_hist.png', bbox_inches='tight')\n",
    "plt.show()"
   ]
  },
  {
   "cell_type": "markdown",
   "id": "0c7db5d0",
   "metadata": {},
   "source": [
    "The plot shows there are some massive delays (~2h15min early to ~5h15min late), which could greatly affect the model performance."
   ]
  },
  {
   "cell_type": "code",
   "execution_count": 11,
   "id": "43739171",
   "metadata": {},
   "outputs": [
    {
     "data": {
      "image/png": "[encoded data removed]",
      "text/plain": [
       "<Figure size 640x480 with 1 Axes>"
      ]
     },
     "metadata": {},
     "output_type": "display_data"
    }
   ],
   "source": [
    "# Plot trip progress vs. delay\n",
    "plt.scatter(x=df['trip_progress'], y=df['delay'])\n",
    "plt.title('Trip Progress vs. Delay')\n",
    "plt.xlabel('Trip Progress')\n",
    "plt.ylabel('Delay (seconds)')\n",
    "plt.savefig('../images/trip_progress_vs_delay.png', bbox_inches='tight')\n",
    "plt.show()"
   ]
  },
  {
   "cell_type": "markdown",
   "id": "a528e661",
   "metadata": {},
   "source": [
    "From the plot, it looks like the delay is relatively stable across the trip progress. There are many data points that appear scattered around the x-axis, indicating that delays do not change significantly throughout the trip in many cases. The wide range of delays suggests that delays are highly variable, but there is not clear relationship between trip progress and delay. This could imply that other factors like traffic, accidents, mechanical issues or weather may have more impact on the delays."
   ]
  },
  {
   "cell_type": "markdown",
   "id": "6e3eb13f",
   "metadata": {},
   "source": [
    "## Data Preprocessing"
   ]
  },
  {
   "cell_type": "markdown",
   "id": "1cdb9b34",
   "metadata": {},
   "source": [
    "### Handle Outliers"
   ]
  },
  {
   "cell_type": "code",
   "execution_count": 12,
   "id": "87b3b85f",
   "metadata": {},
   "outputs": [],
   "source": [
    "# Compute mean and standard deviation\n",
    "mean_delay = df['delay'].mean()\n",
    "std_delay = df['delay'].std()"
   ]
  },
  {
   "cell_type": "code",
   "execution_count": 13,
   "id": "2ffd9ad4",
   "metadata": {},
   "outputs": [],
   "source": [
    "# Filter outliers based on standard deviation\n",
    "outlier_mask = (df['delay'] < mean_delay - 3 * std_delay) | (df['delay'] > mean_delay + 3 * std_delay)"
   ]
  },
  {
   "cell_type": "code",
   "execution_count": 14,
   "id": "5e800bfd",
   "metadata": {},
   "outputs": [],
   "source": [
    "# Get outliers\n",
    "outliers = df[outlier_mask]"
   ]
  },
  {
   "cell_type": "code",
   "execution_count": 15,
   "id": "faac02db",
   "metadata": {},
   "outputs": [
    {
     "name": "stdout",
     "output_type": "stream",
     "text": [
      "0.65%\n"
     ]
    }
   ],
   "source": [
    "# Get proportion of outliers\n",
    "print(f'{(outlier_mask.sum() / len(df)):.2%}')"
   ]
  },
  {
   "cell_type": "code",
   "execution_count": 16,
   "id": "b138ed79",
   "metadata": {},
   "outputs": [],
   "source": [
    "# Remove outliers\n",
    "df = df[~outlier_mask]"
   ]
  },
  {
   "cell_type": "code",
   "execution_count": 17,
   "id": "58964489",
   "metadata": {},
   "outputs": [
    {
     "data": {
      "text/plain": [
       "count    22460.000000\n",
       "mean        46.238602\n",
       "std        122.457825\n",
       "min       -781.000000\n",
       "25%          0.000000\n",
       "50%          0.000000\n",
       "75%         46.000000\n",
       "max        888.000000\n",
       "Name: delay, dtype: float64"
      ]
     },
     "execution_count": 17,
     "metadata": {},
     "output_type": "execute_result"
    }
   ],
   "source": [
    "# Get new distribution\n",
    "df['delay'].describe()"
   ]
  },
  {
   "cell_type": "markdown",
   "id": "cc37d7c3",
   "metadata": {},
   "source": [
    "The delay ranging from ~16 min early to 18min45sec seems more reasonable."
   ]
  },
  {
   "cell_type": "code",
   "execution_count": 18,
   "id": "58516e55",
   "metadata": {},
   "outputs": [
    {
     "data": {
      "text/plain": [
       "Index(['trip_id', 'vehicle_id', 'occupancy_status', 'route_id', 'stop_id',\n",
       "       'stop_lat', 'stop_lon', 'stop_sequence', 'trip_progress',\n",
       "       'wheelchair_boarding', 'realtime_arrival_time',\n",
       "       'scheduled_arrival_time', 'temperature', 'windspeed', 'weathercode',\n",
       "       'incident_nearby', 'delay'],\n",
       "      dtype='object')"
      ]
     },
     "execution_count": 18,
     "metadata": {},
     "output_type": "execute_result"
    }
   ],
   "source": [
    "df.columns"
   ]
  },
  {
   "cell_type": "markdown",
   "id": "bf2977d0",
   "metadata": {},
   "source": [
    "### Encode Datetime"
   ]
  },
  {
   "cell_type": "code",
   "execution_count": 19,
   "id": "4fc40e12",
   "metadata": {},
   "outputs": [],
   "source": [
    "# Convert arrival times to local timezone\n",
    "df['realtime_arrival_time'] = df['realtime_arrival_time'].dt.tz_convert(LOCAL_TIMEZONE)\n",
    "df['scheduled_arrival_time'] = df['scheduled_arrival_time'].dt.tz_convert(LOCAL_TIMEZONE)"
   ]
  },
  {
   "cell_type": "code",
   "execution_count": 21,
   "id": "462a448b",
   "metadata": {},
   "outputs": [],
   "source": [
    "# Convert datetimes to day and hour\n",
    "df['day'] = df['realtime_arrival_time'].dt.day_of_week\n",
    "df['hour'] = df['realtime_arrival_time'].dt.hour\n",
    "\n",
    "df['sch_day'] = df['scheduled_arrival_time'].dt.day_of_week\n",
    "df['sch_hour'] = df['scheduled_arrival_time'].dt.hour"
   ]
  },
  {
   "cell_type": "code",
   "execution_count": 22,
   "id": "ead16beb",
   "metadata": {},
   "outputs": [],
   "source": [
    "# Use Cyclical Encoding for day and hour, as it's more suitable for time-related features\n",
    "# And the model can \"understand\" the wrap-around\n",
    "df['day_sin'] = np.sin(2 * np.pi * df['day'] / 7)\n",
    "df['day_cos'] = np.cos(2 * np.pi * df['day'] / 7)\n",
    "\n",
    "df['sch_day_sin'] = np.sin(2 * np.pi * df['sch_day'] / 7)\n",
    "df['sch_day_cos'] = np.cos(2 * np.pi * df['sch_day'] / 7)\n",
    "\n",
    "df['hour_sin'] = np.sin(2 * np.pi * df['hour'] / 24)\n",
    "df['hour_cos'] = np.cos(2 * np.pi * df['hour'] / 24)\n",
    "\n",
    "df['sch_hour_sin'] = np.sin(2 * np.pi * df['sch_hour'] / 24)\n",
    "df['sch_hour_cos'] = np.cos(2 * np.pi * df['sch_hour'] / 24)"
   ]
  },
  {
   "cell_type": "code",
   "execution_count": 23,
   "id": "84ef1b88",
   "metadata": {},
   "outputs": [],
   "source": [
    "# Add boolean value is_weekend\n",
    "weekend_mask = df['day'].isin([5, 6])\n",
    "df['is_weekend'] = np.where(weekend_mask, 1, 0)"
   ]
  },
  {
   "cell_type": "code",
   "execution_count": 24,
   "id": "6a7aa507",
   "metadata": {},
   "outputs": [],
   "source": [
    "# Add boolean value is_peak_hour (weekdays from 7-9am or 4-6pm)\n",
    "peak_hour_mask = (weekend_mask == False) & (df['hour'].isin([7, 8, 9, 16, 17, 18]))\n",
    "df['is_peak_hour'] = np.where(peak_hour_mask, 1, 0)"
   ]
  },
  {
   "cell_type": "markdown",
   "id": "b208b55d",
   "metadata": {},
   "source": [
    "### Use Label Encoding for vehicle_id, route_id and stop_id"
   ]
  },
  {
   "cell_type": "code",
   "execution_count": 25,
   "id": "561f6e68",
   "metadata": {},
   "outputs": [],
   "source": [
    "le_vehicle = LabelEncoder()\n",
    "df['vehicle_id'] = le_vehicle.fit_transform(df['vehicle_id'])"
   ]
  },
  {
   "cell_type": "code",
   "execution_count": 26,
   "id": "2060fe42",
   "metadata": {},
   "outputs": [],
   "source": [
    "le_route = LabelEncoder()\n",
    "df['route_id'] = le_route.fit_transform(df['route_id'])"
   ]
  },
  {
   "cell_type": "code",
   "execution_count": 27,
   "id": "c9d1c547",
   "metadata": {},
   "outputs": [],
   "source": [
    "le_stop = LabelEncoder()\n",
    "df['stop_id'] = le_stop.fit_transform(df['stop_id'])"
   ]
  },
  {
   "cell_type": "markdown",
   "id": "227505d8",
   "metadata": {},
   "source": [
    "### Convert weathercode Into Categories"
   ]
  },
  {
   "cell_type": "code",
   "execution_count": 28,
   "id": "600214ee",
   "metadata": {},
   "outputs": [],
   "source": [
    "# Create weather code mapping\n",
    "weathercodes = df['weathercode'].sort_values().unique()\n",
    "condition_list = []\n",
    "label_list = []\n",
    "\n",
    "for code in weathercodes:\n",
    "  condition_list.append(df['weathercode'] == code)\n",
    "  label_list.append(WEATHER_CODES[code])"
   ]
  },
  {
   "cell_type": "code",
   "execution_count": 29,
   "id": "d4faa15c",
   "metadata": {},
   "outputs": [],
   "source": [
    "# Create categories\n",
    "df['weather'] = np.select(condition_list, label_list, default='Unknown')"
   ]
  },
  {
   "cell_type": "code",
   "execution_count": 30,
   "id": "62d17fe7",
   "metadata": {},
   "outputs": [
    {
     "data": {
      "text/plain": [
       "weather\n",
       "Clear sky        19377\n",
       "Partly cloudy     2593\n",
       "Mainly clear       490\n",
       "Name: count, dtype: int64"
      ]
     },
     "execution_count": 30,
     "metadata": {},
     "output_type": "execute_result"
    }
   ],
   "source": [
    "df['weather'].value_counts()"
   ]
  },
  {
   "cell_type": "raw",
   "id": "c82b497b",
   "metadata": {
    "vscode": {
     "languageId": "raw"
    }
   },
   "source": [
    "# Collapsing categories to 6 max\n",
    "df['weather'] = np.where(df['weather'].isin(['Light drizzle', 'Moderate drizzle', 'Dense drizzle']), 'Drizzle', df['weather'])\n",
    "df['weather'] = np.where(df['weather'].isin(['Slight rain', 'Moderate rain']), 'Rain', df['weather'])\n",
    "df['weather'].value_counts()"
   ]
  },
  {
   "cell_type": "code",
   "execution_count": 31,
   "id": "8f65f239",
   "metadata": {},
   "outputs": [],
   "source": [
    "# Use One Hot Encoding\n",
    "one_hot = pd.get_dummies(df['weather'], drop_first=True, dtype='int64', prefix='weather')\n",
    "df = df.drop(['weathercode', 'weather'], axis=1).join(one_hot)"
   ]
  },
  {
   "cell_type": "markdown",
   "id": "c83d093d",
   "metadata": {},
   "source": [
    "## Export Data"
   ]
  },
  {
   "cell_type": "code",
   "execution_count": 32,
   "id": "b5a23d5a",
   "metadata": {},
   "outputs": [],
   "source": [
    "assert df.isna().sum().sum() == 0"
   ]
  },
  {
   "cell_type": "code",
   "execution_count": 33,
   "id": "ea440349",
   "metadata": {},
   "outputs": [
    {
     "data": {
      "text/plain": [
       "Index(['trip_id', 'vehicle_id', 'occupancy_status', 'route_id', 'stop_id',\n",
       "       'stop_lat', 'stop_lon', 'stop_sequence', 'trip_progress',\n",
       "       'wheelchair_boarding', 'realtime_arrival_time',\n",
       "       'scheduled_arrival_time', 'temperature', 'windspeed', 'incident_nearby',\n",
       "       'delay', 'day', 'hour', 'sch_day', 'sch_hour', 'day_sin', 'day_cos',\n",
       "       'sch_day_sin', 'sch_day_cos', 'hour_sin', 'hour_cos', 'sch_hour_sin',\n",
       "       'sch_hour_cos', 'is_weekend', 'is_peak_hour', 'weather_Mainly clear',\n",
       "       'weather_Partly cloudy'],\n",
       "      dtype='object')"
      ]
     },
     "execution_count": 33,
     "metadata": {},
     "output_type": "execute_result"
    }
   ],
   "source": [
    "df.columns"
   ]
  },
  {
   "cell_type": "code",
   "execution_count": 34,
   "id": "89feaf25",
   "metadata": {},
   "outputs": [],
   "source": [
    "# Keep encoded columns and reorder them\n",
    "df = df[[\n",
    "\t'vehicle_id',\n",
    "  \t'occupancy_status',\n",
    "  \t'route_id', \n",
    "  \t'stop_id',\n",
    "  \t'stop_lat',\n",
    "  \t'stop_lon',\n",
    "\t'stop_sequence',\n",
    "  \t'trip_progress',\n",
    "\t'wheelchair_boarding',\n",
    "  \t'day_sin',\n",
    "  \t'day_cos',\n",
    "  \t'sch_day_sin',\n",
    "  \t'sch_day_cos',\n",
    "  \t'hour_sin',\n",
    "  \t'hour_cos', \n",
    "\t'sch_hour_sin',\n",
    "  \t'sch_hour_cos',\n",
    "  \t'is_weekend',\n",
    "  \t'is_peak_hour', \n",
    "\t'temperature', \n",
    "\t#'precipitation', \n",
    "\t'windspeed', \n",
    "  \t#'weather_Drizzle',\n",
    "\t'weather_Mainly clear', \n",
    "  \t#'weather_Overcast',\n",
    "  \t'weather_Partly cloudy',\n",
    "    #'weather_Slight rain',\n",
    "    'incident_nearby',\n",
    "  \t'delay'\n",
    "]]"
   ]
  },
  {
   "cell_type": "code",
   "execution_count": 35,
   "id": "a19ed45e",
   "metadata": {},
   "outputs": [],
   "source": [
    "# Export encoders\n",
    "encoders = {\n",
    "\t'le_vehicle': le_vehicle,\n",
    "  \t'le_route': le_route,\n",
    "  \t'le_stop': le_stop,\n",
    "}\n",
    "\n",
    "with open('../models/label_encoders.pickle', 'wb') as handle:\n",
    "\tpickle.dump(encoders, handle, protocol=pickle.HIGHEST_PROTOCOL)"
   ]
  },
  {
   "cell_type": "code",
   "execution_count": 36,
   "id": "7677485b",
   "metadata": {},
   "outputs": [
    {
     "name": "stdout",
     "output_type": "stream",
     "text": [
      "<class 'pandas.core.frame.DataFrame'>\n",
      "Index: 22460 entries, 0 to 22606\n",
      "Data columns (total 25 columns):\n",
      " #   Column                 Non-Null Count  Dtype  \n",
      "---  ------                 --------------  -----  \n",
      " 0   vehicle_id             22460 non-null  int64  \n",
      " 1   occupancy_status       22460 non-null  int64  \n",
      " 2   route_id               22460 non-null  int64  \n",
      " 3   stop_id                22460 non-null  int64  \n",
      " 4   stop_lat               22460 non-null  float64\n",
      " 5   stop_lon               22460 non-null  float64\n",
      " 6   stop_sequence          22460 non-null  int64  \n",
      " 7   trip_progress          22460 non-null  float64\n",
      " 8   wheelchair_boarding    22460 non-null  int64  \n",
      " 9   day_sin                22460 non-null  float64\n",
      " 10  day_cos                22460 non-null  float64\n",
      " 11  sch_day_sin            22460 non-null  float64\n",
      " 12  sch_day_cos            22460 non-null  float64\n",
      " 13  hour_sin               22460 non-null  float64\n",
      " 14  hour_cos               22460 non-null  float64\n",
      " 15  sch_hour_sin           22460 non-null  float64\n",
      " 16  sch_hour_cos           22460 non-null  float64\n",
      " 17  is_weekend             22460 non-null  int64  \n",
      " 18  is_peak_hour           22460 non-null  int64  \n",
      " 19  temperature            22460 non-null  float64\n",
      " 20  windspeed              22460 non-null  float64\n",
      " 21  weather_Mainly clear   22460 non-null  int64  \n",
      " 22  weather_Partly cloudy  22460 non-null  int64  \n",
      " 23  incident_nearby        22460 non-null  float64\n",
      " 24  delay                  22460 non-null  float64\n",
      "dtypes: float64(15), int64(10)\n",
      "memory usage: 4.5 MB\n"
     ]
    }
   ],
   "source": [
    "df.info()"
   ]
  },
  {
   "cell_type": "code",
   "execution_count": 37,
   "id": "2344b1d2",
   "metadata": {},
   "outputs": [],
   "source": [
    "# Export dataframe\n",
    "df.to_csv('../data/preprocessed.csv', index=False)"
   ]
  },
  {
   "cell_type": "markdown",
   "id": "2d2fc389",
   "metadata": {},
   "source": [
    "## End"
   ]
  }
 ],
 "metadata": {
  "kernelspec": {
   "display_name": "base",
   "language": "python",
   "name": "python3"
  },
  "language_info": {
   "codemirror_mode": {
    "name": "ipython",
    "version": 3
   },
   "file_extension": ".py",
   "mimetype": "text/x-python",
   "name": "python",
   "nbconvert_exporter": "python",
   "pygments_lexer": "ipython3",
   "version": "3.12.4"
  }
 },
 "nbformat": 4,
 "nbformat_minor": 5
}
