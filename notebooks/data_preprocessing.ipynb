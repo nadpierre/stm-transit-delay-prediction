{
 "cells": [
  {
   "cell_type": "markdown",
   "id": "7a883801",
   "metadata": {},
   "source": [
    "# STM Transit Delay Data Preprocessing"
   ]
  },
  {
   "cell_type": "markdown",
   "id": "1fb25db2",
   "metadata": {},
   "source": [
    "## Overview"
   ]
  },
  {
   "cell_type": "markdown",
   "id": "13f950b4",
   "metadata": {},
   "source": [
    "This notebook preprocesses data about STM trip updates weather and traffic, data in order to build a regression model that predicts delays in seconds."
   ]
  },
  {
   "cell_type": "markdown",
   "id": "51775b74",
   "metadata": {},
   "source": [
    "## Data Description (to be completed)"
   ]
  },
  {
   "cell_type": "markdown",
   "id": "f39d1571",
   "metadata": {},
   "source": [
    "`trip_id`: Unique identifier for the transit trip.<br>\n",
    "`vehicle_id`: Unique identifier for a vehicle.<br>\n",
    "`vehicle_lat`, `vehicle_lon`: Vehicle current position.<br>\n",
    "`vehicle_distance`: Vehicle distance from the stop, in meters.<br>\n",
    "`vehicle_in_transit`: Indicates if a vehicle is in transit or if it has stopped.<br>\n",
    "`vehicle_bearing`: Direction that the vehicle is facing, from to 360 degrees.<br>\n",
    "`vehicle_speed`: Momentary speed measured by the vehicle, in meters per second.<br>\n",
    "`stop_sequence`: Sequence of the stop, for ordering.<br>\n",
    "`occupancy_status`: Degree of passenger occupancy, ranging from 1 (empty) to 7 (not accepting passengers).<br>\n",
    "`route_id`: Unique identifier for a bus or metro line.<br>\n",
    "`stop_id`: Unique identifier of a stop.<br>\n",
    "`stop_name`: Name of the stop.<br>\n",
    "`stop_lat`, `stop_lon`: Stop coordinates.<br>\n",
    "`trip_progress`: How far along the trip is the vehicle, from 0 (first stop) to 1 (last stop).<br>\n",
    "`wheelchair_boarding`: Indicates if the stop is accessible for people in wheelchair.<br>\n",
    "`rt_arrival_time`, `sch_arrival_time`: Realtime and scheduled arrival time, in UTC.<br>\n",
    "`delay`: Difference between real and scheduled arrival time, in seconds<br>\n",
    "`delay_cat`: Delay magnitude, from very early to very late<br>\n",
    "`temperature`: Air temperature at 2 meters above ground, in Celsius.<br>\n",
    "`precipitation`: Total precipitation (rain, showers, snow) sum of the preceding hour, in millimeters.<br>\n",
    "`windspeed`: Wind speed at 10 meters above ground, in km/h.<br>\n",
    "`weathercode`: World Meteorological Organization (WMO) code, see [Open-Meteo API documentation](https://open-meteo.com/en/docs#weather_variable_documentation) for the list.<br>\n",
    "`incident_nearby`: Indicates if an incident happened within 1.5 km of the vehicle position."
   ]
  },
  {
   "cell_type": "markdown",
   "id": "05c49de4",
   "metadata": {},
   "source": [
    "## Imports"
   ]
  },
  {
   "cell_type": "code",
   "execution_count": 108,
   "id": "e5094a27",
   "metadata": {},
   "outputs": [],
   "source": [
    "import numpy as np\n",
    "import pandas as pd\n",
    "import pickle\n",
    "from sklearn.preprocessing import LabelEncoder, OrdinalEncoder\n",
    "import sys"
   ]
  },
  {
   "cell_type": "code",
   "execution_count": null,
   "id": "568941a9",
   "metadata": {},
   "outputs": [],
   "source": [
    "# Import custom code\n",
    "sys.path.insert(0, '..')\n",
    "from scripts.custom_functions import DELAY_CLASS, LOCAL_TIMEZONE, OCCUPANCY_STATUS"
   ]
  },
  {
   "cell_type": "code",
   "execution_count": 110,
   "id": "353b54de",
   "metadata": {},
   "outputs": [],
   "source": [
    "# Load data\n",
    "df = pd.read_csv('../data/stm_weather_traffic_merged.csv')"
   ]
  },
  {
   "cell_type": "code",
   "execution_count": 111,
   "id": "b56876aa",
   "metadata": {},
   "outputs": [
    {
     "name": "stdout",
     "output_type": "stream",
     "text": [
      "<class 'pandas.core.frame.DataFrame'>\n",
      "RangeIndex: 236704 entries, 0 to 236703\n",
      "Data columns (total 28 columns):\n",
      " #   Column                 Non-Null Count   Dtype  \n",
      "---  ------                 --------------   -----  \n",
      " 0   trip_id                236704 non-null  int64  \n",
      " 1   vehicle_id             236704 non-null  int64  \n",
      " 2   vehicle_in_transit     236704 non-null  int64  \n",
      " 3   vehicle_bearing        236704 non-null  float64\n",
      " 4   vehicle_speed          236704 non-null  float64\n",
      " 5   occupancy_status       236704 non-null  object \n",
      " 6   route_id               236704 non-null  int64  \n",
      " 7   stop_id                236704 non-null  int64  \n",
      " 8   stop_name              236704 non-null  object \n",
      " 9   stop_lat               236704 non-null  float64\n",
      " 10  stop_lon               236704 non-null  float64\n",
      " 11  stop_distance          236704 non-null  float64\n",
      " 12  stop_sequence          236704 non-null  int64  \n",
      " 13  trip_progress          236704 non-null  float64\n",
      " 14  stop_has_alert         236704 non-null  int64  \n",
      " 15  wheelchair_boarding    236704 non-null  int64  \n",
      " 16  schedule_relationship  236704 non-null  object \n",
      " 17  rt_arrival_time        236704 non-null  object \n",
      " 18  sch_arrival_time       236704 non-null  object \n",
      " 19  rt_departure_time      204212 non-null  object \n",
      " 20  sch_departure_time     236704 non-null  object \n",
      " 21  delay                  236704 non-null  float64\n",
      " 22  delay_class            236704 non-null  object \n",
      " 23  temperature            236704 non-null  float64\n",
      " 24  precipitation          236704 non-null  float64\n",
      " 25  windspeed              236704 non-null  float64\n",
      " 26  weather                236704 non-null  object \n",
      " 27  incident_nearby        236704 non-null  int64  \n",
      "dtypes: float64(10), int64(9), object(9)\n",
      "memory usage: 50.6+ MB\n"
     ]
    }
   ],
   "source": [
    "df.info()"
   ]
  },
  {
   "cell_type": "code",
   "execution_count": 112,
   "id": "87d1309d",
   "metadata": {},
   "outputs": [
    {
     "data": {
      "application/vnd.microsoft.datawrangler.viewer.v0+json": {
       "columns": [
        {
         "name": "index",
         "rawType": "int64",
         "type": "integer"
        },
        {
         "name": "trip_id",
         "rawType": "int64",
         "type": "integer"
        },
        {
         "name": "vehicle_id",
         "rawType": "int64",
         "type": "integer"
        },
        {
         "name": "vehicle_in_transit",
         "rawType": "int64",
         "type": "integer"
        },
        {
         "name": "vehicle_bearing",
         "rawType": "float64",
         "type": "float"
        },
        {
         "name": "vehicle_speed",
         "rawType": "float64",
         "type": "float"
        },
        {
         "name": "occupancy_status",
         "rawType": "object",
         "type": "string"
        },
        {
         "name": "route_id",
         "rawType": "int64",
         "type": "integer"
        },
        {
         "name": "stop_id",
         "rawType": "int64",
         "type": "integer"
        },
        {
         "name": "stop_name",
         "rawType": "object",
         "type": "string"
        },
        {
         "name": "stop_lat",
         "rawType": "float64",
         "type": "float"
        },
        {
         "name": "stop_lon",
         "rawType": "float64",
         "type": "float"
        },
        {
         "name": "stop_distance",
         "rawType": "float64",
         "type": "float"
        },
        {
         "name": "stop_sequence",
         "rawType": "int64",
         "type": "integer"
        },
        {
         "name": "trip_progress",
         "rawType": "float64",
         "type": "float"
        },
        {
         "name": "stop_has_alert",
         "rawType": "int64",
         "type": "integer"
        },
        {
         "name": "wheelchair_boarding",
         "rawType": "int64",
         "type": "integer"
        },
        {
         "name": "schedule_relationship",
         "rawType": "object",
         "type": "string"
        },
        {
         "name": "rt_arrival_time",
         "rawType": "object",
         "type": "string"
        },
        {
         "name": "sch_arrival_time",
         "rawType": "object",
         "type": "string"
        },
        {
         "name": "rt_departure_time",
         "rawType": "object",
         "type": "unknown"
        },
        {
         "name": "sch_departure_time",
         "rawType": "object",
         "type": "string"
        },
        {
         "name": "delay",
         "rawType": "float64",
         "type": "float"
        },
        {
         "name": "delay_class",
         "rawType": "object",
         "type": "string"
        },
        {
         "name": "temperature",
         "rawType": "float64",
         "type": "float"
        },
        {
         "name": "precipitation",
         "rawType": "float64",
         "type": "float"
        },
        {
         "name": "windspeed",
         "rawType": "float64",
         "type": "float"
        },
        {
         "name": "weather",
         "rawType": "object",
         "type": "string"
        },
        {
         "name": "incident_nearby",
         "rawType": "int64",
         "type": "integer"
        }
       ],
       "conversionMethod": "pd.DataFrame",
       "ref": "5d99e0e7-3a3f-4b24-aa35-4820640a21be",
       "rows": [
        [
         "0",
         "283855472",
         "32018",
         "1",
         "54.0",
         "0.0",
         "Empty",
         "49",
         "60515",
         "Perras / 81e Avenue",
         "45.668193",
         "-73.549411",
         "99.37555186126076",
         "62",
         "1.0",
         "0",
         "1",
         "Scheduled",
         "2025-04-27 22:09:00+00:00",
         "2025-04-27 22:09:00+00:00",
         null,
         "2025-04-27 22:09:00+00:00",
         "0.0",
         "On Time",
         "11.3",
         "0.0",
         "13.3",
         "Clear sky",
         "0"
        ],
        [
         "1",
         "283854752",
         "32014",
         "0",
         "54.0",
         "0.0",
         "Many seats available",
         "49",
         "55288",
         "Maurice-Duplessis / Langelier",
         "45.616888",
         "-73.615098",
         "457.89511862074886",
         "19",
         "0.3064516129032258",
         "0",
         "1",
         "Scheduled",
         "2025-04-27 22:15:32+00:00",
         "2025-04-27 22:14:00+00:00",
         "2025-04-27 22:15:32+00:00",
         "2025-04-27 22:14:00+00:00",
         "92.0",
         "On Time",
         "11.3",
         "0.0",
         "13.3",
         "Clear sky",
         "0"
        ],
        [
         "2",
         "283854752",
         "32014",
         "1",
         "334.0",
         "11.944540023803713",
         "Empty",
         "49",
         "60320",
         "Saint-Jean-Baptiste / Émilie-Du Châtelet",
         "45.665987",
         "-73.546685",
         "199.29377221327263",
         "60",
         "0.967741935483871",
         "0",
         "1",
         "Scheduled",
         "2025-04-27 22:49:03+00:00",
         "2025-04-27 22:47:31+00:00",
         "2025-04-27 22:49:03+00:00",
         "2025-04-27 22:47:31+00:00",
         "92.0",
         "On Time",
         "11.0",
         "0.0",
         "13.4",
         "Clear sky",
         "0"
        ],
        [
         "3",
         "284752678",
         "31821",
         "0",
         "0.0",
         "0.0",
         "Many seats available",
         "69",
         "53802",
         "Prison de Bordeaux",
         "45.546494",
         "-73.690543",
         "284.1305628450001",
         "51",
         "0.7727272727272727",
         "0",
         "0",
         "Scheduled",
         "2025-04-27 22:14:40+00:00",
         "2025-04-27 22:08:26+00:00",
         "2025-04-27 22:14:40+00:00",
         "2025-04-27 22:08:26+00:00",
         "374.0",
         "Late",
         "11.3",
         "0.0",
         "13.3",
         "Clear sky",
         "0"
        ],
        [
         "4",
         "284215436",
         "33844",
         "1",
         "269.0",
         "5.000040054321289",
         "Many seats available",
         "165",
         "51626",
         "de la Côte-des-Neiges / Blueridge",
         "45.495629",
         "-73.60103",
         "188.00792178576287",
         "9",
         "0.28125",
         "0",
         "0",
         "Scheduled",
         "2025-04-27 22:11:46+00:00",
         "2025-04-27 22:07:00+00:00",
         "2025-04-27 22:11:46+00:00",
         "2025-04-27 22:07:00+00:00",
         "286.0",
         "Late",
         "11.3",
         "0.0",
         "13.3",
         "Clear sky",
         "0"
        ]
       ],
       "shape": {
        "columns": 28,
        "rows": 5
       }
      },
      "text/html": [
       "<div>\n",
       "<style scoped>\n",
       "    .dataframe tbody tr th:only-of-type {\n",
       "        vertical-align: middle;\n",
       "    }\n",
       "\n",
       "    .dataframe tbody tr th {\n",
       "        vertical-align: top;\n",
       "    }\n",
       "\n",
       "    .dataframe thead th {\n",
       "        text-align: right;\n",
       "    }\n",
       "</style>\n",
       "<table border=\"1\" class=\"dataframe\">\n",
       "  <thead>\n",
       "    <tr style=\"text-align: right;\">\n",
       "      <th></th>\n",
       "      <th>trip_id</th>\n",
       "      <th>vehicle_id</th>\n",
       "      <th>vehicle_in_transit</th>\n",
       "      <th>vehicle_bearing</th>\n",
       "      <th>vehicle_speed</th>\n",
       "      <th>occupancy_status</th>\n",
       "      <th>route_id</th>\n",
       "      <th>stop_id</th>\n",
       "      <th>stop_name</th>\n",
       "      <th>stop_lat</th>\n",
       "      <th>...</th>\n",
       "      <th>sch_arrival_time</th>\n",
       "      <th>rt_departure_time</th>\n",
       "      <th>sch_departure_time</th>\n",
       "      <th>delay</th>\n",
       "      <th>delay_class</th>\n",
       "      <th>temperature</th>\n",
       "      <th>precipitation</th>\n",
       "      <th>windspeed</th>\n",
       "      <th>weather</th>\n",
       "      <th>incident_nearby</th>\n",
       "    </tr>\n",
       "  </thead>\n",
       "  <tbody>\n",
       "    <tr>\n",
       "      <th>0</th>\n",
       "      <td>283855472</td>\n",
       "      <td>32018</td>\n",
       "      <td>1</td>\n",
       "      <td>54.0</td>\n",
       "      <td>0.00000</td>\n",
       "      <td>Empty</td>\n",
       "      <td>49</td>\n",
       "      <td>60515</td>\n",
       "      <td>Perras / 81e Avenue</td>\n",
       "      <td>45.668193</td>\n",
       "      <td>...</td>\n",
       "      <td>2025-04-27 22:09:00+00:00</td>\n",
       "      <td>NaN</td>\n",
       "      <td>2025-04-27 22:09:00+00:00</td>\n",
       "      <td>0.0</td>\n",
       "      <td>On Time</td>\n",
       "      <td>11.3</td>\n",
       "      <td>0.0</td>\n",
       "      <td>13.3</td>\n",
       "      <td>Clear sky</td>\n",
       "      <td>0</td>\n",
       "    </tr>\n",
       "    <tr>\n",
       "      <th>1</th>\n",
       "      <td>283854752</td>\n",
       "      <td>32014</td>\n",
       "      <td>0</td>\n",
       "      <td>54.0</td>\n",
       "      <td>0.00000</td>\n",
       "      <td>Many seats available</td>\n",
       "      <td>49</td>\n",
       "      <td>55288</td>\n",
       "      <td>Maurice-Duplessis / Langelier</td>\n",
       "      <td>45.616888</td>\n",
       "      <td>...</td>\n",
       "      <td>2025-04-27 22:14:00+00:00</td>\n",
       "      <td>2025-04-27 22:15:32+00:00</td>\n",
       "      <td>2025-04-27 22:14:00+00:00</td>\n",
       "      <td>92.0</td>\n",
       "      <td>On Time</td>\n",
       "      <td>11.3</td>\n",
       "      <td>0.0</td>\n",
       "      <td>13.3</td>\n",
       "      <td>Clear sky</td>\n",
       "      <td>0</td>\n",
       "    </tr>\n",
       "    <tr>\n",
       "      <th>2</th>\n",
       "      <td>283854752</td>\n",
       "      <td>32014</td>\n",
       "      <td>1</td>\n",
       "      <td>334.0</td>\n",
       "      <td>11.94454</td>\n",
       "      <td>Empty</td>\n",
       "      <td>49</td>\n",
       "      <td>60320</td>\n",
       "      <td>Saint-Jean-Baptiste / Émilie-Du Châtelet</td>\n",
       "      <td>45.665987</td>\n",
       "      <td>...</td>\n",
       "      <td>2025-04-27 22:47:31+00:00</td>\n",
       "      <td>2025-04-27 22:49:03+00:00</td>\n",
       "      <td>2025-04-27 22:47:31+00:00</td>\n",
       "      <td>92.0</td>\n",
       "      <td>On Time</td>\n",
       "      <td>11.0</td>\n",
       "      <td>0.0</td>\n",
       "      <td>13.4</td>\n",
       "      <td>Clear sky</td>\n",
       "      <td>0</td>\n",
       "    </tr>\n",
       "    <tr>\n",
       "      <th>3</th>\n",
       "      <td>284752678</td>\n",
       "      <td>31821</td>\n",
       "      <td>0</td>\n",
       "      <td>0.0</td>\n",
       "      <td>0.00000</td>\n",
       "      <td>Many seats available</td>\n",
       "      <td>69</td>\n",
       "      <td>53802</td>\n",
       "      <td>Prison de Bordeaux</td>\n",
       "      <td>45.546494</td>\n",
       "      <td>...</td>\n",
       "      <td>2025-04-27 22:08:26+00:00</td>\n",
       "      <td>2025-04-27 22:14:40+00:00</td>\n",
       "      <td>2025-04-27 22:08:26+00:00</td>\n",
       "      <td>374.0</td>\n",
       "      <td>Late</td>\n",
       "      <td>11.3</td>\n",
       "      <td>0.0</td>\n",
       "      <td>13.3</td>\n",
       "      <td>Clear sky</td>\n",
       "      <td>0</td>\n",
       "    </tr>\n",
       "    <tr>\n",
       "      <th>4</th>\n",
       "      <td>284215436</td>\n",
       "      <td>33844</td>\n",
       "      <td>1</td>\n",
       "      <td>269.0</td>\n",
       "      <td>5.00004</td>\n",
       "      <td>Many seats available</td>\n",
       "      <td>165</td>\n",
       "      <td>51626</td>\n",
       "      <td>de la Côte-des-Neiges / Blueridge</td>\n",
       "      <td>45.495629</td>\n",
       "      <td>...</td>\n",
       "      <td>2025-04-27 22:07:00+00:00</td>\n",
       "      <td>2025-04-27 22:11:46+00:00</td>\n",
       "      <td>2025-04-27 22:07:00+00:00</td>\n",
       "      <td>286.0</td>\n",
       "      <td>Late</td>\n",
       "      <td>11.3</td>\n",
       "      <td>0.0</td>\n",
       "      <td>13.3</td>\n",
       "      <td>Clear sky</td>\n",
       "      <td>0</td>\n",
       "    </tr>\n",
       "  </tbody>\n",
       "</table>\n",
       "<p>5 rows × 28 columns</p>\n",
       "</div>"
      ],
      "text/plain": [
       "     trip_id  vehicle_id  vehicle_in_transit  vehicle_bearing  vehicle_speed  \\\n",
       "0  283855472       32018                   1             54.0        0.00000   \n",
       "1  283854752       32014                   0             54.0        0.00000   \n",
       "2  283854752       32014                   1            334.0       11.94454   \n",
       "3  284752678       31821                   0              0.0        0.00000   \n",
       "4  284215436       33844                   1            269.0        5.00004   \n",
       "\n",
       "       occupancy_status  route_id  stop_id  \\\n",
       "0                 Empty        49    60515   \n",
       "1  Many seats available        49    55288   \n",
       "2                 Empty        49    60320   \n",
       "3  Many seats available        69    53802   \n",
       "4  Many seats available       165    51626   \n",
       "\n",
       "                                  stop_name   stop_lat  ...  \\\n",
       "0                       Perras / 81e Avenue  45.668193  ...   \n",
       "1             Maurice-Duplessis / Langelier  45.616888  ...   \n",
       "2  Saint-Jean-Baptiste / Émilie-Du Châtelet  45.665987  ...   \n",
       "3                        Prison de Bordeaux  45.546494  ...   \n",
       "4         de la Côte-des-Neiges / Blueridge  45.495629  ...   \n",
       "\n",
       "            sch_arrival_time          rt_departure_time  \\\n",
       "0  2025-04-27 22:09:00+00:00                        NaN   \n",
       "1  2025-04-27 22:14:00+00:00  2025-04-27 22:15:32+00:00   \n",
       "2  2025-04-27 22:47:31+00:00  2025-04-27 22:49:03+00:00   \n",
       "3  2025-04-27 22:08:26+00:00  2025-04-27 22:14:40+00:00   \n",
       "4  2025-04-27 22:07:00+00:00  2025-04-27 22:11:46+00:00   \n",
       "\n",
       "          sch_departure_time  delay  delay_class  temperature precipitation  \\\n",
       "0  2025-04-27 22:09:00+00:00    0.0      On Time         11.3           0.0   \n",
       "1  2025-04-27 22:14:00+00:00   92.0      On Time         11.3           0.0   \n",
       "2  2025-04-27 22:47:31+00:00   92.0      On Time         11.0           0.0   \n",
       "3  2025-04-27 22:08:26+00:00  374.0         Late         11.3           0.0   \n",
       "4  2025-04-27 22:07:00+00:00  286.0         Late         11.3           0.0   \n",
       "\n",
       "  windspeed    weather incident_nearby  \n",
       "0      13.3  Clear sky               0  \n",
       "1      13.3  Clear sky               0  \n",
       "2      13.4  Clear sky               0  \n",
       "3      13.3  Clear sky               0  \n",
       "4      13.3  Clear sky               0  \n",
       "\n",
       "[5 rows x 28 columns]"
      ]
     },
     "execution_count": 112,
     "metadata": {},
     "output_type": "execute_result"
    }
   ],
   "source": [
    "df.head()"
   ]
  },
  {
   "cell_type": "markdown",
   "id": "6e3eb13f",
   "metadata": {},
   "source": [
    "## Data Preprocessing"
   ]
  },
  {
   "cell_type": "markdown",
   "id": "1cdb9b34",
   "metadata": {},
   "source": [
    "### Handle Delay Outliers"
   ]
  },
  {
   "cell_type": "raw",
   "id": "3927862d",
   "metadata": {
    "vscode": {
     "languageId": "raw"
    }
   },
   "source": [
    "df['delay'].describe()"
   ]
  },
  {
   "cell_type": "raw",
   "id": "87b3b85f",
   "metadata": {
    "vscode": {
     "languageId": "raw"
    }
   },
   "source": [
    "# Compute mean and standard deviation\n",
    "mean_delay = df['delay'].mean()\n",
    "std_delay = df['delay'].std()"
   ]
  },
  {
   "cell_type": "raw",
   "id": "2ffd9ad4",
   "metadata": {
    "vscode": {
     "languageId": "raw"
    }
   },
   "source": [
    "# Filter outliers based on standard deviation\n",
    "outlier_mask = (df['delay'] < mean_delay - 3 * std_delay) | (df['delay'] > mean_delay + 3 * std_delay)"
   ]
  },
  {
   "cell_type": "raw",
   "id": "5e800bfd",
   "metadata": {
    "vscode": {
     "languageId": "raw"
    }
   },
   "source": [
    "# Get outliers\n",
    "df[outlier_mask]"
   ]
  },
  {
   "cell_type": "raw",
   "id": "faac02db",
   "metadata": {
    "vscode": {
     "languageId": "raw"
    }
   },
   "source": [
    "# Get proportion of outliers\n",
    "print(f'{outlier_mask.mean():.2%}')"
   ]
  },
  {
   "cell_type": "raw",
   "id": "b138ed79",
   "metadata": {
    "vscode": {
     "languageId": "raw"
    }
   },
   "source": [
    "# Remove outliers\n",
    "df = df[~outlier_mask]"
   ]
  },
  {
   "cell_type": "raw",
   "id": "58964489",
   "metadata": {
    "vscode": {
     "languageId": "raw"
    }
   },
   "source": [
    "# Get new distribution\n",
    "df['delay'].describe()"
   ]
  },
  {
   "cell_type": "markdown",
   "id": "bf2977d0",
   "metadata": {},
   "source": [
    "### Encode Datetime"
   ]
  },
  {
   "cell_type": "code",
   "execution_count": 121,
   "id": "4fc40e12",
   "metadata": {},
   "outputs": [],
   "source": [
    "# Convert scheduled arrival time\n",
    "df['sch_arrival_time'] = pd.to_datetime(df['sch_arrival_time'], utc=True).dt.tz_convert(LOCAL_TIMEZONE)"
   ]
  },
  {
   "cell_type": "code",
   "execution_count": 122,
   "id": "39a22dc0",
   "metadata": {},
   "outputs": [
    {
     "name": "stdout",
     "output_type": "stream",
     "text": [
      "0\n"
     ]
    }
   ],
   "source": [
    "print(df['sch_arrival_time'].isna().sum())"
   ]
  },
  {
   "cell_type": "code",
   "execution_count": 123,
   "id": "462a448b",
   "metadata": {},
   "outputs": [],
   "source": [
    "# Convert datetime to month, day and hour\n",
    "df['month'] = df['sch_arrival_time'].dt.month\n",
    "df['day_of_week'] = df['sch_arrival_time'].dt.day_of_week\n",
    "df['hour'] = df['sch_arrival_time'].dt.hour"
   ]
  },
  {
   "cell_type": "code",
   "execution_count": 124,
   "id": "84ef1b88",
   "metadata": {},
   "outputs": [],
   "source": [
    "# Add boolean value is_weekend\n",
    "weekend_mask = df['day_of_week'].isin([5, 6])\n",
    "df['is_weekend'] = np.where(weekend_mask, 1, 0)"
   ]
  },
  {
   "cell_type": "code",
   "execution_count": 125,
   "id": "6a7aa507",
   "metadata": {},
   "outputs": [],
   "source": [
    "# Add boolean value is_peak_hour (weekdays from 7-9am or 4-6pm)\n",
    "peak_hour_mask = (weekend_mask == False) & (df['hour'].isin([7, 8, 9, 16, 17, 18]))\n",
    "df['is_peak_hour'] = np.where(peak_hour_mask, 1, 0)"
   ]
  },
  {
   "cell_type": "code",
   "execution_count": 126,
   "id": "98fa3898",
   "metadata": {},
   "outputs": [],
   "source": [
    "# Drop datetime columns\n",
    "df = df.drop(['rt_arrival_time', 'rt_departure_time', 'sch_arrival_time', 'sch_departure_time'], axis=1)"
   ]
  },
  {
   "cell_type": "markdown",
   "id": "b208b55d",
   "metadata": {},
   "source": [
    "### Use Label Encoding for vehicle_id, route_id and stop_id"
   ]
  },
  {
   "cell_type": "code",
   "execution_count": 127,
   "id": "561f6e68",
   "metadata": {},
   "outputs": [],
   "source": [
    "le_vehicle = LabelEncoder()\n",
    "df['vehicle_id'] = le_vehicle.fit_transform(df['vehicle_id'])"
   ]
  },
  {
   "cell_type": "code",
   "execution_count": 128,
   "id": "2060fe42",
   "metadata": {},
   "outputs": [],
   "source": [
    "le_route = LabelEncoder()\n",
    "df['route_id'] = le_route.fit_transform(df['route_id'])"
   ]
  },
  {
   "cell_type": "code",
   "execution_count": 129,
   "id": "c9d1c547",
   "metadata": {},
   "outputs": [],
   "source": [
    "le_stop = LabelEncoder()\n",
    "df['stop_id'] = le_stop.fit_transform(df['stop_id'])"
   ]
  },
  {
   "cell_type": "markdown",
   "id": "fd6e81a1",
   "metadata": {},
   "source": [
    "### Use Ordinal Encoding for Occupancy Status and Delay Class"
   ]
  },
  {
   "cell_type": "code",
   "execution_count": 130,
   "id": "b324709b",
   "metadata": {},
   "outputs": [
    {
     "data": {
      "text/plain": [
       "{'Unknown': 0,\n",
       " 'Empty': 1,\n",
       " 'Many seats available': 2,\n",
       " 'Few seats available': 3,\n",
       " 'Standing room only': 4,\n",
       " 'Crushed standing room only': 5,\n",
       " 'Full': 6,\n",
       " 'Not accepting passengers': 7}"
      ]
     },
     "execution_count": 130,
     "metadata": {},
     "output_type": "execute_result"
    }
   ],
   "source": [
    "# Create occupation map\n",
    "occ_map = {}\n",
    "\n",
    "for number, status in OCCUPANCY_STATUS.items():\n",
    "\tocc_map[status] = number\n",
    "\n",
    "occ_map"
   ]
  },
  {
   "cell_type": "code",
   "execution_count": 131,
   "id": "72e3f3ce",
   "metadata": {},
   "outputs": [
    {
     "data": {
      "text/plain": [
       "occupancy_status\n",
       "1    101535\n",
       "2     76302\n",
       "3     52858\n",
       "5      3596\n",
       "0       155\n",
       "Name: count, dtype: int64"
      ]
     },
     "execution_count": 131,
     "metadata": {},
     "output_type": "execute_result"
    }
   ],
   "source": [
    "# Map values\n",
    "df['occupancy_status'] = df['occupancy_status'].map(occ_map)\n",
    "df['occupancy_status'].value_counts()"
   ]
  },
  {
   "cell_type": "code",
   "execution_count": 132,
   "id": "370e17dd",
   "metadata": {},
   "outputs": [
    {
     "data": {
      "text/plain": [
       "{'Very Early': 0, 'Early': 1, 'On Time': 2, 'Late': 3, 'Very Late': 4}"
      ]
     },
     "execution_count": 132,
     "metadata": {},
     "output_type": "execute_result"
    }
   ],
   "source": [
    "# Create delay map\n",
    "delay_map = {}\n",
    "\n",
    "for number, cat in DELAY_CLASS.items():\n",
    "\tdelay_map[cat] = number\n",
    "\n",
    "delay_map"
   ]
  },
  {
   "cell_type": "code",
   "execution_count": 133,
   "id": "c89fc498",
   "metadata": {},
   "outputs": [
    {
     "data": {
      "text/plain": [
       "delay_class\n",
       "2    186276\n",
       "3     26111\n",
       "4      9279\n",
       "0      7658\n",
       "1      5122\n",
       "Name: count, dtype: int64"
      ]
     },
     "execution_count": 133,
     "metadata": {},
     "output_type": "execute_result"
    }
   ],
   "source": [
    "# Map values\n",
    "df['delay_class'] = df['delay_class'].map(delay_map)\n",
    "df['delay_class'].value_counts()"
   ]
  },
  {
   "cell_type": "markdown",
   "id": "227505d8",
   "metadata": {},
   "source": [
    "### Use One Hot Encoding for Weather and Schedule Relationship"
   ]
  },
  {
   "cell_type": "code",
   "execution_count": 134,
   "id": "600214ee",
   "metadata": {},
   "outputs": [
    {
     "data": {
      "text/plain": [
       "weather\n",
       "Overcast            100355\n",
       "Clear sky            69098\n",
       "Mainly clear         22403\n",
       "Partly cloudy        17453\n",
       "Light drizzle        14487\n",
       "Slight rain           7652\n",
       "Dense drizzle         2264\n",
       "Moderate drizzle       734\n",
       "Name: count, dtype: int64"
      ]
     },
     "execution_count": 134,
     "metadata": {},
     "output_type": "execute_result"
    }
   ],
   "source": [
    "df['weather'].value_counts()"
   ]
  },
  {
   "cell_type": "code",
   "execution_count": 135,
   "id": "d4faa15c",
   "metadata": {},
   "outputs": [
    {
     "data": {
      "text/plain": [
       "weather\n",
       "Cloudy       140211\n",
       "Clear sky     69098\n",
       "Drizzle       17485\n",
       "Rain           7652\n",
       "Name: count, dtype: int64"
      ]
     },
     "execution_count": 135,
     "metadata": {},
     "output_type": "execute_result"
    }
   ],
   "source": [
    "# Collapse categories\n",
    "df['weather'] = np.where(df['weather'].isin(['Mainly clear', 'Partly cloudy', 'Overcast']), 'Cloudy', df['weather'])\n",
    "df['weather'] = np.where(df['weather'].isin(['Light drizzle', 'Moderate drizzle', 'Dense drizzle']), 'Drizzle', df['weather'])\n",
    "df['weather'] = np.where(df['weather'].isin(['Slight rain', 'Moderate rain']), 'Rain', df['weather'])\n",
    "df['weather'].value_counts()"
   ]
  },
  {
   "cell_type": "code",
   "execution_count": 136,
   "id": "62d17fe7",
   "metadata": {},
   "outputs": [],
   "source": [
    "# Use One Hot Encoding for weather\n",
    "one_hot = pd.get_dummies(df['weather'], drop_first=True, dtype='int64', prefix='weather')\n",
    "df = df.join(one_hot).drop('weather', axis=1)"
   ]
  },
  {
   "cell_type": "code",
   "execution_count": 137,
   "id": "e8d8e373",
   "metadata": {},
   "outputs": [
    {
     "data": {
      "text/plain": [
       "Index(['stop_name', 'schedule_relationship'], dtype='object')"
      ]
     },
     "execution_count": 137,
     "metadata": {},
     "output_type": "execute_result"
    }
   ],
   "source": [
    "# Get remaining string columns\n",
    "df.select_dtypes(include='object').columns"
   ]
  },
  {
   "cell_type": "code",
   "execution_count": 138,
   "id": "964a2fed",
   "metadata": {},
   "outputs": [
    {
     "data": {
      "text/plain": [
       "schedule_relationship\n",
       "Scheduled    234094\n",
       "Skipped         348\n",
       "No Data           4\n",
       "Name: count, dtype: int64"
      ]
     },
     "execution_count": 138,
     "metadata": {},
     "output_type": "execute_result"
    }
   ],
   "source": [
    "df['schedule_relationship'].value_counts()"
   ]
  },
  {
   "cell_type": "code",
   "execution_count": 139,
   "id": "6b0d7382",
   "metadata": {},
   "outputs": [],
   "source": [
    "# Use One Hot Encoding for schedule_relationship\n",
    "one_hot = pd.get_dummies(df['schedule_relationship'], drop_first=True, dtype='int64', prefix='schedule_relationship')\n",
    "df = df.join(one_hot).drop('schedule_relationship', axis=1)"
   ]
  },
  {
   "cell_type": "markdown",
   "id": "c83d093d",
   "metadata": {},
   "source": [
    "## Export Data"
   ]
  },
  {
   "cell_type": "code",
   "execution_count": 140,
   "id": "ea440349",
   "metadata": {},
   "outputs": [
    {
     "data": {
      "text/plain": [
       "Index(['trip_id', 'vehicle_id', 'vehicle_in_transit', 'vehicle_bearing',\n",
       "       'vehicle_speed', 'occupancy_status', 'route_id', 'stop_id', 'stop_name',\n",
       "       'stop_lat', 'stop_lon', 'stop_distance', 'stop_sequence',\n",
       "       'trip_progress', 'stop_has_alert', 'wheelchair_boarding', 'delay',\n",
       "       'delay_class', 'temperature', 'precipitation', 'windspeed',\n",
       "       'incident_nearby', 'month', 'day_of_week', 'hour', 'is_weekend',\n",
       "       'is_peak_hour', 'weather_Cloudy', 'weather_Drizzle', 'weather_Rain',\n",
       "       'schedule_relationship_Scheduled', 'schedule_relationship_Skipped'],\n",
       "      dtype='object')"
      ]
     },
     "execution_count": 140,
     "metadata": {},
     "output_type": "execute_result"
    }
   ],
   "source": [
    "df.columns"
   ]
  },
  {
   "cell_type": "markdown",
   "id": "c598daa5",
   "metadata": {},
   "source": [
    "**Columns to drop**\n",
    "\n",
    "`trip_id`: A trip is associated with a vehichle, a route and a date.<br>\n",
    "`stop_name`: There's already the stop id.<br>\n",
    "`delay`: The delay class has been created."
   ]
  },
  {
   "cell_type": "code",
   "execution_count": 141,
   "id": "89feaf25",
   "metadata": {},
   "outputs": [],
   "source": [
    "# Keep relevant columns and reorder\n",
    "df = df[[\n",
    "    \t'vehicle_id', \n",
    "    \t'vehicle_in_transit',\n",
    "    \t'vehicle_bearing',\n",
    "       \t'vehicle_speed',\n",
    "    \t'occupancy_status',\n",
    "    \t'route_id',\n",
    "    \t'stop_id',\n",
    "       \t'stop_lat', \n",
    "     \t'stop_lon',\n",
    "    \t'stop_distance',\n",
    "    \t'stop_sequence',\n",
    "       \t'trip_progress',\n",
    "    \t'stop_has_alert',\n",
    "    \t'wheelchair_boarding',\n",
    "       \t'schedule_relationship_Scheduled',\n",
    "     \t'schedule_relationship_Skipped',\n",
    "     \t'temperature',\n",
    "    \t'precipitation',\n",
    "    \t'windspeed',\n",
    "    \t'month',\n",
    "    \t'day_of_week',\n",
    "    \t'hour',\n",
    "    \t'is_weekend',\n",
    "       \t'is_peak_hour',\n",
    "    \t'weather_Cloudy',\n",
    "    \t'weather_Drizzle',\n",
    "    \t'weather_Rain',\n",
    "      \t'incident_nearby',\n",
    "        'delay',\n",
    "       \t'delay_class',\n",
    "]]"
   ]
  },
  {
   "cell_type": "code",
   "execution_count": 142,
   "id": "a19ed45e",
   "metadata": {},
   "outputs": [],
   "source": [
    "# Export encoders\n",
    "encoders = {\n",
    "\t'le_vehicle': le_vehicle,\n",
    "  \t'le_route': le_route,\n",
    "  \t'le_stop': le_stop,\n",
    "}\n",
    "\n",
    "with open('../models/label_encoders.pkl', 'wb') as handle:\n",
    "\tpickle.dump(encoders, handle, protocol=pickle.HIGHEST_PROTOCOL)"
   ]
  },
  {
   "cell_type": "code",
   "execution_count": 143,
   "id": "858d5004",
   "metadata": {},
   "outputs": [
    {
     "data": {
      "text/plain": [
       "True"
      ]
     },
     "execution_count": 143,
     "metadata": {},
     "output_type": "execute_result"
    }
   ],
   "source": [
    "# Assert all columns are numeric\n",
    "len(df.columns) == len(df.select_dtypes([np.number]).columns)"
   ]
  },
  {
   "cell_type": "code",
   "execution_count": 144,
   "id": "7677485b",
   "metadata": {},
   "outputs": [
    {
     "name": "stdout",
     "output_type": "stream",
     "text": [
      "<class 'pandas.core.frame.DataFrame'>\n",
      "Index: 234446 entries, 0 to 236703\n",
      "Data columns (total 30 columns):\n",
      " #   Column                           Non-Null Count   Dtype  \n",
      "---  ------                           --------------   -----  \n",
      " 0   vehicle_id                       234446 non-null  int64  \n",
      " 1   vehicle_in_transit               234446 non-null  int64  \n",
      " 2   vehicle_bearing                  234446 non-null  float64\n",
      " 3   vehicle_speed                    234446 non-null  float64\n",
      " 4   occupancy_status                 234446 non-null  int64  \n",
      " 5   route_id                         234446 non-null  int64  \n",
      " 6   stop_id                          234446 non-null  int64  \n",
      " 7   stop_lat                         234446 non-null  float64\n",
      " 8   stop_lon                         234446 non-null  float64\n",
      " 9   stop_distance                    234446 non-null  float64\n",
      " 10  stop_sequence                    234446 non-null  int64  \n",
      " 11  trip_progress                    234446 non-null  float64\n",
      " 12  stop_has_alert                   234446 non-null  int64  \n",
      " 13  wheelchair_boarding              234446 non-null  int64  \n",
      " 14  schedule_relationship_Scheduled  234446 non-null  int64  \n",
      " 15  schedule_relationship_Skipped    234446 non-null  int64  \n",
      " 16  temperature                      234446 non-null  float64\n",
      " 17  precipitation                    234446 non-null  float64\n",
      " 18  windspeed                        234446 non-null  float64\n",
      " 19  month                            234446 non-null  int32  \n",
      " 20  day_of_week                      234446 non-null  int32  \n",
      " 21  hour                             234446 non-null  int32  \n",
      " 22  is_weekend                       234446 non-null  int64  \n",
      " 23  is_peak_hour                     234446 non-null  int64  \n",
      " 24  weather_Cloudy                   234446 non-null  int64  \n",
      " 25  weather_Drizzle                  234446 non-null  int64  \n",
      " 26  weather_Rain                     234446 non-null  int64  \n",
      " 27  incident_nearby                  234446 non-null  int64  \n",
      " 28  delay                            234446 non-null  float64\n",
      " 29  delay_class                      234446 non-null  int64  \n",
      "dtypes: float64(10), int32(3), int64(17)\n",
      "memory usage: 52.8 MB\n"
     ]
    }
   ],
   "source": [
    "df.info()"
   ]
  },
  {
   "cell_type": "code",
   "execution_count": 145,
   "id": "2344b1d2",
   "metadata": {},
   "outputs": [],
   "source": [
    "# Export dataframe\n",
    "df.to_csv('../data/preprocessed.csv', index=False)"
   ]
  },
  {
   "cell_type": "markdown",
   "id": "2d2fc389",
   "metadata": {},
   "source": [
    "## End"
   ]
  }
 ],
 "metadata": {
  "kernelspec": {
   "display_name": "venv",
   "language": "python",
   "name": "python3"
  },
  "language_info": {
   "codemirror_mode": {
    "name": "ipython",
    "version": 3
   },
   "file_extension": ".py",
   "mimetype": "text/x-python",
   "name": "python",
   "nbconvert_exporter": "python",
   "pygments_lexer": "ipython3",
   "version": "3.13.3"
  }
 },
 "nbformat": 4,
 "nbformat_minor": 5
}
