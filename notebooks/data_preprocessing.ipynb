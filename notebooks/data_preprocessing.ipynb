{
 "cells": [
  {
   "cell_type": "markdown",
   "id": "7a883801",
   "metadata": {},
   "source": [
    "# STM Transit Delay Feature Engineering and Data Preprocessing"
   ]
  },
  {
   "cell_type": "markdown",
   "id": "13f950b4",
   "metadata": {},
   "source": [
    "This notebook preprocesses data about STM trip updates and historical weather data."
   ]
  },
  {
   "cell_type": "markdown",
   "id": "51775b74",
   "metadata": {},
   "source": [
    "## Data Description"
   ]
  },
  {
   "cell_type": "markdown",
   "id": "f39d1571",
   "metadata": {},
   "source": [
    "`trip_id` unique identifier of a trip<br>\n",
    "`route_id` bus or metro line<br>\n",
    "`stop_id` stop number<br>\n",
    "`stop_lat`stop latitude<br>\n",
    "`stop_lon`stop longitude<br>\n",
    "`stop_sequence` sequence of the stop, for ordering<br>\n",
    "`wheelchair_boarding` indicates if the stop is accessible for people in wheelchair, 1 being true and 2 being false<br>\n",
    "`realtime_arrival_time` actual arrival time, in milliseconds<br>\n",
    "`scheduled_arrival_time` planned arrival time, in milliseconds<br>\n",
    "`temperature` air temperature at 2 meters above ground, in Celsius<br>\n",
    "`precipitation` total precipitation (rain, showers, snow) sum of the preceding hour, in millimeters<br>\n",
    "`windspeed` wind speed at 10 meters above ground, in km/h<br>\n",
    "`weathercode` World Meteorological Organization (WMO) code<br>"
   ]
  },
  {
   "cell_type": "markdown",
   "id": "05c49de4",
   "metadata": {},
   "source": [
    "## Imports"
   ]
  },
  {
   "cell_type": "code",
   "execution_count": null,
   "id": "e5094a27",
   "metadata": {},
   "outputs": [],
   "source": [
    "import numpy as np\n",
    "import pandas as pd\n",
    "import pickle\n",
    "from sklearn.decomposition import PCA\n",
    "from sklearn.preprocessing import LabelEncoder, StandardScaler\n",
    "import sys"
   ]
  },
  {
   "cell_type": "code",
   "execution_count": null,
   "id": "568941a9",
   "metadata": {},
   "outputs": [],
   "source": [
    "# Import custom code\n",
    "sys.path.insert(0, '..')\n",
    "from scripts.custom_functions import LOCAL_TIMEZONE, WEATHER_CODES"
   ]
  },
  {
   "cell_type": "code",
   "execution_count": null,
   "id": "353b54de",
   "metadata": {},
   "outputs": [],
   "source": [
    "# Load data\n",
    "df = pd.read_csv('../data/stm_weather_merged.csv')"
   ]
  },
  {
   "cell_type": "markdown",
   "id": "f2b3d765",
   "metadata": {},
   "source": [
    "## Feature Engineering"
   ]
  },
  {
   "cell_type": "code",
   "execution_count": null,
   "id": "76d01917",
   "metadata": {},
   "outputs": [],
   "source": [
    "# Sort data\n",
    "df = df.sort_values(by=['trip_id', 'stop_sequence'])"
   ]
  },
  {
   "cell_type": "code",
   "execution_count": null,
   "id": "c1aecec5",
   "metadata": {},
   "outputs": [],
   "source": [
    "# Convert real and scheduled timestamps\n",
    "df['realtime_arrival_time'] = pd.to_datetime(df['realtime_arrival_time'], origin='unix', unit='ms', utc=True)\n",
    "df['scheduled_arrival_time'] = pd.to_datetime(df['scheduled_arrival_time'], origin='unix', unit='ms', utc=True)"
   ]
  },
  {
   "cell_type": "code",
   "execution_count": null,
   "id": "d7c9b3a2",
   "metadata": {},
   "outputs": [],
   "source": [
    "# Calculate delay in seconds (real - scheduled)\n",
    "df['delay'] = (df['realtime_arrival_time'] - df['scheduled_arrival_time']).dt.total_seconds()"
   ]
  },
  {
   "cell_type": "markdown",
   "id": "6e3eb13f",
   "metadata": {},
   "source": [
    "## Data Preprocessing"
   ]
  },
  {
   "cell_type": "markdown",
   "id": "bf2977d0",
   "metadata": {},
   "source": [
    "### Encode Datetime"
   ]
  },
  {
   "cell_type": "code",
   "execution_count": null,
   "id": "f00cdc1f",
   "metadata": {},
   "outputs": [],
   "source": [
    "# Convert realtime arrival to local timezone\n",
    "df['realtime_arrival_time'] = df['realtime_arrival_time'].dt.tz_convert(LOCAL_TIMEZONE)\n",
    "df.head()"
   ]
  },
  {
   "cell_type": "code",
   "execution_count": null,
   "id": "1fd200a3",
   "metadata": {},
   "outputs": [],
   "source": [
    "# Convert datetime to integers\n",
    "df['day'] = df['realtime_arrival_time'].dt.day_of_week\n",
    "df['hour'] = df['realtime_arrival_time'].dt.hour"
   ]
  },
  {
   "cell_type": "code",
   "execution_count": null,
   "id": "ead16beb",
   "metadata": {},
   "outputs": [],
   "source": [
    "# Use Cyclical Encoding for day and hour, as it's more suitable for time-related features\n",
    "# And the model can \"understand\" the wrap-around\n",
    "df['day_sin'] = np.sin(2 * np.pi * df['day'] / 7)\n",
    "df['day_cos'] = np.cos(2 * np.pi * df['day'] / 7)\n",
    "\n",
    "df['hour_sin'] = np.sin(2 * np.pi * df['hour'] / 24)\n",
    "df['hour_cos'] = np.cos(2 * np.pi * df['hour'] / 24)"
   ]
  },
  {
   "cell_type": "code",
   "execution_count": null,
   "id": "84ef1b88",
   "metadata": {},
   "outputs": [],
   "source": [
    "# Add boolean value is_weekend\n",
    "weekend_mask = df['day'].isin([5, 6])\n",
    "df['is_weekend'] = np.where(weekend_mask, 1, 0)"
   ]
  },
  {
   "cell_type": "code",
   "execution_count": null,
   "id": "6a7aa507",
   "metadata": {},
   "outputs": [],
   "source": [
    "# Add boolean value is_peak_hour (weekdays from 7-9am or 4-6pm)\n",
    "peak_hour_mask = (weekend_mask == False) & (df['hour'].isin([7, 8, 9, 16, 17, 18]))\n",
    "df['is_peak_hour'] = np.where(peak_hour_mask, 1, 0)"
   ]
  },
  {
   "cell_type": "markdown",
   "id": "94fd3a43",
   "metadata": {},
   "source": [
    "### Convert boolean columns to integer"
   ]
  },
  {
   "cell_type": "code",
   "execution_count": null,
   "id": "3c370ed4",
   "metadata": {},
   "outputs": [],
   "source": [
    "df['wheelchair_boarding'] = df['wheelchair_boarding'].astype('int64')"
   ]
  },
  {
   "cell_type": "markdown",
   "id": "b208b55d",
   "metadata": {},
   "source": [
    "### Use Label Encoding for route_id and stop_id"
   ]
  },
  {
   "cell_type": "code",
   "execution_count": null,
   "id": "2060fe42",
   "metadata": {},
   "outputs": [],
   "source": [
    "le_route = LabelEncoder()\n",
    "df['route_id'] = le_route.fit_transform(df['route_id'])"
   ]
  },
  {
   "cell_type": "code",
   "execution_count": null,
   "id": "c9d1c547",
   "metadata": {},
   "outputs": [],
   "source": [
    "le_stop = LabelEncoder()\n",
    "df['stop_id'] = le_stop.fit_transform(df['stop_id'])"
   ]
  },
  {
   "cell_type": "markdown",
   "id": "227505d8",
   "metadata": {},
   "source": [
    "### Convert weathercode Into Categories"
   ]
  },
  {
   "cell_type": "code",
   "execution_count": null,
   "id": "600214ee",
   "metadata": {},
   "outputs": [],
   "source": [
    "# Create weather code mapping\n",
    "weathercodes = df['weathercode'].sort_values().unique()\n",
    "condition_list = []\n",
    "label_list = []\n",
    "\n",
    "for code in weathercodes:\n",
    "  condition_list.append(df['weathercode'] == code)\n",
    "  label_list.append(WEATHER_CODES[code])"
   ]
  },
  {
   "cell_type": "code",
   "execution_count": null,
   "id": "d4faa15c",
   "metadata": {},
   "outputs": [],
   "source": [
    "# Create categories\n",
    "df['weather'] = np.select(condition_list, label_list, default='Unknown')"
   ]
  },
  {
   "cell_type": "code",
   "execution_count": null,
   "id": "8f65f239",
   "metadata": {},
   "outputs": [],
   "source": [
    "# Use One Hot Encoding\n",
    "one_hot = pd.get_dummies(df['weather'], drop_first=True, dtype='int64', prefix='weather')\n",
    "df = df.drop(['weathercode', 'weather'], axis=1).join(one_hot)"
   ]
  },
  {
   "cell_type": "markdown",
   "id": "399485e1",
   "metadata": {},
   "source": [
    "### Reduce station coordinates to one feature (PCA)"
   ]
  },
  {
   "cell_type": "code",
   "execution_count": null,
   "id": "03b5b1dd",
   "metadata": {},
   "outputs": [],
   "source": [
    "stop_coords = df[['stop_lat', 'stop_lon']]\n",
    "stop_coords"
   ]
  },
  {
   "cell_type": "code",
   "execution_count": null,
   "id": "aa7f36e7",
   "metadata": {},
   "outputs": [],
   "source": [
    "# Scale the coordinates because PCA works best with normalized features\n",
    "scaler_coord = StandardScaler()\n",
    "coords_scaled = scaler_coord.fit_transform(stop_coords)\n",
    "coords_scaled"
   ]
  },
  {
   "cell_type": "code",
   "execution_count": null,
   "id": "9a869dfd",
   "metadata": {},
   "outputs": [],
   "source": [
    "# Apply PCA\n",
    "pca = PCA(n_components=1)\n",
    "pca_coords = pca.fit_transform(coords_scaled)\n",
    "df['pca_coords'] = pca_coords"
   ]
  },
  {
   "cell_type": "markdown",
   "id": "c83d093d",
   "metadata": {},
   "source": [
    "## Export Data"
   ]
  },
  {
   "cell_type": "code",
   "execution_count": null,
   "id": "ea440349",
   "metadata": {},
   "outputs": [],
   "source": [
    "df.columns"
   ]
  },
  {
   "cell_type": "code",
   "execution_count": null,
   "id": "89feaf25",
   "metadata": {},
   "outputs": [],
   "source": [
    "# Keep encoded columns and reorder them\n",
    "df = df[[ 'route_id', 'stop_id', 'pca_coords', 'stop_sequence',\n",
    "  \t\t'wheelchair_boarding', 'day_sin', 'day_cos', 'hour_sin', 'hour_cos', \n",
    "  \t\t'is_weekend', 'is_peak_hour', 'delay_previous_stop', \n",
    "  \t\t'temperature', 'precipitation', 'windspeed', 'weather_Dense drizzle', 'weather_Light drizzle',\n",
    "  \t\t'weather_Mainly clear', 'weather_Moderate drizzle', 'weather_Moderate rain', 'weather_Overcast',\n",
    "  \t\t'weather_Partly cloudy', 'weather_Slight rain', 'delay']]"
   ]
  },
  {
   "cell_type": "code",
   "execution_count": null,
   "id": "a19ed45e",
   "metadata": {},
   "outputs": [],
   "source": [
    "# Export encoders\n",
    "encoders = {\n",
    "  'le_route': le_route,\n",
    "  'le_stop': le_stop\n",
    "}\n",
    "with open('../models/label_encoders.pickle', 'wb') as handle:\n",
    "\tpickle.dump(encoders, handle, protocol=pickle.HIGHEST_PROTOCOL)"
   ]
  },
  {
   "cell_type": "code",
   "execution_count": null,
   "id": "6a7f38e6",
   "metadata": {},
   "outputs": [],
   "source": [
    "# Export scaler\n",
    "with open('../models/coord_scaler.pickle', 'wb') as handle:\n",
    "\tpickle.dump(scaler_coord, handle, protocol=pickle.HIGHEST_PROTOCOL)"
   ]
  },
  {
   "cell_type": "code",
   "execution_count": null,
   "id": "20a85e90",
   "metadata": {},
   "outputs": [],
   "source": [
    "# Export coordinates PCA\n",
    "with open('../models/coord_pca.pickle', 'wb') as handle:\n",
    "\tpickle.dump(pca_coords, handle, protocol=pickle.HIGHEST_PROTOCOL)"
   ]
  },
  {
   "cell_type": "code",
   "execution_count": null,
   "id": "7677485b",
   "metadata": {},
   "outputs": [],
   "source": [
    "df.info()"
   ]
  },
  {
   "cell_type": "code",
   "execution_count": null,
   "id": "e1ab5c34",
   "metadata": {},
   "outputs": [],
   "source": [
    "df.head(10).to_csv('sample.csv', index=False)"
   ]
  },
  {
   "cell_type": "code",
   "execution_count": null,
   "id": "2344b1d2",
   "metadata": {},
   "outputs": [],
   "source": [
    "# Export dataframe\n",
    "df.to_csv('../data/preprocessed.csv', index=False)"
   ]
  },
  {
   "cell_type": "markdown",
   "id": "2d2fc389",
   "metadata": {},
   "source": [
    "## End"
   ]
  }
 ],
 "metadata": {
  "kernelspec": {
   "display_name": "base",
   "language": "python",
   "name": "python3"
  },
  "language_info": {
   "codemirror_mode": {
    "name": "ipython",
    "version": 3
   },
   "file_extension": ".py",
   "mimetype": "text/x-python",
   "name": "python",
   "nbconvert_exporter": "python",
   "pygments_lexer": "ipython3",
   "version": "3.12.4"
  }
 },
 "nbformat": 4,
 "nbformat_minor": 5
}
