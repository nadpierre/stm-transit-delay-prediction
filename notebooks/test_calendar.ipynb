{
 "cells": [
  {
   "cell_type": "code",
   "execution_count": 51,
   "id": "703b5d4b",
   "metadata": {},
   "outputs": [],
   "source": [
    "import joblib\n",
    "import os\n",
    "import pandas as pd\n",
    "import random"
   ]
  },
  {
   "cell_type": "code",
   "execution_count": 2,
   "id": "6a8294ad",
   "metadata": {},
   "outputs": [],
   "source": [
    "import sys\n",
    "# Import custom code\n",
    "sys.path.insert(0, '..')\n",
    "from src.constants import ROOT_DIR, DATA_DIR, DOWNLOAD_DIR, LOCAL_TIMEZONE\n",
    "from src.helper_functions import fetch_weather, parse_gtfs_time, get_route_bearing"
   ]
  },
  {
   "cell_type": "code",
   "execution_count": 3,
   "id": "d037f951",
   "metadata": {},
   "outputs": [],
   "source": [
    "data_path = os.path.join(ROOT_DIR, DATA_DIR)\n",
    "download_path = os.path.join(data_path, DOWNLOAD_DIR)\n",
    "routes_path = os.path.join(download_path, 'routes.txt')\n",
    "trips_path = os.path.join(download_path, 'trips.txt')\n",
    "stop_times_path = os.path.join(download_path, 'stop_times.txt')\n",
    "calendar_path = os.path.join(download_path, 'calendar.txt')\n",
    "stops_path = os.path.join(data_path, 'stops_with_clusters.csv')\n",
    "avg_delay_path = os.path.join(data_path, 'hist_avg_delays.csv')"
   ]
  },
  {
   "cell_type": "code",
   "execution_count": 4,
   "id": "9dcd1466",
   "metadata": {},
   "outputs": [],
   "source": [
    "routes_df = pd.read_csv(routes_path)\n",
    "trips_df = pd.read_csv(trips_path)\n",
    "stop_times_df = pd.read_csv(stop_times_path)\n",
    "stops_df = pd.read_csv(stops_path)\n",
    "calendar_df = pd.read_csv(calendar_path, parse_dates=['start_date', 'end_date'], date_format='%Y%m%d')\n",
    "avg_delay_df = pd.read_csv(avg_delay_path)\n",
    "sch_rel_weights = joblib.load('../models/sch_rel_weights.pkl')"
   ]
  },
  {
   "cell_type": "code",
   "execution_count": 5,
   "id": "0dc31730",
   "metadata": {},
   "outputs": [],
   "source": [
    "# Convert calendar start and end date to local timezone\n",
    "calendar_df['start_date'] = calendar_df['start_date'].dt.tz_localize(LOCAL_TIMEZONE)\n",
    "calendar_df['end_date'] = calendar_df['end_date'].dt.tz_localize(LOCAL_TIMEZONE) + pd.Timedelta(days=1)"
   ]
  },
  {
   "cell_type": "code",
   "execution_count": 6,
   "id": "baa158c2",
   "metadata": {},
   "outputs": [],
   "source": [
    " trip_data = {}"
   ]
  },
  {
   "cell_type": "code",
   "execution_count": 9,
   "id": "ccb75558",
   "metadata": {},
   "outputs": [
    {
     "data": {
      "text/plain": [
       "Timestamp('2025-05-17 16:00:20.588307-0400', tz='Canada/Eastern')"
      ]
     },
     "execution_count": 9,
     "metadata": {},
     "output_type": "execute_result"
    }
   ],
   "source": [
    "chosen_time_local = pd.Timestamp.now(tz=LOCAL_TIMEZONE)\n",
    "chosen_time_local"
   ]
  },
  {
   "cell_type": "code",
   "execution_count": 10,
   "id": "ace04f93",
   "metadata": {},
   "outputs": [],
   "source": [
    "# Create day of week filters\n",
    "day_mask = False\n",
    "day_of_week = chosen_time_local.day_of_week\n",
    "match day_of_week:\n",
    "\tcase 0:\n",
    "\t\tday_mask = calendar_df['monday'] == 1\n",
    "\tcase 1:\n",
    "\t\tday_mask = calendar_df['tuesday'] == 1\n",
    "\tcase 2:\n",
    "\t\tday_mask = calendar_df['wednesday'] == 1\n",
    "\tcase 3:\n",
    "\t\tday_mask = calendar_df['thursday'] == 1\n",
    "\tcase 4:\n",
    "\t\tday_mask = calendar_df['friday'] == 1\n",
    "\tcase 5:\n",
    "\t\tday_mask = calendar_df['saturday'] == 1\n",
    "\tcase 6:\n",
    "\t\tday_mask = calendar_df['sunday'] == 1"
   ]
  },
  {
   "cell_type": "code",
   "execution_count": null,
   "id": "b9519c89",
   "metadata": {},
   "outputs": [],
   "source": [
    "# Filter calendar\n",
    "date_mask = (chosen_time_local >= calendar_df['start_date']) & (chosen_time_local <= calendar_df['end_date'])\n",
    "filtered_calendar = calendar_df[day_mask & date_mask]\n",
    "service_ids = filtered_calendar['service_id'].unique().tolist()"
   ]
  },
  {
   "cell_type": "code",
   "execution_count": null,
   "id": "3aa748b8",
   "metadata": {},
   "outputs": [],
   "source": [
    "# Filter trips\n",
    "filtered_trips_df = trips_df[trips_df['service_id'].isin(service_ids)]"
   ]
  },
  {
   "cell_type": "code",
   "execution_count": 13,
   "id": "5c0775dc",
   "metadata": {},
   "outputs": [],
   "source": [
    "# Merge stop times with trips\n",
    "merged_stop_times = pd.merge(left=stop_times_df, right=filtered_trips_df, how='inner', on='trip_id')"
   ]
  },
  {
   "cell_type": "code",
   "execution_count": 14,
   "id": "042f768d",
   "metadata": {},
   "outputs": [],
   "source": [
    "  # Add chosen time and start date\n",
    "  merged_stop_times['chosen_time'] = chosen_time_local\n",
    "  merged_stop_times['start_date'] = pd.to_datetime(merged_stop_times['chosen_time'].dt.date)"
   ]
  },
  {
   "cell_type": "code",
   "execution_count": null,
   "id": "2f214722",
   "metadata": {},
   "outputs": [
    {
     "data": {
      "text/plain": [
       "0        2025-05-17\n",
       "1        2025-05-17\n",
       "2        2025-05-17\n",
       "3        2025-05-17\n",
       "4        2025-05-17\n",
       "            ...    \n",
       "496820   2025-05-17\n",
       "496821   2025-05-17\n",
       "496822   2025-05-17\n",
       "496823   2025-05-17\n",
       "496824   2025-05-17\n",
       "Name: start_date, Length: 496825, dtype: datetime64[ns]"
      ]
     },
     "execution_count": 15,
     "metadata": {},
     "output_type": "execute_result"
    }
   ],
   "source": [
    "merged_stop_times['start_date']"
   ]
  },
  {
   "cell_type": "code",
   "execution_count": 17,
   "id": "0dc462da",
   "metadata": {},
   "outputs": [],
   "source": [
    "# Parse scheduled arrival time\n",
    "merged_stop_times['sch_arrival_time'] = parse_gtfs_time(merged_stop_times, 'start_date', 'arrival_time', unit='ns')"
   ]
  },
  {
   "cell_type": "code",
   "execution_count": 18,
   "id": "2ac4266b",
   "metadata": {},
   "outputs": [
    {
     "data": {
      "text/plain": [
       "0        2025-05-17 05:13:00-04:00\n",
       "1        2025-05-17 05:14:51-04:00\n",
       "2        2025-05-17 05:16:12-04:00\n",
       "3        2025-05-17 05:17:00-04:00\n",
       "4        2025-05-17 05:17:31-04:00\n",
       "                    ...           \n",
       "496820   2025-05-18 01:04:00-04:00\n",
       "496821   2025-05-18 01:06:00-04:00\n",
       "496822   2025-05-18 01:07:00-04:00\n",
       "496823   2025-05-18 01:08:00-04:00\n",
       "496824   2025-05-18 01:10:00-04:00\n",
       "Name: sch_arrival_time, Length: 496825, dtype: datetime64[ns, Canada/Eastern]"
      ]
     },
     "execution_count": 18,
     "metadata": {},
     "output_type": "execute_result"
    }
   ],
   "source": [
    "merged_stop_times['sch_arrival_time']"
   ]
  },
  {
   "cell_type": "code",
   "execution_count": 19,
   "id": "e51270cf",
   "metadata": {},
   "outputs": [],
   "source": [
    "# Add arrival hour\n",
    "merged_stop_times['arrival_hour'] = merged_stop_times['sch_arrival_time'].dt.floor('h')"
   ]
  },
  {
   "cell_type": "code",
   "execution_count": 20,
   "id": "0e5bde28",
   "metadata": {},
   "outputs": [],
   "source": [
    "# Merge stops\n",
    "scheduled_trips_df = pd.merge(left=merged_stop_times, right=stops_df, how='left', on='stop_id')"
   ]
  },
  {
   "cell_type": "code",
   "execution_count": 25,
   "id": "9f1f3d50",
   "metadata": {},
   "outputs": [],
   "source": [
    "route_id = 146\n",
    "direction = 'Ouest'\n",
    "stop_id = 62173"
   ]
  },
  {
   "cell_type": "code",
   "execution_count": 23,
   "id": "25e450c1",
   "metadata": {},
   "outputs": [],
   "source": [
    "# Filter route_id and direction\n",
    "trip_mask = (scheduled_trips_df['route_id'] == route_id) & (scheduled_trips_df['trip_headsign'] == direction)\n",
    "filtered_schedule_df = scheduled_trips_df[trip_mask]"
   ]
  },
  {
   "cell_type": "code",
   "execution_count": 26,
   "id": "2236dd1f",
   "metadata": {},
   "outputs": [],
   "source": [
    "# Filter by stop_id\n",
    "filtered_by_stop_df = filtered_schedule_df[filtered_schedule_df['stop_id'] == stop_id]\n",
    "filtered_by_stop_df = filtered_by_stop_df.sort_values('sch_arrival_time')"
   ]
  },
  {
   "cell_type": "code",
   "execution_count": 27,
   "id": "9cdd130f",
   "metadata": {},
   "outputs": [],
   "source": [
    "# Add hourly frequency\n",
    "filtered_by_stop_df['arrivals_per_hour'] = filtered_by_stop_df.groupby('arrival_hour').transform('size')"
   ]
  },
  {
   "cell_type": "code",
   "execution_count": 28,
   "id": "68ccc37f",
   "metadata": {},
   "outputs": [],
   "source": [
    "# Get arrivals after chosen time\n",
    "next_arrivals_filter = filtered_by_stop_df['sch_arrival_time'] >= filtered_by_stop_df['chosen_time']\n",
    "next_arrivals = filtered_by_stop_df[next_arrivals_filter].sort_values('sch_arrival_time')"
   ]
  },
  {
   "cell_type": "code",
   "execution_count": 29,
   "id": "ef39e132",
   "metadata": {},
   "outputs": [],
   "source": [
    "# Get next arrival\n",
    "next_arrival = next_arrivals.head(1).squeeze()\n",
    "next_trip_id = int(next_arrival['trip_id'])\n",
    "next_arrival_time = next_arrival['sch_arrival_time']"
   ]
  },
  {
   "cell_type": "code",
   "execution_count": null,
   "id": "0d414f7f",
   "metadata": {},
   "outputs": [],
   "source": [
    "# Get current trip\n",
    "current_trip = filtered_schedule_df[filtered_schedule_df['trip_id'] == next_trip_id].sort_values('stop_sequence')"
   ]
  },
  {
   "cell_type": "code",
   "execution_count": 33,
   "id": "fc92b427",
   "metadata": {},
   "outputs": [],
   "source": [
    "# Get current stop\n",
    "current_stop = current_trip[current_trip['stop_id'] == stop_id].squeeze()"
   ]
  },
  {
   "cell_type": "code",
   "execution_count": 30,
   "id": "7fc59fa5",
   "metadata": {},
   "outputs": [
    {
     "data": {
      "text/plain": [
       "trip_id                                         284301447\n",
       "arrival_time                                     16:09:46\n",
       "departure_time                                   16:09:46\n",
       "stop_id                                             62173\n",
       "stop_sequence                                           8\n",
       "route_id                                              146\n",
       "service_id                              25M-H58M000A-81-A\n",
       "trip_headsign                                       Ouest\n",
       "direction_id                                            1\n",
       "shape_id                                          1460136\n",
       "wheelchair_accessible                                   2\n",
       "note_fr                                               NaN\n",
       "note_en                                               NaN\n",
       "chosen_time              2025-05-17 16:00:20.588307-04:00\n",
       "start_date                            2025-05-17 00:00:00\n",
       "sch_arrival_time                2025-05-17 16:09:46-04:00\n",
       "arrival_hour                    2025-05-17 16:00:00-04:00\n",
       "stop_cluster                                          2.0\n",
       "stop_name                  Christophe-Colomb / de Louvain\n",
       "neighbourhood                                    Ahuntsic\n",
       "stop_lat                                        45.557674\n",
       "stop_lon                                       -73.646062\n",
       "location_type                                         0.0\n",
       "wheelchair_boarding                                   1.0\n",
       "arrivals_per_hour                                       2\n",
       "Name: 349725, dtype: object"
      ]
     },
     "execution_count": 30,
     "metadata": {},
     "output_type": "execute_result"
    }
   ],
   "source": [
    "next_arrival"
   ]
  },
  {
   "cell_type": "code",
   "execution_count": 34,
   "id": "e0d1620e",
   "metadata": {},
   "outputs": [
    {
     "data": {
      "text/plain": [
       "trip_id                                         284301447\n",
       "arrival_time                                     16:09:46\n",
       "departure_time                                   16:09:46\n",
       "stop_id                                             62173\n",
       "stop_sequence                                           8\n",
       "route_id                                              146\n",
       "service_id                              25M-H58M000A-81-A\n",
       "trip_headsign                                       Ouest\n",
       "direction_id                                            1\n",
       "shape_id                                          1460136\n",
       "wheelchair_accessible                                   2\n",
       "note_fr                                               NaN\n",
       "note_en                                               NaN\n",
       "chosen_time              2025-05-17 16:00:20.588307-04:00\n",
       "start_date                            2025-05-17 00:00:00\n",
       "sch_arrival_time                2025-05-17 16:09:46-04:00\n",
       "arrival_hour                    2025-05-17 16:00:00-04:00\n",
       "stop_cluster                                          2.0\n",
       "stop_name                  Christophe-Colomb / de Louvain\n",
       "neighbourhood                                    Ahuntsic\n",
       "stop_lat                                        45.557674\n",
       "stop_lon                                       -73.646062\n",
       "location_type                                         0.0\n",
       "wheelchair_boarding                                   1.0\n",
       "Name: 349725, dtype: object"
      ]
     },
     "execution_count": 34,
     "metadata": {},
     "output_type": "execute_result"
    }
   ],
   "source": [
    "current_stop"
   ]
  },
  {
   "cell_type": "code",
   "execution_count": 41,
   "id": "96802308",
   "metadata": {},
   "outputs": [
    {
     "data": {
      "text/plain": [
       "{'stop_cluster': 2.0}"
      ]
     },
     "execution_count": 41,
     "metadata": {},
     "output_type": "execute_result"
    }
   ],
   "source": [
    "# Add stop cluster\n",
    "trip_data['stop_cluster'] = float(next_arrival['stop_cluster'])\n",
    "trip_data"
   ]
  },
  {
   "cell_type": "code",
   "execution_count": 38,
   "id": "83c9d381",
   "metadata": {},
   "outputs": [],
   "source": [
    "# Get first and last stop coordinates\n",
    "origin_lat = current_trip.iloc[0]['stop_lat']\n",
    "origin_lon = current_trip.iloc[0]['stop_lon']\n",
    "dest_lat = current_trip.iloc[-1]['stop_lat']\n",
    "dest_lon = current_trip.iloc[-1]['stop_lon']"
   ]
  },
  {
   "cell_type": "code",
   "execution_count": 47,
   "id": "c9b1898c",
   "metadata": {},
   "outputs": [
    {
     "data": {
      "text/plain": [
       "{'stop_cluster': 2.0,\n",
       " 'bearing': 183.78786897310056,\n",
       " 'exp_trip_duration': 1740.0,\n",
       " 'hist_avg_delay': 0.0,\n",
       " 'route_bearing': 183.78786897310056}"
      ]
     },
     "execution_count": 47,
     "metadata": {},
     "output_type": "execute_result"
    }
   ],
   "source": [
    "# Calculate route bearing\n",
    "bearing = get_route_bearing(dest_lon, origin_lon, dest_lat, origin_lat)\n",
    "trip_data['route_bearing'] = bearing\n",
    "trip_data"
   ]
  },
  {
   "cell_type": "code",
   "execution_count": 43,
   "id": "ff369ba7",
   "metadata": {},
   "outputs": [
    {
     "data": {
      "text/plain": [
       "{'stop_cluster': 2.0,\n",
       " 'bearing': 183.78786897310056,\n",
       " 'exp_trip_duration': 1740.0}"
      ]
     },
     "execution_count": 43,
     "metadata": {},
     "output_type": "execute_result"
    }
   ],
   "source": [
    "# Add expected trip duration\n",
    "trip_start = current_trip['sch_arrival_time'].min()\n",
    "trip_end = current_trip['sch_arrival_time'].max()\n",
    "trip_data['exp_trip_duration'] = (trip_end - trip_start) / pd.Timedelta(seconds=1)\n",
    "trip_data"
   ]
  },
  {
   "cell_type": "code",
   "execution_count": 46,
   "id": "29a1f54e",
   "metadata": {},
   "outputs": [
    {
     "data": {
      "text/plain": [
       "{'stop_cluster': 2.0,\n",
       " 'bearing': 183.78786897310056,\n",
       " 'exp_trip_duration': 1740.0,\n",
       " 'hist_avg_delay': 0.0}"
      ]
     },
     "execution_count": 46,
     "metadata": {},
     "output_type": "execute_result"
    }
   ],
   "source": [
    "# Add historical average delay\n",
    "hour = next_arrival['sch_arrival_time'].hour\n",
    "hist_filter = (avg_delay_df['route_id'] == route_id) & (avg_delay_df['stop_id'] == stop_id) & (avg_delay_df['hour'] == hour)\n",
    "filtered_avg_delay = avg_delay_df[hist_filter]\n",
    "hist_avg_delay = float(filtered_avg_delay['hist_avg_delay'].iloc[0])\n",
    "trip_data['hist_avg_delay'] = hist_avg_delay\n",
    "trip_data"
   ]
  },
  {
   "cell_type": "code",
   "execution_count": 49,
   "id": "7bdaec7b",
   "metadata": {},
   "outputs": [
    {
     "data": {
      "text/plain": [
       "{'stop_cluster': 2.0,\n",
       " 'bearing': 183.78786897310056,\n",
       " 'exp_trip_duration': 1740.0,\n",
       " 'hist_avg_delay': 0.0,\n",
       " 'route_bearing': 183.78786897310056,\n",
       " 'arrivals_per_hour': 2}"
      ]
     },
     "execution_count": 49,
     "metadata": {},
     "output_type": "execute_result"
    }
   ],
   "source": [
    "# Add arrivals per hour\n",
    "arrivals_per_hour = int(next_arrival['arrivals_per_hour'])\n",
    "trip_data['arrivals_per_hour'] = arrivals_per_hour\n",
    "trip_data"
   ]
  },
  {
   "cell_type": "code",
   "execution_count": null,
   "id": "9895ab40",
   "metadata": {},
   "outputs": [
    {
     "data": {
      "text/plain": [
       "{'Scheduled': 0.9743501832186678, 'NotScheduled': 0.025649816781332144}"
      ]
     },
     "execution_count": 50,
     "metadata": {},
     "output_type": "execute_result"
    }
   ],
   "source": [
    "\n",
    "sch_rel_weights"
   ]
  },
  {
   "cell_type": "code",
   "execution_count": 58,
   "id": "49bc463b",
   "metadata": {},
   "outputs": [
    {
     "data": {
      "text/plain": [
       "{'stop_cluster': 2.0,\n",
       " 'bearing': 183.78786897310056,\n",
       " 'exp_trip_duration': 1740.0,\n",
       " 'hist_avg_delay': 0.0,\n",
       " 'route_bearing': 183.78786897310056,\n",
       " 'arrivals_per_hour': 2,\n",
       " 'schedule_relationship_Scheduled': 1}"
      ]
     },
     "execution_count": 58,
     "metadata": {},
     "output_type": "execute_result"
    }
   ],
   "source": [
    "trip_data"
   ]
  },
  {
   "cell_type": "code",
   "execution_count": 57,
   "id": "d6f23ab7",
   "metadata": {},
   "outputs": [],
   "source": [
    "  sch_rel = random.choices([1, 0], weights=sch_rel_weights.values(), k=1)[0]\n",
    "  trip_data['schedule_relationship_Scheduled'] = sch_rel"
   ]
  }
 ],
 "metadata": {
  "kernelspec": {
   "display_name": "venv",
   "language": "python",
   "name": "python3"
  },
  "language_info": {
   "codemirror_mode": {
    "name": "ipython",
    "version": 3
   },
   "file_extension": ".py",
   "mimetype": "text/x-python",
   "name": "python",
   "nbconvert_exporter": "python",
   "pygments_lexer": "ipython3",
   "version": "3.13.3"
  }
 },
 "nbformat": 4,
 "nbformat_minor": 5
}
