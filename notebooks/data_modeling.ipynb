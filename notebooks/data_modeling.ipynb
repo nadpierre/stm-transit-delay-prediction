{
 "cells": [
  {
   "cell_type": "markdown",
   "id": "6efc2fa1",
   "metadata": {},
   "source": [
    "# STM Transit Delay Data Modeling"
   ]
  },
  {
   "cell_type": "markdown",
   "id": "ca48c78c",
   "metadata": {},
   "source": [
    "## Overview"
   ]
  },
  {
   "cell_type": "markdown",
   "id": "4e4739c1",
   "metadata": {},
   "source": [
    "This notebook explores three tree-based regression models in order to find the one that predicts the delay with the best accuracy."
   ]
  },
  {
   "cell_type": "markdown",
   "id": "fec250c6",
   "metadata": {},
   "source": [
    "## Data Description"
   ]
  },
  {
   "cell_type": "markdown",
   "id": "4f649494",
   "metadata": {},
   "source": [
    "`trip_id`: Unique identifier for the transit trip.<br>\n",
    "`vehicle_id`: Unique identifier for a vehicle.<br>\n",
    "`vehicle_in_transit`: Indicates if the vehicle is in transit or if it has stopped.<br>\n",
    "`vehicle_rel_distance`: Relative vehicle distance from the previous stop, from 0 (previous stop) to 1 (current stop).<br>\n",
    "`vehicle_bearing`: Direction that the vehicle is facing.<br>\n",
    "`vehicle_speed`: Momentary speed measured by the vehicle, in meters per second.<br>\n",
    "`occupancy_status`: Degree of passenger occupancy, ranging from 1 (empty) to 7 (not accepting passengers).<br>\n",
    "`route_id`: Unique identifier for a bus or metro line.<br>\n",
    "`stop_id`: Unique identifier of a stop.<br>\n",
    "`stop_lat`, `stop_lon`: Stop coordinates.<br>\n",
    "`trip_progress`: How far along the trip is the vehicle, from 0 (first stop) to 1 (last stop).<br>\n",
    "`wheelchair_boarding`: Indicates if the stop is accessible for people in wheelchair<br>\n",
    "`day_of_week`, `hour`: Month, day of week and hour of the realtime arrival time.<br>\n",
    "`is_weekend`: Indicates if the day of the arrival time is on the weekend.<br>\n",
    "`is_peak_hour`: Indicates of the day and hour of the arrival time is at peak hour (weekdays between 7-9am and 4-6pm).<br>\n",
    "`temperature`: Air temperature at 2 meters above ground, in Celsius.<br>\n",
    "`precipitation`: Total precipitation (rain, showers, snow) sum of the preceding hour, in millimeters.<br>\n",
    "`windspeed`: Wind speed at 10 meters above ground, in km/h.<br>\n",
    "`weather_Cloudy`, `weather_Drizzle`, `weather_Rain`: Indicates the weather category.<br>\n",
    "`incident_nearby`: Indicates if an incident happened within 1.5 km of the vehicle position.<br>\n",
    "`delay`: Difference between real and scheduled arrival time, in seconds."
   ]
  },
  {
   "cell_type": "markdown",
   "id": "95d218f9",
   "metadata": {},
   "source": [
    "## Imports"
   ]
  },
  {
   "cell_type": "code",
   "execution_count": 1,
   "id": "f2dded95",
   "metadata": {},
   "outputs": [],
   "source": [
    "import joblib\n",
    "import matplotlib.pyplot as plt\n",
    "import numpy as np\n",
    "import pandas as pd\n",
    "import pickle\n",
    "import random\n",
    "from sklearn.ensemble import GradientBoostingRegressor, RandomForestRegressor, VotingRegressor\n",
    "from sklearn.metrics import make_scorer, mean_absolute_error, root_mean_squared_error, r2_score\n",
    "from sklearn.model_selection import cross_validate, GridSearchCV, train_test_split\n",
    "from xgboost import XGBRegressor"
   ]
  },
  {
   "cell_type": "code",
   "execution_count": 2,
   "id": "01d19b40",
   "metadata": {},
   "outputs": [
    {
     "data": {
      "application/vnd.microsoft.datawrangler.viewer.v0+json": {
       "columns": [
        {
         "name": "index",
         "rawType": "int64",
         "type": "integer"
        },
        {
         "name": "vehicle_id",
         "rawType": "int64",
         "type": "integer"
        },
        {
         "name": "occupancy_status",
         "rawType": "int64",
         "type": "integer"
        },
        {
         "name": "vehicle_in_transit",
         "rawType": "int64",
         "type": "integer"
        },
        {
         "name": "vehicle_bearing",
         "rawType": "float64",
         "type": "float"
        },
        {
         "name": "vehicle_speed",
         "rawType": "float64",
         "type": "float"
        },
        {
         "name": "wheelchair_boarding",
         "rawType": "int64",
         "type": "integer"
        },
        {
         "name": "route_id",
         "rawType": "int64",
         "type": "integer"
        },
        {
         "name": "stop_id",
         "rawType": "int64",
         "type": "integer"
        },
        {
         "name": "stop_lat",
         "rawType": "float64",
         "type": "float"
        },
        {
         "name": "stop_lon",
         "rawType": "float64",
         "type": "float"
        },
        {
         "name": "stop_distance",
         "rawType": "float64",
         "type": "float"
        },
        {
         "name": "stop_sequence",
         "rawType": "int64",
         "type": "integer"
        },
        {
         "name": "trip_progress",
         "rawType": "float64",
         "type": "float"
        },
        {
         "name": "windspeed",
         "rawType": "float64",
         "type": "float"
        },
        {
         "name": "month",
         "rawType": "int64",
         "type": "integer"
        },
        {
         "name": "day_of_week",
         "rawType": "int64",
         "type": "integer"
        },
        {
         "name": "hour",
         "rawType": "int64",
         "type": "integer"
        },
        {
         "name": "is_weekend",
         "rawType": "int64",
         "type": "integer"
        },
        {
         "name": "is_peak_hour",
         "rawType": "int64",
         "type": "integer"
        },
        {
         "name": "incident_nearby",
         "rawType": "int64",
         "type": "integer"
        },
        {
         "name": "incident_category",
         "rawType": "float64",
         "type": "float"
        },
        {
         "name": "incident_delay",
         "rawType": "float64",
         "type": "float"
        },
        {
         "name": "avg_distance_to_incident",
         "rawType": "float64",
         "type": "float"
        },
        {
         "name": "incident_delay_magnitude",
         "rawType": "float64",
         "type": "float"
        },
        {
         "name": "incident_count",
         "rawType": "float64",
         "type": "float"
        },
        {
         "name": "temperature",
         "rawType": "float64",
         "type": "float"
        },
        {
         "name": "precipitation",
         "rawType": "float64",
         "type": "float"
        },
        {
         "name": "weather_Cloudy",
         "rawType": "int64",
         "type": "integer"
        },
        {
         "name": "weather_Drizzle",
         "rawType": "int64",
         "type": "integer"
        },
        {
         "name": "weather_Rain",
         "rawType": "int64",
         "type": "integer"
        },
        {
         "name": "delay",
         "rawType": "float64",
         "type": "float"
        },
        {
         "name": "delay_class",
         "rawType": "int64",
         "type": "integer"
        }
       ],
       "conversionMethod": "pd.DataFrame",
       "ref": "bdd2a2eb-a9dd-45aa-9dec-9a068c00faeb",
       "rows": [
        [
         "0",
         "799",
         "2",
         "0",
         "0.0",
         "0.0",
         "1",
         "54",
         "1511",
         "45.518121",
         "-73.592207",
         "308.1153765726092",
         "9",
         "0.3103448275862069",
         "13.4",
         "4",
         "6",
         "19",
         "1",
         "0",
         "0",
         "0.0",
         "0.0",
         "-1.0",
         "0.0",
         "0.0",
         "11.0",
         "0.0",
         "0",
         "0",
         "0",
         "0.0",
         "2"
        ],
        [
         "1",
         "799",
         "1",
         "1",
         "0.0",
         "0.0",
         "1",
         "54",
         "3520",
         "45.534367",
         "-73.642827",
         "300.19159122718395",
         "28",
         "0.9655172413793104",
         "11.6",
         "4",
         "6",
         "19",
         "1",
         "0",
         "0",
         "0.0",
         "0.0",
         "-1.0",
         "0.0",
         "0.0",
         "10.4",
         "0.0",
         "0",
         "0",
         "0",
         "0.0",
         "2"
        ],
        [
         "2",
         "749",
         "1",
         "1",
         "54.0",
         "0.0",
         "1",
         "34",
         "7450",
         "45.668193",
         "-73.549411",
         "99.37555186126076",
         "62",
         "1.0",
         "13.3",
         "4",
         "6",
         "18",
         "1",
         "0",
         "0",
         "0.0",
         "0.0",
         "-1.0",
         "0.0",
         "0.0",
         "11.3",
         "0.0",
         "0",
         "0",
         "0",
         "0.0",
         "2"
        ],
        [
         "3",
         "1355",
         "2",
         "1",
         "287.0",
         "7.500060081481934",
         "1",
         "209",
         "7979",
         "45.510414",
         "-73.81174",
         "2103.8117525130647",
         "3",
         "1.0",
         "11.6",
         "4",
         "6",
         "19",
         "1",
         "0",
         "0",
         "0.0",
         "0.0",
         "-1.0",
         "0.0",
         "0.0",
         "10.4",
         "0.0",
         "0",
         "0",
         "0",
         "0.0",
         "2"
        ],
        [
         "4",
         "1355",
         "1",
         "1",
         "0.0",
         "0.0",
         "1",
         "209",
         "7979",
         "45.510414",
         "-73.81174",
         "2103.8117525130647",
         "3",
         "1.0",
         "11.6",
         "4",
         "6",
         "19",
         "1",
         "0",
         "0",
         "0.0",
         "0.0",
         "-1.0",
         "0.0",
         "0.0",
         "10.4",
         "0.0",
         "0",
         "0",
         "0",
         "0.0",
         "2"
        ]
       ],
       "shape": {
        "columns": 32,
        "rows": 5
       }
      },
      "text/html": [
       "<div>\n",
       "<style scoped>\n",
       "    .dataframe tbody tr th:only-of-type {\n",
       "        vertical-align: middle;\n",
       "    }\n",
       "\n",
       "    .dataframe tbody tr th {\n",
       "        vertical-align: top;\n",
       "    }\n",
       "\n",
       "    .dataframe thead th {\n",
       "        text-align: right;\n",
       "    }\n",
       "</style>\n",
       "<table border=\"1\" class=\"dataframe\">\n",
       "  <thead>\n",
       "    <tr style=\"text-align: right;\">\n",
       "      <th></th>\n",
       "      <th>vehicle_id</th>\n",
       "      <th>occupancy_status</th>\n",
       "      <th>vehicle_in_transit</th>\n",
       "      <th>vehicle_bearing</th>\n",
       "      <th>vehicle_speed</th>\n",
       "      <th>wheelchair_boarding</th>\n",
       "      <th>route_id</th>\n",
       "      <th>stop_id</th>\n",
       "      <th>stop_lat</th>\n",
       "      <th>stop_lon</th>\n",
       "      <th>...</th>\n",
       "      <th>avg_distance_to_incident</th>\n",
       "      <th>incident_delay_magnitude</th>\n",
       "      <th>incident_count</th>\n",
       "      <th>temperature</th>\n",
       "      <th>precipitation</th>\n",
       "      <th>weather_Cloudy</th>\n",
       "      <th>weather_Drizzle</th>\n",
       "      <th>weather_Rain</th>\n",
       "      <th>delay</th>\n",
       "      <th>delay_class</th>\n",
       "    </tr>\n",
       "  </thead>\n",
       "  <tbody>\n",
       "    <tr>\n",
       "      <th>0</th>\n",
       "      <td>799</td>\n",
       "      <td>2</td>\n",
       "      <td>0</td>\n",
       "      <td>0.0</td>\n",
       "      <td>0.00000</td>\n",
       "      <td>1</td>\n",
       "      <td>54</td>\n",
       "      <td>1511</td>\n",
       "      <td>45.518121</td>\n",
       "      <td>-73.592207</td>\n",
       "      <td>...</td>\n",
       "      <td>-1.0</td>\n",
       "      <td>0.0</td>\n",
       "      <td>0.0</td>\n",
       "      <td>11.0</td>\n",
       "      <td>0.0</td>\n",
       "      <td>0</td>\n",
       "      <td>0</td>\n",
       "      <td>0</td>\n",
       "      <td>0.0</td>\n",
       "      <td>2</td>\n",
       "    </tr>\n",
       "    <tr>\n",
       "      <th>1</th>\n",
       "      <td>799</td>\n",
       "      <td>1</td>\n",
       "      <td>1</td>\n",
       "      <td>0.0</td>\n",
       "      <td>0.00000</td>\n",
       "      <td>1</td>\n",
       "      <td>54</td>\n",
       "      <td>3520</td>\n",
       "      <td>45.534367</td>\n",
       "      <td>-73.642827</td>\n",
       "      <td>...</td>\n",
       "      <td>-1.0</td>\n",
       "      <td>0.0</td>\n",
       "      <td>0.0</td>\n",
       "      <td>10.4</td>\n",
       "      <td>0.0</td>\n",
       "      <td>0</td>\n",
       "      <td>0</td>\n",
       "      <td>0</td>\n",
       "      <td>0.0</td>\n",
       "      <td>2</td>\n",
       "    </tr>\n",
       "    <tr>\n",
       "      <th>2</th>\n",
       "      <td>749</td>\n",
       "      <td>1</td>\n",
       "      <td>1</td>\n",
       "      <td>54.0</td>\n",
       "      <td>0.00000</td>\n",
       "      <td>1</td>\n",
       "      <td>34</td>\n",
       "      <td>7450</td>\n",
       "      <td>45.668193</td>\n",
       "      <td>-73.549411</td>\n",
       "      <td>...</td>\n",
       "      <td>-1.0</td>\n",
       "      <td>0.0</td>\n",
       "      <td>0.0</td>\n",
       "      <td>11.3</td>\n",
       "      <td>0.0</td>\n",
       "      <td>0</td>\n",
       "      <td>0</td>\n",
       "      <td>0</td>\n",
       "      <td>0.0</td>\n",
       "      <td>2</td>\n",
       "    </tr>\n",
       "    <tr>\n",
       "      <th>3</th>\n",
       "      <td>1355</td>\n",
       "      <td>2</td>\n",
       "      <td>1</td>\n",
       "      <td>287.0</td>\n",
       "      <td>7.50006</td>\n",
       "      <td>1</td>\n",
       "      <td>209</td>\n",
       "      <td>7979</td>\n",
       "      <td>45.510414</td>\n",
       "      <td>-73.811740</td>\n",
       "      <td>...</td>\n",
       "      <td>-1.0</td>\n",
       "      <td>0.0</td>\n",
       "      <td>0.0</td>\n",
       "      <td>10.4</td>\n",
       "      <td>0.0</td>\n",
       "      <td>0</td>\n",
       "      <td>0</td>\n",
       "      <td>0</td>\n",
       "      <td>0.0</td>\n",
       "      <td>2</td>\n",
       "    </tr>\n",
       "    <tr>\n",
       "      <th>4</th>\n",
       "      <td>1355</td>\n",
       "      <td>1</td>\n",
       "      <td>1</td>\n",
       "      <td>0.0</td>\n",
       "      <td>0.00000</td>\n",
       "      <td>1</td>\n",
       "      <td>209</td>\n",
       "      <td>7979</td>\n",
       "      <td>45.510414</td>\n",
       "      <td>-73.811740</td>\n",
       "      <td>...</td>\n",
       "      <td>-1.0</td>\n",
       "      <td>0.0</td>\n",
       "      <td>0.0</td>\n",
       "      <td>10.4</td>\n",
       "      <td>0.0</td>\n",
       "      <td>0</td>\n",
       "      <td>0</td>\n",
       "      <td>0</td>\n",
       "      <td>0.0</td>\n",
       "      <td>2</td>\n",
       "    </tr>\n",
       "  </tbody>\n",
       "</table>\n",
       "<p>5 rows × 32 columns</p>\n",
       "</div>"
      ],
      "text/plain": [
       "   vehicle_id  occupancy_status  vehicle_in_transit  vehicle_bearing  \\\n",
       "0         799                 2                   0              0.0   \n",
       "1         799                 1                   1              0.0   \n",
       "2         749                 1                   1             54.0   \n",
       "3        1355                 2                   1            287.0   \n",
       "4        1355                 1                   1              0.0   \n",
       "\n",
       "   vehicle_speed  wheelchair_boarding  route_id  stop_id   stop_lat  \\\n",
       "0        0.00000                    1        54     1511  45.518121   \n",
       "1        0.00000                    1        54     3520  45.534367   \n",
       "2        0.00000                    1        34     7450  45.668193   \n",
       "3        7.50006                    1       209     7979  45.510414   \n",
       "4        0.00000                    1       209     7979  45.510414   \n",
       "\n",
       "    stop_lon  ...  avg_distance_to_incident  incident_delay_magnitude  \\\n",
       "0 -73.592207  ...                      -1.0                       0.0   \n",
       "1 -73.642827  ...                      -1.0                       0.0   \n",
       "2 -73.549411  ...                      -1.0                       0.0   \n",
       "3 -73.811740  ...                      -1.0                       0.0   \n",
       "4 -73.811740  ...                      -1.0                       0.0   \n",
       "\n",
       "   incident_count  temperature  precipitation  weather_Cloudy  \\\n",
       "0             0.0         11.0            0.0               0   \n",
       "1             0.0         10.4            0.0               0   \n",
       "2             0.0         11.3            0.0               0   \n",
       "3             0.0         10.4            0.0               0   \n",
       "4             0.0         10.4            0.0               0   \n",
       "\n",
       "   weather_Drizzle  weather_Rain  delay  delay_class  \n",
       "0                0             0    0.0            2  \n",
       "1                0             0    0.0            2  \n",
       "2                0             0    0.0            2  \n",
       "3                0             0    0.0            2  \n",
       "4                0             0    0.0            2  \n",
       "\n",
       "[5 rows x 32 columns]"
      ]
     },
     "execution_count": 2,
     "metadata": {},
     "output_type": "execute_result"
    }
   ],
   "source": [
    "df = pd.read_csv('../data/preprocessed.csv')\n",
    "df.head()"
   ]
  },
  {
   "cell_type": "markdown",
   "id": "6bc11b74",
   "metadata": {},
   "source": [
    "## Split the data"
   ]
  },
  {
   "cell_type": "code",
   "execution_count": 3,
   "id": "5ca0fae0",
   "metadata": {},
   "outputs": [],
   "source": [
    "df = df.drop('delay_class', axis=1)"
   ]
  },
  {
   "cell_type": "code",
   "execution_count": 4,
   "id": "35aee596",
   "metadata": {},
   "outputs": [],
   "source": [
    "# Separate the features from the target variable\n",
    "X = df.drop('delay', axis=1)\n",
    "y = df['delay']"
   ]
  },
  {
   "cell_type": "code",
   "execution_count": 5,
   "id": "81c1f800",
   "metadata": {},
   "outputs": [],
   "source": [
    "# Train-validation-test split (70-15-15) \n",
    "X_train, X_temp, y_train, y_temp = train_test_split(X, y, test_size=0.3, random_state=42)\n",
    "X_val, X_test, y_val, y_test = train_test_split(X_temp, y_temp, test_size=0.5, random_state=42)"
   ]
  },
  {
   "cell_type": "markdown",
   "id": "817f9998",
   "metadata": {},
   "source": [
    "Since only tree-based regression models are explored in this project, scaling is not needed because the models are not sensitive to the absolute scale or distribution of the features."
   ]
  },
  {
   "cell_type": "markdown",
   "id": "12352da5",
   "metadata": {},
   "source": [
    "## First Model: Random Forest Regression"
   ]
  },
  {
   "cell_type": "markdown",
   "id": "3c3f41bd",
   "metadata": {},
   "source": [
    "### Fit Base Model"
   ]
  },
  {
   "cell_type": "code",
   "execution_count": 6,
   "id": "ee7456e6",
   "metadata": {},
   "outputs": [
    {
     "data": {
      "text/html": [
       "<style>#sk-container-id-1 {\n",
       "  /* Definition of color scheme common for light and dark mode */\n",
       "  --sklearn-color-text: #000;\n",
       "  --sklearn-color-text-muted: #666;\n",
       "  --sklearn-color-line: gray;\n",
       "  /* Definition of color scheme for unfitted estimators */\n",
       "  --sklearn-color-unfitted-level-0: #fff5e6;\n",
       "  --sklearn-color-unfitted-level-1: #f6e4d2;\n",
       "  --sklearn-color-unfitted-level-2: #ffe0b3;\n",
       "  --sklearn-color-unfitted-level-3: chocolate;\n",
       "  /* Definition of color scheme for fitted estimators */\n",
       "  --sklearn-color-fitted-level-0: #f0f8ff;\n",
       "  --sklearn-color-fitted-level-1: #d4ebff;\n",
       "  --sklearn-color-fitted-level-2: #b3dbfd;\n",
       "  --sklearn-color-fitted-level-3: cornflowerblue;\n",
       "\n",
       "  /* Specific color for light theme */\n",
       "  --sklearn-color-text-on-default-background: var(--sg-text-color, var(--theme-code-foreground, var(--jp-content-font-color1, black)));\n",
       "  --sklearn-color-background: var(--sg-background-color, var(--theme-background, var(--jp-layout-color0, white)));\n",
       "  --sklearn-color-border-box: var(--sg-text-color, var(--theme-code-foreground, var(--jp-content-font-color1, black)));\n",
       "  --sklearn-color-icon: #696969;\n",
       "\n",
       "  @media (prefers-color-scheme: dark) {\n",
       "    /* Redefinition of color scheme for dark theme */\n",
       "    --sklearn-color-text-on-default-background: var(--sg-text-color, var(--theme-code-foreground, var(--jp-content-font-color1, white)));\n",
       "    --sklearn-color-background: var(--sg-background-color, var(--theme-background, var(--jp-layout-color0, #111)));\n",
       "    --sklearn-color-border-box: var(--sg-text-color, var(--theme-code-foreground, var(--jp-content-font-color1, white)));\n",
       "    --sklearn-color-icon: #878787;\n",
       "  }\n",
       "}\n",
       "\n",
       "#sk-container-id-1 {\n",
       "  color: var(--sklearn-color-text);\n",
       "}\n",
       "\n",
       "#sk-container-id-1 pre {\n",
       "  padding: 0;\n",
       "}\n",
       "\n",
       "#sk-container-id-1 input.sk-hidden--visually {\n",
       "  border: 0;\n",
       "  clip: rect(1px 1px 1px 1px);\n",
       "  clip: rect(1px, 1px, 1px, 1px);\n",
       "  height: 1px;\n",
       "  margin: -1px;\n",
       "  overflow: hidden;\n",
       "  padding: 0;\n",
       "  position: absolute;\n",
       "  width: 1px;\n",
       "}\n",
       "\n",
       "#sk-container-id-1 div.sk-dashed-wrapped {\n",
       "  border: 1px dashed var(--sklearn-color-line);\n",
       "  margin: 0 0.4em 0.5em 0.4em;\n",
       "  box-sizing: border-box;\n",
       "  padding-bottom: 0.4em;\n",
       "  background-color: var(--sklearn-color-background);\n",
       "}\n",
       "\n",
       "#sk-container-id-1 div.sk-container {\n",
       "  /* jupyter's `normalize.less` sets `[hidden] { display: none; }`\n",
       "     but bootstrap.min.css set `[hidden] { display: none !important; }`\n",
       "     so we also need the `!important` here to be able to override the\n",
       "     default hidden behavior on the sphinx rendered scikit-learn.org.\n",
       "     See: https://github.com/scikit-learn/scikit-learn/issues/21755 */\n",
       "  display: inline-block !important;\n",
       "  position: relative;\n",
       "}\n",
       "\n",
       "#sk-container-id-1 div.sk-text-repr-fallback {\n",
       "  display: none;\n",
       "}\n",
       "\n",
       "div.sk-parallel-item,\n",
       "div.sk-serial,\n",
       "div.sk-item {\n",
       "  /* draw centered vertical line to link estimators */\n",
       "  background-image: linear-gradient(var(--sklearn-color-text-on-default-background), var(--sklearn-color-text-on-default-background));\n",
       "  background-size: 2px 100%;\n",
       "  background-repeat: no-repeat;\n",
       "  background-position: center center;\n",
       "}\n",
       "\n",
       "/* Parallel-specific style estimator block */\n",
       "\n",
       "#sk-container-id-1 div.sk-parallel-item::after {\n",
       "  content: \"\";\n",
       "  width: 100%;\n",
       "  border-bottom: 2px solid var(--sklearn-color-text-on-default-background);\n",
       "  flex-grow: 1;\n",
       "}\n",
       "\n",
       "#sk-container-id-1 div.sk-parallel {\n",
       "  display: flex;\n",
       "  align-items: stretch;\n",
       "  justify-content: center;\n",
       "  background-color: var(--sklearn-color-background);\n",
       "  position: relative;\n",
       "}\n",
       "\n",
       "#sk-container-id-1 div.sk-parallel-item {\n",
       "  display: flex;\n",
       "  flex-direction: column;\n",
       "}\n",
       "\n",
       "#sk-container-id-1 div.sk-parallel-item:first-child::after {\n",
       "  align-self: flex-end;\n",
       "  width: 50%;\n",
       "}\n",
       "\n",
       "#sk-container-id-1 div.sk-parallel-item:last-child::after {\n",
       "  align-self: flex-start;\n",
       "  width: 50%;\n",
       "}\n",
       "\n",
       "#sk-container-id-1 div.sk-parallel-item:only-child::after {\n",
       "  width: 0;\n",
       "}\n",
       "\n",
       "/* Serial-specific style estimator block */\n",
       "\n",
       "#sk-container-id-1 div.sk-serial {\n",
       "  display: flex;\n",
       "  flex-direction: column;\n",
       "  align-items: center;\n",
       "  background-color: var(--sklearn-color-background);\n",
       "  padding-right: 1em;\n",
       "  padding-left: 1em;\n",
       "}\n",
       "\n",
       "\n",
       "/* Toggleable style: style used for estimator/Pipeline/ColumnTransformer box that is\n",
       "clickable and can be expanded/collapsed.\n",
       "- Pipeline and ColumnTransformer use this feature and define the default style\n",
       "- Estimators will overwrite some part of the style using the `sk-estimator` class\n",
       "*/\n",
       "\n",
       "/* Pipeline and ColumnTransformer style (default) */\n",
       "\n",
       "#sk-container-id-1 div.sk-toggleable {\n",
       "  /* Default theme specific background. It is overwritten whether we have a\n",
       "  specific estimator or a Pipeline/ColumnTransformer */\n",
       "  background-color: var(--sklearn-color-background);\n",
       "}\n",
       "\n",
       "/* Toggleable label */\n",
       "#sk-container-id-1 label.sk-toggleable__label {\n",
       "  cursor: pointer;\n",
       "  display: flex;\n",
       "  width: 100%;\n",
       "  margin-bottom: 0;\n",
       "  padding: 0.5em;\n",
       "  box-sizing: border-box;\n",
       "  text-align: center;\n",
       "  align-items: start;\n",
       "  justify-content: space-between;\n",
       "  gap: 0.5em;\n",
       "}\n",
       "\n",
       "#sk-container-id-1 label.sk-toggleable__label .caption {\n",
       "  font-size: 0.6rem;\n",
       "  font-weight: lighter;\n",
       "  color: var(--sklearn-color-text-muted);\n",
       "}\n",
       "\n",
       "#sk-container-id-1 label.sk-toggleable__label-arrow:before {\n",
       "  /* Arrow on the left of the label */\n",
       "  content: \"▸\";\n",
       "  float: left;\n",
       "  margin-right: 0.25em;\n",
       "  color: var(--sklearn-color-icon);\n",
       "}\n",
       "\n",
       "#sk-container-id-1 label.sk-toggleable__label-arrow:hover:before {\n",
       "  color: var(--sklearn-color-text);\n",
       "}\n",
       "\n",
       "/* Toggleable content - dropdown */\n",
       "\n",
       "#sk-container-id-1 div.sk-toggleable__content {\n",
       "  max-height: 0;\n",
       "  max-width: 0;\n",
       "  overflow: hidden;\n",
       "  text-align: left;\n",
       "  /* unfitted */\n",
       "  background-color: var(--sklearn-color-unfitted-level-0);\n",
       "}\n",
       "\n",
       "#sk-container-id-1 div.sk-toggleable__content.fitted {\n",
       "  /* fitted */\n",
       "  background-color: var(--sklearn-color-fitted-level-0);\n",
       "}\n",
       "\n",
       "#sk-container-id-1 div.sk-toggleable__content pre {\n",
       "  margin: 0.2em;\n",
       "  border-radius: 0.25em;\n",
       "  color: var(--sklearn-color-text);\n",
       "  /* unfitted */\n",
       "  background-color: var(--sklearn-color-unfitted-level-0);\n",
       "}\n",
       "\n",
       "#sk-container-id-1 div.sk-toggleable__content.fitted pre {\n",
       "  /* unfitted */\n",
       "  background-color: var(--sklearn-color-fitted-level-0);\n",
       "}\n",
       "\n",
       "#sk-container-id-1 input.sk-toggleable__control:checked~div.sk-toggleable__content {\n",
       "  /* Expand drop-down */\n",
       "  max-height: 200px;\n",
       "  max-width: 100%;\n",
       "  overflow: auto;\n",
       "}\n",
       "\n",
       "#sk-container-id-1 input.sk-toggleable__control:checked~label.sk-toggleable__label-arrow:before {\n",
       "  content: \"▾\";\n",
       "}\n",
       "\n",
       "/* Pipeline/ColumnTransformer-specific style */\n",
       "\n",
       "#sk-container-id-1 div.sk-label input.sk-toggleable__control:checked~label.sk-toggleable__label {\n",
       "  color: var(--sklearn-color-text);\n",
       "  background-color: var(--sklearn-color-unfitted-level-2);\n",
       "}\n",
       "\n",
       "#sk-container-id-1 div.sk-label.fitted input.sk-toggleable__control:checked~label.sk-toggleable__label {\n",
       "  background-color: var(--sklearn-color-fitted-level-2);\n",
       "}\n",
       "\n",
       "/* Estimator-specific style */\n",
       "\n",
       "/* Colorize estimator box */\n",
       "#sk-container-id-1 div.sk-estimator input.sk-toggleable__control:checked~label.sk-toggleable__label {\n",
       "  /* unfitted */\n",
       "  background-color: var(--sklearn-color-unfitted-level-2);\n",
       "}\n",
       "\n",
       "#sk-container-id-1 div.sk-estimator.fitted input.sk-toggleable__control:checked~label.sk-toggleable__label {\n",
       "  /* fitted */\n",
       "  background-color: var(--sklearn-color-fitted-level-2);\n",
       "}\n",
       "\n",
       "#sk-container-id-1 div.sk-label label.sk-toggleable__label,\n",
       "#sk-container-id-1 div.sk-label label {\n",
       "  /* The background is the default theme color */\n",
       "  color: var(--sklearn-color-text-on-default-background);\n",
       "}\n",
       "\n",
       "/* On hover, darken the color of the background */\n",
       "#sk-container-id-1 div.sk-label:hover label.sk-toggleable__label {\n",
       "  color: var(--sklearn-color-text);\n",
       "  background-color: var(--sklearn-color-unfitted-level-2);\n",
       "}\n",
       "\n",
       "/* Label box, darken color on hover, fitted */\n",
       "#sk-container-id-1 div.sk-label.fitted:hover label.sk-toggleable__label.fitted {\n",
       "  color: var(--sklearn-color-text);\n",
       "  background-color: var(--sklearn-color-fitted-level-2);\n",
       "}\n",
       "\n",
       "/* Estimator label */\n",
       "\n",
       "#sk-container-id-1 div.sk-label label {\n",
       "  font-family: monospace;\n",
       "  font-weight: bold;\n",
       "  display: inline-block;\n",
       "  line-height: 1.2em;\n",
       "}\n",
       "\n",
       "#sk-container-id-1 div.sk-label-container {\n",
       "  text-align: center;\n",
       "}\n",
       "\n",
       "/* Estimator-specific */\n",
       "#sk-container-id-1 div.sk-estimator {\n",
       "  font-family: monospace;\n",
       "  border: 1px dotted var(--sklearn-color-border-box);\n",
       "  border-radius: 0.25em;\n",
       "  box-sizing: border-box;\n",
       "  margin-bottom: 0.5em;\n",
       "  /* unfitted */\n",
       "  background-color: var(--sklearn-color-unfitted-level-0);\n",
       "}\n",
       "\n",
       "#sk-container-id-1 div.sk-estimator.fitted {\n",
       "  /* fitted */\n",
       "  background-color: var(--sklearn-color-fitted-level-0);\n",
       "}\n",
       "\n",
       "/* on hover */\n",
       "#sk-container-id-1 div.sk-estimator:hover {\n",
       "  /* unfitted */\n",
       "  background-color: var(--sklearn-color-unfitted-level-2);\n",
       "}\n",
       "\n",
       "#sk-container-id-1 div.sk-estimator.fitted:hover {\n",
       "  /* fitted */\n",
       "  background-color: var(--sklearn-color-fitted-level-2);\n",
       "}\n",
       "\n",
       "/* Specification for estimator info (e.g. \"i\" and \"?\") */\n",
       "\n",
       "/* Common style for \"i\" and \"?\" */\n",
       "\n",
       ".sk-estimator-doc-link,\n",
       "a:link.sk-estimator-doc-link,\n",
       "a:visited.sk-estimator-doc-link {\n",
       "  float: right;\n",
       "  font-size: smaller;\n",
       "  line-height: 1em;\n",
       "  font-family: monospace;\n",
       "  background-color: var(--sklearn-color-background);\n",
       "  border-radius: 1em;\n",
       "  height: 1em;\n",
       "  width: 1em;\n",
       "  text-decoration: none !important;\n",
       "  margin-left: 0.5em;\n",
       "  text-align: center;\n",
       "  /* unfitted */\n",
       "  border: var(--sklearn-color-unfitted-level-1) 1pt solid;\n",
       "  color: var(--sklearn-color-unfitted-level-1);\n",
       "}\n",
       "\n",
       ".sk-estimator-doc-link.fitted,\n",
       "a:link.sk-estimator-doc-link.fitted,\n",
       "a:visited.sk-estimator-doc-link.fitted {\n",
       "  /* fitted */\n",
       "  border: var(--sklearn-color-fitted-level-1) 1pt solid;\n",
       "  color: var(--sklearn-color-fitted-level-1);\n",
       "}\n",
       "\n",
       "/* On hover */\n",
       "div.sk-estimator:hover .sk-estimator-doc-link:hover,\n",
       ".sk-estimator-doc-link:hover,\n",
       "div.sk-label-container:hover .sk-estimator-doc-link:hover,\n",
       ".sk-estimator-doc-link:hover {\n",
       "  /* unfitted */\n",
       "  background-color: var(--sklearn-color-unfitted-level-3);\n",
       "  color: var(--sklearn-color-background);\n",
       "  text-decoration: none;\n",
       "}\n",
       "\n",
       "div.sk-estimator.fitted:hover .sk-estimator-doc-link.fitted:hover,\n",
       ".sk-estimator-doc-link.fitted:hover,\n",
       "div.sk-label-container:hover .sk-estimator-doc-link.fitted:hover,\n",
       ".sk-estimator-doc-link.fitted:hover {\n",
       "  /* fitted */\n",
       "  background-color: var(--sklearn-color-fitted-level-3);\n",
       "  color: var(--sklearn-color-background);\n",
       "  text-decoration: none;\n",
       "}\n",
       "\n",
       "/* Span, style for the box shown on hovering the info icon */\n",
       ".sk-estimator-doc-link span {\n",
       "  display: none;\n",
       "  z-index: 9999;\n",
       "  position: relative;\n",
       "  font-weight: normal;\n",
       "  right: .2ex;\n",
       "  padding: .5ex;\n",
       "  margin: .5ex;\n",
       "  width: min-content;\n",
       "  min-width: 20ex;\n",
       "  max-width: 50ex;\n",
       "  color: var(--sklearn-color-text);\n",
       "  box-shadow: 2pt 2pt 4pt #999;\n",
       "  /* unfitted */\n",
       "  background: var(--sklearn-color-unfitted-level-0);\n",
       "  border: .5pt solid var(--sklearn-color-unfitted-level-3);\n",
       "}\n",
       "\n",
       ".sk-estimator-doc-link.fitted span {\n",
       "  /* fitted */\n",
       "  background: var(--sklearn-color-fitted-level-0);\n",
       "  border: var(--sklearn-color-fitted-level-3);\n",
       "}\n",
       "\n",
       ".sk-estimator-doc-link:hover span {\n",
       "  display: block;\n",
       "}\n",
       "\n",
       "/* \"?\"-specific style due to the `<a>` HTML tag */\n",
       "\n",
       "#sk-container-id-1 a.estimator_doc_link {\n",
       "  float: right;\n",
       "  font-size: 1rem;\n",
       "  line-height: 1em;\n",
       "  font-family: monospace;\n",
       "  background-color: var(--sklearn-color-background);\n",
       "  border-radius: 1rem;\n",
       "  height: 1rem;\n",
       "  width: 1rem;\n",
       "  text-decoration: none;\n",
       "  /* unfitted */\n",
       "  color: var(--sklearn-color-unfitted-level-1);\n",
       "  border: var(--sklearn-color-unfitted-level-1) 1pt solid;\n",
       "}\n",
       "\n",
       "#sk-container-id-1 a.estimator_doc_link.fitted {\n",
       "  /* fitted */\n",
       "  border: var(--sklearn-color-fitted-level-1) 1pt solid;\n",
       "  color: var(--sklearn-color-fitted-level-1);\n",
       "}\n",
       "\n",
       "/* On hover */\n",
       "#sk-container-id-1 a.estimator_doc_link:hover {\n",
       "  /* unfitted */\n",
       "  background-color: var(--sklearn-color-unfitted-level-3);\n",
       "  color: var(--sklearn-color-background);\n",
       "  text-decoration: none;\n",
       "}\n",
       "\n",
       "#sk-container-id-1 a.estimator_doc_link.fitted:hover {\n",
       "  /* fitted */\n",
       "  background-color: var(--sklearn-color-fitted-level-3);\n",
       "}\n",
       "</style><div id=\"sk-container-id-1\" class=\"sk-top-container\"><div class=\"sk-text-repr-fallback\"><pre>RandomForestRegressor(n_estimators=20, n_jobs=-1, random_state=42)</pre><b>In a Jupyter environment, please rerun this cell to show the HTML representation or trust the notebook. <br />On GitHub, the HTML representation is unable to render, please try loading this page with nbviewer.org.</b></div><div class=\"sk-container\" hidden><div class=\"sk-item\"><div class=\"sk-estimator fitted sk-toggleable\"><input class=\"sk-toggleable__control sk-hidden--visually\" id=\"sk-estimator-id-1\" type=\"checkbox\" checked><label for=\"sk-estimator-id-1\" class=\"sk-toggleable__label fitted sk-toggleable__label-arrow\"><div><div>RandomForestRegressor</div></div><div><a class=\"sk-estimator-doc-link fitted\" rel=\"noreferrer\" target=\"_blank\" href=\"https://scikit-learn.org/1.6/modules/generated/sklearn.ensemble.RandomForestRegressor.html\">?<span>Documentation for RandomForestRegressor</span></a><span class=\"sk-estimator-doc-link fitted\">i<span>Fitted</span></span></div></label><div class=\"sk-toggleable__content fitted\"><pre>RandomForestRegressor(n_estimators=20, n_jobs=-1, random_state=42)</pre></div> </div></div></div></div>"
      ],
      "text/plain": [
       "RandomForestRegressor(n_estimators=20, n_jobs=-1, random_state=42)"
      ]
     },
     "execution_count": 6,
     "metadata": {},
     "output_type": "execute_result"
    }
   ],
   "source": [
    "rf_base = RandomForestRegressor(n_estimators=20, random_state=42, n_jobs=-1)\n",
    "rf_base.fit(X_train, y_train)"
   ]
  },
  {
   "cell_type": "markdown",
   "id": "f8d3cd97",
   "metadata": {},
   "source": [
    "### Evaluate Model"
   ]
  },
  {
   "cell_type": "markdown",
   "id": "edc68ac6",
   "metadata": {},
   "source": [
    "#### Metrics"
   ]
  },
  {
   "cell_type": "code",
   "execution_count": 7,
   "id": "e0010b0d",
   "metadata": {},
   "outputs": [],
   "source": [
    "# Create dataframe to track metrics\n",
    "metrics_df = pd.DataFrame(columns=['model', 'params', 'MAE', 'RMSE', 'R²'])"
   ]
  },
  {
   "cell_type": "code",
   "execution_count": 8,
   "id": "a6083fe9",
   "metadata": {},
   "outputs": [],
   "source": [
    "def add_metrics(metrics_df:pd.DataFrame, model, y_pred:pd.Series, y_val:pd.Series, model_name:str) -> pd.DataFrame:\n",
    "\tmae = mean_absolute_error(y_val, y_pred)\n",
    "\trmse = root_mean_squared_error(y_val, y_pred)\n",
    "\tr2 = r2_score(y_val, y_pred)\n",
    "\n",
    "\tmetrics_df.loc[len(metrics_df)] = [model_name, model.get_params(), mae, rmse, r2]\n",
    "\treturn metrics_df"
   ]
  },
  {
   "cell_type": "code",
   "execution_count": 9,
   "id": "1285eb70",
   "metadata": {},
   "outputs": [
    {
     "data": {
      "application/vnd.microsoft.datawrangler.viewer.v0+json": {
       "columns": [
        {
         "name": "index",
         "rawType": "int64",
         "type": "integer"
        },
        {
         "name": "model",
         "rawType": "object",
         "type": "string"
        },
        {
         "name": "MAE",
         "rawType": "float64",
         "type": "float"
        },
        {
         "name": "RMSE",
         "rawType": "float64",
         "type": "float"
        },
        {
         "name": "R²",
         "rawType": "float64",
         "type": "float"
        }
       ],
       "conversionMethod": "pd.DataFrame",
       "ref": "e5c457f6-348c-4145-964b-f4e88d459528",
       "rows": [
        [
         "0",
         "rf_base",
         "97.97337146705988",
         "152.7559575073524",
         "-0.1622298465483205"
        ]
       ],
       "shape": {
        "columns": 4,
        "rows": 1
       }
      },
      "text/html": [
       "<div>\n",
       "<style scoped>\n",
       "    .dataframe tbody tr th:only-of-type {\n",
       "        vertical-align: middle;\n",
       "    }\n",
       "\n",
       "    .dataframe tbody tr th {\n",
       "        vertical-align: top;\n",
       "    }\n",
       "\n",
       "    .dataframe thead th {\n",
       "        text-align: right;\n",
       "    }\n",
       "</style>\n",
       "<table border=\"1\" class=\"dataframe\">\n",
       "  <thead>\n",
       "    <tr style=\"text-align: right;\">\n",
       "      <th></th>\n",
       "      <th>model</th>\n",
       "      <th>MAE</th>\n",
       "      <th>RMSE</th>\n",
       "      <th>R²</th>\n",
       "    </tr>\n",
       "  </thead>\n",
       "  <tbody>\n",
       "    <tr>\n",
       "      <th>0</th>\n",
       "      <td>rf_base</td>\n",
       "      <td>97.973371</td>\n",
       "      <td>152.755958</td>\n",
       "      <td>-0.16223</td>\n",
       "    </tr>\n",
       "  </tbody>\n",
       "</table>\n",
       "</div>"
      ],
      "text/plain": [
       "     model        MAE        RMSE       R²\n",
       "0  rf_base  97.973371  152.755958 -0.16223"
      ]
     },
     "execution_count": 9,
     "metadata": {},
     "output_type": "execute_result"
    }
   ],
   "source": [
    "# Calculate metrics\n",
    "y_pred = rf_base.predict(X_val)\n",
    "metrics_df = add_metrics(metrics_df, rf_base, y_pred, y_val, 'rf_base')\n",
    "metrics_df[['model', 'MAE', 'RMSE', 'R²']]"
   ]
  },
  {
   "cell_type": "markdown",
   "id": "2ec75f51",
   "metadata": {},
   "source": [
    "**MAE**<br>\n",
    "On average, the predictions are off by 72 seconds, which seems acceptable.\n",
    "\n",
    "**RMSE**<br>\n",
    "The higher RMSE compared to MAE suggests that there are some significant prediction errors that influence the overall error metric.\n",
    "\n",
    "**R²**<br>\n",
    "The model explains 22% of the variance in the actual delays, which is not good, but understandable considering how noisy and random transit delays can be (weather, mechanical issues, accidents, etc.)"
   ]
  },
  {
   "cell_type": "markdown",
   "id": "d21718e8",
   "metadata": {},
   "source": [
    "#### K-Fold Cross Validation"
   ]
  },
  {
   "cell_type": "code",
   "execution_count": null,
   "id": "6406125b",
   "metadata": {},
   "outputs": [],
   "source": [
    "def get_cv_scores(model, X_train:pd.DataFrame, y_train:pd.Series, k:int=5) -> pd.DataFrame:\n",
    "\tscoring = {\n",
    "  \t\t'MAE': make_scorer(mean_absolute_error, greater_is_better=False),\n",
    "  \t\t'RMSE': make_scorer(root_mean_squared_error, greater_is_better=False),\n",
    "  \t\t'R²': make_scorer(r2_score, greater_is_better=True)\n",
    "\t}\n",
    "\tcv_scores = cross_validate(model, X_train, y_train, scoring=scoring, cv=k, n_jobs=-1)\n",
    "\treturn pd.DataFrame(cv_scores)"
   ]
  },
  {
   "cell_type": "code",
   "execution_count": null,
   "id": "9cf4208a",
   "metadata": {},
   "outputs": [],
   "source": [
    "cv_scores_df = get_cv_scores(rf_base, X_train, y_train)\n",
    "cv_scores_df"
   ]
  },
  {
   "cell_type": "code",
   "execution_count": null,
   "id": "26f1f902",
   "metadata": {},
   "outputs": [],
   "source": [
    "def add_cv_metrics(metrics_df:pd.DataFrame, cv_scores_df:pd.DataFrame, model, model_name:str) -> pd.DataFrame:\n",
    "\tmae = -cv_scores_df['test_MAE'].mean()\n",
    "\trmse = -cv_scores_df['test_RMSE'].mean()\n",
    "\tr2 = cv_scores_df['test_R²'].mean()\n",
    "\tmetrics_df.loc[len(metrics_df)] = [model_name, model.get_params(), mae, rmse, r2]\n",
    "\n",
    "\treturn metrics_df"
   ]
  },
  {
   "cell_type": "code",
   "execution_count": null,
   "id": "4dcbef38",
   "metadata": {},
   "outputs": [],
   "source": [
    "# Add average metrics to dataframe\n",
    "metrics_df = add_cv_metrics(metrics_df, cv_scores_df, rf_base, 'rf_base_cv')\n",
    "metrics_df[['model', 'MAE', 'RMSE', 'R²']]"
   ]
  },
  {
   "cell_type": "markdown",
   "id": "55a84d6f",
   "metadata": {},
   "source": [
    "#### Residual Analysis"
   ]
  },
  {
   "cell_type": "code",
   "execution_count": null,
   "id": "0da7c5d7",
   "metadata": {},
   "outputs": [],
   "source": [
    "def plot_residuals(y_pred: pd.Series, y_true:pd.Series, model_name:str) -> None:\n",
    "\tfig, (ax1, ax2) = plt.subplots(nrows=1, ncols=2, figsize=(15, 7))\n",
    "\n",
    "\t# Predicted vs. actual values\n",
    "\tax1.scatter(x=y_pred, y=y_true)\n",
    "\tax1.set_title('Predicted vs. Actual values')\n",
    "\tax1.set_xlabel('Predicted delay (seconds)')\n",
    "\tax1.set_ylabel('Actual delay (seconds)')\n",
    "\tax1.grid(True)\n",
    "\n",
    "\t# Residuals\n",
    "\tresiduals = y_true - y_pred\n",
    "\tax2.scatter(x=y_pred, y=residuals)\n",
    "\tax2.set_title('Residual Plot')\n",
    "\tax2.set_xlabel('Predicted Delay (seconds)')\n",
    "\tax2.set_ylabel('Residuals (seconds)')\n",
    "\tax2.axhline(0, linestyle='--', color='orange')\n",
    "\tax2.grid(True)\n",
    "\n",
    "\tfig.suptitle('Residual Analysis', fontsize=18)\n",
    "\tfig.tight_layout()\n",
    "\tfig.savefig(f'../images/residual_analysis_{model_name}.png', bbox_inches='tight')\n",
    "\tplt.show()"
   ]
  },
  {
   "cell_type": "code",
   "execution_count": null,
   "id": "96184a44",
   "metadata": {},
   "outputs": [],
   "source": [
    "plot_residuals(y_pred, y_val, 'rf_base')"
   ]
  },
  {
   "cell_type": "markdown",
   "id": "7be9955c",
   "metadata": {},
   "source": [
    "The predicted vs. actual plot shows a scatter of points, with some spread around the diagonal line, which indicates the model's predictions are not perfect but are reasonable. The spread of points suggests the model has a reasonable fit but doesn't handle extreme delays very well.\n",
    "\n",
    "From the residual plot, it seems that the residuals are fairly spread out, with visible funnel shapes and most of the data clustered around 0, but also a significant spread both above and below the 0 line. This suggests there is no clear pattern in residuals (not biased in one direction). Also, it suggests the residuals appear to increase as the predicted delay increases, meaning the model prediction errors are larger for higher predicted delays (heteroscedasticity). This means the model is better at predicting small delays than large delays."
   ]
  },
  {
   "cell_type": "markdown",
   "id": "f5e1c0cb",
   "metadata": {},
   "source": [
    "### Hyperparameter tuning"
   ]
  },
  {
   "cell_type": "markdown",
   "id": "d300c522",
   "metadata": {},
   "source": [
    "Due to the large volume of data, the Randomized Search will be run instead of a Grid Search. Also, it will be done manually with early stopping to save computation time, because there's no retraining from scratch each time."
   ]
  },
  {
   "cell_type": "code",
   "execution_count": null,
   "id": "dc99905b",
   "metadata": {},
   "outputs": [],
   "source": [
    "def random_search_rf(X_train, X_val, y_train, y_val, start_rmse:float, nb_combinations:int=10) -> dict:\n",
    "\tn_estimators_range = range(50, 750, 20) \n",
    "\tmax_depth_options = [None, 10, 20]\n",
    "\tmax_features_options = ['sqrt', 'log2', 0.8]\n",
    "\tmin_samples_split_options = [2, 5, 10]\n",
    "\tmin_samples_leaf_options = [1, 2, 5]\n",
    "\tmax_leaf_nodes_options = [None, 50, 100]\n",
    "\n",
    "\tbest_rmse = start_rmse\n",
    "\tbest_params = {}\n",
    "\tresult = {}\n",
    "\n",
    "\t# Loop over combinations and number of trees\n",
    "\tfor _ in range(nb_combinations):\n",
    "\t\tmax_depth = random.choice(max_depth_options)\n",
    "\t\tmax_features = random.choice(max_features_options)\n",
    "\t\tmin_samples_split = random.choice(min_samples_split_options)\n",
    "\t\tmin_samples_leaf = random.choice(min_samples_leaf_options)\n",
    "\t\tmax_leaf_nodes = random.choice(max_leaf_nodes_options)\n",
    "\t\t\n",
    "\t\trf = RandomForestRegressor(\n",
    "\t\t\twarm_start=True,\n",
    "\t\t\tn_estimators=50,\n",
    "\t\t\tmax_depth=max_depth,\n",
    "\t\t\tmax_features=max_features,\n",
    "\t\t\tmin_samples_split=min_samples_split,\n",
    "\t\t\tmin_samples_leaf=min_samples_leaf,\n",
    "\t\t\tmax_leaf_nodes=max_leaf_nodes,\n",
    "\t\t\trandom_state=42,\n",
    "\t\t\tn_jobs=-1\n",
    "\t\t)\n",
    "\n",
    "\t\terrors = []\n",
    "\t\t\n",
    "\t\tfor n in n_estimators_range:\n",
    "\t\t\trf.n_estimators = n\n",
    "\t\t\tparams = {\n",
    "\t\t\t\t'n_estimators': rf.n_estimators,\n",
    "\t\t\t\t'max_depth': rf.max_depth,\n",
    "\t\t\t\t'max_features': rf.max_features,\n",
    "\t\t\t\t'min_samples_split': rf.min_samples_split,\n",
    "\t\t\t\t'min_samples_leaf': rf.min_samples_leaf,\n",
    "\t\t\t\t'max_leaf_nodes': rf.max_leaf_nodes\n",
    "\t\t\t}\n",
    "\n",
    "\t\t\trf.fit(X_train, y_train)\n",
    "\t\t\tpreds = rf.predict(X_val)\n",
    "\t\t\trmse = root_mean_squared_error(y_val, preds)\n",
    "\t\t\terrors.append(rmse)\n",
    "\t\t\t\n",
    "\t\t\tif rmse < best_rmse:\n",
    "\t\t\t\tbest_rmse = rmse\n",
    "\t\t\t\tbest_params = params\n",
    "\t\t\t\tresult = {\n",
    "\t\t\t\t\t'best_rmse': best_rmse,\n",
    "\t\t\t\t\t'best_params': best_params\n",
    "\t\t\t\t}\n",
    "\t\n",
    "\treturn result"
   ]
  },
  {
   "cell_type": "code",
   "execution_count": null,
   "id": "a84580a1",
   "metadata": {},
   "outputs": [],
   "source": [
    "# Run random search\n",
    "start_rmse = float(metrics_df['RMSE'].min())\n",
    "search = random_search_rf(X_train, X_val, y_train, y_val, start_rmse)\n",
    "\n",
    "if not search:\n",
    "\tprint('No better parameters were found.')\n",
    "else:\n",
    "\tbest_params = search['best_params']\n",
    "\tprint(f'Best parameters found: {best_params} with RMSE: {search['best_rmse']:.4f}')\t"
   ]
  },
  {
   "cell_type": "code",
   "execution_count": null,
   "id": "a439d822",
   "metadata": {},
   "outputs": [],
   "source": [
    "# Fit model with best parameters\n",
    "rf_tuned = RandomForestRegressor(\n",
    "  \tn_estimators=best_params['n_estimators'],\n",
    "    max_depth=best_params['max_depth'],\n",
    "\tmax_features=best_params['max_features'],\n",
    "  \tmin_samples_split=best_params['min_samples_split'],\n",
    "  \tmin_samples_leaf=best_params['min_samples_leaf'],\n",
    "  \tmax_leaf_nodes=best_params['max_leaf_nodes'],\n",
    "  \trandom_state=42,\n",
    "    n_jobs=-1\n",
    ")\n",
    "\n",
    "rf_tuned.fit(X_train, y_train)"
   ]
  },
  {
   "cell_type": "code",
   "execution_count": null,
   "id": "012c2bbf",
   "metadata": {},
   "outputs": [],
   "source": [
    "# Calculate metrics\n",
    "y_pred = rf_tuned.predict(X_val)\n",
    "metrics_df = add_metrics(metrics_df, rf_tuned, y_pred, y_val, 'rf_tuned')\n",
    "metrics_df[['model', 'MAE', 'RMSE', 'R²']]"
   ]
  },
  {
   "cell_type": "code",
   "execution_count": null,
   "id": "d4f7d6d3",
   "metadata": {},
   "outputs": [],
   "source": [
    "# Cross validate again\n",
    "cv_scores_df = get_cv_scores(rf_tuned, X_train, y_train)\n",
    "cv_scores_df"
   ]
  },
  {
   "cell_type": "code",
   "execution_count": null,
   "id": "bfd4f62e",
   "metadata": {},
   "outputs": [],
   "source": [
    "# Add average metrics to dataframe\n",
    "metrics_df = add_cv_metrics(metrics_df, cv_scores_df, rf_tuned, 'rf_tuned_cv')\n",
    "metrics_df[['model', 'MAE', 'RMSE', 'R²']]"
   ]
  },
  {
   "cell_type": "markdown",
   "id": "57e9ba44",
   "metadata": {},
   "source": [
    "### Feature Importances"
   ]
  },
  {
   "cell_type": "code",
   "execution_count": null,
   "id": "933ac4ee",
   "metadata": {},
   "outputs": [],
   "source": [
    "rf_tuned = rf_base\n",
    "importances = rf_tuned.feature_importances_\n",
    "std = np.std([tree.feature_importances_ for tree in rf_tuned.estimators_], axis=0)"
   ]
  },
  {
   "cell_type": "code",
   "execution_count": null,
   "id": "dfd2d84b",
   "metadata": {},
   "outputs": [],
   "source": [
    "# Sort predictors\n",
    "feature_importances = pd.Series(importances, index=X.columns)\n",
    "feature_importances = feature_importances.sort_values(ascending=False)\n",
    "feature_importances"
   ]
  },
  {
   "cell_type": "code",
   "execution_count": null,
   "id": "3b4e0816",
   "metadata": {},
   "outputs": [],
   "source": [
    "# Plot the impurity-based importance (MDI)\n",
    "fig, ax = plt.subplots()\n",
    "feature_importances.plot.bar(yerr=std, ax=ax)\n",
    "ax.set_title('Feature importances using MDI')\n",
    "ax.set_ylabel('Mean decrease in impurity')\n",
    "fig.tight_layout()\n",
    "plt.savefig('../images/mdi_rf_tuned.png', bbox_inches='tight')\n",
    "plt.show()"
   ]
  },
  {
   "cell_type": "markdown",
   "id": "a26a7129",
   "metadata": {},
   "source": [
    "Interpret plot"
   ]
  },
  {
   "cell_type": "markdown",
   "id": "72139406",
   "metadata": {},
   "source": [
    "### Recursive Feature Elimination (RFE)"
   ]
  },
  {
   "cell_type": "code",
   "execution_count": null,
   "id": "d02afb68",
   "metadata": {},
   "outputs": [],
   "source": [
    "rfe_list = []\n",
    "X_current = X.copy()\n",
    "X_train_current = X_train.copy()\n",
    "X_val_current = X_val.copy()\n",
    "best_rmse = float(metrics_df['RMSE'].min())\n",
    "best_features = X_train_current.columns.tolist()\n",
    "patience = 2 # allow 2 RMSE increases before stopping\n",
    "patience_counter = 0 \n",
    "\n",
    "keep_going = True\n",
    "\n",
    "while keep_going and len(X_current.columns) > 5: # keep at least 5 features\n",
    "\t# Fit model\n",
    "\trf = RandomForestRegressor(\n",
    "\t\tn_estimators=best_params['n_estimators'],\n",
    "\t\tmin_samples_split=best_params['min_samples_split'],\n",
    "  \t\tmin_samples_leaf=best_params['min_samples_leaf'],\n",
    "  \t\tmax_leaf_nodes=best_params['max_leaf_nodes'],\n",
    "  \t\tmax_depth=best_params['max_depth'],\n",
    "  \t\tmax_features=best_params['max_features'],\n",
    "\t\trandom_state=42,\n",
    "\t\tn_jobs=-1\n",
    "\t)\n",
    "\n",
    "\tnb_features = len(X_current.columns)\n",
    "\trf.fit(X_train_current, y_train)\n",
    "\n",
    "\t# Predict and calculate RMSE\n",
    "\ty_pred = rf.predict(X_val_current)\n",
    "\trmse = root_mean_squared_error(y_val, y_pred)\n",
    "\n",
    "\trfe = {\n",
    "\t\t'nb_features': nb_features,\n",
    "\t\t'rmse': rmse\n",
    "\t}\n",
    "\n",
    "\t# Feature importances\n",
    "\timportances = pd.Series(rf.feature_importances_, index=X_current.columns)\n",
    "\tweakest_feature = importances.idxmin()\n",
    "\n",
    "\tif rmse <= best_rmse:\n",
    "\t\tbest_rmse = rmse\n",
    "\t\tbest_features = X_current.columns.tolist()\n",
    "\t\t\n",
    "\t\t# Drop the weakest feature\n",
    "\t\tprint(f'RMSE: {rmse:.4f} | Dropping: {weakest_feature} (importance {importances.min():.6f})')\n",
    "\t\tX_current = X_current.drop(columns=[weakest_feature], axis=1)\n",
    "\t\tX_train_current = X_train_current.drop(columns=[weakest_feature], axis=1)\n",
    "\t\tX_val_current = X_val_current.drop(columns=[weakest_feature], axis=1)\n",
    "\n",
    "\t\tpatience_counter = 0 # reset patience is RMSE improves\n",
    "\t\trfe['worsened_point'] = False\n",
    "\t\trfe_list.append(rfe)\n",
    "\telse:\n",
    "\t\tpatience_counter += 1\n",
    "\t\trfe['worsened_point'] = True\n",
    "\t\trfe_list.append(rfe)\n",
    "\t\tprint(f'Patience counter: {patience_counter}/{patience}')\n",
    "\n",
    "\t\tif patience_counter >= patience:\n",
    "\t\t\tprint('Performance worsened too much. Stopping feature elimination.')\n",
    "\t\t\tkeep_going = False\n",
    "\t\telse:\n",
    "\t\t\t# Allow two bad steps: still drop feature and continue\n",
    "\t\t\tX_current = X_current.drop(columns=[weakest_feature], axis=1)\n",
    "\t\t\tX_train_current = X_train_current.drop(columns=[weakest_feature], axis=1)\n",
    "\t\t\tX_val_current = X_val_current.drop(columns=[weakest_feature], axis=1)\n",
    "\n",
    "\n",
    "rfe_df = pd.DataFrame(rfe_list)\n",
    "\n",
    "if len(X_current.columns) < len(X.columns):\n",
    "\tprint('\\nBest set of features found:')\n",
    "\tprint('\\n'.join(best_features))\n",
    "\tprint(f'Final validation RMSE: {best_rmse:.4f}')\n",
    "else:\n",
    "\tprint('The features remain the same.')"
   ]
  },
  {
   "cell_type": "code",
   "execution_count": null,
   "id": "60c5cd6c",
   "metadata": {},
   "outputs": [],
   "source": [
    "# Plot RSME at each step\n",
    "plt.figure(figsize=(10,6))\n",
    "plt.plot(rfe_df['nb_features'], rfe_df['rmse'], marker='o')\n",
    "plt.gca().invert_xaxis() # Highest number of features on the left\n",
    "plt.xlabel('Number of Features')\n",
    "plt.ylabel('Validation RMSE')\n",
    "plt.title('Recursive Feature Elimination Progress')\n",
    "plt.grid(True)\n",
    "plt.savefig('../images/rfe_rf_tuned.png', bbox_inches='tight')\n",
    "plt.show()"
   ]
  },
  {
   "cell_type": "code",
   "execution_count": null,
   "id": "7ceeb4f1",
   "metadata": {},
   "outputs": [],
   "source": [
    "# Keep best features\n",
    "X_best = X[best_features]\n",
    "X_train_best = X_train[best_features]\n",
    "X_val_best = X_val[best_features]"
   ]
  },
  {
   "cell_type": "code",
   "execution_count": null,
   "id": "7471102c",
   "metadata": {},
   "outputs": [],
   "source": [
    "# Retrain model on reduced features\n",
    "rf_retrained = RandomForestRegressor(\n",
    "  \tn_estimators=best_params['n_estimators'],\n",
    "  \tmin_samples_split=best_params['min_samples_split'],\n",
    "  \tmin_samples_leaf=best_params['min_samples_leaf'],\n",
    "  \tmax_leaf_nodes=best_params['max_leaf_nodes'],\n",
    "  \tmax_depth=best_params['max_depth'],\n",
    "  \tmax_features=best_params['max_features'],\n",
    "  \trandom_state=42,\n",
    "    n_jobs=-1\n",
    ")\n",
    "\n",
    "rf_retrained.fit(X_train_best, y_train)"
   ]
  },
  {
   "cell_type": "code",
   "execution_count": null,
   "id": "583069ce",
   "metadata": {},
   "outputs": [],
   "source": [
    "# Evaluate model\n",
    "y_pred = rf_retrained.predict(X_val_best)\n",
    "\n",
    "metrics_df = add_metrics(metrics_df, rf_retrained, y_pred, y_val, 'rf_retrained')\n",
    "metrics_df[['model', 'MAE', 'RMSE', 'R²']]"
   ]
  },
  {
   "cell_type": "markdown",
   "id": "31d9c686",
   "metadata": {},
   "source": [
    "### Retune Parameters"
   ]
  },
  {
   "cell_type": "code",
   "execution_count": null,
   "id": "9576d780",
   "metadata": {},
   "outputs": [],
   "source": [
    "# Random search\n",
    "start_rmse = float(metrics_df['RMSE'].min())\n",
    "search = random_search_rf(X_train_best, X_val_best, y_train, y_val, start_rmse, 5)\n",
    "\n",
    "if not search:\n",
    "\tprint('No better parameters were found.')\n",
    "else:\n",
    "\tbest_params = search['best_params']\n",
    "\tprint(f'Best parameters found: {best_params} with RMSE: {search['best_rmse']:.4f}')\t"
   ]
  },
  {
   "cell_type": "raw",
   "id": "cdcd63a9",
   "metadata": {
    "vscode": {
     "languageId": "raw"
    }
   },
   "source": [
    "# Fit model with best parameters\n",
    "rf_final = RandomForestRegressor(\n",
    "  \tn_estimators=best_params['n_estimators'],\n",
    "  \tmin_samples_split=best_params['min_samples_split'],\n",
    "  \tmin_samples_leaf=best_params['min_samples_leaf'],\n",
    "  \tmax_leaf_nodes=best_params['max_leaf_nodes'],\n",
    "  \tmax_depth=best_params['max_depth'],\n",
    "  \tmax_features=best_params['max_features'],\n",
    "  \trandom_state=42,\n",
    "    n_jobs=-1\n",
    ")\n",
    "\n",
    "rf_final.fit(X_train_best, y_train)"
   ]
  },
  {
   "cell_type": "markdown",
   "id": "594932d2",
   "metadata": {},
   "source": [
    "### Revalidate Model"
   ]
  },
  {
   "cell_type": "raw",
   "id": "75bafe7e",
   "metadata": {
    "vscode": {
     "languageId": "raw"
    }
   },
   "source": [
    "# Evaluate model\n",
    "y_pred = rf_final.predict(X_val_best)\n",
    "\n",
    "metrics_df = add_metrics(metrics_df, rf_final, y_pred, y_val, 'rf_final')\n",
    "metrics_df[['model', 'MAE', 'RMSE', 'R²']]"
   ]
  },
  {
   "cell_type": "raw",
   "id": "364456e3",
   "metadata": {
    "vscode": {
     "languageId": "raw"
    }
   },
   "source": [
    "# Cross validation\n",
    "cv_scores_df = get_cv_scores(rf_base, X_train, y_train)\n",
    "cv_scores_df"
   ]
  },
  {
   "cell_type": "raw",
   "id": "f489994e",
   "metadata": {
    "vscode": {
     "languageId": "raw"
    }
   },
   "source": [
    "# Add average metrics to dataframe\n",
    "add_cv_metrics(rf_final, 'rf_final_cv')\n",
    "metrics_df[['model', 'MAE', 'RMSE', 'R²']]"
   ]
  },
  {
   "cell_type": "markdown",
   "id": "366a7e93",
   "metadata": {},
   "source": [
    "Interpret results"
   ]
  },
  {
   "cell_type": "code",
   "execution_count": null,
   "id": "b025c86f",
   "metadata": {},
   "outputs": [],
   "source": [
    "plot_residuals(y_pred, y_val, 'rf_final')"
   ]
  },
  {
   "cell_type": "markdown",
   "id": "c813fb00",
   "metadata": {
    "vscode": {
     "languageId": "raw"
    }
   },
   "source": [
    "The plots didn't change much."
   ]
  },
  {
   "cell_type": "markdown",
   "id": "fd460a65",
   "metadata": {},
   "source": [
    "Interpret plot"
   ]
  },
  {
   "cell_type": "code",
   "execution_count": null,
   "id": "08c29f03",
   "metadata": {},
   "outputs": [],
   "source": [
    "# Display best model\n",
    "metrics_df.loc[metrics_df['RMSE'].idxmin(), ['model', 'MAE', 'RMSE', 'R²']]"
   ]
  },
  {
   "cell_type": "code",
   "execution_count": null,
   "id": "d063263d",
   "metadata": {},
   "outputs": [],
   "source": [
    "# Save best parameters and features\n",
    "rf_attributes = {\n",
    "\t'best_params': best_params,\n",
    "  \t'best_features': best_features,\n",
    "}\n",
    "\n",
    "with open('../models/rf_attributes.pkl', 'wb') as handle:\n",
    "\tpickle.dump(rf_attributes, handle, protocol=pickle.HIGHEST_PROTOCOL)"
   ]
  },
  {
   "cell_type": "code",
   "execution_count": null,
   "id": "6b82a995",
   "metadata": {},
   "outputs": [],
   "source": [
    "rf_final = rf_retrained"
   ]
  },
  {
   "cell_type": "code",
   "execution_count": null,
   "id": "c7f63167",
   "metadata": {},
   "outputs": [],
   "source": [
    "# Save model\n",
    "joblib.dump(rf_final, '../models/rf_model.pkl')"
   ]
  },
  {
   "cell_type": "markdown",
   "id": "dd3e723e",
   "metadata": {},
   "source": [
    "## Second Model: Random Forest + Gradient Boosting (Model ensembling)"
   ]
  },
  {
   "cell_type": "markdown",
   "id": "439b73fc",
   "metadata": {},
   "source": [
    "### Fit Base Model"
   ]
  },
  {
   "cell_type": "code",
   "execution_count": null,
   "id": "1d824670",
   "metadata": {},
   "outputs": [],
   "source": [
    "# Initialize Random Forest (with best parameters of final rf model) and Gradient Boosting models\n",
    "rf = RandomForestRegressor(\n",
    " \tn_estimators=best_params['n_estimators'],\n",
    "  \tmin_samples_split=best_params['min_samples_split'],\n",
    "  \tmin_samples_leaf=best_params['min_samples_leaf'],\n",
    "  \tmax_leaf_nodes=best_params['max_leaf_nodes'],\n",
    "  \tmax_depth=best_params['max_depth'],\n",
    "  \tmax_features=best_params['max_features'],\n",
    "  \trandom_state=42,\n",
    "  \tn_jobs=-1)\n",
    "gb = GradientBoostingRegressor(n_estimators=100, random_state=42)"
   ]
  },
  {
   "cell_type": "code",
   "execution_count": null,
   "id": "e85ebbfb",
   "metadata": {},
   "outputs": [],
   "source": [
    "# Define the ensemble model (VotingRegressor)\n",
    "ensemble_base = VotingRegressor(estimators=[('rf', rf), ('gb', gb)])"
   ]
  },
  {
   "cell_type": "code",
   "execution_count": null,
   "id": "a16dd08c",
   "metadata": {},
   "outputs": [],
   "source": [
    "# Fit the model\n",
    "ensemble_base.fit(X_train, y_train)"
   ]
  },
  {
   "cell_type": "markdown",
   "id": "b5b63243",
   "metadata": {},
   "source": [
    "### Evaluate Model"
   ]
  },
  {
   "cell_type": "code",
   "execution_count": null,
   "id": "3cffacfc",
   "metadata": {},
   "outputs": [],
   "source": [
    "y_pred = ensemble_base.predict(X_val)\n",
    "\n",
    "metrics_df = add_metrics(metrics_df, ensemble_base, y_pred, y_val, 'ensemble_base')\n",
    "metrics_df[['model', 'MAE', 'RMSE', 'R²']]"
   ]
  },
  {
   "cell_type": "markdown",
   "id": "7bb6672a",
   "metadata": {},
   "source": [
    "**MAE:**\n",
    "\n",
    "The MAE has slightly increased compared to the previous model (69.63), indicating a small decrease in the accuracy of the ensemble model's predictions.\n",
    "\n",
    "**RMSE:**\n",
    "\n",
    "The RMSE has also increased compared to the previous model (116.54), which suggests that the ensemble might still be struggling with larger prediction errors, particularly for extreme delays.\n",
    "\n",
    "**R²**\n",
    "\n",
    "The R-squared value has dropped slightly from 0.263 to 0.247. This indicates that the ensemble model explains even less of the variance in the target variable than the previous model."
   ]
  },
  {
   "cell_type": "markdown",
   "id": "f1ddd7a1",
   "metadata": {},
   "source": [
    "**Interpretation**\n",
    "The ensemble approach combining Random Forest and Gradient Boosting has not resulted in a significant improvement over the base model, and the metrics have worsened slightly."
   ]
  },
  {
   "cell_type": "markdown",
   "id": "0459b917",
   "metadata": {},
   "source": [
    "## Third Model: XGBoost"
   ]
  },
  {
   "cell_type": "markdown",
   "id": "9ace9337",
   "metadata": {},
   "source": [
    "### Fit Base Model"
   ]
  },
  {
   "cell_type": "code",
   "execution_count": null,
   "id": "0a0418ad",
   "metadata": {},
   "outputs": [],
   "source": [
    "# Initialize the XGBoost model with default parameters\n",
    "xg_base = XGBRegressor(objective='reg:squarederror', n_estimators=100, random_state=42)"
   ]
  },
  {
   "cell_type": "code",
   "execution_count": null,
   "id": "fc3d72ff",
   "metadata": {},
   "outputs": [],
   "source": [
    "# Train a model\n",
    "xg_base.fit(X_train, y_train)"
   ]
  },
  {
   "cell_type": "markdown",
   "id": "cceae309",
   "metadata": {},
   "source": [
    "### Evaluate model"
   ]
  },
  {
   "cell_type": "code",
   "execution_count": null,
   "id": "7055edc3",
   "metadata": {},
   "outputs": [],
   "source": [
    "y_pred = xg_base.predict(X_val)\n",
    "\n",
    "metrics_df = add_metrics(metrics_df, xg_base, y_pred, y_val, 'xg_base')\n",
    "metrics_df[['model', 'MAE', 'RMSE', 'R²']]"
   ]
  },
  {
   "cell_type": "markdown",
   "id": "00ba2d20",
   "metadata": {},
   "source": [
    "**MAE:**\n",
    "\n",
    "This is a significant improvement over the previous models. The model is now, on average, 65.8 seconds off in its predictions, which is a reduction from the previous 69.6 seconds with the Random Forest and Gradient Boosting models.\n",
    "\n",
    "**RMSE:**\n",
    "\n",
    "The RMSE has also decreased compared to the previous ensemble model (117.83), indicating that the XGBoost model is performing better and has reduced the impact of large errors.\n",
    "\n",
    "**R²:**\n",
    "\n",
    "This is a substantial improvement from 0.247 (with the ensemble model). With an R-squared of 0,318%, the XGBoost model explains more variance in the data, which shows that it's capturing more of the underlying patterns than the previous models."
   ]
  },
  {
   "cell_type": "markdown",
   "id": "99d0a6d8",
   "metadata": {},
   "source": [
    "**Interpretation**\n",
    "\n",
    "XGBoost is performing better than the previous models (Random Forest and Gradient Boosting ensemble), particularly in terms of MAE and RMSE. The higher R-squared value also suggests that the model is now explaining more of the variance in the target variable."
   ]
  },
  {
   "cell_type": "markdown",
   "id": "316ead70",
   "metadata": {},
   "source": [
    "### Hyperparameter tuning"
   ]
  },
  {
   "cell_type": "code",
   "execution_count": null,
   "id": "35292701",
   "metadata": {},
   "outputs": [],
   "source": [
    "# Create a GridSearchCV object\n",
    "param_grid = {\n",
    "    'max_depth': [3, 5, 7],\n",
    "    'learning_rate': [0.01, 0.05, 0.1],\n",
    "    'n_estimators': [100, 200],\n",
    "    'subsample': [0.8, 1.0],\n",
    "    'colsample_bytree': [0.8, 1.0]\n",
    "}\n",
    "\n",
    "# Create a GridSearchCV object\n",
    "grid_search = GridSearchCV(\n",
    "\t\t\t\testimator=XGBRegressor(objective='reg:squarederror', random_state=42),\n",
    "\t\t\t\tparam_grid=param_grid,\n",
    "\t\t\t\tcv=3,\n",
    "\t\t\t\tverbose=1,\n",
    "\t\t\t\tn_jobs=-1)\n",
    "\n",
    "# Fit the model\n",
    "grid_search.fit(X_train, y_train)"
   ]
  },
  {
   "cell_type": "code",
   "execution_count": null,
   "id": "575413cd",
   "metadata": {},
   "outputs": [],
   "source": [
    "# Best parameters found\n",
    "print(f'Best parameters: {grid_search.best_params_}')"
   ]
  },
  {
   "cell_type": "code",
   "execution_count": null,
   "id": "54298005",
   "metadata": {},
   "outputs": [],
   "source": [
    "# Use the best model\n",
    "xg_tuned = grid_search.best_estimator_"
   ]
  },
  {
   "cell_type": "code",
   "execution_count": null,
   "id": "15ee1c13",
   "metadata": {},
   "outputs": [],
   "source": [
    "# Evaluate the best model\n",
    "y_pred = xg_tuned.predict(X_val)\n",
    "\n",
    "metrics_df = add_metrics(metrics_df, xg_tuned, y_pred, y_val, 'xg_tuned')\n",
    "metrics_df[['model', 'MAE', 'RMSE', 'R²']]"
   ]
  },
  {
   "cell_type": "markdown",
   "id": "f1e99b22",
   "metadata": {},
   "source": [
    "**MAE:**\n",
    "\n",
    "This is a small improvement over the previous MAE of 65.77 seconds. The model is now, on average, 64.2 seconds off in its predictions, which is a good step forward.\n",
    "\n",
    "**RMSE:**\n",
    "\n",
    "The RMSE has decreased again, from 112.11 to 110.89 seconds, indicating that the model has become slightly more accurate, especially in handling larger errors.\n",
    "\n",
    "**R²:**\n",
    "\n",
    "The R-squared value has increased marginally from 0.318 to 0.322, suggesting that the model is now explaining a bit more of the variance in the data, which is an improvement."
   ]
  },
  {
   "cell_type": "markdown",
   "id": "297898fb",
   "metadata": {},
   "source": [
    "## Final Model"
   ]
  },
  {
   "cell_type": "markdown",
   "id": "8f3e0a58",
   "metadata": {},
   "source": [
    "### Evaluation"
   ]
  },
  {
   "cell_type": "markdown",
   "id": "3a56472c",
   "metadata": {},
   "source": [
    "### Make Prediction"
   ]
  },
  {
   "cell_type": "raw",
   "id": "c66b3363",
   "metadata": {
    "vscode": {
     "languageId": "raw"
    }
   },
   "source": [
    "# Assign boolean values to weather columns\n",
    "df.iloc[7682, [26, 27]] = pd.DataFrame([(-69.61993646456422, 135.35999999837352)])"
   ]
  },
  {
   "cell_type": "raw",
   "id": "129df367",
   "metadata": {
    "vscode": {
     "languageId": "raw"
    }
   },
   "source": [
    "# Use forecast API (up to 2 weeks)"
   ]
  },
  {
   "cell_type": "raw",
   "id": "7aad8a0a",
   "metadata": {
    "vscode": {
     "languageId": "raw"
    }
   },
   "source": [
    "with open('models/encoders.pickle', 'rb') as handle:\n",
    "    encoders = pickle.load(handle)"
   ]
  },
  {
   "cell_type": "raw",
   "id": "f926e18d",
   "metadata": {
    "vscode": {
     "languageId": "raw"
    }
   },
   "source": [
    "# Export metrics\n",
    "metrics_df.to_csv('../data/model_metrics.csv', index=False)"
   ]
  },
  {
   "cell_type": "markdown",
   "id": "66d6a2fa",
   "metadata": {},
   "source": [
    "## End"
   ]
  }
 ],
 "metadata": {
  "kernelspec": {
   "display_name": "venv",
   "language": "python",
   "name": "python3"
  },
  "language_info": {
   "codemirror_mode": {
    "name": "ipython",
    "version": 3
   },
   "file_extension": ".py",
   "mimetype": "text/x-python",
   "name": "python",
   "nbconvert_exporter": "python",
   "pygments_lexer": "ipython3",
   "version": "3.13.3"
  }
 },
 "nbformat": 4,
 "nbformat_minor": 5
}
