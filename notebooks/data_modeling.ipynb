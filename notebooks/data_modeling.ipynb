{
 "cells": [
  {
   "cell_type": "markdown",
   "id": "6efc2fa1",
   "metadata": {},
   "source": [
    "# STM Transit Delay Data Modeling"
   ]
  },
  {
   "cell_type": "markdown",
   "id": "4e4739c1",
   "metadata": {},
   "source": [
    "This notebook explores three tree-based regression models in order to find the one that predicts the delay with the best accuracy."
   ]
  },
  {
   "cell_type": "markdown",
   "id": "95d218f9",
   "metadata": {},
   "source": [
    "## Imports"
   ]
  },
  {
   "cell_type": "code",
   "execution_count": null,
   "id": "f2dded95",
   "metadata": {},
   "outputs": [],
   "source": [
    "import joblib\n",
    "import matplotlib.pyplot as plt\n",
    "import numpy as np\n",
    "import pandas as pd\n",
    "import pickle\n",
    "from sklearn.ensemble import GradientBoostingRegressor, RandomForestRegressor, VotingRegressor\n",
    "from sklearn.metrics import mean_absolute_error, root_mean_squared_error, r2_score\n",
    "from sklearn.model_selection import train_test_split, RandomizedSearchCV\n",
    "from xgboost import XGBRegressor"
   ]
  },
  {
   "cell_type": "code",
   "execution_count": null,
   "id": "01d19b40",
   "metadata": {},
   "outputs": [],
   "source": [
    "df = pd.read_csv('../data/preprocessed.csv')"
   ]
  },
  {
   "cell_type": "markdown",
   "id": "6bc11b74",
   "metadata": {},
   "source": [
    "## Split the data"
   ]
  },
  {
   "cell_type": "code",
   "execution_count": null,
   "id": "35aee596",
   "metadata": {},
   "outputs": [],
   "source": [
    "# Separate the features from the target variable\n",
    "X = df.drop('delay', axis=1)\n",
    "y = df['delay']"
   ]
  },
  {
   "cell_type": "code",
   "execution_count": null,
   "id": "81c1f800",
   "metadata": {},
   "outputs": [],
   "source": [
    "# Train-validation-test split (70-15-15) \n",
    "# Use 70% for training because the dataset is large\n",
    "X_train, X_temp, y_train, y_temp = train_test_split(X, y, test_size=0.3, random_state=42)\n",
    "X_val, X_test, y_val, y_test = train_test_split(X_temp, y_temp, test_size=0.5, random_state=42)"
   ]
  },
  {
   "cell_type": "markdown",
   "id": "817f9998",
   "metadata": {},
   "source": [
    "Since only tree-based regression models are explored in this project, scaling is not needed because the models are not sensitive to the absolute scale or distribution of the features."
   ]
  },
  {
   "cell_type": "markdown",
   "id": "12352da5",
   "metadata": {},
   "source": [
    "## First Model: Random Forest Regression"
   ]
  },
  {
   "cell_type": "markdown",
   "id": "4e397c6c",
   "metadata": {},
   "source": [
    "### Find optimal number of trees"
   ]
  },
  {
   "cell_type": "code",
   "execution_count": null,
   "id": "7a5a1fd0",
   "metadata": {},
   "outputs": [],
   "source": [
    "# Initialize model with warm start to allow adding more trees without resetting\n",
    "rf = RandomForestRegressor(\n",
    "  n_estimators=20,\n",
    "  warm_start=True,\n",
    "  random_state=42,\n",
    "  n_jobs=-1\n",
    ")"
   ]
  },
  {
   "cell_type": "code",
   "execution_count": null,
   "id": "1762198c",
   "metadata": {},
   "outputs": [],
   "source": [
    "# Combine warm start with manual early stopping\n",
    "errors = []\n",
    "n_estimators_range = range(20, 720, 20)\n",
    "best_rmse = float('inf')\n",
    "best_n = 10\n",
    "\n",
    "for n in n_estimators_range:\n",
    "    rf.n_estimators = n\n",
    "    rf.fit(X_train, y_train)  # keep training, adding 20 more trees each time\n",
    "    preds = rf.predict(X_val)\n",
    "    rmse = root_mean_squared_error(y_val, preds)\n",
    "    errors.append(rmse)\n",
    "    \n",
    "    if rmse < best_rmse:\n",
    "        best_rmse = rmse\n",
    "        best_n = n\n",
    "\n",
    "print(f'Best number of trees: {best_n} with RMSE: {best_rmse:.4f}')"
   ]
  },
  {
   "cell_type": "code",
   "execution_count": null,
   "id": "d1de1a38",
   "metadata": {},
   "outputs": [],
   "source": [
    "# Plot the curve\n",
    "plt.plot(n_estimators_range, errors, marker='o')\n",
    "plt.axvline(x=best_n, color='r', linestyle='--', label=f'Best: {best_n} trees')\n",
    "plt.xlabel('Number of Trees')\n",
    "plt.ylabel('Validation RMSE')\n",
    "plt.title('Early Stopping for Random Forest')\n",
    "plt.legend()\n",
    "plt.grid(True)\n",
    "plt.tight_layout()\n",
    "plt.savefig('../images/early_stopping_rf.png')\n",
    "plt.show()"
   ]
  },
  {
   "cell_type": "markdown",
   "id": "3c3f41bd",
   "metadata": {},
   "source": [
    "### Fit Base Model"
   ]
  },
  {
   "cell_type": "code",
   "execution_count": null,
   "id": "ee7456e6",
   "metadata": {},
   "outputs": [],
   "source": [
    "# Use optimal number of trees\n",
    "rf_base = RandomForestRegressor(n_estimators=best_n, random_state=42, n_jobs=-1)\n",
    "rf_base.fit(X_train, y_train)"
   ]
  },
  {
   "cell_type": "markdown",
   "id": "f8d3cd97",
   "metadata": {},
   "source": [
    "### Evaluate Model"
   ]
  },
  {
   "cell_type": "markdown",
   "id": "edc68ac6",
   "metadata": {},
   "source": [
    "#### Metrics"
   ]
  },
  {
   "cell_type": "code",
   "execution_count": null,
   "id": "458242ec",
   "metadata": {},
   "outputs": [],
   "source": [
    "y_pred = rf_base.predict(X_val)\n",
    "\n",
    "mae = mean_absolute_error(y_val, y_pred)\n",
    "rmse = root_mean_squared_error(y_val, y_pred)\n",
    "r2 = r2_score(y_val, y_pred)\n",
    "\n",
    "# Create dataframe to track metrics\n",
    "metrics = [{'model': 'rf_base', 'params': rf_base.get_params(), 'mae': mae, 'rmse': rmse, 'R²': r2}]\n",
    "metrics_df = pd.DataFrame(metrics)\n",
    "metrics_df[['mae', 'rmse', 'R²']]"
   ]
  },
  {
   "cell_type": "markdown",
   "id": "2ec75f51",
   "metadata": {},
   "source": [
    "**MAE**<br>\n",
    "On average, the predictions are off by one minute, which seems reasonable.\n",
    "\n",
    "**RMSE**<br>\n",
    "The typical error being about 2 minutes seems pretty good.\n",
    "\n",
    "**R²**<br>\n",
    "The model explains 48% of the variance in the actual delays, which is not too bad, considering how noisy and random transit delays can be (weather, mechanical issues, accidents, etc.)"
   ]
  },
  {
   "cell_type": "markdown",
   "id": "55a84d6f",
   "metadata": {},
   "source": [
    "#### Residual Analysis"
   ]
  },
  {
   "cell_type": "code",
   "execution_count": null,
   "id": "9df576ef",
   "metadata": {},
   "outputs": [],
   "source": [
    "# Plot predicted vs. actual values\n",
    "plt.scatter(x=y_pred, y=y_val)\n",
    "plt.title('Predicted vs. Actual values')\n",
    "plt.xlabel('Predicted delay (seconds)')\n",
    "plt.ylabel('Actual delay (seconds)')\n",
    "plt.grid(True)\n",
    "plt.tight_layout()\n",
    "plt.savefig('../images/actual_vs_predict_rf_base.png', bbox_inches='tight')\n",
    "plt.show()"
   ]
  },
  {
   "cell_type": "markdown",
   "id": "7be9955c",
   "metadata": {},
   "source": [
    "The plot shows a scatter of points, with some spread around the diagonal line, which indicates the model's predictions are not perfect but are reasonable. The spread of points suggests the model has a reasonable fit but doesn't handle extreme delays very well."
   ]
  },
  {
   "cell_type": "code",
   "execution_count": null,
   "id": "1a26ed29",
   "metadata": {},
   "outputs": [],
   "source": [
    "# Plot residuals\n",
    "residuals = y_val - y_pred\n",
    "    \n",
    "plt.scatter(x=y_pred, y=residuals)\n",
    "plt.title('Residual Plot')\n",
    "plt.xlabel('Predicted Delay (seconds)')\n",
    "plt.ylabel('Residuals (seconds)')\n",
    "plt.axhline(0, linestyle='--', color='orange')\n",
    "plt.grid(True)\n",
    "plt.tight_layout()\n",
    "plt.savefig('../images/residual_plot_rf_base.png', bbox_inches='tight')\n",
    "plt.show()"
   ]
  },
  {
   "cell_type": "markdown",
   "id": "cfc68d9e",
   "metadata": {},
   "source": [
    "From the plot, it seems that the residuals are fairly spread out, with one visible funnel shape and most of the data clustered around 0, but also a significant spread both above and below the 0 line. This suggests there is no clear pattern in residuals (not biased in one direction). Also, it suggests the residuals appear to increase as the predicted delay increases, meaning the model prediction errors are larger for higher predicted delays (heteroscedasticity). This means the model is better at predicting small delays than large delays."
   ]
  },
  {
   "cell_type": "markdown",
   "id": "f5e1c0cb",
   "metadata": {},
   "source": [
    "### Hyperparameter tuning"
   ]
  },
  {
   "cell_type": "markdown",
   "id": "d300c522",
   "metadata": {},
   "source": [
    "Due to the large volume of data, a Randomized Search will be run instead of a Grid Search to save computation time."
   ]
  },
  {
   "cell_type": "code",
   "execution_count": null,
   "id": "a4a7ff4a",
   "metadata": {},
   "outputs": [],
   "source": [
    "# Randomized search with 5-Fold Cross Validation\n",
    "param_grid = {\n",
    "    'min_samples_split': [2, 5, 10],\n",
    "    'min_samples_leaf': [1, 2, 5],\n",
    "\t'max_leaf_nodes': [None, 50, 100],\n",
    "\t'max_depth': [None, 10, 20],\n",
    "  \t'max_features': ['sqrt', 'log2', 0.8],\n",
    "}\n",
    "\n",
    "random_model = RandomizedSearchCV(\n",
    "  estimator=RandomForestRegressor(n_estimators=best_n, random_state=42),\n",
    "  param_distributions=param_grid,\n",
    "  scoring='neg_root_mean_squared_error',\n",
    "  n_iter=10,\n",
    "  cv=5,\n",
    "  n_jobs=-1,\n",
    "  random_state=42\n",
    ")\n",
    "\n",
    "random_model.fit(X_train, y_train)"
   ]
  },
  {
   "cell_type": "code",
   "execution_count": null,
   "id": "a439d822",
   "metadata": {},
   "outputs": [],
   "source": [
    "# Fit model with best parameters\n",
    "best_params = random_model.best_params_\n",
    "\n",
    "rf_tuned = RandomForestRegressor(\n",
    "  \tn_estimators=best_n,\n",
    "  \tmin_samples_split=best_params['min_samples_split'],\n",
    "  \tmin_samples_leaf=best_params['min_samples_leaf'],\n",
    "  \tmax_leaf_nodes=best_params['max_leaf_nodes'],\n",
    "  \tmax_depth=best_params['max_depth'],\n",
    "  \tmax_features=best_params['max_features'],\n",
    "  \trandom_state=42,\n",
    "    n_jobs=-1\n",
    ")\n",
    "\n",
    "rf_tuned.fit(X_train, y_train)"
   ]
  },
  {
   "cell_type": "code",
   "execution_count": null,
   "id": "012c2bbf",
   "metadata": {},
   "outputs": [],
   "source": [
    "# Evaluate model\n",
    "y_pred = rf_tuned.predict(X_val)\n",
    "\n",
    "mae = mean_absolute_error(y_val, y_pred)\n",
    "rmse = root_mean_squared_error(y_val, y_pred)\n",
    "r2 = r2_score(y_val, y_pred)\n",
    "\n",
    "metrics_df.loc[len(metrics_df)] = ['rf_tuned', rf_tuned.get_params(), mae, rmse, r2]\n",
    "metrics_df"
   ]
  },
  {
   "cell_type": "markdown",
   "id": "548a035e",
   "metadata": {},
   "source": [
    "Interpret results"
   ]
  },
  {
   "cell_type": "markdown",
   "id": "57e9ba44",
   "metadata": {},
   "source": [
    "### Feature Importances"
   ]
  },
  {
   "cell_type": "code",
   "execution_count": null,
   "id": "933ac4ee",
   "metadata": {},
   "outputs": [],
   "source": [
    "importances = rf_tuned.feature_importances_\n",
    "std = np.std([tree.feature_importances_ for tree in rf_tuned.estimators_], axis=0)"
   ]
  },
  {
   "cell_type": "code",
   "execution_count": null,
   "id": "dfd2d84b",
   "metadata": {},
   "outputs": [],
   "source": [
    "# Sort predictors\n",
    "feature_importances = pd.Series(importances, index=X.columns)\n",
    "feature_importances = feature_importances.sort_values(ascending=False)\n",
    "feature_importances"
   ]
  },
  {
   "cell_type": "code",
   "execution_count": null,
   "id": "3b4e0816",
   "metadata": {},
   "outputs": [],
   "source": [
    "# Plot the impurity-based importance (MDI)\n",
    "fig, ax = plt.subplots()\n",
    "feature_importances.plot.bar(yerr=std, ax=ax)\n",
    "ax.set_title('Feature importances using MDI')\n",
    "ax.set_ylabel('Mean decrease in impurity')\n",
    "fig.tight_layout()\n",
    "plt.savefig('../images/mdi_rf_tuned.png', bbox_inches='tight')\n",
    "plt.show()"
   ]
  },
  {
   "cell_type": "markdown",
   "id": "a26a7129",
   "metadata": {},
   "source": [
    "Interpret plot"
   ]
  },
  {
   "cell_type": "markdown",
   "id": "72139406",
   "metadata": {},
   "source": [
    "### Recursive Feature Elimination (RFE)"
   ]
  },
  {
   "cell_type": "code",
   "execution_count": null,
   "id": "d02afb68",
   "metadata": {},
   "outputs": [],
   "source": [
    "rfe_list = []\n",
    "X_current = X.copy()\n",
    "X_train_current = X_train.copy()\n",
    "X_val_current = X_val.copy()\n",
    "best_rmse = float('inf')\n",
    "best_features = X_train_current.columns.tolist()\n",
    "patience = 2 # allow 2 RMSE increases before stopping\n",
    "patience_counter = 0 \n",
    "\n",
    "keep_going = True\n",
    "\n",
    "while keep_going and len(X_current.columns) > 5: # keep at least 5 features\n",
    "\t# Fit model\n",
    "\trf = RandomForestRegressor(\n",
    "\t\tn_estimators=best_n,\n",
    "\t\tmin_samples_split=best_params['min_samples_split'],\n",
    "  \t\tmin_samples_leaf=best_params['min_samples_leaf'],\n",
    "  \t\tmax_leaf_nodes=best_params['max_leaf_nodes'],\n",
    "  \t\tmax_depth=best_params['max_depth'],\n",
    "  \t\tmax_features=best_params['max_features'],\n",
    "\t\trandom_state=42,\n",
    "\t\tn_jobs=-1\n",
    "\t)\n",
    "\n",
    "\tnb_features = len(X_current.columns)\n",
    "\trf.fit(X_train_current, y_train)\n",
    "\n",
    "\t# Predict and calculate RMSE\n",
    "\ty_pred = rf.predict(X_val_current)\n",
    "\trmse = root_mean_squared_error(y_val, y_pred)\n",
    "\n",
    "\trfe = {\n",
    "\t\t'nb_features': nb_features,\n",
    "\t\t'rmse': rmse\n",
    "\t}\n",
    "\n",
    "\t# Feature importances\n",
    "\timportances = pd.Series(rf.feature_importances_, index=X_current.columns)\n",
    "\tweakest_feature = importances.idxmin()\n",
    "\n",
    "\tif rmse <= best_rmse:\n",
    "\t\tbest_rmse = rmse\n",
    "\t\tbest_features = X_current.columns.tolist()\n",
    "\t\t\n",
    "\t\t# Drop the weakest feature\n",
    "\t\tprint(f'RMSE: {rmse:.4f} | Dropping: {weakest_feature} (importance {importances.min():.6f})')\n",
    "\t\tX_current = X_current.drop(columns=[weakest_feature], axis=1)\n",
    "\t\tX_train_current = X_train_current.drop(columns=[weakest_feature], axis=1)\n",
    "\t\tX_val_current = X_val_current.drop(columns=[weakest_feature], axis=1)\n",
    "\n",
    "\t\tpatience_counter = 0 # reset patience is RMSE improves\n",
    "\t\trfe['worsened_point'] = False\n",
    "\t\trfe_list.append(rfe)\n",
    "\telse:\n",
    "\t\tpatience_counter += 1\n",
    "\t\trfe['worsened_point'] = True\n",
    "\t\trfe_list.append(rfe)\n",
    "\t\tprint(f'Patience counter: {patience_counter}/{patience}')\n",
    "\n",
    "\t\tif patience_counter >= patience:\n",
    "\t\t\tprint('Performance worsened too much. Stopping feature elimination.')\n",
    "\t\t\tkeep_going = False\n",
    "\t\telse:\n",
    "\t\t\t# Allow two bad steps: still drop feature and continue\n",
    "\t\t\tX_current = X_current.drop(columns=[weakest_feature], axis=1)\n",
    "\t\t\tX_train_current = X_train_current.drop(columns=[weakest_feature], axis=1)\n",
    "\t\t\tX_val_current = X_val_current.drop(columns=[weakest_feature], axis=1)\n",
    "\n",
    "\n",
    "rfe_df = pd.DataFrame(rfe_list)\n",
    "print('\\nBest set of features found:')\n",
    "print('\\n'.join(best_features))\n",
    "print(f'Final validation RMSE: {best_rmse:.4f}')"
   ]
  },
  {
   "cell_type": "code",
   "execution_count": null,
   "id": "60c5cd6c",
   "metadata": {},
   "outputs": [],
   "source": [
    "worsened_mask = rfe_df['worsened_point']\n",
    "\n",
    "# Plot RSME at each step\n",
    "plt.figure(figsize=(10,6))\n",
    "\n",
    "# Good steps\n",
    "plt.plot(\n",
    "  rfe_df.loc[~worsened_mask, 'nb_features'],\n",
    "  rfe_df.loc[~worsened_mask, 'rmse'],\n",
    "  marker='o-',\n",
    "  label='Improved or Same RMSE',\n",
    "  color='blue')\n",
    "\n",
    "# Worsened steps\n",
    "plt.plot(\n",
    "  rfe_df.loc[worsened_mask, 'nb_features'],\n",
    "  rfe_df.loc[worsened_mask, 'rmse'],\n",
    "  marker='X',\n",
    "  label='Worsened RMSE',\n",
    "  color='red')\n",
    "\n",
    "plt.gca().invert_xaxis() # Highest number of features on the left\n",
    "plt.xlabel('Number of Features')\n",
    "plt.ylabel('Validation RMSE')\n",
    "plt.title('Recursive Feature Elimination Progress')\n",
    "plt.legend()\n",
    "plt.grid(True)\n",
    "plt.savefig('../images/rfe_rf_tuned.png', bbox_inches='tight')\n",
    "plt.show()"
   ]
  },
  {
   "cell_type": "code",
   "execution_count": null,
   "id": "7ceeb4f1",
   "metadata": {},
   "outputs": [],
   "source": [
    "# Keep best features\n",
    "X_best = X[best_features]\n",
    "X_train_best = X_train[best_features]\n",
    "X_val_best = X_val[best_features]"
   ]
  },
  {
   "cell_type": "code",
   "execution_count": null,
   "id": "7471102c",
   "metadata": {},
   "outputs": [],
   "source": [
    "# Retrain model on reduced features\n",
    "rf_retrained = RandomForestRegressor(\n",
    "  \tn_estimators=best_n,\n",
    "  \tmin_samples_split=best_params['min_samples_split'],\n",
    "  \tmin_samples_leaf=best_params['min_samples_leaf'],\n",
    "  \tmax_leaf_nodes=best_params['max_leaf_nodes'],\n",
    "  \tmax_depth=best_params['max_depth'],\n",
    "  \tmax_features=best_params['max_features'],\n",
    "  \trandom_state=42,\n",
    "    n_jobs=-1\n",
    ")\n",
    "\n",
    "rf_retrained.fit(X_train_best, y_train)"
   ]
  },
  {
   "cell_type": "code",
   "execution_count": null,
   "id": "583069ce",
   "metadata": {},
   "outputs": [],
   "source": [
    "# Evaluate model\n",
    "y_pred = rf_retrained.predict(X_val_best)\n",
    "\n",
    "mae = mean_absolute_error(y_val, y_pred)\n",
    "rmse = root_mean_squared_error(y_val, y_pred)\n",
    "r2 = r2_score(y_val, y_pred)\n",
    "\n",
    "metrics_df.loc[len(metrics_df)] = ['rf_retrained', rf_retrained.get_params(), mae, rmse, r2]\n",
    "metrics_df"
   ]
  },
  {
   "cell_type": "markdown",
   "id": "31d9c686",
   "metadata": {},
   "source": [
    "### Retune Parameters"
   ]
  },
  {
   "cell_type": "code",
   "execution_count": null,
   "id": "9576d780",
   "metadata": {},
   "outputs": [],
   "source": [
    "param_grid = {\n",
    "\t'n_estimators': list(range(100, 750, 50)),\n",
    "    'min_samples_split': [2, 5, 10, 20],\n",
    "    'min_samples_leaf': [1, 2, 5, 10],\n",
    "\t'max_leaf_nodes': [None, 50, 100],\n",
    "\t'max_depth': [None, 10, 20],\n",
    "  \t'max_features': ['sqrt', 'log2', 0.8],\n",
    "}\n",
    "\n",
    "random_model = RandomizedSearchCV(\n",
    "  \testimator=RandomForestRegressor(random_state=42),\n",
    "  \tparam_distributions=param_grid,\n",
    "  \tscoring='neg_root_mean_squared_error',\n",
    "  \tn_iter=10,\n",
    "\tcv=5,\n",
    "  \tn_jobs=-1,\n",
    "  \trandom_state=42\n",
    ")\n",
    "\n",
    "random_model.fit(X_train_best, y_train)"
   ]
  },
  {
   "cell_type": "code",
   "execution_count": null,
   "id": "cdcd63a9",
   "metadata": {},
   "outputs": [],
   "source": [
    "# Fit model with best parameters\n",
    "best_params = random_model.best_params_\n",
    "\n",
    "rf_final = RandomForestRegressor(\n",
    "  \tn_estimators=best_params['n_estimators'],\n",
    "  \tmin_samples_split=best_params['min_samples_split'],\n",
    "  \tmin_samples_leaf=best_params['min_samples_leaf'],\n",
    "  \tmax_leaf_nodes=best_params['max_leaf_nodes'],\n",
    "  \tmax_depth=best_params['max_depth'],\n",
    "  \tmax_features=best_params['max_features'],\n",
    "  \trandom_state=42,\n",
    "    n_jobs=-1\n",
    ")\n",
    "\n",
    "rf_final.fit(X_train_best, y_train)"
   ]
  },
  {
   "cell_type": "markdown",
   "id": "594932d2",
   "metadata": {},
   "source": [
    "### Revalidate Model"
   ]
  },
  {
   "cell_type": "code",
   "execution_count": null,
   "id": "75bafe7e",
   "metadata": {},
   "outputs": [],
   "source": [
    "# Evaluate model\n",
    "y_pred = rf_final.predict(X_val_best)\n",
    "\n",
    "mae = mean_absolute_error(y_val, y_pred)\n",
    "rmse = root_mean_squared_error(y_val, y_pred)\n",
    "r2 = r2_score(y_val, y_pred)\n",
    "\n",
    "metrics_df.loc[len(metrics_df)] = ['rf_final', rf_final.get_params(), mae, rmse, r2]\n",
    "metrics_df"
   ]
  },
  {
   "cell_type": "markdown",
   "id": "366a7e93",
   "metadata": {},
   "source": [
    "Interpret results"
   ]
  },
  {
   "cell_type": "code",
   "execution_count": null,
   "id": "e8a08794",
   "metadata": {},
   "outputs": [],
   "source": [
    "# Plot predicted vs. actual values\n",
    "plt.scatter(x=y_pred, y=y_val)\n",
    "plt.title('Final Model Predicted vs. Actual values')\n",
    "plt.xlabel('Predicted delay (seconds)')\n",
    "plt.ylabel('Actual delay (seconds)')\n",
    "plt.grid(True)\n",
    "plt.tight_layout()\n",
    "plt.savefig('../images/actual_vs_predict_rf_final.png', bbox_inches='tight')\n",
    "plt.show()"
   ]
  },
  {
   "cell_type": "markdown",
   "id": "fd460a65",
   "metadata": {},
   "source": [
    "Interpret plot"
   ]
  },
  {
   "cell_type": "code",
   "execution_count": null,
   "id": "5a13b0e8",
   "metadata": {},
   "outputs": [],
   "source": [
    "# Plot residuals\n",
    "residuals = y_val - y_pred\n",
    "    \n",
    "plt.scatter(x=y_pred, y=residuals)\n",
    "plt.title('Final Model Residual Plot')\n",
    "plt.xlabel('Predicted Delay (seconds)')\n",
    "plt.ylabel('Residuals (seconds)')\n",
    "plt.axhline(0, linestyle='--', color='orange')\n",
    "plt.tight_layout()\n",
    "plt.savefig('../images/residual_plot_rf_final.png', bbox_inches='tight')\n",
    "plt.show()"
   ]
  },
  {
   "cell_type": "markdown",
   "id": "900cbb1e",
   "metadata": {},
   "source": [
    "Interpret plot"
   ]
  },
  {
   "cell_type": "code",
   "execution_count": null,
   "id": "d063263d",
   "metadata": {},
   "outputs": [],
   "source": [
    "# Save best parameters and features\n",
    "rf_attributes = {\n",
    "\t'best_params': best_params,\n",
    "  \t'best_features': best_features,\n",
    "}\n",
    "\n",
    "with open('../models/rf_attributes.pkl', 'wb') as handle:\n",
    "\tpickle.dump(rf_attributes, handle, protocol=pickle.HIGHEST_PROTOCOL)"
   ]
  },
  {
   "cell_type": "code",
   "execution_count": null,
   "id": "c7f63167",
   "metadata": {},
   "outputs": [],
   "source": [
    "# Save model\n",
    "joblib.dump(rf_final, '../models/rf_model.pkl')"
   ]
  },
  {
   "cell_type": "markdown",
   "id": "dd3e723e",
   "metadata": {},
   "source": [
    "## Second Model: Random Forest + Gradient Boosting (Model ensembling)"
   ]
  },
  {
   "cell_type": "code",
   "execution_count": null,
   "id": "1d824670",
   "metadata": {},
   "outputs": [],
   "source": []
  },
  {
   "cell_type": "markdown",
   "id": "0459b917",
   "metadata": {},
   "source": [
    "## Third Model: XGBoost"
   ]
  },
  {
   "cell_type": "raw",
   "id": "fc3d72ff",
   "metadata": {
    "vscode": {
     "languageId": "raw"
    }
   },
   "source": [
    "# Train a model\n",
    "model = xgb.XGBRegressor().fit(X_train, y_train)"
   ]
  },
  {
   "cell_type": "markdown",
   "id": "297898fb",
   "metadata": {},
   "source": [
    "## Final Model"
   ]
  },
  {
   "cell_type": "markdown",
   "id": "8f3e0a58",
   "metadata": {},
   "source": [
    "### Evaluation"
   ]
  },
  {
   "cell_type": "markdown",
   "id": "3a56472c",
   "metadata": {},
   "source": [
    "### Make Prediction"
   ]
  },
  {
   "cell_type": "raw",
   "id": "c66b3363",
   "metadata": {
    "vscode": {
     "languageId": "raw"
    }
   },
   "source": [
    "# Assign boolean values to weather columns\n",
    "df.iloc[7682, [26, 27]] = pd.DataFrame([(-69.61993646456422, 135.35999999837352)])"
   ]
  },
  {
   "cell_type": "raw",
   "id": "129df367",
   "metadata": {
    "vscode": {
     "languageId": "raw"
    }
   },
   "source": [
    "# Use forecast API (up to 2 weeks)"
   ]
  },
  {
   "cell_type": "raw",
   "id": "7aad8a0a",
   "metadata": {
    "vscode": {
     "languageId": "raw"
    }
   },
   "source": [
    "with open('models/encoders.pickle', 'rb') as handle:\n",
    "    encoders = pickle.load(handle)"
   ]
  },
  {
   "cell_type": "raw",
   "id": "f926e18d",
   "metadata": {
    "vscode": {
     "languageId": "raw"
    }
   },
   "source": [
    "# Export metrics\n",
    "metrics_df.to_csv('../data/model_metrics.csv', index=False)"
   ]
  },
  {
   "cell_type": "markdown",
   "id": "66d6a2fa",
   "metadata": {},
   "source": [
    "## End"
   ]
  }
 ],
 "metadata": {
  "kernelspec": {
   "display_name": "venv",
   "language": "python",
   "name": "python3"
  },
  "language_info": {
   "codemirror_mode": {
    "name": "ipython",
    "version": 3
   },
   "file_extension": ".py",
   "mimetype": "text/x-python",
   "name": "python",
   "nbconvert_exporter": "python",
   "pygments_lexer": "ipython3",
   "version": "3.13.3"
  }
 },
 "nbformat": 4,
 "nbformat_minor": 5
}
