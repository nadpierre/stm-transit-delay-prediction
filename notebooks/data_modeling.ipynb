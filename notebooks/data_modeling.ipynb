{
 "cells": [
  {
   "cell_type": "markdown",
   "id": "6efc2fa1",
   "metadata": {},
   "source": [
    "# STM Transit Delay Data Modeling"
   ]
  },
  {
   "cell_type": "markdown",
   "id": "ca48c78c",
   "metadata": {},
   "source": [
    "## Overview"
   ]
  },
  {
   "cell_type": "markdown",
   "id": "4e4739c1",
   "metadata": {},
   "source": [
    "This notebook explores tree-based regression and classification models in order to find the one that predicts the delay with the best accuracy."
   ]
  },
  {
   "cell_type": "markdown",
   "id": "fec250c6",
   "metadata": {},
   "source": [
    "## Data Description"
   ]
  },
  {
   "cell_type": "markdown",
   "id": "4f649494",
   "metadata": {},
   "source": [
    "`trip_id`: Unique identifier for the transit trip.<br>\n",
    "`route_id`: Unique identifier for a bus or metro line.<br>\n",
    "`stop_id`: Unique identifier of a stop.<br>\n",
    "`stop_lat`, `stop_lon`: Stop coordinates.<br>\n",
    "`stop_distance`: Distance between the previous and current stop, in meters.<br>\n",
    "`stop_sequence`: Sequence of the stop, for ordering.<br>\n",
    "`trip_progress`: How far along the trip is the vehicle, from 0 (first stop) to 1 (last stop).<br>\n",
    "`stop_has_alert`: Indicates if there's a message about the stop being moved or cancelled.<br>\n",
    "`sch_rel_Scheduled`, `sch_rel_Skipped`: States of the schedule.<br>\n",
    "`wheelchair_boarding`: Indicates if the stop is accessible for people in wheelchair<br>\n",
    "`month`, `day_of_week`, `hour`: Month, day of week and hour of the scheduled arrival time.<br>\n",
    "`is_weekend`: Indicates if the day of the arrival time is on the weekend.<br>\n",
    "`is_peak_hour`: Indicates of the day and hour of the arrival time is at peak hour (weekdays between 7-9am and 4-6pm).<br>\n",
    "`incident_count`: Number of incidents within 500 meters of the stop.<br>\n",
    "`incident_nearby`: Indicates if an incident happened within 500 meters of the stop.<br>\n",
    "`temperature`: Air temperature at 2 meters above ground, in Celsius.<br>\n",
    "`precipitation`: Total precipitation (rain, showers, snow) sum of the preceding hour, in millimeters.<br>\n",
    "`windspeed`: Wind speed at 10 meters above ground, in km/h.<br>\n",
    "`weather_Cloudy`, `weather_Drizzle`, `weather_Rain`: Indicates the weather category.<br>\n",
    "`delay`: Difference between real and scheduled arrival time, in seconds.<br>\n",
    "`delay_class`: Delay category, from 0 (early) to 4 (late).<br>"
   ]
  },
  {
   "cell_type": "markdown",
   "id": "95d218f9",
   "metadata": {},
   "source": [
    "## Imports"
   ]
  },
  {
   "cell_type": "code",
   "execution_count": 1,
   "id": "f2dded95",
   "metadata": {},
   "outputs": [],
   "source": [
    "import joblib\n",
    "import matplotlib.pyplot as plt\n",
    "import numpy as np\n",
    "import pandas as pd\n",
    "import pickle\n",
    "import shap\n",
    "from sklearn.ensemble import RandomForestClassifier, RandomForestRegressor\n",
    "from sklearn.linear_model import LinearRegression\n",
    "from sklearn.metrics import make_scorer, mean_absolute_error, root_mean_squared_error, r2_score\n",
    "from sklearn.model_selection import GridSearchCV, RandomizedSearchCV, train_test_split\n",
    "from sklearn.preprocessing import StandardScaler\n",
    "from xgboost import plot_importance, XGBClassifier, XGBRegressor"
   ]
  },
  {
   "cell_type": "code",
   "execution_count": 2,
   "id": "01d19b40",
   "metadata": {},
   "outputs": [
    {
     "name": "stdout",
     "output_type": "stream",
     "text": [
      "Number of rows: 1557996\n"
     ]
    }
   ],
   "source": [
    "df = pd.read_parquet('../data/preprocessed.parquet')\n",
    "print(f'Number of rows: {len(df)}')"
   ]
  },
  {
   "cell_type": "markdown",
   "id": "6bc11b74",
   "metadata": {},
   "source": [
    "## Split the data"
   ]
  },
  {
   "cell_type": "code",
   "execution_count": 3,
   "id": "69e75690",
   "metadata": {},
   "outputs": [],
   "source": [
    "# Train/Test Split (80-20) (stratified by delay_class)\n",
    "df_train, df_temp = train_test_split(\n",
    "  df,\n",
    "  test_size=0.2,\n",
    "  stratify=df['delay_class'],\n",
    "  random_state=42\n",
    ")"
   ]
  },
  {
   "cell_type": "code",
   "execution_count": 4,
   "id": "392084b1",
   "metadata": {},
   "outputs": [],
   "source": [
    "# Sample for faster experimentation (25% of the full data)\n",
    "df_train_sample, _ = train_test_split(\n",
    "  df_train,\n",
    "  train_size=0.25,\n",
    "  stratify=df_train['delay_class'],\n",
    "  random_state=42\n",
    ")"
   ]
  },
  {
   "cell_type": "code",
   "execution_count": null,
   "id": "d535325e",
   "metadata": {},
   "outputs": [
    {
     "name": "stdout",
     "output_type": "stream",
     "text": [
      "delay_class\n",
      "1    0.860496\n",
      "2    0.123251\n",
      "0    0.016254\n",
      "Name: proportion, dtype: float64\n",
      "delay_class\n",
      "1    0.860497\n",
      "2    0.123251\n",
      "0    0.016252\n",
      "Name: proportion, dtype: float64\n"
     ]
    }
   ],
   "source": [
    "# Check if class distribution is preserved\n",
    "print(df['delay_class'].value_counts(normalize=True))\n",
    "print(df_train_sample['delay_class'].value_counts(normalize=True))"
   ]
  },
  {
   "cell_type": "code",
   "execution_count": null,
   "id": "35aee596",
   "metadata": {},
   "outputs": [],
   "source": [
    "# Separate features and target\n",
    "feature_cols = [col for col in df.columns if col not in ['delay', 'delay_log', 'delay_class']]"
   ]
  },
  {
   "cell_type": "code",
   "execution_count": null,
   "id": "f82058d3",
   "metadata": {},
   "outputs": [],
   "source": [
    "# Sample train set\n",
    "X_train_sample = df_train_sample[feature_cols]\n",
    "y_reg_train_sample = df_train_sample['delay_log']\n",
    "y_class_train_sample = df_train_sample['delay_class']"
   ]
  },
  {
   "cell_type": "code",
   "execution_count": null,
   "id": "557d0a93",
   "metadata": {},
   "outputs": [],
   "source": [
    "# Full train set\n",
    "X_train = df_train[feature_cols]\n",
    "y_reg_train = df_train['delay_log']\n",
    "y_class_train= df_train['delay_class']"
   ]
  },
  {
   "cell_type": "code",
   "execution_count": null,
   "id": "22ca1b66",
   "metadata": {},
   "outputs": [],
   "source": [
    "# Validation and test set\n",
    "df_val, df_test = train_test_split(\n",
    "\tdf_temp,\n",
    "  \ttest_size=0.5,\n",
    "    stratify=df_temp['delay_class'],\n",
    "  \trandom_state=42\n",
    ")\n",
    "\n",
    "del df_temp\n",
    "\n",
    "X_val = df_val[feature_cols]\n",
    "y_reg_val = df_val['delay_log']\n",
    "y_class_val = df_val['delay_class']\n",
    "\n",
    "X_test = df_test[feature_cols]\n",
    "y_reg_test = df_test['delay_log']\n",
    "y_class_test = df_test['delay_class']"
   ]
  },
  {
   "cell_type": "raw",
   "id": "3e3ce555",
   "metadata": {
    "vscode": {
     "languageId": "raw"
    }
   },
   "source": [
    "# Scale data\n",
    "scaler = StandardScaler()\n",
    "X_train_scaled = scaler.fit_transform(X_train)\n",
    "X_val_scaled = scaler.transform(X_val)\n",
    "X_test_scaled = scaler.transform(X_test)"
   ]
  },
  {
   "cell_type": "markdown",
   "id": "817f9998",
   "metadata": {},
   "source": [
    "Since only tree-based models are explored in this project, **scaling is not needed** because the models are not sensitive to the absolute scale or distribution of the features."
   ]
  },
  {
   "cell_type": "markdown",
   "id": "b08eb157",
   "metadata": {},
   "source": [
    "## Regression Model"
   ]
  },
  {
   "cell_type": "markdown",
   "id": "12352da5",
   "metadata": {},
   "source": [
    "### Random Forest Regressor"
   ]
  },
  {
   "cell_type": "markdown",
   "id": "1364f5ed",
   "metadata": {},
   "source": [
    "#### Fit Model"
   ]
  },
  {
   "cell_type": "code",
   "execution_count": 10,
   "id": "ee7456e6",
   "metadata": {},
   "outputs": [
    {
     "data": {
      "text/html": [
       "<style>#sk-container-id-1 {\n",
       "  /* Definition of color scheme common for light and dark mode */\n",
       "  --sklearn-color-text: #000;\n",
       "  --sklearn-color-text-muted: #666;\n",
       "  --sklearn-color-line: gray;\n",
       "  /* Definition of color scheme for unfitted estimators */\n",
       "  --sklearn-color-unfitted-level-0: #fff5e6;\n",
       "  --sklearn-color-unfitted-level-1: #f6e4d2;\n",
       "  --sklearn-color-unfitted-level-2: #ffe0b3;\n",
       "  --sklearn-color-unfitted-level-3: chocolate;\n",
       "  /* Definition of color scheme for fitted estimators */\n",
       "  --sklearn-color-fitted-level-0: #f0f8ff;\n",
       "  --sklearn-color-fitted-level-1: #d4ebff;\n",
       "  --sklearn-color-fitted-level-2: #b3dbfd;\n",
       "  --sklearn-color-fitted-level-3: cornflowerblue;\n",
       "\n",
       "  /* Specific color for light theme */\n",
       "  --sklearn-color-text-on-default-background: var(--sg-text-color, var(--theme-code-foreground, var(--jp-content-font-color1, black)));\n",
       "  --sklearn-color-background: var(--sg-background-color, var(--theme-background, var(--jp-layout-color0, white)));\n",
       "  --sklearn-color-border-box: var(--sg-text-color, var(--theme-code-foreground, var(--jp-content-font-color1, black)));\n",
       "  --sklearn-color-icon: #696969;\n",
       "\n",
       "  @media (prefers-color-scheme: dark) {\n",
       "    /* Redefinition of color scheme for dark theme */\n",
       "    --sklearn-color-text-on-default-background: var(--sg-text-color, var(--theme-code-foreground, var(--jp-content-font-color1, white)));\n",
       "    --sklearn-color-background: var(--sg-background-color, var(--theme-background, var(--jp-layout-color0, #111)));\n",
       "    --sklearn-color-border-box: var(--sg-text-color, var(--theme-code-foreground, var(--jp-content-font-color1, white)));\n",
       "    --sklearn-color-icon: #878787;\n",
       "  }\n",
       "}\n",
       "\n",
       "#sk-container-id-1 {\n",
       "  color: var(--sklearn-color-text);\n",
       "}\n",
       "\n",
       "#sk-container-id-1 pre {\n",
       "  padding: 0;\n",
       "}\n",
       "\n",
       "#sk-container-id-1 input.sk-hidden--visually {\n",
       "  border: 0;\n",
       "  clip: rect(1px 1px 1px 1px);\n",
       "  clip: rect(1px, 1px, 1px, 1px);\n",
       "  height: 1px;\n",
       "  margin: -1px;\n",
       "  overflow: hidden;\n",
       "  padding: 0;\n",
       "  position: absolute;\n",
       "  width: 1px;\n",
       "}\n",
       "\n",
       "#sk-container-id-1 div.sk-dashed-wrapped {\n",
       "  border: 1px dashed var(--sklearn-color-line);\n",
       "  margin: 0 0.4em 0.5em 0.4em;\n",
       "  box-sizing: border-box;\n",
       "  padding-bottom: 0.4em;\n",
       "  background-color: var(--sklearn-color-background);\n",
       "}\n",
       "\n",
       "#sk-container-id-1 div.sk-container {\n",
       "  /* jupyter's `normalize.less` sets `[hidden] { display: none; }`\n",
       "     but bootstrap.min.css set `[hidden] { display: none !important; }`\n",
       "     so we also need the `!important` here to be able to override the\n",
       "     default hidden behavior on the sphinx rendered scikit-learn.org.\n",
       "     See: https://github.com/scikit-learn/scikit-learn/issues/21755 */\n",
       "  display: inline-block !important;\n",
       "  position: relative;\n",
       "}\n",
       "\n",
       "#sk-container-id-1 div.sk-text-repr-fallback {\n",
       "  display: none;\n",
       "}\n",
       "\n",
       "div.sk-parallel-item,\n",
       "div.sk-serial,\n",
       "div.sk-item {\n",
       "  /* draw centered vertical line to link estimators */\n",
       "  background-image: linear-gradient(var(--sklearn-color-text-on-default-background), var(--sklearn-color-text-on-default-background));\n",
       "  background-size: 2px 100%;\n",
       "  background-repeat: no-repeat;\n",
       "  background-position: center center;\n",
       "}\n",
       "\n",
       "/* Parallel-specific style estimator block */\n",
       "\n",
       "#sk-container-id-1 div.sk-parallel-item::after {\n",
       "  content: \"\";\n",
       "  width: 100%;\n",
       "  border-bottom: 2px solid var(--sklearn-color-text-on-default-background);\n",
       "  flex-grow: 1;\n",
       "}\n",
       "\n",
       "#sk-container-id-1 div.sk-parallel {\n",
       "  display: flex;\n",
       "  align-items: stretch;\n",
       "  justify-content: center;\n",
       "  background-color: var(--sklearn-color-background);\n",
       "  position: relative;\n",
       "}\n",
       "\n",
       "#sk-container-id-1 div.sk-parallel-item {\n",
       "  display: flex;\n",
       "  flex-direction: column;\n",
       "}\n",
       "\n",
       "#sk-container-id-1 div.sk-parallel-item:first-child::after {\n",
       "  align-self: flex-end;\n",
       "  width: 50%;\n",
       "}\n",
       "\n",
       "#sk-container-id-1 div.sk-parallel-item:last-child::after {\n",
       "  align-self: flex-start;\n",
       "  width: 50%;\n",
       "}\n",
       "\n",
       "#sk-container-id-1 div.sk-parallel-item:only-child::after {\n",
       "  width: 0;\n",
       "}\n",
       "\n",
       "/* Serial-specific style estimator block */\n",
       "\n",
       "#sk-container-id-1 div.sk-serial {\n",
       "  display: flex;\n",
       "  flex-direction: column;\n",
       "  align-items: center;\n",
       "  background-color: var(--sklearn-color-background);\n",
       "  padding-right: 1em;\n",
       "  padding-left: 1em;\n",
       "}\n",
       "\n",
       "\n",
       "/* Toggleable style: style used for estimator/Pipeline/ColumnTransformer box that is\n",
       "clickable and can be expanded/collapsed.\n",
       "- Pipeline and ColumnTransformer use this feature and define the default style\n",
       "- Estimators will overwrite some part of the style using the `sk-estimator` class\n",
       "*/\n",
       "\n",
       "/* Pipeline and ColumnTransformer style (default) */\n",
       "\n",
       "#sk-container-id-1 div.sk-toggleable {\n",
       "  /* Default theme specific background. It is overwritten whether we have a\n",
       "  specific estimator or a Pipeline/ColumnTransformer */\n",
       "  background-color: var(--sklearn-color-background);\n",
       "}\n",
       "\n",
       "/* Toggleable label */\n",
       "#sk-container-id-1 label.sk-toggleable__label {\n",
       "  cursor: pointer;\n",
       "  display: flex;\n",
       "  width: 100%;\n",
       "  margin-bottom: 0;\n",
       "  padding: 0.5em;\n",
       "  box-sizing: border-box;\n",
       "  text-align: center;\n",
       "  align-items: start;\n",
       "  justify-content: space-between;\n",
       "  gap: 0.5em;\n",
       "}\n",
       "\n",
       "#sk-container-id-1 label.sk-toggleable__label .caption {\n",
       "  font-size: 0.6rem;\n",
       "  font-weight: lighter;\n",
       "  color: var(--sklearn-color-text-muted);\n",
       "}\n",
       "\n",
       "#sk-container-id-1 label.sk-toggleable__label-arrow:before {\n",
       "  /* Arrow on the left of the label */\n",
       "  content: \"▸\";\n",
       "  float: left;\n",
       "  margin-right: 0.25em;\n",
       "  color: var(--sklearn-color-icon);\n",
       "}\n",
       "\n",
       "#sk-container-id-1 label.sk-toggleable__label-arrow:hover:before {\n",
       "  color: var(--sklearn-color-text);\n",
       "}\n",
       "\n",
       "/* Toggleable content - dropdown */\n",
       "\n",
       "#sk-container-id-1 div.sk-toggleable__content {\n",
       "  max-height: 0;\n",
       "  max-width: 0;\n",
       "  overflow: hidden;\n",
       "  text-align: left;\n",
       "  /* unfitted */\n",
       "  background-color: var(--sklearn-color-unfitted-level-0);\n",
       "}\n",
       "\n",
       "#sk-container-id-1 div.sk-toggleable__content.fitted {\n",
       "  /* fitted */\n",
       "  background-color: var(--sklearn-color-fitted-level-0);\n",
       "}\n",
       "\n",
       "#sk-container-id-1 div.sk-toggleable__content pre {\n",
       "  margin: 0.2em;\n",
       "  border-radius: 0.25em;\n",
       "  color: var(--sklearn-color-text);\n",
       "  /* unfitted */\n",
       "  background-color: var(--sklearn-color-unfitted-level-0);\n",
       "}\n",
       "\n",
       "#sk-container-id-1 div.sk-toggleable__content.fitted pre {\n",
       "  /* unfitted */\n",
       "  background-color: var(--sklearn-color-fitted-level-0);\n",
       "}\n",
       "\n",
       "#sk-container-id-1 input.sk-toggleable__control:checked~div.sk-toggleable__content {\n",
       "  /* Expand drop-down */\n",
       "  max-height: 200px;\n",
       "  max-width: 100%;\n",
       "  overflow: auto;\n",
       "}\n",
       "\n",
       "#sk-container-id-1 input.sk-toggleable__control:checked~label.sk-toggleable__label-arrow:before {\n",
       "  content: \"▾\";\n",
       "}\n",
       "\n",
       "/* Pipeline/ColumnTransformer-specific style */\n",
       "\n",
       "#sk-container-id-1 div.sk-label input.sk-toggleable__control:checked~label.sk-toggleable__label {\n",
       "  color: var(--sklearn-color-text);\n",
       "  background-color: var(--sklearn-color-unfitted-level-2);\n",
       "}\n",
       "\n",
       "#sk-container-id-1 div.sk-label.fitted input.sk-toggleable__control:checked~label.sk-toggleable__label {\n",
       "  background-color: var(--sklearn-color-fitted-level-2);\n",
       "}\n",
       "\n",
       "/* Estimator-specific style */\n",
       "\n",
       "/* Colorize estimator box */\n",
       "#sk-container-id-1 div.sk-estimator input.sk-toggleable__control:checked~label.sk-toggleable__label {\n",
       "  /* unfitted */\n",
       "  background-color: var(--sklearn-color-unfitted-level-2);\n",
       "}\n",
       "\n",
       "#sk-container-id-1 div.sk-estimator.fitted input.sk-toggleable__control:checked~label.sk-toggleable__label {\n",
       "  /* fitted */\n",
       "  background-color: var(--sklearn-color-fitted-level-2);\n",
       "}\n",
       "\n",
       "#sk-container-id-1 div.sk-label label.sk-toggleable__label,\n",
       "#sk-container-id-1 div.sk-label label {\n",
       "  /* The background is the default theme color */\n",
       "  color: var(--sklearn-color-text-on-default-background);\n",
       "}\n",
       "\n",
       "/* On hover, darken the color of the background */\n",
       "#sk-container-id-1 div.sk-label:hover label.sk-toggleable__label {\n",
       "  color: var(--sklearn-color-text);\n",
       "  background-color: var(--sklearn-color-unfitted-level-2);\n",
       "}\n",
       "\n",
       "/* Label box, darken color on hover, fitted */\n",
       "#sk-container-id-1 div.sk-label.fitted:hover label.sk-toggleable__label.fitted {\n",
       "  color: var(--sklearn-color-text);\n",
       "  background-color: var(--sklearn-color-fitted-level-2);\n",
       "}\n",
       "\n",
       "/* Estimator label */\n",
       "\n",
       "#sk-container-id-1 div.sk-label label {\n",
       "  font-family: monospace;\n",
       "  font-weight: bold;\n",
       "  display: inline-block;\n",
       "  line-height: 1.2em;\n",
       "}\n",
       "\n",
       "#sk-container-id-1 div.sk-label-container {\n",
       "  text-align: center;\n",
       "}\n",
       "\n",
       "/* Estimator-specific */\n",
       "#sk-container-id-1 div.sk-estimator {\n",
       "  font-family: monospace;\n",
       "  border: 1px dotted var(--sklearn-color-border-box);\n",
       "  border-radius: 0.25em;\n",
       "  box-sizing: border-box;\n",
       "  margin-bottom: 0.5em;\n",
       "  /* unfitted */\n",
       "  background-color: var(--sklearn-color-unfitted-level-0);\n",
       "}\n",
       "\n",
       "#sk-container-id-1 div.sk-estimator.fitted {\n",
       "  /* fitted */\n",
       "  background-color: var(--sklearn-color-fitted-level-0);\n",
       "}\n",
       "\n",
       "/* on hover */\n",
       "#sk-container-id-1 div.sk-estimator:hover {\n",
       "  /* unfitted */\n",
       "  background-color: var(--sklearn-color-unfitted-level-2);\n",
       "}\n",
       "\n",
       "#sk-container-id-1 div.sk-estimator.fitted:hover {\n",
       "  /* fitted */\n",
       "  background-color: var(--sklearn-color-fitted-level-2);\n",
       "}\n",
       "\n",
       "/* Specification for estimator info (e.g. \"i\" and \"?\") */\n",
       "\n",
       "/* Common style for \"i\" and \"?\" */\n",
       "\n",
       ".sk-estimator-doc-link,\n",
       "a:link.sk-estimator-doc-link,\n",
       "a:visited.sk-estimator-doc-link {\n",
       "  float: right;\n",
       "  font-size: smaller;\n",
       "  line-height: 1em;\n",
       "  font-family: monospace;\n",
       "  background-color: var(--sklearn-color-background);\n",
       "  border-radius: 1em;\n",
       "  height: 1em;\n",
       "  width: 1em;\n",
       "  text-decoration: none !important;\n",
       "  margin-left: 0.5em;\n",
       "  text-align: center;\n",
       "  /* unfitted */\n",
       "  border: var(--sklearn-color-unfitted-level-1) 1pt solid;\n",
       "  color: var(--sklearn-color-unfitted-level-1);\n",
       "}\n",
       "\n",
       ".sk-estimator-doc-link.fitted,\n",
       "a:link.sk-estimator-doc-link.fitted,\n",
       "a:visited.sk-estimator-doc-link.fitted {\n",
       "  /* fitted */\n",
       "  border: var(--sklearn-color-fitted-level-1) 1pt solid;\n",
       "  color: var(--sklearn-color-fitted-level-1);\n",
       "}\n",
       "\n",
       "/* On hover */\n",
       "div.sk-estimator:hover .sk-estimator-doc-link:hover,\n",
       ".sk-estimator-doc-link:hover,\n",
       "div.sk-label-container:hover .sk-estimator-doc-link:hover,\n",
       ".sk-estimator-doc-link:hover {\n",
       "  /* unfitted */\n",
       "  background-color: var(--sklearn-color-unfitted-level-3);\n",
       "  color: var(--sklearn-color-background);\n",
       "  text-decoration: none;\n",
       "}\n",
       "\n",
       "div.sk-estimator.fitted:hover .sk-estimator-doc-link.fitted:hover,\n",
       ".sk-estimator-doc-link.fitted:hover,\n",
       "div.sk-label-container:hover .sk-estimator-doc-link.fitted:hover,\n",
       ".sk-estimator-doc-link.fitted:hover {\n",
       "  /* fitted */\n",
       "  background-color: var(--sklearn-color-fitted-level-3);\n",
       "  color: var(--sklearn-color-background);\n",
       "  text-decoration: none;\n",
       "}\n",
       "\n",
       "/* Span, style for the box shown on hovering the info icon */\n",
       ".sk-estimator-doc-link span {\n",
       "  display: none;\n",
       "  z-index: 9999;\n",
       "  position: relative;\n",
       "  font-weight: normal;\n",
       "  right: .2ex;\n",
       "  padding: .5ex;\n",
       "  margin: .5ex;\n",
       "  width: min-content;\n",
       "  min-width: 20ex;\n",
       "  max-width: 50ex;\n",
       "  color: var(--sklearn-color-text);\n",
       "  box-shadow: 2pt 2pt 4pt #999;\n",
       "  /* unfitted */\n",
       "  background: var(--sklearn-color-unfitted-level-0);\n",
       "  border: .5pt solid var(--sklearn-color-unfitted-level-3);\n",
       "}\n",
       "\n",
       ".sk-estimator-doc-link.fitted span {\n",
       "  /* fitted */\n",
       "  background: var(--sklearn-color-fitted-level-0);\n",
       "  border: var(--sklearn-color-fitted-level-3);\n",
       "}\n",
       "\n",
       ".sk-estimator-doc-link:hover span {\n",
       "  display: block;\n",
       "}\n",
       "\n",
       "/* \"?\"-specific style due to the `<a>` HTML tag */\n",
       "\n",
       "#sk-container-id-1 a.estimator_doc_link {\n",
       "  float: right;\n",
       "  font-size: 1rem;\n",
       "  line-height: 1em;\n",
       "  font-family: monospace;\n",
       "  background-color: var(--sklearn-color-background);\n",
       "  border-radius: 1rem;\n",
       "  height: 1rem;\n",
       "  width: 1rem;\n",
       "  text-decoration: none;\n",
       "  /* unfitted */\n",
       "  color: var(--sklearn-color-unfitted-level-1);\n",
       "  border: var(--sklearn-color-unfitted-level-1) 1pt solid;\n",
       "}\n",
       "\n",
       "#sk-container-id-1 a.estimator_doc_link.fitted {\n",
       "  /* fitted */\n",
       "  border: var(--sklearn-color-fitted-level-1) 1pt solid;\n",
       "  color: var(--sklearn-color-fitted-level-1);\n",
       "}\n",
       "\n",
       "/* On hover */\n",
       "#sk-container-id-1 a.estimator_doc_link:hover {\n",
       "  /* unfitted */\n",
       "  background-color: var(--sklearn-color-unfitted-level-3);\n",
       "  color: var(--sklearn-color-background);\n",
       "  text-decoration: none;\n",
       "}\n",
       "\n",
       "#sk-container-id-1 a.estimator_doc_link.fitted:hover {\n",
       "  /* fitted */\n",
       "  background-color: var(--sklearn-color-fitted-level-3);\n",
       "}\n",
       "</style><div id=\"sk-container-id-1\" class=\"sk-top-container\"><div class=\"sk-text-repr-fallback\"><pre>RandomForestRegressor(n_jobs=-1, random_state=42)</pre><b>In a Jupyter environment, please rerun this cell to show the HTML representation or trust the notebook. <br />On GitHub, the HTML representation is unable to render, please try loading this page with nbviewer.org.</b></div><div class=\"sk-container\" hidden><div class=\"sk-item\"><div class=\"sk-estimator fitted sk-toggleable\"><input class=\"sk-toggleable__control sk-hidden--visually\" id=\"sk-estimator-id-1\" type=\"checkbox\" checked><label for=\"sk-estimator-id-1\" class=\"sk-toggleable__label fitted sk-toggleable__label-arrow\"><div><div>RandomForestRegressor</div></div><div><a class=\"sk-estimator-doc-link fitted\" rel=\"noreferrer\" target=\"_blank\" href=\"https://scikit-learn.org/1.6/modules/generated/sklearn.ensemble.RandomForestRegressor.html\">?<span>Documentation for RandomForestRegressor</span></a><span class=\"sk-estimator-doc-link fitted\">i<span>Fitted</span></span></div></label><div class=\"sk-toggleable__content fitted\"><pre>RandomForestRegressor(n_jobs=-1, random_state=42)</pre></div> </div></div></div></div>"
      ],
      "text/plain": [
       "RandomForestRegressor(n_jobs=-1, random_state=42)"
      ]
     },
     "execution_count": 10,
     "metadata": {},
     "output_type": "execute_result"
    }
   ],
   "source": [
    "# Fit base model\n",
    "rf_reg_base = RandomForestRegressor(n_estimators=100, random_state=42, n_jobs=-1)\n",
    "rf_reg_base.fit(X_train_sample, y_reg_train_sample)"
   ]
  },
  {
   "cell_type": "markdown",
   "id": "53a862cd",
   "metadata": {},
   "source": [
    "#### Evaluate Model"
   ]
  },
  {
   "cell_type": "code",
   "execution_count": 11,
   "id": "e0010b0d",
   "metadata": {},
   "outputs": [],
   "source": [
    "# Create dataframe to track metrics\n",
    "metrics_df = pd.DataFrame(columns=['model', 'params', 'MAE', 'RMSE', 'R²'])"
   ]
  },
  {
   "cell_type": "code",
   "execution_count": 12,
   "id": "a6083fe9",
   "metadata": {},
   "outputs": [],
   "source": [
    "def add_metrics(metrics_df:pd.DataFrame, model, y_pred:pd.Series, y_val:pd.Series, model_name:str) -> pd.DataFrame:\n",
    "\tmae = mean_absolute_error(y_val, y_pred)\n",
    "\trmse = root_mean_squared_error(y_val, y_pred)\n",
    "\tr2 = r2_score(y_val, y_pred)\n",
    "\n",
    "\tmetrics_df.loc[len(metrics_df)] = [model_name, model.get_params(), mae, rmse, r2]\n",
    "\treturn metrics_df"
   ]
  },
  {
   "cell_type": "code",
   "execution_count": 13,
   "id": "1285eb70",
   "metadata": {},
   "outputs": [
    {
     "data": {
      "application/vnd.microsoft.datawrangler.viewer.v0+json": {
       "columns": [
        {
         "name": "index",
         "rawType": "int64",
         "type": "integer"
        },
        {
         "name": "model",
         "rawType": "object",
         "type": "string"
        },
        {
         "name": "MAE",
         "rawType": "float64",
         "type": "float"
        },
        {
         "name": "RMSE",
         "rawType": "float64",
         "type": "float"
        },
        {
         "name": "R²",
         "rawType": "float64",
         "type": "float"
        }
       ],
       "conversionMethod": "pd.DataFrame",
       "ref": "d8a8a6fe-32b6-4285-aca5-b4345a99bc61",
       "rows": [
        [
         "0",
         "rf_reg_base",
         "107.14032462789503",
         "201.44996546283548",
         "-0.06980273969928374"
        ]
       ],
       "shape": {
        "columns": 4,
        "rows": 1
       }
      },
      "text/html": [
       "<div>\n",
       "<style scoped>\n",
       "    .dataframe tbody tr th:only-of-type {\n",
       "        vertical-align: middle;\n",
       "    }\n",
       "\n",
       "    .dataframe tbody tr th {\n",
       "        vertical-align: top;\n",
       "    }\n",
       "\n",
       "    .dataframe thead th {\n",
       "        text-align: right;\n",
       "    }\n",
       "</style>\n",
       "<table border=\"1\" class=\"dataframe\">\n",
       "  <thead>\n",
       "    <tr style=\"text-align: right;\">\n",
       "      <th></th>\n",
       "      <th>model</th>\n",
       "      <th>MAE</th>\n",
       "      <th>RMSE</th>\n",
       "      <th>R²</th>\n",
       "    </tr>\n",
       "  </thead>\n",
       "  <tbody>\n",
       "    <tr>\n",
       "      <th>0</th>\n",
       "      <td>rf_reg_base</td>\n",
       "      <td>107.140325</td>\n",
       "      <td>201.449965</td>\n",
       "      <td>-0.069803</td>\n",
       "    </tr>\n",
       "  </tbody>\n",
       "</table>\n",
       "</div>"
      ],
      "text/plain": [
       "         model         MAE        RMSE        R²\n",
       "0  rf_reg_base  107.140325  201.449965 -0.069803"
      ]
     },
     "execution_count": 13,
     "metadata": {},
     "output_type": "execute_result"
    }
   ],
   "source": [
    "# Calculate metrics\n",
    "y_pred = rf_reg_base.predict(X_val)\n",
    "metrics_df = add_metrics(metrics_df, rf_reg_base, y_pred, y_reg_val, 'rf_reg_base')\n",
    "metrics_df[['model', 'MAE', 'RMSE', 'R²']]"
   ]
  },
  {
   "cell_type": "markdown",
   "id": "2ec75f51",
   "metadata": {},
   "source": [
    "**MAE**<br>\n",
    "On average, the predictions are off by 73 seconds, which is not very good.\n",
    "\n",
    "**RMSE**<br>\n",
    "The higher RMSE compared to MAE suggests that there are some significant prediction errors that influence the overall error metric.\n",
    "\n",
    "**R²**<br>\n",
    "The model explains 20% of the variance in the actual delays, which is not good, but understandable considering how noisy and random transit delays can be (weather, mechanical issues, accidents, etc.)"
   ]
  },
  {
   "cell_type": "code",
   "execution_count": null,
   "id": "0da7c5d7",
   "metadata": {},
   "outputs": [],
   "source": [
    "def plot_residuals(y_pred: pd.Series, y_true:pd.Series, model_name:str) -> None:\n",
    "\tfig, (ax1, ax2) = plt.subplots(nrows=1, ncols=2, figsize=(15, 7))\n",
    "\n",
    "\t# Predicted vs. actual values\n",
    "\tax1.scatter(x=y_pred, y=y_true)\n",
    "\tax1.set_title('Predicted vs. Actual values')\n",
    "\tax1.set_xlabel('Predicted delay (seconds)')\n",
    "\tax1.set_ylabel('Actual delay (seconds)')\n",
    "\tax1.grid(True)\n",
    "\n",
    "\t# Residuals\n",
    "\tresiduals = y_true - y_pred\n",
    "\tax2.scatter(x=y_pred, y=residuals)\n",
    "\tax2.set_title('Residual Plot')\n",
    "\tax2.set_xlabel('Predicted Delay (seconds)')\n",
    "\tax2.set_ylabel('Residuals (seconds)')\n",
    "\tax2.axhline(0, linestyle='--', color='orange')\n",
    "\tax2.grid(True)\n",
    "\n",
    "\tfig.suptitle('Residual Analysis', fontsize=18)\n",
    "\tfig.tight_layout()\n",
    "\tfig.savefig(f'../images/residual_analysis_{model_name}.png', bbox_inches='tight')\n",
    "\tplt.show()"
   ]
  },
  {
   "cell_type": "code",
   "execution_count": null,
   "id": "96184a44",
   "metadata": {},
   "outputs": [],
   "source": [
    "# Plot residual analysis\n",
    "plot_residuals(y_pred, y_reg_val, 'rf_reg_base')"
   ]
  },
  {
   "cell_type": "markdown",
   "id": "7be9955c",
   "metadata": {},
   "source": [
    "The predicted vs. actual plot shows a scatter of points, with some spread around the diagonal line, which indicates the model's predictions are not perfect but are reasonable. The spread of points suggests the model has a reasonable fit but doesn't handle extreme delays very well.\n",
    "\n",
    "From the residual plot, it seems that the residuals are fairly spread out, with visible funnel shapes and most of the data clustered around 0, but also a significant spread both above and below the 0 line. This suggests there is no clear pattern in residuals (not biased in one direction). Also, it suggests the residuals appear to increase as the predicted delay increases, meaning the model prediction errors are larger for higher predicted delays (heteroscedasticity). This means the model is better at predicting small delays than large delays."
   ]
  },
  {
   "cell_type": "markdown",
   "id": "f5e1c0cb",
   "metadata": {},
   "source": [
    "#### Hyperparameter tuning"
   ]
  },
  {
   "cell_type": "markdown",
   "id": "d300c522",
   "metadata": {},
   "source": [
    "Due to the large volume of data, the Randomized Search will be run instead of a Grid Search."
   ]
  },
  {
   "cell_type": "code",
   "execution_count": null,
   "id": "3b792f25",
   "metadata": {},
   "outputs": [],
   "source": [
    "# Randomized search (15 combinations) with 3-fold CV\n",
    "param_dist = {\n",
    "    'n_estimators': list(range(100, 700, 100)),\n",
    "    'max_depth': [None, 10, 20, 30, 50],\n",
    "    'min_samples_split': [2, 5, 10],\n",
    "    'min_samples_leaf': [1, 2, 5],\n",
    "    'max_features': ['sqrt', 'log2', 0.8],\n",
    "    'bootstrap': [True, False],\n",
    "    'max_leaf_nodes': [None, 50, 100]\n",
    "}\n",
    "\n",
    "scoring = {\n",
    "    'MAE': make_scorer(mean_absolute_error, greater_is_better=False),\n",
    "    'RMSE': make_scorer(root_mean_squared_error, greater_is_better=False),\n",
    "    'R2': make_scorer(r2_score)\n",
    "}\n",
    "\n",
    "random_search_rf = RandomizedSearchCV(\n",
    "    estimator=RandomForestRegressor(random_state=42),\n",
    "    param_distributions=param_dist,\n",
    "    n_iter=10,\n",
    "    cv=3,\n",
    "    verbose=2,\n",
    "    scoring=scoring,\n",
    "    refit='RMSE',\n",
    "    n_jobs=-1,\n",
    "    random_state=42\n",
    ")\n",
    "\n",
    "random_search_rf.fit(X_train_sample, y_reg_train_sample)"
   ]
  },
  {
   "cell_type": "code",
   "execution_count": null,
   "id": "12a84fb8",
   "metadata": {},
   "outputs": [],
   "source": [
    "# Best model\n",
    "rf_reg_tuned = random_search_rf.best_estimator_\n",
    "best_params = random_search_rf.best_params_"
   ]
  },
  {
   "cell_type": "code",
   "execution_count": null,
   "id": "012c2bbf",
   "metadata": {},
   "outputs": [],
   "source": [
    "# Calculate metrics\n",
    "y_pred = rf_reg_tuned.predict(X_val)\n",
    "metrics_df = add_metrics(metrics_df, rf_reg_tuned, y_pred, y_reg_val, 'rf_reg_tuned')\n",
    "metrics_df[['model', 'MAE', 'RMSE', 'R²']]"
   ]
  },
  {
   "cell_type": "markdown",
   "id": "8055acdf",
   "metadata": {},
   "source": [
    "There is a slight improvement from the base model to the tune model."
   ]
  },
  {
   "cell_type": "markdown",
   "id": "57e9ba44",
   "metadata": {},
   "source": [
    "#### Feature Importances"
   ]
  },
  {
   "cell_type": "code",
   "execution_count": null,
   "id": "933ac4ee",
   "metadata": {},
   "outputs": [],
   "source": [
    "importances = rf_reg_tuned.feature_importances_\n",
    "std = np.std([tree.feature_importances_ for tree in rf_reg_tuned.estimators_], axis=0)"
   ]
  },
  {
   "cell_type": "code",
   "execution_count": null,
   "id": "dfd2d84b",
   "metadata": {},
   "outputs": [],
   "source": [
    "# Sort predictors\n",
    "feature_importances = pd.Series(importances, index=X_train_sample.columns)\n",
    "feature_importances = feature_importances.sort_values(ascending=False)\n",
    "feature_importances"
   ]
  },
  {
   "cell_type": "code",
   "execution_count": null,
   "id": "3b4e0816",
   "metadata": {},
   "outputs": [],
   "source": [
    "# Plot the impurity-based importance (MDI)\n",
    "fig, ax = plt.subplots()\n",
    "feature_importances.plot.bar(yerr=std, ax=ax)\n",
    "ax.set_title('Feature importances using MDI')\n",
    "ax.set_ylabel('Mean decrease in impurity')\n",
    "fig.tight_layout()\n",
    "plt.savefig('../images/mdi_rf_reg_tuned.png', bbox_inches='tight')\n",
    "plt.show()"
   ]
  },
  {
   "cell_type": "markdown",
   "id": "a26a7129",
   "metadata": {},
   "source": [
    "**Top Features**\n",
    "\n",
    "- `stop_distance`: Most important feature. Suggests delays are highly correlated with the distance between stops. Long gaps might lead to longer travel times or greater variability.\n",
    "- `stop_lat` and `stop_lon`: Spatial location is very predictive, maybe due to geography (e.g., congestion in downtown vs. suburbs).\n",
    "- `vehicle_bearing`: Direction of the bus (e.g. against the traffic) might lead to a bus being ahead or behind schedule.\n",
    "- `trip_phase_end`: Delays likely accumulate or reduce toward trip end.\n",
    "- `pressure`, `temperature`: These weather details add some value, may affect passenger behavior\n",
    "\n",
    "**Moderately Important Features**\n",
    "- `wind_direction`, `windspeed`, `relative_humidity`, `cloud-cover`: These weather details add modest value, it may affect vehicle's performance.\n",
    "- `vehicle_speed`: Vehicle dynamics are important, it might indicate if a bus is ahead or behind schedule.\n",
    "- `is_peak_hour`, `day_of_week`: Vehicles are most likely to be late on certain days and rush hour.\n",
    "- `occupancy_status`: A vehicle with more passengers is more likely to be late.\n",
    "- `stop_has_alert`: A stop being moved or cancelled can definitely affect delays.\n",
    "- `route_type_Day`: A day route is more prone to delays than a night route.\n",
    "\n",
    "**Least Important Features**\n",
    "- `precipitation`: Rain precipitation doesn't really affect delays. The data was collected in spring. Snow precicipation would have probably have got have more impact.\n",
    "- `vehicle_in_transit`, `wheelchair_boarding`, `route_type_Night`, `sch_rel_Scheduled`: These trip or vehicle related features have little impact.\n",
    "- `time_of_day_night`, `time_of_day_night`, `time_of_day_midday`, `is_weekend`: Those time-related features didn't affect the delay.\n",
    "- `incident_count`, `incident_nearby`: Incidents have near-zero impact, probably because of the sparse data."
   ]
  },
  {
   "cell_type": "markdown",
   "id": "7a771130",
   "metadata": {},
   "source": [
    "#### SHAP Summary Plot"
   ]
  },
  {
   "cell_type": "code",
   "execution_count": null,
   "id": "1cb117d3",
   "metadata": {},
   "outputs": [],
   "source": [
    "# SHAP can be slow with large datasets\n",
    "X_val_sample = X_val[:100]\n",
    "\n",
    "# Build explainer\n",
    "explainer = shap.TreeExplainer(rf_reg_tuned, feature_perturbation='tree_path_dependent')\n",
    "shap_values = explainer.shap_values(X_val_sample)"
   ]
  },
  {
   "cell_type": "code",
   "execution_count": null,
   "id": "b72edac6",
   "metadata": {},
   "outputs": [],
   "source": [
    "# Summary plot (bar chart)\n",
    "shap.summary_plot(shap_values, X_val_sample, plot_type='bar', show=False)\n",
    "\n",
    "plt.title('SHAP Bar Plot (Global Impact)', fontsize=18)\n",
    "plt.tight_layout()\n",
    "plt.savefig('../images/shap_barplot_rf_reg_tuned.png', bbox_inches='tight')\n",
    "plt.show()"
   ]
  },
  {
   "cell_type": "markdown",
   "id": "270e8368",
   "metadata": {},
   "source": [
    "**Global Impact**\n",
    "\n",
    "- `trip_phase_end`: Most impactful feature. End-of-trip status strongly influences delay, likely due to delay accumulation over time.\n",
    "- `is_peak_hour`: Vehicles are most likely to be late at rush hour.\n",
    "- `stop_lon`, `stop_lat`: Geography is highly predictive, possibly related to location-specific traffic patterns (e.g., downtown vs. suburbs).\n",
    "- `stop_distance`: Longer gaps between stops relate to more variable delays.\n",
    "- `trip_phase_middle`: A vehicle being half way through the trip is likely to accumulate delays.\n",
    "- `pressure`, `temperature`, `relative_humidity`, `windspeed`, `wind_direction`, `cloud_cover`: Weather conditions can have an impact on the vehicle performance and passenger behaviour.\n",
    "- `time_of_day_morning`: Morning peaks influence delays significantly.\n",
    "- `vehicle_bearing`, `vehicle_speed`: Vehicle dynamics are important. Speed and direction might indicate if a bus is ahead or behind schedule.\n",
    "- `stop_has_alert`, `day_of_week`, `vehicle_in_transit`, `route_type_Day`: Contrinute minimally on average.\n"
   ]
  },
  {
   "cell_type": "code",
   "execution_count": null,
   "id": "de8de02d",
   "metadata": {},
   "outputs": [],
   "source": [
    "# Summary plot (beeswarm: shows direction and spread)\n",
    "shap.summary_plot(shap_values, X_val_sample, show=False)\n",
    "\n",
    "plt.title('SHAP Beeswarm Plot (Local + Global Insight)', fontsize=18)\n",
    "plt.tight_layout()\n",
    "plt.savefig('../images/shap_beeswarm_plot_rf_reg_tuned.png', bbox_inches='tight')\n",
    "plt.show()"
   ]
  },
  {
   "cell_type": "markdown",
   "id": "1e8bfffd",
   "metadata": {},
   "source": [
    "**Local + Global Insight**\n",
    "\n",
    "- `trip_phase_end`: High values (red) → large positive SHAP → End-of-trip increases predicted delay.\n",
    "- `is_peak_hour`: Being true (red) increases predicted delay, which is expected.\n",
    "- `stop_lon`, `stop_lat`: Certain coordinated (red or blue) drive delay up or down, likely tied to location-specific bottlenecks.\n",
    "- `stop_distance`: High distances (red) contribute positively to delay.\n",
    "- `trip_phase_middle`: Similarly to trip_phase_end, being half way through increases predicted delay.\n",
    "- Weather features (`pressure`, `wind_direction`, etc): Impacts are subtle, but red/blue coloring shows some directional effect (e.g., low pressure or strong wind may add small delay).\n",
    "- `time_of_day_morning`: Morning time (red) increases predicted delay, as expected.\n",
    "- `vehicle_bearing`, `vehicle_speed`: Higher bearing (towards downtown) and speed increases delay.\n",
    "- `occupancy_status`: More passengers (red) increases delay.\n",
    "- `stop_has_alert`: A stop being moved or cancelled (red) increases delay.\n",
    "- `day_of_week`, `vehicle_in_transit`, `route_type_Day`: Mostly clustered near zero, which indicates low or inconsistent predictive power."
   ]
  },
  {
   "cell_type": "code",
   "execution_count": null,
   "id": "3a97cf59",
   "metadata": {},
   "outputs": [],
   "source": [
    "# Force Plot (local explanation for one prediction)\n",
    "sample_idx = 0\n",
    "shap.initjs()\n",
    "shap.force_plot(explainer.expected_value, shap_values[sample_idx], X_val_sample.iloc[sample_idx], matplotlib=True, show=False)\n",
    "\n",
    "plt.title('SHAP Force Plot (local explanation for one prediction)', fontsize=18)\n",
    "plt.tight_layout()\n",
    "plt.savefig('../images/shap_force_plot_rf_reg_tuned.png', bbox_inches='tight')\n",
    "plt.show()"
   ]
  },
  {
   "cell_type": "markdown",
   "id": "8a3192d7",
   "metadata": {},
   "source": [
    "**Positive Contributors (red)**\n",
    "\n",
    "- relative_humidity = 44.0 → Strong positive influence. High humidity often correlates with slower transit times.\n",
    "- vehicle_in_transit = 1.0 → The fact that the vehicle is currently in transit increases the prediction.\n",
    "- vehicle_bearing = 0.0 → This might be linked to its orientation on the route, possibly indicating congestion or a stop.\n",
    "- pressure = 1021.3 → This is somewhat surprising unless high pressure correlates with specific weather events.\n",
    "- stop_lon = -73.6378 → Longitude might correlate with specific regions that experience more delays.\n",
    "- stop_distance = 213.58 → Higher distance could imply more exposure to potential delays."
   ]
  },
  {
   "cell_type": "markdown",
   "id": "e692abdc",
   "metadata": {},
   "source": [
    "**Negative Contributors (blue)**\n",
    "\n",
    "- trip_phase_end = 0 → This implies that the vehicle is still in the middle of its journey, reducing the delay expectation.\n",
    "- occupancy_status = 1.0 → If the bus is at capacity, it might be on schedule.\n",
    "- peak_hour = 0 → It's not peak hour, so less traffic is expected.\n",
    "- day_of_week = 0 → Likely indicating it's a Sunday or Monday, which may have lighter traffic."
   ]
  },
  {
   "cell_type": "markdown",
   "id": "4f27953a",
   "metadata": {},
   "source": [
    "#### Feature Reduction Elimination Based on SHAP Plots"
   ]
  },
  {
   "cell_type": "markdown",
   "id": "68291d56",
   "metadata": {},
   "source": [
    "The goal is to remove one-hot features that have low average SHAP values, are clustered near zero in the beeswarm plot or don't show clear directional patterns."
   ]
  },
  {
   "cell_type": "code",
   "execution_count": null,
   "id": "e77bb734",
   "metadata": {},
   "outputs": [],
   "source": [
    "# Calculate mean SHAP per feature\n",
    "shap_abs_mean = np.abs(shap_values).mean(axis=0)\n",
    "shap_df = pd.DataFrame({\n",
    "    'feature': X_val_sample.columns,\n",
    "    'mean_abs_shap': shap_abs_mean\n",
    "}).sort_values('mean_abs_shap', ascending=False)\n",
    "shap_df"
   ]
  },
  {
   "cell_type": "code",
   "execution_count": null,
   "id": "d8a86c72",
   "metadata": {},
   "outputs": [],
   "source": [
    "# Display features with low SHAP score\n",
    "threshold = 1.0\n",
    "ohe_candidates = [col for col in X_test.columns if '_' in col and df[col].nunique() <= 2]\n",
    "low_shap_ohe = shap_df[shap_df['feature'].isin(ohe_candidates) & (shap_df['mean_abs_shap'] < threshold)]\n",
    "print('One-hot features with low SHAP impact to remove:')\n",
    "print(low_shap_ohe)"
   ]
  },
  {
   "cell_type": "code",
   "execution_count": null,
   "id": "cfe81c73",
   "metadata": {},
   "outputs": [],
   "source": [
    "best_features = list(set(feature_cols).difference(set(low_shap_ohe['feature'].to_list())))\n",
    "best_features"
   ]
  },
  {
   "cell_type": "code",
   "execution_count": null,
   "id": "7ceeb4f1",
   "metadata": {},
   "outputs": [],
   "source": [
    "# Keep best features\n",
    "X_train_best = X_train[best_features]\n",
    "X_train_sample_best = X_train_sample[best_features]\n",
    "X_val_best = X_val[best_features]\n",
    "X_test_best = X_test[best_features]"
   ]
  },
  {
   "cell_type": "code",
   "execution_count": null,
   "id": "7471102c",
   "metadata": {},
   "outputs": [],
   "source": [
    "# Retrain model on reduced features\n",
    "rf_reg_retrained = RandomForestRegressor(\n",
    "  \tn_estimators=best_params['n_estimators'],\n",
    "  \tmin_samples_split=best_params['min_samples_split'],\n",
    "  \tmin_samples_leaf=best_params['min_samples_leaf'],\n",
    "  \tmax_leaf_nodes=best_params['max_leaf_nodes'],\n",
    "  \tmax_depth=best_params['max_depth'],\n",
    "  \tmax_features=best_params['max_features'],\n",
    "    bootstrap=best_params['bootstrap'],\n",
    "  \trandom_state=42,\n",
    "    n_jobs=-1\n",
    ")\n",
    "\n",
    "rf_reg_retrained.fit(X_train_sample_best, y_reg_train_sample)"
   ]
  },
  {
   "cell_type": "code",
   "execution_count": null,
   "id": "583069ce",
   "metadata": {},
   "outputs": [],
   "source": [
    "# Evaluate model\n",
    "y_pred = rf_reg_retrained.predict(X_val_best)\n",
    "\n",
    "metrics_df = add_metrics(metrics_df, rf_reg_retrained, y_pred, y_reg_val, 'rf_reg_retrained')\n",
    "metrics_df[['model', 'MAE', 'RMSE', 'R²']]"
   ]
  },
  {
   "cell_type": "markdown",
   "id": "31d9c686",
   "metadata": {},
   "source": [
    "#### Retune Parameters"
   ]
  },
  {
   "cell_type": "code",
   "execution_count": null,
   "id": "c07a1a1c",
   "metadata": {},
   "outputs": [],
   "source": [
    "# Randomized search\n",
    "random_search_rf = RandomizedSearchCV(\n",
    "    estimator=RandomForestRegressor(random_state=42),\n",
    "    param_distributions=param_dist,\n",
    "    n_iter=10,\n",
    "    cv=3,\n",
    "    verbose=2,\n",
    "    scoring=scoring,\n",
    "    refit='RMSE',\n",
    "    n_jobs=-1,\n",
    "    random_state=42\n",
    ")\n",
    "\n",
    "random_search_rf.fit(X_train_sample_best, y_reg_train_sample)"
   ]
  },
  {
   "cell_type": "code",
   "execution_count": null,
   "id": "3a2c33a8",
   "metadata": {},
   "outputs": [],
   "source": [
    "# Best model\n",
    "rf_reg_final = random_search_rf.best_estimator_\n",
    "best_params = random_search_rf.best_params_"
   ]
  },
  {
   "cell_type": "markdown",
   "id": "594932d2",
   "metadata": {},
   "source": [
    "#### Revalidate Model"
   ]
  },
  {
   "cell_type": "code",
   "execution_count": null,
   "id": "75bafe7e",
   "metadata": {},
   "outputs": [],
   "source": [
    "# Evaluate model\n",
    "y_pred = rf_reg_final.predict(X_val_best)\n",
    "\n",
    "metrics_df = add_metrics(metrics_df, rf_reg_final, y_pred, y_reg_val, 'rf_reg_final')\n",
    "metrics_df[['model', 'MAE', 'RMSE', 'R²']]"
   ]
  },
  {
   "cell_type": "code",
   "execution_count": null,
   "id": "b025c86f",
   "metadata": {},
   "outputs": [],
   "source": [
    "plot_residuals(y_pred, y_reg_val, 'rf_reg_final')"
   ]
  },
  {
   "cell_type": "markdown",
   "id": "fd460a65",
   "metadata": {},
   "source": [
    "The metrics and the residual plots didn't change much after eliminating features. The R-squared is still very low, which indicates the Random Forest Regressor was not a good model choice for this dataset."
   ]
  },
  {
   "cell_type": "code",
   "execution_count": null,
   "id": "d063263d",
   "metadata": {},
   "outputs": [],
   "source": [
    "# Save best parameters and features\n",
    "rf_reg_attributes = {\n",
    "\t'best_params': best_params,\n",
    "  \t'best_features': best_features,\n",
    "}\n",
    "\n",
    "with open('../models/rf_reg_attributes.pkl', 'wb') as handle:\n",
    "\tpickle.dump(rf_reg_attributes, handle, protocol=pickle.HIGHEST_PROTOCOL)"
   ]
  },
  {
   "cell_type": "code",
   "execution_count": null,
   "id": "c7f63167",
   "metadata": {},
   "outputs": [],
   "source": [
    "# Save model\n",
    "joblib.dump(rf_reg_final, '../models/rf_reg_model.pkl')"
   ]
  },
  {
   "cell_type": "markdown",
   "id": "0459b917",
   "metadata": {},
   "source": [
    "### XGBoost Regressor"
   ]
  },
  {
   "cell_type": "markdown",
   "id": "9ace9337",
   "metadata": {},
   "source": [
    "#### Fit Base Model"
   ]
  },
  {
   "cell_type": "code",
   "execution_count": 14,
   "id": "0a0418ad",
   "metadata": {},
   "outputs": [],
   "source": [
    "# Initialize the XGBoost model with default parameters\n",
    "xg_reg_base = XGBRegressor(objective='reg:squarederror', n_estimators=100, random_state=42)"
   ]
  },
  {
   "cell_type": "code",
   "execution_count": 15,
   "id": "fc3d72ff",
   "metadata": {},
   "outputs": [
    {
     "data": {
      "text/html": [
       "<style>#sk-container-id-2 {\n",
       "  /* Definition of color scheme common for light and dark mode */\n",
       "  --sklearn-color-text: #000;\n",
       "  --sklearn-color-text-muted: #666;\n",
       "  --sklearn-color-line: gray;\n",
       "  /* Definition of color scheme for unfitted estimators */\n",
       "  --sklearn-color-unfitted-level-0: #fff5e6;\n",
       "  --sklearn-color-unfitted-level-1: #f6e4d2;\n",
       "  --sklearn-color-unfitted-level-2: #ffe0b3;\n",
       "  --sklearn-color-unfitted-level-3: chocolate;\n",
       "  /* Definition of color scheme for fitted estimators */\n",
       "  --sklearn-color-fitted-level-0: #f0f8ff;\n",
       "  --sklearn-color-fitted-level-1: #d4ebff;\n",
       "  --sklearn-color-fitted-level-2: #b3dbfd;\n",
       "  --sklearn-color-fitted-level-3: cornflowerblue;\n",
       "\n",
       "  /* Specific color for light theme */\n",
       "  --sklearn-color-text-on-default-background: var(--sg-text-color, var(--theme-code-foreground, var(--jp-content-font-color1, black)));\n",
       "  --sklearn-color-background: var(--sg-background-color, var(--theme-background, var(--jp-layout-color0, white)));\n",
       "  --sklearn-color-border-box: var(--sg-text-color, var(--theme-code-foreground, var(--jp-content-font-color1, black)));\n",
       "  --sklearn-color-icon: #696969;\n",
       "\n",
       "  @media (prefers-color-scheme: dark) {\n",
       "    /* Redefinition of color scheme for dark theme */\n",
       "    --sklearn-color-text-on-default-background: var(--sg-text-color, var(--theme-code-foreground, var(--jp-content-font-color1, white)));\n",
       "    --sklearn-color-background: var(--sg-background-color, var(--theme-background, var(--jp-layout-color0, #111)));\n",
       "    --sklearn-color-border-box: var(--sg-text-color, var(--theme-code-foreground, var(--jp-content-font-color1, white)));\n",
       "    --sklearn-color-icon: #878787;\n",
       "  }\n",
       "}\n",
       "\n",
       "#sk-container-id-2 {\n",
       "  color: var(--sklearn-color-text);\n",
       "}\n",
       "\n",
       "#sk-container-id-2 pre {\n",
       "  padding: 0;\n",
       "}\n",
       "\n",
       "#sk-container-id-2 input.sk-hidden--visually {\n",
       "  border: 0;\n",
       "  clip: rect(1px 1px 1px 1px);\n",
       "  clip: rect(1px, 1px, 1px, 1px);\n",
       "  height: 1px;\n",
       "  margin: -1px;\n",
       "  overflow: hidden;\n",
       "  padding: 0;\n",
       "  position: absolute;\n",
       "  width: 1px;\n",
       "}\n",
       "\n",
       "#sk-container-id-2 div.sk-dashed-wrapped {\n",
       "  border: 1px dashed var(--sklearn-color-line);\n",
       "  margin: 0 0.4em 0.5em 0.4em;\n",
       "  box-sizing: border-box;\n",
       "  padding-bottom: 0.4em;\n",
       "  background-color: var(--sklearn-color-background);\n",
       "}\n",
       "\n",
       "#sk-container-id-2 div.sk-container {\n",
       "  /* jupyter's `normalize.less` sets `[hidden] { display: none; }`\n",
       "     but bootstrap.min.css set `[hidden] { display: none !important; }`\n",
       "     so we also need the `!important` here to be able to override the\n",
       "     default hidden behavior on the sphinx rendered scikit-learn.org.\n",
       "     See: https://github.com/scikit-learn/scikit-learn/issues/21755 */\n",
       "  display: inline-block !important;\n",
       "  position: relative;\n",
       "}\n",
       "\n",
       "#sk-container-id-2 div.sk-text-repr-fallback {\n",
       "  display: none;\n",
       "}\n",
       "\n",
       "div.sk-parallel-item,\n",
       "div.sk-serial,\n",
       "div.sk-item {\n",
       "  /* draw centered vertical line to link estimators */\n",
       "  background-image: linear-gradient(var(--sklearn-color-text-on-default-background), var(--sklearn-color-text-on-default-background));\n",
       "  background-size: 2px 100%;\n",
       "  background-repeat: no-repeat;\n",
       "  background-position: center center;\n",
       "}\n",
       "\n",
       "/* Parallel-specific style estimator block */\n",
       "\n",
       "#sk-container-id-2 div.sk-parallel-item::after {\n",
       "  content: \"\";\n",
       "  width: 100%;\n",
       "  border-bottom: 2px solid var(--sklearn-color-text-on-default-background);\n",
       "  flex-grow: 1;\n",
       "}\n",
       "\n",
       "#sk-container-id-2 div.sk-parallel {\n",
       "  display: flex;\n",
       "  align-items: stretch;\n",
       "  justify-content: center;\n",
       "  background-color: var(--sklearn-color-background);\n",
       "  position: relative;\n",
       "}\n",
       "\n",
       "#sk-container-id-2 div.sk-parallel-item {\n",
       "  display: flex;\n",
       "  flex-direction: column;\n",
       "}\n",
       "\n",
       "#sk-container-id-2 div.sk-parallel-item:first-child::after {\n",
       "  align-self: flex-end;\n",
       "  width: 50%;\n",
       "}\n",
       "\n",
       "#sk-container-id-2 div.sk-parallel-item:last-child::after {\n",
       "  align-self: flex-start;\n",
       "  width: 50%;\n",
       "}\n",
       "\n",
       "#sk-container-id-2 div.sk-parallel-item:only-child::after {\n",
       "  width: 0;\n",
       "}\n",
       "\n",
       "/* Serial-specific style estimator block */\n",
       "\n",
       "#sk-container-id-2 div.sk-serial {\n",
       "  display: flex;\n",
       "  flex-direction: column;\n",
       "  align-items: center;\n",
       "  background-color: var(--sklearn-color-background);\n",
       "  padding-right: 1em;\n",
       "  padding-left: 1em;\n",
       "}\n",
       "\n",
       "\n",
       "/* Toggleable style: style used for estimator/Pipeline/ColumnTransformer box that is\n",
       "clickable and can be expanded/collapsed.\n",
       "- Pipeline and ColumnTransformer use this feature and define the default style\n",
       "- Estimators will overwrite some part of the style using the `sk-estimator` class\n",
       "*/\n",
       "\n",
       "/* Pipeline and ColumnTransformer style (default) */\n",
       "\n",
       "#sk-container-id-2 div.sk-toggleable {\n",
       "  /* Default theme specific background. It is overwritten whether we have a\n",
       "  specific estimator or a Pipeline/ColumnTransformer */\n",
       "  background-color: var(--sklearn-color-background);\n",
       "}\n",
       "\n",
       "/* Toggleable label */\n",
       "#sk-container-id-2 label.sk-toggleable__label {\n",
       "  cursor: pointer;\n",
       "  display: flex;\n",
       "  width: 100%;\n",
       "  margin-bottom: 0;\n",
       "  padding: 0.5em;\n",
       "  box-sizing: border-box;\n",
       "  text-align: center;\n",
       "  align-items: start;\n",
       "  justify-content: space-between;\n",
       "  gap: 0.5em;\n",
       "}\n",
       "\n",
       "#sk-container-id-2 label.sk-toggleable__label .caption {\n",
       "  font-size: 0.6rem;\n",
       "  font-weight: lighter;\n",
       "  color: var(--sklearn-color-text-muted);\n",
       "}\n",
       "\n",
       "#sk-container-id-2 label.sk-toggleable__label-arrow:before {\n",
       "  /* Arrow on the left of the label */\n",
       "  content: \"▸\";\n",
       "  float: left;\n",
       "  margin-right: 0.25em;\n",
       "  color: var(--sklearn-color-icon);\n",
       "}\n",
       "\n",
       "#sk-container-id-2 label.sk-toggleable__label-arrow:hover:before {\n",
       "  color: var(--sklearn-color-text);\n",
       "}\n",
       "\n",
       "/* Toggleable content - dropdown */\n",
       "\n",
       "#sk-container-id-2 div.sk-toggleable__content {\n",
       "  max-height: 0;\n",
       "  max-width: 0;\n",
       "  overflow: hidden;\n",
       "  text-align: left;\n",
       "  /* unfitted */\n",
       "  background-color: var(--sklearn-color-unfitted-level-0);\n",
       "}\n",
       "\n",
       "#sk-container-id-2 div.sk-toggleable__content.fitted {\n",
       "  /* fitted */\n",
       "  background-color: var(--sklearn-color-fitted-level-0);\n",
       "}\n",
       "\n",
       "#sk-container-id-2 div.sk-toggleable__content pre {\n",
       "  margin: 0.2em;\n",
       "  border-radius: 0.25em;\n",
       "  color: var(--sklearn-color-text);\n",
       "  /* unfitted */\n",
       "  background-color: var(--sklearn-color-unfitted-level-0);\n",
       "}\n",
       "\n",
       "#sk-container-id-2 div.sk-toggleable__content.fitted pre {\n",
       "  /* unfitted */\n",
       "  background-color: var(--sklearn-color-fitted-level-0);\n",
       "}\n",
       "\n",
       "#sk-container-id-2 input.sk-toggleable__control:checked~div.sk-toggleable__content {\n",
       "  /* Expand drop-down */\n",
       "  max-height: 200px;\n",
       "  max-width: 100%;\n",
       "  overflow: auto;\n",
       "}\n",
       "\n",
       "#sk-container-id-2 input.sk-toggleable__control:checked~label.sk-toggleable__label-arrow:before {\n",
       "  content: \"▾\";\n",
       "}\n",
       "\n",
       "/* Pipeline/ColumnTransformer-specific style */\n",
       "\n",
       "#sk-container-id-2 div.sk-label input.sk-toggleable__control:checked~label.sk-toggleable__label {\n",
       "  color: var(--sklearn-color-text);\n",
       "  background-color: var(--sklearn-color-unfitted-level-2);\n",
       "}\n",
       "\n",
       "#sk-container-id-2 div.sk-label.fitted input.sk-toggleable__control:checked~label.sk-toggleable__label {\n",
       "  background-color: var(--sklearn-color-fitted-level-2);\n",
       "}\n",
       "\n",
       "/* Estimator-specific style */\n",
       "\n",
       "/* Colorize estimator box */\n",
       "#sk-container-id-2 div.sk-estimator input.sk-toggleable__control:checked~label.sk-toggleable__label {\n",
       "  /* unfitted */\n",
       "  background-color: var(--sklearn-color-unfitted-level-2);\n",
       "}\n",
       "\n",
       "#sk-container-id-2 div.sk-estimator.fitted input.sk-toggleable__control:checked~label.sk-toggleable__label {\n",
       "  /* fitted */\n",
       "  background-color: var(--sklearn-color-fitted-level-2);\n",
       "}\n",
       "\n",
       "#sk-container-id-2 div.sk-label label.sk-toggleable__label,\n",
       "#sk-container-id-2 div.sk-label label {\n",
       "  /* The background is the default theme color */\n",
       "  color: var(--sklearn-color-text-on-default-background);\n",
       "}\n",
       "\n",
       "/* On hover, darken the color of the background */\n",
       "#sk-container-id-2 div.sk-label:hover label.sk-toggleable__label {\n",
       "  color: var(--sklearn-color-text);\n",
       "  background-color: var(--sklearn-color-unfitted-level-2);\n",
       "}\n",
       "\n",
       "/* Label box, darken color on hover, fitted */\n",
       "#sk-container-id-2 div.sk-label.fitted:hover label.sk-toggleable__label.fitted {\n",
       "  color: var(--sklearn-color-text);\n",
       "  background-color: var(--sklearn-color-fitted-level-2);\n",
       "}\n",
       "\n",
       "/* Estimator label */\n",
       "\n",
       "#sk-container-id-2 div.sk-label label {\n",
       "  font-family: monospace;\n",
       "  font-weight: bold;\n",
       "  display: inline-block;\n",
       "  line-height: 1.2em;\n",
       "}\n",
       "\n",
       "#sk-container-id-2 div.sk-label-container {\n",
       "  text-align: center;\n",
       "}\n",
       "\n",
       "/* Estimator-specific */\n",
       "#sk-container-id-2 div.sk-estimator {\n",
       "  font-family: monospace;\n",
       "  border: 1px dotted var(--sklearn-color-border-box);\n",
       "  border-radius: 0.25em;\n",
       "  box-sizing: border-box;\n",
       "  margin-bottom: 0.5em;\n",
       "  /* unfitted */\n",
       "  background-color: var(--sklearn-color-unfitted-level-0);\n",
       "}\n",
       "\n",
       "#sk-container-id-2 div.sk-estimator.fitted {\n",
       "  /* fitted */\n",
       "  background-color: var(--sklearn-color-fitted-level-0);\n",
       "}\n",
       "\n",
       "/* on hover */\n",
       "#sk-container-id-2 div.sk-estimator:hover {\n",
       "  /* unfitted */\n",
       "  background-color: var(--sklearn-color-unfitted-level-2);\n",
       "}\n",
       "\n",
       "#sk-container-id-2 div.sk-estimator.fitted:hover {\n",
       "  /* fitted */\n",
       "  background-color: var(--sklearn-color-fitted-level-2);\n",
       "}\n",
       "\n",
       "/* Specification for estimator info (e.g. \"i\" and \"?\") */\n",
       "\n",
       "/* Common style for \"i\" and \"?\" */\n",
       "\n",
       ".sk-estimator-doc-link,\n",
       "a:link.sk-estimator-doc-link,\n",
       "a:visited.sk-estimator-doc-link {\n",
       "  float: right;\n",
       "  font-size: smaller;\n",
       "  line-height: 1em;\n",
       "  font-family: monospace;\n",
       "  background-color: var(--sklearn-color-background);\n",
       "  border-radius: 1em;\n",
       "  height: 1em;\n",
       "  width: 1em;\n",
       "  text-decoration: none !important;\n",
       "  margin-left: 0.5em;\n",
       "  text-align: center;\n",
       "  /* unfitted */\n",
       "  border: var(--sklearn-color-unfitted-level-1) 1pt solid;\n",
       "  color: var(--sklearn-color-unfitted-level-1);\n",
       "}\n",
       "\n",
       ".sk-estimator-doc-link.fitted,\n",
       "a:link.sk-estimator-doc-link.fitted,\n",
       "a:visited.sk-estimator-doc-link.fitted {\n",
       "  /* fitted */\n",
       "  border: var(--sklearn-color-fitted-level-1) 1pt solid;\n",
       "  color: var(--sklearn-color-fitted-level-1);\n",
       "}\n",
       "\n",
       "/* On hover */\n",
       "div.sk-estimator:hover .sk-estimator-doc-link:hover,\n",
       ".sk-estimator-doc-link:hover,\n",
       "div.sk-label-container:hover .sk-estimator-doc-link:hover,\n",
       ".sk-estimator-doc-link:hover {\n",
       "  /* unfitted */\n",
       "  background-color: var(--sklearn-color-unfitted-level-3);\n",
       "  color: var(--sklearn-color-background);\n",
       "  text-decoration: none;\n",
       "}\n",
       "\n",
       "div.sk-estimator.fitted:hover .sk-estimator-doc-link.fitted:hover,\n",
       ".sk-estimator-doc-link.fitted:hover,\n",
       "div.sk-label-container:hover .sk-estimator-doc-link.fitted:hover,\n",
       ".sk-estimator-doc-link.fitted:hover {\n",
       "  /* fitted */\n",
       "  background-color: var(--sklearn-color-fitted-level-3);\n",
       "  color: var(--sklearn-color-background);\n",
       "  text-decoration: none;\n",
       "}\n",
       "\n",
       "/* Span, style for the box shown on hovering the info icon */\n",
       ".sk-estimator-doc-link span {\n",
       "  display: none;\n",
       "  z-index: 9999;\n",
       "  position: relative;\n",
       "  font-weight: normal;\n",
       "  right: .2ex;\n",
       "  padding: .5ex;\n",
       "  margin: .5ex;\n",
       "  width: min-content;\n",
       "  min-width: 20ex;\n",
       "  max-width: 50ex;\n",
       "  color: var(--sklearn-color-text);\n",
       "  box-shadow: 2pt 2pt 4pt #999;\n",
       "  /* unfitted */\n",
       "  background: var(--sklearn-color-unfitted-level-0);\n",
       "  border: .5pt solid var(--sklearn-color-unfitted-level-3);\n",
       "}\n",
       "\n",
       ".sk-estimator-doc-link.fitted span {\n",
       "  /* fitted */\n",
       "  background: var(--sklearn-color-fitted-level-0);\n",
       "  border: var(--sklearn-color-fitted-level-3);\n",
       "}\n",
       "\n",
       ".sk-estimator-doc-link:hover span {\n",
       "  display: block;\n",
       "}\n",
       "\n",
       "/* \"?\"-specific style due to the `<a>` HTML tag */\n",
       "\n",
       "#sk-container-id-2 a.estimator_doc_link {\n",
       "  float: right;\n",
       "  font-size: 1rem;\n",
       "  line-height: 1em;\n",
       "  font-family: monospace;\n",
       "  background-color: var(--sklearn-color-background);\n",
       "  border-radius: 1rem;\n",
       "  height: 1rem;\n",
       "  width: 1rem;\n",
       "  text-decoration: none;\n",
       "  /* unfitted */\n",
       "  color: var(--sklearn-color-unfitted-level-1);\n",
       "  border: var(--sklearn-color-unfitted-level-1) 1pt solid;\n",
       "}\n",
       "\n",
       "#sk-container-id-2 a.estimator_doc_link.fitted {\n",
       "  /* fitted */\n",
       "  border: var(--sklearn-color-fitted-level-1) 1pt solid;\n",
       "  color: var(--sklearn-color-fitted-level-1);\n",
       "}\n",
       "\n",
       "/* On hover */\n",
       "#sk-container-id-2 a.estimator_doc_link:hover {\n",
       "  /* unfitted */\n",
       "  background-color: var(--sklearn-color-unfitted-level-3);\n",
       "  color: var(--sklearn-color-background);\n",
       "  text-decoration: none;\n",
       "}\n",
       "\n",
       "#sk-container-id-2 a.estimator_doc_link.fitted:hover {\n",
       "  /* fitted */\n",
       "  background-color: var(--sklearn-color-fitted-level-3);\n",
       "}\n",
       "</style><div id=\"sk-container-id-2\" class=\"sk-top-container\"><div class=\"sk-text-repr-fallback\"><pre>XGBRegressor(base_score=None, booster=None, callbacks=None,\n",
       "             colsample_bylevel=None, colsample_bynode=None,\n",
       "             colsample_bytree=None, device=None, early_stopping_rounds=None,\n",
       "             enable_categorical=False, eval_metric=None, feature_types=None,\n",
       "             feature_weights=None, gamma=None, grow_policy=None,\n",
       "             importance_type=None, interaction_constraints=None,\n",
       "             learning_rate=None, max_bin=None, max_cat_threshold=None,\n",
       "             max_cat_to_onehot=None, max_delta_step=None, max_depth=None,\n",
       "             max_leaves=None, min_child_weight=None, missing=nan,\n",
       "             monotone_constraints=None, multi_strategy=None, n_estimators=100,\n",
       "             n_jobs=None, num_parallel_tree=None, ...)</pre><b>In a Jupyter environment, please rerun this cell to show the HTML representation or trust the notebook. <br />On GitHub, the HTML representation is unable to render, please try loading this page with nbviewer.org.</b></div><div class=\"sk-container\" hidden><div class=\"sk-item\"><div class=\"sk-estimator fitted sk-toggleable\"><input class=\"sk-toggleable__control sk-hidden--visually\" id=\"sk-estimator-id-2\" type=\"checkbox\" checked><label for=\"sk-estimator-id-2\" class=\"sk-toggleable__label fitted sk-toggleable__label-arrow\"><div><div>XGBRegressor</div></div><div><a class=\"sk-estimator-doc-link fitted\" rel=\"noreferrer\" target=\"_blank\" href=\"https://xgboost.readthedocs.io/en/release_3.0.0/python/python_api.html#xgboost.XGBRegressor\">?<span>Documentation for XGBRegressor</span></a><span class=\"sk-estimator-doc-link fitted\">i<span>Fitted</span></span></div></label><div class=\"sk-toggleable__content fitted\"><pre>XGBRegressor(base_score=None, booster=None, callbacks=None,\n",
       "             colsample_bylevel=None, colsample_bynode=None,\n",
       "             colsample_bytree=None, device=None, early_stopping_rounds=None,\n",
       "             enable_categorical=False, eval_metric=None, feature_types=None,\n",
       "             feature_weights=None, gamma=None, grow_policy=None,\n",
       "             importance_type=None, interaction_constraints=None,\n",
       "             learning_rate=None, max_bin=None, max_cat_threshold=None,\n",
       "             max_cat_to_onehot=None, max_delta_step=None, max_depth=None,\n",
       "             max_leaves=None, min_child_weight=None, missing=nan,\n",
       "             monotone_constraints=None, multi_strategy=None, n_estimators=100,\n",
       "             n_jobs=None, num_parallel_tree=None, ...)</pre></div> </div></div></div></div>"
      ],
      "text/plain": [
       "XGBRegressor(base_score=None, booster=None, callbacks=None,\n",
       "             colsample_bylevel=None, colsample_bynode=None,\n",
       "             colsample_bytree=None, device=None, early_stopping_rounds=None,\n",
       "             enable_categorical=False, eval_metric=None, feature_types=None,\n",
       "             feature_weights=None, gamma=None, grow_policy=None,\n",
       "             importance_type=None, interaction_constraints=None,\n",
       "             learning_rate=None, max_bin=None, max_cat_threshold=None,\n",
       "             max_cat_to_onehot=None, max_delta_step=None, max_depth=None,\n",
       "             max_leaves=None, min_child_weight=None, missing=nan,\n",
       "             monotone_constraints=None, multi_strategy=None, n_estimators=100,\n",
       "             n_jobs=None, num_parallel_tree=None, ...)"
      ]
     },
     "execution_count": 15,
     "metadata": {},
     "output_type": "execute_result"
    }
   ],
   "source": [
    "# Train a model\n",
    "xg_reg_base.fit(X_train_sample, y_reg_train_sample)"
   ]
  },
  {
   "cell_type": "markdown",
   "id": "cceae309",
   "metadata": {},
   "source": [
    "#### Evaluate model"
   ]
  },
  {
   "cell_type": "code",
   "execution_count": 16,
   "id": "7055edc3",
   "metadata": {},
   "outputs": [
    {
     "data": {
      "application/vnd.microsoft.datawrangler.viewer.v0+json": {
       "columns": [
        {
         "name": "index",
         "rawType": "int64",
         "type": "integer"
        },
        {
         "name": "model",
         "rawType": "object",
         "type": "string"
        },
        {
         "name": "MAE",
         "rawType": "float64",
         "type": "float"
        },
        {
         "name": "RMSE",
         "rawType": "float64",
         "type": "float"
        },
        {
         "name": "R²",
         "rawType": "float64",
         "type": "float"
        }
       ],
       "conversionMethod": "pd.DataFrame",
       "ref": "f1b818a3-ca40-4c5e-9ada-59ac399f5dfe",
       "rows": [
        [
         "0",
         "rf_reg_base",
         "107.14032462789503",
         "201.44996546283548",
         "-0.06980273969928374"
        ],
        [
         "1",
         "xg_reg_base",
         "97.21692184301092",
         "190.77223464117893",
         "0.04060015260675476"
        ]
       ],
       "shape": {
        "columns": 4,
        "rows": 2
       }
      },
      "text/html": [
       "<div>\n",
       "<style scoped>\n",
       "    .dataframe tbody tr th:only-of-type {\n",
       "        vertical-align: middle;\n",
       "    }\n",
       "\n",
       "    .dataframe tbody tr th {\n",
       "        vertical-align: top;\n",
       "    }\n",
       "\n",
       "    .dataframe thead th {\n",
       "        text-align: right;\n",
       "    }\n",
       "</style>\n",
       "<table border=\"1\" class=\"dataframe\">\n",
       "  <thead>\n",
       "    <tr style=\"text-align: right;\">\n",
       "      <th></th>\n",
       "      <th>model</th>\n",
       "      <th>MAE</th>\n",
       "      <th>RMSE</th>\n",
       "      <th>R²</th>\n",
       "    </tr>\n",
       "  </thead>\n",
       "  <tbody>\n",
       "    <tr>\n",
       "      <th>0</th>\n",
       "      <td>rf_reg_base</td>\n",
       "      <td>107.140325</td>\n",
       "      <td>201.449965</td>\n",
       "      <td>-0.069803</td>\n",
       "    </tr>\n",
       "    <tr>\n",
       "      <th>1</th>\n",
       "      <td>xg_reg_base</td>\n",
       "      <td>97.216922</td>\n",
       "      <td>190.772235</td>\n",
       "      <td>0.040600</td>\n",
       "    </tr>\n",
       "  </tbody>\n",
       "</table>\n",
       "</div>"
      ],
      "text/plain": [
       "         model         MAE        RMSE        R²\n",
       "0  rf_reg_base  107.140325  201.449965 -0.069803\n",
       "1  xg_reg_base   97.216922  190.772235  0.040600"
      ]
     },
     "execution_count": 16,
     "metadata": {},
     "output_type": "execute_result"
    }
   ],
   "source": [
    "y_pred = xg_reg_base.predict(X_val)\n",
    "\n",
    "metrics_df = add_metrics(metrics_df, xg_reg_base, y_pred, y_reg_val, 'xg_reg_base')\n",
    "metrics_df[['model', 'MAE', 'RMSE', 'R²']]"
   ]
  },
  {
   "cell_type": "code",
   "execution_count": 17,
   "id": "fdc471fc",
   "metadata": {},
   "outputs": [],
   "source": [
    "metrics_df.to_csv('metrics.csv', index=False)\n"
   ]
  },
  {
   "cell_type": "markdown",
   "id": "00ba2d20",
   "metadata": {},
   "source": [
    "**MAE:**\n",
    "\n",
    "This is a very slight improvement over the previous models. The model is now, on average, 65.8 seconds off in its predictions, which is a reduction from the previous 69.6 seconds with the Random Forest and Gradient Boosting models.\n",
    "\n",
    "**RMSE:**\n",
    "\n",
    "The RMSE has also decreased compared to the previous ensemble model (117.83), indicating that the XGBoost model is performing better and has reduced the impact of large errors.\n",
    "\n",
    "**R²:**\n",
    "\n",
    "This is a substantial improvement from 0.247 (with the ensemble model). With an R-squared of 0,318%, the XGBoost model explains more variance in the data, which shows that it's capturing more of the underlying patterns than the previous models."
   ]
  },
  {
   "cell_type": "markdown",
   "id": "99d0a6d8",
   "metadata": {},
   "source": [
    "**Interpretation**\n",
    "\n",
    "XGBoost is performing better than the previous models (Random Forest and Gradient Boosting ensemble), particularly in terms of MAE and RMSE. The higher R-squared value also suggests that the model is now explaining more of the variance in the target variable."
   ]
  },
  {
   "cell_type": "code",
   "execution_count": null,
   "id": "4894ae14",
   "metadata": {},
   "outputs": [],
   "source": [
    "# Plot residual analysis\n",
    "plot_residuals(y_pred, y_reg_val, 'xg_reg_base')"
   ]
  },
  {
   "cell_type": "markdown",
   "id": "e93267d0",
   "metadata": {},
   "source": [
    "The plots are very similar as the Random Forest ones."
   ]
  },
  {
   "cell_type": "markdown",
   "id": "316ead70",
   "metadata": {},
   "source": [
    "#### Hyperparameter tuning"
   ]
  },
  {
   "cell_type": "code",
   "execution_count": null,
   "id": "35292701",
   "metadata": {},
   "outputs": [],
   "source": [
    "# Create a GridSearchCV object\n",
    "param_grid = {\n",
    "    'max_depth': [3, 5, 7],\n",
    "    'learning_rate': [0.01, 0.05, 0.1],\n",
    "    'n_estimators': [100, 200, 300],\n",
    "    'subsample': [0.8, 1.0],\n",
    "    'colsample_bytree': [0.8, 1.0]\n",
    "}\n",
    "\n",
    "# Create a GridSearchCV object\n",
    "grid_search = GridSearchCV(\n",
    "\t\t\t\testimator=XGBRegressor(objective='reg:squarederror', random_state=42),\n",
    "\t\t\t\tparam_grid=param_grid,\n",
    "\t\t\t\tcv=3,\n",
    "\t\t\t\tverbose=2,\n",
    "\t\t\t\tn_jobs=-1)\n",
    "\n",
    "# Fit the model\n",
    "grid_search.fit(X_train_sample, y_reg_train_sample)"
   ]
  },
  {
   "cell_type": "code",
   "execution_count": null,
   "id": "54298005",
   "metadata": {},
   "outputs": [],
   "source": [
    "# Use the best model\n",
    "xg_reg_tuned = grid_search.best_estimator_\n",
    "best_params = grid_search.best_params_"
   ]
  },
  {
   "cell_type": "code",
   "execution_count": null,
   "id": "15ee1c13",
   "metadata": {},
   "outputs": [],
   "source": [
    "# Evaluate the best model\n",
    "y_pred = xg_reg_tuned.predict(X_val)\n",
    "\n",
    "metrics_df = add_metrics(metrics_df, xg_reg_tuned, y_pred, y_reg_val, 'xg_reg_tuned')\n",
    "metrics_df[['model', 'MAE', 'RMSE', 'R²']]"
   ]
  },
  {
   "cell_type": "markdown",
   "id": "f1e99b22",
   "metadata": {},
   "source": [
    "**MAE:**\n",
    "\n",
    "This is a small improvement over the previous MAE of 65.77 seconds. The model is now, on average, 64.2 seconds off in its predictions, which is a good step forward.\n",
    "\n",
    "**RMSE:**\n",
    "\n",
    "The RMSE has decreased again, from 112.11 to 110.89 seconds, indicating that the model has become slightly more accurate, especially in handling larger errors.\n",
    "\n",
    "**R²:**\n",
    "\n",
    "The R-squared value has increased marginally from 0.318 to 0.322, suggesting that the model is now explaining a bit more of the variance in the data, which is an improvement."
   ]
  },
  {
   "cell_type": "markdown",
   "id": "ebde2069",
   "metadata": {},
   "source": [
    "#### Feature Importances"
   ]
  },
  {
   "cell_type": "code",
   "execution_count": null,
   "id": "f7ea9844",
   "metadata": {},
   "outputs": [],
   "source": [
    "xg_reg_tuned = xg_reg_base #TODO: remove this\n",
    "\n",
    "plot_importance(xg_reg_tuned, max_num_features=20)\n",
    "\n",
    "plt.tight_layout()\n",
    "plt.savefig('../images/feat_importance_xg_reg_runed.png', bbox_inches='tight')\n",
    "plt.show()"
   ]
  },
  {
   "cell_type": "markdown",
   "id": "f50240aa",
   "metadata": {},
   "source": [
    "#### SHAP Summary Plots"
   ]
  },
  {
   "cell_type": "code",
   "execution_count": null,
   "id": "21421ca2",
   "metadata": {},
   "outputs": [],
   "source": [
    "# Create explainer with smaller set\n",
    "X_val_sample = X_val[:1000]\n",
    "explainer = shap.Explainer(xg_reg_tuned, X_val_sample)\n",
    "shap_values = explainer(X_val_sample)"
   ]
  },
  {
   "cell_type": "code",
   "execution_count": null,
   "id": "4cd21b10",
   "metadata": {},
   "outputs": [],
   "source": [
    "# Summary plot (bar chart)\n",
    "shap.summary_plot(shap_values, X_val_sample, plot_type='bar', show=False)\n",
    "\n",
    "plt.title('SHAP Bar Plot (Global Impact)', fontsize=18)\n",
    "plt.tight_layout()\n",
    "plt.savefig('../images/shap_barplot_xg_reg_tuned.png', bbox_inches='tight')\n",
    "plt.show()"
   ]
  },
  {
   "cell_type": "markdown",
   "id": "d6d6aec7",
   "metadata": {},
   "source": [
    "- trip_phase_end - This feature is the most impactful. It likely represents the completion or nearing the end of the trip, significantly affecting delays.\n",
    "- stop_lon and stop_lat - Geographic location of stops has a considerable impact, which may be related to traffic patterns or specific areas prone to delays.\n",
    "- is_peak_hour - Being in peak hours naturally influences transit delays, as more congestion is expected.\n",
    "- day_of_week - Certain days might have more predictable traffic or weather conditions affecting transit.\n",
    "- stop_distance - The distance to the next stop could impact the time needed to reach it."
   ]
  },
  {
   "cell_type": "code",
   "execution_count": null,
   "id": "1174fd89",
   "metadata": {},
   "outputs": [],
   "source": [
    "# Summary plot (beeswarm: shows direction and spread)\n",
    "shap.summary_plot(shap_values, X_val_sample, show=False)\n",
    "\n",
    "plt.title('SHAP Beeswarm Plot (Local + Global Insight)', fontsize=18)\n",
    "plt.tight_layout()\n",
    "plt.savefig('../images/shap_beeswarm_plot_xg_reg_tuned.png', bbox_inches='tight')\n",
    "plt.show()"
   ]
  },
  {
   "cell_type": "markdown",
   "id": "fe23ec65",
   "metadata": {},
   "source": [
    "trip_phase_end\n",
    "\n",
    "Higher values push predictions to the right (increase in delay), while lower values reduce delay.\n",
    "\n",
    "It appears when the bus is in its final phase of the route, it tends to experience more variability, potentially linked to traffic congestion near terminals or slower navigation in dense areas.\n",
    "\n",
    "stop_lon and stop_lat\n",
    "\n",
    "The spread in SHAP values indicates strong geographic influence.\n",
    "\n",
    "Certain longitude and latitude combinations are clearly linked to either delays or smooth transit, suggesting geographical \"hotspots.\"\n",
    "\n",
    "is_peak_hour\n",
    "\n",
    "Being a peak hour (high value = red) pushes the delay higher.\n",
    "\n",
    "Non-peak hours (blue) tend to reduce delay predictions, aligning with traffic flow expectations.\n",
    "\n",
    "day_of_week\n",
    "\n",
    "There is a noticeable difference between weekdays and weekends.\n",
    "\n",
    "Specific days (possibly Mondays and Fridays) might have more congestion or disruptions.\n",
    "\n",
    "stop_distance\n",
    "\n",
    "Greater distances between stops (red) tend to push delays up, potentially because of longer travel times.\n",
    "\n",
    "Shorter distances (blue) slightly reduce delays.\n",
    "\n",
    "pressure and temperature\n",
    "\n",
    "These are quite dispersed, indicating that atmospheric pressure and temperature fluctuations can have a variable impact on travel time—likely weather-related.\n",
    "\n",
    "occupancy_status\n",
    "\n",
    "Higher occupancy (red) seems to slightly increase delays, possibly due to longer boarding times."
   ]
  },
  {
   "cell_type": "markdown",
   "id": "fa64e632",
   "metadata": {},
   "source": [
    "Key Takeaways:\n",
    "\n",
    "Geographic Coordinates (stop_lon and stop_lat) are critical in predicting delays. This could suggest congestion is region-specific.\n",
    "\n",
    "Trip Phase (trip_phase_end) is the most dominant feature—possibly because nearing the end of a trip increases variability in travel time.\n",
    "\n",
    "Peak Hours and Day of Week are critical temporal indicators of delays, consistent with real-world traffic patterns.\n",
    "\n",
    "Weather Attributes like pressure and temperature are influential but scattered, hinting at certain weather events causing spikes in delays."
   ]
  },
  {
   "cell_type": "code",
   "execution_count": null,
   "id": "d5cb129c",
   "metadata": {},
   "outputs": [],
   "source": [
    "# Force Plot (local explanation for one prediction)\n",
    "instance = X_val_sample.iloc[0:1]\n",
    "shap_values = explainer(instance)\n",
    "\n",
    "shap.initjs()\n",
    "shap.force_plot(shap_values.base_values, shap_values.values, instance, matplotlib=True, show=False)\n",
    "\n",
    "plt.title('SHAP Force Plot (local explanation for one prediction)', fontsize=18)\n",
    "plt.tight_layout()\n",
    "plt.savefig('../images/shap_force_plot_xg_reg_tuned.png', bbox_inches='tight')\n",
    "plt.show()"
   ]
  },
  {
   "cell_type": "markdown",
   "id": "90361789",
   "metadata": {},
   "source": [
    "**Positive Contributors (red)**\n",
    "\n",
    "- relative_humidity = 44.0 → Strong positive influence. High humidity often correlates with slower transit times.\n",
    "- vehicle_in_transit = 1.0 → The fact that the vehicle is currently in transit increases the prediction.\n",
    "- vehicle_bearing = 0.0 → This might be linked to its orientation on the route, possibly indicating congestion or a stop.\n",
    "- pressure = 1021.3 → This is somewhat surprising unless high pressure correlates with specific weather events.\n",
    "- stop_lon = -73.6378 → Longitude might correlate with specific regions that experience more delays.\n",
    "- stop_distance = 213.58 → Higher distance could imply more exposure to potential delays."
   ]
  },
  {
   "cell_type": "markdown",
   "id": "382a5fd3",
   "metadata": {},
   "source": [
    "**Negative Contributors (blue)**\n",
    "\n",
    "- trip_phase_end = 0 → This implies that the vehicle is still in the middle of its journey, reducing the delay expectation.\n",
    "- occupancy_status = 1.0 → If the bus is at capacity, it might be on schedule.\n",
    "- peak_hour = 0 → It's not peak hour, so less traffic is expected.\n",
    "- day_of_week = 0 → Likely indicating it's a Sunday or Monday, which may have lighter traffic."
   ]
  },
  {
   "cell_type": "markdown",
   "id": "6f37cf05",
   "metadata": {},
   "source": [
    "The model is heavily influenced by:\n",
    "\n",
    "relative humidity and vehicle_in_transit for increasing delays.\n",
    "\n",
    "trip_phase_end and occupancy_status for reducing the expected delay.\n",
    "\n",
    "relative_humidity is the strongest factor in pushing the delay higher. This is likely because weather conditions tend to have a substantial impact on transit times.\n",
    "\n",
    "The stop distance and longitude values indicate some spatial influence—perhaps certain regions are more prone to delays."
   ]
  },
  {
   "cell_type": "markdown",
   "id": "e5e160d6",
   "metadata": {},
   "source": [
    "## Classification Model"
   ]
  },
  {
   "cell_type": "markdown",
   "id": "297898fb",
   "metadata": {},
   "source": [
    "## Final Model"
   ]
  },
  {
   "cell_type": "markdown",
   "id": "8f3e0a58",
   "metadata": {},
   "source": [
    "### Evaluation"
   ]
  },
  {
   "cell_type": "markdown",
   "id": "3a56472c",
   "metadata": {},
   "source": [
    "### Make Prediction"
   ]
  },
  {
   "cell_type": "raw",
   "id": "c66b3363",
   "metadata": {
    "vscode": {
     "languageId": "raw"
    }
   },
   "source": [
    "# Assign boolean values to weather columns\n",
    "df.iloc[7682, [26, 27]] = pd.DataFrame([(-69.61993646456422, 135.35999999837352)])"
   ]
  },
  {
   "cell_type": "raw",
   "id": "129df367",
   "metadata": {
    "vscode": {
     "languageId": "raw"
    }
   },
   "source": [
    "# Use forecast API (up to 2 weeks)"
   ]
  },
  {
   "cell_type": "raw",
   "id": "7aad8a0a",
   "metadata": {
    "vscode": {
     "languageId": "raw"
    }
   },
   "source": [
    "with open('models/encoders.pickle', 'rb') as handle:\n",
    "    encoders = pickle.load(handle)"
   ]
  },
  {
   "cell_type": "raw",
   "id": "f926e18d",
   "metadata": {
    "vscode": {
     "languageId": "raw"
    }
   },
   "source": [
    "# Export metrics\n",
    "metrics_df.to_csv('../data/model_metrics.csv', index=False)"
   ]
  },
  {
   "cell_type": "markdown",
   "id": "66d6a2fa",
   "metadata": {},
   "source": [
    "## End"
   ]
  }
 ],
 "metadata": {
  "kernelspec": {
   "display_name": "venv",
   "language": "python",
   "name": "python3"
  },
  "language_info": {
   "codemirror_mode": {
    "name": "ipython",
    "version": 3
   },
   "file_extension": ".py",
   "mimetype": "text/x-python",
   "name": "python",
   "nbconvert_exporter": "python",
   "pygments_lexer": "ipython3",
   "version": "3.13.3"
  }
 },
 "nbformat": 4,
 "nbformat_minor": 5
}
