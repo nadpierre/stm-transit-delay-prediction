{
 "cells": [
  {
   "cell_type": "code",
   "execution_count": null,
   "id": "f2dded95",
   "metadata": {},
   "outputs": [],
   "source": [
    "import pickle"
   ]
  },
  {
   "cell_type": "code",
   "execution_count": null,
   "id": "bbc0e6c3",
   "metadata": {},
   "outputs": [],
   "source": [
    "with open('models/label_encoders.pickle', 'rb') as handle:\n",
    "    encoders = pickle.load(handle)"
   ]
  },
  {
   "cell_type": "markdown",
   "id": "6bc11b74",
   "metadata": {},
   "source": [
    "### Split the data"
   ]
  },
  {
   "cell_type": "raw",
   "id": "fc3d72ff",
   "metadata": {},
   "source": [
    "(Optional) Feature Importance\n",
    "\n",
    "Use model.feature_importances_ to see which variables matter most\n",
    "\n",
    "Useful for interpretation\n",
    "\n",
    "Use SHAP value"
   ]
  }
 ],
 "metadata": {
  "language_info": {
   "name": "python"
  }
 },
 "nbformat": 4,
 "nbformat_minor": 5
}
