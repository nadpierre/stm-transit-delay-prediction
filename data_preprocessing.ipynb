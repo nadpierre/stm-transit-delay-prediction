{
 "cells": [
  {
   "cell_type": "markdown",
   "id": "7a883801",
   "metadata": {},
   "source": [
    "# STM Transit Delay Data Preprocessing"
   ]
  },
  {
   "cell_type": "markdown",
   "id": "13f950b4",
   "metadata": {},
   "source": [
    "This notebook preprocesses data about STM trip updates and historical weather data."
   ]
  },
  {
   "cell_type": "markdown",
   "id": "51775b74",
   "metadata": {},
   "source": [
    "## Data Description"
   ]
  },
  {
   "cell_type": "markdown",
   "id": "f39d1571",
   "metadata": {},
   "source": [
    "`trip_id` unique identifier of a trip<br>\n",
    "`route_id` bus or metro line<br>\n",
    "`stop_id` stop number<br>\n",
    "`stop_lat`stop latitude<br>\n",
    "`stop_lon`stop longitude<br>\n",
    "`stop_sequence` sequence of the stop, for ordering<br>\n",
    "`wheelchair_boarding` indicates if the stop is accessible for people in wheelchair, 1 being true and 2 being false<br>\n",
    "`realtime_arrival_time` actual arrival time, in milliseconds<br>\n",
    "`scheduled_arrival_time` planned arrival time, in milliseconds<br>\n",
    "`temperature` air temperature at 2 meters above ground, in Celsius<br>\n",
    "`precipitation` total precipitation (rain, showers, snow) sum of the preceding hour, in millimeters<br>\n",
    "`windspeed` wind speed at 10 meters above ground, in km/h<br>\n",
    "`weathercode` weather condition as a numeric code<br>\n",
    "`delay` difference between actual and planned arrival time, in seconds<br>\n",
    "`delay_previous_stop` delay of the previous stop<br>\n",
    "`is_holiday` indicates if the day of the trip is a holiday"
   ]
  },
  {
   "cell_type": "markdown",
   "id": "05c49de4",
   "metadata": {},
   "source": [
    "## Imports"
   ]
  },
  {
   "cell_type": "code",
   "execution_count": 91,
   "id": "e5094a27",
   "metadata": {},
   "outputs": [],
   "source": [
    "import numpy as np\n",
    "import pandas as pd\n",
    "import pickle\n",
    "from scripts.custom_functions import WEATHER_CODES\n",
    "from sklearn.preprocessing import LabelEncoder"
   ]
  },
  {
   "cell_type": "code",
   "execution_count": 92,
   "id": "35f83fbc",
   "metadata": {},
   "outputs": [],
   "source": [
    "# Set timezone\n",
    "local_timezone = 'Canada/Eastern'"
   ]
  },
  {
   "cell_type": "markdown",
   "id": "6e3eb13f",
   "metadata": {},
   "source": [
    "## Data Preprocessing"
   ]
  },
  {
   "cell_type": "code",
   "execution_count": 93,
   "id": "6fc8a41e",
   "metadata": {},
   "outputs": [],
   "source": [
    "# Load data\n",
    "df = pd.read_csv('data/stm_weather_merged.csv')"
   ]
  },
  {
   "cell_type": "markdown",
   "id": "f5637dee",
   "metadata": {},
   "source": [
    "### Drop Unnecessary Columns"
   ]
  },
  {
   "cell_type": "code",
   "execution_count": 94,
   "id": "cc9bab0d",
   "metadata": {},
   "outputs": [],
   "source": [
    "# Drop scheduled_arrival_time, as there's already the delay\n",
    "df = df.drop('scheduled_arrival_time', axis=1)"
   ]
  },
  {
   "cell_type": "markdown",
   "id": "bf2977d0",
   "metadata": {},
   "source": [
    "### Encode Datetime"
   ]
  },
  {
   "cell_type": "code",
   "execution_count": 95,
   "id": "f00cdc1f",
   "metadata": {},
   "outputs": [
    {
     "data": {
      "text/plain": [
       "0   2025-04-23 04:53:56-04:00\n",
       "1   2025-04-23 04:54:42-04:00\n",
       "2   2025-04-23 04:55:08-04:00\n",
       "3   2025-04-23 04:55:35-04:00\n",
       "4   2025-04-23 04:56:00-04:00\n",
       "Name: realtime_arrival_time, dtype: datetime64[ns, Canada/Eastern]"
      ]
     },
     "execution_count": 95,
     "metadata": {},
     "output_type": "execute_result"
    }
   ],
   "source": [
    "# Convert realtime arrival timestamp to datetime\n",
    "rt_arrival_dt = pd.to_datetime(df['realtime_arrival_time'], origin='unix', unit='ms', utc=True)\n",
    "rt_arrival_dt = rt_arrival_dt.dt.tz_convert(local_timezone)\n",
    "rt_arrival_dt.head()"
   ]
  },
  {
   "cell_type": "code",
   "execution_count": 96,
   "id": "1fd200a3",
   "metadata": {},
   "outputs": [],
   "source": [
    "# Convert datetime to useful features\n",
    "df['day_of_week'] = rt_arrival_dt.dt.day_of_week\n",
    "df['hour_of_day'] = rt_arrival_dt.dt.hour"
   ]
  },
  {
   "cell_type": "code",
   "execution_count": 97,
   "id": "ead16beb",
   "metadata": {},
   "outputs": [],
   "source": [
    "# Use Cyclical Encoding for day and month, as it's more suitable for time-related features\n",
    "# And the model can \"understand\" the wrap-around\n",
    "df['day_sin'] = np.sin(2 * np.pi * df['day_of_week'] / 7)\n",
    "df['day_cos'] = np.cos(2 * np.pi * df['day_of_week'] / 7)\n",
    "\n",
    "df['hour_sin'] = np.sin(2 * np.pi * df['hour_of_day'] / 24)\n",
    "df['hour_cos'] = np.cos(2 * np.pi * df['hour_of_day'] / 24)"
   ]
  },
  {
   "cell_type": "code",
   "execution_count": 98,
   "id": "84ef1b88",
   "metadata": {},
   "outputs": [],
   "source": [
    "# Add boolean value is_weekend\n",
    "df['is_weekend'] = np.where(df['day_of_week'].isin([5, 6]), 1, 0)"
   ]
  },
  {
   "cell_type": "code",
   "execution_count": 99,
   "id": "6a7aa507",
   "metadata": {},
   "outputs": [],
   "source": [
    "# Add boolean value is_peak_hour (from 7-9am or 4-6pm)\n",
    "peak_hour_mask = (df['hour_of_day'].isin([7, 8, 9])) | (df['hour_of_day'].isin([16, 17, 18]))\n",
    "df['is_peak_hour'] = np.where(peak_hour_mask, 1, 0)"
   ]
  },
  {
   "cell_type": "code",
   "execution_count": 100,
   "id": "a7dd63ed",
   "metadata": {},
   "outputs": [],
   "source": [
    "# Drop unneeded columns\n",
    "df = df.drop(['realtime_arrival_time', 'day_of_week', 'hour_of_day'], axis=1)"
   ]
  },
  {
   "cell_type": "markdown",
   "id": "94fd3a43",
   "metadata": {},
   "source": [
    "### Convert boolean columns to integer"
   ]
  },
  {
   "cell_type": "code",
   "execution_count": 101,
   "id": "865b3f62",
   "metadata": {},
   "outputs": [
    {
     "data": {
      "text/plain": [
       "Index(['wheelchair_boarding', 'is_holiday'], dtype='object')"
      ]
     },
     "execution_count": 101,
     "metadata": {},
     "output_type": "execute_result"
    }
   ],
   "source": [
    "bool_columns = df.select_dtypes(include='bool').columns\n",
    "bool_columns"
   ]
  },
  {
   "cell_type": "code",
   "execution_count": 102,
   "id": "3c370ed4",
   "metadata": {},
   "outputs": [],
   "source": [
    "df[bool_columns] = df[bool_columns].astype('int64')"
   ]
  },
  {
   "cell_type": "markdown",
   "id": "b208b55d",
   "metadata": {},
   "source": [
    "### Use Label Encoding for route_id and stop_id"
   ]
  },
  {
   "cell_type": "code",
   "execution_count": 103,
   "id": "2060fe42",
   "metadata": {},
   "outputs": [],
   "source": [
    "le_route = LabelEncoder()\n",
    "df['route_id'] = le_route.fit_transform(df['route_id'])"
   ]
  },
  {
   "cell_type": "code",
   "execution_count": 104,
   "id": "c9d1c547",
   "metadata": {},
   "outputs": [],
   "source": [
    "le_stop = LabelEncoder()\n",
    "df['stop_id'] = le_stop.fit_transform(df['stop_id'])"
   ]
  },
  {
   "cell_type": "markdown",
   "id": "227505d8",
   "metadata": {},
   "source": [
    "### Convert weathercode Into Categories"
   ]
  },
  {
   "cell_type": "code",
   "execution_count": 105,
   "id": "600214ee",
   "metadata": {},
   "outputs": [],
   "source": [
    "# Create mapping\n",
    "weathercodes = df['weathercode'].sort_values().unique()\n",
    "condition_list = []\n",
    "label_list = []\n",
    "\n",
    "for code in weathercodes:\n",
    "  condition_list.append(df['weathercode'] == code)\n",
    "  label_list.append(WEATHER_CODES[code])"
   ]
  },
  {
   "cell_type": "code",
   "execution_count": 106,
   "id": "d4faa15c",
   "metadata": {},
   "outputs": [],
   "source": [
    "# Create categories\n",
    "df['weather'] = np.select(condition_list, label_list, default='Unknown')"
   ]
  },
  {
   "cell_type": "code",
   "execution_count": 107,
   "id": "8f65f239",
   "metadata": {},
   "outputs": [],
   "source": [
    "# Use One Hot Encoding\n",
    "one_hot = pd.get_dummies(df['weather'], drop_first=True, dtype='int64', prefix='weather')\n",
    "df = df.drop(['weathercode', 'weather'], axis=1).join(one_hot)"
   ]
  },
  {
   "cell_type": "code",
   "execution_count": 108,
   "id": "a1a5b2cf",
   "metadata": {},
   "outputs": [
    {
     "data": {
      "text/plain": [
       "Index(['trip_id', 'route_id', 'stop_id', 'stop_lat', 'stop_lon',\n",
       "       'stop_sequence', 'wheelchair_boarding', 'temperature', 'precipitation',\n",
       "       'windspeed', 'delay', 'delay_previous_stop', 'is_holiday', 'day_sin',\n",
       "       'day_cos', 'hour_sin', 'hour_cos', 'is_weekend', 'is_peak_hour',\n",
       "       'weather_Light drizzle', 'weather_Mainly clear',\n",
       "       'weather_Moderate drizzle', 'weather_Moderate rain', 'weather_Overcast',\n",
       "       'weather_Partly cloudy', 'weather_Slight rain'],\n",
       "      dtype='object')"
      ]
     },
     "execution_count": 108,
     "metadata": {},
     "output_type": "execute_result"
    }
   ],
   "source": [
    "df.columns"
   ]
  },
  {
   "cell_type": "code",
   "execution_count": null,
   "id": "51ac6105",
   "metadata": {},
   "outputs": [],
   "source": [
    "# Keep relevant columns and reorder them\n",
    "df = df[[\n",
    "  'route_id',\n",
    "  'stop_id',\n",
    "  'stop_lat',\n",
    "  'stop_lon',\n",
    "  'wheelchair_boarding',\n",
    "  'day_sin',\n",
    "  'day_cos',\n",
    "  'hour_sin',\n",
    "  'hour_cos',\n",
    "  'is_weekend',\n",
    "  'is_holiday',\n",
    "  'is_peak_hour',\n",
    "  'delay_previous_stop',\n",
    "  'temperature',\n",
    "  'precipitation',\n",
    "  'windspeed',\n",
    "  'weather_Light drizzle',\n",
    "  'weather_Mainly clear',\n",
    "  'weather_Moderate drizzle',\n",
    "  'weather_Moderate rain',\n",
    "  'weather_Overcast',\n",
    "  'weather_Partly cloudy',\n",
    "  'weather_Slight rain',\n",
    "  'delay',\n",
    "  ]]"
   ]
  },
  {
   "cell_type": "code",
   "execution_count": 110,
   "id": "39ec1e75",
   "metadata": {},
   "outputs": [
    {
     "name": "stdout",
     "output_type": "stream",
     "text": [
      "<class 'pandas.core.frame.DataFrame'>\n",
      "RangeIndex: 951210 entries, 0 to 951209\n",
      "Data columns (total 24 columns):\n",
      " #   Column                    Non-Null Count   Dtype  \n",
      "---  ------                    --------------   -----  \n",
      " 0   route_id                  951210 non-null  int64  \n",
      " 1   stop_id                   951210 non-null  int64  \n",
      " 2   stop_lat                  951210 non-null  float64\n",
      " 3   stop_lon                  951210 non-null  float64\n",
      " 4   wheelchair_boarding       951210 non-null  int64  \n",
      " 5   day_sin                   951210 non-null  float64\n",
      " 6   day_cos                   951210 non-null  float64\n",
      " 7   hour_sin                  951210 non-null  float64\n",
      " 8   hour_cos                  951210 non-null  float64\n",
      " 9   is_weekend                951210 non-null  int64  \n",
      " 10  is_holiday                951210 non-null  int64  \n",
      " 11  is_peak_hour              951210 non-null  int64  \n",
      " 12  delay_previous_stop       951210 non-null  float64\n",
      " 13  temperature               951210 non-null  float64\n",
      " 14  precipitation             951210 non-null  float64\n",
      " 15  windspeed                 951210 non-null  float64\n",
      " 16  weather_Light drizzle     951210 non-null  int64  \n",
      " 17  weather_Mainly clear      951210 non-null  int64  \n",
      " 18  weather_Moderate drizzle  951210 non-null  int64  \n",
      " 19  weather_Moderate rain     951210 non-null  int64  \n",
      " 20  weather_Overcast          951210 non-null  int64  \n",
      " 21  weather_Partly cloudy     951210 non-null  int64  \n",
      " 22  weather_Slight rain       951210 non-null  int64  \n",
      " 23  delay                     951210 non-null  float64\n",
      "dtypes: float64(11), int64(13)\n",
      "memory usage: 174.2 MB\n"
     ]
    }
   ],
   "source": [
    "df.info()"
   ]
  },
  {
   "cell_type": "code",
   "execution_count": 111,
   "id": "a19ed45e",
   "metadata": {},
   "outputs": [],
   "source": [
    "# Export route label encoder and stop label encoder\n",
    "encoders = {\n",
    "  'le_route': le_route,\n",
    "  'le_stop': le_stop\n",
    "}\n",
    "with open('models/encoders.pickle', 'wb') as handle:\n",
    "    pickle.dump(encoders, handle, protocol=pickle.HIGHEST_PROTOCOL)"
   ]
  },
  {
   "cell_type": "code",
   "execution_count": 112,
   "id": "2344b1d2",
   "metadata": {},
   "outputs": [],
   "source": [
    "# Export dataframe\n",
    "df.to_csv('data/preprocessed.csv', index=False)"
   ]
  },
  {
   "cell_type": "markdown",
   "id": "2d2fc389",
   "metadata": {},
   "source": [
    "## End"
   ]
  }
 ],
 "metadata": {
  "kernelspec": {
   "display_name": "base",
   "language": "python",
   "name": "python3"
  },
  "language_info": {
   "codemirror_mode": {
    "name": "ipython",
    "version": 3
   },
   "file_extension": ".py",
   "mimetype": "text/x-python",
   "name": "python",
   "nbconvert_exporter": "python",
   "pygments_lexer": "ipython3",
   "version": "3.12.4"
  }
 },
 "nbformat": 4,
 "nbformat_minor": 5
}
